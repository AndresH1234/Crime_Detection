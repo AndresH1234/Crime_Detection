{
 "cells": [
  {
   "cell_type": "markdown",
   "metadata": {},
   "source": [
    "# Exploratory Data Analysis"
   ]
  },
  {
   "cell_type": "code",
   "execution_count": 4,
   "metadata": {},
   "outputs": [],
   "source": [
    "import pandas as pd\n",
    "import sys\n",
    "import os\n",
    "\n",
    "# Agrega el path al directorio raíz del proyecto\n",
    "sys.path.append(os.path.abspath(\"..\"))\n",
    "\n",
    "# Importar la clase par ver duplicados\n",
    "from scripts.duplicados import Duplicados\n",
    "from scripts.blackAndWhite import BlackAndWhite"
   ]
  },
  {
   "cell_type": "code",
   "execution_count": 5,
   "metadata": {},
   "outputs": [],
   "source": [
    "# Extraer datos de un archivo CSV\n",
    "df = pd.read_csv('../data/raw/eventos.csv')\n",
    "normal = pd.read_csv('../data/raw/normal.csv')"
   ]
  },
  {
   "cell_type": "code",
   "execution_count": 77,
   "metadata": {},
   "outputs": [],
   "source": [
    "import cv2\n",
    "# Crea una función para ver la duración de cada video \n",
    "def duracion_video(video, evento):\n",
    "    video_path = f\"../data/Anomaly-Detection-Dataset/Anomaly-Videos/{evento}/{video}\"\n",
    "    cap = cv2.VideoCapture(video_path)\n",
    "    fps = cap.get(cv2.CAP_PROP_FPS)\n",
    "    frame_count = int(cap.get(cv2.CAP_PROP_FRAME_COUNT))\n",
    "    duracion = frame_count/fps\n",
    "    return duracion"
   ]
  },
  {
   "cell_type": "markdown",
   "metadata": {},
   "source": [
    "## Resumen de datos"
   ]
  },
  {
   "cell_type": "code",
   "execution_count": 6,
   "metadata": {},
   "outputs": [
    {
     "data": {
      "text/html": [
       "<div>\n",
       "<style scoped>\n",
       "    .dataframe tbody tr th:only-of-type {\n",
       "        vertical-align: middle;\n",
       "    }\n",
       "\n",
       "    .dataframe tbody tr th {\n",
       "        vertical-align: top;\n",
       "    }\n",
       "\n",
       "    .dataframe thead th {\n",
       "        text-align: right;\n",
       "    }\n",
       "</style>\n",
       "<table border=\"1\" class=\"dataframe\">\n",
       "  <thead>\n",
       "    <tr style=\"text-align: right;\">\n",
       "      <th></th>\n",
       "      <th>Video</th>\n",
       "      <th>Evento</th>\n",
       "      <th>PCB</th>\n",
       "      <th>Start_Frame</th>\n",
       "      <th>End_Frame</th>\n",
       "    </tr>\n",
       "  </thead>\n",
       "  <tbody>\n",
       "    <tr>\n",
       "      <th>0</th>\n",
       "      <td>Abuse001_x264.mp4</td>\n",
       "      <td>Abuse</td>\n",
       "      <td>237.0</td>\n",
       "      <td>327.0</td>\n",
       "      <td>397.0</td>\n",
       "    </tr>\n",
       "    <tr>\n",
       "      <th>1</th>\n",
       "      <td>Abuse002_x264.mp4</td>\n",
       "      <td>Abuse</td>\n",
       "      <td>NaN</td>\n",
       "      <td>174.0</td>\n",
       "      <td>266.0</td>\n",
       "    </tr>\n",
       "    <tr>\n",
       "      <th>2</th>\n",
       "      <td>Abuse003_x264.mp4</td>\n",
       "      <td>Abuse</td>\n",
       "      <td>351.0</td>\n",
       "      <td>951.0</td>\n",
       "      <td>3614.0</td>\n",
       "    </tr>\n",
       "    <tr>\n",
       "      <th>3</th>\n",
       "      <td>Abuse004_x264.mp4</td>\n",
       "      <td>Abuse</td>\n",
       "      <td>558.0</td>\n",
       "      <td>898.0</td>\n",
       "      <td>5779.0</td>\n",
       "    </tr>\n",
       "    <tr>\n",
       "      <th>4</th>\n",
       "      <td>Abuse005_x264.mp4</td>\n",
       "      <td>Abuse</td>\n",
       "      <td>210.0</td>\n",
       "      <td>717.0</td>\n",
       "      <td>933.0</td>\n",
       "    </tr>\n",
       "  </tbody>\n",
       "</table>\n",
       "</div>"
      ],
      "text/plain": [
       "               Video Evento    PCB  Start_Frame  End_Frame\n",
       "0  Abuse001_x264.mp4  Abuse  237.0        327.0      397.0\n",
       "1  Abuse002_x264.mp4  Abuse    NaN        174.0      266.0\n",
       "2  Abuse003_x264.mp4  Abuse  351.0        951.0     3614.0\n",
       "3  Abuse004_x264.mp4  Abuse  558.0        898.0     5779.0\n",
       "4  Abuse005_x264.mp4  Abuse  210.0        717.0      933.0"
      ]
     },
     "execution_count": 6,
     "metadata": {},
     "output_type": "execute_result"
    }
   ],
   "source": [
    "df.head()"
   ]
  },
  {
   "cell_type": "code",
   "execution_count": 7,
   "metadata": {},
   "outputs": [
    {
     "name": "stdout",
     "output_type": "stream",
     "text": [
      "<class 'pandas.core.frame.DataFrame'>\n",
      "RangeIndex: 700 entries, 0 to 699\n",
      "Data columns (total 5 columns):\n",
      " #   Column       Non-Null Count  Dtype  \n",
      "---  ------       --------------  -----  \n",
      " 0   Video        700 non-null    object \n",
      " 1   Evento       700 non-null    object \n",
      " 2   PCB          194 non-null    float64\n",
      " 3   Start_Frame  340 non-null    float64\n",
      " 4   End_Frame    340 non-null    float64\n",
      "dtypes: float64(3), object(2)\n",
      "memory usage: 27.5+ KB\n"
     ]
    }
   ],
   "source": [
    "df.info()"
   ]
  },
  {
   "cell_type": "markdown",
   "metadata": {},
   "source": [
    "### Nulos"
   ]
  },
  {
   "cell_type": "code",
   "execution_count": 8,
   "metadata": {},
   "outputs": [
    {
     "data": {
      "text/plain": [
       "Video            0\n",
       "Evento           0\n",
       "PCB            506\n",
       "Start_Frame    360\n",
       "End_Frame      360\n",
       "dtype: int64"
      ]
     },
     "execution_count": 8,
     "metadata": {},
     "output_type": "execute_result"
    }
   ],
   "source": [
    "df.isna().sum()"
   ]
  },
  {
   "cell_type": "code",
   "execution_count": 9,
   "metadata": {},
   "outputs": [
    {
     "data": {
      "text/plain": [
       "146"
      ]
     },
     "execution_count": 9,
     "metadata": {},
     "output_type": "execute_result"
    }
   ],
   "source": [
    "# Si Start_Frame no es nulo, cuantos PCB son nulos\n",
    "df[df['Start_Frame'].notnull()]['PCB'].isna().sum()"
   ]
  },
  {
   "cell_type": "code",
   "execution_count": 10,
   "metadata": {},
   "outputs": [
    {
     "data": {
      "text/plain": [
       "360"
      ]
     },
     "execution_count": 10,
     "metadata": {},
     "output_type": "execute_result"
    }
   ],
   "source": [
    "506-146"
   ]
  },
  {
   "cell_type": "code",
   "execution_count": 11,
   "metadata": {},
   "outputs": [],
   "source": [
    "# Elimina todos los registros donde Start_Frame es nulo\n",
    "df = df[df['Start_Frame'].notnull()]"
   ]
  },
  {
   "cell_type": "code",
   "execution_count": 12,
   "metadata": {},
   "outputs": [
    {
     "data": {
      "text/plain": [
       "Video            0\n",
       "Evento           0\n",
       "PCB            146\n",
       "Start_Frame      0\n",
       "End_Frame        0\n",
       "dtype: int64"
      ]
     },
     "execution_count": 12,
     "metadata": {},
     "output_type": "execute_result"
    }
   ],
   "source": [
    "df.isna().sum()"
   ]
  },
  {
   "cell_type": "code",
   "execution_count": 13,
   "metadata": {},
   "outputs": [],
   "source": [
    "# Rellena los nulos con 0\n",
    "df = df.fillna(0)"
   ]
  },
  {
   "cell_type": "code",
   "execution_count": 14,
   "metadata": {},
   "outputs": [
    {
     "data": {
      "text/plain": [
       "Video          0\n",
       "Evento         0\n",
       "PCB            0\n",
       "Start_Frame    0\n",
       "End_Frame      0\n",
       "dtype: int64"
      ]
     },
     "execution_count": 14,
     "metadata": {},
     "output_type": "execute_result"
    }
   ],
   "source": [
    "df.isna().sum()"
   ]
  },
  {
   "cell_type": "code",
   "execution_count": 15,
   "metadata": {},
   "outputs": [
    {
     "data": {
      "text/plain": [
       "(340, 5)"
      ]
     },
     "execution_count": 15,
     "metadata": {},
     "output_type": "execute_result"
    }
   ],
   "source": [
    "df.shape"
   ]
  },
  {
   "cell_type": "markdown",
   "metadata": {},
   "source": [
    "### Duplicados"
   ]
  },
  {
   "cell_type": "code",
   "execution_count": 16,
   "metadata": {},
   "outputs": [
    {
     "data": {
      "text/plain": [
       "0"
      ]
     },
     "execution_count": 16,
     "metadata": {},
     "output_type": "execute_result"
    }
   ],
   "source": [
    "# Ver los duplicados\n",
    "df.duplicated().sum()"
   ]
  },
  {
   "cell_type": "code",
   "execution_count": 17,
   "metadata": {},
   "outputs": [],
   "source": [
    "# Ver los duplicados \n",
    "duplicados = Duplicados(\"../data/Anomaly-Detection-Dataset/Anomaly-Videos\",df)"
   ]
  },
  {
   "cell_type": "code",
   "execution_count": 18,
   "metadata": {},
   "outputs": [
    {
     "name": "stdout",
     "output_type": "stream",
     "text": [
      "[DUPLICADO] Robbery138_x264.mp4 es similar a Assault050_x264.mp4\n"
     ]
    }
   ],
   "source": [
    "df_duplicados = duplicados.encontrar_duplicados()"
   ]
  },
  {
   "cell_type": "markdown",
   "metadata": {},
   "source": [
    "## Análisis Univariado"
   ]
  },
  {
   "cell_type": "code",
   "execution_count": 19,
   "metadata": {},
   "outputs": [
    {
     "data": {
      "text/plain": [
       "<Axes: >"
      ]
     },
     "execution_count": 19,
     "metadata": {},
     "output_type": "execute_result"
    },
    {
     "data": {
      "image/png": "[encoded data removed]",
      "text/plain": [
       "<Figure size 640x480 with 1 Axes>"
      ]
     },
     "metadata": {},
     "output_type": "display_data"
    }
   ],
   "source": [
    "# Histograma de PCB\n",
    "df['PCB'].hist()"
   ]
  },
  {
   "cell_type": "code",
   "execution_count": 20,
   "metadata": {},
   "outputs": [
    {
     "data": {
      "text/plain": [
       "<Axes: >"
      ]
     },
     "execution_count": 20,
     "metadata": {},
     "output_type": "execute_result"
    },
    {
     "data": {
      "image/png": "[encoded data removed]",
      "text/plain": [
       "<Figure size 640x480 with 1 Axes>"
      ]
     },
     "metadata": {},
     "output_type": "display_data"
    }
   ],
   "source": [
    "# Histograma de Start_Frame\n",
    "df['Start_Frame'].hist()"
   ]
  },
  {
   "cell_type": "code",
   "execution_count": 21,
   "metadata": {},
   "outputs": [
    {
     "data": {
      "text/plain": [
       "<Axes: >"
      ]
     },
     "execution_count": 21,
     "metadata": {},
     "output_type": "execute_result"
    },
    {
     "data": {
      "image/png": "[encoded data removed]",
      "text/plain": [
       "<Figure size 640x480 with 1 Axes>"
      ]
     },
     "metadata": {},
     "output_type": "display_data"
    }
   ],
   "source": [
    "# Histograma de End_Frame\n",
    "df['End_Frame'].hist()"
   ]
  },
  {
   "cell_type": "code",
   "execution_count": 22,
   "metadata": {},
   "outputs": [],
   "source": [
    "# Crea columna diferencia y resta Start_Frame - PCB\n",
    "df['diferencia'] = df['Start_Frame'] - df['PCB']"
   ]
  },
  {
   "cell_type": "code",
   "execution_count": 23,
   "metadata": {},
   "outputs": [
    {
     "data": {
      "text/plain": [
       "<Axes: >"
      ]
     },
     "execution_count": 23,
     "metadata": {},
     "output_type": "execute_result"
    },
    {
     "data": {
      "image/png": "[encoded data removed]",
      "text/plain": [
       "<Figure size 640x480 with 1 Axes>"
      ]
     },
     "metadata": {},
     "output_type": "display_data"
    }
   ],
   "source": [
    "# Histograma de la columna diferencia\n",
    "df['diferencia'].hist()"
   ]
  },
  {
   "cell_type": "code",
   "execution_count": 24,
   "metadata": {},
   "outputs": [
    {
     "data": {
      "text/plain": [
       "<Axes: xlabel='Evento'>"
      ]
     },
     "execution_count": 24,
     "metadata": {},
     "output_type": "execute_result"
    },
    {
     "data": {
      "image/png": "[encoded data removed]",
      "text/plain": [
       "<Figure size 640x480 with 1 Axes>"
      ]
     },
     "metadata": {},
     "output_type": "display_data"
    }
   ],
   "source": [
    "# Histograma de la columna Evento\n",
    "df['Evento'].value_counts().plot(kind='bar')"
   ]
  },
  {
   "cell_type": "code",
   "execution_count": 25,
   "metadata": {},
   "outputs": [
    {
     "data": {
      "text/plain": [
       "(340, 6)"
      ]
     },
     "execution_count": 25,
     "metadata": {},
     "output_type": "execute_result"
    }
   ],
   "source": [
    "df.shape"
   ]
  },
  {
   "cell_type": "code",
   "execution_count": 26,
   "metadata": {},
   "outputs": [],
   "source": [
    "duplicados = Duplicados(\"../data/Anomaly-Detection-Dataset/Anomaly-Videos\",df)"
   ]
  },
  {
   "cell_type": "code",
   "execution_count": 27,
   "metadata": {},
   "outputs": [
    {
     "name": "stdout",
     "output_type": "stream",
     "text": [
      "[DUPLICADO] Robbery138_x264.mp4 es similar a Assault050_x264.mp4\n"
     ]
    },
    {
     "data": {
      "text/html": [
       "<div>\n",
       "<style scoped>\n",
       "    .dataframe tbody tr th:only-of-type {\n",
       "        vertical-align: middle;\n",
       "    }\n",
       "\n",
       "    .dataframe tbody tr th {\n",
       "        vertical-align: top;\n",
       "    }\n",
       "\n",
       "    .dataframe thead th {\n",
       "        text-align: right;\n",
       "    }\n",
       "</style>\n",
       "<table border=\"1\" class=\"dataframe\">\n",
       "  <thead>\n",
       "    <tr style=\"text-align: right;\">\n",
       "      <th></th>\n",
       "      <th>Video</th>\n",
       "      <th>Evento</th>\n",
       "      <th>PCB</th>\n",
       "      <th>Start_Frame</th>\n",
       "      <th>End_Frame</th>\n",
       "      <th>diferencia</th>\n",
       "    </tr>\n",
       "  </thead>\n",
       "  <tbody>\n",
       "    <tr>\n",
       "      <th>437</th>\n",
       "      <td>Robbery138_x264.mp4</td>\n",
       "      <td>Robbery</td>\n",
       "      <td>0.0</td>\n",
       "      <td>86.0</td>\n",
       "      <td>623.0</td>\n",
       "      <td>86.0</td>\n",
       "    </tr>\n",
       "  </tbody>\n",
       "</table>\n",
       "</div>"
      ],
      "text/plain": [
       "                   Video   Evento  PCB  Start_Frame  End_Frame  diferencia\n",
       "437  Robbery138_x264.mp4  Robbery  0.0         86.0      623.0        86.0"
      ]
     },
     "execution_count": 27,
     "metadata": {},
     "output_type": "execute_result"
    }
   ],
   "source": [
    "duplicados.encontrar_duplicados()"
   ]
  },
  {
   "cell_type": "code",
   "execution_count": 28,
   "metadata": {},
   "outputs": [],
   "source": [
    "bw_videos = BlackAndWhite(\"../data/Anomaly-Detection-Dataset/Anomaly-Videos\", df)"
   ]
  },
  {
   "cell_type": "code",
   "execution_count": 29,
   "metadata": {},
   "outputs": [
    {
     "name": "stdout",
     "output_type": "stream",
     "text": [
      "[Blanco y Negro] Video: Arson006_x264.mp4\n",
      "[Blanco y Negro] Video: Arson036_x264.mp4\n",
      "[Blanco y Negro] Video: Assault014_x264.mp4\n",
      "[Blanco y Negro] Video: Assault017_x264.mp4\n",
      "[Blanco y Negro] Video: Burglary022_x264.mp4\n",
      "[Blanco y Negro] Video: Stealing020_x264.mp4\n",
      "[Blanco y Negro] Video: Stealing061_x264.mp4\n",
      "[Blanco y Negro] Video: Stealing075_x264.mp4\n",
      "[Blanco y Negro] Video: Stealing102_x264.mp4\n"
     ]
    }
   ],
   "source": [
    "df_bw = bw_videos.encontrar_bw()"
   ]
  },
  {
   "cell_type": "code",
   "execution_count": 30,
   "metadata": {},
   "outputs": [
    {
     "data": {
      "text/html": [
       "<div>\n",
       "<style scoped>\n",
       "    .dataframe tbody tr th:only-of-type {\n",
       "        vertical-align: middle;\n",
       "    }\n",
       "\n",
       "    .dataframe tbody tr th {\n",
       "        vertical-align: top;\n",
       "    }\n",
       "\n",
       "    .dataframe thead th {\n",
       "        text-align: right;\n",
       "    }\n",
       "</style>\n",
       "<table border=\"1\" class=\"dataframe\">\n",
       "  <thead>\n",
       "    <tr style=\"text-align: right;\">\n",
       "      <th></th>\n",
       "      <th>Video</th>\n",
       "      <th>Evento</th>\n",
       "      <th>PCB</th>\n",
       "      <th>Start_Frame</th>\n",
       "      <th>End_Frame</th>\n",
       "      <th>diferencia</th>\n",
       "    </tr>\n",
       "  </thead>\n",
       "  <tbody>\n",
       "    <tr>\n",
       "      <th>54</th>\n",
       "      <td>Arson006_x264.mp4</td>\n",
       "      <td>Arson</td>\n",
       "      <td>675.0</td>\n",
       "      <td>788.0</td>\n",
       "      <td>2256.0</td>\n",
       "      <td>113.0</td>\n",
       "    </tr>\n",
       "    <tr>\n",
       "      <th>83</th>\n",
       "      <td>Arson036_x264.mp4</td>\n",
       "      <td>Arson</td>\n",
       "      <td>0.0</td>\n",
       "      <td>85.0</td>\n",
       "      <td>1588.0</td>\n",
       "      <td>85.0</td>\n",
       "    </tr>\n",
       "    <tr>\n",
       "      <th>113</th>\n",
       "      <td>Assault014_x264.mp4</td>\n",
       "      <td>Assault</td>\n",
       "      <td>110.0</td>\n",
       "      <td>313.0</td>\n",
       "      <td>1253.0</td>\n",
       "      <td>203.0</td>\n",
       "    </tr>\n",
       "    <tr>\n",
       "      <th>116</th>\n",
       "      <td>Assault017_x264.mp4</td>\n",
       "      <td>Assault</td>\n",
       "      <td>0.0</td>\n",
       "      <td>2.0</td>\n",
       "      <td>20.0</td>\n",
       "      <td>2.0</td>\n",
       "    </tr>\n",
       "    <tr>\n",
       "      <th>171</th>\n",
       "      <td>Burglary022_x264.mp4</td>\n",
       "      <td>Burglary</td>\n",
       "      <td>269.0</td>\n",
       "      <td>452.0</td>\n",
       "      <td>2333.0</td>\n",
       "      <td>183.0</td>\n",
       "    </tr>\n",
       "    <tr>\n",
       "      <th>567</th>\n",
       "      <td>Stealing020_x264.mp4</td>\n",
       "      <td>Stealing</td>\n",
       "      <td>1507.0</td>\n",
       "      <td>1665.0</td>\n",
       "      <td>5839.0</td>\n",
       "      <td>158.0</td>\n",
       "    </tr>\n",
       "    <tr>\n",
       "      <th>601</th>\n",
       "      <td>Stealing061_x264.mp4</td>\n",
       "      <td>Stealing</td>\n",
       "      <td>0.0</td>\n",
       "      <td>519.0</td>\n",
       "      <td>2217.0</td>\n",
       "      <td>519.0</td>\n",
       "    </tr>\n",
       "    <tr>\n",
       "      <th>614</th>\n",
       "      <td>Stealing075_x264.mp4</td>\n",
       "      <td>Stealing</td>\n",
       "      <td>0.0</td>\n",
       "      <td>90.0</td>\n",
       "      <td>5162.0</td>\n",
       "      <td>90.0</td>\n",
       "    </tr>\n",
       "    <tr>\n",
       "      <th>637</th>\n",
       "      <td>Stealing102_x264.mp4</td>\n",
       "      <td>Stealing</td>\n",
       "      <td>75.0</td>\n",
       "      <td>409.0</td>\n",
       "      <td>1029.0</td>\n",
       "      <td>334.0</td>\n",
       "    </tr>\n",
       "  </tbody>\n",
       "</table>\n",
       "</div>"
      ],
      "text/plain": [
       "                    Video    Evento     PCB  Start_Frame  End_Frame  \\\n",
       "54      Arson006_x264.mp4     Arson   675.0        788.0     2256.0   \n",
       "83      Arson036_x264.mp4     Arson     0.0         85.0     1588.0   \n",
       "113   Assault014_x264.mp4   Assault   110.0        313.0     1253.0   \n",
       "116   Assault017_x264.mp4   Assault     0.0          2.0       20.0   \n",
       "171  Burglary022_x264.mp4  Burglary   269.0        452.0     2333.0   \n",
       "567  Stealing020_x264.mp4  Stealing  1507.0       1665.0     5839.0   \n",
       "601  Stealing061_x264.mp4  Stealing     0.0        519.0     2217.0   \n",
       "614  Stealing075_x264.mp4  Stealing     0.0         90.0     5162.0   \n",
       "637  Stealing102_x264.mp4  Stealing    75.0        409.0     1029.0   \n",
       "\n",
       "     diferencia  \n",
       "54        113.0  \n",
       "83         85.0  \n",
       "113       203.0  \n",
       "116         2.0  \n",
       "171       183.0  \n",
       "567       158.0  \n",
       "601       519.0  \n",
       "614        90.0  \n",
       "637       334.0  "
      ]
     },
     "execution_count": 30,
     "metadata": {},
     "output_type": "execute_result"
    }
   ],
   "source": [
    "df_bw"
   ]
  },
  {
   "cell_type": "code",
   "execution_count": 31,
   "metadata": {},
   "outputs": [],
   "source": [
    "# Ver cuantas filas tiene el dataframe\n",
    "bw = df_bw.shape\n",
    "normal = df.shape"
   ]
  },
  {
   "cell_type": "code",
   "execution_count": 32,
   "metadata": {},
   "outputs": [
    {
     "data": {
      "text/plain": [
       "<Axes: ylabel='cantidad'>"
      ]
     },
     "execution_count": 32,
     "metadata": {},
     "output_type": "execute_result"
    },
    {
     "data": {
      "image/png": "[encoded data removed]",
      "text/plain": [
       "<Figure size 640x480 with 1 Axes>"
      ]
     },
     "metadata": {},
     "output_type": "display_data"
    }
   ],
   "source": [
    "# Gráfico pie de bw[0] y normal[0] - bw[0]\n",
    "df_pie = pd.DataFrame({'tipo': ['Normal','Black and White'], 'cantidad': [normal[0]-bw[0], bw[0]]})\n",
    "df_pie.plot.pie(y='cantidad', labels=df_pie['tipo'], autopct='%1.1f%%', startangle=90)"
   ]
  },
  {
   "cell_type": "code",
   "execution_count": 76,
   "metadata": {},
   "outputs": [],
   "source": [
    "# Ver la duración de los videos\n",
    "df['duracion'] = df.apply(lambda x: duracion_video(x['Video'], x['Evento']), axis=1)"
   ]
  },
  {
   "cell_type": "markdown",
   "metadata": {},
   "source": [
    "## Normal Videos"
   ]
  },
  {
   "cell_type": "code",
   "execution_count": 33,
   "metadata": {},
   "outputs": [],
   "source": [
    "# Lista de los videos en ../data/Anomaly-Detection-Dataset/Anomaly-Videos/Normal\n",
    "videos = os.listdir(\"../data/Anomaly-Detection-Dataset/Anomaly-Videos/Normal\")"
   ]
  },
  {
   "cell_type": "code",
   "execution_count": 35,
   "metadata": {},
   "outputs": [],
   "source": [
    "# Ignora los archivos ._\n",
    "videos = [video for video in videos if not video.startswith(\"._\")]"
   ]
  },
  {
   "cell_type": "code",
   "execution_count": 36,
   "metadata": {},
   "outputs": [
    {
     "data": {
      "text/plain": [
       "['Normal_Videos296_x264.mp4',\n",
       " 'Normal_Videos457_x264.mp4',\n",
       " 'Normal_Videos380_x264.mp4',\n",
       " 'Normal_Videos074_x264.mp4',\n",
       " 'Normal_Videos407_x264.mp4',\n",
       " 'Normal_Videos320_x264.mp4',\n",
       " 'Normal_Videos162_x264.mp4',\n",
       " 'Normal_Videos470_x264.mp4',\n",
       " 'Normal_Videos115_x264.mp4',\n",
       " 'Normal_Videos007_x264.mp4',\n",
       " 'Normal_Videos282_x264.mp4',\n",
       " 'Normal_Videos113_x264.mp4',\n",
       " 'Normal_Videos235_x264.mp4',\n",
       " 'Normal_Videos233_x264.mp4',\n",
       " 'Normal_Videos029_x264.mp4',\n",
       " 'Normal_Videos237_x264.mp4',\n",
       " 'Normal_Videos178_x264.mp4',\n",
       " 'Normal_Videos402_x264.mp4',\n",
       " 'Normal_Videos204_x264.mp4',\n",
       " 'Normal_Videos011_x264.mp4',\n",
       " 'Normal_Videos094_x264.mp4',\n",
       " 'Normal_Videos252_x264.mp4',\n",
       " 'Normal_Videos288_x264.mp4',\n",
       " 'Normal_Videos462_x264.mp4',\n",
       " 'Normal_Videos038_x264.mp4',\n",
       " 'Normal_Videos419_x264.mp4',\n",
       " 'Normal_Videos298_x264.mp4',\n",
       " 'Normal_Videos153_x264.mp4',\n",
       " 'Normal_Videos335_x264.mp4',\n",
       " 'Normal_Videos088_x264.mp4',\n",
       " 'Normal_Videos362_x264.mp4',\n",
       " 'Normal_Videos301_x264.mp4',\n",
       " 'Normal_Videos465_x264.mp4',\n",
       " 'Normal_Videos269_x264.mp4',\n",
       " 'Normal_Videos411_x264.mp4',\n",
       " 'Normal_Videos114_x264.mp4',\n",
       " 'Normal_Videos394_x264.mp4',\n",
       " 'Normal_Videos093_x264.mp4',\n",
       " 'Normal_Videos071_x264.mp4',\n",
       " 'Normal_Videos359_x264.mp4',\n",
       " 'Normal_Videos106_x264.mp4',\n",
       " 'Normal_Videos170_x264.mp4',\n",
       " 'Normal_Videos460_x264.mp4',\n",
       " 'Normal_Videos013_x264.mp4',\n",
       " 'Normal_Videos161_x264.mp4',\n",
       " 'Normal_Videos291_x264.mp4',\n",
       " 'Normal_Videos447_x264.mp4',\n",
       " 'Normal_Videos104_x264.mp4',\n",
       " 'Normal_Videos135_x264.mp4',\n",
       " 'Normal_Videos134_x264.mp4',\n",
       " 'Normal_Videos388_x264.mp4',\n",
       " 'Normal_Videos127_x264.mp4',\n",
       " 'Normal_Videos218_x264.mp4',\n",
       " 'Normal_Videos225_x264.mp4',\n",
       " 'Normal_Videos208_x264.mp4',\n",
       " 'Normal_Videos421_x264.mp4',\n",
       " 'Normal_Videos369_x264.mp4',\n",
       " 'Normal_Videos229_x264.mp4',\n",
       " 'Normal_Videos440_x264.mp4',\n",
       " 'Normal_Videos016_x264.mp4',\n",
       " 'Normal_Videos285_x264.mp4',\n",
       " 'Normal_Videos299_x264.mp4',\n",
       " 'Normal_Videos172_x264.mp4',\n",
       " 'Normal_Videos274_x264.mp4',\n",
       " 'Normal_Videos122_x264.mp4',\n",
       " 'Normal_Videos328_x264.mp4',\n",
       " 'Normal_Videos434_x264.mp4',\n",
       " 'Normal_Videos223_x264.mp4',\n",
       " 'Normal_Videos089_x264.mp4',\n",
       " 'Normal_Videos049_x264.mp4',\n",
       " 'Normal_Videos355_x264.mp4',\n",
       " 'Normal_Videos347_x264.mp4',\n",
       " 'Normal_Videos340_x264.mp4',\n",
       " 'Normal_Videos159_x264.mp4',\n",
       " 'Normal_Videos429_x264.mp4',\n",
       " 'Normal_Videos427_x264.mp4',\n",
       " 'Normal_Videos343_x264.mp4',\n",
       " 'Normal_Videos181_x264.mp4',\n",
       " 'Normal_Videos250_x264.mp4',\n",
       " 'Normal_Videos263_x264.mp4',\n",
       " 'Normal_Videos314_x264.mp4',\n",
       " 'Normal_Videos213_x264.mp4',\n",
       " 'Normal_Videos422_x264.mp4',\n",
       " 'Normal_Videos415_x264.mp4',\n",
       " 'Normal_Videos108_x264.mp4',\n",
       " 'Normal_Videos202_x264.mp4',\n",
       " 'Normal_Videos336_x264.mp4',\n",
       " 'Normal_Videos342_x264.mp4',\n",
       " 'Normal_Videos116_x264.mp4',\n",
       " 'Normal_Videos332_x264.mp4',\n",
       " 'Normal_Videos140_x264.mp4',\n",
       " 'Normal_Videos020_x264.mp4',\n",
       " 'Normal_Videos194_x264.mp4',\n",
       " 'Normal_Videos404_x264.mp4',\n",
       " 'Normal_Videos281_x264.mp4',\n",
       " 'Normal_Videos126_x264.mp4',\n",
       " 'Normal_Videos309_x264.mp4',\n",
       " 'Normal_Videos258_x264.mp4',\n",
       " 'Normal_Videos373_x264.mp4',\n",
       " 'Normal_Videos177_x264.mp4',\n",
       " 'Normal_Videos383_x264.mp4',\n",
       " 'Normal_Videos307_x264.mp4',\n",
       " 'Normal_Videos481_x264.mp4',\n",
       " 'Normal_Videos160_x264.mp4',\n",
       " 'Normal_Videos287_x264.mp4',\n",
       " 'Normal_Videos331_x264.mp4',\n",
       " 'Normal_Videos128_x264.mp4',\n",
       " 'Normal_Videos060_x264.mp4',\n",
       " 'Normal_Videos131_x264.mp4',\n",
       " 'Normal_Videos399_x264.mp4',\n",
       " 'Normal_Videos173_x264.mp4',\n",
       " 'Normal_Videos084_x264.mp4',\n",
       " 'Normal_Videos072_x264.mp4',\n",
       " 'Normal_Videos188_x264.mp4',\n",
       " 'Normal_Videos199_x264.mp4',\n",
       " 'Normal_Videos350_x264.mp4',\n",
       " 'Normal_Videos144_x264.mp4',\n",
       " 'Normal_Videos458_x264.mp4',\n",
       " 'Normal_Videos473_x264.mp4',\n",
       " 'Normal_Videos283_x264.mp4',\n",
       " 'Normal_Videos302_x264.mp4',\n",
       " 'Normal_Videos111_x264.mp4',\n",
       " 'Normal_Videos430_x264.mp4',\n",
       " 'Normal_Videos398_x264.mp4',\n",
       " 'Normal_Videos284_x264.mp4',\n",
       " 'Normal_Videos435_x264.mp4',\n",
       " 'Normal_Videos053_x264.mp4',\n",
       " 'Normal_Videos266_x264.mp4',\n",
       " 'Normal_Videos087_x264.mp4',\n",
       " 'Normal_Videos428_x264.mp4',\n",
       " 'Normal_Videos062_x264.mp4',\n",
       " 'Normal_Videos348_x264.mp4',\n",
       " 'Normal_Videos469_x264.mp4',\n",
       " 'Normal_Videos253_x264.mp4',\n",
       " 'Normal_Videos136_x264.mp4',\n",
       " 'Normal_Videos323_x264.mp4',\n",
       " 'Normal_Videos480_x264.mp4',\n",
       " 'Normal_Videos322_x264.mp4',\n",
       " 'Normal_Videos472_x264.mp4',\n",
       " 'Normal_Videos155_x264.mp4',\n",
       " 'Normal_Videos396_x264.mp4',\n",
       " 'Normal_Videos241_x264.mp4',\n",
       " 'Normal_Videos028_x264.mp4',\n",
       " 'Normal_Videos227_x264.mp4',\n",
       " 'Normal_Videos068_x264.mp4',\n",
       " 'Normal_Videos420_x264.mp4',\n",
       " 'Normal_Videos055_x264.mp4',\n",
       " 'Normal_Videos238_x264.mp4',\n",
       " 'Normal_Videos164_x264.mp4',\n",
       " 'Normal_Videos101_x264.mp4',\n",
       " 'Normal_Videos197_x264.mp4',\n",
       " 'Normal_Videos183_x264.mp4',\n",
       " 'Normal_Videos004_x264.mp4',\n",
       " 'Normal_Videos405_x264.mp4',\n",
       " 'Normal_Videos187_x264.mp4',\n",
       " 'Normal_Videos450_x264.mp4',\n",
       " 'Normal_Videos009_x264.mp4',\n",
       " 'Normal_Videos356_x264.mp4',\n",
       " 'Normal_Videos265_x264.mp4',\n",
       " 'Normal_Videos201_x264.mp4',\n",
       " 'Normal_Videos220_x264.mp4',\n",
       " 'Normal_Videos040_x264.mp4',\n",
       " 'Normal_Videos354_x264.mp4',\n",
       " 'Normal_Videos319_x264.mp4',\n",
       " 'Normal_Videos123_x264.mp4',\n",
       " 'Normal_Videos137_x264.mp4',\n",
       " 'Normal_Videos358_x264.mp4',\n",
       " 'Normal_Videos075_x264.mp4',\n",
       " 'Normal_Videos463_x264.mp4',\n",
       " 'Normal_Videos078_x264.mp4',\n",
       " 'Normal_Videos147_x264.mp4',\n",
       " 'Normal_Videos167_x264.mp4',\n",
       " 'Normal_Videos061_x264.mp4',\n",
       " 'Normal_Videos125_x264.mp4',\n",
       " 'Normal_Videos230_x264.mp4',\n",
       " 'Normal_Videos054_x264.mp4',\n",
       " 'Normal_Videos109_x264.mp4',\n",
       " 'Normal_Videos267_x264.mp4',\n",
       " 'Normal_Videos449_x264.mp4',\n",
       " 'Normal_Videos149_x264.mp4',\n",
       " 'Normal_Videos163_x264.mp4',\n",
       " 'Normal_Videos456_x264.mp4',\n",
       " 'Normal_Videos124_x264.mp4',\n",
       " 'Normal_Videos306_x264.mp4',\n",
       " 'Normal_Videos295_x264.mp4',\n",
       " 'Normal_Videos424_x264.mp4',\n",
       " 'Normal_Videos395_x264.mp4',\n",
       " 'Normal_Videos464_x264.mp4',\n",
       " 'Normal_Videos382_x264.mp4',\n",
       " 'Normal_Videos209_x264.mp4',\n",
       " 'Normal_Videos262_x264.mp4',\n",
       " 'Normal_Videos433_x264.mp4',\n",
       " 'Normal_Videos423_x264.mp4',\n",
       " 'Normal_Videos442_x264.mp4',\n",
       " 'Normal_Videos315_x264.mp4',\n",
       " 'Normal_Videos080_x264.mp4',\n",
       " 'Normal_Videos476_x264.mp4',\n",
       " 'Normal_Videos216_x264.mp4',\n",
       " 'Normal_Videos432_x264.mp4',\n",
       " 'Normal_Videos426_x264.mp4',\n",
       " 'Normal_Videos133_x264.mp4',\n",
       " 'Normal_Videos039_x264.mp4',\n",
       " 'Normal_Videos326_x264.mp4',\n",
       " 'Normal_Videos212_x264.mp4',\n",
       " 'Normal_Videos468_x264.mp4',\n",
       " 'Normal_Videos370_x264.mp4',\n",
       " 'Normal_Videos012_x264.mp4',\n",
       " 'Normal_Videos171_x264.mp4',\n",
       " 'Normal_Videos082_x264.mp4',\n",
       " 'Normal_Videos037_x264.mp4',\n",
       " 'Normal_Videos139_x264.mp4',\n",
       " 'Normal_Videos030_x264.mp4',\n",
       " 'Normal_Videos200_x264.mp4',\n",
       " 'Normal_Videos374_x264.mp4',\n",
       " 'Normal_Videos255_x264.mp4',\n",
       " 'Normal_Videos032_x264.mp4',\n",
       " 'Normal_Videos294_x264.mp4',\n",
       " 'Normal_Videos076_x264.mp4',\n",
       " 'Normal_Videos386_x264.mp4',\n",
       " 'Normal_Videos095_x264.mp4',\n",
       " 'Normal_Videos243_x264.mp4',\n",
       " 'Normal_Videos236_x264.mp4',\n",
       " 'Normal_Videos002_x264.mp4',\n",
       " 'Normal_Videos400_x264.mp4',\n",
       " 'Normal_Videos179_x264.mp4',\n",
       " 'Normal_Videos090_x264.mp4',\n",
       " 'Normal_Videos261_x264.mp4',\n",
       " 'Normal_Videos412_x264.mp4',\n",
       " 'Normal_Videos190_x264.mp4',\n",
       " 'Normal_Videos268_x264.mp4',\n",
       " 'Normal_Videos313_x264.mp4',\n",
       " 'Normal_Videos477_x264.mp4',\n",
       " 'Normal_Videos244_x264.mp4',\n",
       " 'Normal_Videos221_x264.mp4',\n",
       " 'Normal_Videos107_x264.mp4',\n",
       " 'Normal_Videos035_x264.mp4',\n",
       " 'Normal_Videos073_x264.mp4',\n",
       " 'Normal_Videos232_x264.mp4',\n",
       " 'Normal_Videos064_x264.mp4',\n",
       " 'Normal_Videos321_x264.mp4',\n",
       " 'Normal_Videos482_x264.mp4',\n",
       " 'Normal_Videos372_x264.mp4',\n",
       " 'Normal_Videos344_x264.mp4',\n",
       " 'Normal_Videos275_x264.mp4',\n",
       " 'Normal_Videos092_x264.mp4',\n",
       " 'Normal_Videos270_x264.mp4',\n",
       " 'Normal_Videos286_x264.mp4',\n",
       " 'Normal_Videos214_x264.mp4',\n",
       " 'Normal_Videos254_x264.mp4',\n",
       " 'Normal_Videos337_x264.mp4',\n",
       " 'Normal_Videos346_x264.mp4',\n",
       " 'Normal_Videos166_x264.mp4',\n",
       " 'Normal_Videos379_x264.mp4',\n",
       " 'Normal_Videos445_x264.mp4',\n",
       " 'Normal_Videos215_x264.mp4',\n",
       " 'Normal_Videos169_x264.mp4',\n",
       " 'Normal_Videos086_x264.mp4',\n",
       " 'Normal_Videos211_x264.mp4',\n",
       " 'Normal_Videos191_x264.mp4',\n",
       " 'Normal_Videos418_x264.mp4',\n",
       " 'Normal_Videos152_x264.mp4',\n",
       " 'Normal_Videos443_x264.mp4',\n",
       " 'Normal_Videos264_x264.mp4',\n",
       " 'Normal_Videos143_x264.mp4',\n",
       " 'Normal_Videos431_x264.mp4',\n",
       " 'Normal_Videos105_x264.mp4',\n",
       " 'Normal_Videos132_x264.mp4',\n",
       " 'Normal_Videos184_x264.mp4',\n",
       " 'Normal_Videos381_x264.mp4',\n",
       " 'Normal_Videos023_x264.mp4',\n",
       " 'Normal_Videos079_x264.mp4',\n",
       " 'Normal_Videos384_x264.mp4',\n",
       " 'Normal_Videos097_x264.mp4',\n",
       " 'Normal_Videos377_x264.mp4',\n",
       " 'Normal_Videos046_x264.mp4',\n",
       " 'Normal_Videos242_x264.mp4',\n",
       " 'Normal_Videos467_x264.mp4',\n",
       " 'Normal_Videos239_x264.mp4',\n",
       " 'Normal_Videos371_x264.mp4',\n",
       " 'Normal_Videos102_x264.mp4',\n",
       " 'Normal_Videos318_x264.mp4',\n",
       " 'Normal_Videos327_x264.mp4',\n",
       " 'Normal_Videos292_x264.mp4',\n",
       " 'Normal_Videos438_x264.mp4',\n",
       " 'Normal_Videos234_x264.mp4',\n",
       " 'Normal_Videos091_x264.mp4',\n",
       " 'Normal_Videos471_x264.mp4',\n",
       " 'Normal_Videos375_x264.mp4',\n",
       " 'Normal_Videos185_x264.mp4',\n",
       " 'Normal_Videos361_x264.mp4',\n",
       " 'Normal_Videos311_x264.mp4',\n",
       " 'Normal_Videos206_x264.mp4',\n",
       " 'Normal_Videos305_x264.mp4',\n",
       " 'Normal_Videos272_x264.mp4',\n",
       " 'Normal_Videos198_x264.mp4',\n",
       " 'Normal_Videos156_x264.mp4',\n",
       " 'Normal_Videos353_x264.mp4',\n",
       " 'Normal_Videos146_x264.mp4',\n",
       " 'Normal_Videos363_x264.mp4',\n",
       " 'Normal_Videos256_x264.mp4',\n",
       " 'Normal_Videos192_x264.mp4',\n",
       " 'Normal_Videos425_x264.mp4',\n",
       " 'Normal_Videos112_x264.mp4',\n",
       " 'Normal_Videos207_x264.mp4',\n",
       " 'Normal_Videos083_x264.mp4',\n",
       " 'Normal_Videos479_x264.mp4',\n",
       " 'Normal_Videos293_x264.mp4',\n",
       " 'Normal_Videos066_x264.mp4',\n",
       " 'Normal_Videos186_x264.mp4',\n",
       " 'Normal_Videos226_x264.mp4',\n",
       " 'Normal_Videos047_x264.mp4',\n",
       " 'Normal_Videos008_x264.mp4',\n",
       " 'Normal_Videos148_x264.mp4',\n",
       " 'Normal_Videos406_x264.mp4',\n",
       " 'Normal_Videos461_x264.mp4',\n",
       " 'Normal_Videos316_x264.mp4',\n",
       " 'Normal_Videos368_x264.mp4',\n",
       " 'Normal_Videos036_x264.mp4',\n",
       " 'Normal_Videos065_x264.mp4',\n",
       " 'Normal_Videos391_x264.mp4',\n",
       " 'Normal_Videos454_x264.mp4',\n",
       " 'Normal_Videos392_x264.mp4',\n",
       " 'Normal_Videos240_x264.mp4',\n",
       " 'Normal_Videos219_x264.mp4',\n",
       " 'Normal_Videos455_x264.mp4',\n",
       " 'Normal_Videos389_x264.mp4',\n",
       " 'Normal_Videos026_x264.mp4',\n",
       " 'Normal_Videos403_x264.mp4',\n",
       " 'Normal_Videos390_x264.mp4',\n",
       " 'Normal_Videos257_x264.mp4',\n",
       " 'Normal_Videos338_x264.mp4',\n",
       " 'Normal_Videos110_x264.mp4',\n",
       " 'Normal_Videos333_x264.mp4',\n",
       " 'Normal_Videos341_x264.mp4',\n",
       " 'Normal_Videos180_x264.mp4',\n",
       " 'Normal_Videos364_x264.mp4',\n",
       " 'Normal_Videos044_x264.mp4',\n",
       " 'Normal_Videos069_x264.mp4',\n",
       " 'Normal_Videos387_x264.mp4',\n",
       " 'Normal_Videos376_x264.mp4',\n",
       " 'Normal_Videos205_x264.mp4',\n",
       " 'Normal_Videos260_x264.mp4',\n",
       " 'Normal_Videos413_x264.mp4',\n",
       " 'Normal_Videos397_x264.mp4',\n",
       " 'Normal_Videos138_x264.mp4',\n",
       " 'Normal_Videos273_x264.mp4',\n",
       " 'Normal_Videos357_x264.mp4',\n",
       " 'Normal_Videos057_x264.mp4',\n",
       " 'Normal_Videos410_x264.mp4',\n",
       " 'Normal_Videos118_x264.mp4',\n",
       " 'Normal_Videos245_x264.mp4',\n",
       " 'Normal_Videos474_x264.mp4',\n",
       " 'Normal_Videos119_x264.mp4',\n",
       " 'Normal_Videos290_x264.mp4',\n",
       " 'Normal_Videos145_x264.mp4',\n",
       " 'Normal_Videos231_x264.mp4',\n",
       " 'Normal_Videos154_x264.mp4',\n",
       " 'Normal_Videos098_x264.mp4',\n",
       " 'Normal_Videos099_x264.mp4',\n",
       " 'Normal_Videos366_x264.mp4',\n",
       " 'Normal_Videos278_x264.mp4',\n",
       " 'Normal_Videos408_x264.mp4',\n",
       " 'Normal_Videos436_x264.mp4',\n",
       " 'Normal_Videos339_x264.mp4',\n",
       " 'Normal_Videos120_x264.mp4',\n",
       " 'Normal_Videos043_x264.mp4',\n",
       " 'Normal_Videos475_x264.mp4',\n",
       " 'Normal_Videos300_x264.mp4',\n",
       " 'Normal_Videos117_x264.mp4',\n",
       " 'Normal_Videos280_x264.mp4',\n",
       " 'Normal_Videos151_x264.mp4',\n",
       " 'Normal_Videos259_x264.mp4',\n",
       " 'Normal_Videos367_x264.mp4',\n",
       " 'Normal_Videos334_x264.mp4',\n",
       " 'Normal_Videos193_x264.mp4',\n",
       " 'Normal_Videos277_x264.mp4',\n",
       " 'Normal_Videos324_x264.mp4',\n",
       " 'Normal_Videos446_x264.mp4',\n",
       " 'Normal_Videos279_x264.mp4',\n",
       " 'Normal_Videos021_x264.mp4',\n",
       " 'Normal_Videos222_x264.mp4',\n",
       " 'Normal_Videos448_x264.mp4',\n",
       " 'Normal_Videos142_x264.mp4',\n",
       " 'Normal_Videos349_x264.mp4',\n",
       " 'Normal_Videos165_x264.mp4',\n",
       " 'Normal_Videos466_x264.mp4',\n",
       " 'Normal_Videos416_x264.mp4',\n",
       " 'Normal_Videos297_x264.mp4',\n",
       " 'Normal_Videos330_x264.mp4',\n",
       " 'Normal_Videos451_x264.mp4',\n",
       " 'Normal_Videos005_x264.mp4',\n",
       " 'Normal_Videos176_x264.mp4',\n",
       " 'Normal_Videos409_x264.mp4',\n",
       " 'Normal_Videos378_x264.mp4',\n",
       " 'Normal_Videos303_x264.mp4',\n",
       " 'Normal_Videos158_x264.mp4',\n",
       " 'Normal_Videos276_x264.mp4',\n",
       " 'Normal_Videos174_x264.mp4',\n",
       " 'Normal_Videos437_x264.mp4',\n",
       " 'Normal_Videos081_x264.mp4',\n",
       " 'Normal_Videos121_x264.mp4',\n",
       " 'Normal_Videos096_x264.mp4',\n",
       " 'Normal_Videos001_x264.mp4',\n",
       " 'Normal_Videos249_x264.mp4',\n",
       " 'Normal_Videos103_x264.mp4',\n",
       " 'Normal_Videos414_x264.mp4',\n",
       " 'Normal_Videos441_x264.mp4',\n",
       " 'Normal_Videos228_x264.mp4',\n",
       " 'Normal_Videos329_x264.mp4',\n",
       " 'Normal_Videos052_x264.mp4',\n",
       " 'Normal_Videos058_x264.mp4',\n",
       " 'Normal_Videos017_x264.mp4',\n",
       " 'Normal_Videos141_x264.mp4',\n",
       " 'Normal_Videos308_x264.mp4',\n",
       " 'Normal_Videos351_x264.mp4',\n",
       " 'Normal_Videos130_x264.mp4',\n",
       " 'Normal_Videos459_x264.mp4',\n",
       " 'Normal_Videos045_x264.mp4',\n",
       " 'Normal_Videos271_x264.mp4',\n",
       " 'Normal_Videos022_x264.mp4',\n",
       " 'Normal_Videos393_x264.mp4',\n",
       " 'Normal_Videos304_x264.mp4',\n",
       " 'Normal_Videos077_x264.mp4',\n",
       " 'Normal_Videos325_x264.mp4',\n",
       " 'Normal_Videos157_x264.mp4',\n",
       " 'Normal_Videos031_x264.mp4',\n",
       " 'Normal_Videos195_x264.mp4',\n",
       " 'Normal_Videos085_x264.mp4',\n",
       " 'Normal_Videos385_x264.mp4',\n",
       " 'Normal_Videos444_x264.mp4']"
      ]
     },
     "execution_count": 36,
     "metadata": {},
     "output_type": "execute_result"
    }
   ],
   "source": [
    "videos"
   ]
  },
  {
   "cell_type": "code",
   "execution_count": 37,
   "metadata": {},
   "outputs": [],
   "source": [
    "# Sort videos\n",
    "videos.sort()"
   ]
  },
  {
   "cell_type": "code",
   "execution_count": 39,
   "metadata": {},
   "outputs": [
    {
     "data": {
      "text/plain": [
       "430"
      ]
     },
     "execution_count": 39,
     "metadata": {},
     "output_type": "execute_result"
    }
   ],
   "source": [
    "len(videos)"
   ]
  },
  {
   "cell_type": "code",
   "execution_count": 57,
   "metadata": {},
   "outputs": [],
   "source": [
    "df_normal = pd.DataFrame(videos, columns=['Video'])\n",
    "df_normal['Evento'] = 'Normal'\n",
    "df_normal['PCB'] = 0\n",
    "df_normal['Start_Frame'] = 0\n",
    "df_normal['End_Frame'] = 0\n"
   ]
  },
  {
   "cell_type": "code",
   "execution_count": 78,
   "metadata": {},
   "outputs": [
    {
     "data": {
      "text/html": [
       "<div>\n",
       "<style scoped>\n",
       "    .dataframe tbody tr th:only-of-type {\n",
       "        vertical-align: middle;\n",
       "    }\n",
       "\n",
       "    .dataframe tbody tr th {\n",
       "        vertical-align: top;\n",
       "    }\n",
       "\n",
       "    .dataframe thead th {\n",
       "        text-align: right;\n",
       "    }\n",
       "</style>\n",
       "<table border=\"1\" class=\"dataframe\">\n",
       "  <thead>\n",
       "    <tr style=\"text-align: right;\">\n",
       "      <th></th>\n",
       "      <th>Video</th>\n",
       "      <th>Evento</th>\n",
       "      <th>PCB</th>\n",
       "      <th>Start_Frame</th>\n",
       "      <th>End_Frame</th>\n",
       "      <th>duracion</th>\n",
       "    </tr>\n",
       "  </thead>\n",
       "  <tbody>\n",
       "    <tr>\n",
       "      <th>0</th>\n",
       "      <td>Normal_Videos001_x264.mp4</td>\n",
       "      <td>Normal</td>\n",
       "      <td>0</td>\n",
       "      <td>0</td>\n",
       "      <td>0</td>\n",
       "      <td>18.133333</td>\n",
       "    </tr>\n",
       "    <tr>\n",
       "      <th>1</th>\n",
       "      <td>Normal_Videos002_x264.mp4</td>\n",
       "      <td>Normal</td>\n",
       "      <td>0</td>\n",
       "      <td>0</td>\n",
       "      <td>0</td>\n",
       "      <td>55.433333</td>\n",
       "    </tr>\n",
       "    <tr>\n",
       "      <th>2</th>\n",
       "      <td>Normal_Videos004_x264.mp4</td>\n",
       "      <td>Normal</td>\n",
       "      <td>0</td>\n",
       "      <td>0</td>\n",
       "      <td>0</td>\n",
       "      <td>30.566667</td>\n",
       "    </tr>\n",
       "    <tr>\n",
       "      <th>3</th>\n",
       "      <td>Normal_Videos005_x264.mp4</td>\n",
       "      <td>Normal</td>\n",
       "      <td>0</td>\n",
       "      <td>0</td>\n",
       "      <td>0</td>\n",
       "      <td>12.866667</td>\n",
       "    </tr>\n",
       "    <tr>\n",
       "      <th>4</th>\n",
       "      <td>Normal_Videos007_x264.mp4</td>\n",
       "      <td>Normal</td>\n",
       "      <td>0</td>\n",
       "      <td>0</td>\n",
       "      <td>0</td>\n",
       "      <td>32.833333</td>\n",
       "    </tr>\n",
       "    <tr>\n",
       "      <th>...</th>\n",
       "      <td>...</td>\n",
       "      <td>...</td>\n",
       "      <td>...</td>\n",
       "      <td>...</td>\n",
       "      <td>...</td>\n",
       "      <td>...</td>\n",
       "    </tr>\n",
       "    <tr>\n",
       "      <th>425</th>\n",
       "      <td>Normal_Videos477_x264.mp4</td>\n",
       "      <td>Normal</td>\n",
       "      <td>0</td>\n",
       "      <td>0</td>\n",
       "      <td>0</td>\n",
       "      <td>67.200000</td>\n",
       "    </tr>\n",
       "    <tr>\n",
       "      <th>426</th>\n",
       "      <td>Normal_Videos479_x264.mp4</td>\n",
       "      <td>Normal</td>\n",
       "      <td>0</td>\n",
       "      <td>0</td>\n",
       "      <td>0</td>\n",
       "      <td>1320.166667</td>\n",
       "    </tr>\n",
       "    <tr>\n",
       "      <th>427</th>\n",
       "      <td>Normal_Videos480_x264.mp4</td>\n",
       "      <td>Normal</td>\n",
       "      <td>0</td>\n",
       "      <td>0</td>\n",
       "      <td>0</td>\n",
       "      <td>74.166667</td>\n",
       "    </tr>\n",
       "    <tr>\n",
       "      <th>428</th>\n",
       "      <td>Normal_Videos481_x264.mp4</td>\n",
       "      <td>Normal</td>\n",
       "      <td>0</td>\n",
       "      <td>0</td>\n",
       "      <td>0</td>\n",
       "      <td>300.000000</td>\n",
       "    </tr>\n",
       "    <tr>\n",
       "      <th>429</th>\n",
       "      <td>Normal_Videos482_x264.mp4</td>\n",
       "      <td>Normal</td>\n",
       "      <td>0</td>\n",
       "      <td>0</td>\n",
       "      <td>0</td>\n",
       "      <td>144.633333</td>\n",
       "    </tr>\n",
       "  </tbody>\n",
       "</table>\n",
       "<p>396 rows × 6 columns</p>\n",
       "</div>"
      ],
      "text/plain": [
       "                         Video  Evento  PCB  Start_Frame  End_Frame  \\\n",
       "0    Normal_Videos001_x264.mp4  Normal    0            0          0   \n",
       "1    Normal_Videos002_x264.mp4  Normal    0            0          0   \n",
       "2    Normal_Videos004_x264.mp4  Normal    0            0          0   \n",
       "3    Normal_Videos005_x264.mp4  Normal    0            0          0   \n",
       "4    Normal_Videos007_x264.mp4  Normal    0            0          0   \n",
       "..                         ...     ...  ...          ...        ...   \n",
       "425  Normal_Videos477_x264.mp4  Normal    0            0          0   \n",
       "426  Normal_Videos479_x264.mp4  Normal    0            0          0   \n",
       "427  Normal_Videos480_x264.mp4  Normal    0            0          0   \n",
       "428  Normal_Videos481_x264.mp4  Normal    0            0          0   \n",
       "429  Normal_Videos482_x264.mp4  Normal    0            0          0   \n",
       "\n",
       "        duracion  \n",
       "0      18.133333  \n",
       "1      55.433333  \n",
       "2      30.566667  \n",
       "3      12.866667  \n",
       "4      32.833333  \n",
       "..           ...  \n",
       "425    67.200000  \n",
       "426  1320.166667  \n",
       "427    74.166667  \n",
       "428   300.000000  \n",
       "429   144.633333  \n",
       "\n",
       "[396 rows x 6 columns]"
      ]
     },
     "execution_count": 78,
     "metadata": {},
     "output_type": "execute_result"
    }
   ],
   "source": [
    "df_normal"
   ]
  },
  {
   "cell_type": "code",
   "execution_count": 79,
   "metadata": {},
   "outputs": [
    {
     "data": {
      "text/plain": [
       "<Axes: >"
      ]
     },
     "execution_count": 79,
     "metadata": {},
     "output_type": "execute_result"
    },
    {
     "data": {
      "image/png": "[encoded data removed]",
      "text/plain": [
       "<Figure size 640x480 with 1 Axes>"
      ]
     },
     "metadata": {},
     "output_type": "display_data"
    }
   ],
   "source": [
    "# Box plot de la duración \n",
    "df['duracion'].plot.box()"
   ]
  },
  {
   "cell_type": "markdown",
   "metadata": {},
   "source": [
    "## Nulos"
   ]
  },
  {
   "cell_type": "code",
   "execution_count": 44,
   "metadata": {},
   "outputs": [
    {
     "data": {
      "text/plain": [
       "Video          0\n",
       "Evento         0\n",
       "PCB            0\n",
       "Start_Frame    0\n",
       "End_Frame      0\n",
       "dtype: int64"
      ]
     },
     "execution_count": 44,
     "metadata": {},
     "output_type": "execute_result"
    }
   ],
   "source": [
    "# Nulos\n",
    "df_normal.isna().sum()"
   ]
  },
  {
   "cell_type": "markdown",
   "metadata": {},
   "source": [
    "## Duplicados"
   ]
  },
  {
   "cell_type": "code",
   "execution_count": null,
   "metadata": {},
   "outputs": [],
   "source": [
    "# Videos con intro\n",
    "normal_duplicados = Duplicados(\"../data/Anomaly-Detection-Dataset/Anomaly-Videos\", df_normal, 3)"
   ]
  },
  {
   "cell_type": "code",
   "execution_count": 53,
   "metadata": {},
   "outputs": [
    {
     "name": "stdout",
     "output_type": "stream",
     "text": [
      "[DUPLICADO] Normal_Videos075_x264.mp4 es similar a Normal_Videos073_x264.mp4\n",
      "[DUPLICADO] Normal_Videos076_x264.mp4 es similar a Normal_Videos073_x264.mp4\n",
      "[DUPLICADO] Normal_Videos077_x264.mp4 es similar a Normal_Videos074_x264.mp4\n",
      "[DUPLICADO] Normal_Videos078_x264.mp4 es similar a Normal_Videos073_x264.mp4\n",
      "[DUPLICADO] Normal_Videos079_x264.mp4 es similar a Normal_Videos073_x264.mp4\n",
      "[DUPLICADO] Normal_Videos080_x264.mp4 es similar a Normal_Videos064_x264.mp4\n",
      "[DUPLICADO] Normal_Videos104_x264.mp4 es similar a Normal_Videos101_x264.mp4\n",
      "[DUPLICADO] Normal_Videos106_x264.mp4 es similar a Normal_Videos073_x264.mp4\n",
      "[DUPLICADO] Normal_Videos125_x264.mp4 es similar a Normal_Videos073_x264.mp4\n",
      "[DUPLICADO] Normal_Videos126_x264.mp4 es similar a Normal_Videos074_x264.mp4\n",
      "[DUPLICADO] Normal_Videos128_x264.mp4 es similar a Normal_Videos073_x264.mp4\n",
      "[DUPLICADO] Normal_Videos153_x264.mp4 es similar a Normal_Videos152_x264.mp4\n",
      "[DUPLICADO] Normal_Videos212_x264.mp4 es similar a Normal_Videos211_x264.mp4\n",
      "[DUPLICADO] Normal_Videos220_x264.mp4 es similar a Normal_Videos026_x264.mp4\n",
      "[DUPLICADO] Normal_Videos259_x264.mp4 es similar a Normal_Videos074_x264.mp4\n",
      "[DUPLICADO] Normal_Videos270_x264.mp4 es similar a Normal_Videos073_x264.mp4\n",
      "[DUPLICADO] Normal_Videos275_x264.mp4 es similar a Normal_Videos073_x264.mp4\n",
      "[DUPLICADO] Normal_Videos325_x264.mp4 es similar a Normal_Videos064_x264.mp4\n",
      "[DUPLICADO] Normal_Videos326_x264.mp4 es similar a Normal_Videos064_x264.mp4\n",
      "[DUPLICADO] Normal_Videos327_x264.mp4 es similar a Normal_Videos064_x264.mp4\n",
      "[DUPLICADO] Normal_Videos328_x264.mp4 es similar a Normal_Videos064_x264.mp4\n",
      "[DUPLICADO] Normal_Videos329_x264.mp4 es similar a Normal_Videos064_x264.mp4\n",
      "[DUPLICADO] Normal_Videos330_x264.mp4 es similar a Normal_Videos064_x264.mp4\n",
      "[DUPLICADO] Normal_Videos347_x264.mp4 es similar a Normal_Videos256_x264.mp4\n",
      "[DUPLICADO] Normal_Videos348_x264.mp4 es similar a Normal_Videos257_x264.mp4\n",
      "[DUPLICADO] Normal_Videos364_x264.mp4 es similar a Normal_Videos113_x264.mp4\n",
      "[DUPLICADO] Normal_Videos382_x264.mp4 es similar a Normal_Videos073_x264.mp4\n",
      "[DUPLICADO] Normal_Videos383_x264.mp4 es similar a Normal_Videos074_x264.mp4\n",
      "[DUPLICADO] Normal_Videos384_x264.mp4 es similar a Normal_Videos074_x264.mp4\n",
      "[DUPLICADO] Normal_Videos385_x264.mp4 es similar a Normal_Videos073_x264.mp4\n",
      "[DUPLICADO] Normal_Videos392_x264.mp4 es similar a Normal_Videos073_x264.mp4\n",
      "[DUPLICADO] Normal_Videos393_x264.mp4 es similar a Normal_Videos074_x264.mp4\n",
      "[DUPLICADO] Normal_Videos404_x264.mp4 es similar a Normal_Videos340_x264.mp4\n",
      "[DUPLICADO] Normal_Videos431_x264.mp4 es similar a Normal_Videos231_x264.mp4\n"
     ]
    }
   ],
   "source": [
    "# Videos con intro\n",
    "df_normal_d = normal_duplicados.encontrar_duplicados()"
   ]
  },
  {
   "cell_type": "code",
   "execution_count": 54,
   "metadata": {},
   "outputs": [
    {
     "data": {
      "text/plain": [
       "(34, 5)"
      ]
     },
     "execution_count": 54,
     "metadata": {},
     "output_type": "execute_result"
    }
   ],
   "source": [
    "df_normal_d.shape"
   ]
  },
  {
   "cell_type": "code",
   "execution_count": 58,
   "metadata": {},
   "outputs": [],
   "source": [
    "# Elimina los videos con intro\n",
    "df_normal = df_normal.drop(df_normal_d.index)"
   ]
  },
  {
   "cell_type": "code",
   "execution_count": 59,
   "metadata": {},
   "outputs": [
    {
     "data": {
      "text/plain": [
       "(396, 5)"
      ]
     },
     "execution_count": 59,
     "metadata": {},
     "output_type": "execute_result"
    }
   ],
   "source": [
    "df_normal.shape"
   ]
  },
  {
   "cell_type": "code",
   "execution_count": 60,
   "metadata": {},
   "outputs": [],
   "source": [
    "# Duplicados \n",
    "normal_duplicados = Duplicados(\"../data/Anomaly-Detection-Dataset/Anomaly-Videos\", df_normal)"
   ]
  },
  {
   "cell_type": "code",
   "execution_count": 61,
   "metadata": {},
   "outputs": [],
   "source": [
    "df_nd = normal_duplicados.encontrar_duplicados()"
   ]
  },
  {
   "cell_type": "code",
   "execution_count": 80,
   "metadata": {},
   "outputs": [],
   "source": [
    "# Ver la duración de cada video\n",
    "df_normal['duracion'] = df_normal.apply(lambda x: duracion_video(x['Video'], \"Normal\"), axis=1)"
   ]
  },
  {
   "cell_type": "code",
   "execution_count": 81,
   "metadata": {},
   "outputs": [
    {
     "data": {
      "text/plain": [
       "<Axes: >"
      ]
     },
     "execution_count": 81,
     "metadata": {},
     "output_type": "execute_result"
    },
    {
     "data": {
      "image/png": "[encoded data removed]",
      "text/plain": [
       "<Figure size 640x480 with 1 Axes>"
      ]
     },
     "metadata": {},
     "output_type": "display_data"
    }
   ],
   "source": [
    "# Boxplot de la duración de los videos\n",
    "df_normal['duracion'].plot(kind='box')"
   ]
  },
  {
   "cell_type": "markdown",
   "metadata": {},
   "source": [
    "## Black and white"
   ]
  },
  {
   "cell_type": "code",
   "execution_count": 64,
   "metadata": {},
   "outputs": [],
   "source": [
    "n_bw = BlackAndWhite(\"../data/Anomaly-Detection-Dataset/Anomaly-Videos\", df_normal)"
   ]
  },
  {
   "cell_type": "code",
   "execution_count": 65,
   "metadata": {},
   "outputs": [
    {
     "ename": "KeyboardInterrupt",
     "evalue": "",
     "output_type": "error",
     "traceback": [
      "\u001b[0;31m---------------------------------------------------------------------------\u001b[0m",
      "\u001b[0;31mKeyboardInterrupt\u001b[0m                         Traceback (most recent call last)",
      "Cell \u001b[0;32mIn[65], line 1\u001b[0m\n\u001b[0;32m----> 1\u001b[0m df_n_bw \u001b[38;5;241m=\u001b[39m n_bw\u001b[38;5;241m.\u001b[39mencontrar_bw()\n",
      "File \u001b[0;32m/Volumes/TOSHIBA EXT/Tesis/scripts/blackAndWhite.py:51\u001b[0m, in \u001b[0;36mBlackAndWhite.encontrar_bw\u001b[0;34m(self)\u001b[0m\n\u001b[1;32m     49\u001b[0m \u001b[38;5;28;01mfor\u001b[39;00m _, row \u001b[38;5;129;01min\u001b[39;00m \u001b[38;5;28mself\u001b[39m\u001b[38;5;241m.\u001b[39mdf_videos\u001b[38;5;241m.\u001b[39miterrows():\n\u001b[1;32m     50\u001b[0m     video_path \u001b[38;5;241m=\u001b[39m os\u001b[38;5;241m.\u001b[39mpath\u001b[38;5;241m.\u001b[39mjoin(\u001b[38;5;28mself\u001b[39m\u001b[38;5;241m.\u001b[39mdata_folder, row[\u001b[38;5;124m'\u001b[39m\u001b[38;5;124mEvento\u001b[39m\u001b[38;5;124m'\u001b[39m], row[\u001b[38;5;124m'\u001b[39m\u001b[38;5;124mVideo\u001b[39m\u001b[38;5;124m'\u001b[39m])\n\u001b[0;32m---> 51\u001b[0m     \u001b[38;5;28;01mif\u001b[39;00m os\u001b[38;5;241m.\u001b[39mpath\u001b[38;5;241m.\u001b[39mexists(video_path) \u001b[38;5;129;01mand\u001b[39;00m \u001b[38;5;28mself\u001b[39m\u001b[38;5;241m.\u001b[39mes_blanco_y_negro(video_path):\n\u001b[1;32m     52\u001b[0m         \u001b[38;5;28mprint\u001b[39m(\u001b[38;5;124mf\u001b[39m\u001b[38;5;124m\"\u001b[39m\u001b[38;5;124m[Blanco y Negro] Video: \u001b[39m\u001b[38;5;132;01m{\u001b[39;00mrow[\u001b[38;5;124m'\u001b[39m\u001b[38;5;124mVideo\u001b[39m\u001b[38;5;124m'\u001b[39m]\u001b[38;5;132;01m}\u001b[39;00m\u001b[38;5;124m\"\u001b[39m)\n\u001b[1;32m     53\u001b[0m         resultados\u001b[38;5;241m.\u001b[39mappend(row)\n",
      "File \u001b[0;32m/Volumes/TOSHIBA EXT/Tesis/scripts/blackAndWhite.py:22\u001b[0m, in \u001b[0;36mBlackAndWhite.es_blanco_y_negro\u001b[0;34m(self, video_path, sample_rate, threshold)\u001b[0m\n\u001b[1;32m     19\u001b[0m bw_frames \u001b[38;5;241m=\u001b[39m \u001b[38;5;241m0\u001b[39m\n\u001b[1;32m     21\u001b[0m \u001b[38;5;28;01mfor\u001b[39;00m i \u001b[38;5;129;01min\u001b[39;00m \u001b[38;5;28mrange\u001b[39m(\u001b[38;5;241m0\u001b[39m, frame_count, sample_rate):\n\u001b[0;32m---> 22\u001b[0m     cap\u001b[38;5;241m.\u001b[39mset(cv2\u001b[38;5;241m.\u001b[39mCAP_PROP_POS_FRAMES, i)\n\u001b[1;32m     23\u001b[0m     ret, frame \u001b[38;5;241m=\u001b[39m cap\u001b[38;5;241m.\u001b[39mread()\n\u001b[1;32m     24\u001b[0m     \u001b[38;5;28;01mif\u001b[39;00m \u001b[38;5;129;01mnot\u001b[39;00m ret \u001b[38;5;129;01mor\u001b[39;00m frame \u001b[38;5;129;01mis\u001b[39;00m \u001b[38;5;28;01mNone\u001b[39;00m:\n",
      "\u001b[0;31mKeyboardInterrupt\u001b[0m: "
     ]
    }
   ],
   "source": [
    "df_n_bw = n_bw.encontrar_bw() "
   ]
  },
  {
   "cell_type": "code",
   "execution_count": 63,
   "metadata": {},
   "outputs": [],
   "source": [
    "df_normal.to_csv('../data/raw/normal.csv', index=False)"
   ]
  }
 ],
 "metadata": {
  "kernelspec": {
   "display_name": "base",
   "language": "python",
   "name": "python3"
  },
  "language_info": {
   "codemirror_mode": {
    "name": "ipython",
    "version": 3
   },
   "file_extension": ".py",
   "mimetype": "text/x-python",
   "name": "python",
   "nbconvert_exporter": "python",
   "pygments_lexer": "ipython3",
   "version": "3.11.5"
  }
 },
 "nbformat": 4,
 "nbformat_minor": 2
}
