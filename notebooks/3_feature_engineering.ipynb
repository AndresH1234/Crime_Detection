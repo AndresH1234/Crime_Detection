{
 "cells": [
  {
   "cell_type": "markdown",
   "metadata": {},
   "source": [
    "# Feature Engineering"
   ]
  },
  {
   "cell_type": "code",
   "execution_count": 1,
   "metadata": {},
   "outputs": [],
   "source": [
    "import pandas as pd\n",
    "from sklearn.model_selection import train_test_split\n",
    "import sys\n",
    "import os\n",
    "\n",
    "# Agrega el path al directorio raíz del proyecto\n",
    "sys.path.append(os.path.abspath(\"..\"))"
   ]
  },
  {
   "cell_type": "code",
   "execution_count": 2,
   "metadata": {},
   "outputs": [],
   "source": [
    "df = pd.read_csv(\"../data/clean/data.csv\")"
   ]
  },
  {
   "cell_type": "code",
   "execution_count": 3,
   "metadata": {},
   "outputs": [
    {
     "data": {
      "text/html": [
       "<div>\n",
       "<style scoped>\n",
       "    .dataframe tbody tr th:only-of-type {\n",
       "        vertical-align: middle;\n",
       "    }\n",
       "\n",
       "    .dataframe tbody tr th {\n",
       "        vertical-align: top;\n",
       "    }\n",
       "\n",
       "    .dataframe thead th {\n",
       "        text-align: right;\n",
       "    }\n",
       "</style>\n",
       "<table border=\"1\" class=\"dataframe\">\n",
       "  <thead>\n",
       "    <tr style=\"text-align: right;\">\n",
       "      <th></th>\n",
       "      <th>Video</th>\n",
       "      <th>Evento</th>\n",
       "      <th>PCB</th>\n",
       "      <th>Start_Frame</th>\n",
       "      <th>End_Frame</th>\n",
       "      <th>duracion</th>\n",
       "    </tr>\n",
       "  </thead>\n",
       "  <tbody>\n",
       "    <tr>\n",
       "      <th>0</th>\n",
       "      <td>Abuse001_x264.mp4</td>\n",
       "      <td>Abuse</td>\n",
       "      <td>237</td>\n",
       "      <td>327</td>\n",
       "      <td>397</td>\n",
       "      <td>160</td>\n",
       "    </tr>\n",
       "    <tr>\n",
       "      <th>1</th>\n",
       "      <td>Abuse002_x264.mp4</td>\n",
       "      <td>Abuse</td>\n",
       "      <td>0</td>\n",
       "      <td>174</td>\n",
       "      <td>266</td>\n",
       "      <td>266</td>\n",
       "    </tr>\n",
       "    <tr>\n",
       "      <th>2</th>\n",
       "      <td>Abuse003_x264.mp4</td>\n",
       "      <td>Abuse</td>\n",
       "      <td>351</td>\n",
       "      <td>951</td>\n",
       "      <td>3614</td>\n",
       "      <td>3263</td>\n",
       "    </tr>\n",
       "    <tr>\n",
       "      <th>3</th>\n",
       "      <td>Abuse004_x264.mp4</td>\n",
       "      <td>Abuse</td>\n",
       "      <td>558</td>\n",
       "      <td>898</td>\n",
       "      <td>5779</td>\n",
       "      <td>5221</td>\n",
       "    </tr>\n",
       "    <tr>\n",
       "      <th>4</th>\n",
       "      <td>Abuse005_x264.mp4</td>\n",
       "      <td>Abuse</td>\n",
       "      <td>210</td>\n",
       "      <td>717</td>\n",
       "      <td>933</td>\n",
       "      <td>723</td>\n",
       "    </tr>\n",
       "  </tbody>\n",
       "</table>\n",
       "</div>"
      ],
      "text/plain": [
       "               Video Evento  PCB  Start_Frame  End_Frame  duracion\n",
       "0  Abuse001_x264.mp4  Abuse  237          327        397       160\n",
       "1  Abuse002_x264.mp4  Abuse    0          174        266       266\n",
       "2  Abuse003_x264.mp4  Abuse  351          951       3614      3263\n",
       "3  Abuse004_x264.mp4  Abuse  558          898       5779      5221\n",
       "4  Abuse005_x264.mp4  Abuse  210          717        933       723"
      ]
     },
     "execution_count": 3,
     "metadata": {},
     "output_type": "execute_result"
    }
   ],
   "source": [
    "df.head()"
   ]
  },
  {
   "cell_type": "code",
   "execution_count": null,
   "metadata": {},
   "outputs": [],
   "source": [
    "# Crear una columna con el path\n",
    "df['Path'] = df.apply(lambSda row: f\"../data/Anomaly-Detection-Dataset/Anomaly-Videos/{row['Evento']}/{row['Video']}\", axis=1)"
   ]
  },
  {
   "cell_type": "code",
   "execution_count": 5,
   "metadata": {},
   "outputs": [
    {
     "data": {
      "text/plain": [
       "0    ../data/Anomaly-Detection-Dataset/Anomaly-Vide...\n",
       "1    ../data/Anomaly-Detection-Dataset/Anomaly-Vide...\n",
       "2    ../data/Anomaly-Detection-Dataset/Anomaly-Vide...\n",
       "3    ../data/Anomaly-Detection-Dataset/Anomaly-Vide...\n",
       "4    ../data/Anomaly-Detection-Dataset/Anomaly-Vide...\n",
       "Name: Path, dtype: object"
      ]
     },
     "execution_count": 5,
     "metadata": {},
     "output_type": "execute_result"
    }
   ],
   "source": [
    "df['Path'].head()"
   ]
  },
  {
   "cell_type": "code",
   "execution_count": 6,
   "metadata": {},
   "outputs": [],
   "source": [
    "# Añadir la columna is_crime\n",
    "df['is_crime'] = df['Evento'].apply(lambda x: 0 if x == 'Normal' else 1)"
   ]
  },
  {
   "cell_type": "code",
   "execution_count": 7,
   "metadata": {},
   "outputs": [
    {
     "name": "stdout",
     "output_type": "stream",
     "text": [
      "Se necesita eliminar 6 registros para balancear el dataset\n"
     ]
    }
   ],
   "source": [
    "values = df['is_crime'].value_counts()\n",
    "value = abs(values[0] - values[1])\n",
    "print(f\"Se necesita eliminar {value} registros para balancear el dataset\")"
   ]
  },
  {
   "cell_type": "code",
   "execution_count": 8,
   "metadata": {},
   "outputs": [],
   "source": [
    "# Elimina value aleatorias de las que no son normales\n",
    "df = df.drop(df[df['is_crime'] == 1].sample(value).index)"
   ]
  },
  {
   "cell_type": "code",
   "execution_count": 9,
   "metadata": {},
   "outputs": [
    {
     "data": {
      "text/plain": [
       "0    323\n",
       "1    323\n",
       "Name: is_crime, dtype: int64"
      ]
     },
     "execution_count": 9,
     "metadata": {},
     "output_type": "execute_result"
    }
   ],
   "source": [
    "df['is_crime'].value_counts()"
   ]
  },
  {
   "cell_type": "code",
   "execution_count": 10,
   "metadata": {},
   "outputs": [],
   "source": [
    "# En los videos normales poner de End_frame el valor de Duration\n",
    "df['End_Frame'] = df.apply(lambda row: row['duracion'] if row['Evento'] == 'Normal' else row['End_Frame'], axis=1)"
   ]
  },
  {
   "cell_type": "code",
   "execution_count": 11,
   "metadata": {},
   "outputs": [
    {
     "data": {
      "text/html": [
       "<div>\n",
       "<style scoped>\n",
       "    .dataframe tbody tr th:only-of-type {\n",
       "        vertical-align: middle;\n",
       "    }\n",
       "\n",
       "    .dataframe tbody tr th {\n",
       "        vertical-align: top;\n",
       "    }\n",
       "\n",
       "    .dataframe thead th {\n",
       "        text-align: right;\n",
       "    }\n",
       "</style>\n",
       "<table border=\"1\" class=\"dataframe\">\n",
       "  <thead>\n",
       "    <tr style=\"text-align: right;\">\n",
       "      <th></th>\n",
       "      <th>duracion</th>\n",
       "      <th>End_Frame</th>\n",
       "    </tr>\n",
       "  </thead>\n",
       "  <tbody>\n",
       "    <tr>\n",
       "      <th>329</th>\n",
       "      <td>544</td>\n",
       "      <td>544</td>\n",
       "    </tr>\n",
       "    <tr>\n",
       "      <th>330</th>\n",
       "      <td>1663</td>\n",
       "      <td>1663</td>\n",
       "    </tr>\n",
       "    <tr>\n",
       "      <th>331</th>\n",
       "      <td>917</td>\n",
       "      <td>917</td>\n",
       "    </tr>\n",
       "    <tr>\n",
       "      <th>332</th>\n",
       "      <td>386</td>\n",
       "      <td>386</td>\n",
       "    </tr>\n",
       "    <tr>\n",
       "      <th>333</th>\n",
       "      <td>985</td>\n",
       "      <td>985</td>\n",
       "    </tr>\n",
       "  </tbody>\n",
       "</table>\n",
       "</div>"
      ],
      "text/plain": [
       "     duracion  End_Frame\n",
       "329       544        544\n",
       "330      1663       1663\n",
       "331       917        917\n",
       "332       386        386\n",
       "333       985        985"
      ]
     },
     "execution_count": 11,
     "metadata": {},
     "output_type": "execute_result"
    }
   ],
   "source": [
    "df[df['Evento'] == 'Normal'][['duracion', 'End_Frame']].head()"
   ]
  },
  {
   "cell_type": "markdown",
   "metadata": {},
   "source": [
    "## Separación de train, test y validation"
   ]
  },
  {
   "cell_type": "code",
   "execution_count": 12,
   "metadata": {},
   "outputs": [],
   "source": [
    "# Dividir el dataset en train (80%), valid (10%), test (10%)\n",
    "train_df, test_valid_df = train_test_split(df, test_size=0.2, random_state=42, stratify=df['Evento'])\n",
    "valid_df, test_df = train_test_split(test_valid_df, test_size=0.5, random_state=42, stratify=test_valid_df['Evento'])"
   ]
  },
  {
   "cell_type": "code",
   "execution_count": 13,
   "metadata": {},
   "outputs": [],
   "source": [
    "# Función para ver cuantos eventos hay en cada dataset en porcentaje\n",
    "def count_events(df, name):\n",
    "    print(f\"{name}:\")\n",
    "    print(df['Evento'].value_counts(normalize=True) * 100)\n",
    "    print()"
   ]
  },
  {
   "cell_type": "code",
   "execution_count": 14,
   "metadata": {},
   "outputs": [
    {
     "name": "stdout",
     "output_type": "stream",
     "text": [
      "Train:\n",
      "Normal         50.000000\n",
      "Robbery        14.922481\n",
      "Stealing        5.426357\n",
      "Abuse           5.426357\n",
      "Fighting        4.844961\n",
      "Assault         4.844961\n",
      "Arson           4.069767\n",
      "Burglary        4.069767\n",
      "Vandalism       2.713178\n",
      "Shoplifting     2.325581\n",
      "Shooting        1.356589\n",
      "Name: Evento, dtype: float64\n",
      "\n",
      "Valid:\n",
      "Normal         49.230769\n",
      "Robbery        13.846154\n",
      "Abuse           6.153846\n",
      "Stealing        4.615385\n",
      "Burglary        4.615385\n",
      "Assault         4.615385\n",
      "Arson           4.615385\n",
      "Fighting        4.615385\n",
      "Shoplifting     3.076923\n",
      "Vandalism       3.076923\n",
      "Shooting        1.538462\n",
      "Name: Evento, dtype: float64\n",
      "\n",
      "Test:\n",
      "Normal         50.769231\n",
      "Robbery        15.384615\n",
      "Stealing        6.153846\n",
      "Assault         6.153846\n",
      "Abuse           4.615385\n",
      "Burglary        4.615385\n",
      "Fighting        4.615385\n",
      "Arson           3.076923\n",
      "Vandalism       1.538462\n",
      "Shoplifting     1.538462\n",
      "Shooting        1.538462\n",
      "Name: Evento, dtype: float64\n",
      "\n"
     ]
    }
   ],
   "source": [
    "count_events(train_df, \"Train\")\n",
    "count_events(valid_df, \"Valid\")\n",
    "count_events(test_df, \"Test\")"
   ]
  },
  {
   "cell_type": "code",
   "execution_count": 15,
   "metadata": {},
   "outputs": [
    {
     "data": {
      "text/html": [
       "<div>\n",
       "<style scoped>\n",
       "    .dataframe tbody tr th:only-of-type {\n",
       "        vertical-align: middle;\n",
       "    }\n",
       "\n",
       "    .dataframe tbody tr th {\n",
       "        vertical-align: top;\n",
       "    }\n",
       "\n",
       "    .dataframe thead th {\n",
       "        text-align: right;\n",
       "    }\n",
       "</style>\n",
       "<table border=\"1\" class=\"dataframe\">\n",
       "  <thead>\n",
       "    <tr style=\"text-align: right;\">\n",
       "      <th></th>\n",
       "      <th>Video</th>\n",
       "      <th>Evento</th>\n",
       "      <th>PCB</th>\n",
       "      <th>Start_Frame</th>\n",
       "      <th>End_Frame</th>\n",
       "      <th>duracion</th>\n",
       "      <th>Path</th>\n",
       "      <th>is_crime</th>\n",
       "    </tr>\n",
       "  </thead>\n",
       "  <tbody>\n",
       "    <tr>\n",
       "      <th>151</th>\n",
       "      <td>Fighting051_x264.mp4</td>\n",
       "      <td>Fighting</td>\n",
       "      <td>989</td>\n",
       "      <td>1294</td>\n",
       "      <td>3355</td>\n",
       "      <td>2366</td>\n",
       "      <td>../data/Anomaly-Detection-Dataset/Anomaly-Vide...</td>\n",
       "      <td>1</td>\n",
       "    </tr>\n",
       "    <tr>\n",
       "      <th>380</th>\n",
       "      <td>Normal_Videos086_x264.mp4</td>\n",
       "      <td>Normal</td>\n",
       "      <td>0</td>\n",
       "      <td>0</td>\n",
       "      <td>3391</td>\n",
       "      <td>3391</td>\n",
       "      <td>../data/Anomaly-Detection-Dataset/Anomaly-Vide...</td>\n",
       "      <td>0</td>\n",
       "    </tr>\n",
       "    <tr>\n",
       "      <th>598</th>\n",
       "      <td>Normal_Videos405_x264.mp4</td>\n",
       "      <td>Normal</td>\n",
       "      <td>0</td>\n",
       "      <td>0</td>\n",
       "      <td>1065</td>\n",
       "      <td>1065</td>\n",
       "      <td>../data/Anomaly-Detection-Dataset/Anomaly-Vide...</td>\n",
       "      <td>0</td>\n",
       "    </tr>\n",
       "    <tr>\n",
       "      <th>414</th>\n",
       "      <td>Normal_Videos134_x264.mp4</td>\n",
       "      <td>Normal</td>\n",
       "      <td>0</td>\n",
       "      <td>0</td>\n",
       "      <td>4476</td>\n",
       "      <td>4476</td>\n",
       "      <td>../data/Anomaly-Detection-Dataset/Anomaly-Vide...</td>\n",
       "      <td>0</td>\n",
       "    </tr>\n",
       "    <tr>\n",
       "      <th>67</th>\n",
       "      <td>Assault007_x264.mp4</td>\n",
       "      <td>Assault</td>\n",
       "      <td>330</td>\n",
       "      <td>668</td>\n",
       "      <td>1099</td>\n",
       "      <td>769</td>\n",
       "      <td>../data/Anomaly-Detection-Dataset/Anomaly-Vide...</td>\n",
       "      <td>1</td>\n",
       "    </tr>\n",
       "    <tr>\n",
       "      <th>...</th>\n",
       "      <td>...</td>\n",
       "      <td>...</td>\n",
       "      <td>...</td>\n",
       "      <td>...</td>\n",
       "      <td>...</td>\n",
       "      <td>...</td>\n",
       "      <td>...</td>\n",
       "      <td>...</td>\n",
       "    </tr>\n",
       "    <tr>\n",
       "      <th>636</th>\n",
       "      <td>Normal_Videos456_x264.mp4</td>\n",
       "      <td>Normal</td>\n",
       "      <td>0</td>\n",
       "      <td>0</td>\n",
       "      <td>3943</td>\n",
       "      <td>3943</td>\n",
       "      <td>../data/Anomaly-Detection-Dataset/Anomaly-Vide...</td>\n",
       "      <td>0</td>\n",
       "    </tr>\n",
       "    <tr>\n",
       "      <th>72</th>\n",
       "      <td>Assault013_x264.mp4</td>\n",
       "      <td>Assault</td>\n",
       "      <td>465</td>\n",
       "      <td>615</td>\n",
       "      <td>1022</td>\n",
       "      <td>557</td>\n",
       "      <td>../data/Anomaly-Detection-Dataset/Anomaly-Vide...</td>\n",
       "      <td>1</td>\n",
       "    </tr>\n",
       "    <tr>\n",
       "      <th>89</th>\n",
       "      <td>Assault047_x264.mp4</td>\n",
       "      <td>Assault</td>\n",
       "      <td>0</td>\n",
       "      <td>112</td>\n",
       "      <td>1790</td>\n",
       "      <td>1790</td>\n",
       "      <td>../data/Anomaly-Detection-Dataset/Anomaly-Vide...</td>\n",
       "      <td>1</td>\n",
       "    </tr>\n",
       "    <tr>\n",
       "      <th>390</th>\n",
       "      <td>Normal_Videos101_x264.mp4</td>\n",
       "      <td>Normal</td>\n",
       "      <td>0</td>\n",
       "      <td>0</td>\n",
       "      <td>1538</td>\n",
       "      <td>1538</td>\n",
       "      <td>../data/Anomaly-Detection-Dataset/Anomaly-Vide...</td>\n",
       "      <td>0</td>\n",
       "    </tr>\n",
       "    <tr>\n",
       "      <th>7</th>\n",
       "      <td>Abuse008_x264.mp4</td>\n",
       "      <td>Abuse</td>\n",
       "      <td>1516</td>\n",
       "      <td>4417</td>\n",
       "      <td>5366</td>\n",
       "      <td>3850</td>\n",
       "      <td>../data/Anomaly-Detection-Dataset/Anomaly-Vide...</td>\n",
       "      <td>1</td>\n",
       "    </tr>\n",
       "  </tbody>\n",
       "</table>\n",
       "<p>65 rows × 8 columns</p>\n",
       "</div>"
      ],
      "text/plain": [
       "                         Video    Evento   PCB  Start_Frame  End_Frame  \\\n",
       "151       Fighting051_x264.mp4  Fighting   989         1294       3355   \n",
       "380  Normal_Videos086_x264.mp4    Normal     0            0       3391   \n",
       "598  Normal_Videos405_x264.mp4    Normal     0            0       1065   \n",
       "414  Normal_Videos134_x264.mp4    Normal     0            0       4476   \n",
       "67         Assault007_x264.mp4   Assault   330          668       1099   \n",
       "..                         ...       ...   ...          ...        ...   \n",
       "636  Normal_Videos456_x264.mp4    Normal     0            0       3943   \n",
       "72         Assault013_x264.mp4   Assault   465          615       1022   \n",
       "89         Assault047_x264.mp4   Assault     0          112       1790   \n",
       "390  Normal_Videos101_x264.mp4    Normal     0            0       1538   \n",
       "7            Abuse008_x264.mp4     Abuse  1516         4417       5366   \n",
       "\n",
       "     duracion                                               Path  is_crime  \n",
       "151      2366  ../data/Anomaly-Detection-Dataset/Anomaly-Vide...         1  \n",
       "380      3391  ../data/Anomaly-Detection-Dataset/Anomaly-Vide...         0  \n",
       "598      1065  ../data/Anomaly-Detection-Dataset/Anomaly-Vide...         0  \n",
       "414      4476  ../data/Anomaly-Detection-Dataset/Anomaly-Vide...         0  \n",
       "67        769  ../data/Anomaly-Detection-Dataset/Anomaly-Vide...         1  \n",
       "..        ...                                                ...       ...  \n",
       "636      3943  ../data/Anomaly-Detection-Dataset/Anomaly-Vide...         0  \n",
       "72        557  ../data/Anomaly-Detection-Dataset/Anomaly-Vide...         1  \n",
       "89       1790  ../data/Anomaly-Detection-Dataset/Anomaly-Vide...         1  \n",
       "390      1538  ../data/Anomaly-Detection-Dataset/Anomaly-Vide...         0  \n",
       "7        3850  ../data/Anomaly-Detection-Dataset/Anomaly-Vide...         1  \n",
       "\n",
       "[65 rows x 8 columns]"
      ]
     },
     "execution_count": 15,
     "metadata": {},
     "output_type": "execute_result"
    }
   ],
   "source": [
    "test_df"
   ]
  },
  {
   "cell_type": "code",
   "execution_count": 16,
   "metadata": {},
   "outputs": [
    {
     "name": "stdout",
     "output_type": "stream",
     "text": [
      "                         Video    Evento  PCB  Start_Frame  End_Frame  \\\n",
      "151       Fighting051_x264.mp4  Fighting  989         1294       3355   \n",
      "380  Normal_Videos086_x264.mp4    Normal    0            0       3391   \n",
      "598  Normal_Videos405_x264.mp4    Normal    0            0       1065   \n",
      "414  Normal_Videos134_x264.mp4    Normal    0            0       4476   \n",
      "67         Assault007_x264.mp4   Assault  330          668       1099   \n",
      "\n",
      "     duracion                                    Path  is_crime  \n",
      "151      2366       ../data/test/Fighting051_x264.mp4         1  \n",
      "380      3391  ../data/test/Normal_Videos086_x264.mp4         0  \n",
      "598      1065  ../data/test/Normal_Videos405_x264.mp4         0  \n",
      "414      4476  ../data/test/Normal_Videos134_x264.mp4         0  \n",
      "67        769        ../data/test/Assault007_x264.mp4         1  \n"
     ]
    }
   ],
   "source": [
    "# Quiero que copies los archivos de test en una carpeta de test\n",
    "import shutil\n",
    "\n",
    "# Funcion para crear la carpeta de test, valid y train\n",
    "def create_folder(folder_name):\n",
    "    if not os.path.exists(folder_name):\n",
    "        os.makedirs(folder_name)\n",
    "    else:\n",
    "        # Si la carpeta ya existe, eliminarla\n",
    "        shutil.rmtree(folder_name)\n",
    "        print(f\"La carpeta {folder_name} ya existe.\")\n",
    "        # Crear la carpeta de nuevo\n",
    "        os.makedirs(folder_name)\n",
    "# Crear carpetas\n",
    "create_folder(\"../data/test\")\n",
    "create_folder(\"../data/train\")\n",
    "create_folder(\"../data/valid\")\n",
    "# Copiar los archivos de test\n",
    "for index, row in test_df.iterrows():\n",
    "    shutil.copy(row['Path'], f\"../data/test/{row['Video']}\")\n",
    "    # Cambia el path \n",
    "    test_df.at[index, 'Path'] = f\"../data/test/{row['Video']}\"\n",
    "\n",
    "print(test_df.head(5))\n",
    "input()\n",
    "# Copiar los archivos de train\n",
    "for index, row in train_df.iterrows():\n",
    "    shutil.copy(row['Path'], f\"../data/train/{row['Video']}\")\n",
    "    # Cambia el path\n",
    "    train_df.at[index, 'Path'] = f\"../data/train/{row['Video']}\"\n",
    "# Copiar los archivos de valid\n",
    "for index, row in valid_df.iterrows():\n",
    "    shutil.copy(row['Path'], f\"../data/valid/{row['Video']}\")\n",
    "    # Cambia el path\n",
    "    valid_df.at[index, 'Path'] = f\"../data/valid/{row['Video']}\""
   ]
  },
  {
   "cell_type": "code",
   "execution_count": 17,
   "metadata": {},
   "outputs": [
    {
     "data": {
      "text/plain": [
       "\"# Eliminar columnas que no se van a usar\\ncolumnas = ['duracion', 'Evento', 'Video']\\ntrain_df = train_df.drop(columns=columnas)\\nvalid_df = valid_df.drop(columns=columnas)\\ntest_df = test_df.drop(columns=columnas)\""
      ]
     },
     "execution_count": 17,
     "metadata": {},
     "output_type": "execute_result"
    }
   ],
   "source": [
    "\"\"\"# Eliminar columnas que no se van a usar\n",
    "columnas = ['duracion', 'Evento', 'Video']\n",
    "train_df = train_df.drop(columns=columnas)\n",
    "valid_df = valid_df.drop(columns=columnas)\n",
    "test_df = test_df.drop(columns=columnas)\"\"\""
   ]
  },
  {
   "cell_type": "code",
   "execution_count": 19,
   "metadata": {},
   "outputs": [
    {
     "data": {
      "text/html": [
       "<div>\n",
       "<style scoped>\n",
       "    .dataframe tbody tr th:only-of-type {\n",
       "        vertical-align: middle;\n",
       "    }\n",
       "\n",
       "    .dataframe tbody tr th {\n",
       "        vertical-align: top;\n",
       "    }\n",
       "\n",
       "    .dataframe thead th {\n",
       "        text-align: right;\n",
       "    }\n",
       "</style>\n",
       "<table border=\"1\" class=\"dataframe\">\n",
       "  <thead>\n",
       "    <tr style=\"text-align: right;\">\n",
       "      <th></th>\n",
       "      <th>Video</th>\n",
       "      <th>Evento</th>\n",
       "      <th>PCB</th>\n",
       "      <th>Start_Frame</th>\n",
       "      <th>End_Frame</th>\n",
       "      <th>duracion</th>\n",
       "      <th>Path</th>\n",
       "      <th>is_crime</th>\n",
       "    </tr>\n",
       "  </thead>\n",
       "  <tbody>\n",
       "    <tr>\n",
       "      <th>565</th>\n",
       "      <td>Normal_Videos355_x264.mp4</td>\n",
       "      <td>Normal</td>\n",
       "      <td>0</td>\n",
       "      <td>0</td>\n",
       "      <td>888</td>\n",
       "      <td>888</td>\n",
       "      <td>../data/valid/Normal_Videos355_x264.mp4</td>\n",
       "      <td>0</td>\n",
       "    </tr>\n",
       "    <tr>\n",
       "      <th>201</th>\n",
       "      <td>Robbery060_x264.mp4</td>\n",
       "      <td>Robbery</td>\n",
       "      <td>0</td>\n",
       "      <td>98</td>\n",
       "      <td>2106</td>\n",
       "      <td>2106</td>\n",
       "      <td>../data/valid/Robbery060_x264.mp4</td>\n",
       "      <td>1</td>\n",
       "    </tr>\n",
       "    <tr>\n",
       "      <th>341</th>\n",
       "      <td>Normal_Videos020_x264.mp4</td>\n",
       "      <td>Normal</td>\n",
       "      <td>0</td>\n",
       "      <td>0</td>\n",
       "      <td>485</td>\n",
       "      <td>485</td>\n",
       "      <td>../data/valid/Normal_Videos020_x264.mp4</td>\n",
       "      <td>0</td>\n",
       "    </tr>\n",
       "    <tr>\n",
       "      <th>316</th>\n",
       "      <td>Vandalism015_x264.mp4</td>\n",
       "      <td>Vandalism</td>\n",
       "      <td>1385</td>\n",
       "      <td>2039</td>\n",
       "      <td>2366</td>\n",
       "      <td>981</td>\n",
       "      <td>../data/valid/Vandalism015_x264.mp4</td>\n",
       "      <td>1</td>\n",
       "    </tr>\n",
       "    <tr>\n",
       "      <th>63</th>\n",
       "      <td>Assault003_x264.mp4</td>\n",
       "      <td>Assault</td>\n",
       "      <td>148</td>\n",
       "      <td>381</td>\n",
       "      <td>1789</td>\n",
       "      <td>1641</td>\n",
       "      <td>../data/valid/Assault003_x264.mp4</td>\n",
       "      <td>1</td>\n",
       "    </tr>\n",
       "  </tbody>\n",
       "</table>\n",
       "</div>"
      ],
      "text/plain": [
       "                         Video     Evento   PCB  Start_Frame  End_Frame  \\\n",
       "565  Normal_Videos355_x264.mp4     Normal     0            0        888   \n",
       "201        Robbery060_x264.mp4    Robbery     0           98       2106   \n",
       "341  Normal_Videos020_x264.mp4     Normal     0            0        485   \n",
       "316      Vandalism015_x264.mp4  Vandalism  1385         2039       2366   \n",
       "63         Assault003_x264.mp4    Assault   148          381       1789   \n",
       "\n",
       "     duracion                                     Path  is_crime  \n",
       "565       888  ../data/valid/Normal_Videos355_x264.mp4         0  \n",
       "201      2106        ../data/valid/Robbery060_x264.mp4         1  \n",
       "341       485  ../data/valid/Normal_Videos020_x264.mp4         0  \n",
       "316       981      ../data/valid/Vandalism015_x264.mp4         1  \n",
       "63       1641        ../data/valid/Assault003_x264.mp4         1  "
      ]
     },
     "execution_count": 19,
     "metadata": {},
     "output_type": "execute_result"
    }
   ],
   "source": [
    "valid_df.head()"
   ]
  },
  {
   "cell_type": "code",
   "execution_count": 20,
   "metadata": {},
   "outputs": [],
   "source": [
    "# Guardar los dataframes en csv\n",
    "train_df.to_csv(\"../data/ml/train.csv\", index=False)\n",
    "valid_df.to_csv(\"../data/ml/valid.csv\", index=False)\n",
    "test_df.to_csv(\"../data/ml/test.csv\", index=False)"
   ]
  },
  {
   "cell_type": "code",
   "execution_count": null,
   "metadata": {},
   "outputs": [],
   "source": []
  }
 ],
 "metadata": {
  "kernelspec": {
   "display_name": "proyecto_i3d",
   "language": "python",
   "name": "python3"
  },
  "language_info": {
   "codemirror_mode": {
    "name": "ipython",
    "version": 3
   },
   "file_extension": ".py",
   "mimetype": "text/x-python",
   "name": "python",
   "nbconvert_exporter": "python",
   "pygments_lexer": "ipython3",
   "version": "3.8.20"
  }
 },
 "nbformat": 4,
 "nbformat_minor": 2
}
