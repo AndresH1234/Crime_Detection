{
 "cells": [
  {
   "cell_type": "markdown",
   "metadata": {},
   "source": [
    "# Feature Engineering"
   ]
  },
  {
   "cell_type": "code",
   "execution_count": 36,
   "metadata": {},
   "outputs": [],
   "source": [
    "import pandas as pd\n",
    "from sklearn.model_selection import train_test_split\n",
    "import sys\n",
    "import os\n",
    "\n",
    "# Agrega el path al directorio raíz del proyecto\n",
    "sys.path.append(os.path.abspath(\"..\"))"
   ]
  },
  {
   "cell_type": "code",
   "execution_count": 37,
   "metadata": {},
   "outputs": [],
   "source": [
    "df = pd.read_csv(\"../data/clean/data.csv\")"
   ]
  },
  {
   "cell_type": "code",
   "execution_count": 38,
   "metadata": {},
   "outputs": [
    {
     "data": {
      "text/html": [
       "<div>\n",
       "<style scoped>\n",
       "    .dataframe tbody tr th:only-of-type {\n",
       "        vertical-align: middle;\n",
       "    }\n",
       "\n",
       "    .dataframe tbody tr th {\n",
       "        vertical-align: top;\n",
       "    }\n",
       "\n",
       "    .dataframe thead th {\n",
       "        text-align: right;\n",
       "    }\n",
       "</style>\n",
       "<table border=\"1\" class=\"dataframe\">\n",
       "  <thead>\n",
       "    <tr style=\"text-align: right;\">\n",
       "      <th></th>\n",
       "      <th>Video</th>\n",
       "      <th>Evento</th>\n",
       "      <th>PCB</th>\n",
       "      <th>Start_Frame</th>\n",
       "      <th>End_Frame</th>\n",
       "      <th>duracion</th>\n",
       "    </tr>\n",
       "  </thead>\n",
       "  <tbody>\n",
       "    <tr>\n",
       "      <th>0</th>\n",
       "      <td>Abuse001_x264.mp4</td>\n",
       "      <td>Abuse</td>\n",
       "      <td>237</td>\n",
       "      <td>327</td>\n",
       "      <td>397</td>\n",
       "      <td>160</td>\n",
       "    </tr>\n",
       "    <tr>\n",
       "      <th>1</th>\n",
       "      <td>Abuse002_x264.mp4</td>\n",
       "      <td>Abuse</td>\n",
       "      <td>0</td>\n",
       "      <td>174</td>\n",
       "      <td>266</td>\n",
       "      <td>266</td>\n",
       "    </tr>\n",
       "    <tr>\n",
       "      <th>2</th>\n",
       "      <td>Abuse003_x264.mp4</td>\n",
       "      <td>Abuse</td>\n",
       "      <td>351</td>\n",
       "      <td>951</td>\n",
       "      <td>3614</td>\n",
       "      <td>3263</td>\n",
       "    </tr>\n",
       "    <tr>\n",
       "      <th>3</th>\n",
       "      <td>Abuse004_x264.mp4</td>\n",
       "      <td>Abuse</td>\n",
       "      <td>558</td>\n",
       "      <td>898</td>\n",
       "      <td>5779</td>\n",
       "      <td>5221</td>\n",
       "    </tr>\n",
       "    <tr>\n",
       "      <th>4</th>\n",
       "      <td>Abuse005_x264.mp4</td>\n",
       "      <td>Abuse</td>\n",
       "      <td>210</td>\n",
       "      <td>717</td>\n",
       "      <td>933</td>\n",
       "      <td>723</td>\n",
       "    </tr>\n",
       "  </tbody>\n",
       "</table>\n",
       "</div>"
      ],
      "text/plain": [
       "               Video Evento  PCB  Start_Frame  End_Frame  duracion\n",
       "0  Abuse001_x264.mp4  Abuse  237          327        397       160\n",
       "1  Abuse002_x264.mp4  Abuse    0          174        266       266\n",
       "2  Abuse003_x264.mp4  Abuse  351          951       3614      3263\n",
       "3  Abuse004_x264.mp4  Abuse  558          898       5779      5221\n",
       "4  Abuse005_x264.mp4  Abuse  210          717        933       723"
      ]
     },
     "execution_count": 38,
     "metadata": {},
     "output_type": "execute_result"
    }
   ],
   "source": [
    "df.head()"
   ]
  },
  {
   "cell_type": "code",
   "execution_count": 39,
   "metadata": {},
   "outputs": [],
   "source": [
    "# Crear una columna con el path\n",
    "df['Path'] = df.apply(lambda row: f\"../data/Anomaly-Detection-Dataset/Anomaly-Videos/{row['Evento']}/{row['Video']}\", axis=1)"
   ]
  },
  {
   "cell_type": "code",
   "execution_count": 40,
   "metadata": {},
   "outputs": [
    {
     "data": {
      "text/plain": [
       "0    ../data/Anomaly-Detection-Dataset/Anomaly-Vide...\n",
       "1    ../data/Anomaly-Detection-Dataset/Anomaly-Vide...\n",
       "2    ../data/Anomaly-Detection-Dataset/Anomaly-Vide...\n",
       "3    ../data/Anomaly-Detection-Dataset/Anomaly-Vide...\n",
       "4    ../data/Anomaly-Detection-Dataset/Anomaly-Vide...\n",
       "Name: Path, dtype: object"
      ]
     },
     "execution_count": 40,
     "metadata": {},
     "output_type": "execute_result"
    }
   ],
   "source": [
    "df['Path'].head()"
   ]
  },
  {
   "cell_type": "code",
   "execution_count": 41,
   "metadata": {},
   "outputs": [],
   "source": [
    "# Añadir la columna is_crime\n",
    "df['is_crime'] = df['Evento'].apply(lambda x: 0 if x == 'Normal' else 1)"
   ]
  },
  {
   "cell_type": "code",
   "execution_count": 42,
   "metadata": {},
   "outputs": [
    {
     "name": "stdout",
     "output_type": "stream",
     "text": [
      "Se necesita eliminar 6 registros para balancear el dataset\n"
     ]
    }
   ],
   "source": [
    "values = df['is_crime'].value_counts()\n",
    "value = abs(values[0] - values[1])\n",
    "print(f\"Se necesita eliminar {value} registros para balancear el dataset\")"
   ]
  },
  {
   "cell_type": "code",
   "execution_count": 43,
   "metadata": {},
   "outputs": [],
   "source": [
    "# Elimina value aleatorias de las que no son normales\n",
    "df = df.drop(df[df['is_crime'] == 1].sample(value).index)"
   ]
  },
  {
   "cell_type": "code",
   "execution_count": 44,
   "metadata": {},
   "outputs": [
    {
     "data": {
      "text/plain": [
       "0    323\n",
       "1    323\n",
       "Name: is_crime, dtype: int64"
      ]
     },
     "execution_count": 44,
     "metadata": {},
     "output_type": "execute_result"
    }
   ],
   "source": [
    "df['is_crime'].value_counts()"
   ]
  },
  {
   "cell_type": "code",
   "execution_count": 45,
   "metadata": {},
   "outputs": [],
   "source": [
    "# En los videos normales poner de End_frame el valor de Duration\n",
    "df['End_Frame'] = df.apply(lambda row: row['duracion'] if row['Evento'] == 'Normal' else row['End_Frame'], axis=1)"
   ]
  },
  {
   "cell_type": "code",
   "execution_count": 46,
   "metadata": {},
   "outputs": [
    {
     "data": {
      "text/html": [
       "<div>\n",
       "<style scoped>\n",
       "    .dataframe tbody tr th:only-of-type {\n",
       "        vertical-align: middle;\n",
       "    }\n",
       "\n",
       "    .dataframe tbody tr th {\n",
       "        vertical-align: top;\n",
       "    }\n",
       "\n",
       "    .dataframe thead th {\n",
       "        text-align: right;\n",
       "    }\n",
       "</style>\n",
       "<table border=\"1\" class=\"dataframe\">\n",
       "  <thead>\n",
       "    <tr style=\"text-align: right;\">\n",
       "      <th></th>\n",
       "      <th>duracion</th>\n",
       "      <th>End_Frame</th>\n",
       "    </tr>\n",
       "  </thead>\n",
       "  <tbody>\n",
       "    <tr>\n",
       "      <th>329</th>\n",
       "      <td>544</td>\n",
       "      <td>544</td>\n",
       "    </tr>\n",
       "    <tr>\n",
       "      <th>330</th>\n",
       "      <td>1663</td>\n",
       "      <td>1663</td>\n",
       "    </tr>\n",
       "    <tr>\n",
       "      <th>331</th>\n",
       "      <td>917</td>\n",
       "      <td>917</td>\n",
       "    </tr>\n",
       "    <tr>\n",
       "      <th>332</th>\n",
       "      <td>386</td>\n",
       "      <td>386</td>\n",
       "    </tr>\n",
       "    <tr>\n",
       "      <th>333</th>\n",
       "      <td>985</td>\n",
       "      <td>985</td>\n",
       "    </tr>\n",
       "  </tbody>\n",
       "</table>\n",
       "</div>"
      ],
      "text/plain": [
       "     duracion  End_Frame\n",
       "329       544        544\n",
       "330      1663       1663\n",
       "331       917        917\n",
       "332       386        386\n",
       "333       985        985"
      ]
     },
     "execution_count": 46,
     "metadata": {},
     "output_type": "execute_result"
    }
   ],
   "source": [
    "df[df['Evento'] == 'Normal'][['duracion', 'End_Frame']].head()"
   ]
  },
  {
   "cell_type": "markdown",
   "metadata": {},
   "source": [
    "## Separación de train, test y validation"
   ]
  },
  {
   "cell_type": "code",
   "execution_count": 47,
   "metadata": {},
   "outputs": [],
   "source": [
    "# Dividir el dataset en train (80%), valid (10%), test (10%)\n",
    "train_df, test_valid_df = train_test_split(df, test_size=0.2, random_state=42, stratify=df['Evento'])\n",
    "valid_df, test_df = train_test_split(test_valid_df, test_size=0.5, random_state=42, stratify=test_valid_df['Evento'])"
   ]
  },
  {
   "cell_type": "code",
   "execution_count": 48,
   "metadata": {},
   "outputs": [],
   "source": [
    "# Función para ver cuantos eventos hay en cada dataset en porcentaje\n",
    "def count_events(df, name):\n",
    "    print(f\"{name}:\")\n",
    "    print(df['Evento'].value_counts(normalize=True) * 100)\n",
    "    print()"
   ]
  },
  {
   "cell_type": "code",
   "execution_count": 49,
   "metadata": {},
   "outputs": [
    {
     "name": "stdout",
     "output_type": "stream",
     "text": [
      "Train:\n",
      "Normal         50.000000\n",
      "Robbery        15.310078\n",
      "Stealing        5.038760\n",
      "Abuse           5.038760\n",
      "Assault         4.844961\n",
      "Fighting        4.844961\n",
      "Burglary        4.263566\n",
      "Arson           4.069767\n",
      "Vandalism       2.713178\n",
      "Shoplifting     2.325581\n",
      "Shooting        1.550388\n",
      "Name: Evento, dtype: float64\n",
      "\n",
      "Valid:\n",
      "Normal         49.230769\n",
      "Robbery        15.384615\n",
      "Abuse           6.153846\n",
      "Assault         4.615385\n",
      "Stealing        4.615385\n",
      "Fighting        4.615385\n",
      "Arson           4.615385\n",
      "Burglary        3.076923\n",
      "Vandalism       3.076923\n",
      "Shoplifting     3.076923\n",
      "Shooting        1.538462\n",
      "Name: Evento, dtype: float64\n",
      "\n",
      "Test:\n",
      "Normal         50.769231\n",
      "Robbery        15.384615\n",
      "Fighting        6.153846\n",
      "Stealing        6.153846\n",
      "Assault         4.615385\n",
      "Abuse           4.615385\n",
      "Burglary        4.615385\n",
      "Arson           3.076923\n",
      "Shoplifting     1.538462\n",
      "Shooting        1.538462\n",
      "Vandalism       1.538462\n",
      "Name: Evento, dtype: float64\n",
      "\n"
     ]
    }
   ],
   "source": [
    "count_events(train_df, \"Train\")\n",
    "count_events(valid_df, \"Valid\")\n",
    "count_events(test_df, \"Test\")"
   ]
  },
  {
   "cell_type": "code",
   "execution_count": 50,
   "metadata": {},
   "outputs": [
    {
     "data": {
      "text/html": [
       "<div>\n",
       "<style scoped>\n",
       "    .dataframe tbody tr th:only-of-type {\n",
       "        vertical-align: middle;\n",
       "    }\n",
       "\n",
       "    .dataframe tbody tr th {\n",
       "        vertical-align: top;\n",
       "    }\n",
       "\n",
       "    .dataframe thead th {\n",
       "        text-align: right;\n",
       "    }\n",
       "</style>\n",
       "<table border=\"1\" class=\"dataframe\">\n",
       "  <thead>\n",
       "    <tr style=\"text-align: right;\">\n",
       "      <th></th>\n",
       "      <th>Video</th>\n",
       "      <th>Evento</th>\n",
       "      <th>PCB</th>\n",
       "      <th>Start_Frame</th>\n",
       "      <th>End_Frame</th>\n",
       "      <th>duracion</th>\n",
       "      <th>Path</th>\n",
       "      <th>is_crime</th>\n",
       "    </tr>\n",
       "  </thead>\n",
       "  <tbody>\n",
       "    <tr>\n",
       "      <th>149</th>\n",
       "      <td>Fighting047_x264.mp4</td>\n",
       "      <td>Fighting</td>\n",
       "      <td>82</td>\n",
       "      <td>384</td>\n",
       "      <td>1898</td>\n",
       "      <td>1816</td>\n",
       "      <td>../data/Anomaly-Detection-Dataset/Anomaly-Vide...</td>\n",
       "      <td>1</td>\n",
       "    </tr>\n",
       "    <tr>\n",
       "      <th>569</th>\n",
       "      <td>Normal_Videos359_x264.mp4</td>\n",
       "      <td>Normal</td>\n",
       "      <td>0</td>\n",
       "      <td>0</td>\n",
       "      <td>903</td>\n",
       "      <td>903</td>\n",
       "      <td>../data/Anomaly-Detection-Dataset/Anomaly-Vide...</td>\n",
       "      <td>0</td>\n",
       "    </tr>\n",
       "    <tr>\n",
       "      <th>598</th>\n",
       "      <td>Normal_Videos405_x264.mp4</td>\n",
       "      <td>Normal</td>\n",
       "      <td>0</td>\n",
       "      <td>0</td>\n",
       "      <td>1065</td>\n",
       "      <td>1065</td>\n",
       "      <td>../data/Anomaly-Detection-Dataset/Anomaly-Vide...</td>\n",
       "      <td>0</td>\n",
       "    </tr>\n",
       "    <tr>\n",
       "      <th>500</th>\n",
       "      <td>Normal_Videos263_x264.mp4</td>\n",
       "      <td>Normal</td>\n",
       "      <td>0</td>\n",
       "      <td>0</td>\n",
       "      <td>1800</td>\n",
       "      <td>1800</td>\n",
       "      <td>../data/Anomaly-Detection-Dataset/Anomaly-Vide...</td>\n",
       "      <td>0</td>\n",
       "    </tr>\n",
       "    <tr>\n",
       "      <th>67</th>\n",
       "      <td>Assault007_x264.mp4</td>\n",
       "      <td>Assault</td>\n",
       "      <td>330</td>\n",
       "      <td>668</td>\n",
       "      <td>1099</td>\n",
       "      <td>769</td>\n",
       "      <td>../data/Anomaly-Detection-Dataset/Anomaly-Vide...</td>\n",
       "      <td>1</td>\n",
       "    </tr>\n",
       "    <tr>\n",
       "      <th>...</th>\n",
       "      <td>...</td>\n",
       "      <td>...</td>\n",
       "      <td>...</td>\n",
       "      <td>...</td>\n",
       "      <td>...</td>\n",
       "      <td>...</td>\n",
       "      <td>...</td>\n",
       "      <td>...</td>\n",
       "    </tr>\n",
       "    <tr>\n",
       "      <th>480</th>\n",
       "      <td>Normal_Videos236_x264.mp4</td>\n",
       "      <td>Normal</td>\n",
       "      <td>0</td>\n",
       "      <td>0</td>\n",
       "      <td>3380</td>\n",
       "      <td>3380</td>\n",
       "      <td>../data/Anomaly-Detection-Dataset/Anomaly-Vide...</td>\n",
       "      <td>0</td>\n",
       "    </tr>\n",
       "    <tr>\n",
       "      <th>73</th>\n",
       "      <td>Assault015_x264.mp4</td>\n",
       "      <td>Assault</td>\n",
       "      <td>0</td>\n",
       "      <td>444</td>\n",
       "      <td>1395</td>\n",
       "      <td>1395</td>\n",
       "      <td>../data/Anomaly-Detection-Dataset/Anomaly-Vide...</td>\n",
       "      <td>1</td>\n",
       "    </tr>\n",
       "    <tr>\n",
       "      <th>63</th>\n",
       "      <td>Assault003_x264.mp4</td>\n",
       "      <td>Assault</td>\n",
       "      <td>148</td>\n",
       "      <td>381</td>\n",
       "      <td>1789</td>\n",
       "      <td>1641</td>\n",
       "      <td>../data/Anomaly-Detection-Dataset/Anomaly-Vide...</td>\n",
       "      <td>1</td>\n",
       "    </tr>\n",
       "    <tr>\n",
       "      <th>622</th>\n",
       "      <td>Normal_Videos435_x264.mp4</td>\n",
       "      <td>Normal</td>\n",
       "      <td>0</td>\n",
       "      <td>0</td>\n",
       "      <td>1148</td>\n",
       "      <td>1148</td>\n",
       "      <td>../data/Anomaly-Detection-Dataset/Anomaly-Vide...</td>\n",
       "      <td>0</td>\n",
       "    </tr>\n",
       "    <tr>\n",
       "      <th>11</th>\n",
       "      <td>Abuse013_x264.mp4</td>\n",
       "      <td>Abuse</td>\n",
       "      <td>0</td>\n",
       "      <td>53</td>\n",
       "      <td>1837</td>\n",
       "      <td>1837</td>\n",
       "      <td>../data/Anomaly-Detection-Dataset/Anomaly-Vide...</td>\n",
       "      <td>1</td>\n",
       "    </tr>\n",
       "  </tbody>\n",
       "</table>\n",
       "<p>65 rows × 8 columns</p>\n",
       "</div>"
      ],
      "text/plain": [
       "                         Video    Evento  PCB  Start_Frame  End_Frame  \\\n",
       "149       Fighting047_x264.mp4  Fighting   82          384       1898   \n",
       "569  Normal_Videos359_x264.mp4    Normal    0            0        903   \n",
       "598  Normal_Videos405_x264.mp4    Normal    0            0       1065   \n",
       "500  Normal_Videos263_x264.mp4    Normal    0            0       1800   \n",
       "67         Assault007_x264.mp4   Assault  330          668       1099   \n",
       "..                         ...       ...  ...          ...        ...   \n",
       "480  Normal_Videos236_x264.mp4    Normal    0            0       3380   \n",
       "73         Assault015_x264.mp4   Assault    0          444       1395   \n",
       "63         Assault003_x264.mp4   Assault  148          381       1789   \n",
       "622  Normal_Videos435_x264.mp4    Normal    0            0       1148   \n",
       "11           Abuse013_x264.mp4     Abuse    0           53       1837   \n",
       "\n",
       "     duracion                                               Path  is_crime  \n",
       "149      1816  ../data/Anomaly-Detection-Dataset/Anomaly-Vide...         1  \n",
       "569       903  ../data/Anomaly-Detection-Dataset/Anomaly-Vide...         0  \n",
       "598      1065  ../data/Anomaly-Detection-Dataset/Anomaly-Vide...         0  \n",
       "500      1800  ../data/Anomaly-Detection-Dataset/Anomaly-Vide...         0  \n",
       "67        769  ../data/Anomaly-Detection-Dataset/Anomaly-Vide...         1  \n",
       "..        ...                                                ...       ...  \n",
       "480      3380  ../data/Anomaly-Detection-Dataset/Anomaly-Vide...         0  \n",
       "73       1395  ../data/Anomaly-Detection-Dataset/Anomaly-Vide...         1  \n",
       "63       1641  ../data/Anomaly-Detection-Dataset/Anomaly-Vide...         1  \n",
       "622      1148  ../data/Anomaly-Detection-Dataset/Anomaly-Vide...         0  \n",
       "11       1837  ../data/Anomaly-Detection-Dataset/Anomaly-Vide...         1  \n",
       "\n",
       "[65 rows x 8 columns]"
      ]
     },
     "execution_count": 50,
     "metadata": {},
     "output_type": "execute_result"
    }
   ],
   "source": [
    "test_df"
   ]
  },
  {
   "cell_type": "code",
   "execution_count": 52,
   "metadata": {},
   "outputs": [],
   "source": [
    "# Eliminar columnas que no se van a usar\n",
    "columnas = ['duracion', 'Evento', 'Video']\n",
    "train_df = train_df.drop(columns=columnas)\n",
    "valid_df = valid_df.drop(columns=columnas)\n",
    "test_df = test_df.drop(columns=columnas)"
   ]
  },
  {
   "cell_type": "code",
   "execution_count": 53,
   "metadata": {},
   "outputs": [
    {
     "data": {
      "text/html": [
       "<div>\n",
       "<style scoped>\n",
       "    .dataframe tbody tr th:only-of-type {\n",
       "        vertical-align: middle;\n",
       "    }\n",
       "\n",
       "    .dataframe tbody tr th {\n",
       "        vertical-align: top;\n",
       "    }\n",
       "\n",
       "    .dataframe thead th {\n",
       "        text-align: right;\n",
       "    }\n",
       "</style>\n",
       "<table border=\"1\" class=\"dataframe\">\n",
       "  <thead>\n",
       "    <tr style=\"text-align: right;\">\n",
       "      <th></th>\n",
       "      <th>PCB</th>\n",
       "      <th>Start_Frame</th>\n",
       "      <th>End_Frame</th>\n",
       "      <th>Path</th>\n",
       "      <th>is_crime</th>\n",
       "    </tr>\n",
       "  </thead>\n",
       "  <tbody>\n",
       "    <tr>\n",
       "      <th>433</th>\n",
       "      <td>0</td>\n",
       "      <td>0</td>\n",
       "      <td>1169</td>\n",
       "      <td>../data/Anomaly-Detection-Dataset/Anomaly-Vide...</td>\n",
       "      <td>0</td>\n",
       "    </tr>\n",
       "    <tr>\n",
       "      <th>146</th>\n",
       "      <td>143</td>\n",
       "      <td>295</td>\n",
       "      <td>1302</td>\n",
       "      <td>../data/Anomaly-Detection-Dataset/Anomaly-Vide...</td>\n",
       "      <td>1</td>\n",
       "    </tr>\n",
       "    <tr>\n",
       "      <th>413</th>\n",
       "      <td>0</td>\n",
       "      <td>0</td>\n",
       "      <td>4330</td>\n",
       "      <td>../data/Anomaly-Detection-Dataset/Anomaly-Vide...</td>\n",
       "      <td>0</td>\n",
       "    </tr>\n",
       "    <tr>\n",
       "      <th>522</th>\n",
       "      <td>0</td>\n",
       "      <td>0</td>\n",
       "      <td>4302</td>\n",
       "      <td>../data/Anomaly-Detection-Dataset/Anomaly-Vide...</td>\n",
       "      <td>0</td>\n",
       "    </tr>\n",
       "    <tr>\n",
       "      <th>231</th>\n",
       "      <td>0</td>\n",
       "      <td>140</td>\n",
       "      <td>535</td>\n",
       "      <td>../data/Anomaly-Detection-Dataset/Anomaly-Vide...</td>\n",
       "      <td>1</td>\n",
       "    </tr>\n",
       "  </tbody>\n",
       "</table>\n",
       "</div>"
      ],
      "text/plain": [
       "     PCB  Start_Frame  End_Frame  \\\n",
       "433    0            0       1169   \n",
       "146  143          295       1302   \n",
       "413    0            0       4330   \n",
       "522    0            0       4302   \n",
       "231    0          140        535   \n",
       "\n",
       "                                                  Path  is_crime  \n",
       "433  ../data/Anomaly-Detection-Dataset/Anomaly-Vide...         0  \n",
       "146  ../data/Anomaly-Detection-Dataset/Anomaly-Vide...         1  \n",
       "413  ../data/Anomaly-Detection-Dataset/Anomaly-Vide...         0  \n",
       "522  ../data/Anomaly-Detection-Dataset/Anomaly-Vide...         0  \n",
       "231  ../data/Anomaly-Detection-Dataset/Anomaly-Vide...         1  "
      ]
     },
     "execution_count": 53,
     "metadata": {},
     "output_type": "execute_result"
    }
   ],
   "source": [
    "train_df.head()"
   ]
  },
  {
   "cell_type": "code",
   "execution_count": null,
   "metadata": {},
   "outputs": [],
   "source": []
  },
  {
   "cell_type": "code",
   "execution_count": 54,
   "metadata": {},
   "outputs": [],
   "source": [
    "# Guardar los datasets en archivos csv\n",
    "train_df.to_csv(\"../data/ml/train.csv\", index=False)\n",
    "valid_df.to_csv(\"../data/ml/valid.csv\", index=False)\n",
    "test_df.to_csv(\"../data/ml/test.csv\", index=False)"
   ]
  }
 ],
 "metadata": {
  "kernelspec": {
   "display_name": "proyecto_i3d",
   "language": "python",
   "name": "python3"
  },
  "language_info": {
   "codemirror_mode": {
    "name": "ipython",
    "version": 3
   },
   "file_extension": ".py",
   "mimetype": "text/x-python",
   "name": "python",
   "nbconvert_exporter": "python",
   "pygments_lexer": "ipython3",
   "version": "3.8.20"
  }
 },
 "nbformat": 4,
 "nbformat_minor": 2
}
