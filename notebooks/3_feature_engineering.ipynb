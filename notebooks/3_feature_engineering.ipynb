{
 "cells": [
  {
   "cell_type": "markdown",
   "metadata": {},
   "source": [
    "# Feature Engineering"
   ]
  },
  {
   "cell_type": "code",
   "execution_count": 8,
   "metadata": {},
   "outputs": [],
   "source": [
    "import pandas as pd\n",
    "from sklearn.model_selection import train_test_split\n",
    "import sys\n",
    "import os\n",
    "\n",
    "# Agrega el path al directorio raíz del proyecto\n",
    "sys.path.append(os.path.abspath(\"..\"))"
   ]
  },
  {
   "cell_type": "code",
   "execution_count": 3,
   "metadata": {},
   "outputs": [],
   "source": [
    "df = pd.read_csv(\"../data/clean/data.csv\")"
   ]
  },
  {
   "cell_type": "code",
   "execution_count": 4,
   "metadata": {},
   "outputs": [
    {
     "data": {
      "text/html": [
       "<div>\n",
       "<style scoped>\n",
       "    .dataframe tbody tr th:only-of-type {\n",
       "        vertical-align: middle;\n",
       "    }\n",
       "\n",
       "    .dataframe tbody tr th {\n",
       "        vertical-align: top;\n",
       "    }\n",
       "\n",
       "    .dataframe thead th {\n",
       "        text-align: right;\n",
       "    }\n",
       "</style>\n",
       "<table border=\"1\" class=\"dataframe\">\n",
       "  <thead>\n",
       "    <tr style=\"text-align: right;\">\n",
       "      <th></th>\n",
       "      <th>Video</th>\n",
       "      <th>Evento</th>\n",
       "      <th>PCB</th>\n",
       "      <th>Start_Frame</th>\n",
       "      <th>End_Frame</th>\n",
       "    </tr>\n",
       "  </thead>\n",
       "  <tbody>\n",
       "    <tr>\n",
       "      <th>0</th>\n",
       "      <td>Abuse001_x264.mp4</td>\n",
       "      <td>Abuse</td>\n",
       "      <td>237.0</td>\n",
       "      <td>327.0</td>\n",
       "      <td>397.0</td>\n",
       "    </tr>\n",
       "    <tr>\n",
       "      <th>1</th>\n",
       "      <td>Abuse002_x264.mp4</td>\n",
       "      <td>Abuse</td>\n",
       "      <td>0.0</td>\n",
       "      <td>174.0</td>\n",
       "      <td>266.0</td>\n",
       "    </tr>\n",
       "    <tr>\n",
       "      <th>2</th>\n",
       "      <td>Abuse003_x264.mp4</td>\n",
       "      <td>Abuse</td>\n",
       "      <td>351.0</td>\n",
       "      <td>951.0</td>\n",
       "      <td>3614.0</td>\n",
       "    </tr>\n",
       "    <tr>\n",
       "      <th>3</th>\n",
       "      <td>Abuse004_x264.mp4</td>\n",
       "      <td>Abuse</td>\n",
       "      <td>558.0</td>\n",
       "      <td>898.0</td>\n",
       "      <td>5779.0</td>\n",
       "    </tr>\n",
       "    <tr>\n",
       "      <th>4</th>\n",
       "      <td>Abuse005_x264.mp4</td>\n",
       "      <td>Abuse</td>\n",
       "      <td>210.0</td>\n",
       "      <td>717.0</td>\n",
       "      <td>933.0</td>\n",
       "    </tr>\n",
       "  </tbody>\n",
       "</table>\n",
       "</div>"
      ],
      "text/plain": [
       "               Video Evento    PCB  Start_Frame  End_Frame\n",
       "0  Abuse001_x264.mp4  Abuse  237.0        327.0      397.0\n",
       "1  Abuse002_x264.mp4  Abuse    0.0        174.0      266.0\n",
       "2  Abuse003_x264.mp4  Abuse  351.0        951.0     3614.0\n",
       "3  Abuse004_x264.mp4  Abuse  558.0        898.0     5779.0\n",
       "4  Abuse005_x264.mp4  Abuse  210.0        717.0      933.0"
      ]
     },
     "execution_count": 4,
     "metadata": {},
     "output_type": "execute_result"
    }
   ],
   "source": [
    "df.head()"
   ]
  },
  {
   "cell_type": "code",
   "execution_count": 5,
   "metadata": {},
   "outputs": [],
   "source": [
    "# Crear una columna con el path\n",
    "df['Path'] = df.apply(lambda row: f\"../data/Anomaly-Detection-Dataset/Anomaly-Videos/{row['Evento']}/{row['Video']}\", axis=1)"
   ]
  },
  {
   "cell_type": "code",
   "execution_count": 6,
   "metadata": {},
   "outputs": [
    {
     "data": {
      "text/plain": [
       "0    ../data/Anomaly-Detection-Dataset/Anomaly-Vide...\n",
       "1    ../data/Anomaly-Detection-Dataset/Anomaly-Vide...\n",
       "2    ../data/Anomaly-Detection-Dataset/Anomaly-Vide...\n",
       "3    ../data/Anomaly-Detection-Dataset/Anomaly-Vide...\n",
       "4    ../data/Anomaly-Detection-Dataset/Anomaly-Vide...\n",
       "Name: Path, dtype: object"
      ]
     },
     "execution_count": 6,
     "metadata": {},
     "output_type": "execute_result"
    }
   ],
   "source": [
    "df['Path'].head()"
   ]
  },
  {
   "cell_type": "markdown",
   "metadata": {},
   "source": [
    "## Separación de train, test y validation"
   ]
  },
  {
   "cell_type": "code",
   "execution_count": 9,
   "metadata": {},
   "outputs": [],
   "source": [
    "# Dividir el dataset en train (80%), valid (10%), test (10%)\n",
    "train_df, test_valid_df = train_test_split(df, test_size=0.2, random_state=42, stratify=df['Evento'])\n",
    "valid_df, test_df = train_test_split(test_valid_df, test_size=0.5, random_state=42, stratify=test_valid_df['Evento'])"
   ]
  },
  {
   "cell_type": "code",
   "execution_count": 12,
   "metadata": {},
   "outputs": [],
   "source": [
    "# Función para ver cuantos eventos hay en cada dataset en porcentaje\n",
    "def count_events(df, name):\n",
    "    print(f\"{name}:\")\n",
    "    print(df['Evento'].value_counts(normalize=True) * 100)\n",
    "    print()"
   ]
  },
  {
   "cell_type": "code",
   "execution_count": 14,
   "metadata": {},
   "outputs": [
    {
     "name": "stdout",
     "output_type": "stream",
     "text": [
      "Train:\n",
      "Evento\n",
      "Normal         30.690537\n",
      "Robbery        20.460358\n",
      "Stealing        7.928389\n",
      "Abuse           7.161125\n",
      "Assault         6.905371\n",
      "Fighting        6.649616\n",
      "Burglary        5.882353\n",
      "Arson           5.626598\n",
      "Vandalism       3.580563\n",
      "Shoplifting     3.069054\n",
      "Shooting        2.046036\n",
      "Name: proportion, dtype: float64\n",
      "\n",
      "Valid:\n",
      "Evento\n",
      "Normal         30.612245\n",
      "Robbery        20.408163\n",
      "Stealing        8.163265\n",
      "Assault         8.163265\n",
      "Burglary        6.122449\n",
      "Arson           6.122449\n",
      "Abuse           6.122449\n",
      "Fighting        6.122449\n",
      "Vandalism       4.081633\n",
      "Shooting        2.040816\n",
      "Shoplifting     2.040816\n",
      "Name: proportion, dtype: float64\n",
      "\n",
      "Test:\n",
      "Evento\n",
      "Normal         30.612245\n",
      "Robbery        20.408163\n",
      "Stealing        8.163265\n",
      "Abuse           8.163265\n",
      "Assault         6.122449\n",
      "Fighting        6.122449\n",
      "Burglary        6.122449\n",
      "Arson           6.122449\n",
      "Shoplifting     4.081633\n",
      "Shooting        2.040816\n",
      "Vandalism       2.040816\n",
      "Name: proportion, dtype: float64\n",
      "\n"
     ]
    }
   ],
   "source": [
    "count_events(train_df, \"Train\")\n",
    "count_events(valid_df, \"Valid\")\n",
    "count_events(test_df, \"Test\")"
   ]
  },
  {
   "cell_type": "code",
   "execution_count": 15,
   "metadata": {},
   "outputs": [],
   "source": [
    "# Guardar los datasets en archivos csv\n",
    "train_df.to_csv(\"../data/ml/train.csv\", index=False)\n",
    "valid_df.to_csv(\"../data/ml/valid.csv\", index=False)\n",
    "test_df.to_csv(\"../data/ml/test.csv\", index=False)"
   ]
  }
 ],
 "metadata": {
  "kernelspec": {
   "display_name": "proyecto_i3d",
   "language": "python",
   "name": "python3"
  },
  "language_info": {
   "codemirror_mode": {
    "name": "ipython",
    "version": 3
   },
   "file_extension": ".py",
   "mimetype": "text/x-python",
   "name": "python",
   "nbconvert_exporter": "python",
   "pygments_lexer": "ipython3",
   "version": "3.8.20"
  }
 },
 "nbformat": 4,
 "nbformat_minor": 2
}
