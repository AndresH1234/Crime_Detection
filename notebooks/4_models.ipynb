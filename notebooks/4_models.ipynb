{
 "cells": [
  {
   "cell_type": "markdown",
   "metadata": {},
   "source": [
    "# Models Creation"
   ]
  },
  {
   "cell_type": "code",
   "execution_count": 1,
   "metadata": {},
   "outputs": [],
   "source": [
    "import cv2\n",
    "import numpy as np\n",
    "import os\n",
    "import sys\n",
    "import pandas as pd\n",
    "from sklearn.model_selection import train_test_split"
   ]
  },
  {
   "cell_type": "code",
   "execution_count": 2,
   "metadata": {},
   "outputs": [
    {
     "name": "stderr",
     "output_type": "stream",
     "text": [
      "2025-04-16 22:39:07.949269: I tensorflow/stream_executor/platform/default/dso_loader.cc:53] Successfully opened dynamic library libcudart.so.11.0\n"
     ]
    }
   ],
   "source": [
    "import tensorflow as tf"
   ]
  },
  {
   "cell_type": "code",
   "execution_count": 3,
   "metadata": {},
   "outputs": [
    {
     "name": "stdout",
     "output_type": "stream",
     "text": [
      "GPUs disponibles:\n",
      "GPU 0: PhysicalDevice(name='/physical_device:GPU:0', device_type='GPU')\n",
      "GPU 1: PhysicalDevice(name='/physical_device:GPU:1', device_type='GPU')\n",
      "Configuración de GPU establecida correctamente.\n"
     ]
    },
    {
     "name": "stderr",
     "output_type": "stream",
     "text": [
      "2025-04-16 22:39:08.776778: I tensorflow/stream_executor/platform/default/dso_loader.cc:53] Successfully opened dynamic library libcuda.so.1\n",
      "2025-04-16 22:39:08.820626: I tensorflow/core/common_runtime/gpu/gpu_device.cc:1733] Found device 0 with properties: \n",
      "pciBusID: 0000:0a:00.0 name: NVIDIA A100 80GB PCIe computeCapability: 8.0\n",
      "coreClock: 1.41GHz coreCount: 108 deviceMemorySize: 79.25GiB deviceMemoryBandwidth: 1.76TiB/s\n",
      "2025-04-16 22:39:08.821880: I tensorflow/core/common_runtime/gpu/gpu_device.cc:1733] Found device 1 with properties: \n",
      "pciBusID: 0000:ae:00.0 name: NVIDIA A100 80GB PCIe computeCapability: 8.0\n",
      "coreClock: 1.41GHz coreCount: 108 deviceMemorySize: 79.25GiB deviceMemoryBandwidth: 1.76TiB/s\n",
      "2025-04-16 22:39:08.821899: I tensorflow/stream_executor/platform/default/dso_loader.cc:53] Successfully opened dynamic library libcudart.so.11.0\n",
      "2025-04-16 22:39:08.824893: I tensorflow/stream_executor/platform/default/dso_loader.cc:53] Successfully opened dynamic library libcublas.so.11\n",
      "2025-04-16 22:39:08.824953: I tensorflow/stream_executor/platform/default/dso_loader.cc:53] Successfully opened dynamic library libcublasLt.so.11\n",
      "2025-04-16 22:39:08.825987: I tensorflow/stream_executor/platform/default/dso_loader.cc:53] Successfully opened dynamic library libcufft.so.10\n",
      "2025-04-16 22:39:08.826228: I tensorflow/stream_executor/platform/default/dso_loader.cc:53] Successfully opened dynamic library libcurand.so.10\n",
      "2025-04-16 22:39:08.829252: I tensorflow/stream_executor/platform/default/dso_loader.cc:53] Successfully opened dynamic library libcusolver.so.11\n",
      "2025-04-16 22:39:08.830237: I tensorflow/stream_executor/platform/default/dso_loader.cc:53] Successfully opened dynamic library libcusparse.so.11\n",
      "2025-04-16 22:39:08.830356: I tensorflow/stream_executor/platform/default/dso_loader.cc:53] Successfully opened dynamic library libcudnn.so.8\n",
      "2025-04-16 22:39:08.834739: I tensorflow/core/common_runtime/gpu/gpu_device.cc:1871] Adding visible gpu devices: 0, 1\n"
     ]
    }
   ],
   "source": [
    "# Listar GPUs disponibles\n",
    "gpus = tf.config.experimental.list_physical_devices('GPU')\n",
    "\n",
    "if gpus:\n",
    "    try:\n",
    "        # Asegúrate de que la GPU 1 existe\n",
    "        print(\"GPUs disponibles:\")\n",
    "        for i, gpu in enumerate(gpus):\n",
    "            print(f\"GPU {i}: {gpu}\")\n",
    "\n",
    "        # Limitar visibilidad a solo la GPU 1\n",
    "        tf.config.experimental.set_visible_devices(gpus[1], 'GPU')\n",
    "\n",
    "        # Establecer límite de memoria a 40 GB\n",
    "        tf.config.experimental.set_virtual_device_configuration(\n",
    "            gpus[1],\n",
    "            [tf.config.experimental.VirtualDeviceConfiguration(memory_limit=40960)]\n",
    "        )\n",
    "\n",
    "        print(\"Configuración de GPU establecida correctamente.\")\n",
    "    except RuntimeError as e:\n",
    "        print(\"Error al configurar la GPU:\", e)\n",
    "else:\n",
    "    print(\"No se encontraron GPUs disponibles.\")"
   ]
  },
  {
   "cell_type": "code",
   "execution_count": 4,
   "metadata": {},
   "outputs": [],
   "source": [
    "os.environ['TF_DETERMINISTIC_OPS'] = '1'"
   ]
  },
  {
   "cell_type": "code",
   "execution_count": 5,
   "metadata": {},
   "outputs": [],
   "source": [
    "# Poner todas las seed en 42\n",
    "import random\n",
    "seed = 42\n",
    "random.seed(seed)\n",
    "np.random.seed(seed)\n",
    "tf.random.set_seed(seed)"
   ]
  },
  {
   "cell_type": "code",
   "execution_count": 6,
   "metadata": {},
   "outputs": [],
   "source": [
    "# Agrega el path al directorio raíz del proyecto\n",
    "sys.path.append(os.path.abspath(\"..\"))\n",
    "from models.i3d import InceptionI3d"
   ]
  },
  {
   "cell_type": "code",
   "execution_count": 7,
   "metadata": {},
   "outputs": [],
   "source": [
    "train_df = pd.read_csv(\"../data/ml/train.csv\")\n",
    "valid_df = pd.read_csv(\"../data/ml/valid.csv\")\n",
    "test_df = pd.read_csv(\"../data/ml/test.csv\")\n"
   ]
  },
  {
   "cell_type": "code",
   "execution_count": 8,
   "metadata": {},
   "outputs": [
    {
     "data": {
      "text/plain": [
       "'data = pd.read_csv(\"../data/ml/test.csv\")\\n# Dividir el dataset en train (80%), valid (10%), test (10%)\\ntrain_df, test_valid_df = train_test_split(data, test_size=0.2, random_state=42, stratify=data[\\'is_crime\\'])\\nvalid_df, test_df = train_test_split(test_valid_df, test_size=0.5, random_state=42)'"
      ]
     },
     "execution_count": 8,
     "metadata": {},
     "output_type": "execute_result"
    }
   ],
   "source": [
    "\"\"\"data = pd.read_csv(\"../data/ml/test.csv\")\n",
    "# Dividir el dataset en train (80%), valid (10%), test (10%)\n",
    "train_df, test_valid_df = train_test_split(data, test_size=0.2, random_state=42, stratify=data['is_crime'])\n",
    "valid_df, test_df = train_test_split(test_valid_df, test_size=0.5, random_state=42)\"\"\""
   ]
  },
  {
   "cell_type": "markdown",
   "metadata": {},
   "source": [
    "## Data Loader"
   ]
  },
  {
   "cell_type": "code",
   "execution_count": 9,
   "metadata": {},
   "outputs": [],
   "source": [
    "from tensorflow.keras.utils import to_categorical\n",
    "class VideoDataModule:\n",
    "    def __init__(self, train_df, val_df, test_df, batch_size=8, frame_size=(224, 224), num_frames=32):\n",
    "        self.train_df = train_df\n",
    "        self.val_df = val_df\n",
    "        self.test_df = test_df\n",
    "        self.batch_size = batch_size\n",
    "        self.frame_size = frame_size\n",
    "        self.num_frames = num_frames\n",
    "        tf.random.set_seed(42)  # Establecer la semilla\n",
    "\n",
    "    def _load_video_frames(self, video_path, start_frame, end_frame, training=False):\n",
    "        cap = cv2.VideoCapture(video_path)\n",
    "        \n",
    "        if not cap.isOpened():\n",
    "            print(f\"Error: No se pudo abrir el video {video_path}\")\n",
    "            return None\n",
    "        \n",
    "        frames = []\n",
    "        total_frames = int(cap.get(cv2.CAP_PROP_FRAME_COUNT))\n",
    "        \n",
    "        start_frame = int(start_frame) if not np.isnan(start_frame) else 0\n",
    "        end_frame = int(end_frame) if not np.isnan(end_frame) else total_frames\n",
    "        \n",
    "        # Chequear si el video tiene suficientes frames\n",
    "        if end_frame - start_frame < self.num_frames:\n",
    "            print(f\"Advertencia: {video_path} tiene menos frames que los requeridos. Usando todo el video.\")\n",
    "        \n",
    "        # Temporal offset aleatorio\n",
    "        if training:\n",
    "            # Ajustar máximo punto de inicio si hay menos frames disponibles que num_frames\n",
    "            max_start = max(start_frame, end_frame - self.num_frames * max(1, (end_frame - start_frame) // self.num_frames))\n",
    "            clip_start = np.random.randint(start_frame, max_start + 1)\n",
    "        else:\n",
    "            clip_start = start_frame\n",
    "        \n",
    "        cap.set(cv2.CAP_PROP_POS_FRAMES, clip_start)\n",
    "\n",
    "        step = max(1, (end_frame - start_frame) // self.num_frames)\n",
    "\n",
    "        for _ in range(self.num_frames):\n",
    "            ret, frame = cap.read()\n",
    "            if not ret:\n",
    "                break\n",
    "            \n",
    "            frame = cv2.cvtColor(frame, cv2.COLOR_BGR2RGB)\n",
    "            frame = tf.convert_to_tensor(frame, dtype=tf.float32)\n",
    "\n",
    "            if training:\n",
    "                # Padding + random crop\n",
    "                frame = tf.image.resize_with_crop_or_pad(frame, 240, 240)\n",
    "                frame = tf.image.random_crop(frame, size=[*self.frame_size, 3])\n",
    "                \n",
    "                # Augmentaciones base\n",
    "                frame = tf.image.random_flip_left_right(frame, seed=42)\n",
    "                frame = tf.image.random_brightness(frame, max_delta=0.2, seed=42)\n",
    "                frame = tf.image.random_contrast(frame, lower=0.8, upper=1.2, seed=42)\n",
    "                frame = tf.image.random_hue(frame, max_delta=0.05, seed=42)\n",
    "\n",
    "                # Posibilidad de añadir ruido o blur\n",
    "                if np.random.rand() < 0.2:\n",
    "                    noise = tf.random.normal(shape=tf.shape(frame), mean=0.0, stddev=5.0)\n",
    "                    frame = tf.clip_by_value(frame + noise, 0.0, 255.0)\n",
    "\n",
    "                if np.random.rand() < 0.2:\n",
    "                    # Blur usando OpenCV\n",
    "                    frame = tf.cast(frame, tf.uint8).numpy()\n",
    "                    frame = cv2.GaussianBlur(frame, (5, 5), 0)\n",
    "                    frame = tf.convert_to_tensor(frame, dtype=tf.float32)\n",
    "\n",
    "            else:\n",
    "                # Normal resize para validación/test\n",
    "                frame = tf.image.resize(frame, self.frame_size)\n",
    "\n",
    "            # Normalización final\n",
    "            frame = frame / 255.0\n",
    "            frames.append(frame.numpy())\n",
    "\n",
    "            for _ in range(step - 1):  # Saltar frames para ajustarse al total\n",
    "                cap.read()\n",
    "\n",
    "        cap.release()\n",
    "\n",
    "        # Si faltan frames, completamos con ceros\n",
    "        while len(frames) < self.num_frames:\n",
    "            frames.append(np.zeros((*self.frame_size, 3)))\n",
    "\n",
    "        return np.array(frames, dtype=np.float32)\n",
    "\n",
    "\n",
    "    def _dataframe_to_tf_dataset(self, df, shuffle=True, training=False):\n",
    "        file_paths = df[\"Path\"].values\n",
    "        start_frames = df[\"PCB\"].values\n",
    "        end_frames = df[\"End_Frame\"].values\n",
    "        labels = df[\"is_crime\"].values\n",
    "\n",
    "        def generator():\n",
    "            one_hot_labels = to_categorical(labels, num_classes=2)  # Convertimos una sola vez fuera del bucle\n",
    "            for i in range(len(file_paths)):\n",
    "                video_tensor = self._load_video_frames(file_paths[i], start_frames[i], end_frames[i], training)\n",
    "                yield video_tensor, one_hot_labels[i]\n",
    "\n",
    "        dataset = tf.data.Dataset.from_generator(\n",
    "            generator,\n",
    "            output_signature=(\n",
    "                tf.TensorSpec(shape=(self.num_frames, *self.frame_size, 3), dtype=tf.float32),\n",
    "                tf.TensorSpec(shape=(2,), dtype=tf.float32),\n",
    "            ),\n",
    "        )\n",
    "\n",
    "        if shuffle:\n",
    "            dataset = dataset.shuffle(\n",
    "                buffer_size=min(max(1000, len(df)//10), len(df)),  \n",
    "                seed=42,  \n",
    "                reshuffle_each_iteration=True  \n",
    "            )\n",
    "\n",
    "        dataset = dataset.batch(self.batch_size).prefetch(tf.data.AUTOTUNE)\n",
    "        return dataset\n",
    "\n",
    "    def train_dataset(self):\n",
    "        return self._dataframe_to_tf_dataset(self.train_df, shuffle=True, training=True)\n",
    "\n",
    "    def val_dataset(self):\n",
    "        return self._dataframe_to_tf_dataset(self.val_df, shuffle=False, training=False)\n",
    "\n",
    "    def test_dataset(self):\n",
    "        return self._dataframe_to_tf_dataset(self.test_df, shuffle=False, training=False)"
   ]
  },
  {
   "cell_type": "markdown",
   "metadata": {},
   "source": [
    "## Train with checkpoints"
   ]
  },
  {
   "cell_type": "code",
   "execution_count": 10,
   "metadata": {},
   "outputs": [],
   "source": [
    "from tensorflow.keras.callbacks import EarlyStopping, ModelCheckpoint, LearningRateScheduler\n",
    "def train_with_checkpoints(model, train_dataset, val_dataset, epochs, checkpoint_dir, one_cycle_scheduler):\n",
    "    os.makedirs(checkpoint_dir, exist_ok=True)\n",
    "\n",
    "    last_epoch_file = os.path.join(checkpoint_dir, \"last_epoch.npy\")\n",
    "    history_file = os.path.join(checkpoint_dir, \"history.npy\")\n",
    "\n",
    "    # Callback para guardar TODAS las épocas\n",
    "    full_history_callback = ModelCheckpoint(\n",
    "        filepath=os.path.join(checkpoint_dir, \"epoch_{epoch:02d}\"),\n",
    "        save_freq='epoch',\n",
    "        save_weights_only=True\n",
    "    )\n",
    "\n",
    "    # Callback para guardar solo el MEJOR modelo\n",
    "    best_model_callback = ModelCheckpoint(\n",
    "        filepath=os.path.join(checkpoint_dir, \"best_model\"),\n",
    "        monitor=\"val_loss\",\n",
    "        mode=\"min\",\n",
    "        save_best_only=True,\n",
    "        save_weights_only=True\n",
    "    )\n",
    "\n",
    "    # Intentar cargar la última época guardada\n",
    "    if os.path.exists(last_epoch_file):\n",
    "        initial_epoch = int(np.load(last_epoch_file))\n",
    "        model.load_weights(os.path.join(checkpoint_dir, \"best_model\"))\n",
    "        print(f\"Resuming training from epoch {initial_epoch}\")\n",
    "    else:\n",
    "        initial_epoch = 0\n",
    "        print(\"Starting training from scratch.\")\n",
    "\n",
    "    # Callback para detener el entrenamiento si no hay mejora\n",
    "    early_stop_callback = EarlyStopping(\n",
    "        monitor=\"val_loss\", \n",
    "        patience=30, \n",
    "        mode=\"min\", \n",
    "        restore_best_weights=True\n",
    "    )\n",
    "\n",
    "    # Callback para guardar la época actual\n",
    "    class EpochSaver(tf.keras.callbacks.Callback):\n",
    "        def on_epoch_end(self, epoch, logs=None):\n",
    "            np.save(last_epoch_file, epoch + 1)\n",
    "\n",
    "    # Callback para guardar historial después de cada época\n",
    "    class HistorySaver(tf.keras.callbacks.Callback):\n",
    "        def on_epoch_end(self, epoch, logs=None):\n",
    "            if logs is not None:\n",
    "                history_full['loss'].append(logs.get('loss', None))\n",
    "                history_full['val_loss'].append(logs.get('val_loss', None))\n",
    "                np.save(history_file, history_full)\n",
    "\n",
    "    epoch_saver_callback = EpochSaver()\n",
    "    history_saver_callback = HistorySaver()\n",
    "    lr_scheduler_callback = LearningRateScheduler(one_cycle_scheduler)\n",
    "    # Cargar historial previo si existe\n",
    "    if os.path.exists(history_file):\n",
    "        history_full = np.load(history_file, allow_pickle=True).item()\n",
    "    else:\n",
    "        history_full = {'loss': [], 'val_loss': []}\n",
    "\n",
    "    # Verificar si el entrenamiento ya ha terminado\n",
    "    if initial_epoch >= epochs:\n",
    "        print(\"Training already completed. No new epochs to run.\")\n",
    "        return None, history_full\n",
    "\n",
    "    # Iniciar entrenamiento\n",
    "    history = model.fit(\n",
    "        train_dataset,\n",
    "        validation_data=val_dataset,\n",
    "        epochs=epochs,\n",
    "        initial_epoch=initial_epoch,\n",
    "        callbacks=[\n",
    "            early_stop_callback, \n",
    "            best_model_callback, \n",
    "            full_history_callback, \n",
    "            epoch_saver_callback, \n",
    "            history_saver_callback, \n",
    "            lr_scheduler_callback\n",
    "        ],\n",
    "        verbose=1\n",
    "    )\n",
    "\n",
    "    return history, history_full"
   ]
  },
  {
   "cell_type": "markdown",
   "metadata": {},
   "source": [
    "## Max and Min Learning rate Finder"
   ]
  },
  {
   "cell_type": "code",
   "execution_count": 11,
   "metadata": {},
   "outputs": [],
   "source": [
    "import tensorflow as tf\n",
    "import numpy as np\n",
    "import matplotlib.pyplot as plt\n",
    "from typing import Optional, Tuple\n",
    "\n",
    "class LRFinder(tf.keras.callbacks.Callback):\n",
    "    def __init__(self, min_lr: float = 1e-6, max_lr: float = 1, steps: int = 100, smoothing: float = 0.05):\n",
    "        super().__init__()\n",
    "        self.min_lr = min_lr\n",
    "        self.max_lr = max_lr\n",
    "        self.total_steps = steps\n",
    "        self.smoothing = smoothing  # Para suavizado exponencial de la pérdida\n",
    "        self.lrs = []\n",
    "        self.losses = []\n",
    "        self.smoothed_losses = []\n",
    "        self.best_loss = float(\"inf\")\n",
    "        self._step = 0\n",
    "        self._avg_loss = 0\n",
    "\n",
    "    def on_train_begin(self, logs=None):\n",
    "        self._step = 0\n",
    "        self.lr_mult = (self.max_lr / self.min_lr) ** (1 / self.total_steps)\n",
    "        tf.keras.backend.set_value(self.model.optimizer.lr, self.min_lr)\n",
    "        self.lrs.clear()\n",
    "        self.losses.clear()\n",
    "        self.smoothed_losses.clear()\n",
    "        self.best_loss = float(\"inf\")\n",
    "        self._avg_loss = 0\n",
    "\n",
    "    def on_batch_end(self, batch, logs=None):\n",
    "        self._step += 1\n",
    "        lr = tf.keras.backend.get_value(self.model.optimizer.lr)\n",
    "        loss = logs[\"loss\"]\n",
    "        \n",
    "        # Suavizado exponencial de la pérdida\n",
    "        if self._step == 1:\n",
    "            self._avg_loss = loss\n",
    "        else:\n",
    "            self._avg_loss = self.smoothing * loss + (1 - self.smoothing) * self._avg_loss\n",
    "        \n",
    "        self.lrs.append(lr)\n",
    "        self.losses.append(loss)\n",
    "        self.smoothed_losses.append(self._avg_loss)\n",
    "\n",
    "        # Actualizar mejor pérdida\n",
    "        if self._avg_loss < self.best_loss:\n",
    "            self.best_loss = self._avg_loss\n",
    "\n",
    "        # Condición de parada\n",
    "        if self._step > self.total_steps or tf.math.is_nan(loss): # or loss > self.best_loss * 10:\n",
    "            self.model.stop_training = True\n",
    "            return\n",
    "\n",
    "        # Actualizar LR para el siguiente batch\n",
    "        lr *= self.lr_mult\n",
    "        tf.keras.backend.set_value(self.model.optimizer.lr, lr)\n",
    "\n",
    "    def plot_loss(self, skip_start: int = 10, skip_end: int = 5, log_scale: bool = True):\n",
    "        \"\"\"Grafica la pérdida vs learning rate.\"\"\"\n",
    "        lrs = self.lrs[skip_start:-skip_end or None]\n",
    "        losses = self.smoothed_losses[skip_start:-skip_end or None]\n",
    "        \n",
    "        fig, ax = plt.subplots(figsize=(10, 6))\n",
    "        ax.plot(lrs, losses)\n",
    "        \n",
    "        if log_scale:\n",
    "            ax.set_xscale('log')\n",
    "        \n",
    "        ax.set_xlabel('Learning Rate')\n",
    "        ax.set_ylabel('Loss')\n",
    "        ax.set_title('Learning Rate Finder')\n",
    "        ax.grid(True, which='both', linestyle='--', alpha=0.6)\n",
    "        return fig, ax"
   ]
  },
  {
   "cell_type": "markdown",
   "metadata": {},
   "source": [
    "## I3D Model"
   ]
  },
  {
   "cell_type": "code",
   "execution_count": 12,
   "metadata": {},
   "outputs": [],
   "source": [
    "epochs = 2  # Número de épocas para el entrenamiento\n",
    "num_classes = 2 # Número de clases"
   ]
  },
  {
   "cell_type": "code",
   "execution_count": 13,
   "metadata": {},
   "outputs": [],
   "source": [
    "# Clase adaptadora para usar InceptionI3D como modelo de Keras\n",
    "class KerasI3D(tf.keras.Model):\n",
    "    def __init__(self, num_classes, endpoint = \"Predictions\"):\n",
    "        super(KerasI3D, self).__init__()\n",
    "        self.i3d = InceptionI3d(num_classes=num_classes, is_training=True, final_endpoint=endpoint)\n",
    "        \n",
    "    def call(self, inputs, training=False):\n",
    "        logits, _ = self.i3d(inputs)  # El modelo I3D devuelve logits y endpoints\n",
    "        return logits"
   ]
  },
  {
   "cell_type": "markdown",
   "metadata": {},
   "source": [
    "### Modelo"
   ]
  },
  {
   "cell_type": "code",
   "execution_count": 14,
   "metadata": {},
   "outputs": [],
   "source": [
    "initial_learning_rate = 1e-7"
   ]
  },
  {
   "cell_type": "code",
   "execution_count": 15,
   "metadata": {},
   "outputs": [
    {
     "name": "stderr",
     "output_type": "stream",
     "text": [
      "2025-04-16 22:39:09.156509: I tensorflow/core/platform/cpu_feature_guard.cc:142] This TensorFlow binary is optimized with oneAPI Deep Neural Network Library (oneDNN) to use the following CPU instructions in performance-critical operations:  AVX2 AVX512F FMA\n",
      "To enable them in other operations, rebuild TensorFlow with the appropriate compiler flags.\n",
      "2025-04-16 22:39:09.170079: I tensorflow/core/common_runtime/gpu/gpu_device.cc:1733] Found device 0 with properties: \n",
      "pciBusID: 0000:ae:00.0 name: NVIDIA A100 80GB PCIe computeCapability: 8.0\n",
      "coreClock: 1.41GHz coreCount: 108 deviceMemorySize: 79.25GiB deviceMemoryBandwidth: 1.76TiB/s\n",
      "2025-04-16 22:39:09.172036: I tensorflow/core/common_runtime/gpu/gpu_device.cc:1871] Adding visible gpu devices: 1\n",
      "2025-04-16 22:39:09.172091: I tensorflow/stream_executor/platform/default/dso_loader.cc:53] Successfully opened dynamic library libcudart.so.11.0\n",
      "2025-04-16 22:39:09.893078: I tensorflow/core/common_runtime/gpu/gpu_device.cc:1258] Device interconnect StreamExecutor with strength 1 edge matrix:\n",
      "2025-04-16 22:39:09.893107: I tensorflow/core/common_runtime/gpu/gpu_device.cc:1264]      1 \n",
      "2025-04-16 22:39:09.893113: I tensorflow/core/common_runtime/gpu/gpu_device.cc:1277] 1:   N \n",
      "2025-04-16 22:39:09.896813: I tensorflow/core/common_runtime/gpu/gpu_device.cc:1418] Created TensorFlow device (/job:localhost/replica:0/task:0/device:GPU:0 with 40960 MB memory) -> physical GPU (device: 1, name: NVIDIA A100 80GB PCIe, pci bus id: 0000:ae:00.0, compute capability: 8.0)\n"
     ]
    }
   ],
   "source": [
    "from tensorflow.keras.metrics import AUC\n",
    "\n",
    "# Crear el DataModule\n",
    "data_module = VideoDataModule(train_df, valid_df, test_df, batch_size=8)\n",
    "# Obtener los datasets\n",
    "train_dataset = data_module.train_dataset()\n",
    "val_dataset = data_module.val_dataset()\n",
    "test_dataset = data_module.test_dataset()\n",
    "\n",
    "model_1 = KerasI3D(num_classes=num_classes)\n",
    "optimizer = tf.keras.optimizers.Adam(\n",
    "    learning_rate=initial_learning_rate,\n",
    ")\n",
    "loss_fn = tf.keras.losses.BinaryCrossentropy(from_logits=False)\n",
    "model_1.compile(optimizer=optimizer, loss=loss_fn, metrics=[\"accuracy\", AUC(name=\"auc\")])"
   ]
  },
  {
   "cell_type": "code",
   "execution_count": 16,
   "metadata": {},
   "outputs": [
    {
     "name": "stderr",
     "output_type": "stream",
     "text": [
      "2025-04-16 22:39:16.955775: W tensorflow/python/util/util.cc:348] Sets are not currently considered sequences, but this may change in the future, so consider avoiding using them.\n",
      "2025-04-16 22:39:19.428006: I tensorflow/compiler/mlir/mlir_graph_optimization_pass.cc:176] None of the MLIR Optimization Passes are enabled (registered 2)\n",
      "2025-04-16 22:39:19.454274: I tensorflow/core/platform/profile_utils/cpu_utils.cc:114] CPU Frequency: 2100000000 Hz\n",
      "2025-04-16 22:39:36.356220: I tensorflow/core/kernels/data/shuffle_dataset_op.cc:177] Filling up shuffle buffer (this may take a while): 32 of 516\n",
      "2025-04-16 22:39:46.249888: I tensorflow/core/kernels/data/shuffle_dataset_op.cc:177] Filling up shuffle buffer (this may take a while): 68 of 516\n"
     ]
    },
    {
     "name": "stdout",
     "output_type": "stream",
     "text": [
      "Advertencia: ../data/train/Shoplifting042_x264.mp4 tiene menos frames que los requeridos. Usando todo el video.\n"
     ]
    },
    {
     "name": "stderr",
     "output_type": "stream",
     "text": [
      "2025-04-16 22:39:56.512757: I tensorflow/core/kernels/data/shuffle_dataset_op.cc:177] Filling up shuffle buffer (this may take a while): 101 of 516\n",
      "2025-04-16 22:40:06.670791: I tensorflow/core/kernels/data/shuffle_dataset_op.cc:177] Filling up shuffle buffer (this may take a while): 134 of 516\n",
      "2025-04-16 22:40:16.609122: I tensorflow/core/kernels/data/shuffle_dataset_op.cc:177] Filling up shuffle buffer (this may take a while): 159 of 516\n",
      "2025-04-16 22:40:26.347762: I tensorflow/core/kernels/data/shuffle_dataset_op.cc:177] Filling up shuffle buffer (this may take a while): 189 of 516\n",
      "2025-04-16 22:40:36.420174: I tensorflow/core/kernels/data/shuffle_dataset_op.cc:177] Filling up shuffle buffer (this may take a while): 218 of 516\n",
      "2025-04-16 22:40:46.668358: I tensorflow/core/kernels/data/shuffle_dataset_op.cc:177] Filling up shuffle buffer (this may take a while): 246 of 516\n",
      "2025-04-16 22:40:56.539801: I tensorflow/core/kernels/data/shuffle_dataset_op.cc:177] Filling up shuffle buffer (this may take a while): 276 of 516\n",
      "2025-04-16 22:41:06.259030: I tensorflow/core/kernels/data/shuffle_dataset_op.cc:177] Filling up shuffle buffer (this may take a while): 302 of 516\n",
      "2025-04-16 22:41:16.426749: I tensorflow/core/kernels/data/shuffle_dataset_op.cc:177] Filling up shuffle buffer (this may take a while): 334 of 516\n",
      "2025-04-16 22:41:26.321597: I tensorflow/core/kernels/data/shuffle_dataset_op.cc:177] Filling up shuffle buffer (this may take a while): 362 of 516\n",
      "2025-04-16 22:41:36.229567: I tensorflow/core/kernels/data/shuffle_dataset_op.cc:177] Filling up shuffle buffer (this may take a while): 395 of 516\n",
      "2025-04-16 22:41:46.488154: I tensorflow/core/kernels/data/shuffle_dataset_op.cc:177] Filling up shuffle buffer (this may take a while): 429 of 516\n",
      "2025-04-16 22:41:56.461560: I tensorflow/core/kernels/data/shuffle_dataset_op.cc:177] Filling up shuffle buffer (this may take a while): 454 of 516\n",
      "2025-04-16 22:42:06.413998: I tensorflow/core/kernels/data/shuffle_dataset_op.cc:177] Filling up shuffle buffer (this may take a while): 481 of 516\n",
      "2025-04-16 22:42:16.290702: I tensorflow/core/kernels/data/shuffle_dataset_op.cc:177] Filling up shuffle buffer (this may take a while): 513 of 516\n",
      "2025-04-16 22:42:16.975290: I tensorflow/core/kernels/data/shuffle_dataset_op.cc:230] Shuffle buffer filled.\n",
      "2025-04-16 22:42:17.131593: I tensorflow/stream_executor/platform/default/dso_loader.cc:53] Successfully opened dynamic library libcudnn.so.8\n",
      "2025-04-16 22:42:17.764597: I tensorflow/stream_executor/cuda/cuda_dnn.cc:359] Loaded cuDNN version 8100\n",
      "2025-04-16 22:42:18.597351: E tensorflow/core/platform/default/subprocess.cc:304] Start cannot spawn child process: No such file or directory\n",
      "2025-04-16 22:42:18.597381: W tensorflow/stream_executor/gpu/asm_compiler.cc:56] Couldn't invoke ptxas --version\n",
      "2025-04-16 22:42:18.598565: E tensorflow/core/platform/default/subprocess.cc:304] Start cannot spawn child process: No such file or directory\n",
      "2025-04-16 22:42:18.598609: W tensorflow/stream_executor/gpu/redzone_allocator.cc:314] Internal: Failed to launch ptxas\n",
      "Relying on driver to perform ptx compilation. \n",
      "Modify $PATH to customize ptxas location.\n",
      "This message will be only logged once.\n",
      "2025-04-16 22:42:18.684474: I tensorflow/stream_executor/platform/default/dso_loader.cc:53] Successfully opened dynamic library libcublas.so.11\n",
      "2025-04-16 22:42:19.246997: I tensorflow/stream_executor/platform/default/dso_loader.cc:53] Successfully opened dynamic library libcublasLt.so.11\n"
     ]
    },
    {
     "name": "stdout",
     "output_type": "stream",
     "text": [
      "      6/Unknown - 192s 316ms/step - loss: 0.6917 - accuracy: 0.5000 - auc: 0.5612WARNING:tensorflow:Callback method `on_train_batch_end` is slow compared to the batch time (batch time: 0.1424s vs `on_train_batch_end` time: 0.1516s). Check your callbacks.\n",
      "65/65 [==============================] - 213s 339ms/step - loss: 0.7571 - accuracy: 0.5581 - auc: 0.5848\n"
     ]
    },
    {
     "data": {
      "text/plain": [
       "<tensorflow.python.keras.callbacks.History at 0x7f182066adf0>"
      ]
     },
     "execution_count": 16,
     "metadata": {},
     "output_type": "execute_result"
    }
   ],
   "source": [
    "# Instanciar el LRFinder\n",
    "lr_finder = LRFinder(min_lr=1e-11, max_lr=1e-2, steps=65, smoothing=0.5)\n",
    "# Ejecutar el LRFinder sobre un subconjunto del dataset (mejor si es un subconjunto pequeño)\n",
    "model_1.fit(\n",
    "    train_dataset.take(200),  # puedes ajustar este valor según el tamaño de tus batches\n",
    "    epochs=1,\n",
    "    callbacks=[lr_finder]\n",
    ")\n"
   ]
  },
  {
   "cell_type": "code",
   "execution_count": 17,
   "metadata": {},
   "outputs": [
    {
     "data": {
      "image/png": "[encoded data removed]",
      "text/plain": [
       "<Figure size 1000x600 with 1 Axes>"
      ]
     },
     "metadata": {},
     "output_type": "display_data"
    }
   ],
   "source": [
    "# Visualización\n",
    "fig, ax = lr_finder.plot_loss()\n",
    "plt.show()"
   ]
  },
  {
   "cell_type": "code",
   "execution_count": 24,
   "metadata": {},
   "outputs": [
    {
     "data": {
      "image/png": "[encoded data removed]",
      "text/plain": [
       "<Figure size 1000x600 with 1 Axes>"
      ]
     },
     "metadata": {},
     "output_type": "display_data"
    }
   ],
   "source": [
    "# Visualización\n",
    "min_lr = 2e-5\n",
    "max_lr = 8e-4\n",
    "fig, ax = lr_finder.plot_loss()\n",
    "ax.axvline(min_lr, color='r', linestyle='--', label='min_lr')\n",
    "ax.axvline(max_lr, color='g', linestyle='--', label='max_lr')\n",
    "plt.show()"
   ]
  },
  {
   "cell_type": "markdown",
   "metadata": {},
   "source": [
    "### One Cycle Policy"
   ]
  },
  {
   "cell_type": "code",
   "execution_count": 19,
   "metadata": {},
   "outputs": [],
   "source": [
    "from tensorflow.keras.callbacks import EarlyStopping, ModelCheckpoint, LearningRateScheduler"
   ]
  },
  {
   "cell_type": "code",
   "execution_count": 20,
   "metadata": {},
   "outputs": [],
   "source": [
    "def one_cycle_scheduler(epoch, lr):\n",
    "    total_epochs = epochs\n",
    "    warmup_epochs = total_epochs // 4\n",
    "\n",
    "    if epoch < warmup_epochs:  # Warmup\n",
    "        return initial_learning_rate + (max_lr - initial_learning_rate) * (epoch / warmup_epochs)\n",
    "    \n",
    "    elif epoch < total_epochs - 5:  # Cosine annealing phase\n",
    "        return min_lr + (max_lr - min_lr) * 0.5 * (1 + np.cos(np.pi * (epoch - warmup_epochs) / (total_epochs - warmup_epochs - 5)))\n",
    "\n",
    "    else:  # Final annealing phase\n",
    "        return min_lr"
   ]
  },
  {
   "cell_type": "markdown",
   "metadata": {},
   "source": [
    "### Training"
   ]
  },
  {
   "cell_type": "code",
   "execution_count": 21,
   "metadata": {},
   "outputs": [
    {
     "name": "stdout",
     "output_type": "stream",
     "text": [
      "Starting training from scratch.\n",
      "Epoch 1/100\n"
     ]
    },
    {
     "name": "stderr",
     "output_type": "stream",
     "text": [
      "2025-04-16 22:42:54.671942: I tensorflow/core/kernels/data/shuffle_dataset_op.cc:177] Filling up shuffle buffer (this may take a while): 33 of 516\n",
      "2025-04-16 22:43:04.318824: I tensorflow/core/kernels/data/shuffle_dataset_op.cc:177] Filling up shuffle buffer (this may take a while): 70 of 516\n"
     ]
    },
    {
     "name": "stdout",
     "output_type": "stream",
     "text": [
      "Advertencia: ../data/train/Shoplifting042_x264.mp4 tiene menos frames que los requeridos. Usando todo el video.\n"
     ]
    },
    {
     "name": "stderr",
     "output_type": "stream",
     "text": [
      "2025-04-16 22:43:14.434970: I tensorflow/core/kernels/data/shuffle_dataset_op.cc:177] Filling up shuffle buffer (this may take a while): 102 of 516\n",
      "2025-04-16 22:43:24.144120: I tensorflow/core/kernels/data/shuffle_dataset_op.cc:177] Filling up shuffle buffer (this may take a while): 134 of 516\n",
      "2025-04-16 22:43:34.231597: I tensorflow/core/kernels/data/shuffle_dataset_op.cc:177] Filling up shuffle buffer (this may take a while): 160 of 516\n",
      "2025-04-16 22:43:44.790642: I tensorflow/core/kernels/data/shuffle_dataset_op.cc:177] Filling up shuffle buffer (this may take a while): 191 of 516\n",
      "2025-04-16 22:43:54.376219: I tensorflow/core/kernels/data/shuffle_dataset_op.cc:177] Filling up shuffle buffer (this may take a while): 219 of 516\n",
      "2025-04-16 22:44:04.376804: I tensorflow/core/kernels/data/shuffle_dataset_op.cc:177] Filling up shuffle buffer (this may take a while): 247 of 516\n",
      "2025-04-16 22:44:14.391372: I tensorflow/core/kernels/data/shuffle_dataset_op.cc:177] Filling up shuffle buffer (this may take a while): 277 of 516\n",
      "2025-04-16 22:44:24.188845: I tensorflow/core/kernels/data/shuffle_dataset_op.cc:177] Filling up shuffle buffer (this may take a while): 304 of 516\n",
      "2025-04-16 22:44:34.331780: I tensorflow/core/kernels/data/shuffle_dataset_op.cc:177] Filling up shuffle buffer (this may take a while): 337 of 516\n",
      "2025-04-16 22:44:44.623186: I tensorflow/core/kernels/data/shuffle_dataset_op.cc:177] Filling up shuffle buffer (this may take a while): 365 of 516\n",
      "2025-04-16 22:44:54.609332: I tensorflow/core/kernels/data/shuffle_dataset_op.cc:177] Filling up shuffle buffer (this may take a while): 400 of 516\n",
      "2025-04-16 22:45:04.520951: I tensorflow/core/kernels/data/shuffle_dataset_op.cc:177] Filling up shuffle buffer (this may take a while): 431 of 516\n",
      "2025-04-16 22:45:14.205102: I tensorflow/core/kernels/data/shuffle_dataset_op.cc:177] Filling up shuffle buffer (this may take a while): 458 of 516\n",
      "2025-04-16 22:45:24.168927: I tensorflow/core/kernels/data/shuffle_dataset_op.cc:177] Filling up shuffle buffer (this may take a while): 486 of 516\n",
      "2025-04-16 22:45:33.333778: I tensorflow/core/kernels/data/shuffle_dataset_op.cc:230] Shuffle buffer filled.\n"
     ]
    },
    {
     "name": "stdout",
     "output_type": "stream",
     "text": [
      "      6/Unknown - 171s 303ms/step - loss: 0.9992 - accuracy: 0.5833 - auc: 0.5790WARNING:tensorflow:Callback method `on_train_batch_end` is slow compared to the batch time (batch time: 0.1362s vs `on_train_batch_end` time: 0.1663s). Check your callbacks.\n",
      "65/65 [==============================] - 212s 668ms/step - loss: 0.9377 - accuracy: 0.4922 - auc: 0.5045 - val_loss: 0.6462 - val_accuracy: 0.5846 - val_auc: 0.6596\n",
      "Epoch 2/100\n"
     ]
    },
    {
     "name": "stderr",
     "output_type": "stream",
     "text": [
      "2025-04-16 22:46:30.234556: I tensorflow/core/kernels/data/shuffle_dataset_op.cc:177] Filling up shuffle buffer (this may take a while): 33 of 516\n",
      "2025-04-16 22:46:39.808079: I tensorflow/core/kernels/data/shuffle_dataset_op.cc:177] Filling up shuffle buffer (this may take a while): 70 of 516\n"
     ]
    },
    {
     "name": "stdout",
     "output_type": "stream",
     "text": [
      "Advertencia: ../data/train/Shoplifting042_x264.mp4 tiene menos frames que los requeridos. Usando todo el video.\n"
     ]
    },
    {
     "name": "stderr",
     "output_type": "stream",
     "text": [
      "2025-04-16 22:46:50.068337: I tensorflow/core/kernels/data/shuffle_dataset_op.cc:177] Filling up shuffle buffer (this may take a while): 102 of 516\n",
      "2025-04-16 22:46:59.903515: I tensorflow/core/kernels/data/shuffle_dataset_op.cc:177] Filling up shuffle buffer (this may take a while): 134 of 516\n",
      "2025-04-16 22:47:09.778926: I tensorflow/core/kernels/data/shuffle_dataset_op.cc:177] Filling up shuffle buffer (this may take a while): 159 of 516\n",
      "2025-04-16 22:47:19.974356: I tensorflow/core/kernels/data/shuffle_dataset_op.cc:177] Filling up shuffle buffer (this may take a while): 190 of 516\n",
      "2025-04-16 22:47:30.307146: I tensorflow/core/kernels/data/shuffle_dataset_op.cc:177] Filling up shuffle buffer (this may take a while): 219 of 516\n",
      "2025-04-16 22:47:39.811497: I tensorflow/core/kernels/data/shuffle_dataset_op.cc:177] Filling up shuffle buffer (this may take a while): 246 of 516\n",
      "2025-04-16 22:47:49.758564: I tensorflow/core/kernels/data/shuffle_dataset_op.cc:177] Filling up shuffle buffer (this may take a while): 276 of 516\n",
      "2025-04-16 22:47:59.781825: I tensorflow/core/kernels/data/shuffle_dataset_op.cc:177] Filling up shuffle buffer (this may take a while): 303 of 516\n",
      "2025-04-16 22:48:09.757844: I tensorflow/core/kernels/data/shuffle_dataset_op.cc:177] Filling up shuffle buffer (this may take a while): 334 of 516\n",
      "2025-04-16 22:48:19.921463: I tensorflow/core/kernels/data/shuffle_dataset_op.cc:177] Filling up shuffle buffer (this may take a while): 363 of 516\n",
      "2025-04-16 22:48:29.842910: I tensorflow/core/kernels/data/shuffle_dataset_op.cc:177] Filling up shuffle buffer (this may take a while): 396 of 516\n",
      "2025-04-16 22:48:39.919617: I tensorflow/core/kernels/data/shuffle_dataset_op.cc:177] Filling up shuffle buffer (this may take a while): 429 of 516\n",
      "2025-04-16 22:48:49.886320: I tensorflow/core/kernels/data/shuffle_dataset_op.cc:177] Filling up shuffle buffer (this may take a while): 454 of 516\n",
      "2025-04-16 22:48:59.889490: I tensorflow/core/kernels/data/shuffle_dataset_op.cc:177] Filling up shuffle buffer (this may take a while): 481 of 516\n",
      "2025-04-16 22:49:10.007729: I tensorflow/core/kernels/data/shuffle_dataset_op.cc:177] Filling up shuffle buffer (this may take a while): 514 of 516\n",
      "2025-04-16 22:49:10.410029: I tensorflow/core/kernels/data/shuffle_dataset_op.cc:230] Shuffle buffer filled.\n"
     ]
    },
    {
     "name": "stdout",
     "output_type": "stream",
     "text": [
      "65/65 [==============================] - 210s 606ms/step - loss: 0.6936 - accuracy: 0.5717 - auc: 0.5867 - val_loss: 0.6175 - val_accuracy: 0.7077 - val_auc: 0.7254\n",
      "Epoch 3/100\n"
     ]
    },
    {
     "name": "stderr",
     "output_type": "stream",
     "text": [
      "2025-04-16 22:50:03.599630: I tensorflow/core/kernels/data/shuffle_dataset_op.cc:177] Filling up shuffle buffer (this may take a while): 33 of 516\n",
      "2025-04-16 22:50:13.227808: I tensorflow/core/kernels/data/shuffle_dataset_op.cc:177] Filling up shuffle buffer (this may take a while): 70 of 516\n"
     ]
    },
    {
     "name": "stdout",
     "output_type": "stream",
     "text": [
      "Advertencia: ../data/train/Shoplifting042_x264.mp4 tiene menos frames que los requeridos. Usando todo el video.\n"
     ]
    },
    {
     "name": "stderr",
     "output_type": "stream",
     "text": [
      "2025-04-16 22:50:23.182460: I tensorflow/core/kernels/data/shuffle_dataset_op.cc:177] Filling up shuffle buffer (this may take a while): 101 of 516\n",
      "2025-04-16 22:50:33.443260: I tensorflow/core/kernels/data/shuffle_dataset_op.cc:177] Filling up shuffle buffer (this may take a while): 134 of 516\n",
      "2025-04-16 22:50:43.433878: I tensorflow/core/kernels/data/shuffle_dataset_op.cc:177] Filling up shuffle buffer (this may take a while): 159 of 516\n",
      "2025-04-16 22:50:53.197925: I tensorflow/core/kernels/data/shuffle_dataset_op.cc:177] Filling up shuffle buffer (this may take a while): 189 of 516\n",
      "2025-04-16 22:51:03.315847: I tensorflow/core/kernels/data/shuffle_dataset_op.cc:177] Filling up shuffle buffer (this may take a while): 218 of 516\n",
      "2025-04-16 22:51:13.575040: I tensorflow/core/kernels/data/shuffle_dataset_op.cc:177] Filling up shuffle buffer (this may take a while): 246 of 516\n",
      "2025-04-16 22:51:23.191392: I tensorflow/core/kernels/data/shuffle_dataset_op.cc:177] Filling up shuffle buffer (this may take a while): 275 of 516\n",
      "2025-04-16 22:51:33.300733: I tensorflow/core/kernels/data/shuffle_dataset_op.cc:177] Filling up shuffle buffer (this may take a while): 302 of 516\n",
      "2025-04-16 22:51:43.378490: I tensorflow/core/kernels/data/shuffle_dataset_op.cc:177] Filling up shuffle buffer (this may take a while): 334 of 516\n",
      "2025-04-16 22:51:53.169815: I tensorflow/core/kernels/data/shuffle_dataset_op.cc:177] Filling up shuffle buffer (this may take a while): 361 of 516\n",
      "2025-04-16 22:52:03.252832: I tensorflow/core/kernels/data/shuffle_dataset_op.cc:177] Filling up shuffle buffer (this may take a while): 395 of 516\n",
      "2025-04-16 22:52:13.438671: I tensorflow/core/kernels/data/shuffle_dataset_op.cc:177] Filling up shuffle buffer (this may take a while): 429 of 516\n",
      "2025-04-16 22:52:23.396420: I tensorflow/core/kernels/data/shuffle_dataset_op.cc:177] Filling up shuffle buffer (this may take a while): 454 of 516\n",
      "2025-04-16 22:52:33.107972: I tensorflow/core/kernels/data/shuffle_dataset_op.cc:177] Filling up shuffle buffer (this may take a while): 480 of 516\n",
      "2025-04-16 22:52:43.122904: I tensorflow/core/kernels/data/shuffle_dataset_op.cc:177] Filling up shuffle buffer (this may take a while): 513 of 516\n",
      "2025-04-16 22:52:43.819167: I tensorflow/core/kernels/data/shuffle_dataset_op.cc:230] Shuffle buffer filled.\n"
     ]
    },
    {
     "name": "stdout",
     "output_type": "stream",
     "text": [
      "65/65 [==============================] - 210s 607ms/step - loss: 0.6661 - accuracy: 0.5911 - auc: 0.6324 - val_loss: 0.6200 - val_accuracy: 0.7231 - val_auc: 0.7250\n",
      "Epoch 4/100\n"
     ]
    },
    {
     "name": "stderr",
     "output_type": "stream",
     "text": [
      "2025-04-16 22:53:35.168706: I tensorflow/core/kernels/data/shuffle_dataset_op.cc:177] Filling up shuffle buffer (this may take a while): 33 of 516\n",
      "2025-04-16 22:53:44.880177: I tensorflow/core/kernels/data/shuffle_dataset_op.cc:177] Filling up shuffle buffer (this may take a while): 70 of 516\n"
     ]
    },
    {
     "name": "stdout",
     "output_type": "stream",
     "text": [
      "Advertencia: ../data/train/Shoplifting042_x264.mp4 tiene menos frames que los requeridos. Usando todo el video.\n"
     ]
    },
    {
     "name": "stderr",
     "output_type": "stream",
     "text": [
      "2025-04-16 22:53:54.706595: I tensorflow/core/kernels/data/shuffle_dataset_op.cc:177] Filling up shuffle buffer (this may take a while): 101 of 516\n",
      "2025-04-16 22:54:04.871239: I tensorflow/core/kernels/data/shuffle_dataset_op.cc:177] Filling up shuffle buffer (this may take a while): 134 of 516\n",
      "2025-04-16 22:54:14.846975: I tensorflow/core/kernels/data/shuffle_dataset_op.cc:177] Filling up shuffle buffer (this may take a while): 159 of 516\n",
      "2025-04-16 22:54:24.681714: I tensorflow/core/kernels/data/shuffle_dataset_op.cc:177] Filling up shuffle buffer (this may take a while): 189 of 516\n",
      "2025-04-16 22:54:34.756644: I tensorflow/core/kernels/data/shuffle_dataset_op.cc:177] Filling up shuffle buffer (this may take a while): 218 of 516\n",
      "2025-04-16 22:54:45.077681: I tensorflow/core/kernels/data/shuffle_dataset_op.cc:177] Filling up shuffle buffer (this may take a while): 246 of 516\n",
      "2025-04-16 22:54:54.706462: I tensorflow/core/kernels/data/shuffle_dataset_op.cc:177] Filling up shuffle buffer (this may take a while): 275 of 516\n",
      "2025-04-16 22:55:04.892309: I tensorflow/core/kernels/data/shuffle_dataset_op.cc:177] Filling up shuffle buffer (this may take a while): 302 of 516\n",
      "2025-04-16 22:55:14.841611: I tensorflow/core/kernels/data/shuffle_dataset_op.cc:177] Filling up shuffle buffer (this may take a while): 333 of 516\n",
      "2025-04-16 22:55:25.061520: I tensorflow/core/kernels/data/shuffle_dataset_op.cc:177] Filling up shuffle buffer (this may take a while): 361 of 516\n",
      "2025-04-16 22:55:34.931574: I tensorflow/core/kernels/data/shuffle_dataset_op.cc:177] Filling up shuffle buffer (this may take a while): 393 of 516\n",
      "2025-04-16 22:55:45.195951: I tensorflow/core/kernels/data/shuffle_dataset_op.cc:177] Filling up shuffle buffer (this may take a while): 428 of 516\n",
      "2025-04-16 22:55:54.682861: I tensorflow/core/kernels/data/shuffle_dataset_op.cc:177] Filling up shuffle buffer (this may take a while): 451 of 516\n",
      "2025-04-16 22:56:05.182374: I tensorflow/core/kernels/data/shuffle_dataset_op.cc:177] Filling up shuffle buffer (this may take a while): 479 of 516\n",
      "2025-04-16 22:56:14.674467: I tensorflow/core/kernels/data/shuffle_dataset_op.cc:177] Filling up shuffle buffer (this may take a while): 510 of 516\n",
      "2025-04-16 22:56:16.475414: I tensorflow/core/kernels/data/shuffle_dataset_op.cc:230] Shuffle buffer filled.\n"
     ]
    },
    {
     "name": "stdout",
     "output_type": "stream",
     "text": [
      "65/65 [==============================] - 211s 604ms/step - loss: 0.6484 - accuracy: 0.6357 - auc: 0.6758 - val_loss: 0.6082 - val_accuracy: 0.7077 - val_auc: 0.7475\n",
      "Epoch 5/100\n"
     ]
    },
    {
     "name": "stderr",
     "output_type": "stream",
     "text": [
      "2025-04-16 22:57:09.027594: I tensorflow/core/kernels/data/shuffle_dataset_op.cc:177] Filling up shuffle buffer (this may take a while): 33 of 516\n",
      "2025-04-16 22:57:18.947349: I tensorflow/core/kernels/data/shuffle_dataset_op.cc:177] Filling up shuffle buffer (this may take a while): 72 of 516\n"
     ]
    },
    {
     "name": "stdout",
     "output_type": "stream",
     "text": [
      "Advertencia: ../data/train/Shoplifting042_x264.mp4 tiene menos frames que los requeridos. Usando todo el video.\n"
     ]
    },
    {
     "name": "stderr",
     "output_type": "stream",
     "text": [
      "2025-04-16 22:57:28.839630: I tensorflow/core/kernels/data/shuffle_dataset_op.cc:177] Filling up shuffle buffer (this may take a while): 104 of 516\n",
      "2025-04-16 22:57:38.804210: I tensorflow/core/kernels/data/shuffle_dataset_op.cc:177] Filling up shuffle buffer (this may take a while): 136 of 516\n",
      "2025-04-16 22:57:49.283518: I tensorflow/core/kernels/data/shuffle_dataset_op.cc:177] Filling up shuffle buffer (this may take a while): 163 of 516\n",
      "2025-04-16 22:57:58.827916: I tensorflow/core/kernels/data/shuffle_dataset_op.cc:177] Filling up shuffle buffer (this may take a while): 192 of 516\n",
      "2025-04-16 22:58:09.287757: I tensorflow/core/kernels/data/shuffle_dataset_op.cc:177] Filling up shuffle buffer (this may take a while): 221 of 516\n",
      "2025-04-16 22:58:18.835235: I tensorflow/core/kernels/data/shuffle_dataset_op.cc:177] Filling up shuffle buffer (this may take a while): 250 of 516\n",
      "2025-04-16 22:58:29.077766: I tensorflow/core/kernels/data/shuffle_dataset_op.cc:177] Filling up shuffle buffer (this may take a while): 282 of 516\n",
      "2025-04-16 22:58:38.824989: I tensorflow/core/kernels/data/shuffle_dataset_op.cc:177] Filling up shuffle buffer (this may take a while): 310 of 516\n",
      "2025-04-16 22:58:48.908413: I tensorflow/core/kernels/data/shuffle_dataset_op.cc:177] Filling up shuffle buffer (this may take a while): 341 of 516\n",
      "2025-04-16 22:58:58.836570: I tensorflow/core/kernels/data/shuffle_dataset_op.cc:177] Filling up shuffle buffer (this may take a while): 370 of 516\n",
      "2025-04-16 22:59:09.300753: I tensorflow/core/kernels/data/shuffle_dataset_op.cc:177] Filling up shuffle buffer (this may take a while): 404 of 516\n",
      "2025-04-16 22:59:18.932597: I tensorflow/core/kernels/data/shuffle_dataset_op.cc:177] Filling up shuffle buffer (this may take a while): 434 of 516\n",
      "2025-04-16 22:59:29.006072: I tensorflow/core/kernels/data/shuffle_dataset_op.cc:177] Filling up shuffle buffer (this may take a while): 462 of 516\n",
      "2025-04-16 22:59:38.805383: I tensorflow/core/kernels/data/shuffle_dataset_op.cc:177] Filling up shuffle buffer (this may take a while): 490 of 516\n",
      "2025-04-16 22:59:46.985847: I tensorflow/core/kernels/data/shuffle_dataset_op.cc:230] Shuffle buffer filled.\n"
     ]
    },
    {
     "name": "stdout",
     "output_type": "stream",
     "text": [
      "65/65 [==============================] - 207s 607ms/step - loss: 0.6484 - accuracy: 0.6105 - auc: 0.6700 - val_loss: 0.5981 - val_accuracy: 0.7231 - val_auc: 0.7527\n",
      "Epoch 6/100\n"
     ]
    },
    {
     "name": "stderr",
     "output_type": "stream",
     "text": [
      "2025-04-16 23:00:39.834388: I tensorflow/core/kernels/data/shuffle_dataset_op.cc:177] Filling up shuffle buffer (this may take a while): 33 of 516\n",
      "2025-04-16 23:00:49.775177: I tensorflow/core/kernels/data/shuffle_dataset_op.cc:177] Filling up shuffle buffer (this may take a while): 72 of 516\n"
     ]
    },
    {
     "name": "stdout",
     "output_type": "stream",
     "text": [
      "Advertencia: ../data/train/Shoplifting042_x264.mp4 tiene menos frames que los requeridos. Usando todo el video.\n"
     ]
    },
    {
     "name": "stderr",
     "output_type": "stream",
     "text": [
      "2025-04-16 23:00:59.550480: I tensorflow/core/kernels/data/shuffle_dataset_op.cc:177] Filling up shuffle buffer (this may take a while): 103 of 516\n",
      "2025-04-16 23:01:09.794661: I tensorflow/core/kernels/data/shuffle_dataset_op.cc:177] Filling up shuffle buffer (this may take a while): 136 of 516\n",
      "2025-04-16 23:01:19.547801: I tensorflow/core/kernels/data/shuffle_dataset_op.cc:177] Filling up shuffle buffer (this may take a while): 161 of 516\n",
      "2025-04-16 23:01:29.843596: I tensorflow/core/kernels/data/shuffle_dataset_op.cc:177] Filling up shuffle buffer (this may take a while): 192 of 516\n",
      "2025-04-16 23:01:39.571777: I tensorflow/core/kernels/data/shuffle_dataset_op.cc:177] Filling up shuffle buffer (this may take a while): 220 of 516\n",
      "2025-04-16 23:01:49.792690: I tensorflow/core/kernels/data/shuffle_dataset_op.cc:177] Filling up shuffle buffer (this may take a while): 250 of 516\n",
      "2025-04-16 23:01:59.745312: I tensorflow/core/kernels/data/shuffle_dataset_op.cc:177] Filling up shuffle buffer (this may take a while): 281 of 516\n",
      "2025-04-16 23:02:09.713243: I tensorflow/core/kernels/data/shuffle_dataset_op.cc:177] Filling up shuffle buffer (this may take a while): 309 of 516\n",
      "2025-04-16 23:02:19.581161: I tensorflow/core/kernels/data/shuffle_dataset_op.cc:177] Filling up shuffle buffer (this may take a while): 339 of 516\n",
      "2025-04-16 23:02:29.563004: I tensorflow/core/kernels/data/shuffle_dataset_op.cc:177] Filling up shuffle buffer (this may take a while): 368 of 516\n",
      "2025-04-16 23:02:39.733890: I tensorflow/core/kernels/data/shuffle_dataset_op.cc:177] Filling up shuffle buffer (this may take a while): 403 of 516\n",
      "2025-04-16 23:02:49.715945: I tensorflow/core/kernels/data/shuffle_dataset_op.cc:177] Filling up shuffle buffer (this may take a while): 433 of 516\n",
      "2025-04-16 23:02:59.561057: I tensorflow/core/kernels/data/shuffle_dataset_op.cc:177] Filling up shuffle buffer (this may take a while): 461 of 516\n",
      "2025-04-16 23:03:09.697542: I tensorflow/core/kernels/data/shuffle_dataset_op.cc:177] Filling up shuffle buffer (this may take a while): 489 of 516\n",
      "2025-04-16 23:03:18.213865: I tensorflow/core/kernels/data/shuffle_dataset_op.cc:230] Shuffle buffer filled.\n"
     ]
    },
    {
     "name": "stdout",
     "output_type": "stream",
     "text": [
      "65/65 [==============================] - 208s 605ms/step - loss: 0.6414 - accuracy: 0.6279 - auc: 0.6808 - val_loss: 0.5828 - val_accuracy: 0.7231 - val_auc: 0.7778\n",
      "Epoch 7/100\n"
     ]
    },
    {
     "name": "stderr",
     "output_type": "stream",
     "text": [
      "2025-04-16 23:04:10.944952: I tensorflow/core/kernels/data/shuffle_dataset_op.cc:177] Filling up shuffle buffer (this may take a while): 33 of 516\n",
      "2025-04-16 23:04:20.815039: I tensorflow/core/kernels/data/shuffle_dataset_op.cc:177] Filling up shuffle buffer (this may take a while): 72 of 516\n"
     ]
    },
    {
     "name": "stdout",
     "output_type": "stream",
     "text": [
      "Advertencia: ../data/train/Shoplifting042_x264.mp4 tiene menos frames que los requeridos. Usando todo el video.\n"
     ]
    },
    {
     "name": "stderr",
     "output_type": "stream",
     "text": [
      "2025-04-16 23:04:30.768838: I tensorflow/core/kernels/data/shuffle_dataset_op.cc:177] Filling up shuffle buffer (this may take a while): 104 of 516\n",
      "2025-04-16 23:04:40.803110: I tensorflow/core/kernels/data/shuffle_dataset_op.cc:177] Filling up shuffle buffer (this may take a while): 136 of 516\n",
      "2025-04-16 23:04:50.695664: I tensorflow/core/kernels/data/shuffle_dataset_op.cc:177] Filling up shuffle buffer (this may take a while): 162 of 516\n",
      "2025-04-16 23:05:00.843597: I tensorflow/core/kernels/data/shuffle_dataset_op.cc:177] Filling up shuffle buffer (this may take a while): 192 of 516\n",
      "2025-04-16 23:05:11.326337: I tensorflow/core/kernels/data/shuffle_dataset_op.cc:177] Filling up shuffle buffer (this may take a while): 221 of 516\n",
      "2025-04-16 23:05:20.900583: I tensorflow/core/kernels/data/shuffle_dataset_op.cc:177] Filling up shuffle buffer (this may take a while): 250 of 516\n",
      "2025-04-16 23:05:30.722066: I tensorflow/core/kernels/data/shuffle_dataset_op.cc:177] Filling up shuffle buffer (this may take a while): 280 of 516\n",
      "2025-04-16 23:05:40.882065: I tensorflow/core/kernels/data/shuffle_dataset_op.cc:177] Filling up shuffle buffer (this may take a while): 308 of 516\n",
      "2025-04-16 23:05:50.732209: I tensorflow/core/kernels/data/shuffle_dataset_op.cc:177] Filling up shuffle buffer (this may take a while): 338 of 516\n",
      "2025-04-16 23:06:00.794113: I tensorflow/core/kernels/data/shuffle_dataset_op.cc:177] Filling up shuffle buffer (this may take a while): 366 of 516\n",
      "2025-04-16 23:06:10.818154: I tensorflow/core/kernels/data/shuffle_dataset_op.cc:177] Filling up shuffle buffer (this may take a while): 400 of 516\n",
      "2025-04-16 23:06:20.873834: I tensorflow/core/kernels/data/shuffle_dataset_op.cc:177] Filling up shuffle buffer (this may take a while): 431 of 516\n",
      "2025-04-16 23:06:30.694780: I tensorflow/core/kernels/data/shuffle_dataset_op.cc:177] Filling up shuffle buffer (this may take a while): 458 of 516\n",
      "2025-04-16 23:06:40.883494: I tensorflow/core/kernels/data/shuffle_dataset_op.cc:177] Filling up shuffle buffer (this may take a while): 486 of 516\n",
      "2025-04-16 23:06:50.160088: I tensorflow/core/kernels/data/shuffle_dataset_op.cc:230] Shuffle buffer filled.\n"
     ]
    },
    {
     "name": "stdout",
     "output_type": "stream",
     "text": [
      "65/65 [==============================] - 209s 605ms/step - loss: 0.6358 - accuracy: 0.6221 - auc: 0.6902 - val_loss: 0.5859 - val_accuracy: 0.7231 - val_auc: 0.7707\n",
      "Epoch 8/100\n"
     ]
    },
    {
     "name": "stderr",
     "output_type": "stream",
     "text": [
      "2025-04-16 23:07:41.217541: I tensorflow/core/kernels/data/shuffle_dataset_op.cc:177] Filling up shuffle buffer (this may take a while): 33 of 516\n",
      "2025-04-16 23:07:50.937331: I tensorflow/core/kernels/data/shuffle_dataset_op.cc:177] Filling up shuffle buffer (this may take a while): 71 of 516\n"
     ]
    },
    {
     "name": "stdout",
     "output_type": "stream",
     "text": [
      "Advertencia: ../data/train/Shoplifting042_x264.mp4 tiene menos frames que los requeridos. Usando todo el video.\n"
     ]
    },
    {
     "name": "stderr",
     "output_type": "stream",
     "text": [
      "2025-04-16 23:08:00.881469: I tensorflow/core/kernels/data/shuffle_dataset_op.cc:177] Filling up shuffle buffer (this may take a while): 102 of 516\n",
      "2025-04-16 23:08:10.888792: I tensorflow/core/kernels/data/shuffle_dataset_op.cc:177] Filling up shuffle buffer (this may take a while): 135 of 516\n",
      "2025-04-16 23:08:21.140181: I tensorflow/core/kernels/data/shuffle_dataset_op.cc:177] Filling up shuffle buffer (this may take a while): 161 of 516\n",
      "2025-04-16 23:08:31.175823: I tensorflow/core/kernels/data/shuffle_dataset_op.cc:177] Filling up shuffle buffer (this may take a while): 191 of 516\n",
      "2025-04-16 23:08:41.330243: I tensorflow/core/kernels/data/shuffle_dataset_op.cc:177] Filling up shuffle buffer (this may take a while): 220 of 516\n",
      "2025-04-16 23:08:50.998413: I tensorflow/core/kernels/data/shuffle_dataset_op.cc:177] Filling up shuffle buffer (this may take a while): 249 of 516\n",
      "2025-04-16 23:09:01.034963: I tensorflow/core/kernels/data/shuffle_dataset_op.cc:177] Filling up shuffle buffer (this may take a while): 278 of 516\n",
      "2025-04-16 23:09:10.986894: I tensorflow/core/kernels/data/shuffle_dataset_op.cc:177] Filling up shuffle buffer (this may take a while): 306 of 516\n",
      "2025-04-16 23:09:20.910231: I tensorflow/core/kernels/data/shuffle_dataset_op.cc:177] Filling up shuffle buffer (this may take a while): 337 of 516\n",
      "2025-04-16 23:09:31.293279: I tensorflow/core/kernels/data/shuffle_dataset_op.cc:177] Filling up shuffle buffer (this may take a while): 365 of 516\n",
      "2025-04-16 23:09:41.174536: I tensorflow/core/kernels/data/shuffle_dataset_op.cc:177] Filling up shuffle buffer (this may take a while): 399 of 516\n",
      "2025-04-16 23:09:51.235423: I tensorflow/core/kernels/data/shuffle_dataset_op.cc:177] Filling up shuffle buffer (this may take a while): 430 of 516\n",
      "2025-04-16 23:10:01.064443: I tensorflow/core/kernels/data/shuffle_dataset_op.cc:177] Filling up shuffle buffer (this may take a while): 456 of 516\n",
      "2025-04-16 23:10:11.137997: I tensorflow/core/kernels/data/shuffle_dataset_op.cc:177] Filling up shuffle buffer (this may take a while): 483 of 516\n",
      "2025-04-16 23:10:20.957988: I tensorflow/core/kernels/data/shuffle_dataset_op.cc:177] Filling up shuffle buffer (this may take a while): 514 of 516\n",
      "2025-04-16 23:10:21.359900: I tensorflow/core/kernels/data/shuffle_dataset_op.cc:230] Shuffle buffer filled.\n"
     ]
    },
    {
     "name": "stdout",
     "output_type": "stream",
     "text": [
      "65/65 [==============================] - 210s 609ms/step - loss: 0.6290 - accuracy: 0.6318 - auc: 0.7002 - val_loss: 0.5839 - val_accuracy: 0.7077 - val_auc: 0.7709\n",
      "Epoch 9/100\n"
     ]
    },
    {
     "name": "stderr",
     "output_type": "stream",
     "text": [
      "2025-04-16 23:11:12.678034: I tensorflow/core/kernels/data/shuffle_dataset_op.cc:177] Filling up shuffle buffer (this may take a while): 33 of 516\n",
      "2025-04-16 23:11:22.324962: I tensorflow/core/kernels/data/shuffle_dataset_op.cc:177] Filling up shuffle buffer (this may take a while): 71 of 516\n"
     ]
    },
    {
     "name": "stdout",
     "output_type": "stream",
     "text": [
      "Advertencia: ../data/train/Shoplifting042_x264.mp4 tiene menos frames que los requeridos. Usando todo el video.\n"
     ]
    },
    {
     "name": "stderr",
     "output_type": "stream",
     "text": [
      "2025-04-16 23:11:32.393158: I tensorflow/core/kernels/data/shuffle_dataset_op.cc:177] Filling up shuffle buffer (this may take a while): 103 of 516\n",
      "2025-04-16 23:11:42.392907: I tensorflow/core/kernels/data/shuffle_dataset_op.cc:177] Filling up shuffle buffer (this may take a while): 135 of 516\n",
      "2025-04-16 23:11:52.328608: I tensorflow/core/kernels/data/shuffle_dataset_op.cc:177] Filling up shuffle buffer (this may take a while): 160 of 516\n",
      "2025-04-16 23:12:02.890113: I tensorflow/core/kernels/data/shuffle_dataset_op.cc:177] Filling up shuffle buffer (this may take a while): 191 of 516\n",
      "2025-04-16 23:12:12.562085: I tensorflow/core/kernels/data/shuffle_dataset_op.cc:177] Filling up shuffle buffer (this may take a while): 219 of 516\n",
      "2025-04-16 23:12:22.535385: I tensorflow/core/kernels/data/shuffle_dataset_op.cc:177] Filling up shuffle buffer (this may take a while): 247 of 516\n",
      "2025-04-16 23:12:32.722811: I tensorflow/core/kernels/data/shuffle_dataset_op.cc:177] Filling up shuffle buffer (this may take a while): 277 of 516\n",
      "2025-04-16 23:12:42.638105: I tensorflow/core/kernels/data/shuffle_dataset_op.cc:177] Filling up shuffle buffer (this may take a while): 304 of 516\n",
      "2025-04-16 23:12:52.476421: I tensorflow/core/kernels/data/shuffle_dataset_op.cc:177] Filling up shuffle buffer (this may take a while): 335 of 516\n",
      "2025-04-16 23:13:02.503923: I tensorflow/core/kernels/data/shuffle_dataset_op.cc:177] Filling up shuffle buffer (this may take a while): 363 of 516\n",
      "2025-04-16 23:13:12.399384: I tensorflow/core/kernels/data/shuffle_dataset_op.cc:177] Filling up shuffle buffer (this may take a while): 395 of 516\n",
      "2025-04-16 23:13:22.333186: I tensorflow/core/kernels/data/shuffle_dataset_op.cc:177] Filling up shuffle buffer (this may take a while): 428 of 516\n",
      "2025-04-16 23:13:32.675091: I tensorflow/core/kernels/data/shuffle_dataset_op.cc:177] Filling up shuffle buffer (this may take a while): 454 of 516\n",
      "2025-04-16 23:13:42.363843: I tensorflow/core/kernels/data/shuffle_dataset_op.cc:177] Filling up shuffle buffer (this may take a while): 480 of 516\n",
      "2025-04-16 23:13:52.338987: I tensorflow/core/kernels/data/shuffle_dataset_op.cc:177] Filling up shuffle buffer (this may take a while): 513 of 516\n",
      "2025-04-16 23:13:53.017240: I tensorflow/core/kernels/data/shuffle_dataset_op.cc:230] Shuffle buffer filled.\n"
     ]
    },
    {
     "name": "stdout",
     "output_type": "stream",
     "text": [
      "65/65 [==============================] - 210s 607ms/step - loss: 0.6323 - accuracy: 0.6279 - auc: 0.6889 - val_loss: 0.5793 - val_accuracy: 0.7385 - val_auc: 0.7747\n",
      "Epoch 10/100\n"
     ]
    },
    {
     "name": "stderr",
     "output_type": "stream",
     "text": [
      "2025-04-16 23:14:46.079814: I tensorflow/core/kernels/data/shuffle_dataset_op.cc:177] Filling up shuffle buffer (this may take a while): 33 of 516\n",
      "2025-04-16 23:14:55.659943: I tensorflow/core/kernels/data/shuffle_dataset_op.cc:177] Filling up shuffle buffer (this may take a while): 70 of 516\n"
     ]
    },
    {
     "name": "stdout",
     "output_type": "stream",
     "text": [
      "Advertencia: ../data/train/Shoplifting042_x264.mp4 tiene menos frames que los requeridos. Usando todo el video.\n"
     ]
    },
    {
     "name": "stderr",
     "output_type": "stream",
     "text": [
      "2025-04-16 23:15:05.571236: I tensorflow/core/kernels/data/shuffle_dataset_op.cc:177] Filling up shuffle buffer (this may take a while): 101 of 516\n",
      "2025-04-16 23:15:15.683602: I tensorflow/core/kernels/data/shuffle_dataset_op.cc:177] Filling up shuffle buffer (this may take a while): 134 of 516\n",
      "2025-04-16 23:15:25.803671: I tensorflow/core/kernels/data/shuffle_dataset_op.cc:177] Filling up shuffle buffer (this may take a while): 160 of 516\n",
      "2025-04-16 23:15:36.149291: I tensorflow/core/kernels/data/shuffle_dataset_op.cc:177] Filling up shuffle buffer (this may take a while): 191 of 516\n",
      "2025-04-16 23:15:45.644136: I tensorflow/core/kernels/data/shuffle_dataset_op.cc:177] Filling up shuffle buffer (this may take a while): 219 of 516\n",
      "2025-04-16 23:15:55.557765: I tensorflow/core/kernels/data/shuffle_dataset_op.cc:177] Filling up shuffle buffer (this may take a while): 247 of 516\n",
      "2025-04-16 23:16:05.614199: I tensorflow/core/kernels/data/shuffle_dataset_op.cc:177] Filling up shuffle buffer (this may take a while): 277 of 516\n",
      "2025-04-16 23:16:15.621308: I tensorflow/core/kernels/data/shuffle_dataset_op.cc:177] Filling up shuffle buffer (this may take a while): 305 of 516\n",
      "2025-04-16 23:16:25.693796: I tensorflow/core/kernels/data/shuffle_dataset_op.cc:177] Filling up shuffle buffer (this may take a while): 337 of 516\n",
      "2025-04-16 23:16:35.565943: I tensorflow/core/kernels/data/shuffle_dataset_op.cc:177] Filling up shuffle buffer (this may take a while): 364 of 516\n",
      "2025-04-16 23:16:45.705120: I tensorflow/core/kernels/data/shuffle_dataset_op.cc:177] Filling up shuffle buffer (this may take a while): 399 of 516\n",
      "2025-04-16 23:16:56.005124: I tensorflow/core/kernels/data/shuffle_dataset_op.cc:177] Filling up shuffle buffer (this may take a while): 431 of 516\n",
      "2025-04-16 23:17:05.720511: I tensorflow/core/kernels/data/shuffle_dataset_op.cc:177] Filling up shuffle buffer (this may take a while): 458 of 516\n",
      "2025-04-16 23:17:15.528497: I tensorflow/core/kernels/data/shuffle_dataset_op.cc:177] Filling up shuffle buffer (this may take a while): 485 of 516\n",
      "2025-04-16 23:17:25.028329: I tensorflow/core/kernels/data/shuffle_dataset_op.cc:230] Shuffle buffer filled.\n"
     ]
    },
    {
     "name": "stdout",
     "output_type": "stream",
     "text": [
      "65/65 [==============================] - 209s 605ms/step - loss: 0.6171 - accuracy: 0.6473 - auc: 0.7159 - val_loss: 0.5836 - val_accuracy: 0.7538 - val_auc: 0.7671\n",
      "Epoch 11/100\n"
     ]
    },
    {
     "name": "stderr",
     "output_type": "stream",
     "text": [
      "2025-04-16 23:18:16.130486: I tensorflow/core/kernels/data/shuffle_dataset_op.cc:177] Filling up shuffle buffer (this may take a while): 33 of 516\n",
      "2025-04-16 23:18:25.858304: I tensorflow/core/kernels/data/shuffle_dataset_op.cc:177] Filling up shuffle buffer (this may take a while): 71 of 516\n"
     ]
    },
    {
     "name": "stdout",
     "output_type": "stream",
     "text": [
      "Advertencia: ../data/train/Shoplifting042_x264.mp4 tiene menos frames que los requeridos. Usando todo el video.\n"
     ]
    },
    {
     "name": "stderr",
     "output_type": "stream",
     "text": [
      "2025-04-16 23:18:35.891533: I tensorflow/core/kernels/data/shuffle_dataset_op.cc:177] Filling up shuffle buffer (this may take a while): 102 of 516\n",
      "2025-04-16 23:18:45.729576: I tensorflow/core/kernels/data/shuffle_dataset_op.cc:177] Filling up shuffle buffer (this may take a while): 134 of 516\n",
      "2025-04-16 23:18:56.034779: I tensorflow/core/kernels/data/shuffle_dataset_op.cc:177] Filling up shuffle buffer (this may take a while): 160 of 516\n",
      "2025-04-16 23:19:05.819402: I tensorflow/core/kernels/data/shuffle_dataset_op.cc:177] Filling up shuffle buffer (this may take a while): 190 of 516\n",
      "2025-04-16 23:19:16.195373: I tensorflow/core/kernels/data/shuffle_dataset_op.cc:177] Filling up shuffle buffer (this may take a while): 219 of 516\n",
      "2025-04-16 23:19:25.753580: I tensorflow/core/kernels/data/shuffle_dataset_op.cc:177] Filling up shuffle buffer (this may take a while): 246 of 516\n",
      "2025-04-16 23:19:36.350134: I tensorflow/core/kernels/data/shuffle_dataset_op.cc:177] Filling up shuffle buffer (this may take a while): 277 of 516\n",
      "2025-04-16 23:19:46.058658: I tensorflow/core/kernels/data/shuffle_dataset_op.cc:177] Filling up shuffle buffer (this may take a while): 304 of 516\n",
      "2025-04-16 23:19:55.967864: I tensorflow/core/kernels/data/shuffle_dataset_op.cc:177] Filling up shuffle buffer (this may take a while): 336 of 516\n",
      "2025-04-16 23:20:06.005433: I tensorflow/core/kernels/data/shuffle_dataset_op.cc:177] Filling up shuffle buffer (this may take a while): 364 of 516\n",
      "2025-04-16 23:20:15.819540: I tensorflow/core/kernels/data/shuffle_dataset_op.cc:177] Filling up shuffle buffer (this may take a while): 397 of 516\n",
      "2025-04-16 23:20:26.300787: I tensorflow/core/kernels/data/shuffle_dataset_op.cc:177] Filling up shuffle buffer (this may take a while): 430 of 516\n",
      "2025-04-16 23:20:35.841454: I tensorflow/core/kernels/data/shuffle_dataset_op.cc:177] Filling up shuffle buffer (this may take a while): 456 of 516\n",
      "2025-04-16 23:20:45.802265: I tensorflow/core/kernels/data/shuffle_dataset_op.cc:177] Filling up shuffle buffer (this may take a while): 483 of 516\n",
      "2025-04-16 23:20:55.784039: I tensorflow/core/kernels/data/shuffle_dataset_op.cc:230] Shuffle buffer filled.\n"
     ]
    },
    {
     "name": "stdout",
     "output_type": "stream",
     "text": [
      "65/65 [==============================] - 209s 608ms/step - loss: 0.6141 - accuracy: 0.6531 - auc: 0.7241 - val_loss: 0.5901 - val_accuracy: 0.7077 - val_auc: 0.7561\n",
      "Epoch 12/100\n"
     ]
    },
    {
     "name": "stderr",
     "output_type": "stream",
     "text": [
      "2025-04-16 23:21:47.242926: I tensorflow/core/kernels/data/shuffle_dataset_op.cc:177] Filling up shuffle buffer (this may take a while): 33 of 516\n",
      "2025-04-16 23:21:56.881319: I tensorflow/core/kernels/data/shuffle_dataset_op.cc:177] Filling up shuffle buffer (this may take a while): 70 of 516\n"
     ]
    },
    {
     "name": "stdout",
     "output_type": "stream",
     "text": [
      "Advertencia: ../data/train/Shoplifting042_x264.mp4 tiene menos frames que los requeridos. Usando todo el video.\n"
     ]
    },
    {
     "name": "stderr",
     "output_type": "stream",
     "text": [
      "2025-04-16 23:22:06.713471: I tensorflow/core/kernels/data/shuffle_dataset_op.cc:177] Filling up shuffle buffer (this may take a while): 101 of 516\n",
      "2025-04-16 23:22:16.903889: I tensorflow/core/kernels/data/shuffle_dataset_op.cc:177] Filling up shuffle buffer (this may take a while): 134 of 516\n",
      "2025-04-16 23:22:26.751895: I tensorflow/core/kernels/data/shuffle_dataset_op.cc:177] Filling up shuffle buffer (this may take a while): 159 of 516\n",
      "2025-04-16 23:22:37.003122: I tensorflow/core/kernels/data/shuffle_dataset_op.cc:177] Filling up shuffle buffer (this may take a while): 190 of 516\n",
      "2025-04-16 23:22:47.391835: I tensorflow/core/kernels/data/shuffle_dataset_op.cc:177] Filling up shuffle buffer (this may take a while): 219 of 516\n",
      "2025-04-16 23:22:56.964027: I tensorflow/core/kernels/data/shuffle_dataset_op.cc:177] Filling up shuffle buffer (this may take a while): 246 of 516\n",
      "2025-04-16 23:23:06.971255: I tensorflow/core/kernels/data/shuffle_dataset_op.cc:177] Filling up shuffle buffer (this may take a while): 276 of 516\n",
      "2025-04-16 23:23:16.953754: I tensorflow/core/kernels/data/shuffle_dataset_op.cc:177] Filling up shuffle buffer (this may take a while): 303 of 516\n",
      "2025-04-16 23:23:26.926488: I tensorflow/core/kernels/data/shuffle_dataset_op.cc:177] Filling up shuffle buffer (this may take a while): 334 of 516\n",
      "2025-04-16 23:23:36.772507: I tensorflow/core/kernels/data/shuffle_dataset_op.cc:177] Filling up shuffle buffer (this may take a while): 361 of 516\n",
      "2025-04-16 23:23:46.710790: I tensorflow/core/kernels/data/shuffle_dataset_op.cc:177] Filling up shuffle buffer (this may take a while): 394 of 516\n",
      "2025-04-16 23:23:56.759015: I tensorflow/core/kernels/data/shuffle_dataset_op.cc:177] Filling up shuffle buffer (this may take a while): 428 of 516\n",
      "2025-04-16 23:24:07.070902: I tensorflow/core/kernels/data/shuffle_dataset_op.cc:177] Filling up shuffle buffer (this may take a while): 454 of 516\n",
      "2025-04-16 23:24:16.890113: I tensorflow/core/kernels/data/shuffle_dataset_op.cc:177] Filling up shuffle buffer (this may take a while): 481 of 516\n",
      "2025-04-16 23:24:26.941547: I tensorflow/core/kernels/data/shuffle_dataset_op.cc:177] Filling up shuffle buffer (this may take a while): 514 of 516\n",
      "2025-04-16 23:24:27.337750: I tensorflow/core/kernels/data/shuffle_dataset_op.cc:230] Shuffle buffer filled.\n"
     ]
    },
    {
     "name": "stdout",
     "output_type": "stream",
     "text": [
      "65/65 [==============================] - 210s 605ms/step - loss: 0.6115 - accuracy: 0.6667 - auc: 0.7291 - val_loss: 0.6168 - val_accuracy: 0.6923 - val_auc: 0.7192\n",
      "Epoch 13/100\n"
     ]
    },
    {
     "name": "stderr",
     "output_type": "stream",
     "text": [
      "2025-04-16 23:25:18.350929: I tensorflow/core/kernels/data/shuffle_dataset_op.cc:177] Filling up shuffle buffer (this may take a while): 33 of 516\n",
      "2025-04-16 23:25:28.223958: I tensorflow/core/kernels/data/shuffle_dataset_op.cc:177] Filling up shuffle buffer (this may take a while): 72 of 516\n"
     ]
    },
    {
     "name": "stdout",
     "output_type": "stream",
     "text": [
      "Advertencia: ../data/train/Shoplifting042_x264.mp4 tiene menos frames que los requeridos. Usando todo el video.\n"
     ]
    },
    {
     "name": "stderr",
     "output_type": "stream",
     "text": [
      "2025-04-16 23:25:38.148647: I tensorflow/core/kernels/data/shuffle_dataset_op.cc:177] Filling up shuffle buffer (this may take a while): 104 of 516\n",
      "2025-04-16 23:25:48.283903: I tensorflow/core/kernels/data/shuffle_dataset_op.cc:177] Filling up shuffle buffer (this may take a while): 136 of 516\n",
      "2025-04-16 23:25:58.192295: I tensorflow/core/kernels/data/shuffle_dataset_op.cc:177] Filling up shuffle buffer (this may take a while): 161 of 516\n",
      "2025-04-16 23:26:08.232600: I tensorflow/core/kernels/data/shuffle_dataset_op.cc:177] Filling up shuffle buffer (this may take a while): 191 of 516\n",
      "2025-04-16 23:26:18.422032: I tensorflow/core/kernels/data/shuffle_dataset_op.cc:177] Filling up shuffle buffer (this may take a while): 220 of 516\n",
      "2025-04-16 23:26:28.775496: I tensorflow/core/kernels/data/shuffle_dataset_op.cc:177] Filling up shuffle buffer (this may take a while): 250 of 516\n",
      "2025-04-16 23:26:38.080245: I tensorflow/core/kernels/data/shuffle_dataset_op.cc:177] Filling up shuffle buffer (this may take a while): 278 of 516\n",
      "2025-04-16 23:26:48.455696: I tensorflow/core/kernels/data/shuffle_dataset_op.cc:177] Filling up shuffle buffer (this may take a while): 307 of 516\n",
      "2025-04-16 23:26:58.616924: I tensorflow/core/kernels/data/shuffle_dataset_op.cc:177] Filling up shuffle buffer (this may take a while): 338 of 516\n",
      "2025-04-16 23:27:08.314620: I tensorflow/core/kernels/data/shuffle_dataset_op.cc:177] Filling up shuffle buffer (this may take a while): 365 of 516\n",
      "2025-04-16 23:27:18.107185: I tensorflow/core/kernels/data/shuffle_dataset_op.cc:177] Filling up shuffle buffer (this may take a while): 399 of 516\n",
      "2025-04-16 23:27:28.087427: I tensorflow/core/kernels/data/shuffle_dataset_op.cc:177] Filling up shuffle buffer (this may take a while): 430 of 516\n",
      "2025-04-16 23:27:38.181192: I tensorflow/core/kernels/data/shuffle_dataset_op.cc:177] Filling up shuffle buffer (this may take a while): 457 of 516\n",
      "2025-04-16 23:27:48.183897: I tensorflow/core/kernels/data/shuffle_dataset_op.cc:177] Filling up shuffle buffer (this may take a while): 484 of 516\n",
      "2025-04-16 23:27:57.870387: I tensorflow/core/kernels/data/shuffle_dataset_op.cc:230] Shuffle buffer filled.\n"
     ]
    },
    {
     "name": "stdout",
     "output_type": "stream",
     "text": [
      "65/65 [==============================] - 209s 604ms/step - loss: 0.6094 - accuracy: 0.6667 - auc: 0.7266 - val_loss: 0.6010 - val_accuracy: 0.7231 - val_auc: 0.7381\n",
      "Epoch 14/100\n"
     ]
    },
    {
     "name": "stderr",
     "output_type": "stream",
     "text": [
      "2025-04-16 23:28:48.992428: I tensorflow/core/kernels/data/shuffle_dataset_op.cc:177] Filling up shuffle buffer (this may take a while): 33 of 516\n",
      "2025-04-16 23:28:58.594295: I tensorflow/core/kernels/data/shuffle_dataset_op.cc:177] Filling up shuffle buffer (this may take a while): 70 of 516\n"
     ]
    },
    {
     "name": "stdout",
     "output_type": "stream",
     "text": [
      "Advertencia: ../data/train/Shoplifting042_x264.mp4 tiene menos frames que los requeridos. Usando todo el video.\n"
     ]
    },
    {
     "name": "stderr",
     "output_type": "stream",
     "text": [
      "2025-04-16 23:29:08.772119: I tensorflow/core/kernels/data/shuffle_dataset_op.cc:177] Filling up shuffle buffer (this may take a while): 102 of 516\n",
      "2025-04-16 23:29:18.771351: I tensorflow/core/kernels/data/shuffle_dataset_op.cc:177] Filling up shuffle buffer (this may take a while): 135 of 516\n",
      "2025-04-16 23:29:28.556644: I tensorflow/core/kernels/data/shuffle_dataset_op.cc:177] Filling up shuffle buffer (this may take a while): 160 of 516\n",
      "2025-04-16 23:29:38.916247: I tensorflow/core/kernels/data/shuffle_dataset_op.cc:177] Filling up shuffle buffer (this may take a while): 191 of 516\n",
      "2025-04-16 23:29:48.941489: I tensorflow/core/kernels/data/shuffle_dataset_op.cc:177] Filling up shuffle buffer (this may take a while): 220 of 516\n",
      "2025-04-16 23:29:59.142401: I tensorflow/core/kernels/data/shuffle_dataset_op.cc:177] Filling up shuffle buffer (this may take a while): 250 of 516\n",
      "2025-04-16 23:30:08.630424: I tensorflow/core/kernels/data/shuffle_dataset_op.cc:177] Filling up shuffle buffer (this may take a while): 279 of 516\n",
      "2025-04-16 23:30:18.580608: I tensorflow/core/kernels/data/shuffle_dataset_op.cc:177] Filling up shuffle buffer (this may take a while): 307 of 516\n",
      "2025-04-16 23:30:28.627617: I tensorflow/core/kernels/data/shuffle_dataset_op.cc:177] Filling up shuffle buffer (this may take a while): 338 of 516\n",
      "2025-04-16 23:30:38.634042: I tensorflow/core/kernels/data/shuffle_dataset_op.cc:177] Filling up shuffle buffer (this may take a while): 366 of 516\n",
      "2025-04-16 23:30:48.700004: I tensorflow/core/kernels/data/shuffle_dataset_op.cc:177] Filling up shuffle buffer (this may take a while): 400 of 516\n",
      "2025-04-16 23:30:58.668045: I tensorflow/core/kernels/data/shuffle_dataset_op.cc:177] Filling up shuffle buffer (this may take a while): 431 of 516\n",
      "2025-04-16 23:31:08.529161: I tensorflow/core/kernels/data/shuffle_dataset_op.cc:177] Filling up shuffle buffer (this may take a while): 459 of 516\n",
      "2025-04-16 23:31:18.520683: I tensorflow/core/kernels/data/shuffle_dataset_op.cc:177] Filling up shuffle buffer (this may take a while): 486 of 516\n",
      "2025-04-16 23:31:27.678122: I tensorflow/core/kernels/data/shuffle_dataset_op.cc:230] Shuffle buffer filled.\n"
     ]
    },
    {
     "name": "stdout",
     "output_type": "stream",
     "text": [
      "65/65 [==============================] - 209s 612ms/step - loss: 0.5749 - accuracy: 0.7132 - auc: 0.7713 - val_loss: 0.6156 - val_accuracy: 0.7385 - val_auc: 0.7302\n",
      "Epoch 15/100\n"
     ]
    },
    {
     "name": "stderr",
     "output_type": "stream",
     "text": [
      "2025-04-16 23:32:19.208904: I tensorflow/core/kernels/data/shuffle_dataset_op.cc:177] Filling up shuffle buffer (this may take a while): 33 of 516\n",
      "2025-04-16 23:32:28.989296: I tensorflow/core/kernels/data/shuffle_dataset_op.cc:177] Filling up shuffle buffer (this may take a while): 71 of 516\n"
     ]
    },
    {
     "name": "stdout",
     "output_type": "stream",
     "text": [
      "Advertencia: ../data/train/Shoplifting042_x264.mp4 tiene menos frames que los requeridos. Usando todo el video.\n"
     ]
    },
    {
     "name": "stderr",
     "output_type": "stream",
     "text": [
      "2025-04-16 23:32:38.972107: I tensorflow/core/kernels/data/shuffle_dataset_op.cc:177] Filling up shuffle buffer (this may take a while): 102 of 516\n",
      "2025-04-16 23:32:49.094241: I tensorflow/core/kernels/data/shuffle_dataset_op.cc:177] Filling up shuffle buffer (this may take a while): 135 of 516\n",
      "2025-04-16 23:32:58.898993: I tensorflow/core/kernels/data/shuffle_dataset_op.cc:177] Filling up shuffle buffer (this may take a while): 160 of 516\n",
      "2025-04-16 23:33:09.311333: I tensorflow/core/kernels/data/shuffle_dataset_op.cc:177] Filling up shuffle buffer (this may take a while): 191 of 516\n",
      "2025-04-16 23:33:18.986533: I tensorflow/core/kernels/data/shuffle_dataset_op.cc:177] Filling up shuffle buffer (this may take a while): 219 of 516\n",
      "2025-04-16 23:33:29.020932: I tensorflow/core/kernels/data/shuffle_dataset_op.cc:177] Filling up shuffle buffer (this may take a while): 247 of 516\n",
      "2025-04-16 23:33:39.031322: I tensorflow/core/kernels/data/shuffle_dataset_op.cc:177] Filling up shuffle buffer (this may take a while): 277 of 516\n",
      "2025-04-16 23:33:48.858717: I tensorflow/core/kernels/data/shuffle_dataset_op.cc:177] Filling up shuffle buffer (this may take a while): 304 of 516\n",
      "2025-04-16 23:33:58.861200: I tensorflow/core/kernels/data/shuffle_dataset_op.cc:177] Filling up shuffle buffer (this may take a while): 336 of 516\n",
      "2025-04-16 23:34:08.936362: I tensorflow/core/kernels/data/shuffle_dataset_op.cc:177] Filling up shuffle buffer (this may take a while): 364 of 516\n",
      "2025-04-16 23:34:19.109942: I tensorflow/core/kernels/data/shuffle_dataset_op.cc:177] Filling up shuffle buffer (this may take a while): 399 of 516\n",
      "2025-04-16 23:34:29.023319: I tensorflow/core/kernels/data/shuffle_dataset_op.cc:177] Filling up shuffle buffer (this may take a while): 430 of 516\n",
      "2025-04-16 23:34:39.059316: I tensorflow/core/kernels/data/shuffle_dataset_op.cc:177] Filling up shuffle buffer (this may take a while): 457 of 516\n",
      "2025-04-16 23:34:49.013569: I tensorflow/core/kernels/data/shuffle_dataset_op.cc:177] Filling up shuffle buffer (this may take a while): 484 of 516\n",
      "2025-04-16 23:34:58.574581: I tensorflow/core/kernels/data/shuffle_dataset_op.cc:230] Shuffle buffer filled.\n"
     ]
    },
    {
     "name": "stdout",
     "output_type": "stream",
     "text": [
      "65/65 [==============================] - 209s 614ms/step - loss: 0.5838 - accuracy: 0.7171 - auc: 0.7620 - val_loss: 0.5922 - val_accuracy: 0.7231 - val_auc: 0.7534\n",
      "Epoch 16/100\n"
     ]
    },
    {
     "name": "stderr",
     "output_type": "stream",
     "text": [
      "2025-04-16 23:35:50.293742: I tensorflow/core/kernels/data/shuffle_dataset_op.cc:177] Filling up shuffle buffer (this may take a while): 33 of 516\n",
      "2025-04-16 23:35:59.936466: I tensorflow/core/kernels/data/shuffle_dataset_op.cc:177] Filling up shuffle buffer (this may take a while): 70 of 516\n"
     ]
    },
    {
     "name": "stdout",
     "output_type": "stream",
     "text": [
      "Advertencia: ../data/train/Shoplifting042_x264.mp4 tiene menos frames que los requeridos. Usando todo el video.\n"
     ]
    },
    {
     "name": "stderr",
     "output_type": "stream",
     "text": [
      "2025-04-16 23:36:10.082121: I tensorflow/core/kernels/data/shuffle_dataset_op.cc:177] Filling up shuffle buffer (this may take a while): 102 of 516\n",
      "2025-04-16 23:36:20.067965: I tensorflow/core/kernels/data/shuffle_dataset_op.cc:177] Filling up shuffle buffer (this may take a while): 135 of 516\n",
      "2025-04-16 23:36:29.913962: I tensorflow/core/kernels/data/shuffle_dataset_op.cc:177] Filling up shuffle buffer (this may take a while): 160 of 516\n",
      "2025-04-16 23:36:40.453889: I tensorflow/core/kernels/data/shuffle_dataset_op.cc:177] Filling up shuffle buffer (this may take a while): 191 of 516\n",
      "2025-04-16 23:36:50.033091: I tensorflow/core/kernels/data/shuffle_dataset_op.cc:177] Filling up shuffle buffer (this may take a while): 219 of 516\n",
      "2025-04-16 23:37:00.056420: I tensorflow/core/kernels/data/shuffle_dataset_op.cc:177] Filling up shuffle buffer (this may take a while): 247 of 516\n",
      "2025-04-16 23:37:10.188578: I tensorflow/core/kernels/data/shuffle_dataset_op.cc:177] Filling up shuffle buffer (this may take a while): 277 of 516\n",
      "2025-04-16 23:37:20.086545: I tensorflow/core/kernels/data/shuffle_dataset_op.cc:177] Filling up shuffle buffer (this may take a while): 304 of 516\n",
      "2025-04-16 23:37:29.942370: I tensorflow/core/kernels/data/shuffle_dataset_op.cc:177] Filling up shuffle buffer (this may take a while): 335 of 516\n",
      "2025-04-16 23:37:39.918075: I tensorflow/core/kernels/data/shuffle_dataset_op.cc:177] Filling up shuffle buffer (this may take a while): 363 of 516\n",
      "2025-04-16 23:37:49.939325: I tensorflow/core/kernels/data/shuffle_dataset_op.cc:177] Filling up shuffle buffer (this may take a while): 396 of 516\n",
      "2025-04-16 23:38:00.102599: I tensorflow/core/kernels/data/shuffle_dataset_op.cc:177] Filling up shuffle buffer (this may take a while): 429 of 516\n",
      "2025-04-16 23:38:10.214112: I tensorflow/core/kernels/data/shuffle_dataset_op.cc:177] Filling up shuffle buffer (this may take a while): 454 of 516\n",
      "2025-04-16 23:38:20.068294: I tensorflow/core/kernels/data/shuffle_dataset_op.cc:177] Filling up shuffle buffer (this may take a while): 480 of 516\n",
      "2025-04-16 23:38:30.178274: I tensorflow/core/kernels/data/shuffle_dataset_op.cc:177] Filling up shuffle buffer (this may take a while): 513 of 516\n",
      "2025-04-16 23:38:30.869055: I tensorflow/core/kernels/data/shuffle_dataset_op.cc:230] Shuffle buffer filled.\n"
     ]
    },
    {
     "name": "stdout",
     "output_type": "stream",
     "text": [
      "65/65 [==============================] - 210s 609ms/step - loss: 0.5903 - accuracy: 0.6802 - auc: 0.7514 - val_loss: 0.5923 - val_accuracy: 0.7231 - val_auc: 0.7496\n",
      "Epoch 17/100\n"
     ]
    },
    {
     "name": "stderr",
     "output_type": "stream",
     "text": [
      "2025-04-16 23:39:22.127290: I tensorflow/core/kernels/data/shuffle_dataset_op.cc:177] Filling up shuffle buffer (this may take a while): 33 of 516\n",
      "2025-04-16 23:39:32.057979: I tensorflow/core/kernels/data/shuffle_dataset_op.cc:177] Filling up shuffle buffer (this may take a while): 72 of 516\n"
     ]
    },
    {
     "name": "stdout",
     "output_type": "stream",
     "text": [
      "Advertencia: ../data/train/Shoplifting042_x264.mp4 tiene menos frames que los requeridos. Usando todo el video.\n"
     ]
    },
    {
     "name": "stderr",
     "output_type": "stream",
     "text": [
      "2025-04-16 23:39:42.017991: I tensorflow/core/kernels/data/shuffle_dataset_op.cc:177] Filling up shuffle buffer (this may take a while): 104 of 516\n",
      "2025-04-16 23:39:52.056372: I tensorflow/core/kernels/data/shuffle_dataset_op.cc:177] Filling up shuffle buffer (this may take a while): 136 of 516\n",
      "2025-04-16 23:40:01.905322: I tensorflow/core/kernels/data/shuffle_dataset_op.cc:177] Filling up shuffle buffer (this may take a while): 161 of 516\n",
      "2025-04-16 23:40:12.166645: I tensorflow/core/kernels/data/shuffle_dataset_op.cc:177] Filling up shuffle buffer (this may take a while): 192 of 516\n",
      "2025-04-16 23:40:21.970617: I tensorflow/core/kernels/data/shuffle_dataset_op.cc:177] Filling up shuffle buffer (this may take a while): 220 of 516\n",
      "2025-04-16 23:40:32.242462: I tensorflow/core/kernels/data/shuffle_dataset_op.cc:177] Filling up shuffle buffer (this may take a while): 250 of 516\n",
      "2025-04-16 23:40:41.925674: I tensorflow/core/kernels/data/shuffle_dataset_op.cc:177] Filling up shuffle buffer (this may take a while): 280 of 516\n",
      "2025-04-16 23:40:52.056638: I tensorflow/core/kernels/data/shuffle_dataset_op.cc:177] Filling up shuffle buffer (this may take a while): 308 of 516\n",
      "2025-04-16 23:41:02.157577: I tensorflow/core/kernels/data/shuffle_dataset_op.cc:177] Filling up shuffle buffer (this may take a while): 339 of 516\n",
      "2025-04-16 23:41:11.927018: I tensorflow/core/kernels/data/shuffle_dataset_op.cc:177] Filling up shuffle buffer (this may take a while): 367 of 516\n",
      "2025-04-16 23:41:22.070581: I tensorflow/core/kernels/data/shuffle_dataset_op.cc:177] Filling up shuffle buffer (this may take a while): 402 of 516\n",
      "2025-04-16 23:41:32.046633: I tensorflow/core/kernels/data/shuffle_dataset_op.cc:177] Filling up shuffle buffer (this may take a while): 432 of 516\n",
      "2025-04-16 23:41:41.982779: I tensorflow/core/kernels/data/shuffle_dataset_op.cc:177] Filling up shuffle buffer (this may take a while): 461 of 516\n",
      "2025-04-16 23:41:51.935088: I tensorflow/core/kernels/data/shuffle_dataset_op.cc:177] Filling up shuffle buffer (this may take a while): 489 of 516\n",
      "2025-04-16 23:42:00.225686: I tensorflow/core/kernels/data/shuffle_dataset_op.cc:230] Shuffle buffer filled.\n"
     ]
    },
    {
     "name": "stdout",
     "output_type": "stream",
     "text": [
      "65/65 [==============================] - 208s 608ms/step - loss: 0.5445 - accuracy: 0.7364 - auc: 0.7979 - val_loss: 0.5991 - val_accuracy: 0.7077 - val_auc: 0.7536\n",
      "Epoch 18/100\n"
     ]
    },
    {
     "name": "stderr",
     "output_type": "stream",
     "text": [
      "2025-04-16 23:42:51.590322: I tensorflow/core/kernels/data/shuffle_dataset_op.cc:177] Filling up shuffle buffer (this may take a while): 33 of 516\n",
      "2025-04-16 23:43:01.187231: I tensorflow/core/kernels/data/shuffle_dataset_op.cc:177] Filling up shuffle buffer (this may take a while): 70 of 516\n"
     ]
    },
    {
     "name": "stdout",
     "output_type": "stream",
     "text": [
      "Advertencia: ../data/train/Shoplifting042_x264.mp4 tiene menos frames que los requeridos. Usando todo el video.\n"
     ]
    },
    {
     "name": "stderr",
     "output_type": "stream",
     "text": [
      "2025-04-16 23:43:11.466836: I tensorflow/core/kernels/data/shuffle_dataset_op.cc:177] Filling up shuffle buffer (this may take a while): 102 of 516\n",
      "2025-04-16 23:43:21.153660: I tensorflow/core/kernels/data/shuffle_dataset_op.cc:177] Filling up shuffle buffer (this may take a while): 134 of 516\n",
      "2025-04-16 23:43:31.354614: I tensorflow/core/kernels/data/shuffle_dataset_op.cc:177] Filling up shuffle buffer (this may take a while): 160 of 516\n",
      "2025-04-16 23:43:41.207277: I tensorflow/core/kernels/data/shuffle_dataset_op.cc:177] Filling up shuffle buffer (this may take a while): 190 of 516\n",
      "2025-04-16 23:43:51.442038: I tensorflow/core/kernels/data/shuffle_dataset_op.cc:177] Filling up shuffle buffer (this may take a while): 219 of 516\n",
      "2025-04-16 23:44:01.242854: I tensorflow/core/kernels/data/shuffle_dataset_op.cc:177] Filling up shuffle buffer (this may take a while): 247 of 516\n",
      "2025-04-16 23:44:11.273482: I tensorflow/core/kernels/data/shuffle_dataset_op.cc:177] Filling up shuffle buffer (this may take a while): 277 of 516\n",
      "2025-04-16 23:44:21.234788: I tensorflow/core/kernels/data/shuffle_dataset_op.cc:177] Filling up shuffle buffer (this may take a while): 305 of 516\n",
      "2025-04-16 23:44:31.297750: I tensorflow/core/kernels/data/shuffle_dataset_op.cc:177] Filling up shuffle buffer (this may take a while): 337 of 516\n",
      "2025-04-16 23:44:41.561245: I tensorflow/core/kernels/data/shuffle_dataset_op.cc:177] Filling up shuffle buffer (this may take a while): 365 of 516\n",
      "2025-04-16 23:44:51.227098: I tensorflow/core/kernels/data/shuffle_dataset_op.cc:177] Filling up shuffle buffer (this may take a while): 399 of 516\n",
      "2025-04-16 23:45:01.744362: I tensorflow/core/kernels/data/shuffle_dataset_op.cc:177] Filling up shuffle buffer (this may take a while): 431 of 516\n",
      "2025-04-16 23:45:11.173167: I tensorflow/core/kernels/data/shuffle_dataset_op.cc:177] Filling up shuffle buffer (this may take a while): 457 of 516\n",
      "2025-04-16 23:45:21.161233: I tensorflow/core/kernels/data/shuffle_dataset_op.cc:177] Filling up shuffle buffer (this may take a while): 484 of 516\n",
      "2025-04-16 23:45:30.836492: I tensorflow/core/kernels/data/shuffle_dataset_op.cc:230] Shuffle buffer filled.\n"
     ]
    },
    {
     "name": "stdout",
     "output_type": "stream",
     "text": [
      "65/65 [==============================] - 209s 607ms/step - loss: 0.5753 - accuracy: 0.6783 - auc: 0.7696 - val_loss: 0.6292 - val_accuracy: 0.7077 - val_auc: 0.7254\n",
      "Epoch 19/100\n"
     ]
    },
    {
     "name": "stderr",
     "output_type": "stream",
     "text": [
      "2025-04-16 23:46:21.956989: I tensorflow/core/kernels/data/shuffle_dataset_op.cc:177] Filling up shuffle buffer (this may take a while): 33 of 516\n",
      "2025-04-16 23:46:31.796772: I tensorflow/core/kernels/data/shuffle_dataset_op.cc:177] Filling up shuffle buffer (this may take a while): 71 of 516\n"
     ]
    },
    {
     "name": "stdout",
     "output_type": "stream",
     "text": [
      "Advertencia: ../data/train/Shoplifting042_x264.mp4 tiene menos frames que los requeridos. Usando todo el video.\n"
     ]
    },
    {
     "name": "stderr",
     "output_type": "stream",
     "text": [
      "2025-04-16 23:46:41.892179: I tensorflow/core/kernels/data/shuffle_dataset_op.cc:177] Filling up shuffle buffer (this may take a while): 102 of 516\n",
      "2025-04-16 23:46:51.671051: I tensorflow/core/kernels/data/shuffle_dataset_op.cc:177] Filling up shuffle buffer (this may take a while): 134 of 516\n",
      "2025-04-16 23:47:01.923960: I tensorflow/core/kernels/data/shuffle_dataset_op.cc:177] Filling up shuffle buffer (this may take a while): 160 of 516\n",
      "2025-04-16 23:47:11.691221: I tensorflow/core/kernels/data/shuffle_dataset_op.cc:177] Filling up shuffle buffer (this may take a while): 190 of 516\n",
      "2025-04-16 23:47:21.987416: I tensorflow/core/kernels/data/shuffle_dataset_op.cc:177] Filling up shuffle buffer (this may take a while): 219 of 516\n",
      "2025-04-16 23:47:31.998720: I tensorflow/core/kernels/data/shuffle_dataset_op.cc:177] Filling up shuffle buffer (this may take a while): 247 of 516\n",
      "2025-04-16 23:47:42.016478: I tensorflow/core/kernels/data/shuffle_dataset_op.cc:177] Filling up shuffle buffer (this may take a while): 277 of 516\n",
      "2025-04-16 23:47:51.649011: I tensorflow/core/kernels/data/shuffle_dataset_op.cc:177] Filling up shuffle buffer (this may take a while): 304 of 516\n",
      "2025-04-16 23:48:01.795777: I tensorflow/core/kernels/data/shuffle_dataset_op.cc:177] Filling up shuffle buffer (this may take a while): 337 of 516\n",
      "2025-04-16 23:48:12.059037: I tensorflow/core/kernels/data/shuffle_dataset_op.cc:177] Filling up shuffle buffer (this may take a while): 365 of 516\n",
      "2025-04-16 23:48:21.911836: I tensorflow/core/kernels/data/shuffle_dataset_op.cc:177] Filling up shuffle buffer (this may take a while): 399 of 516\n",
      "2025-04-16 23:48:31.819496: I tensorflow/core/kernels/data/shuffle_dataset_op.cc:177] Filling up shuffle buffer (this may take a while): 430 of 516\n",
      "2025-04-16 23:48:41.971185: I tensorflow/core/kernels/data/shuffle_dataset_op.cc:177] Filling up shuffle buffer (this may take a while): 457 of 516\n",
      "2025-04-16 23:48:51.720288: I tensorflow/core/kernels/data/shuffle_dataset_op.cc:177] Filling up shuffle buffer (this may take a while): 483 of 516\n",
      "2025-04-16 23:49:01.654635: I tensorflow/core/kernels/data/shuffle_dataset_op.cc:177] Filling up shuffle buffer (this may take a while): 515 of 516\n",
      "2025-04-16 23:49:01.827595: I tensorflow/core/kernels/data/shuffle_dataset_op.cc:230] Shuffle buffer filled.\n"
     ]
    },
    {
     "name": "stdout",
     "output_type": "stream",
     "text": [
      "65/65 [==============================] - 210s 609ms/step - loss: 0.5329 - accuracy: 0.7364 - auc: 0.8081 - val_loss: 0.6311 - val_accuracy: 0.7077 - val_auc: 0.7311\n",
      "Epoch 20/100\n"
     ]
    },
    {
     "name": "stderr",
     "output_type": "stream",
     "text": [
      "2025-04-16 23:49:53.112011: I tensorflow/core/kernels/data/shuffle_dataset_op.cc:177] Filling up shuffle buffer (this may take a while): 33 of 516\n",
      "2025-04-16 23:50:03.024731: I tensorflow/core/kernels/data/shuffle_dataset_op.cc:177] Filling up shuffle buffer (this may take a while): 72 of 516\n"
     ]
    },
    {
     "name": "stdout",
     "output_type": "stream",
     "text": [
      "Advertencia: ../data/train/Shoplifting042_x264.mp4 tiene menos frames que los requeridos. Usando todo el video.\n"
     ]
    },
    {
     "name": "stderr",
     "output_type": "stream",
     "text": [
      "2025-04-16 23:50:12.999401: I tensorflow/core/kernels/data/shuffle_dataset_op.cc:177] Filling up shuffle buffer (this may take a while): 104 of 516\n",
      "2025-04-16 23:50:23.113669: I tensorflow/core/kernels/data/shuffle_dataset_op.cc:177] Filling up shuffle buffer (this may take a while): 136 of 516\n",
      "2025-04-16 23:50:32.887083: I tensorflow/core/kernels/data/shuffle_dataset_op.cc:177] Filling up shuffle buffer (this may take a while): 161 of 516\n",
      "2025-04-16 23:50:42.821989: I tensorflow/core/kernels/data/shuffle_dataset_op.cc:177] Filling up shuffle buffer (this may take a while): 191 of 516\n",
      "2025-04-16 23:50:53.004492: I tensorflow/core/kernels/data/shuffle_dataset_op.cc:177] Filling up shuffle buffer (this may take a while): 220 of 516\n",
      "2025-04-16 23:51:03.310626: I tensorflow/core/kernels/data/shuffle_dataset_op.cc:177] Filling up shuffle buffer (this may take a while): 250 of 516\n",
      "2025-04-16 23:51:12.838015: I tensorflow/core/kernels/data/shuffle_dataset_op.cc:177] Filling up shuffle buffer (this may take a while): 279 of 516\n",
      "2025-04-16 23:51:22.900872: I tensorflow/core/kernels/data/shuffle_dataset_op.cc:177] Filling up shuffle buffer (this may take a while): 307 of 516\n",
      "2025-04-16 23:51:32.912800: I tensorflow/core/kernels/data/shuffle_dataset_op.cc:177] Filling up shuffle buffer (this may take a while): 338 of 516\n",
      "2025-04-16 23:51:42.853170: I tensorflow/core/kernels/data/shuffle_dataset_op.cc:177] Filling up shuffle buffer (this may take a while): 366 of 516\n",
      "2025-04-16 23:51:52.783493: I tensorflow/core/kernels/data/shuffle_dataset_op.cc:177] Filling up shuffle buffer (this may take a while): 400 of 516\n",
      "2025-04-16 23:52:03.306374: I tensorflow/core/kernels/data/shuffle_dataset_op.cc:177] Filling up shuffle buffer (this may take a while): 432 of 516\n",
      "2025-04-16 23:52:13.284695: I tensorflow/core/kernels/data/shuffle_dataset_op.cc:177] Filling up shuffle buffer (this may take a while): 461 of 516\n",
      "2025-04-16 23:52:22.896653: I tensorflow/core/kernels/data/shuffle_dataset_op.cc:177] Filling up shuffle buffer (this may take a while): 487 of 516\n",
      "2025-04-16 23:52:31.873777: I tensorflow/core/kernels/data/shuffle_dataset_op.cc:230] Shuffle buffer filled.\n"
     ]
    },
    {
     "name": "stdout",
     "output_type": "stream",
     "text": [
      "65/65 [==============================] - 208s 608ms/step - loss: 0.5256 - accuracy: 0.7248 - auc: 0.8159 - val_loss: 0.6115 - val_accuracy: 0.7385 - val_auc: 0.7555\n",
      "Epoch 21/100\n"
     ]
    },
    {
     "name": "stderr",
     "output_type": "stream",
     "text": [
      "2025-04-16 23:53:24.263162: I tensorflow/core/kernels/data/shuffle_dataset_op.cc:177] Filling up shuffle buffer (this may take a while): 33 of 516\n",
      "2025-04-16 23:53:33.792420: I tensorflow/core/kernels/data/shuffle_dataset_op.cc:177] Filling up shuffle buffer (this may take a while): 69 of 516\n"
     ]
    },
    {
     "name": "stdout",
     "output_type": "stream",
     "text": [
      "Advertencia: ../data/train/Shoplifting042_x264.mp4 tiene menos frames que los requeridos. Usando todo el video.\n"
     ]
    },
    {
     "name": "stderr",
     "output_type": "stream",
     "text": [
      "2025-04-16 23:53:43.862285: I tensorflow/core/kernels/data/shuffle_dataset_op.cc:177] Filling up shuffle buffer (this may take a while): 101 of 516\n",
      "2025-04-16 23:53:54.010134: I tensorflow/core/kernels/data/shuffle_dataset_op.cc:177] Filling up shuffle buffer (this may take a while): 134 of 516\n",
      "2025-04-16 23:54:03.873767: I tensorflow/core/kernels/data/shuffle_dataset_op.cc:177] Filling up shuffle buffer (this may take a while): 159 of 516\n",
      "2025-04-16 23:54:13.686657: I tensorflow/core/kernels/data/shuffle_dataset_op.cc:177] Filling up shuffle buffer (this may take a while): 189 of 516\n",
      "2025-04-16 23:54:23.889825: I tensorflow/core/kernels/data/shuffle_dataset_op.cc:177] Filling up shuffle buffer (this may take a while): 218 of 516\n",
      "2025-04-16 23:54:34.220679: I tensorflow/core/kernels/data/shuffle_dataset_op.cc:177] Filling up shuffle buffer (this may take a while): 246 of 516\n",
      "2025-04-16 23:54:43.904184: I tensorflow/core/kernels/data/shuffle_dataset_op.cc:177] Filling up shuffle buffer (this may take a while): 275 of 516\n",
      "2025-04-16 23:54:53.676142: I tensorflow/core/kernels/data/shuffle_dataset_op.cc:177] Filling up shuffle buffer (this may take a while): 301 of 516\n",
      "2025-04-16 23:55:03.821814: I tensorflow/core/kernels/data/shuffle_dataset_op.cc:177] Filling up shuffle buffer (this may take a while): 333 of 516\n",
      "2025-04-16 23:55:14.070691: I tensorflow/core/kernels/data/shuffle_dataset_op.cc:177] Filling up shuffle buffer (this may take a while): 361 of 516\n",
      "2025-04-16 23:55:23.928632: I tensorflow/core/kernels/data/shuffle_dataset_op.cc:177] Filling up shuffle buffer (this may take a while): 393 of 516\n",
      "2025-04-16 23:55:33.766517: I tensorflow/core/kernels/data/shuffle_dataset_op.cc:177] Filling up shuffle buffer (this may take a while): 427 of 516\n",
      "2025-04-16 23:55:43.663731: I tensorflow/core/kernels/data/shuffle_dataset_op.cc:177] Filling up shuffle buffer (this may take a while): 450 of 516\n",
      "2025-04-16 23:55:53.701055: I tensorflow/core/kernels/data/shuffle_dataset_op.cc:177] Filling up shuffle buffer (this may take a while): 478 of 516\n",
      "2025-04-16 23:56:03.835680: I tensorflow/core/kernels/data/shuffle_dataset_op.cc:177] Filling up shuffle buffer (this may take a while): 510 of 516\n",
      "2025-04-16 23:56:05.651233: I tensorflow/core/kernels/data/shuffle_dataset_op.cc:230] Shuffle buffer filled.\n"
     ]
    },
    {
     "name": "stdout",
     "output_type": "stream",
     "text": [
      "65/65 [==============================] - 211s 608ms/step - loss: 0.5523 - accuracy: 0.7190 - auc: 0.7908 - val_loss: 0.5750 - val_accuracy: 0.7692 - val_auc: 0.7805\n",
      "Epoch 22/100\n"
     ]
    },
    {
     "name": "stderr",
     "output_type": "stream",
     "text": [
      "2025-04-16 23:56:58.651045: I tensorflow/core/kernels/data/shuffle_dataset_op.cc:177] Filling up shuffle buffer (this may take a while): 33 of 516\n",
      "2025-04-16 23:57:08.384339: I tensorflow/core/kernels/data/shuffle_dataset_op.cc:177] Filling up shuffle buffer (this may take a while): 71 of 516\n"
     ]
    },
    {
     "name": "stdout",
     "output_type": "stream",
     "text": [
      "Advertencia: ../data/train/Shoplifting042_x264.mp4 tiene menos frames que los requeridos. Usando todo el video.\n"
     ]
    },
    {
     "name": "stderr",
     "output_type": "stream",
     "text": [
      "2025-04-16 23:57:18.375159: I tensorflow/core/kernels/data/shuffle_dataset_op.cc:177] Filling up shuffle buffer (this may take a while): 102 of 516\n",
      "2025-04-16 23:57:28.410503: I tensorflow/core/kernels/data/shuffle_dataset_op.cc:177] Filling up shuffle buffer (this may take a while): 135 of 516\n",
      "2025-04-16 23:57:38.318455: I tensorflow/core/kernels/data/shuffle_dataset_op.cc:177] Filling up shuffle buffer (this may take a while): 160 of 516\n",
      "2025-04-16 23:57:48.789333: I tensorflow/core/kernels/data/shuffle_dataset_op.cc:177] Filling up shuffle buffer (this may take a while): 191 of 516\n",
      "2025-04-16 23:57:58.379530: I tensorflow/core/kernels/data/shuffle_dataset_op.cc:177] Filling up shuffle buffer (this may take a while): 219 of 516\n",
      "2025-04-16 23:58:08.478143: I tensorflow/core/kernels/data/shuffle_dataset_op.cc:177] Filling up shuffle buffer (this may take a while): 247 of 516\n",
      "2025-04-16 23:58:18.448821: I tensorflow/core/kernels/data/shuffle_dataset_op.cc:177] Filling up shuffle buffer (this may take a while): 277 of 516\n",
      "2025-04-16 23:58:28.213789: I tensorflow/core/kernels/data/shuffle_dataset_op.cc:177] Filling up shuffle buffer (this may take a while): 304 of 516\n",
      "2025-04-16 23:58:38.475481: I tensorflow/core/kernels/data/shuffle_dataset_op.cc:177] Filling up shuffle buffer (this may take a while): 337 of 516\n",
      "2025-04-16 23:58:48.281049: I tensorflow/core/kernels/data/shuffle_dataset_op.cc:177] Filling up shuffle buffer (this may take a while): 364 of 516\n",
      "2025-04-16 23:58:58.231646: I tensorflow/core/kernels/data/shuffle_dataset_op.cc:177] Filling up shuffle buffer (this may take a while): 398 of 516\n",
      "2025-04-16 23:59:08.498846: I tensorflow/core/kernels/data/shuffle_dataset_op.cc:177] Filling up shuffle buffer (this may take a while): 430 of 516\n",
      "2025-04-16 23:59:18.281815: I tensorflow/core/kernels/data/shuffle_dataset_op.cc:177] Filling up shuffle buffer (this may take a while): 456 of 516\n",
      "2025-04-16 23:59:28.366274: I tensorflow/core/kernels/data/shuffle_dataset_op.cc:177] Filling up shuffle buffer (this may take a while): 483 of 516\n",
      "2025-04-16 23:59:38.367621: I tensorflow/core/kernels/data/shuffle_dataset_op.cc:177] Filling up shuffle buffer (this may take a while): 515 of 516\n",
      "2025-04-16 23:59:38.549083: I tensorflow/core/kernels/data/shuffle_dataset_op.cc:230] Shuffle buffer filled.\n"
     ]
    },
    {
     "name": "stdout",
     "output_type": "stream",
     "text": [
      "65/65 [==============================] - 210s 608ms/step - loss: 0.5491 - accuracy: 0.7112 - auc: 0.7946 - val_loss: 0.6148 - val_accuracy: 0.6923 - val_auc: 0.7546\n",
      "Epoch 23/100\n"
     ]
    },
    {
     "name": "stderr",
     "output_type": "stream",
     "text": [
      "2025-04-17 00:00:29.824491: I tensorflow/core/kernels/data/shuffle_dataset_op.cc:177] Filling up shuffle buffer (this may take a while): 33 of 516\n",
      "2025-04-17 00:00:39.681112: I tensorflow/core/kernels/data/shuffle_dataset_op.cc:177] Filling up shuffle buffer (this may take a while): 72 of 516\n"
     ]
    },
    {
     "name": "stdout",
     "output_type": "stream",
     "text": [
      "Advertencia: ../data/train/Shoplifting042_x264.mp4 tiene menos frames que los requeridos. Usando todo el video.\n"
     ]
    },
    {
     "name": "stderr",
     "output_type": "stream",
     "text": [
      "2025-04-17 00:00:49.509712: I tensorflow/core/kernels/data/shuffle_dataset_op.cc:177] Filling up shuffle buffer (this may take a while): 104 of 516\n",
      "2025-04-17 00:00:59.607312: I tensorflow/core/kernels/data/shuffle_dataset_op.cc:177] Filling up shuffle buffer (this may take a while): 136 of 516\n",
      "2025-04-17 00:01:09.555548: I tensorflow/core/kernels/data/shuffle_dataset_op.cc:177] Filling up shuffle buffer (this may take a while): 162 of 516\n",
      "2025-04-17 00:01:19.785813: I tensorflow/core/kernels/data/shuffle_dataset_op.cc:177] Filling up shuffle buffer (this may take a while): 192 of 516\n",
      "2025-04-17 00:01:29.631666: I tensorflow/core/kernels/data/shuffle_dataset_op.cc:177] Filling up shuffle buffer (this may take a while): 220 of 516\n",
      "2025-04-17 00:01:40.038147: I tensorflow/core/kernels/data/shuffle_dataset_op.cc:177] Filling up shuffle buffer (this may take a while): 250 of 516\n",
      "2025-04-17 00:01:49.619816: I tensorflow/core/kernels/data/shuffle_dataset_op.cc:177] Filling up shuffle buffer (this may take a while): 279 of 516\n",
      "2025-04-17 00:01:59.742613: I tensorflow/core/kernels/data/shuffle_dataset_op.cc:177] Filling up shuffle buffer (this may take a while): 307 of 516\n",
      "2025-04-17 00:02:09.832243: I tensorflow/core/kernels/data/shuffle_dataset_op.cc:177] Filling up shuffle buffer (this may take a while): 338 of 516\n",
      "2025-04-17 00:02:19.558717: I tensorflow/core/kernels/data/shuffle_dataset_op.cc:177] Filling up shuffle buffer (this may take a while): 365 of 516\n",
      "2025-04-17 00:02:30.010976: I tensorflow/core/kernels/data/shuffle_dataset_op.cc:177] Filling up shuffle buffer (this may take a while): 400 of 516\n",
      "2025-04-17 00:02:39.418011: I tensorflow/core/kernels/data/shuffle_dataset_op.cc:177] Filling up shuffle buffer (this may take a while): 430 of 516\n",
      "2025-04-17 00:02:49.440623: I tensorflow/core/kernels/data/shuffle_dataset_op.cc:177] Filling up shuffle buffer (this may take a while): 457 of 516\n",
      "2025-04-17 00:02:59.558121: I tensorflow/core/kernels/data/shuffle_dataset_op.cc:177] Filling up shuffle buffer (this may take a while): 484 of 516\n",
      "2025-04-17 00:03:09.143868: I tensorflow/core/kernels/data/shuffle_dataset_op.cc:230] Shuffle buffer filled.\n"
     ]
    },
    {
     "name": "stdout",
     "output_type": "stream",
     "text": [
      "65/65 [==============================] - 209s 605ms/step - loss: 0.5102 - accuracy: 0.7345 - auc: 0.8278 - val_loss: 0.6486 - val_accuracy: 0.7077 - val_auc: 0.7314\n",
      "Epoch 24/100\n"
     ]
    },
    {
     "name": "stderr",
     "output_type": "stream",
     "text": [
      "2025-04-17 00:04:00.215056: I tensorflow/core/kernels/data/shuffle_dataset_op.cc:177] Filling up shuffle buffer (this may take a while): 33 of 516\n",
      "2025-04-17 00:04:09.910278: I tensorflow/core/kernels/data/shuffle_dataset_op.cc:177] Filling up shuffle buffer (this may take a while): 71 of 516\n"
     ]
    },
    {
     "name": "stdout",
     "output_type": "stream",
     "text": [
      "Advertencia: ../data/train/Shoplifting042_x264.mp4 tiene menos frames que los requeridos. Usando todo el video.\n"
     ]
    },
    {
     "name": "stderr",
     "output_type": "stream",
     "text": [
      "2025-04-17 00:04:19.950934: I tensorflow/core/kernels/data/shuffle_dataset_op.cc:177] Filling up shuffle buffer (this may take a while): 103 of 516\n",
      "2025-04-17 00:04:29.885313: I tensorflow/core/kernels/data/shuffle_dataset_op.cc:177] Filling up shuffle buffer (this may take a while): 135 of 516\n",
      "2025-04-17 00:04:40.293545: I tensorflow/core/kernels/data/shuffle_dataset_op.cc:177] Filling up shuffle buffer (this may take a while): 161 of 516\n",
      "2025-04-17 00:04:50.283422: I tensorflow/core/kernels/data/shuffle_dataset_op.cc:177] Filling up shuffle buffer (this may take a while): 191 of 516\n",
      "2025-04-17 00:04:59.898133: I tensorflow/core/kernels/data/shuffle_dataset_op.cc:177] Filling up shuffle buffer (this may take a while): 219 of 516\n",
      "2025-04-17 00:05:09.942308: I tensorflow/core/kernels/data/shuffle_dataset_op.cc:177] Filling up shuffle buffer (this may take a while): 247 of 516\n",
      "2025-04-17 00:05:20.124403: I tensorflow/core/kernels/data/shuffle_dataset_op.cc:177] Filling up shuffle buffer (this may take a while): 277 of 516\n",
      "2025-04-17 00:05:29.962775: I tensorflow/core/kernels/data/shuffle_dataset_op.cc:177] Filling up shuffle buffer (this may take a while): 304 of 516\n",
      "2025-04-17 00:05:40.092468: I tensorflow/core/kernels/data/shuffle_dataset_op.cc:177] Filling up shuffle buffer (this may take a while): 337 of 516\n",
      "2025-04-17 00:05:49.920894: I tensorflow/core/kernels/data/shuffle_dataset_op.cc:177] Filling up shuffle buffer (this may take a while): 364 of 516\n",
      "2025-04-17 00:05:59.960237: I tensorflow/core/kernels/data/shuffle_dataset_op.cc:177] Filling up shuffle buffer (this may take a while): 398 of 516\n",
      "2025-04-17 00:06:10.274312: I tensorflow/core/kernels/data/shuffle_dataset_op.cc:177] Filling up shuffle buffer (this may take a while): 430 of 516\n",
      "2025-04-17 00:06:19.971405: I tensorflow/core/kernels/data/shuffle_dataset_op.cc:177] Filling up shuffle buffer (this may take a while): 456 of 516\n",
      "2025-04-17 00:06:29.928557: I tensorflow/core/kernels/data/shuffle_dataset_op.cc:177] Filling up shuffle buffer (this may take a while): 483 of 516\n",
      "2025-04-17 00:06:40.010463: I tensorflow/core/kernels/data/shuffle_dataset_op.cc:177] Filling up shuffle buffer (this may take a while): 515 of 516\n",
      "2025-04-17 00:06:40.184573: I tensorflow/core/kernels/data/shuffle_dataset_op.cc:230] Shuffle buffer filled.\n"
     ]
    },
    {
     "name": "stdout",
     "output_type": "stream",
     "text": [
      "65/65 [==============================] - 210s 607ms/step - loss: 0.5483 - accuracy: 0.7345 - auc: 0.7955 - val_loss: 0.6024 - val_accuracy: 0.7077 - val_auc: 0.7544\n",
      "Epoch 25/100\n"
     ]
    },
    {
     "name": "stderr",
     "output_type": "stream",
     "text": [
      "2025-04-17 00:07:31.485991: I tensorflow/core/kernels/data/shuffle_dataset_op.cc:177] Filling up shuffle buffer (this may take a while): 33 of 516\n",
      "2025-04-17 00:07:41.203170: I tensorflow/core/kernels/data/shuffle_dataset_op.cc:177] Filling up shuffle buffer (this may take a while): 71 of 516\n"
     ]
    },
    {
     "name": "stdout",
     "output_type": "stream",
     "text": [
      "Advertencia: ../data/train/Shoplifting042_x264.mp4 tiene menos frames que los requeridos. Usando todo el video.\n"
     ]
    },
    {
     "name": "stderr",
     "output_type": "stream",
     "text": [
      "2025-04-17 00:07:51.054871: I tensorflow/core/kernels/data/shuffle_dataset_op.cc:177] Filling up shuffle buffer (this may take a while): 102 of 516\n",
      "2025-04-17 00:08:01.050358: I tensorflow/core/kernels/data/shuffle_dataset_op.cc:177] Filling up shuffle buffer (this may take a while): 135 of 516\n",
      "2025-04-17 00:08:11.391458: I tensorflow/core/kernels/data/shuffle_dataset_op.cc:177] Filling up shuffle buffer (this may take a while): 161 of 516\n",
      "2025-04-17 00:08:21.405415: I tensorflow/core/kernels/data/shuffle_dataset_op.cc:177] Filling up shuffle buffer (this may take a while): 191 of 516\n",
      "2025-04-17 00:08:31.623566: I tensorflow/core/kernels/data/shuffle_dataset_op.cc:177] Filling up shuffle buffer (this may take a while): 220 of 516\n",
      "2025-04-17 00:08:41.088883: I tensorflow/core/kernels/data/shuffle_dataset_op.cc:177] Filling up shuffle buffer (this may take a while): 248 of 516\n",
      "2025-04-17 00:08:51.229520: I tensorflow/core/kernels/data/shuffle_dataset_op.cc:177] Filling up shuffle buffer (this may take a while): 278 of 516\n",
      "2025-04-17 00:09:01.160461: I tensorflow/core/kernels/data/shuffle_dataset_op.cc:177] Filling up shuffle buffer (this may take a while): 306 of 516\n",
      "2025-04-17 00:09:11.080012: I tensorflow/core/kernels/data/shuffle_dataset_op.cc:177] Filling up shuffle buffer (this may take a while): 337 of 516\n",
      "2025-04-17 00:09:21.356055: I tensorflow/core/kernels/data/shuffle_dataset_op.cc:177] Filling up shuffle buffer (this may take a while): 365 of 516\n",
      "2025-04-17 00:09:31.249041: I tensorflow/core/kernels/data/shuffle_dataset_op.cc:177] Filling up shuffle buffer (this may take a while): 399 of 516\n",
      "2025-04-17 00:09:41.252927: I tensorflow/core/kernels/data/shuffle_dataset_op.cc:177] Filling up shuffle buffer (this may take a while): 430 of 516\n",
      "2025-04-17 00:09:51.080557: I tensorflow/core/kernels/data/shuffle_dataset_op.cc:177] Filling up shuffle buffer (this may take a while): 456 of 516\n",
      "2025-04-17 00:10:01.162267: I tensorflow/core/kernels/data/shuffle_dataset_op.cc:177] Filling up shuffle buffer (this may take a while): 483 of 516\n",
      "2025-04-17 00:10:11.116056: I tensorflow/core/kernels/data/shuffle_dataset_op.cc:177] Filling up shuffle buffer (this may take a while): 515 of 516\n",
      "2025-04-17 00:10:11.299060: I tensorflow/core/kernels/data/shuffle_dataset_op.cc:230] Shuffle buffer filled.\n"
     ]
    },
    {
     "name": "stdout",
     "output_type": "stream",
     "text": [
      "65/65 [==============================] - 209s 604ms/step - loss: 0.5254 - accuracy: 0.7306 - auc: 0.8158 - val_loss: 0.6688 - val_accuracy: 0.6923 - val_auc: 0.7296\n",
      "Epoch 26/100\n"
     ]
    },
    {
     "name": "stderr",
     "output_type": "stream",
     "text": [
      "2025-04-17 00:11:02.634949: I tensorflow/core/kernels/data/shuffle_dataset_op.cc:177] Filling up shuffle buffer (this may take a while): 33 of 516\n",
      "2025-04-17 00:11:12.326291: I tensorflow/core/kernels/data/shuffle_dataset_op.cc:177] Filling up shuffle buffer (this may take a while): 70 of 516\n"
     ]
    },
    {
     "name": "stdout",
     "output_type": "stream",
     "text": [
      "Advertencia: ../data/train/Shoplifting042_x264.mp4 tiene menos frames que los requeridos. Usando todo el video.\n"
     ]
    },
    {
     "name": "stderr",
     "output_type": "stream",
     "text": [
      "2025-04-17 00:11:22.220506: I tensorflow/core/kernels/data/shuffle_dataset_op.cc:177] Filling up shuffle buffer (this may take a while): 101 of 516\n",
      "2025-04-17 00:11:32.407981: I tensorflow/core/kernels/data/shuffle_dataset_op.cc:177] Filling up shuffle buffer (this may take a while): 134 of 516\n",
      "2025-04-17 00:11:42.377671: I tensorflow/core/kernels/data/shuffle_dataset_op.cc:177] Filling up shuffle buffer (this may take a while): 159 of 516\n",
      "2025-04-17 00:11:52.167768: I tensorflow/core/kernels/data/shuffle_dataset_op.cc:177] Filling up shuffle buffer (this may take a while): 188 of 516\n",
      "2025-04-17 00:12:02.144450: I tensorflow/core/kernels/data/shuffle_dataset_op.cc:177] Filling up shuffle buffer (this may take a while): 217 of 516\n",
      "2025-04-17 00:12:12.378936: I tensorflow/core/kernels/data/shuffle_dataset_op.cc:177] Filling up shuffle buffer (this may take a while): 245 of 516\n",
      "2025-04-17 00:12:22.398135: I tensorflow/core/kernels/data/shuffle_dataset_op.cc:177] Filling up shuffle buffer (this may take a while): 274 of 516\n",
      "2025-04-17 00:12:32.118315: I tensorflow/core/kernels/data/shuffle_dataset_op.cc:177] Filling up shuffle buffer (this may take a while): 300 of 516\n",
      "2025-04-17 00:12:42.267140: I tensorflow/core/kernels/data/shuffle_dataset_op.cc:177] Filling up shuffle buffer (this may take a while): 332 of 516\n",
      "2025-04-17 00:12:52.431571: I tensorflow/core/kernels/data/shuffle_dataset_op.cc:177] Filling up shuffle buffer (this may take a while): 359 of 516\n",
      "2025-04-17 00:13:02.423506: I tensorflow/core/kernels/data/shuffle_dataset_op.cc:177] Filling up shuffle buffer (this may take a while): 392 of 516\n",
      "2025-04-17 00:13:12.172417: I tensorflow/core/kernels/data/shuffle_dataset_op.cc:177] Filling up shuffle buffer (this may take a while): 425 of 516\n",
      "2025-04-17 00:13:22.156861: I tensorflow/core/kernels/data/shuffle_dataset_op.cc:177] Filling up shuffle buffer (this may take a while): 449 of 516\n",
      "2025-04-17 00:13:32.183060: I tensorflow/core/kernels/data/shuffle_dataset_op.cc:177] Filling up shuffle buffer (this may take a while): 477 of 516\n",
      "2025-04-17 00:13:42.183465: I tensorflow/core/kernels/data/shuffle_dataset_op.cc:177] Filling up shuffle buffer (this may take a while): 508 of 516\n",
      "2025-04-17 00:13:44.392453: I tensorflow/core/kernels/data/shuffle_dataset_op.cc:230] Shuffle buffer filled.\n"
     ]
    },
    {
     "name": "stdout",
     "output_type": "stream",
     "text": [
      "65/65 [==============================] - 212s 606ms/step - loss: 0.5136 - accuracy: 0.7481 - auc: 0.8263 - val_loss: 0.6634 - val_accuracy: 0.6923 - val_auc: 0.7228\n",
      "Epoch 27/100\n"
     ]
    },
    {
     "name": "stderr",
     "output_type": "stream",
     "text": [
      "2025-04-17 00:14:35.743168: I tensorflow/core/kernels/data/shuffle_dataset_op.cc:177] Filling up shuffle buffer (this may take a while): 33 of 516\n",
      "2025-04-17 00:14:45.335537: I tensorflow/core/kernels/data/shuffle_dataset_op.cc:177] Filling up shuffle buffer (this may take a while): 71 of 516\n"
     ]
    },
    {
     "name": "stdout",
     "output_type": "stream",
     "text": [
      "Advertencia: ../data/train/Shoplifting042_x264.mp4 tiene menos frames que los requeridos. Usando todo el video.\n"
     ]
    },
    {
     "name": "stderr",
     "output_type": "stream",
     "text": [
      "2025-04-17 00:14:55.433976: I tensorflow/core/kernels/data/shuffle_dataset_op.cc:177] Filling up shuffle buffer (this may take a while): 103 of 516\n",
      "2025-04-17 00:15:05.747830: I tensorflow/core/kernels/data/shuffle_dataset_op.cc:177] Filling up shuffle buffer (this may take a while): 136 of 516\n",
      "2025-04-17 00:15:15.540467: I tensorflow/core/kernels/data/shuffle_dataset_op.cc:177] Filling up shuffle buffer (this may take a while): 161 of 516\n",
      "2025-04-17 00:15:25.554935: I tensorflow/core/kernels/data/shuffle_dataset_op.cc:177] Filling up shuffle buffer (this may take a while): 191 of 516\n",
      "2025-04-17 00:15:35.755470: I tensorflow/core/kernels/data/shuffle_dataset_op.cc:177] Filling up shuffle buffer (this may take a while): 220 of 516\n",
      "2025-04-17 00:15:45.373141: I tensorflow/core/kernels/data/shuffle_dataset_op.cc:177] Filling up shuffle buffer (this may take a while): 249 of 516\n",
      "2025-04-17 00:15:55.592118: I tensorflow/core/kernels/data/shuffle_dataset_op.cc:177] Filling up shuffle buffer (this may take a while): 279 of 516\n",
      "2025-04-17 00:16:05.600566: I tensorflow/core/kernels/data/shuffle_dataset_op.cc:177] Filling up shuffle buffer (this may take a while): 307 of 516\n",
      "2025-04-17 00:16:15.612822: I tensorflow/core/kernels/data/shuffle_dataset_op.cc:177] Filling up shuffle buffer (this may take a while): 338 of 516\n",
      "2025-04-17 00:16:25.624255: I tensorflow/core/kernels/data/shuffle_dataset_op.cc:177] Filling up shuffle buffer (this may take a while): 366 of 516\n",
      "2025-04-17 00:16:35.711512: I tensorflow/core/kernels/data/shuffle_dataset_op.cc:177] Filling up shuffle buffer (this may take a while): 400 of 516\n",
      "2025-04-17 00:16:45.692602: I tensorflow/core/kernels/data/shuffle_dataset_op.cc:177] Filling up shuffle buffer (this may take a while): 431 of 516\n",
      "2025-04-17 00:16:55.457360: I tensorflow/core/kernels/data/shuffle_dataset_op.cc:177] Filling up shuffle buffer (this may take a while): 458 of 516\n",
      "2025-04-17 00:17:05.362646: I tensorflow/core/kernels/data/shuffle_dataset_op.cc:177] Filling up shuffle buffer (this may take a while): 485 of 516\n",
      "2025-04-17 00:17:14.950322: I tensorflow/core/kernels/data/shuffle_dataset_op.cc:230] Shuffle buffer filled.\n"
     ]
    },
    {
     "name": "stdout",
     "output_type": "stream",
     "text": [
      "65/65 [==============================] - 209s 604ms/step - loss: 0.5082 - accuracy: 0.7636 - auc: 0.8345 - val_loss: 0.6921 - val_accuracy: 0.6923 - val_auc: 0.6988\n",
      "Epoch 28/100\n"
     ]
    },
    {
     "name": "stderr",
     "output_type": "stream",
     "text": [
      "2025-04-17 00:18:05.932871: I tensorflow/core/kernels/data/shuffle_dataset_op.cc:177] Filling up shuffle buffer (this may take a while): 33 of 516\n",
      "2025-04-17 00:18:15.680382: I tensorflow/core/kernels/data/shuffle_dataset_op.cc:177] Filling up shuffle buffer (this may take a while): 71 of 516\n"
     ]
    },
    {
     "name": "stdout",
     "output_type": "stream",
     "text": [
      "Advertencia: ../data/train/Shoplifting042_x264.mp4 tiene menos frames que los requeridos. Usando todo el video.\n"
     ]
    },
    {
     "name": "stderr",
     "output_type": "stream",
     "text": [
      "2025-04-17 00:18:25.671169: I tensorflow/core/kernels/data/shuffle_dataset_op.cc:177] Filling up shuffle buffer (this may take a while): 103 of 516\n",
      "2025-04-17 00:18:35.928034: I tensorflow/core/kernels/data/shuffle_dataset_op.cc:177] Filling up shuffle buffer (this may take a while): 136 of 516\n",
      "2025-04-17 00:18:45.812346: I tensorflow/core/kernels/data/shuffle_dataset_op.cc:177] Filling up shuffle buffer (this may take a while): 161 of 516\n",
      "2025-04-17 00:18:55.754830: I tensorflow/core/kernels/data/shuffle_dataset_op.cc:177] Filling up shuffle buffer (this may take a while): 191 of 516\n",
      "2025-04-17 00:19:05.757244: I tensorflow/core/kernels/data/shuffle_dataset_op.cc:177] Filling up shuffle buffer (this may take a while): 220 of 516\n",
      "2025-04-17 00:19:16.026148: I tensorflow/core/kernels/data/shuffle_dataset_op.cc:177] Filling up shuffle buffer (this may take a while): 250 of 516\n",
      "2025-04-17 00:19:25.690052: I tensorflow/core/kernels/data/shuffle_dataset_op.cc:177] Filling up shuffle buffer (this may take a while): 279 of 516\n",
      "2025-04-17 00:19:35.848753: I tensorflow/core/kernels/data/shuffle_dataset_op.cc:177] Filling up shuffle buffer (this may take a while): 307 of 516\n",
      "2025-04-17 00:19:45.978375: I tensorflow/core/kernels/data/shuffle_dataset_op.cc:177] Filling up shuffle buffer (this may take a while): 338 of 516\n",
      "2025-04-17 00:19:55.651122: I tensorflow/core/kernels/data/shuffle_dataset_op.cc:177] Filling up shuffle buffer (this may take a while): 365 of 516\n",
      "2025-04-17 00:20:06.133000: I tensorflow/core/kernels/data/shuffle_dataset_op.cc:177] Filling up shuffle buffer (this may take a while): 400 of 516\n",
      "2025-04-17 00:20:16.107449: I tensorflow/core/kernels/data/shuffle_dataset_op.cc:177] Filling up shuffle buffer (this may take a while): 431 of 516\n",
      "2025-04-17 00:20:25.996731: I tensorflow/core/kernels/data/shuffle_dataset_op.cc:177] Filling up shuffle buffer (this may take a while): 458 of 516\n",
      "2025-04-17 00:20:35.705573: I tensorflow/core/kernels/data/shuffle_dataset_op.cc:177] Filling up shuffle buffer (this may take a while): 484 of 516\n",
      "2025-04-17 00:20:45.453172: I tensorflow/core/kernels/data/shuffle_dataset_op.cc:230] Shuffle buffer filled.\n"
     ]
    },
    {
     "name": "stdout",
     "output_type": "stream",
     "text": [
      "65/65 [==============================] - 209s 606ms/step - loss: 0.4681 - accuracy: 0.8023 - auc: 0.8617 - val_loss: 0.7063 - val_accuracy: 0.7231 - val_auc: 0.7249\n",
      "Epoch 29/100\n"
     ]
    },
    {
     "name": "stderr",
     "output_type": "stream",
     "text": [
      "2025-04-17 00:21:36.881486: I tensorflow/core/kernels/data/shuffle_dataset_op.cc:177] Filling up shuffle buffer (this may take a while): 33 of 516\n",
      "2025-04-17 00:21:46.553379: I tensorflow/core/kernels/data/shuffle_dataset_op.cc:177] Filling up shuffle buffer (this may take a while): 71 of 516\n"
     ]
    },
    {
     "name": "stdout",
     "output_type": "stream",
     "text": [
      "Advertencia: ../data/train/Shoplifting042_x264.mp4 tiene menos frames que los requeridos. Usando todo el video.\n"
     ]
    },
    {
     "name": "stderr",
     "output_type": "stream",
     "text": [
      "2025-04-17 00:21:56.557816: I tensorflow/core/kernels/data/shuffle_dataset_op.cc:177] Filling up shuffle buffer (this may take a while): 102 of 516\n",
      "2025-04-17 00:22:06.743161: I tensorflow/core/kernels/data/shuffle_dataset_op.cc:177] Filling up shuffle buffer (this may take a while): 135 of 516\n",
      "2025-04-17 00:22:16.685583: I tensorflow/core/kernels/data/shuffle_dataset_op.cc:177] Filling up shuffle buffer (this may take a while): 160 of 516\n",
      "2025-04-17 00:22:26.639256: I tensorflow/core/kernels/data/shuffle_dataset_op.cc:177] Filling up shuffle buffer (this may take a while): 190 of 516\n",
      "2025-04-17 00:22:37.098169: I tensorflow/core/kernels/data/shuffle_dataset_op.cc:177] Filling up shuffle buffer (this may take a while): 219 of 516\n",
      "2025-04-17 00:22:46.685579: I tensorflow/core/kernels/data/shuffle_dataset_op.cc:177] Filling up shuffle buffer (this may take a while): 246 of 516\n",
      "2025-04-17 00:22:56.730561: I tensorflow/core/kernels/data/shuffle_dataset_op.cc:177] Filling up shuffle buffer (this may take a while): 276 of 516\n",
      "2025-04-17 00:23:06.638660: I tensorflow/core/kernels/data/shuffle_dataset_op.cc:177] Filling up shuffle buffer (this may take a while): 302 of 516\n",
      "2025-04-17 00:23:16.525398: I tensorflow/core/kernels/data/shuffle_dataset_op.cc:177] Filling up shuffle buffer (this may take a while): 333 of 516\n",
      "2025-04-17 00:23:26.855757: I tensorflow/core/kernels/data/shuffle_dataset_op.cc:177] Filling up shuffle buffer (this may take a while): 361 of 516\n",
      "2025-04-17 00:23:36.684192: I tensorflow/core/kernels/data/shuffle_dataset_op.cc:177] Filling up shuffle buffer (this may take a while): 393 of 516\n",
      "2025-04-17 00:23:46.980031: I tensorflow/core/kernels/data/shuffle_dataset_op.cc:177] Filling up shuffle buffer (this may take a while): 428 of 516\n",
      "2025-04-17 00:23:56.565437: I tensorflow/core/kernels/data/shuffle_dataset_op.cc:177] Filling up shuffle buffer (this may take a while): 452 of 516\n",
      "2025-04-17 00:24:06.841542: I tensorflow/core/kernels/data/shuffle_dataset_op.cc:177] Filling up shuffle buffer (this may take a while): 479 of 516\n",
      "2025-04-17 00:24:16.558866: I tensorflow/core/kernels/data/shuffle_dataset_op.cc:177] Filling up shuffle buffer (this may take a while): 511 of 516\n",
      "2025-04-17 00:24:17.915022: I tensorflow/core/kernels/data/shuffle_dataset_op.cc:230] Shuffle buffer filled.\n"
     ]
    },
    {
     "name": "stdout",
     "output_type": "stream",
     "text": [
      "65/65 [==============================] - 211s 613ms/step - loss: 0.5048 - accuracy: 0.7461 - auc: 0.8312 - val_loss: 0.6928 - val_accuracy: 0.7385 - val_auc: 0.7252\n",
      "Epoch 30/100\n"
     ]
    },
    {
     "name": "stderr",
     "output_type": "stream",
     "text": [
      "2025-04-17 00:25:09.572366: I tensorflow/core/kernels/data/shuffle_dataset_op.cc:177] Filling up shuffle buffer (this may take a while): 33 of 516\n",
      "2025-04-17 00:25:19.247019: I tensorflow/core/kernels/data/shuffle_dataset_op.cc:177] Filling up shuffle buffer (this may take a while): 70 of 516\n"
     ]
    },
    {
     "name": "stdout",
     "output_type": "stream",
     "text": [
      "Advertencia: ../data/train/Shoplifting042_x264.mp4 tiene menos frames que los requeridos. Usando todo el video.\n"
     ]
    },
    {
     "name": "stderr",
     "output_type": "stream",
     "text": [
      "2025-04-17 00:25:29.137973: I tensorflow/core/kernels/data/shuffle_dataset_op.cc:177] Filling up shuffle buffer (this may take a while): 101 of 516\n",
      "2025-04-17 00:25:39.263493: I tensorflow/core/kernels/data/shuffle_dataset_op.cc:177] Filling up shuffle buffer (this may take a while): 134 of 516\n",
      "2025-04-17 00:25:49.206674: I tensorflow/core/kernels/data/shuffle_dataset_op.cc:177] Filling up shuffle buffer (this may take a while): 159 of 516\n",
      "2025-04-17 00:25:59.457721: I tensorflow/core/kernels/data/shuffle_dataset_op.cc:177] Filling up shuffle buffer (this may take a while): 190 of 516\n",
      "2025-04-17 00:26:09.148033: I tensorflow/core/kernels/data/shuffle_dataset_op.cc:177] Filling up shuffle buffer (this may take a while): 218 of 516\n",
      "2025-04-17 00:26:19.465751: I tensorflow/core/kernels/data/shuffle_dataset_op.cc:177] Filling up shuffle buffer (this may take a while): 246 of 516\n",
      "2025-04-17 00:26:29.116505: I tensorflow/core/kernels/data/shuffle_dataset_op.cc:177] Filling up shuffle buffer (this may take a while): 275 of 516\n",
      "2025-04-17 00:26:39.207351: I tensorflow/core/kernels/data/shuffle_dataset_op.cc:177] Filling up shuffle buffer (this may take a while): 302 of 516\n",
      "2025-04-17 00:26:49.156630: I tensorflow/core/kernels/data/shuffle_dataset_op.cc:177] Filling up shuffle buffer (this may take a while): 333 of 516\n",
      "2025-04-17 00:26:59.469874: I tensorflow/core/kernels/data/shuffle_dataset_op.cc:177] Filling up shuffle buffer (this may take a while): 361 of 516\n",
      "2025-04-17 00:27:09.427221: I tensorflow/core/kernels/data/shuffle_dataset_op.cc:177] Filling up shuffle buffer (this may take a while): 393 of 516\n",
      "2025-04-17 00:27:19.197629: I tensorflow/core/kernels/data/shuffle_dataset_op.cc:177] Filling up shuffle buffer (this may take a while): 427 of 516\n",
      "2025-04-17 00:27:29.252297: I tensorflow/core/kernels/data/shuffle_dataset_op.cc:177] Filling up shuffle buffer (this may take a while): 451 of 516\n",
      "2025-04-17 00:27:39.772559: I tensorflow/core/kernels/data/shuffle_dataset_op.cc:177] Filling up shuffle buffer (this may take a while): 479 of 516\n",
      "2025-04-17 00:27:49.291575: I tensorflow/core/kernels/data/shuffle_dataset_op.cc:177] Filling up shuffle buffer (this may take a while): 510 of 516\n",
      "2025-04-17 00:27:51.104107: I tensorflow/core/kernels/data/shuffle_dataset_op.cc:230] Shuffle buffer filled.\n"
     ]
    },
    {
     "name": "stdout",
     "output_type": "stream",
     "text": [
      "65/65 [==============================] - 212s 610ms/step - loss: 0.4808 - accuracy: 0.7694 - auc: 0.8505 - val_loss: 0.6091 - val_accuracy: 0.7692 - val_auc: 0.7716\n",
      "Epoch 31/100\n"
     ]
    },
    {
     "name": "stderr",
     "output_type": "stream",
     "text": [
      "2025-04-17 00:28:42.556421: I tensorflow/core/kernels/data/shuffle_dataset_op.cc:177] Filling up shuffle buffer (this may take a while): 33 of 516\n",
      "2025-04-17 00:28:52.260437: I tensorflow/core/kernels/data/shuffle_dataset_op.cc:177] Filling up shuffle buffer (this may take a while): 71 of 516\n"
     ]
    },
    {
     "name": "stdout",
     "output_type": "stream",
     "text": [
      "Advertencia: ../data/train/Shoplifting042_x264.mp4 tiene menos frames que los requeridos. Usando todo el video.\n"
     ]
    },
    {
     "name": "stderr",
     "output_type": "stream",
     "text": [
      "2025-04-17 00:29:02.199829: I tensorflow/core/kernels/data/shuffle_dataset_op.cc:177] Filling up shuffle buffer (this may take a while): 102 of 516\n",
      "2025-04-17 00:29:12.629503: I tensorflow/core/kernels/data/shuffle_dataset_op.cc:177] Filling up shuffle buffer (this may take a while): 136 of 516\n",
      "2025-04-17 00:29:22.589106: I tensorflow/core/kernels/data/shuffle_dataset_op.cc:177] Filling up shuffle buffer (this may take a while): 161 of 516\n",
      "2025-04-17 00:29:32.452798: I tensorflow/core/kernels/data/shuffle_dataset_op.cc:177] Filling up shuffle buffer (this may take a while): 191 of 516\n",
      "2025-04-17 00:29:42.645773: I tensorflow/core/kernels/data/shuffle_dataset_op.cc:177] Filling up shuffle buffer (this may take a while): 220 of 516\n",
      "2025-04-17 00:29:52.216664: I tensorflow/core/kernels/data/shuffle_dataset_op.cc:177] Filling up shuffle buffer (this may take a while): 249 of 516\n",
      "2025-04-17 00:30:02.420055: I tensorflow/core/kernels/data/shuffle_dataset_op.cc:177] Filling up shuffle buffer (this may take a while): 279 of 516\n",
      "2025-04-17 00:30:12.387788: I tensorflow/core/kernels/data/shuffle_dataset_op.cc:177] Filling up shuffle buffer (this may take a while): 307 of 516\n",
      "2025-04-17 00:30:22.341708: I tensorflow/core/kernels/data/shuffle_dataset_op.cc:177] Filling up shuffle buffer (this may take a while): 338 of 516\n",
      "2025-04-17 00:30:32.252812: I tensorflow/core/kernels/data/shuffle_dataset_op.cc:177] Filling up shuffle buffer (this may take a while): 366 of 516\n",
      "2025-04-17 00:30:42.405405: I tensorflow/core/kernels/data/shuffle_dataset_op.cc:177] Filling up shuffle buffer (this may take a while): 401 of 516\n",
      "2025-04-17 00:30:52.647296: I tensorflow/core/kernels/data/shuffle_dataset_op.cc:177] Filling up shuffle buffer (this may take a while): 432 of 516\n",
      "2025-04-17 00:31:02.624137: I tensorflow/core/kernels/data/shuffle_dataset_op.cc:177] Filling up shuffle buffer (this may take a while): 461 of 516\n",
      "2025-04-17 00:31:12.211509: I tensorflow/core/kernels/data/shuffle_dataset_op.cc:177] Filling up shuffle buffer (this may take a while): 487 of 516\n",
      "2025-04-17 00:31:21.063380: I tensorflow/core/kernels/data/shuffle_dataset_op.cc:230] Shuffle buffer filled.\n"
     ]
    },
    {
     "name": "stdout",
     "output_type": "stream",
     "text": [
      "65/65 [==============================] - 208s 606ms/step - loss: 0.4874 - accuracy: 0.7674 - auc: 0.8477 - val_loss: 0.6218 - val_accuracy: 0.7385 - val_auc: 0.7718\n",
      "Epoch 32/100\n"
     ]
    },
    {
     "name": "stderr",
     "output_type": "stream",
     "text": [
      "2025-04-17 00:32:12.479345: I tensorflow/core/kernels/data/shuffle_dataset_op.cc:177] Filling up shuffle buffer (this may take a while): 33 of 516\n",
      "2025-04-17 00:32:22.029210: I tensorflow/core/kernels/data/shuffle_dataset_op.cc:177] Filling up shuffle buffer (this may take a while): 70 of 516\n"
     ]
    },
    {
     "name": "stdout",
     "output_type": "stream",
     "text": [
      "Advertencia: ../data/train/Shoplifting042_x264.mp4 tiene menos frames que los requeridos. Usando todo el video.\n"
     ]
    },
    {
     "name": "stderr",
     "output_type": "stream",
     "text": [
      "2025-04-17 00:32:32.137156: I tensorflow/core/kernels/data/shuffle_dataset_op.cc:177] Filling up shuffle buffer (this may take a while): 102 of 516\n",
      "2025-04-17 00:32:42.220099: I tensorflow/core/kernels/data/shuffle_dataset_op.cc:177] Filling up shuffle buffer (this may take a while): 135 of 516\n",
      "2025-04-17 00:32:52.049197: I tensorflow/core/kernels/data/shuffle_dataset_op.cc:177] Filling up shuffle buffer (this may take a while): 160 of 516\n",
      "2025-04-17 00:33:02.545459: I tensorflow/core/kernels/data/shuffle_dataset_op.cc:177] Filling up shuffle buffer (this may take a while): 191 of 516\n",
      "2025-04-17 00:33:12.033618: I tensorflow/core/kernels/data/shuffle_dataset_op.cc:177] Filling up shuffle buffer (this may take a while): 219 of 516\n",
      "2025-04-17 00:33:21.952461: I tensorflow/core/kernels/data/shuffle_dataset_op.cc:177] Filling up shuffle buffer (this may take a while): 247 of 516\n",
      "2025-04-17 00:33:32.143050: I tensorflow/core/kernels/data/shuffle_dataset_op.cc:177] Filling up shuffle buffer (this may take a while): 278 of 516\n",
      "2025-04-17 00:33:42.052252: I tensorflow/core/kernels/data/shuffle_dataset_op.cc:177] Filling up shuffle buffer (this may take a while): 306 of 516\n",
      "2025-04-17 00:33:52.531683: I tensorflow/core/kernels/data/shuffle_dataset_op.cc:177] Filling up shuffle buffer (this may take a while): 338 of 516\n",
      "2025-04-17 00:34:02.157156: I tensorflow/core/kernels/data/shuffle_dataset_op.cc:177] Filling up shuffle buffer (this may take a while): 365 of 516\n",
      "2025-04-17 00:34:12.451518: I tensorflow/core/kernels/data/shuffle_dataset_op.cc:177] Filling up shuffle buffer (this may take a while): 400 of 516\n",
      "2025-04-17 00:34:22.375892: I tensorflow/core/kernels/data/shuffle_dataset_op.cc:177] Filling up shuffle buffer (this may take a while): 431 of 516\n",
      "2025-04-17 00:34:32.134267: I tensorflow/core/kernels/data/shuffle_dataset_op.cc:177] Filling up shuffle buffer (this may take a while): 458 of 516\n",
      "2025-04-17 00:34:42.241452: I tensorflow/core/kernels/data/shuffle_dataset_op.cc:177] Filling up shuffle buffer (this may take a while): 486 of 516\n",
      "2025-04-17 00:34:51.311464: I tensorflow/core/kernels/data/shuffle_dataset_op.cc:230] Shuffle buffer filled.\n"
     ]
    },
    {
     "name": "stdout",
     "output_type": "stream",
     "text": [
      "65/65 [==============================] - 209s 612ms/step - loss: 0.5075 - accuracy: 0.7597 - auc: 0.8344 - val_loss: 0.6496 - val_accuracy: 0.7231 - val_auc: 0.7498\n",
      "Epoch 33/100\n"
     ]
    },
    {
     "name": "stderr",
     "output_type": "stream",
     "text": [
      "2025-04-17 00:35:42.885343: I tensorflow/core/kernels/data/shuffle_dataset_op.cc:177] Filling up shuffle buffer (this may take a while): 33 of 516\n",
      "2025-04-17 00:35:52.503246: I tensorflow/core/kernels/data/shuffle_dataset_op.cc:177] Filling up shuffle buffer (this may take a while): 70 of 516\n"
     ]
    },
    {
     "name": "stdout",
     "output_type": "stream",
     "text": [
      "Advertencia: ../data/train/Shoplifting042_x264.mp4 tiene menos frames que los requeridos. Usando todo el video.\n"
     ]
    },
    {
     "name": "stderr",
     "output_type": "stream",
     "text": [
      "2025-04-17 00:36:02.716726: I tensorflow/core/kernels/data/shuffle_dataset_op.cc:177] Filling up shuffle buffer (this may take a while): 102 of 516\n",
      "2025-04-17 00:36:12.515082: I tensorflow/core/kernels/data/shuffle_dataset_op.cc:177] Filling up shuffle buffer (this may take a while): 134 of 516\n",
      "2025-04-17 00:36:22.747174: I tensorflow/core/kernels/data/shuffle_dataset_op.cc:177] Filling up shuffle buffer (this may take a while): 160 of 516\n",
      "2025-04-17 00:36:32.628528: I tensorflow/core/kernels/data/shuffle_dataset_op.cc:177] Filling up shuffle buffer (this may take a while): 190 of 516\n",
      "2025-04-17 00:36:42.990440: I tensorflow/core/kernels/data/shuffle_dataset_op.cc:177] Filling up shuffle buffer (this may take a while): 219 of 516\n",
      "2025-04-17 00:36:52.593056: I tensorflow/core/kernels/data/shuffle_dataset_op.cc:177] Filling up shuffle buffer (this may take a while): 246 of 516\n",
      "2025-04-17 00:37:02.498767: I tensorflow/core/kernels/data/shuffle_dataset_op.cc:177] Filling up shuffle buffer (this may take a while): 276 of 516\n",
      "2025-04-17 00:37:12.819075: I tensorflow/core/kernels/data/shuffle_dataset_op.cc:177] Filling up shuffle buffer (this may take a while): 304 of 516\n",
      "2025-04-17 00:37:22.585574: I tensorflow/core/kernels/data/shuffle_dataset_op.cc:177] Filling up shuffle buffer (this may take a while): 336 of 516\n",
      "2025-04-17 00:37:32.644922: I tensorflow/core/kernels/data/shuffle_dataset_op.cc:177] Filling up shuffle buffer (this may take a while): 364 of 516\n",
      "2025-04-17 00:37:42.628413: I tensorflow/core/kernels/data/shuffle_dataset_op.cc:177] Filling up shuffle buffer (this may take a while): 398 of 516\n",
      "2025-04-17 00:37:52.878559: I tensorflow/core/kernels/data/shuffle_dataset_op.cc:177] Filling up shuffle buffer (this may take a while): 430 of 516\n",
      "2025-04-17 00:38:02.777811: I tensorflow/core/kernels/data/shuffle_dataset_op.cc:177] Filling up shuffle buffer (this may take a while): 457 of 516\n",
      "2025-04-17 00:38:12.811707: I tensorflow/core/kernels/data/shuffle_dataset_op.cc:177] Filling up shuffle buffer (this may take a while): 484 of 516\n",
      "2025-04-17 00:38:22.499692: I tensorflow/core/kernels/data/shuffle_dataset_op.cc:230] Shuffle buffer filled.\n"
     ]
    },
    {
     "name": "stdout",
     "output_type": "stream",
     "text": [
      "65/65 [==============================] - 209s 610ms/step - loss: 0.4480 - accuracy: 0.8140 - auc: 0.8764 - val_loss: 0.6636 - val_accuracy: 0.6923 - val_auc: 0.7520\n",
      "Epoch 34/100\n"
     ]
    },
    {
     "name": "stderr",
     "output_type": "stream",
     "text": [
      "2025-04-17 00:39:14.088225: I tensorflow/core/kernels/data/shuffle_dataset_op.cc:177] Filling up shuffle buffer (this may take a while): 33 of 516\n",
      "2025-04-17 00:39:23.715854: I tensorflow/core/kernels/data/shuffle_dataset_op.cc:177] Filling up shuffle buffer (this may take a while): 70 of 516\n"
     ]
    },
    {
     "name": "stdout",
     "output_type": "stream",
     "text": [
      "Advertencia: ../data/train/Shoplifting042_x264.mp4 tiene menos frames que los requeridos. Usando todo el video.\n"
     ]
    },
    {
     "name": "stderr",
     "output_type": "stream",
     "text": [
      "2025-04-17 00:39:33.613581: I tensorflow/core/kernels/data/shuffle_dataset_op.cc:177] Filling up shuffle buffer (this may take a while): 101 of 516\n",
      "2025-04-17 00:39:43.862262: I tensorflow/core/kernels/data/shuffle_dataset_op.cc:177] Filling up shuffle buffer (this may take a while): 134 of 516\n",
      "2025-04-17 00:39:53.826814: I tensorflow/core/kernels/data/shuffle_dataset_op.cc:177] Filling up shuffle buffer (this may take a while): 159 of 516\n",
      "2025-04-17 00:40:03.605869: I tensorflow/core/kernels/data/shuffle_dataset_op.cc:177] Filling up shuffle buffer (this may take a while): 189 of 516\n",
      "2025-04-17 00:40:13.724835: I tensorflow/core/kernels/data/shuffle_dataset_op.cc:177] Filling up shuffle buffer (this may take a while): 218 of 516\n",
      "2025-04-17 00:40:23.978478: I tensorflow/core/kernels/data/shuffle_dataset_op.cc:177] Filling up shuffle buffer (this may take a while): 246 of 516\n",
      "2025-04-17 00:40:33.569234: I tensorflow/core/kernels/data/shuffle_dataset_op.cc:177] Filling up shuffle buffer (this may take a while): 275 of 516\n",
      "2025-04-17 00:40:43.631917: I tensorflow/core/kernels/data/shuffle_dataset_op.cc:177] Filling up shuffle buffer (this may take a while): 302 of 516\n",
      "2025-04-17 00:40:53.778875: I tensorflow/core/kernels/data/shuffle_dataset_op.cc:177] Filling up shuffle buffer (this may take a while): 334 of 516\n",
      "2025-04-17 00:41:03.596683: I tensorflow/core/kernels/data/shuffle_dataset_op.cc:177] Filling up shuffle buffer (this may take a while): 361 of 516\n",
      "2025-04-17 00:41:13.602727: I tensorflow/core/kernels/data/shuffle_dataset_op.cc:177] Filling up shuffle buffer (this may take a while): 394 of 516\n",
      "2025-04-17 00:41:23.580877: I tensorflow/core/kernels/data/shuffle_dataset_op.cc:177] Filling up shuffle buffer (this may take a while): 428 of 516\n",
      "2025-04-17 00:41:33.607379: I tensorflow/core/kernels/data/shuffle_dataset_op.cc:177] Filling up shuffle buffer (this may take a while): 453 of 516\n",
      "2025-04-17 00:41:43.804508: I tensorflow/core/kernels/data/shuffle_dataset_op.cc:177] Filling up shuffle buffer (this may take a while): 480 of 516\n",
      "2025-04-17 00:41:53.568549: I tensorflow/core/kernels/data/shuffle_dataset_op.cc:177] Filling up shuffle buffer (this may take a while): 512 of 516\n",
      "2025-04-17 00:41:54.599558: I tensorflow/core/kernels/data/shuffle_dataset_op.cc:230] Shuffle buffer filled.\n"
     ]
    },
    {
     "name": "stdout",
     "output_type": "stream",
     "text": [
      "65/65 [==============================] - 210s 608ms/step - loss: 0.4488 - accuracy: 0.7984 - auc: 0.8748 - val_loss: 0.6313 - val_accuracy: 0.7385 - val_auc: 0.7676\n",
      "Epoch 35/100\n"
     ]
    },
    {
     "name": "stderr",
     "output_type": "stream",
     "text": [
      "2025-04-17 00:42:45.968268: I tensorflow/core/kernels/data/shuffle_dataset_op.cc:177] Filling up shuffle buffer (this may take a while): 33 of 516\n",
      "2025-04-17 00:42:55.551626: I tensorflow/core/kernels/data/shuffle_dataset_op.cc:177] Filling up shuffle buffer (this may take a while): 70 of 516\n"
     ]
    },
    {
     "name": "stdout",
     "output_type": "stream",
     "text": [
      "Advertencia: ../data/train/Shoplifting042_x264.mp4 tiene menos frames que los requeridos. Usando todo el video.\n"
     ]
    },
    {
     "name": "stderr",
     "output_type": "stream",
     "text": [
      "2025-04-17 00:43:05.720624: I tensorflow/core/kernels/data/shuffle_dataset_op.cc:177] Filling up shuffle buffer (this may take a while): 102 of 516\n",
      "2025-04-17 00:43:15.823207: I tensorflow/core/kernels/data/shuffle_dataset_op.cc:177] Filling up shuffle buffer (this may take a while): 135 of 516\n",
      "2025-04-17 00:43:25.700722: I tensorflow/core/kernels/data/shuffle_dataset_op.cc:177] Filling up shuffle buffer (this may take a while): 160 of 516\n",
      "2025-04-17 00:43:35.558688: I tensorflow/core/kernels/data/shuffle_dataset_op.cc:177] Filling up shuffle buffer (this may take a while): 190 of 516\n",
      "2025-04-17 00:43:45.859165: I tensorflow/core/kernels/data/shuffle_dataset_op.cc:177] Filling up shuffle buffer (this may take a while): 219 of 516\n",
      "2025-04-17 00:43:55.808831: I tensorflow/core/kernels/data/shuffle_dataset_op.cc:177] Filling up shuffle buffer (this may take a while): 247 of 516\n",
      "2025-04-17 00:44:05.952571: I tensorflow/core/kernels/data/shuffle_dataset_op.cc:177] Filling up shuffle buffer (this may take a while): 277 of 516\n",
      "2025-04-17 00:44:15.768860: I tensorflow/core/kernels/data/shuffle_dataset_op.cc:177] Filling up shuffle buffer (this may take a while): 304 of 516\n",
      "2025-04-17 00:44:25.658961: I tensorflow/core/kernels/data/shuffle_dataset_op.cc:177] Filling up shuffle buffer (this may take a while): 336 of 516\n",
      "2025-04-17 00:44:35.755267: I tensorflow/core/kernels/data/shuffle_dataset_op.cc:177] Filling up shuffle buffer (this may take a while): 364 of 516\n",
      "2025-04-17 00:44:45.559962: I tensorflow/core/kernels/data/shuffle_dataset_op.cc:177] Filling up shuffle buffer (this may take a while): 397 of 516\n",
      "2025-04-17 00:44:55.947522: I tensorflow/core/kernels/data/shuffle_dataset_op.cc:177] Filling up shuffle buffer (this may take a while): 430 of 516\n",
      "2025-04-17 00:45:05.643087: I tensorflow/core/kernels/data/shuffle_dataset_op.cc:177] Filling up shuffle buffer (this may take a while): 456 of 516\n",
      "2025-04-17 00:45:15.579323: I tensorflow/core/kernels/data/shuffle_dataset_op.cc:177] Filling up shuffle buffer (this may take a while): 483 of 516\n",
      "2025-04-17 00:45:25.605006: I tensorflow/core/kernels/data/shuffle_dataset_op.cc:230] Shuffle buffer filled.\n"
     ]
    },
    {
     "name": "stdout",
     "output_type": "stream",
     "text": [
      "65/65 [==============================] - 210s 609ms/step - loss: 0.5053 - accuracy: 0.7442 - auc: 0.8307 - val_loss: 0.6516 - val_accuracy: 0.6923 - val_auc: 0.7375\n",
      "Epoch 36/100\n"
     ]
    },
    {
     "name": "stderr",
     "output_type": "stream",
     "text": [
      "2025-04-17 00:46:16.940649: I tensorflow/core/kernels/data/shuffle_dataset_op.cc:177] Filling up shuffle buffer (this may take a while): 33 of 516\n",
      "2025-04-17 00:46:26.548493: I tensorflow/core/kernels/data/shuffle_dataset_op.cc:177] Filling up shuffle buffer (this may take a while): 70 of 516\n"
     ]
    },
    {
     "name": "stdout",
     "output_type": "stream",
     "text": [
      "Advertencia: ../data/train/Shoplifting042_x264.mp4 tiene menos frames que los requeridos. Usando todo el video.\n"
     ]
    },
    {
     "name": "stderr",
     "output_type": "stream",
     "text": [
      "2025-04-17 00:46:36.630126: I tensorflow/core/kernels/data/shuffle_dataset_op.cc:177] Filling up shuffle buffer (this may take a while): 102 of 516\n",
      "2025-04-17 00:46:46.749156: I tensorflow/core/kernels/data/shuffle_dataset_op.cc:177] Filling up shuffle buffer (this may take a while): 135 of 516\n",
      "2025-04-17 00:46:56.649298: I tensorflow/core/kernels/data/shuffle_dataset_op.cc:177] Filling up shuffle buffer (this may take a while): 160 of 516\n",
      "2025-04-17 00:47:07.047187: I tensorflow/core/kernels/data/shuffle_dataset_op.cc:177] Filling up shuffle buffer (this may take a while): 191 of 516\n",
      "2025-04-17 00:47:17.143009: I tensorflow/core/kernels/data/shuffle_dataset_op.cc:177] Filling up shuffle buffer (this may take a while): 220 of 516\n",
      "2025-04-17 00:47:26.604269: I tensorflow/core/kernels/data/shuffle_dataset_op.cc:177] Filling up shuffle buffer (this may take a while): 248 of 516\n",
      "2025-04-17 00:47:36.804521: I tensorflow/core/kernels/data/shuffle_dataset_op.cc:177] Filling up shuffle buffer (this may take a while): 278 of 516\n",
      "2025-04-17 00:47:46.715669: I tensorflow/core/kernels/data/shuffle_dataset_op.cc:177] Filling up shuffle buffer (this may take a while): 306 of 516\n",
      "2025-04-17 00:47:57.188015: I tensorflow/core/kernels/data/shuffle_dataset_op.cc:177] Filling up shuffle buffer (this may take a while): 338 of 516\n",
      "2025-04-17 00:48:06.861971: I tensorflow/core/kernels/data/shuffle_dataset_op.cc:177] Filling up shuffle buffer (this may take a while): 365 of 516\n",
      "2025-04-17 00:48:16.643023: I tensorflow/core/kernels/data/shuffle_dataset_op.cc:177] Filling up shuffle buffer (this may take a while): 399 of 516\n",
      "2025-04-17 00:48:26.613383: I tensorflow/core/kernels/data/shuffle_dataset_op.cc:177] Filling up shuffle buffer (this may take a while): 430 of 516\n",
      "2025-04-17 00:48:36.696868: I tensorflow/core/kernels/data/shuffle_dataset_op.cc:177] Filling up shuffle buffer (this may take a while): 457 of 516\n",
      "2025-04-17 00:48:46.760372: I tensorflow/core/kernels/data/shuffle_dataset_op.cc:177] Filling up shuffle buffer (this may take a while): 484 of 516\n",
      "2025-04-17 00:48:56.530317: I tensorflow/core/kernels/data/shuffle_dataset_op.cc:230] Shuffle buffer filled.\n"
     ]
    },
    {
     "name": "stdout",
     "output_type": "stream",
     "text": [
      "65/65 [==============================] - 209s 605ms/step - loss: 0.4055 - accuracy: 0.8256 - auc: 0.9009 - val_loss: 0.7121 - val_accuracy: 0.6923 - val_auc: 0.7432\n",
      "Epoch 37/100\n"
     ]
    },
    {
     "name": "stderr",
     "output_type": "stream",
     "text": [
      "2025-04-17 00:49:47.708249: I tensorflow/core/kernels/data/shuffle_dataset_op.cc:177] Filling up shuffle buffer (this may take a while): 33 of 516\n",
      "2025-04-17 00:49:57.342048: I tensorflow/core/kernels/data/shuffle_dataset_op.cc:177] Filling up shuffle buffer (this may take a while): 70 of 516\n"
     ]
    },
    {
     "name": "stdout",
     "output_type": "stream",
     "text": [
      "Advertencia: ../data/train/Shoplifting042_x264.mp4 tiene menos frames que los requeridos. Usando todo el video.\n"
     ]
    },
    {
     "name": "stderr",
     "output_type": "stream",
     "text": [
      "2025-04-17 00:50:07.504120: I tensorflow/core/kernels/data/shuffle_dataset_op.cc:177] Filling up shuffle buffer (this may take a while): 102 of 516\n",
      "2025-04-17 00:50:17.645213: I tensorflow/core/kernels/data/shuffle_dataset_op.cc:177] Filling up shuffle buffer (this may take a while): 135 of 516\n",
      "2025-04-17 00:50:27.521574: I tensorflow/core/kernels/data/shuffle_dataset_op.cc:177] Filling up shuffle buffer (this may take a while): 160 of 516\n",
      "2025-04-17 00:50:37.335534: I tensorflow/core/kernels/data/shuffle_dataset_op.cc:177] Filling up shuffle buffer (this may take a while): 190 of 516\n",
      "2025-04-17 00:50:47.655507: I tensorflow/core/kernels/data/shuffle_dataset_op.cc:177] Filling up shuffle buffer (this may take a while): 219 of 516\n",
      "2025-04-17 00:50:57.630269: I tensorflow/core/kernels/data/shuffle_dataset_op.cc:177] Filling up shuffle buffer (this may take a while): 247 of 516\n",
      "2025-04-17 00:51:07.697003: I tensorflow/core/kernels/data/shuffle_dataset_op.cc:177] Filling up shuffle buffer (this may take a while): 277 of 516\n",
      "2025-04-17 00:51:17.553198: I tensorflow/core/kernels/data/shuffle_dataset_op.cc:177] Filling up shuffle buffer (this may take a while): 304 of 516\n",
      "2025-04-17 00:51:27.515373: I tensorflow/core/kernels/data/shuffle_dataset_op.cc:177] Filling up shuffle buffer (this may take a while): 336 of 516\n",
      "2025-04-17 00:51:37.615261: I tensorflow/core/kernels/data/shuffle_dataset_op.cc:177] Filling up shuffle buffer (this may take a while): 364 of 516\n",
      "2025-04-17 00:51:47.330879: I tensorflow/core/kernels/data/shuffle_dataset_op.cc:177] Filling up shuffle buffer (this may take a while): 397 of 516\n",
      "2025-04-17 00:51:57.886402: I tensorflow/core/kernels/data/shuffle_dataset_op.cc:177] Filling up shuffle buffer (this may take a while): 430 of 516\n",
      "2025-04-17 00:52:07.372085: I tensorflow/core/kernels/data/shuffle_dataset_op.cc:177] Filling up shuffle buffer (this may take a while): 455 of 516\n",
      "2025-04-17 00:52:17.576732: I tensorflow/core/kernels/data/shuffle_dataset_op.cc:177] Filling up shuffle buffer (this may take a while): 483 of 516\n",
      "2025-04-17 00:52:27.481943: I tensorflow/core/kernels/data/shuffle_dataset_op.cc:177] Filling up shuffle buffer (this may take a while): 515 of 516\n",
      "2025-04-17 00:52:27.663349: I tensorflow/core/kernels/data/shuffle_dataset_op.cc:230] Shuffle buffer filled.\n"
     ]
    },
    {
     "name": "stdout",
     "output_type": "stream",
     "text": [
      "65/65 [==============================] - 210s 606ms/step - loss: 0.4405 - accuracy: 0.7791 - auc: 0.8759 - val_loss: 0.6413 - val_accuracy: 0.7231 - val_auc: 0.7684\n",
      "Epoch 38/100\n"
     ]
    },
    {
     "name": "stderr",
     "output_type": "stream",
     "text": [
      "2025-04-17 00:53:18.820873: I tensorflow/core/kernels/data/shuffle_dataset_op.cc:177] Filling up shuffle buffer (this may take a while): 33 of 516\n",
      "2025-04-17 00:53:28.558997: I tensorflow/core/kernels/data/shuffle_dataset_op.cc:177] Filling up shuffle buffer (this may take a while): 71 of 516\n"
     ]
    },
    {
     "name": "stdout",
     "output_type": "stream",
     "text": [
      "Advertencia: ../data/train/Shoplifting042_x264.mp4 tiene menos frames que los requeridos. Usando todo el video.\n"
     ]
    },
    {
     "name": "stderr",
     "output_type": "stream",
     "text": [
      "2025-04-17 00:53:38.617218: I tensorflow/core/kernels/data/shuffle_dataset_op.cc:177] Filling up shuffle buffer (this may take a while): 102 of 516\n",
      "2025-04-17 00:53:48.716170: I tensorflow/core/kernels/data/shuffle_dataset_op.cc:177] Filling up shuffle buffer (this may take a while): 135 of 516\n",
      "2025-04-17 00:53:58.511350: I tensorflow/core/kernels/data/shuffle_dataset_op.cc:177] Filling up shuffle buffer (this may take a while): 160 of 516\n",
      "2025-04-17 00:54:08.940101: I tensorflow/core/kernels/data/shuffle_dataset_op.cc:177] Filling up shuffle buffer (this may take a while): 191 of 516\n",
      "2025-04-17 00:54:18.452844: I tensorflow/core/kernels/data/shuffle_dataset_op.cc:177] Filling up shuffle buffer (this may take a while): 219 of 516\n",
      "2025-04-17 00:54:28.469138: I tensorflow/core/kernels/data/shuffle_dataset_op.cc:177] Filling up shuffle buffer (this may take a while): 248 of 516\n",
      "2025-04-17 00:54:38.421685: I tensorflow/core/kernels/data/shuffle_dataset_op.cc:177] Filling up shuffle buffer (this may take a while): 277 of 516\n",
      "2025-04-17 00:54:48.418934: I tensorflow/core/kernels/data/shuffle_dataset_op.cc:177] Filling up shuffle buffer (this may take a while): 305 of 516\n",
      "2025-04-17 00:54:59.036636: I tensorflow/core/kernels/data/shuffle_dataset_op.cc:177] Filling up shuffle buffer (this may take a while): 338 of 516\n",
      "2025-04-17 00:55:08.731442: I tensorflow/core/kernels/data/shuffle_dataset_op.cc:177] Filling up shuffle buffer (this may take a while): 365 of 516\n",
      "2025-04-17 00:55:18.490282: I tensorflow/core/kernels/data/shuffle_dataset_op.cc:177] Filling up shuffle buffer (this may take a while): 399 of 516\n",
      "2025-04-17 00:55:29.011355: I tensorflow/core/kernels/data/shuffle_dataset_op.cc:177] Filling up shuffle buffer (this may take a while): 431 of 516\n",
      "2025-04-17 00:55:38.742993: I tensorflow/core/kernels/data/shuffle_dataset_op.cc:177] Filling up shuffle buffer (this may take a while): 458 of 516\n",
      "2025-04-17 00:55:48.546288: I tensorflow/core/kernels/data/shuffle_dataset_op.cc:177] Filling up shuffle buffer (this may take a while): 485 of 516\n",
      "2025-04-17 00:55:58.062861: I tensorflow/core/kernels/data/shuffle_dataset_op.cc:230] Shuffle buffer filled.\n"
     ]
    },
    {
     "name": "stdout",
     "output_type": "stream",
     "text": [
      "65/65 [==============================] - 209s 606ms/step - loss: 0.4148 - accuracy: 0.7926 - auc: 0.8901 - val_loss: 0.8186 - val_accuracy: 0.6308 - val_auc: 0.6916\n",
      "Epoch 39/100\n"
     ]
    },
    {
     "name": "stderr",
     "output_type": "stream",
     "text": [
      "2025-04-17 00:56:49.263927: I tensorflow/core/kernels/data/shuffle_dataset_op.cc:177] Filling up shuffle buffer (this may take a while): 33 of 516\n",
      "2025-04-17 00:56:58.995455: I tensorflow/core/kernels/data/shuffle_dataset_op.cc:177] Filling up shuffle buffer (this may take a while): 71 of 516\n"
     ]
    },
    {
     "name": "stdout",
     "output_type": "stream",
     "text": [
      "Advertencia: ../data/train/Shoplifting042_x264.mp4 tiene menos frames que los requeridos. Usando todo el video.\n"
     ]
    },
    {
     "name": "stderr",
     "output_type": "stream",
     "text": [
      "2025-04-17 00:57:08.858989: I tensorflow/core/kernels/data/shuffle_dataset_op.cc:177] Filling up shuffle buffer (this may take a while): 102 of 516\n",
      "2025-04-17 00:57:18.849264: I tensorflow/core/kernels/data/shuffle_dataset_op.cc:177] Filling up shuffle buffer (this may take a while): 135 of 516\n",
      "2025-04-17 00:57:29.171539: I tensorflow/core/kernels/data/shuffle_dataset_op.cc:177] Filling up shuffle buffer (this may take a while): 161 of 516\n",
      "2025-04-17 00:57:39.132446: I tensorflow/core/kernels/data/shuffle_dataset_op.cc:177] Filling up shuffle buffer (this may take a while): 191 of 516\n",
      "2025-04-17 00:57:49.342693: I tensorflow/core/kernels/data/shuffle_dataset_op.cc:177] Filling up shuffle buffer (this may take a while): 220 of 516\n",
      "2025-04-17 00:57:58.937416: I tensorflow/core/kernels/data/shuffle_dataset_op.cc:177] Filling up shuffle buffer (this may take a while): 249 of 516\n",
      "2025-04-17 00:58:08.927840: I tensorflow/core/kernels/data/shuffle_dataset_op.cc:177] Filling up shuffle buffer (this may take a while): 278 of 516\n",
      "2025-04-17 00:58:18.855296: I tensorflow/core/kernels/data/shuffle_dataset_op.cc:177] Filling up shuffle buffer (this may take a while): 306 of 516\n",
      "2025-04-17 00:58:29.388280: I tensorflow/core/kernels/data/shuffle_dataset_op.cc:177] Filling up shuffle buffer (this may take a while): 338 of 516\n",
      "2025-04-17 00:58:39.053950: I tensorflow/core/kernels/data/shuffle_dataset_op.cc:177] Filling up shuffle buffer (this may take a while): 365 of 516\n",
      "2025-04-17 00:58:48.837211: I tensorflow/core/kernels/data/shuffle_dataset_op.cc:177] Filling up shuffle buffer (this may take a while): 399 of 516\n",
      "2025-04-17 00:58:58.862377: I tensorflow/core/kernels/data/shuffle_dataset_op.cc:177] Filling up shuffle buffer (this may take a while): 430 of 516\n",
      "2025-04-17 00:59:09.012798: I tensorflow/core/kernels/data/shuffle_dataset_op.cc:177] Filling up shuffle buffer (this may take a while): 457 of 516\n",
      "2025-04-17 00:59:19.088131: I tensorflow/core/kernels/data/shuffle_dataset_op.cc:177] Filling up shuffle buffer (this may take a while): 484 of 516\n",
      "2025-04-17 00:59:28.868709: I tensorflow/core/kernels/data/shuffle_dataset_op.cc:230] Shuffle buffer filled.\n"
     ]
    },
    {
     "name": "stdout",
     "output_type": "stream",
     "text": [
      "65/65 [==============================] - 209s 609ms/step - loss: 0.4194 - accuracy: 0.8062 - auc: 0.8907 - val_loss: 0.7125 - val_accuracy: 0.6615 - val_auc: 0.7415\n",
      "Epoch 40/100\n"
     ]
    },
    {
     "name": "stderr",
     "output_type": "stream",
     "text": [
      "2025-04-17 01:00:20.654368: I tensorflow/core/kernels/data/shuffle_dataset_op.cc:177] Filling up shuffle buffer (this may take a while): 33 of 516\n",
      "2025-04-17 01:00:30.172512: I tensorflow/core/kernels/data/shuffle_dataset_op.cc:177] Filling up shuffle buffer (this may take a while): 70 of 516\n"
     ]
    },
    {
     "name": "stdout",
     "output_type": "stream",
     "text": [
      "Advertencia: ../data/train/Shoplifting042_x264.mp4 tiene menos frames que los requeridos. Usando todo el video.\n"
     ]
    },
    {
     "name": "stderr",
     "output_type": "stream",
     "text": [
      "2025-04-17 01:00:40.452553: I tensorflow/core/kernels/data/shuffle_dataset_op.cc:177] Filling up shuffle buffer (this may take a while): 102 of 516\n",
      "2025-04-17 01:00:50.203695: I tensorflow/core/kernels/data/shuffle_dataset_op.cc:177] Filling up shuffle buffer (this may take a while): 134 of 516\n",
      "2025-04-17 01:01:00.410866: I tensorflow/core/kernels/data/shuffle_dataset_op.cc:177] Filling up shuffle buffer (this may take a while): 160 of 516\n",
      "2025-04-17 01:01:10.131051: I tensorflow/core/kernels/data/shuffle_dataset_op.cc:177] Filling up shuffle buffer (this may take a while): 190 of 516\n",
      "2025-04-17 01:01:20.404432: I tensorflow/core/kernels/data/shuffle_dataset_op.cc:177] Filling up shuffle buffer (this may take a while): 219 of 516\n",
      "2025-04-17 01:01:30.353739: I tensorflow/core/kernels/data/shuffle_dataset_op.cc:177] Filling up shuffle buffer (this may take a while): 247 of 516\n",
      "2025-04-17 01:01:40.399688: I tensorflow/core/kernels/data/shuffle_dataset_op.cc:177] Filling up shuffle buffer (this may take a while): 277 of 516\n",
      "2025-04-17 01:01:50.216189: I tensorflow/core/kernels/data/shuffle_dataset_op.cc:177] Filling up shuffle buffer (this may take a while): 304 of 516\n",
      "2025-04-17 01:02:00.179346: I tensorflow/core/kernels/data/shuffle_dataset_op.cc:177] Filling up shuffle buffer (this may take a while): 336 of 516\n",
      "2025-04-17 01:02:10.383583: I tensorflow/core/kernels/data/shuffle_dataset_op.cc:177] Filling up shuffle buffer (this may take a while): 364 of 516\n",
      "2025-04-17 01:02:20.248232: I tensorflow/core/kernels/data/shuffle_dataset_op.cc:177] Filling up shuffle buffer (this may take a while): 397 of 516\n",
      "2025-04-17 01:02:30.629072: I tensorflow/core/kernels/data/shuffle_dataset_op.cc:177] Filling up shuffle buffer (this may take a while): 430 of 516\n",
      "2025-04-17 01:02:40.238369: I tensorflow/core/kernels/data/shuffle_dataset_op.cc:177] Filling up shuffle buffer (this may take a while): 456 of 516\n",
      "2025-04-17 01:02:50.214279: I tensorflow/core/kernels/data/shuffle_dataset_op.cc:177] Filling up shuffle buffer (this may take a while): 483 of 516\n",
      "2025-04-17 01:03:00.226135: I tensorflow/core/kernels/data/shuffle_dataset_op.cc:177] Filling up shuffle buffer (this may take a while): 515 of 516\n",
      "2025-04-17 01:03:00.403629: I tensorflow/core/kernels/data/shuffle_dataset_op.cc:230] Shuffle buffer filled.\n"
     ]
    },
    {
     "name": "stdout",
     "output_type": "stream",
     "text": [
      "65/65 [==============================] - 210s 611ms/step - loss: 0.3979 - accuracy: 0.8256 - auc: 0.9034 - val_loss: 0.7018 - val_accuracy: 0.7385 - val_auc: 0.7664\n",
      "Epoch 41/100\n"
     ]
    },
    {
     "name": "stderr",
     "output_type": "stream",
     "text": [
      "2025-04-17 01:03:51.872385: I tensorflow/core/kernels/data/shuffle_dataset_op.cc:177] Filling up shuffle buffer (this may take a while): 33 of 516\n",
      "2025-04-17 01:04:01.513067: I tensorflow/core/kernels/data/shuffle_dataset_op.cc:177] Filling up shuffle buffer (this may take a while): 70 of 516\n"
     ]
    },
    {
     "name": "stdout",
     "output_type": "stream",
     "text": [
      "Advertencia: ../data/train/Shoplifting042_x264.mp4 tiene menos frames que los requeridos. Usando todo el video.\n"
     ]
    },
    {
     "name": "stderr",
     "output_type": "stream",
     "text": [
      "2025-04-17 01:04:11.799988: I tensorflow/core/kernels/data/shuffle_dataset_op.cc:177] Filling up shuffle buffer (this may take a while): 102 of 516\n",
      "2025-04-17 01:04:21.675368: I tensorflow/core/kernels/data/shuffle_dataset_op.cc:177] Filling up shuffle buffer (this may take a while): 134 of 516\n",
      "2025-04-17 01:04:31.486340: I tensorflow/core/kernels/data/shuffle_dataset_op.cc:177] Filling up shuffle buffer (this may take a while): 159 of 516\n",
      "2025-04-17 01:04:41.661061: I tensorflow/core/kernels/data/shuffle_dataset_op.cc:177] Filling up shuffle buffer (this may take a while): 190 of 516\n",
      "2025-04-17 01:04:51.948380: I tensorflow/core/kernels/data/shuffle_dataset_op.cc:177] Filling up shuffle buffer (this may take a while): 219 of 516\n",
      "2025-04-17 01:05:01.916426: I tensorflow/core/kernels/data/shuffle_dataset_op.cc:177] Filling up shuffle buffer (this may take a while): 247 of 516\n",
      "2025-04-17 01:05:11.490915: I tensorflow/core/kernels/data/shuffle_dataset_op.cc:177] Filling up shuffle buffer (this may take a while): 276 of 516\n",
      "2025-04-17 01:05:21.602041: I tensorflow/core/kernels/data/shuffle_dataset_op.cc:177] Filling up shuffle buffer (this may take a while): 303 of 516\n",
      "2025-04-17 01:05:31.624076: I tensorflow/core/kernels/data/shuffle_dataset_op.cc:177] Filling up shuffle buffer (this may take a while): 334 of 516\n",
      "2025-04-17 01:05:41.483395: I tensorflow/core/kernels/data/shuffle_dataset_op.cc:177] Filling up shuffle buffer (this may take a while): 362 of 516\n",
      "2025-04-17 01:05:51.527918: I tensorflow/core/kernels/data/shuffle_dataset_op.cc:177] Filling up shuffle buffer (this may take a while): 395 of 516\n",
      "2025-04-17 01:06:01.816625: I tensorflow/core/kernels/data/shuffle_dataset_op.cc:177] Filling up shuffle buffer (this may take a while): 429 of 516\n",
      "2025-04-17 01:06:11.889614: I tensorflow/core/kernels/data/shuffle_dataset_op.cc:177] Filling up shuffle buffer (this may take a while): 454 of 516\n",
      "2025-04-17 01:06:21.735728: I tensorflow/core/kernels/data/shuffle_dataset_op.cc:177] Filling up shuffle buffer (this may take a while): 480 of 516\n",
      "2025-04-17 01:06:31.619983: I tensorflow/core/kernels/data/shuffle_dataset_op.cc:177] Filling up shuffle buffer (this may take a while): 512 of 516\n",
      "2025-04-17 01:06:32.669545: I tensorflow/core/kernels/data/shuffle_dataset_op.cc:230] Shuffle buffer filled.\n"
     ]
    },
    {
     "name": "stdout",
     "output_type": "stream",
     "text": [
      "65/65 [==============================] - 210s 607ms/step - loss: 0.4166 - accuracy: 0.8178 - auc: 0.8902 - val_loss: 0.6206 - val_accuracy: 0.7538 - val_auc: 0.7901\n",
      "Epoch 42/100\n"
     ]
    },
    {
     "name": "stderr",
     "output_type": "stream",
     "text": [
      "2025-04-17 01:07:23.969269: I tensorflow/core/kernels/data/shuffle_dataset_op.cc:177] Filling up shuffle buffer (this may take a while): 33 of 516\n",
      "2025-04-17 01:07:33.610526: I tensorflow/core/kernels/data/shuffle_dataset_op.cc:177] Filling up shuffle buffer (this may take a while): 71 of 516\n"
     ]
    },
    {
     "name": "stdout",
     "output_type": "stream",
     "text": [
      "Advertencia: ../data/train/Shoplifting042_x264.mp4 tiene menos frames que los requeridos. Usando todo el video.\n"
     ]
    },
    {
     "name": "stderr",
     "output_type": "stream",
     "text": [
      "2025-04-17 01:07:43.622336: I tensorflow/core/kernels/data/shuffle_dataset_op.cc:177] Filling up shuffle buffer (this may take a while): 102 of 516\n",
      "2025-04-17 01:07:53.710485: I tensorflow/core/kernels/data/shuffle_dataset_op.cc:177] Filling up shuffle buffer (this may take a while): 135 of 516\n",
      "2025-04-17 01:08:03.576624: I tensorflow/core/kernels/data/shuffle_dataset_op.cc:177] Filling up shuffle buffer (this may take a while): 160 of 516\n",
      "2025-04-17 01:08:14.022589: I tensorflow/core/kernels/data/shuffle_dataset_op.cc:177] Filling up shuffle buffer (this may take a while): 191 of 516\n",
      "2025-04-17 01:08:23.637009: I tensorflow/core/kernels/data/shuffle_dataset_op.cc:177] Filling up shuffle buffer (this may take a while): 219 of 516\n",
      "2025-04-17 01:08:33.612363: I tensorflow/core/kernels/data/shuffle_dataset_op.cc:177] Filling up shuffle buffer (this may take a while): 247 of 516\n",
      "2025-04-17 01:08:43.661397: I tensorflow/core/kernels/data/shuffle_dataset_op.cc:177] Filling up shuffle buffer (this may take a while): 277 of 516\n",
      "2025-04-17 01:08:53.645680: I tensorflow/core/kernels/data/shuffle_dataset_op.cc:177] Filling up shuffle buffer (this may take a while): 305 of 516\n",
      "2025-04-17 01:09:03.715887: I tensorflow/core/kernels/data/shuffle_dataset_op.cc:177] Filling up shuffle buffer (this may take a while): 337 of 516\n",
      "2025-04-17 01:09:13.521332: I tensorflow/core/kernels/data/shuffle_dataset_op.cc:177] Filling up shuffle buffer (this may take a while): 364 of 516\n",
      "2025-04-17 01:09:23.756829: I tensorflow/core/kernels/data/shuffle_dataset_op.cc:177] Filling up shuffle buffer (this may take a while): 399 of 516\n",
      "2025-04-17 01:09:33.677766: I tensorflow/core/kernels/data/shuffle_dataset_op.cc:177] Filling up shuffle buffer (this may take a while): 430 of 516\n",
      "2025-04-17 01:09:43.758593: I tensorflow/core/kernels/data/shuffle_dataset_op.cc:177] Filling up shuffle buffer (this may take a while): 457 of 516\n",
      "2025-04-17 01:09:53.754812: I tensorflow/core/kernels/data/shuffle_dataset_op.cc:177] Filling up shuffle buffer (this may take a while): 484 of 516\n",
      "2025-04-17 01:10:03.527694: I tensorflow/core/kernels/data/shuffle_dataset_op.cc:230] Shuffle buffer filled.\n"
     ]
    },
    {
     "name": "stdout",
     "output_type": "stream",
     "text": [
      "65/65 [==============================] - 209s 607ms/step - loss: 0.3978 - accuracy: 0.8217 - auc: 0.9017 - val_loss: 0.7730 - val_accuracy: 0.6615 - val_auc: 0.7193\n",
      "Epoch 43/100\n"
     ]
    },
    {
     "name": "stderr",
     "output_type": "stream",
     "text": [
      "2025-04-17 01:10:54.722549: I tensorflow/core/kernels/data/shuffle_dataset_op.cc:177] Filling up shuffle buffer (this may take a while): 33 of 516\n",
      "2025-04-17 01:11:04.418975: I tensorflow/core/kernels/data/shuffle_dataset_op.cc:177] Filling up shuffle buffer (this may take a while): 71 of 516\n"
     ]
    },
    {
     "name": "stdout",
     "output_type": "stream",
     "text": [
      "Advertencia: ../data/train/Shoplifting042_x264.mp4 tiene menos frames que los requeridos. Usando todo el video.\n"
     ]
    },
    {
     "name": "stderr",
     "output_type": "stream",
     "text": [
      "2025-04-17 01:11:14.505322: I tensorflow/core/kernels/data/shuffle_dataset_op.cc:177] Filling up shuffle buffer (this may take a while): 103 of 516\n",
      "2025-04-17 01:11:24.825737: I tensorflow/core/kernels/data/shuffle_dataset_op.cc:177] Filling up shuffle buffer (this may take a while): 136 of 516\n",
      "2025-04-17 01:11:34.621165: I tensorflow/core/kernels/data/shuffle_dataset_op.cc:177] Filling up shuffle buffer (this may take a while): 161 of 516\n",
      "2025-04-17 01:11:44.609888: I tensorflow/core/kernels/data/shuffle_dataset_op.cc:177] Filling up shuffle buffer (this may take a while): 191 of 516\n",
      "2025-04-17 01:11:54.840505: I tensorflow/core/kernels/data/shuffle_dataset_op.cc:177] Filling up shuffle buffer (this may take a while): 220 of 516\n",
      "2025-04-17 01:12:04.426535: I tensorflow/core/kernels/data/shuffle_dataset_op.cc:177] Filling up shuffle buffer (this may take a while): 249 of 516\n",
      "2025-04-17 01:12:14.475606: I tensorflow/core/kernels/data/shuffle_dataset_op.cc:177] Filling up shuffle buffer (this may take a while): 278 of 516\n",
      "2025-04-17 01:12:24.770649: I tensorflow/core/kernels/data/shuffle_dataset_op.cc:177] Filling up shuffle buffer (this may take a while): 307 of 516\n",
      "2025-04-17 01:12:34.770173: I tensorflow/core/kernels/data/shuffle_dataset_op.cc:177] Filling up shuffle buffer (this may take a while): 338 of 516\n",
      "2025-04-17 01:12:44.418849: I tensorflow/core/kernels/data/shuffle_dataset_op.cc:177] Filling up shuffle buffer (this may take a while): 365 of 516\n",
      "2025-04-17 01:12:54.739269: I tensorflow/core/kernels/data/shuffle_dataset_op.cc:177] Filling up shuffle buffer (this may take a while): 400 of 516\n",
      "2025-04-17 01:13:04.681167: I tensorflow/core/kernels/data/shuffle_dataset_op.cc:177] Filling up shuffle buffer (this may take a while): 431 of 516\n",
      "2025-04-17 01:13:14.438676: I tensorflow/core/kernels/data/shuffle_dataset_op.cc:177] Filling up shuffle buffer (this may take a while): 458 of 516\n",
      "2025-04-17 01:13:24.639935: I tensorflow/core/kernels/data/shuffle_dataset_op.cc:177] Filling up shuffle buffer (this may take a while): 486 of 516\n",
      "2025-04-17 01:13:33.772609: I tensorflow/core/kernels/data/shuffle_dataset_op.cc:230] Shuffle buffer filled.\n"
     ]
    },
    {
     "name": "stdout",
     "output_type": "stream",
     "text": [
      "65/65 [==============================] - 209s 608ms/step - loss: 0.3591 - accuracy: 0.8333 - auc: 0.9220 - val_loss: 0.8140 - val_accuracy: 0.7231 - val_auc: 0.7340\n",
      "Epoch 44/100\n"
     ]
    },
    {
     "name": "stderr",
     "output_type": "stream",
     "text": [
      "2025-04-17 01:14:25.146445: I tensorflow/core/kernels/data/shuffle_dataset_op.cc:177] Filling up shuffle buffer (this may take a while): 33 of 516\n",
      "2025-04-17 01:14:34.886242: I tensorflow/core/kernels/data/shuffle_dataset_op.cc:177] Filling up shuffle buffer (this may take a while): 71 of 516\n"
     ]
    },
    {
     "name": "stdout",
     "output_type": "stream",
     "text": [
      "Advertencia: ../data/train/Shoplifting042_x264.mp4 tiene menos frames que los requeridos. Usando todo el video.\n"
     ]
    },
    {
     "name": "stderr",
     "output_type": "stream",
     "text": [
      "2025-04-17 01:14:44.853494: I tensorflow/core/kernels/data/shuffle_dataset_op.cc:177] Filling up shuffle buffer (this may take a while): 102 of 516\n",
      "2025-04-17 01:14:54.798730: I tensorflow/core/kernels/data/shuffle_dataset_op.cc:177] Filling up shuffle buffer (this may take a while): 135 of 516\n",
      "2025-04-17 01:15:05.093831: I tensorflow/core/kernels/data/shuffle_dataset_op.cc:177] Filling up shuffle buffer (this may take a while): 161 of 516\n",
      "2025-04-17 01:15:15.026038: I tensorflow/core/kernels/data/shuffle_dataset_op.cc:177] Filling up shuffle buffer (this may take a while): 191 of 516\n",
      "2025-04-17 01:15:25.266157: I tensorflow/core/kernels/data/shuffle_dataset_op.cc:177] Filling up shuffle buffer (this may take a while): 220 of 516\n",
      "2025-04-17 01:15:34.796008: I tensorflow/core/kernels/data/shuffle_dataset_op.cc:177] Filling up shuffle buffer (this may take a while): 248 of 516\n",
      "2025-04-17 01:15:44.806910: I tensorflow/core/kernels/data/shuffle_dataset_op.cc:177] Filling up shuffle buffer (this may take a while): 277 of 516\n",
      "2025-04-17 01:15:54.937715: I tensorflow/core/kernels/data/shuffle_dataset_op.cc:177] Filling up shuffle buffer (this may take a while): 305 of 516\n",
      "2025-04-17 01:16:04.782770: I tensorflow/core/kernels/data/shuffle_dataset_op.cc:177] Filling up shuffle buffer (this may take a while): 336 of 516\n",
      "2025-04-17 01:16:14.913244: I tensorflow/core/kernels/data/shuffle_dataset_op.cc:177] Filling up shuffle buffer (this may take a while): 364 of 516\n",
      "2025-04-17 01:16:24.810301: I tensorflow/core/kernels/data/shuffle_dataset_op.cc:177] Filling up shuffle buffer (this may take a while): 397 of 516\n",
      "2025-04-17 01:16:35.316653: I tensorflow/core/kernels/data/shuffle_dataset_op.cc:177] Filling up shuffle buffer (this may take a while): 430 of 516\n",
      "2025-04-17 01:16:44.851082: I tensorflow/core/kernels/data/shuffle_dataset_op.cc:177] Filling up shuffle buffer (this may take a while): 455 of 516\n",
      "2025-04-17 01:16:54.766814: I tensorflow/core/kernels/data/shuffle_dataset_op.cc:177] Filling up shuffle buffer (this may take a while): 482 of 516\n",
      "2025-04-17 01:17:04.873482: I tensorflow/core/kernels/data/shuffle_dataset_op.cc:177] Filling up shuffle buffer (this may take a while): 514 of 516\n",
      "2025-04-17 01:17:05.269533: I tensorflow/core/kernels/data/shuffle_dataset_op.cc:230] Shuffle buffer filled.\n"
     ]
    },
    {
     "name": "stdout",
     "output_type": "stream",
     "text": [
      "65/65 [==============================] - 210s 608ms/step - loss: 0.3681 - accuracy: 0.8547 - auc: 0.9165 - val_loss: 0.7639 - val_accuracy: 0.6769 - val_auc: 0.7415\n",
      "Epoch 45/100\n"
     ]
    },
    {
     "name": "stderr",
     "output_type": "stream",
     "text": [
      "2025-04-17 01:17:56.674086: I tensorflow/core/kernels/data/shuffle_dataset_op.cc:177] Filling up shuffle buffer (this may take a while): 33 of 516\n",
      "2025-04-17 01:18:06.260389: I tensorflow/core/kernels/data/shuffle_dataset_op.cc:177] Filling up shuffle buffer (this may take a while): 70 of 516\n"
     ]
    },
    {
     "name": "stdout",
     "output_type": "stream",
     "text": [
      "Advertencia: ../data/train/Shoplifting042_x264.mp4 tiene menos frames que los requeridos. Usando todo el video.\n"
     ]
    },
    {
     "name": "stderr",
     "output_type": "stream",
     "text": [
      "2025-04-17 01:18:16.196899: I tensorflow/core/kernels/data/shuffle_dataset_op.cc:177] Filling up shuffle buffer (this may take a while): 101 of 516\n",
      "2025-04-17 01:18:26.359443: I tensorflow/core/kernels/data/shuffle_dataset_op.cc:177] Filling up shuffle buffer (this may take a while): 134 of 516\n",
      "2025-04-17 01:18:36.313940: I tensorflow/core/kernels/data/shuffle_dataset_op.cc:177] Filling up shuffle buffer (this may take a while): 159 of 516\n",
      "2025-04-17 01:18:46.642711: I tensorflow/core/kernels/data/shuffle_dataset_op.cc:177] Filling up shuffle buffer (this may take a while): 190 of 516\n",
      "2025-04-17 01:18:56.318029: I tensorflow/core/kernels/data/shuffle_dataset_op.cc:177] Filling up shuffle buffer (this may take a while): 218 of 516\n",
      "2025-04-17 01:19:06.672850: I tensorflow/core/kernels/data/shuffle_dataset_op.cc:177] Filling up shuffle buffer (this may take a while): 246 of 516\n",
      "2025-04-17 01:19:16.257657: I tensorflow/core/kernels/data/shuffle_dataset_op.cc:177] Filling up shuffle buffer (this may take a while): 275 of 516\n",
      "2025-04-17 01:19:26.605834: I tensorflow/core/kernels/data/shuffle_dataset_op.cc:177] Filling up shuffle buffer (this may take a while): 301 of 516\n",
      "2025-04-17 01:19:36.365115: I tensorflow/core/kernels/data/shuffle_dataset_op.cc:177] Filling up shuffle buffer (this may take a while): 332 of 516\n",
      "2025-04-17 01:19:46.185365: I tensorflow/core/kernels/data/shuffle_dataset_op.cc:177] Filling up shuffle buffer (this may take a while): 358 of 516\n",
      "2025-04-17 01:19:56.515946: I tensorflow/core/kernels/data/shuffle_dataset_op.cc:177] Filling up shuffle buffer (this may take a while): 392 of 516\n",
      "2025-04-17 01:20:06.218430: I tensorflow/core/kernels/data/shuffle_dataset_op.cc:177] Filling up shuffle buffer (this may take a while): 426 of 516\n",
      "2025-04-17 01:20:16.255286: I tensorflow/core/kernels/data/shuffle_dataset_op.cc:177] Filling up shuffle buffer (this may take a while): 450 of 516\n",
      "2025-04-17 01:20:26.192279: I tensorflow/core/kernels/data/shuffle_dataset_op.cc:177] Filling up shuffle buffer (this may take a while): 478 of 516\n",
      "2025-04-17 01:20:36.319457: I tensorflow/core/kernels/data/shuffle_dataset_op.cc:177] Filling up shuffle buffer (this may take a while): 510 of 516\n",
      "2025-04-17 01:20:38.093231: I tensorflow/core/kernels/data/shuffle_dataset_op.cc:230] Shuffle buffer filled.\n"
     ]
    },
    {
     "name": "stdout",
     "output_type": "stream",
     "text": [
      "65/65 [==============================] - 211s 607ms/step - loss: 0.3674 - accuracy: 0.8430 - auc: 0.9167 - val_loss: 0.7497 - val_accuracy: 0.6769 - val_auc: 0.7470\n",
      "Epoch 46/100\n"
     ]
    },
    {
     "name": "stderr",
     "output_type": "stream",
     "text": [
      "2025-04-17 01:21:29.302631: I tensorflow/core/kernels/data/shuffle_dataset_op.cc:177] Filling up shuffle buffer (this may take a while): 33 of 516\n",
      "2025-04-17 01:21:39.014881: I tensorflow/core/kernels/data/shuffle_dataset_op.cc:177] Filling up shuffle buffer (this may take a while): 71 of 516\n"
     ]
    },
    {
     "name": "stdout",
     "output_type": "stream",
     "text": [
      "Advertencia: ../data/train/Shoplifting042_x264.mp4 tiene menos frames que los requeridos. Usando todo el video.\n"
     ]
    },
    {
     "name": "stderr",
     "output_type": "stream",
     "text": [
      "2025-04-17 01:21:49.000625: I tensorflow/core/kernels/data/shuffle_dataset_op.cc:177] Filling up shuffle buffer (this may take a while): 102 of 516\n",
      "2025-04-17 01:21:59.090712: I tensorflow/core/kernels/data/shuffle_dataset_op.cc:177] Filling up shuffle buffer (this may take a while): 135 of 516\n",
      "2025-04-17 01:22:09.374169: I tensorflow/core/kernels/data/shuffle_dataset_op.cc:177] Filling up shuffle buffer (this may take a while): 161 of 516\n",
      "2025-04-17 01:22:19.376485: I tensorflow/core/kernels/data/shuffle_dataset_op.cc:177] Filling up shuffle buffer (this may take a while): 191 of 516\n",
      "2025-04-17 01:22:29.551936: I tensorflow/core/kernels/data/shuffle_dataset_op.cc:177] Filling up shuffle buffer (this may take a while): 220 of 516\n",
      "2025-04-17 01:22:39.019285: I tensorflow/core/kernels/data/shuffle_dataset_op.cc:177] Filling up shuffle buffer (this may take a while): 248 of 516\n",
      "2025-04-17 01:22:49.131361: I tensorflow/core/kernels/data/shuffle_dataset_op.cc:177] Filling up shuffle buffer (this may take a while): 278 of 516\n",
      "2025-04-17 01:22:58.985548: I tensorflow/core/kernels/data/shuffle_dataset_op.cc:177] Filling up shuffle buffer (this may take a while): 306 of 516\n",
      "2025-04-17 01:23:09.462853: I tensorflow/core/kernels/data/shuffle_dataset_op.cc:177] Filling up shuffle buffer (this may take a while): 338 of 516\n",
      "2025-04-17 01:23:19.071535: I tensorflow/core/kernels/data/shuffle_dataset_op.cc:177] Filling up shuffle buffer (this may take a while): 365 of 516\n",
      "2025-04-17 01:23:29.397274: I tensorflow/core/kernels/data/shuffle_dataset_op.cc:177] Filling up shuffle buffer (this may take a while): 400 of 516\n",
      "2025-04-17 01:23:39.287489: I tensorflow/core/kernels/data/shuffle_dataset_op.cc:177] Filling up shuffle buffer (this may take a while): 431 of 516\n",
      "2025-04-17 01:23:49.065904: I tensorflow/core/kernels/data/shuffle_dataset_op.cc:177] Filling up shuffle buffer (this may take a while): 458 of 516\n",
      "2025-04-17 01:23:59.152417: I tensorflow/core/kernels/data/shuffle_dataset_op.cc:177] Filling up shuffle buffer (this may take a while): 486 of 516\n",
      "2025-04-17 01:24:08.159819: I tensorflow/core/kernels/data/shuffle_dataset_op.cc:230] Shuffle buffer filled.\n"
     ]
    },
    {
     "name": "stdout",
     "output_type": "stream",
     "text": [
      "65/65 [==============================] - 209s 610ms/step - loss: 0.3398 - accuracy: 0.8643 - auc: 0.9296 - val_loss: 0.7086 - val_accuracy: 0.7077 - val_auc: 0.7640\n",
      "Epoch 47/100\n"
     ]
    },
    {
     "name": "stderr",
     "output_type": "stream",
     "text": [
      "2025-04-17 01:24:59.579698: I tensorflow/core/kernels/data/shuffle_dataset_op.cc:177] Filling up shuffle buffer (this may take a while): 33 of 516\n",
      "2025-04-17 01:25:09.280060: I tensorflow/core/kernels/data/shuffle_dataset_op.cc:177] Filling up shuffle buffer (this may take a while): 71 of 516\n"
     ]
    },
    {
     "name": "stdout",
     "output_type": "stream",
     "text": [
      "Advertencia: ../data/train/Shoplifting042_x264.mp4 tiene menos frames que los requeridos. Usando todo el video.\n"
     ]
    },
    {
     "name": "stderr",
     "output_type": "stream",
     "text": [
      "2025-04-17 01:25:19.359297: I tensorflow/core/kernels/data/shuffle_dataset_op.cc:177] Filling up shuffle buffer (this may take a while): 103 of 516\n",
      "2025-04-17 01:25:29.297759: I tensorflow/core/kernels/data/shuffle_dataset_op.cc:177] Filling up shuffle buffer (this may take a while): 135 of 516\n",
      "2025-04-17 01:25:39.544999: I tensorflow/core/kernels/data/shuffle_dataset_op.cc:177] Filling up shuffle buffer (this may take a while): 161 of 516\n",
      "2025-04-17 01:25:49.532937: I tensorflow/core/kernels/data/shuffle_dataset_op.cc:177] Filling up shuffle buffer (this may take a while): 191 of 516\n",
      "2025-04-17 01:25:59.746157: I tensorflow/core/kernels/data/shuffle_dataset_op.cc:177] Filling up shuffle buffer (this may take a while): 220 of 516\n",
      "2025-04-17 01:26:09.354397: I tensorflow/core/kernels/data/shuffle_dataset_op.cc:177] Filling up shuffle buffer (this may take a while): 249 of 516\n",
      "2025-04-17 01:26:19.383989: I tensorflow/core/kernels/data/shuffle_dataset_op.cc:177] Filling up shuffle buffer (this may take a while): 278 of 516\n",
      "2025-04-17 01:26:29.324296: I tensorflow/core/kernels/data/shuffle_dataset_op.cc:177] Filling up shuffle buffer (this may take a while): 306 of 516\n",
      "2025-04-17 01:26:39.790421: I tensorflow/core/kernels/data/shuffle_dataset_op.cc:177] Filling up shuffle buffer (this may take a while): 338 of 516\n",
      "2025-04-17 01:26:49.359762: I tensorflow/core/kernels/data/shuffle_dataset_op.cc:177] Filling up shuffle buffer (this may take a while): 365 of 516\n",
      "2025-04-17 01:26:59.712609: I tensorflow/core/kernels/data/shuffle_dataset_op.cc:177] Filling up shuffle buffer (this may take a while): 400 of 516\n",
      "2025-04-17 01:27:09.476662: I tensorflow/core/kernels/data/shuffle_dataset_op.cc:177] Filling up shuffle buffer (this may take a while): 431 of 516\n",
      "2025-04-17 01:27:19.247483: I tensorflow/core/kernels/data/shuffle_dataset_op.cc:177] Filling up shuffle buffer (this may take a while): 458 of 516\n",
      "2025-04-17 01:27:29.391914: I tensorflow/core/kernels/data/shuffle_dataset_op.cc:177] Filling up shuffle buffer (this may take a while): 486 of 516\n",
      "2025-04-17 01:27:38.518166: I tensorflow/core/kernels/data/shuffle_dataset_op.cc:230] Shuffle buffer filled.\n"
     ]
    },
    {
     "name": "stdout",
     "output_type": "stream",
     "text": [
      "65/65 [==============================] - 209s 606ms/step - loss: 0.3641 - accuracy: 0.8469 - auc: 0.9188 - val_loss: 0.7294 - val_accuracy: 0.6615 - val_auc: 0.7484\n",
      "Epoch 48/100\n"
     ]
    },
    {
     "name": "stderr",
     "output_type": "stream",
     "text": [
      "2025-04-17 01:28:29.678717: I tensorflow/core/kernels/data/shuffle_dataset_op.cc:177] Filling up shuffle buffer (this may take a while): 33 of 516\n",
      "2025-04-17 01:28:39.392827: I tensorflow/core/kernels/data/shuffle_dataset_op.cc:177] Filling up shuffle buffer (this may take a while): 71 of 516\n"
     ]
    },
    {
     "name": "stdout",
     "output_type": "stream",
     "text": [
      "Advertencia: ../data/train/Shoplifting042_x264.mp4 tiene menos frames que los requeridos. Usando todo el video.\n"
     ]
    },
    {
     "name": "stderr",
     "output_type": "stream",
     "text": [
      "2025-04-17 01:28:49.450288: I tensorflow/core/kernels/data/shuffle_dataset_op.cc:177] Filling up shuffle buffer (this may take a while): 102 of 516\n",
      "2025-04-17 01:28:59.647838: I tensorflow/core/kernels/data/shuffle_dataset_op.cc:177] Filling up shuffle buffer (this may take a while): 135 of 516\n",
      "2025-04-17 01:29:09.419231: I tensorflow/core/kernels/data/shuffle_dataset_op.cc:177] Filling up shuffle buffer (this may take a while): 160 of 516\n",
      "2025-04-17 01:29:19.828703: I tensorflow/core/kernels/data/shuffle_dataset_op.cc:177] Filling up shuffle buffer (this may take a while): 191 of 516\n",
      "2025-04-17 01:29:29.415378: I tensorflow/core/kernels/data/shuffle_dataset_op.cc:177] Filling up shuffle buffer (this may take a while): 219 of 516\n",
      "2025-04-17 01:29:39.517150: I tensorflow/core/kernels/data/shuffle_dataset_op.cc:177] Filling up shuffle buffer (this may take a while): 247 of 516\n",
      "2025-04-17 01:29:49.683018: I tensorflow/core/kernels/data/shuffle_dataset_op.cc:177] Filling up shuffle buffer (this may take a while): 277 of 516\n",
      "2025-04-17 01:29:59.598959: I tensorflow/core/kernels/data/shuffle_dataset_op.cc:177] Filling up shuffle buffer (this may take a while): 304 of 516\n",
      "2025-04-17 01:30:09.463667: I tensorflow/core/kernels/data/shuffle_dataset_op.cc:177] Filling up shuffle buffer (this may take a while): 335 of 516\n",
      "2025-04-17 01:30:19.474538: I tensorflow/core/kernels/data/shuffle_dataset_op.cc:177] Filling up shuffle buffer (this may take a while): 363 of 516\n",
      "2025-04-17 01:30:29.412296: I tensorflow/core/kernels/data/shuffle_dataset_op.cc:177] Filling up shuffle buffer (this may take a while): 395 of 516\n",
      "2025-04-17 01:30:39.621036: I tensorflow/core/kernels/data/shuffle_dataset_op.cc:177] Filling up shuffle buffer (this may take a while): 429 of 516\n",
      "2025-04-17 01:30:49.734118: I tensorflow/core/kernels/data/shuffle_dataset_op.cc:177] Filling up shuffle buffer (this may take a while): 454 of 516\n",
      "2025-04-17 01:30:59.513314: I tensorflow/core/kernels/data/shuffle_dataset_op.cc:177] Filling up shuffle buffer (this may take a while): 480 of 516\n",
      "2025-04-17 01:31:09.629652: I tensorflow/core/kernels/data/shuffle_dataset_op.cc:177] Filling up shuffle buffer (this may take a while): 513 of 516\n",
      "2025-04-17 01:31:10.325149: I tensorflow/core/kernels/data/shuffle_dataset_op.cc:230] Shuffle buffer filled.\n"
     ]
    },
    {
     "name": "stdout",
     "output_type": "stream",
     "text": [
      "65/65 [==============================] - 210s 604ms/step - loss: 0.3165 - accuracy: 0.8663 - auc: 0.9389 - val_loss: 0.7886 - val_accuracy: 0.6769 - val_auc: 0.7659\n",
      "Epoch 49/100\n"
     ]
    },
    {
     "name": "stderr",
     "output_type": "stream",
     "text": [
      "2025-04-17 01:32:01.288677: I tensorflow/core/kernels/data/shuffle_dataset_op.cc:177] Filling up shuffle buffer (this may take a while): 33 of 516\n",
      "2025-04-17 01:32:11.127845: I tensorflow/core/kernels/data/shuffle_dataset_op.cc:177] Filling up shuffle buffer (this may take a while): 71 of 516\n"
     ]
    },
    {
     "name": "stdout",
     "output_type": "stream",
     "text": [
      "Advertencia: ../data/train/Shoplifting042_x264.mp4 tiene menos frames que los requeridos. Usando todo el video.\n"
     ]
    },
    {
     "name": "stderr",
     "output_type": "stream",
     "text": [
      "2025-04-17 01:32:21.204561: I tensorflow/core/kernels/data/shuffle_dataset_op.cc:177] Filling up shuffle buffer (this may take a while): 102 of 516\n",
      "2025-04-17 01:32:31.035078: I tensorflow/core/kernels/data/shuffle_dataset_op.cc:177] Filling up shuffle buffer (this may take a while): 134 of 516\n",
      "2025-04-17 01:32:41.033499: I tensorflow/core/kernels/data/shuffle_dataset_op.cc:177] Filling up shuffle buffer (this may take a while): 159 of 516\n",
      "2025-04-17 01:32:51.295470: I tensorflow/core/kernels/data/shuffle_dataset_op.cc:177] Filling up shuffle buffer (this may take a while): 190 of 516\n",
      "2025-04-17 01:33:00.981132: I tensorflow/core/kernels/data/shuffle_dataset_op.cc:177] Filling up shuffle buffer (this may take a while): 218 of 516\n",
      "2025-04-17 01:33:11.335566: I tensorflow/core/kernels/data/shuffle_dataset_op.cc:177] Filling up shuffle buffer (this may take a while): 246 of 516\n",
      "2025-04-17 01:33:21.039048: I tensorflow/core/kernels/data/shuffle_dataset_op.cc:177] Filling up shuffle buffer (this may take a while): 275 of 516\n",
      "2025-04-17 01:33:31.239370: I tensorflow/core/kernels/data/shuffle_dataset_op.cc:177] Filling up shuffle buffer (this may take a while): 302 of 516\n",
      "2025-04-17 01:33:41.147244: I tensorflow/core/kernels/data/shuffle_dataset_op.cc:177] Filling up shuffle buffer (this may take a while): 333 of 516\n",
      "2025-04-17 01:33:51.346001: I tensorflow/core/kernels/data/shuffle_dataset_op.cc:177] Filling up shuffle buffer (this may take a while): 361 of 516\n",
      "2025-04-17 01:34:01.197136: I tensorflow/core/kernels/data/shuffle_dataset_op.cc:177] Filling up shuffle buffer (this may take a while): 393 of 516\n",
      "2025-04-17 01:34:10.965696: I tensorflow/core/kernels/data/shuffle_dataset_op.cc:177] Filling up shuffle buffer (this may take a while): 427 of 516\n",
      "2025-04-17 01:34:21.041728: I tensorflow/core/kernels/data/shuffle_dataset_op.cc:177] Filling up shuffle buffer (this may take a while): 451 of 516\n",
      "2025-04-17 01:34:31.531034: I tensorflow/core/kernels/data/shuffle_dataset_op.cc:177] Filling up shuffle buffer (this may take a while): 479 of 516\n",
      "2025-04-17 01:34:41.342903: I tensorflow/core/kernels/data/shuffle_dataset_op.cc:177] Filling up shuffle buffer (this may take a while): 511 of 516\n",
      "2025-04-17 01:34:42.712993: I tensorflow/core/kernels/data/shuffle_dataset_op.cc:230] Shuffle buffer filled.\n"
     ]
    },
    {
     "name": "stdout",
     "output_type": "stream",
     "text": [
      "65/65 [==============================] - 211s 613ms/step - loss: 0.3757 - accuracy: 0.8430 - auc: 0.9130 - val_loss: 0.7521 - val_accuracy: 0.6923 - val_auc: 0.7524\n",
      "Epoch 50/100\n"
     ]
    },
    {
     "name": "stderr",
     "output_type": "stream",
     "text": [
      "2025-04-17 01:35:34.469555: I tensorflow/core/kernels/data/shuffle_dataset_op.cc:177] Filling up shuffle buffer (this may take a while): 33 of 516\n",
      "2025-04-17 01:35:44.065614: I tensorflow/core/kernels/data/shuffle_dataset_op.cc:177] Filling up shuffle buffer (this may take a while): 70 of 516\n"
     ]
    },
    {
     "name": "stdout",
     "output_type": "stream",
     "text": [
      "Advertencia: ../data/train/Shoplifting042_x264.mp4 tiene menos frames que los requeridos. Usando todo el video.\n"
     ]
    },
    {
     "name": "stderr",
     "output_type": "stream",
     "text": [
      "2025-04-17 01:35:53.969400: I tensorflow/core/kernels/data/shuffle_dataset_op.cc:177] Filling up shuffle buffer (this may take a while): 101 of 516\n",
      "2025-04-17 01:36:04.073585: I tensorflow/core/kernels/data/shuffle_dataset_op.cc:177] Filling up shuffle buffer (this may take a while): 134 of 516\n",
      "2025-04-17 01:36:14.326039: I tensorflow/core/kernels/data/shuffle_dataset_op.cc:177] Filling up shuffle buffer (this may take a while): 160 of 516\n",
      "2025-04-17 01:36:24.113028: I tensorflow/core/kernels/data/shuffle_dataset_op.cc:177] Filling up shuffle buffer (this may take a while): 190 of 516\n",
      "2025-04-17 01:36:34.440304: I tensorflow/core/kernels/data/shuffle_dataset_op.cc:177] Filling up shuffle buffer (this may take a while): 219 of 516\n",
      "2025-04-17 01:36:44.043205: I tensorflow/core/kernels/data/shuffle_dataset_op.cc:177] Filling up shuffle buffer (this may take a while): 246 of 516\n",
      "2025-04-17 01:36:54.054770: I tensorflow/core/kernels/data/shuffle_dataset_op.cc:177] Filling up shuffle buffer (this may take a while): 276 of 516\n",
      "2025-04-17 01:37:04.194294: I tensorflow/core/kernels/data/shuffle_dataset_op.cc:177] Filling up shuffle buffer (this may take a while): 303 of 516\n",
      "2025-04-17 01:37:14.215415: I tensorflow/core/kernels/data/shuffle_dataset_op.cc:177] Filling up shuffle buffer (this may take a while): 334 of 516\n",
      "2025-04-17 01:37:24.082599: I tensorflow/core/kernels/data/shuffle_dataset_op.cc:177] Filling up shuffle buffer (this may take a while): 361 of 516\n",
      "2025-04-17 01:37:34.092365: I tensorflow/core/kernels/data/shuffle_dataset_op.cc:177] Filling up shuffle buffer (this may take a while): 394 of 516\n",
      "2025-04-17 01:37:44.203622: I tensorflow/core/kernels/data/shuffle_dataset_op.cc:177] Filling up shuffle buffer (this may take a while): 428 of 516\n",
      "2025-04-17 01:37:54.145450: I tensorflow/core/kernels/data/shuffle_dataset_op.cc:177] Filling up shuffle buffer (this may take a while): 453 of 516\n",
      "2025-04-17 01:38:04.014687: I tensorflow/core/kernels/data/shuffle_dataset_op.cc:177] Filling up shuffle buffer (this may take a while): 479 of 516\n",
      "2025-04-17 01:38:14.090784: I tensorflow/core/kernels/data/shuffle_dataset_op.cc:177] Filling up shuffle buffer (this may take a while): 512 of 516\n",
      "2025-04-17 01:38:15.136989: I tensorflow/core/kernels/data/shuffle_dataset_op.cc:230] Shuffle buffer filled.\n"
     ]
    },
    {
     "name": "stdout",
     "output_type": "stream",
     "text": [
      "65/65 [==============================] - 210s 606ms/step - loss: 0.3342 - accuracy: 0.8663 - auc: 0.9324 - val_loss: 0.7742 - val_accuracy: 0.7077 - val_auc: 0.7711\n",
      "Epoch 51/100\n"
     ]
    },
    {
     "name": "stderr",
     "output_type": "stream",
     "text": [
      "2025-04-17 01:39:06.440173: I tensorflow/core/kernels/data/shuffle_dataset_op.cc:177] Filling up shuffle buffer (this may take a while): 33 of 516\n",
      "2025-04-17 01:39:16.057544: I tensorflow/core/kernels/data/shuffle_dataset_op.cc:177] Filling up shuffle buffer (this may take a while): 70 of 516\n"
     ]
    },
    {
     "name": "stdout",
     "output_type": "stream",
     "text": [
      "Advertencia: ../data/train/Shoplifting042_x264.mp4 tiene menos frames que los requeridos. Usando todo el video.\n"
     ]
    },
    {
     "name": "stderr",
     "output_type": "stream",
     "text": [
      "2025-04-17 01:39:26.296904: I tensorflow/core/kernels/data/shuffle_dataset_op.cc:177] Filling up shuffle buffer (this may take a while): 102 of 516\n",
      "2025-04-17 01:39:36.103086: I tensorflow/core/kernels/data/shuffle_dataset_op.cc:177] Filling up shuffle buffer (this may take a while): 134 of 516\n",
      "2025-04-17 01:39:46.414895: I tensorflow/core/kernels/data/shuffle_dataset_op.cc:177] Filling up shuffle buffer (this may take a while): 160 of 516\n",
      "2025-04-17 01:39:56.217267: I tensorflow/core/kernels/data/shuffle_dataset_op.cc:177] Filling up shuffle buffer (this may take a while): 190 of 516\n",
      "2025-04-17 01:40:06.474520: I tensorflow/core/kernels/data/shuffle_dataset_op.cc:177] Filling up shuffle buffer (this may take a while): 219 of 516\n",
      "2025-04-17 01:40:16.015566: I tensorflow/core/kernels/data/shuffle_dataset_op.cc:177] Filling up shuffle buffer (this may take a while): 246 of 516\n",
      "2025-04-17 01:40:26.037735: I tensorflow/core/kernels/data/shuffle_dataset_op.cc:177] Filling up shuffle buffer (this may take a while): 276 of 516\n",
      "2025-04-17 01:40:36.136204: I tensorflow/core/kernels/data/shuffle_dataset_op.cc:177] Filling up shuffle buffer (this may take a while): 303 of 516\n",
      "2025-04-17 01:40:46.102989: I tensorflow/core/kernels/data/shuffle_dataset_op.cc:177] Filling up shuffle buffer (this may take a while): 334 of 516\n",
      "2025-04-17 01:40:56.133655: I tensorflow/core/kernels/data/shuffle_dataset_op.cc:177] Filling up shuffle buffer (this may take a while): 362 of 516\n",
      "2025-04-17 01:41:06.101362: I tensorflow/core/kernels/data/shuffle_dataset_op.cc:177] Filling up shuffle buffer (this may take a while): 395 of 516\n",
      "2025-04-17 01:41:16.290869: I tensorflow/core/kernels/data/shuffle_dataset_op.cc:177] Filling up shuffle buffer (this may take a while): 429 of 516\n",
      "2025-04-17 01:41:26.273677: I tensorflow/core/kernels/data/shuffle_dataset_op.cc:177] Filling up shuffle buffer (this may take a while): 454 of 516\n",
      "2025-04-17 01:41:36.049235: I tensorflow/core/kernels/data/shuffle_dataset_op.cc:177] Filling up shuffle buffer (this may take a while): 480 of 516\n",
      "2025-04-17 01:41:46.037371: I tensorflow/core/kernels/data/shuffle_dataset_op.cc:177] Filling up shuffle buffer (this may take a while): 513 of 516\n",
      "2025-04-17 01:41:46.727732: I tensorflow/core/kernels/data/shuffle_dataset_op.cc:230] Shuffle buffer filled.\n"
     ]
    },
    {
     "name": "stdout",
     "output_type": "stream",
     "text": [
      "65/65 [==============================] - 210s 607ms/step - loss: 0.3068 - accuracy: 0.8760 - auc: 0.9419 - val_loss: 0.9125 - val_accuracy: 0.6154 - val_auc: 0.7011\n"
     ]
    }
   ],
   "source": [
    "history, history_full = train_with_checkpoints(\n",
    "    model_1,\n",
    "    train_dataset,\n",
    "    val_dataset,\n",
    "    epochs=100,\n",
    "    checkpoint_dir=\"checkpoints/i3d_model_1\",\n",
    "    one_cycle_scheduler=one_cycle_scheduler\n",
    ")"
   ]
  },
  {
   "cell_type": "markdown",
   "metadata": {},
   "source": [
    "### Evolución del Learning rate"
   ]
  },
  {
   "cell_type": "code",
   "execution_count": 25,
   "metadata": {},
   "outputs": [
    {
     "data": {
      "image/png": "[encoded data removed]",
      "text/plain": [
       "<Figure size 640x480 with 1 Axes>"
      ]
     },
     "metadata": {},
     "output_type": "display_data"
    }
   ],
   "source": [
    "import matplotlib.pyplot as plt  # Corrección en la importación\n",
    "lrs = [one_cycle_scheduler(epoch, initial_learning_rate) for epoch in range(epochs)]\n",
    "plt.plot(range(epochs), lrs)\n",
    "plt.xlabel(\"Época\")\n",
    "plt.ylabel(\"Learning Rate\")\n",
    "plt.title(\"One Cycle Policy - Learning Rate Schedule\")\n",
    "plt.show()"
   ]
  },
  {
   "cell_type": "code",
   "execution_count": 26,
   "metadata": {},
   "outputs": [
    {
     "name": "stderr",
     "output_type": "stream",
     "text": [
      "2025-04-17 01:56:35.437481: I tensorflow/core/kernels/data/shuffle_dataset_op.cc:177] Filling up shuffle buffer (this may take a while): 33 of 516\n",
      "2025-04-17 01:56:45.053243: I tensorflow/core/kernels/data/shuffle_dataset_op.cc:177] Filling up shuffle buffer (this may take a while): 70 of 516\n"
     ]
    },
    {
     "name": "stdout",
     "output_type": "stream",
     "text": [
      "Advertencia: ../data/train/Shoplifting042_x264.mp4 tiene menos frames que los requeridos. Usando todo el video.\n"
     ]
    },
    {
     "name": "stderr",
     "output_type": "stream",
     "text": [
      "2025-04-17 01:56:55.265287: I tensorflow/core/kernels/data/shuffle_dataset_op.cc:177] Filling up shuffle buffer (this may take a while): 102 of 516\n",
      "2025-04-17 01:57:05.060624: I tensorflow/core/kernels/data/shuffle_dataset_op.cc:177] Filling up shuffle buffer (this may take a while): 134 of 516\n",
      "2025-04-17 01:57:14.950109: I tensorflow/core/kernels/data/shuffle_dataset_op.cc:177] Filling up shuffle buffer (this may take a while): 159 of 516\n",
      "2025-04-17 01:57:25.178234: I tensorflow/core/kernels/data/shuffle_dataset_op.cc:177] Filling up shuffle buffer (this may take a while): 190 of 516\n",
      "2025-04-17 01:57:35.445984: I tensorflow/core/kernels/data/shuffle_dataset_op.cc:177] Filling up shuffle buffer (this may take a while): 219 of 516\n",
      "2025-04-17 01:57:45.379858: I tensorflow/core/kernels/data/shuffle_dataset_op.cc:177] Filling up shuffle buffer (this may take a while): 247 of 516\n",
      "2025-04-17 01:57:55.532630: I tensorflow/core/kernels/data/shuffle_dataset_op.cc:177] Filling up shuffle buffer (this may take a while): 277 of 516\n",
      "2025-04-17 01:58:05.350434: I tensorflow/core/kernels/data/shuffle_dataset_op.cc:177] Filling up shuffle buffer (this may take a while): 304 of 516\n",
      "2025-04-17 01:58:15.126332: I tensorflow/core/kernels/data/shuffle_dataset_op.cc:177] Filling up shuffle buffer (this may take a while): 335 of 516\n",
      "2025-04-17 01:58:24.972830: I tensorflow/core/kernels/data/shuffle_dataset_op.cc:177] Filling up shuffle buffer (this may take a while): 362 of 516\n",
      "2025-04-17 01:58:34.951449: I tensorflow/core/kernels/data/shuffle_dataset_op.cc:177] Filling up shuffle buffer (this may take a while): 395 of 516\n",
      "2025-04-17 01:58:45.258071: I tensorflow/core/kernels/data/shuffle_dataset_op.cc:177] Filling up shuffle buffer (this may take a while): 429 of 516\n",
      "2025-04-17 01:58:55.196165: I tensorflow/core/kernels/data/shuffle_dataset_op.cc:177] Filling up shuffle buffer (this may take a while): 454 of 516\n",
      "2025-04-17 01:59:05.013021: I tensorflow/core/kernels/data/shuffle_dataset_op.cc:177] Filling up shuffle buffer (this may take a while): 480 of 516\n",
      "2025-04-17 01:59:15.196384: I tensorflow/core/kernels/data/shuffle_dataset_op.cc:177] Filling up shuffle buffer (this may take a while): 513 of 516\n",
      "2025-04-17 01:59:15.878888: I tensorflow/core/kernels/data/shuffle_dataset_op.cc:230] Shuffle buffer filled.\n"
     ]
    },
    {
     "name": "stdout",
     "output_type": "stream",
     "text": [
      "65/65 [==============================] - 179s 118ms/step - loss: 0.5142 - accuracy: 0.7248 - auc: 0.8232\n"
     ]
    }
   ],
   "source": [
    "train_results = model_1.evaluate(train_dataset, verbose=1)"
   ]
  },
  {
   "cell_type": "code",
   "execution_count": 27,
   "metadata": {},
   "outputs": [
    {
     "name": "stdout",
     "output_type": "stream",
     "text": [
      "9/9 [==============================] - 19s 2s/step - loss: 0.5750 - accuracy: 0.7692 - auc: 0.7805\n"
     ]
    }
   ],
   "source": [
    "# Evaluar en el conjunto de validación\n",
    "val_results = model_1.evaluate(val_dataset, verbose=1)"
   ]
  },
  {
   "cell_type": "code",
   "execution_count": 28,
   "metadata": {},
   "outputs": [
    {
     "name": "stdout",
     "output_type": "stream",
     "text": [
      "9/9 [==============================] - 21s 2s/step - loss: 0.6624 - accuracy: 0.6615 - auc: 0.6925\n"
     ]
    }
   ],
   "source": [
    "# Evaluar en el conjunto de prueba\n",
    "test_results = model_1.evaluate(test_dataset, verbose=1)"
   ]
  },
  {
   "cell_type": "code",
   "execution_count": 29,
   "metadata": {},
   "outputs": [
    {
     "name": "stdout",
     "output_type": "stream",
     "text": [
      "\n",
      "Resultados Finales:\n",
      "Train - Loss: 0.5142073631286621, Accuracy: 0.7248061895370483\n",
      "Val - Loss: 0.5749655365943909, Accuracy: 0.7692307829856873\n",
      "Test - Loss: 0.6623538136482239, Accuracy: 0.6615384817123413\n"
     ]
    }
   ],
   "source": [
    "print(\"\\nResultados Finales:\")\n",
    "print(f\"Train - Loss: {train_results[0]}, Accuracy: {train_results[1]}\")\n",
    "print(f\"Val - Loss: {val_results[0]}, Accuracy: {val_results[1]}\")\n",
    "print(f\"Test - Loss: {test_results[0]}, Accuracy: {test_results[1]}\")"
   ]
  },
  {
   "cell_type": "markdown",
   "metadata": {},
   "source": [
    "### Gráfica Epochs vs Loss"
   ]
  },
  {
   "cell_type": "code",
   "execution_count": 30,
   "metadata": {},
   "outputs": [
    {
     "data": {
      "image/png": "[encoded data removed]",
      "text/plain": [
       "<Figure size 640x480 with 1 Axes>"
      ]
     },
     "metadata": {},
     "output_type": "display_data"
    }
   ],
   "source": [
    "import matplotlib.pyplot as plt\n",
    "# Extraer la pérdida de entrenamiento y validación\n",
    "loss = history_full['loss']\n",
    "val_loss = history_full['val_loss']\n",
    "\n",
    "# Crear la gráfica\n",
    "plt.plot(range(1, len(loss) + 1), loss, label='Training Loss', marker='o')\n",
    "plt.plot(range(1, len(val_loss) + 1), val_loss, label='Validation Loss', marker='o')\n",
    "\n",
    "# Etiquetas y título\n",
    "plt.xlabel('Epochs')\n",
    "plt.ylabel('Loss')\n",
    "plt.title('Epochs vs Loss')\n",
    "plt.legend()\n",
    "plt.grid(False)\n",
    "plt.show()"
   ]
  },
  {
   "cell_type": "markdown",
   "metadata": {},
   "source": [
    "### Visualización del Modelo con TSNE"
   ]
  },
  {
   "cell_type": "code",
   "execution_count": 34,
   "metadata": {},
   "outputs": [
    {
     "data": {
      "image/png": "[encoded data removed]",
      "text/plain": [
       "<Figure size 1000x800 with 1 Axes>"
      ]
     },
     "metadata": {},
     "output_type": "display_data"
    }
   ],
   "source": [
    "from sklearn.manifold import TSNE\n",
    "\n",
    "# Obtener las representaciones del modelo\n",
    "x_test = model_1.predict(test_dataset)  # Extrae los embeddings\n",
    "y_test = np.concatenate([y for _, y in test_dataset])  # Obtener etiquetas reales\n",
    "\n",
    "# Verificar el número de muestras\n",
    "num_samples = x_test.shape[0]\n",
    "\n",
    "# Aplicar t-SNE con un perplexity válido\n",
    "tsne = TSNE(n_components=2, random_state=42)\n",
    "x_test_tsne = tsne.fit_transform(x_test)\n",
    "\n",
    "# Visualización\n",
    "plt.figure(figsize=(10, 8))\n",
    "for i in np.unique(y_test):\n",
    "    idx = np.where(y_test == i)[0]\n",
    "    plt.scatter(x_test_tsne[idx, 0], x_test_tsne[idx, 1], label=f\"Clase {i}\")\n",
    "\n",
    "plt.title(\"Visualización t-SNE de los embeddings del conjunto de prueba\")\n",
    "plt.xlabel(\"Componente t-SNE 1\")\n",
    "plt.ylabel(\"Componente t-SNE 2\")\n",
    "plt.legend(title=\"Clases\")\n",
    "plt.grid(True)\n",
    "plt.scatter(x_test_tsne[:, 0], x_test_tsne[:, 1], alpha=0.5)\n",
    "plt.show()"
   ]
  },
  {
   "cell_type": "markdown",
   "metadata": {},
   "source": [
    "## I3D + ConvLSTM2D"
   ]
  },
  {
   "cell_type": "code",
   "execution_count": null,
   "metadata": {},
   "outputs": [],
   "source": [
    "from tensorflow.keras.layers import (ConvLSTM2D, TimeDistributed, Dense, \n",
    "                                    Flatten, GlobalAveragePooling2D, \n",
    "                                    Dropout, BatchNormalization)\n",
    "from tensorflow.keras import Model\n",
    "\n",
    "class I3D_ConvLSTM(Model):\n",
    "    def __init__(self, num_classes, endpoint=\"Mixed_5c\"):\n",
    "        super(I3D_ConvLSTM, self).__init__()\n",
    "        np.random.seed(42)\n",
    "        tf.random.set_seed(42)\n",
    "        # Modelo base Inception I3D\n",
    "        self.i3d = InceptionI3d(num_classes=num_classes, is_training=True, final_endpoint=endpoint)\n",
    "        \n",
    "        # Capa ConvLSTM2D para modelar información temporal\n",
    "        self.conv_lstm = ConvLSTM2D(\n",
    "            filters=64, \n",
    "            kernel_size=(3, 3),\n",
    "            padding='same',\n",
    "            return_sequences=True,  # Mantener la dimensión temporal\n",
    "            dropout=0.2,\n",
    "            recurrent_dropout=0.2\n",
    "        )\n",
    "        \n",
    "        # Batch Normalization después de ConvLSTM\n",
    "        self.batch_norm = BatchNormalization()\n",
    "        \n",
    "        # Global Average Pooling para reducir dimensionalidad\n",
    "        self.global_avg_pool = GlobalAveragePooling2D()  # Cambio a 2D\n",
    "        \n",
    "        # Dropout para regularización\n",
    "        self.dropout = Dropout(0.3)\n",
    "        \n",
    "        # Capa completamente conectada final SIN activación (para logits)\n",
    "        self.fc = Dense(num_classes)  # Eliminado activation='softmax'\n",
    "\n",
    "    def call(self, inputs, training=False):\n",
    "        \"\"\"Entrada esperada: (batch_size, num_frames, height, width, channels)\"\"\"\n",
    "        \n",
    "        # Extraer características con I3D\n",
    "        features, _ = self.i3d(inputs)  # (batch_size, num_frames, 7, 7, 1024)\n",
    "        \n",
    "        # Aplicar ConvLSTM2D sobre la dimensión temporal\n",
    "        lstm_out = self.conv_lstm(features)  # (batch_size, num_frames, 7, 7, 64)\n",
    "        \n",
    "        # Tomar solo el último frame de la salida de LSTM para clasificación\n",
    "        lstm_out = lstm_out[:, -1, :, :, :]  # (batch_size, 7, 7, 64)\n",
    "\n",
    "        # Batch Normalization\n",
    "        x = self.batch_norm(lstm_out, training=training)\n",
    "        \n",
    "        # Global Average Pooling\n",
    "        x = self.global_avg_pool(x)\n",
    "        \n",
    "        # Dropout para regularización\n",
    "        x = self.dropout(x, training=training)\n",
    "        \n",
    "        # Capa de salida (ahora devuelve logits)\n",
    "        logits = self.fc(x)\n",
    "        \n",
    "        return logits"
   ]
  },
  {
   "cell_type": "code",
   "execution_count": null,
   "metadata": {},
   "outputs": [],
   "source": [
    "# Crear el DataModule\n",
    "data_module = VideoDataModule(train_df, valid_df, test_df, batch_size=8)\n",
    "# Obtener los datasets\n",
    "train_dataset = data_module.train_dataset()\n",
    "val_dataset = data_module.val_dataset()\n",
    "test_dataset = data_module.test_dataset()"
   ]
  },
  {
   "cell_type": "markdown",
   "metadata": {},
   "source": [
    "### Modelo"
   ]
  },
  {
   "cell_type": "code",
   "execution_count": null,
   "metadata": {},
   "outputs": [],
   "source": [
    "epochs = 100  # Número de épocas\n",
    "initial_learning_rate = 1e-7\n",
    "num_classes = 2"
   ]
  },
  {
   "cell_type": "code",
   "execution_count": null,
   "metadata": {},
   "outputs": [],
   "source": [
    "model_2 = I3D_ConvLSTM(num_classes=num_classes)\n",
    "optimizer = tf.keras.optimizers.Adam(learning_rate=initial_learning_rate)\n",
    "loss_fn = tf.keras.losses.SparseCategoricalCrossentropy(from_logits=True)\n",
    "model_2.compile(optimizer=optimizer, loss=loss_fn, metrics=[\"accuracy\"])"
   ]
  },
  {
   "cell_type": "code",
   "execution_count": null,
   "metadata": {},
   "outputs": [
    {
     "name": "stderr",
     "output_type": "stream",
     "text": [
      "2025-04-10 00:07:43.038143: I tensorflow/core/kernels/data/shuffle_dataset_op.cc:177] Filling up shuffle buffer (this may take a while): 37 of 516\n",
      "2025-04-10 00:07:53.371981: I tensorflow/core/kernels/data/shuffle_dataset_op.cc:177] Filling up shuffle buffer (this may take a while): 82 of 516\n"
     ]
    },
    {
     "name": "stdout",
     "output_type": "stream",
     "text": [
      "Advertencia: ../data/train/Shoplifting042_x264.mp4 tiene menos frames que los requeridos. Usando todo el video.\n"
     ]
    },
    {
     "name": "stderr",
     "output_type": "stream",
     "text": [
      "2025-04-10 00:08:02.964253: I tensorflow/core/kernels/data/shuffle_dataset_op.cc:177] Filling up shuffle buffer (this may take a while): 119 of 516\n",
      "2025-04-10 00:08:13.105008: I tensorflow/core/kernels/data/shuffle_dataset_op.cc:177] Filling up shuffle buffer (this may take a while): 148 of 516\n",
      "2025-04-10 00:08:23.095701: I tensorflow/core/kernels/data/shuffle_dataset_op.cc:177] Filling up shuffle buffer (this may take a while): 178 of 516\n",
      "2025-04-10 00:08:32.910355: I tensorflow/core/kernels/data/shuffle_dataset_op.cc:177] Filling up shuffle buffer (this may take a while): 214 of 516\n",
      "2025-04-10 00:08:43.412599: I tensorflow/core/kernels/data/shuffle_dataset_op.cc:177] Filling up shuffle buffer (this may take a while): 246 of 516\n",
      "2025-04-10 00:08:52.926216: I tensorflow/core/kernels/data/shuffle_dataset_op.cc:177] Filling up shuffle buffer (this may take a while): 278 of 516\n",
      "2025-04-10 00:09:03.064047: I tensorflow/core/kernels/data/shuffle_dataset_op.cc:177] Filling up shuffle buffer (this may take a while): 311 of 516\n",
      "2025-04-10 00:09:12.998626: I tensorflow/core/kernels/data/shuffle_dataset_op.cc:177] Filling up shuffle buffer (this may take a while): 345 of 516\n",
      "2025-04-10 00:09:23.043419: I tensorflow/core/kernels/data/shuffle_dataset_op.cc:177] Filling up shuffle buffer (this may take a while): 379 of 516\n",
      "2025-04-10 00:09:32.941464: I tensorflow/core/kernels/data/shuffle_dataset_op.cc:177] Filling up shuffle buffer (this may take a while): 416 of 516\n",
      "2025-04-10 00:09:43.075900: I tensorflow/core/kernels/data/shuffle_dataset_op.cc:177] Filling up shuffle buffer (this may take a while): 447 of 516\n",
      "2025-04-10 00:09:52.928981: I tensorflow/core/kernels/data/shuffle_dataset_op.cc:177] Filling up shuffle buffer (this may take a while): 477 of 516\n",
      "2025-04-10 00:10:02.976101: I tensorflow/core/kernels/data/shuffle_dataset_op.cc:177] Filling up shuffle buffer (this may take a while): 513 of 516\n",
      "2025-04-10 00:10:03.565052: I tensorflow/core/kernels/data/shuffle_dataset_op.cc:230] Shuffle buffer filled.\n"
     ]
    },
    {
     "name": "stdout",
     "output_type": "stream",
     "text": [
      "  1/100 [..............................] - ETA: 4:35:43 - loss: 0.7799 - accuracy: 0.3750"
     ]
    },
    {
     "name": "stderr",
     "output_type": "stream",
     "text": [
      "2025-04-10 00:10:03.790609: I tensorflow/stream_executor/cuda/cuda_blas.cc:1838] TensorFloat-32 will be used for the matrix multiplication. This will only be logged once.\n"
     ]
    },
    {
     "name": "stdout",
     "output_type": "stream",
     "text": [
      " 65/100 [==================>...........] - ETA: 8s - loss: 0.8092 - accuracy: 0.5194WARNING:tensorflow:Your input ran out of data; interrupting training. Make sure that your dataset or generator can generate at least `steps_per_epoch * epochs` batches (in this case, 100 batches). You may need to use the repeat() function when building your dataset.\n",
      "100/100 [==============================] - 182s 149ms/step - loss: 0.8092 - accuracy: 0.5194\n"
     ]
    },
    {
     "name": "stderr",
     "output_type": "stream",
     "text": [
      "2025-04-10 00:10:29.053853: I tensorflow/core/kernels/data/shuffle_dataset_op.cc:177] Filling up shuffle buffer (this may take a while): 36 of 516\n",
      "2025-04-10 00:10:38.902050: I tensorflow/core/kernels/data/shuffle_dataset_op.cc:177] Filling up shuffle buffer (this may take a while): 79 of 516\n"
     ]
    },
    {
     "name": "stdout",
     "output_type": "stream",
     "text": [
      "Advertencia: ../data/train/Shoplifting042_x264.mp4 tiene menos frames que los requeridos. Usando todo el video.\n"
     ]
    },
    {
     "name": "stderr",
     "output_type": "stream",
     "text": [
      "2025-04-10 00:10:48.985697: I tensorflow/core/kernels/data/shuffle_dataset_op.cc:177] Filling up shuffle buffer (this may take a while): 117 of 516\n",
      "2025-04-10 00:10:58.856156: I tensorflow/core/kernels/data/shuffle_dataset_op.cc:177] Filling up shuffle buffer (this may take a while): 146 of 516\n",
      "2025-04-10 00:11:08.966897: I tensorflow/core/kernels/data/shuffle_dataset_op.cc:177] Filling up shuffle buffer (this may take a while): 177 of 516\n",
      "2025-04-10 00:11:19.420271: I tensorflow/core/kernels/data/shuffle_dataset_op.cc:177] Filling up shuffle buffer (this may take a while): 214 of 516\n",
      "2025-04-10 00:11:29.089872: I tensorflow/core/kernels/data/shuffle_dataset_op.cc:177] Filling up shuffle buffer (this may take a while): 244 of 516\n",
      "2025-04-10 00:11:38.907439: I tensorflow/core/kernels/data/shuffle_dataset_op.cc:177] Filling up shuffle buffer (this may take a while): 275 of 516\n",
      "2025-04-10 00:11:48.858330: I tensorflow/core/kernels/data/shuffle_dataset_op.cc:177] Filling up shuffle buffer (this may take a while): 304 of 516\n",
      "2025-04-10 00:11:59.140779: I tensorflow/core/kernels/data/shuffle_dataset_op.cc:177] Filling up shuffle buffer (this may take a while): 339 of 516\n",
      "2025-04-10 00:12:08.985201: I tensorflow/core/kernels/data/shuffle_dataset_op.cc:177] Filling up shuffle buffer (this may take a while): 372 of 516\n",
      "2025-04-10 00:12:18.912826: I tensorflow/core/kernels/data/shuffle_dataset_op.cc:177] Filling up shuffle buffer (this may take a while): 407 of 516\n",
      "2025-04-10 00:12:29.010313: I tensorflow/core/kernels/data/shuffle_dataset_op.cc:177] Filling up shuffle buffer (this may take a while): 442 of 516\n",
      "2025-04-10 00:12:38.861318: I tensorflow/core/kernels/data/shuffle_dataset_op.cc:177] Filling up shuffle buffer (this may take a while): 469 of 516\n",
      "2025-04-10 00:12:49.015169: I tensorflow/core/kernels/data/shuffle_dataset_op.cc:177] Filling up shuffle buffer (this may take a while): 503 of 516\n",
      "2025-04-10 00:12:52.092209: I tensorflow/core/kernels/data/shuffle_dataset_op.cc:230] Shuffle buffer filled.\n"
     ]
    },
    {
     "name": "stdout",
     "output_type": "stream",
     "text": [
      " 65/100 [==================>...........] - ETA: 8s - loss: 0.6607 - accuracy: 0.5814WARNING:tensorflow:Your input ran out of data; interrupting training. Make sure that your dataset or generator can generate at least `steps_per_epoch * epochs` batches (in this case, 100 batches). You may need to use the repeat() function when building your dataset.\n",
      "100/100 [==============================] - 168s 149ms/step - loss: 0.6607 - accuracy: 0.5814\n"
     ]
    },
    {
     "name": "stderr",
     "output_type": "stream",
     "text": [
      "2025-04-10 00:13:17.421632: I tensorflow/core/kernels/data/shuffle_dataset_op.cc:177] Filling up shuffle buffer (this may take a while): 36 of 516\n",
      "2025-04-10 00:13:27.430209: I tensorflow/core/kernels/data/shuffle_dataset_op.cc:177] Filling up shuffle buffer (this may take a while): 81 of 516\n"
     ]
    },
    {
     "name": "stdout",
     "output_type": "stream",
     "text": [
      "Advertencia: ../data/train/Shoplifting042_x264.mp4 tiene menos frames que los requeridos. Usando todo el video.\n"
     ]
    },
    {
     "name": "stderr",
     "output_type": "stream",
     "text": [
      "2025-04-10 00:13:37.388449: I tensorflow/core/kernels/data/shuffle_dataset_op.cc:177] Filling up shuffle buffer (this may take a while): 118 of 516\n",
      "2025-04-10 00:13:47.354706: I tensorflow/core/kernels/data/shuffle_dataset_op.cc:177] Filling up shuffle buffer (this may take a while): 147 of 516\n",
      "2025-04-10 00:13:57.864547: I tensorflow/core/kernels/data/shuffle_dataset_op.cc:177] Filling up shuffle buffer (this may take a while): 178 of 516\n",
      "2025-04-10 00:14:07.678892: I tensorflow/core/kernels/data/shuffle_dataset_op.cc:177] Filling up shuffle buffer (this may take a while): 214 of 516\n",
      "2025-04-10 00:14:17.612744: I tensorflow/core/kernels/data/shuffle_dataset_op.cc:177] Filling up shuffle buffer (this may take a while): 245 of 516\n",
      "2025-04-10 00:14:27.515384: I tensorflow/core/kernels/data/shuffle_dataset_op.cc:177] Filling up shuffle buffer (this may take a while): 277 of 516\n",
      "2025-04-10 00:14:37.430298: I tensorflow/core/kernels/data/shuffle_dataset_op.cc:177] Filling up shuffle buffer (this may take a while): 309 of 516\n",
      "2025-04-10 00:14:47.431162: I tensorflow/core/kernels/data/shuffle_dataset_op.cc:177] Filling up shuffle buffer (this may take a while): 343 of 516\n",
      "2025-04-10 00:14:57.705814: I tensorflow/core/kernels/data/shuffle_dataset_op.cc:177] Filling up shuffle buffer (this may take a while): 378 of 516\n",
      "2025-04-10 00:15:07.720240: I tensorflow/core/kernels/data/shuffle_dataset_op.cc:177] Filling up shuffle buffer (this may take a while): 415 of 516\n",
      "2025-04-10 00:15:17.542517: I tensorflow/core/kernels/data/shuffle_dataset_op.cc:177] Filling up shuffle buffer (this may take a while): 446 of 516\n",
      "2025-04-10 00:15:27.374636: I tensorflow/core/kernels/data/shuffle_dataset_op.cc:177] Filling up shuffle buffer (this may take a while): 475 of 516\n",
      "2025-04-10 00:15:37.539487: I tensorflow/core/kernels/data/shuffle_dataset_op.cc:177] Filling up shuffle buffer (this may take a while): 512 of 516\n",
      "2025-04-10 00:15:38.432568: I tensorflow/core/kernels/data/shuffle_dataset_op.cc:230] Shuffle buffer filled.\n"
     ]
    },
    {
     "name": "stdout",
     "output_type": "stream",
     "text": [
      " 65/100 [==================>...........] - ETA: 7s - loss: 0.7660 - accuracy: 0.6066WARNING:tensorflow:Your input ran out of data; interrupting training. Make sure that your dataset or generator can generate at least `steps_per_epoch * epochs` batches (in this case, 100 batches). You may need to use the repeat() function when building your dataset.\n",
      "100/100 [==============================] - 166s 147ms/step - loss: 0.7660 - accuracy: 0.6066\n"
     ]
    }
   ],
   "source": [
    "# Aplicar LR Finder en entrenamiento corto\n",
    "lr_finder = LRFinder(start_lr=1e-7, end_lr=10, num_it=100)\n",
    "for _ in range(5):  # Ejecutar varias veces para obtener mejores resultados\n",
    "    model_2.fit(train_dataset, epochs=1, steps_per_epoch=100, callbacks=[lr_finder])"
   ]
  },
  {
   "cell_type": "code",
   "execution_count": null,
   "metadata": {},
   "outputs": [
    {
     "data": {
      "image/png": "[encoded data removed]",
      "text/plain": [
       "<Figure size 1200x700 with 1 Axes>"
      ]
     },
     "metadata": {},
     "output_type": "display_data"
    },
    {
     "name": "stdout",
     "output_type": "stream",
     "text": [
      "Promedio min_lr: 2.11e-05\n",
      "Promedio max_lr: 2.54e-05\n"
     ]
    }
   ],
   "source": [
    "# Obtener los valores óptimos de min_lr y max_lr\n",
    "min_lr, max_lr = lr_finder.plot_all_runs()"
   ]
  },
  {
   "cell_type": "code",
   "execution_count": null,
   "metadata": {},
   "outputs": [
    {
     "name": "stdout",
     "output_type": "stream",
     "text": [
      "999.0\n",
      "min_lr: 2.1112062444980922e-05\n",
      "max_lr: 0.02111206244498092\n"
     ]
    }
   ],
   "source": [
    "# Ajustar max_lr si es necesario\n",
    "if abs(max_lr - min_lr) / min_lr < 100:\n",
    "    max_lr = min_lr * 1000\n",
    "print(f\"min_lr: {min_lr}\")\n",
    "print(f\"max_lr: {max_lr}\")"
   ]
  },
  {
   "cell_type": "code",
   "execution_count": null,
   "metadata": {},
   "outputs": [],
   "source": [
    "def one_cycle_scheduler(epoch, lr):\n",
    "    total_epochs = epochs\n",
    "    warmup_epochs = total_epochs // 4\n",
    "\n",
    "    if epoch < warmup_epochs:  # Warmup\n",
    "        return initial_learning_rate + (max_lr - initial_learning_rate) * (epoch / warmup_epochs)\n",
    "    \n",
    "    elif epoch < total_epochs - 5:  # Cosine annealing phase\n",
    "        return min_lr + (max_lr - min_lr) * 0.5 * (1 + np.cos(np.pi * (epoch - warmup_epochs) / (total_epochs - warmup_epochs - 5)))\n",
    "\n",
    "    else:  # Final annealing phase\n",
    "        return min_lr"
   ]
  },
  {
   "cell_type": "code",
   "execution_count": null,
   "metadata": {},
   "outputs": [
    {
     "name": "stdout",
     "output_type": "stream",
     "text": [
      "Starting training from scratch.\n",
      "Epoch 1/2\n"
     ]
    },
    {
     "name": "stderr",
     "output_type": "stream",
     "text": [
      "2025-04-10 00:16:03.936945: I tensorflow/core/kernels/data/shuffle_dataset_op.cc:177] Filling up shuffle buffer (this may take a while): 36 of 516\n",
      "2025-04-10 00:16:13.830521: I tensorflow/core/kernels/data/shuffle_dataset_op.cc:177] Filling up shuffle buffer (this may take a while): 80 of 516\n"
     ]
    },
    {
     "name": "stdout",
     "output_type": "stream",
     "text": [
      "Advertencia: ../data/train/Shoplifting042_x264.mp4 tiene menos frames que los requeridos. Usando todo el video.\n"
     ]
    },
    {
     "name": "stderr",
     "output_type": "stream",
     "text": [
      "2025-04-10 00:16:23.717079: I tensorflow/core/kernels/data/shuffle_dataset_op.cc:177] Filling up shuffle buffer (this may take a while): 116 of 516\n",
      "2025-04-10 00:16:33.845223: I tensorflow/core/kernels/data/shuffle_dataset_op.cc:177] Filling up shuffle buffer (this may take a while): 146 of 516\n",
      "2025-04-10 00:16:44.027830: I tensorflow/core/kernels/data/shuffle_dataset_op.cc:177] Filling up shuffle buffer (this may take a while): 177 of 516\n",
      "2025-04-10 00:16:53.941140: I tensorflow/core/kernels/data/shuffle_dataset_op.cc:177] Filling up shuffle buffer (this may take a while): 213 of 516\n",
      "2025-04-10 00:17:03.779672: I tensorflow/core/kernels/data/shuffle_dataset_op.cc:177] Filling up shuffle buffer (this may take a while): 243 of 516\n",
      "2025-04-10 00:17:13.799831: I tensorflow/core/kernels/data/shuffle_dataset_op.cc:177] Filling up shuffle buffer (this may take a while): 275 of 516\n",
      "2025-04-10 00:17:23.836297: I tensorflow/core/kernels/data/shuffle_dataset_op.cc:177] Filling up shuffle buffer (this may take a while): 306 of 516\n",
      "2025-04-10 00:17:33.737967: I tensorflow/core/kernels/data/shuffle_dataset_op.cc:177] Filling up shuffle buffer (this may take a while): 340 of 516\n",
      "2025-04-10 00:17:43.881684: I tensorflow/core/kernels/data/shuffle_dataset_op.cc:177] Filling up shuffle buffer (this may take a while): 374 of 516\n",
      "2025-04-10 00:17:54.096220: I tensorflow/core/kernels/data/shuffle_dataset_op.cc:177] Filling up shuffle buffer (this may take a while): 410 of 516\n",
      "2025-04-10 00:18:03.847442: I tensorflow/core/kernels/data/shuffle_dataset_op.cc:177] Filling up shuffle buffer (this may take a while): 443 of 516\n",
      "2025-04-10 00:18:13.717906: I tensorflow/core/kernels/data/shuffle_dataset_op.cc:177] Filling up shuffle buffer (this may take a while): 472 of 516\n",
      "2025-04-10 00:18:23.912635: I tensorflow/core/kernels/data/shuffle_dataset_op.cc:177] Filling up shuffle buffer (this may take a while): 505 of 516\n",
      "2025-04-10 00:18:26.469185: I tensorflow/core/kernels/data/shuffle_dataset_op.cc:230] Shuffle buffer filled.\n"
     ]
    },
    {
     "name": "stdout",
     "output_type": "stream",
     "text": [
      "65/65 [==============================] - 189s 562ms/step - loss: 0.6951 - accuracy: 0.5446 - val_loss: 0.6988 - val_accuracy: 0.4923\n",
      "Epoch 2/2\n"
     ]
    },
    {
     "name": "stderr",
     "output_type": "stream",
     "text": [
      "2025-04-10 00:19:17.152102: I tensorflow/core/kernels/data/shuffle_dataset_op.cc:177] Filling up shuffle buffer (this may take a while): 37 of 516\n",
      "2025-04-10 00:19:27.330292: I tensorflow/core/kernels/data/shuffle_dataset_op.cc:177] Filling up shuffle buffer (this may take a while): 82 of 516\n"
     ]
    },
    {
     "name": "stdout",
     "output_type": "stream",
     "text": [
      "Advertencia: ../data/train/Shoplifting042_x264.mp4 tiene menos frames que los requeridos. Usando todo el video.\n"
     ]
    },
    {
     "name": "stderr",
     "output_type": "stream",
     "text": [
      "2025-04-10 00:19:37.620690: I tensorflow/core/kernels/data/shuffle_dataset_op.cc:177] Filling up shuffle buffer (this may take a while): 121 of 516\n",
      "2025-04-10 00:19:47.172707: I tensorflow/core/kernels/data/shuffle_dataset_op.cc:177] Filling up shuffle buffer (this may take a while): 149 of 516\n",
      "2025-04-10 00:19:57.201047: I tensorflow/core/kernels/data/shuffle_dataset_op.cc:177] Filling up shuffle buffer (this may take a while): 179 of 516\n",
      "2025-04-10 00:20:07.391951: I tensorflow/core/kernels/data/shuffle_dataset_op.cc:177] Filling up shuffle buffer (this may take a while): 215 of 516\n",
      "2025-04-10 00:20:17.219161: I tensorflow/core/kernels/data/shuffle_dataset_op.cc:177] Filling up shuffle buffer (this may take a while): 246 of 516\n",
      "2025-04-10 00:20:27.185639: I tensorflow/core/kernels/data/shuffle_dataset_op.cc:177] Filling up shuffle buffer (this may take a while): 280 of 516\n",
      "2025-04-10 00:20:37.349930: I tensorflow/core/kernels/data/shuffle_dataset_op.cc:177] Filling up shuffle buffer (this may take a while): 312 of 516\n",
      "2025-04-10 00:20:47.292338: I tensorflow/core/kernels/data/shuffle_dataset_op.cc:177] Filling up shuffle buffer (this may take a while): 346 of 516\n",
      "2025-04-10 00:20:57.169737: I tensorflow/core/kernels/data/shuffle_dataset_op.cc:177] Filling up shuffle buffer (this may take a while): 379 of 516\n",
      "2025-04-10 00:21:07.414376: I tensorflow/core/kernels/data/shuffle_dataset_op.cc:177] Filling up shuffle buffer (this may take a while): 417 of 516\n",
      "2025-04-10 00:21:17.241555: I tensorflow/core/kernels/data/shuffle_dataset_op.cc:177] Filling up shuffle buffer (this may take a while): 447 of 516\n",
      "2025-04-10 00:21:27.148518: I tensorflow/core/kernels/data/shuffle_dataset_op.cc:177] Filling up shuffle buffer (this may take a while): 477 of 516\n",
      "2025-04-10 00:21:37.252676: I tensorflow/core/kernels/data/shuffle_dataset_op.cc:177] Filling up shuffle buffer (this may take a while): 513 of 516\n",
      "2025-04-10 00:21:37.842201: I tensorflow/core/kernels/data/shuffle_dataset_op.cc:230] Shuffle buffer filled.\n"
     ]
    },
    {
     "name": "stdout",
     "output_type": "stream",
     "text": [
      "65/65 [==============================] - 184s 516ms/step - loss: 0.6995 - accuracy: 0.5252 - val_loss: 0.6911 - val_accuracy: 0.5077\n"
     ]
    }
   ],
   "source": [
    "history2, history_full2 = train_with_checkpoints(\n",
    "    model_2,\n",
    "    train_dataset,\n",
    "    val_dataset,\n",
    "    epochs=epochs,\n",
    "    checkpoint_dir=\"checkpoints/i3d_convlstm\",\n",
    "    one_cycle_scheduler=one_cycle_scheduler\n",
    ")"
   ]
  },
  {
   "cell_type": "code",
   "execution_count": null,
   "metadata": {},
   "outputs": [
    {
     "name": "stderr",
     "output_type": "stream",
     "text": [
      "2025-04-08 00:23:24.822227: I tensorflow/core/kernels/data/shuffle_dataset_op.cc:177] Filling up shuffle buffer (this may take a while): 36 of 516\n",
      "2025-04-08 00:23:34.738983: I tensorflow/core/kernels/data/shuffle_dataset_op.cc:177] Filling up shuffle buffer (this may take a while): 80 of 516\n",
      "2025-04-08 00:23:44.768291: I tensorflow/core/kernels/data/shuffle_dataset_op.cc:177] Filling up shuffle buffer (this may take a while): 118 of 516\n",
      "2025-04-08 00:23:54.758586: I tensorflow/core/kernels/data/shuffle_dataset_op.cc:177] Filling up shuffle buffer (this may take a while): 147 of 516\n",
      "2025-04-08 00:24:04.735871: I tensorflow/core/kernels/data/shuffle_dataset_op.cc:177] Filling up shuffle buffer (this may take a while): 177 of 516\n",
      "2025-04-08 00:24:15.207309: I tensorflow/core/kernels/data/shuffle_dataset_op.cc:177] Filling up shuffle buffer (this may take a while): 214 of 516\n",
      "2025-04-08 00:24:25.096524: I tensorflow/core/kernels/data/shuffle_dataset_op.cc:177] Filling up shuffle buffer (this may take a while): 245 of 516\n",
      "2025-04-08 00:24:35.073411: I tensorflow/core/kernels/data/shuffle_dataset_op.cc:177] Filling up shuffle buffer (this may take a while): 277 of 516\n",
      "2025-04-08 00:24:44.909135: I tensorflow/core/kernels/data/shuffle_dataset_op.cc:177] Filling up shuffle buffer (this may take a while): 308 of 516\n",
      "2025-04-08 00:24:54.990876: I tensorflow/core/kernels/data/shuffle_dataset_op.cc:177] Filling up shuffle buffer (this may take a while): 342 of 516\n",
      "2025-04-08 00:25:05.219208: I tensorflow/core/kernels/data/shuffle_dataset_op.cc:177] Filling up shuffle buffer (this may take a while): 375 of 516\n",
      "2025-04-08 00:25:14.940084: I tensorflow/core/kernels/data/shuffle_dataset_op.cc:177] Filling up shuffle buffer (this may take a while): 410 of 516\n",
      "2025-04-08 00:25:24.723787: I tensorflow/core/kernels/data/shuffle_dataset_op.cc:177] Filling up shuffle buffer (this may take a while): 443 of 516\n",
      "2025-04-08 00:25:35.041384: I tensorflow/core/kernels/data/shuffle_dataset_op.cc:177] Filling up shuffle buffer (this may take a while): 473 of 516\n",
      "2025-04-08 00:25:44.914423: I tensorflow/core/kernels/data/shuffle_dataset_op.cc:177] Filling up shuffle buffer (this may take a while): 505 of 516\n",
      "2025-04-08 00:25:47.466789: I tensorflow/core/kernels/data/shuffle_dataset_op.cc:230] Shuffle buffer filled.\n"
     ]
    },
    {
     "name": "stdout",
     "output_type": "stream",
     "text": [
      "65/65 [==============================] - 161s 121ms/step - loss: 0.5442 - accuracy: 0.7287\n"
     ]
    }
   ],
   "source": [
    "train_results = model_2.evaluate(train_dataset, verbose=1)"
   ]
  },
  {
   "cell_type": "code",
   "execution_count": null,
   "metadata": {},
   "outputs": [
    {
     "name": "stdout",
     "output_type": "stream",
     "text": [
      "      3/Unknown - 7s 2s/step - loss: 0.3391 - accuracy: 0.9583"
     ]
    },
    {
     "name": "stdout",
     "output_type": "stream",
     "text": [
      "9/9 [==============================] - 18s 2s/step - loss: 0.5186 - accuracy: 0.8000\n"
     ]
    }
   ],
   "source": [
    "# Evaluar en el conjunto de validación\n",
    "val_results = model_2.evaluate(val_dataset, verbose=1)"
   ]
  },
  {
   "cell_type": "code",
   "execution_count": null,
   "metadata": {},
   "outputs": [
    {
     "name": "stdout",
     "output_type": "stream",
     "text": [
      "9/9 [==============================] - 20s 2s/step - loss: 0.6887 - accuracy: 0.5692\n"
     ]
    }
   ],
   "source": [
    "# Evaluar en el conjunto de prueba\n",
    "test_results = model_2.evaluate(test_dataset, verbose=1)"
   ]
  },
  {
   "cell_type": "code",
   "execution_count": null,
   "metadata": {},
   "outputs": [
    {
     "name": "stdout",
     "output_type": "stream",
     "text": [
      "\n",
      "Resultados Finales:\n",
      "Train - Loss: 0.5442267656326294, Accuracy: 0.7286821603775024\n",
      "Val - Loss: 0.5185882449150085, Accuracy: 0.800000011920929\n",
      "Test - Loss: 0.6710519194602966, Accuracy: 0.6615384817123413\n"
     ]
    }
   ],
   "source": [
    "print(\"\\nResultados Finales:\")\n",
    "print(f\"Train - Loss: {train_results[0]}, Accuracy: {train_results[1]}\")\n",
    "print(f\"Val - Loss: {val_results[0]}, Accuracy: {val_results[1]}\")\n",
    "print(f\"Test - Loss: {test_results[0]}, Accuracy: {test_results[1]}\")"
   ]
  },
  {
   "cell_type": "markdown",
   "metadata": {},
   "source": [
    "### Evolución del Learning rate"
   ]
  },
  {
   "cell_type": "code",
   "execution_count": null,
   "metadata": {},
   "outputs": [
    {
     "data": {
      "image/png": "[encoded data removed]",
      "text/plain": [
       "<Figure size 640x480 with 1 Axes>"
      ]
     },
     "metadata": {},
     "output_type": "display_data"
    }
   ],
   "source": [
    "import matplotlib.pyplot as plt  # Corrección en la importación\n",
    "lrs = [one_cycle_scheduler(epoch, initial_learning_rate) for epoch in range(epochs)]\n",
    "plt.plot(range(epochs), lrs)\n",
    "plt.xlabel(\"Época\")\n",
    "plt.ylabel(\"Learning Rate\")\n",
    "plt.title(\"One Cycle Policy - Learning Rate Schedule\")\n",
    "plt.show()"
   ]
  },
  {
   "cell_type": "markdown",
   "metadata": {},
   "source": [
    "### Gráfica Epochs vs Loss"
   ]
  },
  {
   "cell_type": "code",
   "execution_count": null,
   "metadata": {},
   "outputs": [
    {
     "data": {
      "image/png": "[encoded data removed]",
      "text/plain": [
       "<Figure size 640x480 with 1 Axes>"
      ]
     },
     "metadata": {},
     "output_type": "display_data"
    }
   ],
   "source": [
    "import matplotlib.pyplot as plt\n",
    "\n",
    "# Extraer la pérdida de entrenamiento y validación\n",
    "loss = history.history['loss']\n",
    "val_loss = history.history['val_loss']\n",
    "\n",
    "# Crear la gráfica\n",
    "plt.plot(range(1, len(loss) + 1), loss, label='Training Loss', marker='o')\n",
    "plt.plot(range(1, len(val_loss) + 1), val_loss, label='Validation Loss', marker='o')\n",
    "\n",
    "# Etiquetas y título\n",
    "plt.xlabel('Epochs')\n",
    "plt.ylabel('Loss')\n",
    "plt.title('Epochs vs Loss')\n",
    "plt.legend()\n",
    "plt.grid(True)\n",
    "plt.show()"
   ]
  },
  {
   "cell_type": "markdown",
   "metadata": {},
   "source": [
    "### Visualización del Modelo con TSNE"
   ]
  },
  {
   "cell_type": "code",
   "execution_count": null,
   "metadata": {},
   "outputs": [
    {
     "name": "stdout",
     "output_type": "stream",
     "text": [
      "Num samples: 65, Usando perplexity=10\n"
     ]
    },
    {
     "data": {
      "image/png": "[encoded data removed]",
      "text/plain": [
       "<Figure size 1000x800 with 1 Axes>"
      ]
     },
     "metadata": {},
     "output_type": "display_data"
    }
   ],
   "source": [
    "from sklearn.manifold import TSNE\n",
    "\n",
    "# Obtener las representaciones del modelo\n",
    "x_test = model_2.predict(test_dataset)  # Extrae los embeddings\n",
    "y_test = np.concatenate([y for _, y in test_dataset])  # Obtener etiquetas reales\n",
    "\n",
    "# Verificar el número de muestras\n",
    "num_samples = x_test.shape[0]\n",
    "perplexity_value = min(10, num_samples - 1)  # Ajustar perplexity dinámicamente\n",
    "\n",
    "print(f\"Num samples: {num_samples}, Usando perplexity={perplexity_value}\")\n",
    "\n",
    "# Aplicar t-SNE con un perplexity válido\n",
    "tsne = TSNE(n_components=2, random_state=42, perplexity=perplexity_value)\n",
    "x_test_tsne = tsne.fit_transform(x_test)\n",
    "\n",
    "# Visualización\n",
    "plt.figure(figsize=(10, 8))\n",
    "for i in np.unique(y_test):\n",
    "    idx = np.where(y_test == i)[0]\n",
    "    plt.scatter(x_test_tsne[idx, 0], x_test_tsne[idx, 1], label=f\"Clase {i}\")\n",
    "\n",
    "plt.title(\"Visualización t-SNE de los embeddings del conjunto de prueba\")\n",
    "plt.xlabel(\"Componente t-SNE 1\")\n",
    "plt.ylabel(\"Componente t-SNE 2\")\n",
    "plt.legend(title=\"Clases\")\n",
    "plt.grid(True)\n",
    "plt.show()"
   ]
  },
  {
   "cell_type": "markdown",
   "metadata": {},
   "source": [
    "## Comparación de modelos"
   ]
  },
  {
   "cell_type": "code",
   "execution_count": null,
   "metadata": {},
   "outputs": [
    {
     "name": "stdout",
     "output_type": "stream",
     "text": [
      "---------------------------------------------\n",
      "Modelo I3D\n",
      "Classification Report:\n",
      "               precision    recall  f1-score   support\n",
      "\n",
      "           0       0.50      0.45      0.48        33\n",
      "           1       0.49      0.53      0.51        32\n",
      "\n",
      "    accuracy                           0.49        65\n",
      "   macro avg       0.49      0.49      0.49        65\n",
      "weighted avg       0.49      0.49      0.49        65\n",
      "\n",
      "Confusion Matrix:\n",
      " [[15 18]\n",
      " [15 17]]\n",
      "---------------------------------------------\n",
      "Modelo I3D+ConvLSTM\n",
      "Classification Report:\n",
      "               precision    recall  f1-score   support\n",
      "\n",
      "           0       0.64      0.76      0.69        33\n",
      "           1       0.69      0.56      0.62        32\n",
      "\n",
      "    accuracy                           0.66        65\n",
      "   macro avg       0.67      0.66      0.66        65\n",
      "weighted avg       0.67      0.66      0.66        65\n",
      "\n",
      "Confusion Matrix:\n",
      " [[25  8]\n",
      " [14 18]]\n"
     ]
    }
   ],
   "source": [
    "from sklearn.metrics import classification_report, confusion_matrix\n",
    "print('---------------------------------------------')\n",
    "print(\"Modelo I3D\")\n",
    "# Obtener predicciones en el conjunto de prueba\n",
    "y_pred = model_1.predict(test_dataset).argmax(axis=1)\n",
    "\n",
    "# Obtener etiquetas reales del conjunto de prueba\n",
    "y_true = np.concatenate([y.numpy() for _, y in test_dataset])  # Convertir a numpy si es un tensor\n",
    "\n",
    "# Imprimir el reporte de clasificación\n",
    "print(\"Classification Report:\\n\", classification_report(y_true, y_pred))\n",
    "\n",
    "# Imprimir la matriz de confusión\n",
    "print(\"Confusion Matrix:\\n\", confusion_matrix(y_true, y_pred))\n",
    "\n",
    "print('---------------------------------------------')\n",
    "print(\"Modelo I3D+ConvLSTM\")\n",
    "\n",
    "# Obtener predicciones en el conjunto de prueba\n",
    "y_pred = model_2.predict(test_dataset).argmax(axis=1)\n",
    "\n",
    "# Obtener etiquetas reales del conjunto de prueba\n",
    "y_true = np.concatenate([y.numpy() for _, y in test_dataset])  # Convertir a numpy si es un tensor\n",
    "\n",
    "# Imprimir el reporte de clasificación\n",
    "print(\"Classification Report:\\n\", classification_report(y_true, y_pred))\n",
    "\n",
    "# Imprimir la matriz de confusión\n",
    "print(\"Confusion Matrix:\\n\", confusion_matrix(y_true, y_pred))"
   ]
  },
  {
   "cell_type": "markdown",
   "metadata": {},
   "source": []
  }
 ],
 "metadata": {
  "kernelspec": {
   "display_name": "proyecto_i3d",
   "language": "python",
   "name": "python3"
  },
  "language_info": {
   "codemirror_mode": {
    "name": "ipython",
    "version": 3
   },
   "file_extension": ".py",
   "mimetype": "text/x-python",
   "name": "python",
   "nbconvert_exporter": "python",
   "pygments_lexer": "ipython3",
   "version": "3.9.22"
  }
 },
 "nbformat": 4,
 "nbformat_minor": 2
}
