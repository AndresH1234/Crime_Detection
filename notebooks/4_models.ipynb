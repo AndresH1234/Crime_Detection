{
 "cells": [
  {
   "cell_type": "markdown",
   "metadata": {},
   "source": [
    "# Models Creation"
   ]
  },
  {
   "cell_type": "code",
   "execution_count": 24,
   "metadata": {},
   "outputs": [],
   "source": [
    "import cv2\n",
    "import numpy as np\n",
    "import os\n",
    "import sys\n",
    "import pandas as pd\n",
    "from sklearn.model_selection import train_test_split"
   ]
  },
  {
   "cell_type": "code",
   "execution_count": 25,
   "metadata": {},
   "outputs": [],
   "source": [
    "import tensorflow as tf"
   ]
  },
  {
   "cell_type": "code",
   "execution_count": 26,
   "metadata": {},
   "outputs": [
    {
     "name": "stdout",
     "output_type": "stream",
     "text": [
      "GPUs disponibles:\n",
      "GPU 0: PhysicalDevice(name='/physical_device:GPU:0', device_type='GPU')\n",
      "GPU 1: PhysicalDevice(name='/physical_device:GPU:1', device_type='GPU')\n",
      "Configuración de GPU establecida correctamente.\n"
     ]
    }
   ],
   "source": [
    "# Listar GPUs disponibles\n",
    "gpus = tf.config.experimental.list_physical_devices('GPU')\n",
    "\n",
    "if gpus:\n",
    "    try:\n",
    "        # Asegúrate de que la GPU 1 existe\n",
    "        print(\"GPUs disponibles:\")\n",
    "        for i, gpu in enumerate(gpus):\n",
    "            print(f\"GPU {i}: {gpu}\")\n",
    "\n",
    "        # Limitar visibilidad a solo la GPU 1\n",
    "        tf.config.experimental.set_visible_devices(gpus[1], 'GPU')\n",
    "\n",
    "        # Establecer límite de memoria a 40 GB\n",
    "        tf.config.experimental.set_virtual_device_configuration(\n",
    "            gpus[1],\n",
    "            [tf.config.experimental.VirtualDeviceConfiguration(memory_limit=40960)]\n",
    "        )\n",
    "\n",
    "        print(\"Configuración de GPU establecida correctamente.\")\n",
    "    except RuntimeError as e:\n",
    "        print(\"Error al configurar la GPU:\", e)\n",
    "else:\n",
    "    print(\"No se encontraron GPUs disponibles.\")"
   ]
  },
  {
   "cell_type": "code",
   "execution_count": 27,
   "metadata": {},
   "outputs": [],
   "source": [
    "os.environ['TF_DETERMINISTIC_OPS'] = '1'"
   ]
  },
  {
   "cell_type": "code",
   "execution_count": 28,
   "metadata": {},
   "outputs": [],
   "source": [
    "# Poner todas las seed en 42\n",
    "import random\n",
    "seed = 42\n",
    "random.seed(seed)\n",
    "np.random.seed(seed)\n",
    "tf.random.set_seed(seed)"
   ]
  },
  {
   "cell_type": "code",
   "execution_count": 29,
   "metadata": {},
   "outputs": [],
   "source": [
    "# Agrega el path al directorio raíz del proyecto\n",
    "sys.path.append(os.path.abspath(\"..\"))\n",
    "from models.i3d import InceptionI3d, Logits"
   ]
  },
  {
   "cell_type": "code",
   "execution_count": 30,
   "metadata": {},
   "outputs": [],
   "source": [
    "train_df = pd.read_csv(\"../data/ml/train.csv\")\n",
    "valid_df = pd.read_csv(\"../data/ml/valid.csv\")\n",
    "test_df = pd.read_csv(\"../data/ml/test.csv\")\n"
   ]
  },
  {
   "cell_type": "code",
   "execution_count": 31,
   "metadata": {},
   "outputs": [
    {
     "data": {
      "text/plain": [
       "'data = pd.read_csv(\"../data/ml/test.csv\")\\n# Dividir el dataset en train (80%), valid (10%), test (10%)\\ntrain_df, test_valid_df = train_test_split(data, test_size=0.2, random_state=42, stratify=data[\\'is_crime\\'])\\nvalid_df, test_df = train_test_split(test_valid_df, test_size=0.5, random_state=42)'"
      ]
     },
     "execution_count": 31,
     "metadata": {},
     "output_type": "execute_result"
    }
   ],
   "source": [
    "\"\"\"data = pd.read_csv(\"../data/ml/test.csv\")\n",
    "# Dividir el dataset en train (80%), valid (10%), test (10%)\n",
    "train_df, test_valid_df = train_test_split(data, test_size=0.2, random_state=42, stratify=data['is_crime'])\n",
    "valid_df, test_df = train_test_split(test_valid_df, test_size=0.5, random_state=42)\"\"\""
   ]
  },
  {
   "cell_type": "markdown",
   "metadata": {},
   "source": [
    "## Data Loader"
   ]
  },
  {
   "cell_type": "code",
   "execution_count": 32,
   "metadata": {},
   "outputs": [],
   "source": [
    "from tensorflow.keras.utils import to_categorical\n",
    "class VideoDataModule:\n",
    "    def __init__(self, train_df, val_df, test_df, batch_size=32, frame_size=(224, 224), num_frames=32):\n",
    "        self.train_df = train_df\n",
    "        self.val_df = val_df\n",
    "        self.test_df = test_df\n",
    "        self.batch_size = batch_size\n",
    "        self.frame_size = frame_size\n",
    "        self.num_frames = num_frames\n",
    "        tf.random.set_seed(42)  # Establecer la semilla\n",
    "\n",
    "    def _load_video_frames(self, video_path, start_frame, end_frame, training=False):\n",
    "        cap = cv2.VideoCapture(video_path)\n",
    "        \n",
    "        if not cap.isOpened():\n",
    "            print(f\"Error: No se pudo abrir el video {video_path}\")\n",
    "            return None\n",
    "        \n",
    "        frames = []\n",
    "        total_frames = int(cap.get(cv2.CAP_PROP_FRAME_COUNT))\n",
    "        \n",
    "        start_frame = int(start_frame) if not np.isnan(start_frame) else 0\n",
    "        end_frame = int(end_frame) if not np.isnan(end_frame) else total_frames\n",
    "        \n",
    "        # Chequear si el video tiene suficientes frames\n",
    "        if end_frame - start_frame < self.num_frames:\n",
    "            print(f\"Advertencia: {video_path} tiene menos frames que los requeridos. Usando todo el video.\")\n",
    "        \n",
    "        # Temporal offset aleatorio\n",
    "        if training:\n",
    "            # Ajustar máximo punto de inicio si hay menos frames disponibles que num_frames\n",
    "            max_start = max(start_frame, end_frame - self.num_frames * max(1, (end_frame - start_frame) // self.num_frames))\n",
    "            clip_start = np.random.randint(start_frame, max_start + 1)\n",
    "        else:\n",
    "            clip_start = start_frame\n",
    "        \n",
    "        cap.set(cv2.CAP_PROP_POS_FRAMES, clip_start)\n",
    "\n",
    "        step = max(1, (end_frame - start_frame) // self.num_frames)\n",
    "\n",
    "        for _ in range(self.num_frames):\n",
    "            ret, frame = cap.read()\n",
    "            if not ret:\n",
    "                break\n",
    "            \n",
    "            frame = cv2.cvtColor(frame, cv2.COLOR_BGR2RGB)\n",
    "            frame = tf.convert_to_tensor(frame, dtype=tf.float32)\n",
    "\n",
    "            if training:\n",
    "                # Padding + random crop\n",
    "                frame = tf.image.resize_with_crop_or_pad(frame, 240, 240)\n",
    "                frame = tf.image.random_crop(frame, size=[*self.frame_size, 3])\n",
    "                \n",
    "                # Augmentaciones base\n",
    "                frame = tf.image.random_flip_left_right(frame, seed=42)\n",
    "                frame = tf.image.random_brightness(frame, max_delta=0.2, seed=42)\n",
    "                frame = tf.image.random_contrast(frame, lower=0.8, upper=1.2, seed=42)\n",
    "                frame = tf.image.random_hue(frame, max_delta=0.05, seed=42)\n",
    "\n",
    "                # Posibilidad de añadir ruido o blur\n",
    "                if np.random.rand() < 0.2:\n",
    "                    noise = tf.random.normal(shape=tf.shape(frame), mean=0.0, stddev=5.0)\n",
    "                    frame = tf.clip_by_value(frame + noise, 0.0, 255.0)\n",
    "\n",
    "                if np.random.rand() < 0.2:\n",
    "                    # Blur usando OpenCV\n",
    "                    frame = tf.cast(frame, tf.uint8).numpy()\n",
    "                    frame = cv2.GaussianBlur(frame, (5, 5), 0)\n",
    "                    frame = tf.convert_to_tensor(frame, dtype=tf.float32)\n",
    "\n",
    "            else:\n",
    "                # Normal resize para validación/test\n",
    "                frame = tf.image.resize(frame, self.frame_size)\n",
    "\n",
    "            # Normalización final\n",
    "            frame = frame / 255.0\n",
    "            frames.append(frame.numpy())\n",
    "\n",
    "            for _ in range(step - 1):  # Saltar frames para ajustarse al total\n",
    "                cap.read()\n",
    "\n",
    "        cap.release()\n",
    "\n",
    "        # Si faltan frames, completamos con ceros\n",
    "        while len(frames) < self.num_frames:\n",
    "            frames.append(np.zeros((*self.frame_size, 3)))\n",
    "\n",
    "        return np.array(frames, dtype=np.float32)\n",
    "\n",
    "\n",
    "    def _dataframe_to_tf_dataset(self, df, shuffle=True, training=False):\n",
    "        file_paths = df[\"Path\"].values\n",
    "        start_frames = df[\"PCB\"].values\n",
    "        end_frames = df[\"End_Frame\"].values\n",
    "        labels = df[\"is_crime\"].values.astype(np.float32)  # Convertir a float32\n",
    "\n",
    "        def generator():\n",
    "            for i in range(len(file_paths)):\n",
    "                video_tensor = self._load_video_frames(file_paths[i], start_frames[i], end_frames[i], training)\n",
    "                # Cambiamos la forma de la etiqueta para que sea (1,) en lugar de un escalar\n",
    "                yield video_tensor, np.array([labels[i]], dtype=np.float32)\n",
    "\n",
    "        dataset = tf.data.Dataset.from_generator(\n",
    "            generator,\n",
    "            output_signature=(\n",
    "                tf.TensorSpec(shape=(self.num_frames, *self.frame_size, 3), dtype=tf.float32),\n",
    "                tf.TensorSpec(shape=(1,), dtype=tf.float32),  # Cambiado a (1,) en lugar de (2,)\n",
    "            ),\n",
    "        )\n",
    "\n",
    "        if shuffle:\n",
    "            dataset = dataset.shuffle(\n",
    "                buffer_size=min(max(1000, len(df)//10), len(df)),  \n",
    "                seed=42,  \n",
    "                reshuffle_each_iteration=True  \n",
    "            )\n",
    "\n",
    "        dataset = dataset.batch(self.batch_size).prefetch(tf.data.AUTOTUNE)\n",
    "        return dataset\n",
    "\n",
    "    def train_dataset(self):\n",
    "        return self._dataframe_to_tf_dataset(self.train_df, shuffle=True, training=True)\n",
    "\n",
    "    def val_dataset(self):\n",
    "        return self._dataframe_to_tf_dataset(self.val_df, shuffle=False, training=False)\n",
    "\n",
    "    def test_dataset(self):\n",
    "        return self._dataframe_to_tf_dataset(self.test_df, shuffle=False, training=False)"
   ]
  },
  {
   "cell_type": "markdown",
   "metadata": {},
   "source": [
    "## Train with checkpoints"
   ]
  },
  {
   "cell_type": "code",
   "execution_count": 33,
   "metadata": {},
   "outputs": [],
   "source": [
    "from tensorflow.keras.callbacks import EarlyStopping, ModelCheckpoint, LearningRateScheduler\n",
    "def train_with_checkpoints(model, train_dataset, val_dataset, epochs, checkpoint_dir, one_cycle_scheduler):\n",
    "    os.makedirs(checkpoint_dir, exist_ok=True)\n",
    "\n",
    "    last_epoch_file = os.path.join(checkpoint_dir, \"last_epoch.npy\")\n",
    "    history_file = os.path.join(checkpoint_dir, \"history.npy\")\n",
    "\n",
    "    # Callback para guardar TODAS las épocas\n",
    "    full_history_callback = ModelCheckpoint(\n",
    "        filepath=os.path.join(checkpoint_dir, \"epoch_{epoch:02d}\"),\n",
    "        save_freq='epoch',\n",
    "        save_weights_only=True\n",
    "    )\n",
    "\n",
    "    # Callback para guardar solo el MEJOR modelo\n",
    "    best_model_callback = ModelCheckpoint(\n",
    "        filepath=os.path.join(checkpoint_dir, \"best_model\"),\n",
    "        monitor=\"val_loss\",\n",
    "        mode=\"min\",\n",
    "        save_best_only=True,\n",
    "        save_weights_only=True\n",
    "    )\n",
    "\n",
    "    # Intentar cargar la última época guardada\n",
    "    if os.path.exists(last_epoch_file):\n",
    "        initial_epoch = int(np.load(last_epoch_file))\n",
    "        model.load_weights(os.path.join(checkpoint_dir, \"best_model\"))\n",
    "        print(f\"Resuming training from epoch {initial_epoch}\")\n",
    "    else:\n",
    "        initial_epoch = 0\n",
    "        print(\"Starting training from scratch.\")\n",
    "\n",
    "    # Callback para detener el entrenamiento si no hay mejora\n",
    "    early_stop_callback = EarlyStopping(\n",
    "        monitor=\"val_loss\", \n",
    "        patience=20, \n",
    "        mode=\"min\", \n",
    "        restore_best_weights=True\n",
    "    )\n",
    "\n",
    "    # Callback para guardar la época actual\n",
    "    class EpochSaver(tf.keras.callbacks.Callback):\n",
    "        def on_epoch_end(self, epoch, logs=None):\n",
    "            np.save(last_epoch_file, epoch + 1)\n",
    "\n",
    "    # Callback para guardar historial después de cada época\n",
    "    class HistorySaver(tf.keras.callbacks.Callback):\n",
    "        def on_epoch_end(self, epoch, logs=None):\n",
    "            if logs is not None:\n",
    "                history_full['loss'].append(logs.get('loss', None))\n",
    "                history_full['val_loss'].append(logs.get('val_loss', None))\n",
    "                np.save(history_file, history_full)\n",
    "\n",
    "    epoch_saver_callback = EpochSaver()\n",
    "    history_saver_callback = HistorySaver()\n",
    "    lr_scheduler_callback = LearningRateScheduler(one_cycle_scheduler)\n",
    "    # Cargar historial previo si existe\n",
    "    if os.path.exists(history_file):\n",
    "        history_full = np.load(history_file, allow_pickle=True).item()\n",
    "    else:\n",
    "        history_full = {'loss': [], 'val_loss': []}\n",
    "\n",
    "    # Verificar si el entrenamiento ya ha terminado\n",
    "    if initial_epoch >= epochs:\n",
    "        print(\"Training already completed. No new epochs to run.\")\n",
    "        return None, history_full\n",
    "\n",
    "    # Iniciar entrenamiento\n",
    "    history = model.fit(\n",
    "        train_dataset,\n",
    "        validation_data=val_dataset,\n",
    "        epochs=epochs,\n",
    "        initial_epoch=initial_epoch,\n",
    "        callbacks=[ \n",
    "            best_model_callback, # Añadir early_stop_callback si es que no uso one cycle\n",
    "            full_history_callback, \n",
    "            epoch_saver_callback, \n",
    "            history_saver_callback, \n",
    "            lr_scheduler_callback\n",
    "        ],\n",
    "        verbose=1\n",
    "    )\n",
    "\n",
    "    return history, history_full"
   ]
  },
  {
   "cell_type": "markdown",
   "metadata": {},
   "source": [
    "## Max and Min Learning rate Finder"
   ]
  },
  {
   "cell_type": "code",
   "execution_count": 34,
   "metadata": {},
   "outputs": [],
   "source": [
    "import tensorflow as tf\n",
    "import numpy as np\n",
    "import matplotlib.pyplot as plt\n",
    "from typing import Optional, Tuple\n",
    "\n",
    "class LRFinder(tf.keras.callbacks.Callback):\n",
    "    def __init__(self, min_lr: float = 1e-6, max_lr: float = 1, steps: int = 100, smoothing: float = 0.05):\n",
    "        super().__init__()\n",
    "        self.min_lr = min_lr\n",
    "        self.max_lr = max_lr\n",
    "        self.total_steps = steps\n",
    "        self.smoothing = smoothing  # Para suavizado exponencial de la pérdida\n",
    "        self.lrs = []\n",
    "        self.losses = []\n",
    "        self.smoothed_losses = []\n",
    "        self.best_loss = float(\"inf\")\n",
    "        self._step = 0\n",
    "        self._avg_loss = 0\n",
    "\n",
    "    def on_train_begin(self, logs=None):\n",
    "        self._step = 0\n",
    "        self.lr_mult = (self.max_lr / self.min_lr) ** (1 / self.total_steps)\n",
    "        tf.keras.backend.set_value(self.model.optimizer.lr, self.min_lr)\n",
    "        self.lrs.clear()\n",
    "        self.losses.clear()\n",
    "        self.smoothed_losses.clear()\n",
    "        self.best_loss = float(\"inf\")\n",
    "        self._avg_loss = 0\n",
    "\n",
    "    def on_batch_end(self, batch, logs=None):\n",
    "        self._step += 1\n",
    "        lr = tf.keras.backend.get_value(self.model.optimizer.lr)\n",
    "        loss = logs[\"loss\"]\n",
    "        \n",
    "        # Suavizado exponencial de la pérdida\n",
    "        if self._step == 1:\n",
    "            self._avg_loss = loss\n",
    "        else:\n",
    "            self._avg_loss = self.smoothing * loss + (1 - self.smoothing) * self._avg_loss\n",
    "        \n",
    "        self.lrs.append(lr)\n",
    "        self.losses.append(loss)\n",
    "        self.smoothed_losses.append(self._avg_loss)\n",
    "\n",
    "        # Actualizar mejor pérdida\n",
    "        if self._avg_loss < self.best_loss:\n",
    "            self.best_loss = self._avg_loss\n",
    "\n",
    "        # Condición de parada\n",
    "        if self._step > self.total_steps or tf.math.is_nan(loss): # or loss > self.best_loss * 10:\n",
    "            self.model.stop_training = True\n",
    "            return\n",
    "\n",
    "        # Actualizar LR para el siguiente batch\n",
    "        lr *= self.lr_mult\n",
    "        tf.keras.backend.set_value(self.model.optimizer.lr, lr)\n",
    "\n",
    "    def plot_loss(self, skip_start: int = 10, skip_end: int = 5, log_scale: bool = True):\n",
    "        \"\"\"Grafica la pérdida vs learning rate.\"\"\"\n",
    "        lrs = self.lrs[skip_start:-skip_end or None]\n",
    "        losses = self.smoothed_losses[skip_start:-skip_end or None]\n",
    "        \n",
    "        fig, ax = plt.subplots(figsize=(10, 6))\n",
    "        ax.plot(lrs, losses)\n",
    "        \n",
    "        if log_scale:\n",
    "            ax.set_xscale('log')\n",
    "        \n",
    "        ax.set_xlabel('Learning Rate')\n",
    "        ax.set_ylabel('Loss')\n",
    "        ax.set_title('Learning Rate Finder')\n",
    "        ax.grid(True, which='both', linestyle='--', alpha=0.6)\n",
    "        return fig, ax\n",
    "\n",
    "    "
   ]
  },
  {
   "cell_type": "markdown",
   "metadata": {},
   "source": [
    "## I3D Model"
   ]
  },
  {
   "cell_type": "code",
   "execution_count": 35,
   "metadata": {},
   "outputs": [],
   "source": [
    "epochs = 100  # Número de épocas para el entrenamiento"
   ]
  },
  {
   "cell_type": "code",
   "execution_count": 36,
   "metadata": {},
   "outputs": [],
   "source": [
    "# Paso 1: Cargar el modelo preentrenado con 400 clases\n",
    "pretrained_i3d = InceptionI3d(num_classes=400, is_training=False, final_endpoint='Logits')\n",
    "\n",
    "# Paso 2: Ejecutar un forward pass para construir el modelo y variables\n",
    "dummy_input = tf.random.normal([1, 64, 224, 224, 3])\n",
    "pretrained_i3d(dummy_input)\n",
    "\n",
    "# Paso 3: Cargar el checkpoint preentrenado (ajusta la ruta si es necesario)\n",
    "checkpoint_path = '../models/checkpoints/rgb_imagenet/model.ckpt'\n",
    "ckpt = tf.train.Checkpoint(model=pretrained_i3d)\n",
    "ckpt.restore(checkpoint_path).expect_partial()  # Solo cargamos las capas comunes, no Logits final\n",
    "\n",
    "# Paso 4: Reemplazar la capa de logits con una nueva para clasificación binaria\n",
    "pretrained_i3d.Logits = Logits(num_classes=1, is_training=True, dropout_keep_prob=0.5)"
   ]
  },
  {
   "cell_type": "code",
   "execution_count": 37,
   "metadata": {},
   "outputs": [],
   "source": [
    "# Clase adaptadora para usar InceptionI3D como modelo de Keras\n",
    "class KerasI3D(tf.keras.Model):\n",
    "    def __init__(self, base_model):\n",
    "        super(KerasI3D, self).__init__()\n",
    "        self.i3d = base_model\n",
    "        # Añadir una capa de activación Sigmoid después del modelo base\n",
    "        self.sigmoid = tf.keras.layers.Activation('sigmoid')\n",
    "\n",
    "    def call(self, inputs, training=False):\n",
    "        logits, _ = self.i3d(inputs)  # salida de logits sin activación\n",
    "        probabilities = self.sigmoid(logits)  # aplicar sigmoide a los logits\n",
    "        return probabilities"
   ]
  },
  {
   "cell_type": "markdown",
   "metadata": {},
   "source": [
    "### Modelo"
   ]
  },
  {
   "cell_type": "code",
   "execution_count": 38,
   "metadata": {},
   "outputs": [],
   "source": [
    "initial_learning_rate = 1e-8"
   ]
  },
  {
   "cell_type": "code",
   "execution_count": 39,
   "metadata": {},
   "outputs": [],
   "source": [
    "from tensorflow.keras.metrics import AUC\n",
    "\n",
    "# Crear el DataModule\n",
    "data_module = VideoDataModule(train_df, valid_df, test_df, batch_size=8)\n",
    "# Obtener los datasets\n",
    "train_dataset = data_module.train_dataset()\n",
    "val_dataset = data_module.val_dataset()\n",
    "test_dataset = data_module.test_dataset()\n",
    "model_1 = KerasI3D(pretrained_i3d)\n",
    "optimizer = tf.keras.optimizers.Adam(\n",
    "    learning_rate=initial_learning_rate,\n",
    ")\n",
    "loss_fn = tf.keras.losses.BinaryCrossentropy(from_logits=False)\n",
    "model_1.compile(optimizer=optimizer, loss=loss_fn, metrics=[\"accuracy\", AUC(name=\"auc\")])"
   ]
  },
  {
   "cell_type": "code",
   "execution_count": 40,
   "metadata": {},
   "outputs": [
    {
     "name": "stderr",
     "output_type": "stream",
     "text": [
      "2025-04-16 02:58:38.921787: I tensorflow/core/kernels/data/shuffle_dataset_op.cc:177] Filling up shuffle buffer (this may take a while): 33 of 516\n",
      "2025-04-16 02:58:48.554370: I tensorflow/core/kernels/data/shuffle_dataset_op.cc:177] Filling up shuffle buffer (this may take a while): 70 of 516\n"
     ]
    },
    {
     "name": "stdout",
     "output_type": "stream",
     "text": [
      "Advertencia: ../data/train/Shoplifting042_x264.mp4 tiene menos frames que los requeridos. Usando todo el video.\n"
     ]
    },
    {
     "name": "stderr",
     "output_type": "stream",
     "text": [
      "2025-04-16 02:58:58.396557: I tensorflow/core/kernels/data/shuffle_dataset_op.cc:177] Filling up shuffle buffer (this may take a while): 101 of 516\n",
      "2025-04-16 02:59:08.608946: I tensorflow/core/kernels/data/shuffle_dataset_op.cc:177] Filling up shuffle buffer (this may take a while): 134 of 516\n",
      "2025-04-16 02:59:18.482440: I tensorflow/core/kernels/data/shuffle_dataset_op.cc:177] Filling up shuffle buffer (this may take a while): 159 of 516\n",
      "2025-04-16 02:59:28.713176: I tensorflow/core/kernels/data/shuffle_dataset_op.cc:177] Filling up shuffle buffer (this may take a while): 190 of 516\n",
      "2025-04-16 02:59:39.034499: I tensorflow/core/kernels/data/shuffle_dataset_op.cc:177] Filling up shuffle buffer (this may take a while): 219 of 516\n",
      "2025-04-16 02:59:48.573709: I tensorflow/core/kernels/data/shuffle_dataset_op.cc:177] Filling up shuffle buffer (this may take a while): 246 of 516\n",
      "2025-04-16 02:59:58.516179: I tensorflow/core/kernels/data/shuffle_dataset_op.cc:177] Filling up shuffle buffer (this may take a while): 276 of 516\n",
      "2025-04-16 03:00:08.557598: I tensorflow/core/kernels/data/shuffle_dataset_op.cc:177] Filling up shuffle buffer (this may take a while): 303 of 516\n",
      "2025-04-16 03:00:18.560224: I tensorflow/core/kernels/data/shuffle_dataset_op.cc:177] Filling up shuffle buffer (this may take a while): 334 of 516\n",
      "2025-04-16 03:00:28.510962: I tensorflow/core/kernels/data/shuffle_dataset_op.cc:177] Filling up shuffle buffer (this may take a while): 362 of 516\n",
      "2025-04-16 03:00:38.404984: I tensorflow/core/kernels/data/shuffle_dataset_op.cc:177] Filling up shuffle buffer (this may take a while): 394 of 516\n",
      "2025-04-16 03:00:48.621215: I tensorflow/core/kernels/data/shuffle_dataset_op.cc:177] Filling up shuffle buffer (this may take a while): 429 of 516\n",
      "2025-04-16 03:00:58.555073: I tensorflow/core/kernels/data/shuffle_dataset_op.cc:177] Filling up shuffle buffer (this may take a while): 454 of 516\n",
      "2025-04-16 03:01:08.496654: I tensorflow/core/kernels/data/shuffle_dataset_op.cc:177] Filling up shuffle buffer (this may take a while): 481 of 516\n",
      "2025-04-16 03:01:18.404230: I tensorflow/core/kernels/data/shuffle_dataset_op.cc:177] Filling up shuffle buffer (this may take a while): 513 of 516\n",
      "2025-04-16 03:01:19.100017: I tensorflow/core/kernels/data/shuffle_dataset_op.cc:230] Shuffle buffer filled.\n"
     ]
    },
    {
     "name": "stdout",
     "output_type": "stream",
     "text": [
      "      6/Unknown - 177s 263ms/step - loss: 0.6925 - accuracy: 0.5833 - auc: 0.5260WARNING:tensorflow:Callback method `on_train_batch_end` is slow compared to the batch time (batch time: 0.1143s vs `on_train_batch_end` time: 0.1472s). Check your callbacks.\n",
      "65/65 [==============================] - 192s 255ms/step - loss: 119.1605 - accuracy: 0.5891 - auc: 0.5906\n"
     ]
    },
    {
     "data": {
      "text/plain": [
       "<tensorflow.python.keras.callbacks.History at 0x7f50838dc850>"
      ]
     },
     "execution_count": 40,
     "metadata": {},
     "output_type": "execute_result"
    }
   ],
   "source": [
    "# Instanciar el LRFinder\n",
    "lr_finder = LRFinder(min_lr=initial_learning_rate, max_lr=7e-2, steps=65, smoothing=0.1)\n",
    "\n",
    "model_1.fit(\n",
    "    train_dataset.take(200),  \n",
    "    epochs=1,\n",
    "    callbacks=[lr_finder]\n",
    ")"
   ]
  },
  {
   "cell_type": "code",
   "execution_count": 41,
   "metadata": {},
   "outputs": [
    {
     "data": {
      "image/png": "[encoded data removed]",
      "text/plain": [
       "<Figure size 1000x600 with 1 Axes>"
      ]
     },
     "metadata": {},
     "output_type": "display_data"
    }
   ],
   "source": [
    "# Visualización\n",
    "fix, ax = lr_finder.plot_loss()\n",
    "plt.show()"
   ]
  },
  {
   "cell_type": "code",
   "execution_count": 42,
   "metadata": {},
   "outputs": [
    {
     "data": {
      "image/png": "[encoded data removed]",
      "text/plain": [
       "<Figure size 1000x600 with 1 Axes>"
      ]
     },
     "metadata": {},
     "output_type": "display_data"
    }
   ],
   "source": [
    "# Incluye el min_lir y el max_lr\n",
    "fix, ax = lr_finder.plot_loss()\n",
    "min_lr = 5e-5\n",
    "max_lr = 1e-3\n",
    "ax.axvline(x=min_lr, color='r', linestyle='--', label='min_lr')\n",
    "ax.axvline(x=max_lr, color='g', linestyle='--', label='max_lr')\n",
    "ax.legend()\n",
    "plt.show()"
   ]
  },
  {
   "cell_type": "markdown",
   "metadata": {},
   "source": [
    "### One Cycle Policy"
   ]
  },
  {
   "cell_type": "code",
   "execution_count": 43,
   "metadata": {},
   "outputs": [],
   "source": [
    "from tensorflow.keras.callbacks import EarlyStopping, ModelCheckpoint, LearningRateScheduler"
   ]
  },
  {
   "cell_type": "code",
   "execution_count": 44,
   "metadata": {},
   "outputs": [],
   "source": [
    "def one_cycle_scheduler(epoch, lr):\n",
    "    total_epochs = epochs\n",
    "    warmup_epochs = total_epochs // 4\n",
    "\n",
    "    if epoch < warmup_epochs:  # Warmup\n",
    "        return initial_learning_rate + (max_lr - initial_learning_rate) * (epoch / warmup_epochs)\n",
    "    \n",
    "    elif epoch < total_epochs - 5:  # Cosine annealing phase\n",
    "        return min_lr + (max_lr - min_lr) * 0.5 * (1 + np.cos(np.pi * (epoch - warmup_epochs) / (total_epochs - warmup_epochs - 5)))\n",
    "\n",
    "    else:  # Final annealing phase\n",
    "        return min_lr"
   ]
  },
  {
   "cell_type": "markdown",
   "metadata": {},
   "source": [
    "### Training"
   ]
  },
  {
   "cell_type": "code",
   "execution_count": 45,
   "metadata": {},
   "outputs": [
    {
     "name": "stdout",
     "output_type": "stream",
     "text": [
      "Starting training from scratch.\n",
      "Epoch 1/100\n"
     ]
    },
    {
     "name": "stderr",
     "output_type": "stream",
     "text": [
      "2025-04-16 03:01:47.143310: I tensorflow/core/kernels/data/shuffle_dataset_op.cc:177] Filling up shuffle buffer (this may take a while): 33 of 516\n",
      "2025-04-16 03:01:56.830075: I tensorflow/core/kernels/data/shuffle_dataset_op.cc:177] Filling up shuffle buffer (this may take a while): 70 of 516\n"
     ]
    },
    {
     "name": "stdout",
     "output_type": "stream",
     "text": [
      "Advertencia: ../data/train/Shoplifting042_x264.mp4 tiene menos frames que los requeridos. Usando todo el video.\n"
     ]
    },
    {
     "name": "stderr",
     "output_type": "stream",
     "text": [
      "2025-04-16 03:02:07.006266: I tensorflow/core/kernels/data/shuffle_dataset_op.cc:177] Filling up shuffle buffer (this may take a while): 102 of 516\n",
      "2025-04-16 03:02:17.124248: I tensorflow/core/kernels/data/shuffle_dataset_op.cc:177] Filling up shuffle buffer (this may take a while): 135 of 516\n",
      "2025-04-16 03:02:26.883427: I tensorflow/core/kernels/data/shuffle_dataset_op.cc:177] Filling up shuffle buffer (this may take a while): 160 of 516\n",
      "2025-04-16 03:02:37.373495: I tensorflow/core/kernels/data/shuffle_dataset_op.cc:177] Filling up shuffle buffer (this may take a while): 191 of 516\n",
      "2025-04-16 03:02:46.824328: I tensorflow/core/kernels/data/shuffle_dataset_op.cc:177] Filling up shuffle buffer (this may take a while): 219 of 516\n",
      "2025-04-16 03:02:56.877453: I tensorflow/core/kernels/data/shuffle_dataset_op.cc:177] Filling up shuffle buffer (this may take a while): 247 of 516\n",
      "2025-04-16 03:03:06.990166: I tensorflow/core/kernels/data/shuffle_dataset_op.cc:177] Filling up shuffle buffer (this may take a while): 277 of 516\n",
      "2025-04-16 03:03:16.995698: I tensorflow/core/kernels/data/shuffle_dataset_op.cc:177] Filling up shuffle buffer (this may take a while): 305 of 516\n",
      "2025-04-16 03:03:26.811304: I tensorflow/core/kernels/data/shuffle_dataset_op.cc:177] Filling up shuffle buffer (this may take a while): 336 of 516\n",
      "2025-04-16 03:03:37.062612: I tensorflow/core/kernels/data/shuffle_dataset_op.cc:177] Filling up shuffle buffer (this may take a while): 364 of 516\n",
      "2025-04-16 03:03:46.830574: I tensorflow/core/kernels/data/shuffle_dataset_op.cc:177] Filling up shuffle buffer (this may take a while): 397 of 516\n",
      "2025-04-16 03:03:57.324853: I tensorflow/core/kernels/data/shuffle_dataset_op.cc:177] Filling up shuffle buffer (this may take a while): 430 of 516\n",
      "2025-04-16 03:04:06.934556: I tensorflow/core/kernels/data/shuffle_dataset_op.cc:177] Filling up shuffle buffer (this may take a while): 455 of 516\n",
      "2025-04-16 03:04:16.806026: I tensorflow/core/kernels/data/shuffle_dataset_op.cc:177] Filling up shuffle buffer (this may take a while): 482 of 516\n",
      "2025-04-16 03:04:26.834639: I tensorflow/core/kernels/data/shuffle_dataset_op.cc:177] Filling up shuffle buffer (this may take a while): 514 of 516\n",
      "2025-04-16 03:04:27.246748: I tensorflow/core/kernels/data/shuffle_dataset_op.cc:230] Shuffle buffer filled.\n"
     ]
    },
    {
     "name": "stdout",
     "output_type": "stream",
     "text": [
      "      6/Unknown - 172s 236ms/step - loss: 6458.9917 - accuracy: 0.5833 - auc: 0.5000WARNING:tensorflow:Callback method `on_train_batch_end` is slow compared to the batch time (batch time: 0.1076s vs `on_train_batch_end` time: 0.1272s). Check your callbacks.\n",
      "65/65 [==============================] - 208s 575ms/step - loss: 7713.6250 - accuracy: 0.5000 - auc: 0.5000 - val_loss: 7969.0869 - val_accuracy: 0.5077 - val_auc: 0.5000\n",
      "Epoch 2/100\n"
     ]
    },
    {
     "name": "stderr",
     "output_type": "stream",
     "text": [
      "2025-04-16 03:05:18.203303: I tensorflow/core/kernels/data/shuffle_dataset_op.cc:177] Filling up shuffle buffer (this may take a while): 33 of 516\n",
      "2025-04-16 03:05:27.973801: I tensorflow/core/kernels/data/shuffle_dataset_op.cc:177] Filling up shuffle buffer (this may take a while): 71 of 516\n"
     ]
    },
    {
     "name": "stdout",
     "output_type": "stream",
     "text": [
      "Advertencia: ../data/train/Shoplifting042_x264.mp4 tiene menos frames que los requeridos. Usando todo el video.\n"
     ]
    },
    {
     "name": "stderr",
     "output_type": "stream",
     "text": [
      "2025-04-16 03:05:37.928968: I tensorflow/core/kernels/data/shuffle_dataset_op.cc:177] Filling up shuffle buffer (this may take a while): 102 of 516\n",
      "2025-04-16 03:05:48.022636: I tensorflow/core/kernels/data/shuffle_dataset_op.cc:177] Filling up shuffle buffer (this may take a while): 135 of 516\n",
      "2025-04-16 03:05:57.838511: I tensorflow/core/kernels/data/shuffle_dataset_op.cc:177] Filling up shuffle buffer (this may take a while): 160 of 516\n",
      "2025-04-16 03:06:08.325585: I tensorflow/core/kernels/data/shuffle_dataset_op.cc:177] Filling up shuffle buffer (this may take a while): 191 of 516\n",
      "2025-04-16 03:06:17.920044: I tensorflow/core/kernels/data/shuffle_dataset_op.cc:177] Filling up shuffle buffer (this may take a while): 219 of 516\n",
      "2025-04-16 03:06:27.922082: I tensorflow/core/kernels/data/shuffle_dataset_op.cc:177] Filling up shuffle buffer (this may take a while): 247 of 516\n",
      "2025-04-16 03:06:37.984557: I tensorflow/core/kernels/data/shuffle_dataset_op.cc:177] Filling up shuffle buffer (this may take a while): 277 of 516\n",
      "2025-04-16 03:06:47.988660: I tensorflow/core/kernels/data/shuffle_dataset_op.cc:177] Filling up shuffle buffer (this may take a while): 305 of 516\n",
      "2025-04-16 03:06:58.025379: I tensorflow/core/kernels/data/shuffle_dataset_op.cc:177] Filling up shuffle buffer (this may take a while): 337 of 516\n",
      "2025-04-16 03:07:07.885829: I tensorflow/core/kernels/data/shuffle_dataset_op.cc:177] Filling up shuffle buffer (this may take a while): 364 of 516\n",
      "2025-04-16 03:07:17.870299: I tensorflow/core/kernels/data/shuffle_dataset_op.cc:177] Filling up shuffle buffer (this may take a while): 398 of 516\n",
      "2025-04-16 03:07:28.146089: I tensorflow/core/kernels/data/shuffle_dataset_op.cc:177] Filling up shuffle buffer (this may take a while): 430 of 516\n",
      "2025-04-16 03:07:37.843642: I tensorflow/core/kernels/data/shuffle_dataset_op.cc:177] Filling up shuffle buffer (this may take a while): 456 of 516\n",
      "2025-04-16 03:07:47.844795: I tensorflow/core/kernels/data/shuffle_dataset_op.cc:177] Filling up shuffle buffer (this may take a while): 483 of 516\n",
      "2025-04-16 03:07:57.889914: I tensorflow/core/kernels/data/shuffle_dataset_op.cc:230] Shuffle buffer filled.\n"
     ]
    },
    {
     "name": "stdout",
     "output_type": "stream",
     "text": [
      "65/65 [==============================] - 205s 540ms/step - loss: 3609.4463 - accuracy: 0.5000 - auc: 0.5000 - val_loss: 1321.2137 - val_accuracy: 0.5077 - val_auc: 0.5000\n",
      "Epoch 3/100\n"
     ]
    },
    {
     "name": "stderr",
     "output_type": "stream",
     "text": [
      "2025-04-16 03:08:46.390292: I tensorflow/core/kernels/data/shuffle_dataset_op.cc:177] Filling up shuffle buffer (this may take a while): 33 of 516\n",
      "2025-04-16 03:08:56.263955: I tensorflow/core/kernels/data/shuffle_dataset_op.cc:177] Filling up shuffle buffer (this may take a while): 72 of 516\n"
     ]
    },
    {
     "name": "stdout",
     "output_type": "stream",
     "text": [
      "Advertencia: ../data/train/Shoplifting042_x264.mp4 tiene menos frames que los requeridos. Usando todo el video.\n"
     ]
    },
    {
     "name": "stderr",
     "output_type": "stream",
     "text": [
      "2025-04-16 03:09:06.124428: I tensorflow/core/kernels/data/shuffle_dataset_op.cc:177] Filling up shuffle buffer (this may take a while): 104 of 516\n",
      "2025-04-16 03:09:16.219800: I tensorflow/core/kernels/data/shuffle_dataset_op.cc:177] Filling up shuffle buffer (this may take a while): 136 of 516\n",
      "2025-04-16 03:09:26.147327: I tensorflow/core/kernels/data/shuffle_dataset_op.cc:177] Filling up shuffle buffer (this may take a while): 162 of 516\n",
      "2025-04-16 03:09:36.301427: I tensorflow/core/kernels/data/shuffle_dataset_op.cc:177] Filling up shuffle buffer (this may take a while): 192 of 516\n",
      "2025-04-16 03:09:46.708842: I tensorflow/core/kernels/data/shuffle_dataset_op.cc:177] Filling up shuffle buffer (this may take a while): 221 of 516\n",
      "2025-04-16 03:09:56.245834: I tensorflow/core/kernels/data/shuffle_dataset_op.cc:177] Filling up shuffle buffer (this may take a while): 250 of 516\n",
      "2025-04-16 03:10:06.258525: I tensorflow/core/kernels/data/shuffle_dataset_op.cc:177] Filling up shuffle buffer (this may take a while): 281 of 516\n",
      "2025-04-16 03:10:16.198357: I tensorflow/core/kernels/data/shuffle_dataset_op.cc:177] Filling up shuffle buffer (this may take a while): 309 of 516\n",
      "2025-04-16 03:10:26.264382: I tensorflow/core/kernels/data/shuffle_dataset_op.cc:177] Filling up shuffle buffer (this may take a while): 340 of 516\n",
      "2025-04-16 03:10:36.084863: I tensorflow/core/kernels/data/shuffle_dataset_op.cc:177] Filling up shuffle buffer (this may take a while): 368 of 516\n",
      "2025-04-16 03:10:46.080562: I tensorflow/core/kernels/data/shuffle_dataset_op.cc:177] Filling up shuffle buffer (this may take a while): 402 of 516\n",
      "2025-04-16 03:10:56.144495: I tensorflow/core/kernels/data/shuffle_dataset_op.cc:177] Filling up shuffle buffer (this may take a while): 432 of 516\n",
      "2025-04-16 03:11:06.106624: I tensorflow/core/kernels/data/shuffle_dataset_op.cc:177] Filling up shuffle buffer (this may take a while): 461 of 516\n",
      "2025-04-16 03:11:16.103604: I tensorflow/core/kernels/data/shuffle_dataset_op.cc:177] Filling up shuffle buffer (this may take a while): 489 of 516\n",
      "2025-04-16 03:11:24.533896: I tensorflow/core/kernels/data/shuffle_dataset_op.cc:230] Shuffle buffer filled.\n"
     ]
    },
    {
     "name": "stdout",
     "output_type": "stream",
     "text": [
      "65/65 [==============================] - 203s 535ms/step - loss: 300.9350 - accuracy: 0.4903 - auc: 0.4863 - val_loss: 12.2900 - val_accuracy: 0.4615 - val_auc: 0.4910\n",
      "Epoch 4/100\n"
     ]
    },
    {
     "name": "stderr",
     "output_type": "stream",
     "text": [
      "2025-04-16 03:12:12.530948: I tensorflow/core/kernels/data/shuffle_dataset_op.cc:177] Filling up shuffle buffer (this may take a while): 33 of 516\n",
      "2025-04-16 03:12:22.335066: I tensorflow/core/kernels/data/shuffle_dataset_op.cc:177] Filling up shuffle buffer (this may take a while): 72 of 516\n"
     ]
    },
    {
     "name": "stdout",
     "output_type": "stream",
     "text": [
      "Advertencia: ../data/train/Shoplifting042_x264.mp4 tiene menos frames que los requeridos. Usando todo el video.\n"
     ]
    },
    {
     "name": "stderr",
     "output_type": "stream",
     "text": [
      "2025-04-16 03:12:32.279111: I tensorflow/core/kernels/data/shuffle_dataset_op.cc:177] Filling up shuffle buffer (this may take a while): 104 of 516\n",
      "2025-04-16 03:12:42.362595: I tensorflow/core/kernels/data/shuffle_dataset_op.cc:177] Filling up shuffle buffer (this may take a while): 136 of 516\n",
      "2025-04-16 03:12:52.360772: I tensorflow/core/kernels/data/shuffle_dataset_op.cc:177] Filling up shuffle buffer (this may take a while): 162 of 516\n",
      "2025-04-16 03:13:02.559329: I tensorflow/core/kernels/data/shuffle_dataset_op.cc:177] Filling up shuffle buffer (this may take a while): 192 of 516\n",
      "2025-04-16 03:13:12.330993: I tensorflow/core/kernels/data/shuffle_dataset_op.cc:177] Filling up shuffle buffer (this may take a while): 220 of 516\n",
      "2025-04-16 03:13:22.626767: I tensorflow/core/kernels/data/shuffle_dataset_op.cc:177] Filling up shuffle buffer (this may take a while): 250 of 516\n",
      "2025-04-16 03:13:32.331697: I tensorflow/core/kernels/data/shuffle_dataset_op.cc:177] Filling up shuffle buffer (this may take a while): 280 of 516\n",
      "2025-04-16 03:13:42.520748: I tensorflow/core/kernels/data/shuffle_dataset_op.cc:177] Filling up shuffle buffer (this may take a while): 308 of 516\n",
      "2025-04-16 03:13:52.356859: I tensorflow/core/kernels/data/shuffle_dataset_op.cc:177] Filling up shuffle buffer (this may take a while): 338 of 516\n",
      "2025-04-16 03:14:02.433491: I tensorflow/core/kernels/data/shuffle_dataset_op.cc:177] Filling up shuffle buffer (this may take a while): 366 of 516\n",
      "2025-04-16 03:14:12.552695: I tensorflow/core/kernels/data/shuffle_dataset_op.cc:177] Filling up shuffle buffer (this may take a while): 400 of 516\n",
      "2025-04-16 03:14:22.587627: I tensorflow/core/kernels/data/shuffle_dataset_op.cc:177] Filling up shuffle buffer (this may take a while): 431 of 516\n",
      "2025-04-16 03:14:32.440228: I tensorflow/core/kernels/data/shuffle_dataset_op.cc:177] Filling up shuffle buffer (this may take a while): 458 of 516\n",
      "2025-04-16 03:14:42.316671: I tensorflow/core/kernels/data/shuffle_dataset_op.cc:177] Filling up shuffle buffer (this may take a while): 485 of 516\n",
      "2025-04-16 03:14:51.867879: I tensorflow/core/kernels/data/shuffle_dataset_op.cc:230] Shuffle buffer filled.\n"
     ]
    },
    {
     "name": "stdout",
     "output_type": "stream",
     "text": [
      "65/65 [==============================] - 204s 538ms/step - loss: 10.1082 - accuracy: 0.4864 - auc: 0.4852 - val_loss: 9.4436 - val_accuracy: 0.4923 - val_auc: 0.4943\n",
      "Epoch 5/100\n"
     ]
    },
    {
     "name": "stderr",
     "output_type": "stream",
     "text": [
      "2025-04-16 03:15:40.132673: I tensorflow/core/kernels/data/shuffle_dataset_op.cc:177] Filling up shuffle buffer (this may take a while): 33 of 516\n",
      "2025-04-16 03:15:50.197242: I tensorflow/core/kernels/data/shuffle_dataset_op.cc:177] Filling up shuffle buffer (this may take a while): 72 of 516\n"
     ]
    },
    {
     "name": "stdout",
     "output_type": "stream",
     "text": [
      "Advertencia: ../data/train/Shoplifting042_x264.mp4 tiene menos frames que los requeridos. Usando todo el video.\n"
     ]
    },
    {
     "name": "stderr",
     "output_type": "stream",
     "text": [
      "2025-04-16 03:16:00.008085: I tensorflow/core/kernels/data/shuffle_dataset_op.cc:177] Filling up shuffle buffer (this may take a while): 103 of 516\n",
      "2025-04-16 03:16:10.361178: I tensorflow/core/kernels/data/shuffle_dataset_op.cc:177] Filling up shuffle buffer (this may take a while): 136 of 516\n",
      "2025-04-16 03:16:20.188802: I tensorflow/core/kernels/data/shuffle_dataset_op.cc:177] Filling up shuffle buffer (this may take a while): 161 of 516\n",
      "2025-04-16 03:16:30.217504: I tensorflow/core/kernels/data/shuffle_dataset_op.cc:177] Filling up shuffle buffer (this may take a while): 191 of 516\n",
      "2025-04-16 03:16:40.423847: I tensorflow/core/kernels/data/shuffle_dataset_op.cc:177] Filling up shuffle buffer (this may take a while): 220 of 516\n",
      "2025-04-16 03:16:49.958787: I tensorflow/core/kernels/data/shuffle_dataset_op.cc:177] Filling up shuffle buffer (this may take a while): 248 of 516\n",
      "2025-04-16 03:16:59.936464: I tensorflow/core/kernels/data/shuffle_dataset_op.cc:177] Filling up shuffle buffer (this may take a while): 277 of 516\n",
      "2025-04-16 03:17:10.007860: I tensorflow/core/kernels/data/shuffle_dataset_op.cc:177] Filling up shuffle buffer (this may take a while): 305 of 516\n",
      "2025-04-16 03:17:20.034012: I tensorflow/core/kernels/data/shuffle_dataset_op.cc:177] Filling up shuffle buffer (this may take a while): 337 of 516\n",
      "2025-04-16 03:17:30.325342: I tensorflow/core/kernels/data/shuffle_dataset_op.cc:177] Filling up shuffle buffer (this may take a while): 365 of 516\n",
      "2025-04-16 03:17:40.469324: I tensorflow/core/kernels/data/shuffle_dataset_op.cc:177] Filling up shuffle buffer (this may take a while): 400 of 516\n",
      "2025-04-16 03:17:50.454415: I tensorflow/core/kernels/data/shuffle_dataset_op.cc:177] Filling up shuffle buffer (this may take a while): 431 of 516\n",
      "2025-04-16 03:18:00.295782: I tensorflow/core/kernels/data/shuffle_dataset_op.cc:177] Filling up shuffle buffer (this may take a while): 458 of 516\n",
      "2025-04-16 03:18:09.989249: I tensorflow/core/kernels/data/shuffle_dataset_op.cc:177] Filling up shuffle buffer (this may take a while): 484 of 516\n",
      "2025-04-16 03:18:19.622746: I tensorflow/core/kernels/data/shuffle_dataset_op.cc:230] Shuffle buffer filled.\n"
     ]
    },
    {
     "name": "stdout",
     "output_type": "stream",
     "text": [
      "65/65 [==============================] - 204s 533ms/step - loss: 8.7391 - accuracy: 0.5136 - auc: 0.5207 - val_loss: 8.4266 - val_accuracy: 0.5077 - val_auc: 0.4995\n",
      "Epoch 6/100\n"
     ]
    },
    {
     "name": "stderr",
     "output_type": "stream",
     "text": [
      "2025-04-16 03:19:07.715997: I tensorflow/core/kernels/data/shuffle_dataset_op.cc:177] Filling up shuffle buffer (this may take a while): 33 of 516\n",
      "2025-04-16 03:19:17.638435: I tensorflow/core/kernels/data/shuffle_dataset_op.cc:177] Filling up shuffle buffer (this may take a while): 72 of 516\n"
     ]
    },
    {
     "name": "stdout",
     "output_type": "stream",
     "text": [
      "Advertencia: ../data/train/Shoplifting042_x264.mp4 tiene menos frames que los requeridos. Usando todo el video.\n"
     ]
    },
    {
     "name": "stderr",
     "output_type": "stream",
     "text": [
      "2025-04-16 03:19:27.563016: I tensorflow/core/kernels/data/shuffle_dataset_op.cc:177] Filling up shuffle buffer (this may take a while): 104 of 516\n",
      "2025-04-16 03:19:37.595405: I tensorflow/core/kernels/data/shuffle_dataset_op.cc:177] Filling up shuffle buffer (this may take a while): 136 of 516\n",
      "2025-04-16 03:19:47.511460: I tensorflow/core/kernels/data/shuffle_dataset_op.cc:177] Filling up shuffle buffer (this may take a while): 162 of 516\n",
      "2025-04-16 03:19:57.620536: I tensorflow/core/kernels/data/shuffle_dataset_op.cc:177] Filling up shuffle buffer (this may take a while): 192 of 516\n",
      "2025-04-16 03:20:08.048940: I tensorflow/core/kernels/data/shuffle_dataset_op.cc:177] Filling up shuffle buffer (this may take a while): 221 of 516\n",
      "2025-04-16 03:20:17.585229: I tensorflow/core/kernels/data/shuffle_dataset_op.cc:177] Filling up shuffle buffer (this may take a while): 250 of 516\n",
      "2025-04-16 03:20:27.660117: I tensorflow/core/kernels/data/shuffle_dataset_op.cc:177] Filling up shuffle buffer (this may take a while): 281 of 516\n",
      "2025-04-16 03:20:37.574300: I tensorflow/core/kernels/data/shuffle_dataset_op.cc:177] Filling up shuffle buffer (this may take a while): 309 of 516\n",
      "2025-04-16 03:20:47.648608: I tensorflow/core/kernels/data/shuffle_dataset_op.cc:177] Filling up shuffle buffer (this may take a while): 340 of 516\n",
      "2025-04-16 03:20:57.503705: I tensorflow/core/kernels/data/shuffle_dataset_op.cc:177] Filling up shuffle buffer (this may take a while): 368 of 516\n",
      "2025-04-16 03:21:07.739452: I tensorflow/core/kernels/data/shuffle_dataset_op.cc:177] Filling up shuffle buffer (this may take a while): 403 of 516\n",
      "2025-04-16 03:21:17.548288: I tensorflow/core/kernels/data/shuffle_dataset_op.cc:177] Filling up shuffle buffer (this may take a while): 432 of 516\n",
      "2025-04-16 03:21:27.631888: I tensorflow/core/kernels/data/shuffle_dataset_op.cc:177] Filling up shuffle buffer (this may take a while): 461 of 516\n",
      "2025-04-16 03:21:37.591515: I tensorflow/core/kernels/data/shuffle_dataset_op.cc:177] Filling up shuffle buffer (this may take a while): 488 of 516\n",
      "2025-04-16 03:21:46.178987: I tensorflow/core/kernels/data/shuffle_dataset_op.cc:230] Shuffle buffer filled.\n"
     ]
    },
    {
     "name": "stdout",
     "output_type": "stream",
     "text": [
      "65/65 [==============================] - 203s 534ms/step - loss: 7.5681 - accuracy: 0.4884 - auc: 0.4945 - val_loss: 5.3417 - val_accuracy: 0.5231 - val_auc: 0.5166\n",
      "Epoch 7/100\n"
     ]
    },
    {
     "name": "stderr",
     "output_type": "stream",
     "text": [
      "2025-04-16 03:22:34.371377: I tensorflow/core/kernels/data/shuffle_dataset_op.cc:177] Filling up shuffle buffer (this may take a while): 33 of 516\n",
      "2025-04-16 03:22:44.314951: I tensorflow/core/kernels/data/shuffle_dataset_op.cc:177] Filling up shuffle buffer (this may take a while): 72 of 516\n"
     ]
    },
    {
     "name": "stdout",
     "output_type": "stream",
     "text": [
      "Advertencia: ../data/train/Shoplifting042_x264.mp4 tiene menos frames que los requeridos. Usando todo el video.\n"
     ]
    },
    {
     "name": "stderr",
     "output_type": "stream",
     "text": [
      "2025-04-16 03:22:54.028237: I tensorflow/core/kernels/data/shuffle_dataset_op.cc:177] Filling up shuffle buffer (this may take a while): 103 of 516\n",
      "2025-04-16 03:23:04.316461: I tensorflow/core/kernels/data/shuffle_dataset_op.cc:177] Filling up shuffle buffer (this may take a while): 136 of 516\n",
      "2025-04-16 03:23:14.044087: I tensorflow/core/kernels/data/shuffle_dataset_op.cc:177] Filling up shuffle buffer (this may take a while): 161 of 516\n",
      "2025-04-16 03:23:24.312966: I tensorflow/core/kernels/data/shuffle_dataset_op.cc:177] Filling up shuffle buffer (this may take a while): 192 of 516\n",
      "2025-04-16 03:23:34.711684: I tensorflow/core/kernels/data/shuffle_dataset_op.cc:177] Filling up shuffle buffer (this may take a while): 221 of 516\n",
      "2025-04-16 03:23:44.283766: I tensorflow/core/kernels/data/shuffle_dataset_op.cc:177] Filling up shuffle buffer (this may take a while): 250 of 516\n",
      "2025-04-16 03:23:54.030039: I tensorflow/core/kernels/data/shuffle_dataset_op.cc:177] Filling up shuffle buffer (this may take a while): 280 of 516\n",
      "2025-04-16 03:24:04.077516: I tensorflow/core/kernels/data/shuffle_dataset_op.cc:177] Filling up shuffle buffer (this may take a while): 308 of 516\n",
      "2025-04-16 03:24:14.195092: I tensorflow/core/kernels/data/shuffle_dataset_op.cc:177] Filling up shuffle buffer (this may take a while): 339 of 516\n",
      "2025-04-16 03:24:24.209044: I tensorflow/core/kernels/data/shuffle_dataset_op.cc:177] Filling up shuffle buffer (this may take a while): 368 of 516\n",
      "2025-04-16 03:24:34.191800: I tensorflow/core/kernels/data/shuffle_dataset_op.cc:177] Filling up shuffle buffer (this may take a while): 402 of 516\n",
      "2025-04-16 03:24:44.352125: I tensorflow/core/kernels/data/shuffle_dataset_op.cc:177] Filling up shuffle buffer (this may take a while): 432 of 516\n",
      "2025-04-16 03:24:54.435124: I tensorflow/core/kernels/data/shuffle_dataset_op.cc:177] Filling up shuffle buffer (this may take a while): 461 of 516\n",
      "2025-04-16 03:25:04.037034: I tensorflow/core/kernels/data/shuffle_dataset_op.cc:177] Filling up shuffle buffer (this may take a while): 487 of 516\n",
      "2025-04-16 03:25:12.978235: I tensorflow/core/kernels/data/shuffle_dataset_op.cc:230] Shuffle buffer filled.\n"
     ]
    },
    {
     "name": "stdout",
     "output_type": "stream",
     "text": [
      "65/65 [==============================] - 203s 532ms/step - loss: 6.1149 - accuracy: 0.4826 - auc: 0.4643 - val_loss: 7.5631 - val_accuracy: 0.5077 - val_auc: 0.5388\n",
      "Epoch 8/100\n"
     ]
    },
    {
     "name": "stderr",
     "output_type": "stream",
     "text": [
      "2025-04-16 03:25:59.790160: I tensorflow/core/kernels/data/shuffle_dataset_op.cc:177] Filling up shuffle buffer (this may take a while): 33 of 516\n",
      "2025-04-16 03:26:09.576367: I tensorflow/core/kernels/data/shuffle_dataset_op.cc:177] Filling up shuffle buffer (this may take a while): 71 of 516\n"
     ]
    },
    {
     "name": "stdout",
     "output_type": "stream",
     "text": [
      "Advertencia: ../data/train/Shoplifting042_x264.mp4 tiene menos frames que los requeridos. Usando todo el video.\n"
     ]
    },
    {
     "name": "stderr",
     "output_type": "stream",
     "text": [
      "2025-04-16 03:26:19.609074: I tensorflow/core/kernels/data/shuffle_dataset_op.cc:177] Filling up shuffle buffer (this may take a while): 102 of 516\n",
      "2025-04-16 03:26:29.688544: I tensorflow/core/kernels/data/shuffle_dataset_op.cc:177] Filling up shuffle buffer (this may take a while): 135 of 516\n",
      "2025-04-16 03:26:39.553186: I tensorflow/core/kernels/data/shuffle_dataset_op.cc:177] Filling up shuffle buffer (this may take a while): 160 of 516\n",
      "2025-04-16 03:26:50.057435: I tensorflow/core/kernels/data/shuffle_dataset_op.cc:177] Filling up shuffle buffer (this may take a while): 191 of 516\n",
      "2025-04-16 03:26:59.641551: I tensorflow/core/kernels/data/shuffle_dataset_op.cc:177] Filling up shuffle buffer (this may take a while): 219 of 516\n",
      "2025-04-16 03:27:09.588600: I tensorflow/core/kernels/data/shuffle_dataset_op.cc:177] Filling up shuffle buffer (this may take a while): 247 of 516\n",
      "2025-04-16 03:27:19.665276: I tensorflow/core/kernels/data/shuffle_dataset_op.cc:177] Filling up shuffle buffer (this may take a while): 277 of 516\n",
      "2025-04-16 03:27:29.673591: I tensorflow/core/kernels/data/shuffle_dataset_op.cc:177] Filling up shuffle buffer (this may take a while): 305 of 516\n",
      "2025-04-16 03:27:39.718855: I tensorflow/core/kernels/data/shuffle_dataset_op.cc:177] Filling up shuffle buffer (this may take a while): 337 of 516\n",
      "2025-04-16 03:27:49.509448: I tensorflow/core/kernels/data/shuffle_dataset_op.cc:177] Filling up shuffle buffer (this may take a while): 364 of 516\n",
      "2025-04-16 03:27:59.713764: I tensorflow/core/kernels/data/shuffle_dataset_op.cc:177] Filling up shuffle buffer (this may take a while): 399 of 516\n",
      "2025-04-16 03:28:09.643820: I tensorflow/core/kernels/data/shuffle_dataset_op.cc:177] Filling up shuffle buffer (this may take a while): 430 of 516\n",
      "2025-04-16 03:28:19.609302: I tensorflow/core/kernels/data/shuffle_dataset_op.cc:177] Filling up shuffle buffer (this may take a while): 457 of 516\n",
      "2025-04-16 03:28:29.669823: I tensorflow/core/kernels/data/shuffle_dataset_op.cc:177] Filling up shuffle buffer (this may take a while): 484 of 516\n",
      "2025-04-16 03:28:39.469893: I tensorflow/core/kernels/data/shuffle_dataset_op.cc:230] Shuffle buffer filled.\n"
     ]
    },
    {
     "name": "stdout",
     "output_type": "stream",
     "text": [
      "65/65 [==============================] - 204s 533ms/step - loss: 3.3199 - accuracy: 0.5271 - auc: 0.5332 - val_loss: 2.3881 - val_accuracy: 0.4462 - val_auc: 0.4621\n",
      "Epoch 9/100\n"
     ]
    },
    {
     "name": "stderr",
     "output_type": "stream",
     "text": [
      "2025-04-16 03:29:27.534746: I tensorflow/core/kernels/data/shuffle_dataset_op.cc:177] Filling up shuffle buffer (this may take a while): 33 of 516\n",
      "2025-04-16 03:29:37.396589: I tensorflow/core/kernels/data/shuffle_dataset_op.cc:177] Filling up shuffle buffer (this may take a while): 72 of 516\n"
     ]
    },
    {
     "name": "stdout",
     "output_type": "stream",
     "text": [
      "Advertencia: ../data/train/Shoplifting042_x264.mp4 tiene menos frames que los requeridos. Usando todo el video.\n"
     ]
    },
    {
     "name": "stderr",
     "output_type": "stream",
     "text": [
      "2025-04-16 03:29:47.355556: I tensorflow/core/kernels/data/shuffle_dataset_op.cc:177] Filling up shuffle buffer (this may take a while): 104 of 516\n",
      "2025-04-16 03:29:57.391113: I tensorflow/core/kernels/data/shuffle_dataset_op.cc:177] Filling up shuffle buffer (this may take a while): 136 of 516\n",
      "2025-04-16 03:30:07.289062: I tensorflow/core/kernels/data/shuffle_dataset_op.cc:177] Filling up shuffle buffer (this may take a while): 162 of 516\n",
      "2025-04-16 03:30:17.437952: I tensorflow/core/kernels/data/shuffle_dataset_op.cc:177] Filling up shuffle buffer (this may take a while): 192 of 516\n",
      "2025-04-16 03:30:27.840267: I tensorflow/core/kernels/data/shuffle_dataset_op.cc:177] Filling up shuffle buffer (this may take a while): 221 of 516\n",
      "2025-04-16 03:30:37.382782: I tensorflow/core/kernels/data/shuffle_dataset_op.cc:177] Filling up shuffle buffer (this may take a while): 250 of 516\n",
      "2025-04-16 03:30:47.343944: I tensorflow/core/kernels/data/shuffle_dataset_op.cc:177] Filling up shuffle buffer (this may take a while): 281 of 516\n",
      "2025-04-16 03:30:57.253255: I tensorflow/core/kernels/data/shuffle_dataset_op.cc:177] Filling up shuffle buffer (this may take a while): 309 of 516\n",
      "2025-04-16 03:31:07.291726: I tensorflow/core/kernels/data/shuffle_dataset_op.cc:177] Filling up shuffle buffer (this may take a while): 340 of 516\n",
      "2025-04-16 03:31:17.332882: I tensorflow/core/kernels/data/shuffle_dataset_op.cc:177] Filling up shuffle buffer (this may take a while): 369 of 516\n",
      "2025-04-16 03:31:27.270043: I tensorflow/core/kernels/data/shuffle_dataset_op.cc:177] Filling up shuffle buffer (this may take a while): 403 of 516\n",
      "2025-04-16 03:31:37.428650: I tensorflow/core/kernels/data/shuffle_dataset_op.cc:177] Filling up shuffle buffer (this may take a while): 434 of 516\n",
      "2025-04-16 03:31:47.389984: I tensorflow/core/kernels/data/shuffle_dataset_op.cc:177] Filling up shuffle buffer (this may take a while): 462 of 516\n",
      "2025-04-16 03:31:57.284897: I tensorflow/core/kernels/data/shuffle_dataset_op.cc:177] Filling up shuffle buffer (this may take a while): 491 of 516\n",
      "2025-04-16 03:32:05.298742: I tensorflow/core/kernels/data/shuffle_dataset_op.cc:230] Shuffle buffer filled.\n"
     ]
    },
    {
     "name": "stdout",
     "output_type": "stream",
     "text": [
      "65/65 [==============================] - 203s 534ms/step - loss: 1.5022 - accuracy: 0.5078 - auc: 0.5074 - val_loss: 0.8802 - val_accuracy: 0.6154 - val_auc: 0.6207\n",
      "Epoch 10/100\n"
     ]
    },
    {
     "name": "stderr",
     "output_type": "stream",
     "text": [
      "2025-04-16 03:32:53.582878: I tensorflow/core/kernels/data/shuffle_dataset_op.cc:177] Filling up shuffle buffer (this may take a while): 33 of 516\n",
      "2025-04-16 03:33:03.304009: I tensorflow/core/kernels/data/shuffle_dataset_op.cc:177] Filling up shuffle buffer (this may take a while): 71 of 516\n"
     ]
    },
    {
     "name": "stdout",
     "output_type": "stream",
     "text": [
      "Advertencia: ../data/train/Shoplifting042_x264.mp4 tiene menos frames que los requeridos. Usando todo el video.\n"
     ]
    },
    {
     "name": "stderr",
     "output_type": "stream",
     "text": [
      "2025-04-16 03:33:13.389593: I tensorflow/core/kernels/data/shuffle_dataset_op.cc:177] Filling up shuffle buffer (this may take a while): 103 of 516\n",
      "2025-04-16 03:33:23.664146: I tensorflow/core/kernels/data/shuffle_dataset_op.cc:177] Filling up shuffle buffer (this may take a while): 136 of 516\n",
      "2025-04-16 03:33:33.413170: I tensorflow/core/kernels/data/shuffle_dataset_op.cc:177] Filling up shuffle buffer (this may take a while): 161 of 516\n",
      "2025-04-16 03:33:43.320753: I tensorflow/core/kernels/data/shuffle_dataset_op.cc:177] Filling up shuffle buffer (this may take a while): 191 of 516\n",
      "2025-04-16 03:33:53.471154: I tensorflow/core/kernels/data/shuffle_dataset_op.cc:177] Filling up shuffle buffer (this may take a while): 220 of 516\n",
      "2025-04-16 03:34:03.841335: I tensorflow/core/kernels/data/shuffle_dataset_op.cc:177] Filling up shuffle buffer (this may take a while): 250 of 516\n",
      "2025-04-16 03:34:13.469850: I tensorflow/core/kernels/data/shuffle_dataset_op.cc:177] Filling up shuffle buffer (this may take a while): 279 of 516\n",
      "2025-04-16 03:34:23.453107: I tensorflow/core/kernels/data/shuffle_dataset_op.cc:177] Filling up shuffle buffer (this may take a while): 307 of 516\n",
      "2025-04-16 03:34:33.449371: I tensorflow/core/kernels/data/shuffle_dataset_op.cc:177] Filling up shuffle buffer (this may take a while): 338 of 516\n",
      "2025-04-16 03:34:43.314803: I tensorflow/core/kernels/data/shuffle_dataset_op.cc:177] Filling up shuffle buffer (this may take a while): 366 of 516\n",
      "2025-04-16 03:34:53.436937: I tensorflow/core/kernels/data/shuffle_dataset_op.cc:177] Filling up shuffle buffer (this may take a while): 401 of 516\n",
      "2025-04-16 03:35:03.622024: I tensorflow/core/kernels/data/shuffle_dataset_op.cc:177] Filling up shuffle buffer (this may take a while): 432 of 516\n",
      "2025-04-16 03:35:13.570382: I tensorflow/core/kernels/data/shuffle_dataset_op.cc:177] Filling up shuffle buffer (this may take a while): 461 of 516\n",
      "2025-04-16 03:35:23.389603: I tensorflow/core/kernels/data/shuffle_dataset_op.cc:177] Filling up shuffle buffer (this may take a while): 488 of 516\n",
      "2025-04-16 03:35:31.927025: I tensorflow/core/kernels/data/shuffle_dataset_op.cc:230] Shuffle buffer filled.\n"
     ]
    },
    {
     "name": "stdout",
     "output_type": "stream",
     "text": [
      "65/65 [==============================] - 203s 535ms/step - loss: 0.8406 - accuracy: 0.5039 - auc: 0.5098 - val_loss: 0.7546 - val_accuracy: 0.4308 - val_auc: 0.4366\n",
      "Epoch 11/100\n"
     ]
    },
    {
     "name": "stderr",
     "output_type": "stream",
     "text": [
      "2025-04-16 03:36:20.173509: I tensorflow/core/kernels/data/shuffle_dataset_op.cc:177] Filling up shuffle buffer (this may take a while): 33 of 516\n",
      "2025-04-16 03:36:29.943576: I tensorflow/core/kernels/data/shuffle_dataset_op.cc:177] Filling up shuffle buffer (this may take a while): 72 of 516\n"
     ]
    },
    {
     "name": "stdout",
     "output_type": "stream",
     "text": [
      "Advertencia: ../data/train/Shoplifting042_x264.mp4 tiene menos frames que los requeridos. Usando todo el video.\n"
     ]
    },
    {
     "name": "stderr",
     "output_type": "stream",
     "text": [
      "2025-04-16 03:36:39.742288: I tensorflow/core/kernels/data/shuffle_dataset_op.cc:177] Filling up shuffle buffer (this may take a while): 103 of 516\n",
      "2025-04-16 03:36:50.051758: I tensorflow/core/kernels/data/shuffle_dataset_op.cc:177] Filling up shuffle buffer (this may take a while): 136 of 516\n",
      "2025-04-16 03:36:59.808117: I tensorflow/core/kernels/data/shuffle_dataset_op.cc:177] Filling up shuffle buffer (this may take a while): 161 of 516\n",
      "2025-04-16 03:37:09.767844: I tensorflow/core/kernels/data/shuffle_dataset_op.cc:177] Filling up shuffle buffer (this may take a while): 191 of 516\n",
      "2025-04-16 03:37:19.806945: I tensorflow/core/kernels/data/shuffle_dataset_op.cc:177] Filling up shuffle buffer (this may take a while): 220 of 516\n",
      "2025-04-16 03:37:30.180269: I tensorflow/core/kernels/data/shuffle_dataset_op.cc:177] Filling up shuffle buffer (this may take a while): 250 of 516\n",
      "2025-04-16 03:37:39.866899: I tensorflow/core/kernels/data/shuffle_dataset_op.cc:177] Filling up shuffle buffer (this may take a while): 280 of 516\n",
      "2025-04-16 03:37:50.023222: I tensorflow/core/kernels/data/shuffle_dataset_op.cc:177] Filling up shuffle buffer (this may take a while): 308 of 516\n",
      "2025-04-16 03:37:59.879504: I tensorflow/core/kernels/data/shuffle_dataset_op.cc:177] Filling up shuffle buffer (this may take a while): 338 of 516\n",
      "2025-04-16 03:38:09.945843: I tensorflow/core/kernels/data/shuffle_dataset_op.cc:177] Filling up shuffle buffer (this may take a while): 366 of 516\n",
      "2025-04-16 03:38:20.068399: I tensorflow/core/kernels/data/shuffle_dataset_op.cc:177] Filling up shuffle buffer (this may take a while): 400 of 516\n",
      "2025-04-16 03:38:30.108386: I tensorflow/core/kernels/data/shuffle_dataset_op.cc:177] Filling up shuffle buffer (this may take a while): 431 of 516\n",
      "2025-04-16 03:38:39.902932: I tensorflow/core/kernels/data/shuffle_dataset_op.cc:177] Filling up shuffle buffer (this may take a while): 458 of 516\n",
      "2025-04-16 03:38:49.759620: I tensorflow/core/kernels/data/shuffle_dataset_op.cc:177] Filling up shuffle buffer (this may take a while): 485 of 516\n",
      "2025-04-16 03:38:59.307942: I tensorflow/core/kernels/data/shuffle_dataset_op.cc:230] Shuffle buffer filled.\n"
     ]
    },
    {
     "name": "stdout",
     "output_type": "stream",
     "text": [
      "65/65 [==============================] - 204s 533ms/step - loss: 0.7348 - accuracy: 0.5116 - auc: 0.4933 - val_loss: 0.7269 - val_accuracy: 0.4923 - val_auc: 0.4744\n",
      "Epoch 12/100\n"
     ]
    },
    {
     "name": "stderr",
     "output_type": "stream",
     "text": [
      "2025-04-16 03:39:47.431524: I tensorflow/core/kernels/data/shuffle_dataset_op.cc:177] Filling up shuffle buffer (this may take a while): 33 of 516\n",
      "2025-04-16 03:39:57.140866: I tensorflow/core/kernels/data/shuffle_dataset_op.cc:177] Filling up shuffle buffer (this may take a while): 71 of 516\n"
     ]
    },
    {
     "name": "stdout",
     "output_type": "stream",
     "text": [
      "Advertencia: ../data/train/Shoplifting042_x264.mp4 tiene menos frames que los requeridos. Usando todo el video.\n"
     ]
    },
    {
     "name": "stderr",
     "output_type": "stream",
     "text": [
      "2025-04-16 03:40:07.119619: I tensorflow/core/kernels/data/shuffle_dataset_op.cc:177] Filling up shuffle buffer (this may take a while): 102 of 516\n",
      "2025-04-16 03:40:17.227952: I tensorflow/core/kernels/data/shuffle_dataset_op.cc:177] Filling up shuffle buffer (this may take a while): 135 of 516\n",
      "2025-04-16 03:40:27.094765: I tensorflow/core/kernels/data/shuffle_dataset_op.cc:177] Filling up shuffle buffer (this may take a while): 160 of 516\n",
      "2025-04-16 03:40:37.605538: I tensorflow/core/kernels/data/shuffle_dataset_op.cc:177] Filling up shuffle buffer (this may take a while): 191 of 516\n",
      "2025-04-16 03:40:47.218003: I tensorflow/core/kernels/data/shuffle_dataset_op.cc:177] Filling up shuffle buffer (this may take a while): 219 of 516\n",
      "2025-04-16 03:40:57.264622: I tensorflow/core/kernels/data/shuffle_dataset_op.cc:177] Filling up shuffle buffer (this may take a while): 247 of 516\n",
      "2025-04-16 03:41:07.451240: I tensorflow/core/kernels/data/shuffle_dataset_op.cc:177] Filling up shuffle buffer (this may take a while): 277 of 516\n",
      "2025-04-16 03:41:17.280416: I tensorflow/core/kernels/data/shuffle_dataset_op.cc:177] Filling up shuffle buffer (this may take a while): 304 of 516\n",
      "2025-04-16 03:41:27.305354: I tensorflow/core/kernels/data/shuffle_dataset_op.cc:177] Filling up shuffle buffer (this may take a while): 336 of 516\n",
      "2025-04-16 03:41:37.393927: I tensorflow/core/kernels/data/shuffle_dataset_op.cc:177] Filling up shuffle buffer (this may take a while): 364 of 516\n",
      "2025-04-16 03:41:47.187701: I tensorflow/core/kernels/data/shuffle_dataset_op.cc:177] Filling up shuffle buffer (this may take a while): 397 of 516\n",
      "2025-04-16 03:41:57.631572: I tensorflow/core/kernels/data/shuffle_dataset_op.cc:177] Filling up shuffle buffer (this may take a while): 430 of 516\n",
      "2025-04-16 03:42:07.161008: I tensorflow/core/kernels/data/shuffle_dataset_op.cc:177] Filling up shuffle buffer (this may take a while): 455 of 516\n",
      "2025-04-16 03:42:17.371077: I tensorflow/core/kernels/data/shuffle_dataset_op.cc:177] Filling up shuffle buffer (this may take a while): 483 of 516\n",
      "2025-04-16 03:42:27.263802: I tensorflow/core/kernels/data/shuffle_dataset_op.cc:177] Filling up shuffle buffer (this may take a while): 515 of 516\n",
      "2025-04-16 03:42:27.435933: I tensorflow/core/kernels/data/shuffle_dataset_op.cc:230] Shuffle buffer filled.\n"
     ]
    },
    {
     "name": "stdout",
     "output_type": "stream",
     "text": [
      "65/65 [==============================] - 205s 533ms/step - loss: 0.7127 - accuracy: 0.5213 - auc: 0.5204 - val_loss: 0.6708 - val_accuracy: 0.6308 - val_auc: 0.6444\n",
      "Epoch 13/100\n"
     ]
    },
    {
     "name": "stderr",
     "output_type": "stream",
     "text": [
      "2025-04-16 03:43:16.146143: I tensorflow/core/kernels/data/shuffle_dataset_op.cc:177] Filling up shuffle buffer (this may take a while): 33 of 516\n",
      "2025-04-16 03:43:25.899018: I tensorflow/core/kernels/data/shuffle_dataset_op.cc:177] Filling up shuffle buffer (this may take a while): 71 of 516\n"
     ]
    },
    {
     "name": "stdout",
     "output_type": "stream",
     "text": [
      "Advertencia: ../data/train/Shoplifting042_x264.mp4 tiene menos frames que los requeridos. Usando todo el video.\n"
     ]
    },
    {
     "name": "stderr",
     "output_type": "stream",
     "text": [
      "2025-04-16 03:43:35.829622: I tensorflow/core/kernels/data/shuffle_dataset_op.cc:177] Filling up shuffle buffer (this may take a while): 102 of 516\n",
      "2025-04-16 03:43:46.029558: I tensorflow/core/kernels/data/shuffle_dataset_op.cc:177] Filling up shuffle buffer (this may take a while): 135 of 516\n",
      "2025-04-16 03:43:55.994763: I tensorflow/core/kernels/data/shuffle_dataset_op.cc:177] Filling up shuffle buffer (this may take a while): 160 of 516\n",
      "2025-04-16 03:44:05.829571: I tensorflow/core/kernels/data/shuffle_dataset_op.cc:177] Filling up shuffle buffer (this may take a while): 190 of 516\n",
      "2025-04-16 03:44:16.112621: I tensorflow/core/kernels/data/shuffle_dataset_op.cc:177] Filling up shuffle buffer (this may take a while): 219 of 516\n",
      "2025-04-16 03:44:26.092700: I tensorflow/core/kernels/data/shuffle_dataset_op.cc:177] Filling up shuffle buffer (this may take a while): 247 of 516\n",
      "2025-04-16 03:44:36.162447: I tensorflow/core/kernels/data/shuffle_dataset_op.cc:177] Filling up shuffle buffer (this may take a while): 277 of 516\n",
      "2025-04-16 03:44:45.991989: I tensorflow/core/kernels/data/shuffle_dataset_op.cc:177] Filling up shuffle buffer (this may take a while): 304 of 516\n",
      "2025-04-16 03:44:55.884735: I tensorflow/core/kernels/data/shuffle_dataset_op.cc:177] Filling up shuffle buffer (this may take a while): 336 of 516\n",
      "2025-04-16 03:45:05.932579: I tensorflow/core/kernels/data/shuffle_dataset_op.cc:177] Filling up shuffle buffer (this may take a while): 364 of 516\n",
      "2025-04-16 03:45:15.900973: I tensorflow/core/kernels/data/shuffle_dataset_op.cc:177] Filling up shuffle buffer (this may take a while): 398 of 516\n",
      "2025-04-16 03:45:26.221364: I tensorflow/core/kernels/data/shuffle_dataset_op.cc:177] Filling up shuffle buffer (this may take a while): 430 of 516\n",
      "2025-04-16 03:45:35.946520: I tensorflow/core/kernels/data/shuffle_dataset_op.cc:177] Filling up shuffle buffer (this may take a while): 456 of 516\n",
      "2025-04-16 03:45:45.942367: I tensorflow/core/kernels/data/shuffle_dataset_op.cc:177] Filling up shuffle buffer (this may take a while): 483 of 516\n",
      "2025-04-16 03:45:55.911717: I tensorflow/core/kernels/data/shuffle_dataset_op.cc:177] Filling up shuffle buffer (this may take a while): 515 of 516\n",
      "2025-04-16 03:45:56.092849: I tensorflow/core/kernels/data/shuffle_dataset_op.cc:230] Shuffle buffer filled.\n"
     ]
    },
    {
     "name": "stdout",
     "output_type": "stream",
     "text": [
      "65/65 [==============================] - 205s 535ms/step - loss: 0.6829 - accuracy: 0.5543 - auc: 0.5850 - val_loss: 0.7065 - val_accuracy: 0.4154 - val_auc: 0.4867\n",
      "Epoch 14/100\n"
     ]
    },
    {
     "name": "stderr",
     "output_type": "stream",
     "text": [
      "2025-04-16 03:46:42.741734: I tensorflow/core/kernels/data/shuffle_dataset_op.cc:177] Filling up shuffle buffer (this may take a while): 33 of 516\n",
      "2025-04-16 03:46:52.461807: I tensorflow/core/kernels/data/shuffle_dataset_op.cc:177] Filling up shuffle buffer (this may take a while): 71 of 516\n"
     ]
    },
    {
     "name": "stdout",
     "output_type": "stream",
     "text": [
      "Advertencia: ../data/train/Shoplifting042_x264.mp4 tiene menos frames que los requeridos. Usando todo el video.\n"
     ]
    },
    {
     "name": "stderr",
     "output_type": "stream",
     "text": [
      "2025-04-16 03:47:02.548777: I tensorflow/core/kernels/data/shuffle_dataset_op.cc:177] Filling up shuffle buffer (this may take a while): 103 of 516\n",
      "2025-04-16 03:47:12.823081: I tensorflow/core/kernels/data/shuffle_dataset_op.cc:177] Filling up shuffle buffer (this may take a while): 136 of 516\n",
      "2025-04-16 03:47:22.615451: I tensorflow/core/kernels/data/shuffle_dataset_op.cc:177] Filling up shuffle buffer (this may take a while): 161 of 516\n",
      "2025-04-16 03:47:32.761098: I tensorflow/core/kernels/data/shuffle_dataset_op.cc:177] Filling up shuffle buffer (this may take a while): 192 of 516\n",
      "2025-04-16 03:47:42.498635: I tensorflow/core/kernels/data/shuffle_dataset_op.cc:177] Filling up shuffle buffer (this may take a while): 220 of 516\n",
      "2025-04-16 03:47:52.853627: I tensorflow/core/kernels/data/shuffle_dataset_op.cc:177] Filling up shuffle buffer (this may take a while): 250 of 516\n",
      "2025-04-16 03:48:02.455354: I tensorflow/core/kernels/data/shuffle_dataset_op.cc:177] Filling up shuffle buffer (this may take a while): 279 of 516\n",
      "2025-04-16 03:48:12.429791: I tensorflow/core/kernels/data/shuffle_dataset_op.cc:177] Filling up shuffle buffer (this may take a while): 307 of 516\n",
      "2025-04-16 03:48:22.439311: I tensorflow/core/kernels/data/shuffle_dataset_op.cc:177] Filling up shuffle buffer (this may take a while): 338 of 516\n",
      "2025-04-16 03:48:32.644649: I tensorflow/core/kernels/data/shuffle_dataset_op.cc:177] Filling up shuffle buffer (this may take a while): 367 of 516\n",
      "2025-04-16 03:48:42.488274: I tensorflow/core/kernels/data/shuffle_dataset_op.cc:177] Filling up shuffle buffer (this may take a while): 401 of 516\n",
      "2025-04-16 03:48:52.755905: I tensorflow/core/kernels/data/shuffle_dataset_op.cc:177] Filling up shuffle buffer (this may take a while): 432 of 516\n",
      "2025-04-16 03:49:02.804294: I tensorflow/core/kernels/data/shuffle_dataset_op.cc:177] Filling up shuffle buffer (this may take a while): 461 of 516\n",
      "2025-04-16 03:49:12.704767: I tensorflow/core/kernels/data/shuffle_dataset_op.cc:177] Filling up shuffle buffer (this may take a while): 488 of 516\n",
      "2025-04-16 03:49:21.234161: I tensorflow/core/kernels/data/shuffle_dataset_op.cc:230] Shuffle buffer filled.\n"
     ]
    },
    {
     "name": "stdout",
     "output_type": "stream",
     "text": [
      "65/65 [==============================] - 203s 535ms/step - loss: 0.7118 - accuracy: 0.4922 - auc: 0.4699 - val_loss: 0.6866 - val_accuracy: 0.5538 - val_auc: 0.5587\n",
      "Epoch 15/100\n"
     ]
    },
    {
     "name": "stderr",
     "output_type": "stream",
     "text": [
      "2025-04-16 03:50:08.116405: I tensorflow/core/kernels/data/shuffle_dataset_op.cc:177] Filling up shuffle buffer (this may take a while): 33 of 516\n",
      "2025-04-16 03:50:17.959654: I tensorflow/core/kernels/data/shuffle_dataset_op.cc:177] Filling up shuffle buffer (this may take a while): 72 of 516\n"
     ]
    },
    {
     "name": "stdout",
     "output_type": "stream",
     "text": [
      "Advertencia: ../data/train/Shoplifting042_x264.mp4 tiene menos frames que los requeridos. Usando todo el video.\n"
     ]
    },
    {
     "name": "stderr",
     "output_type": "stream",
     "text": [
      "2025-04-16 03:50:27.879135: I tensorflow/core/kernels/data/shuffle_dataset_op.cc:177] Filling up shuffle buffer (this may take a while): 104 of 516\n",
      "2025-04-16 03:50:38.099759: I tensorflow/core/kernels/data/shuffle_dataset_op.cc:177] Filling up shuffle buffer (this may take a while): 136 of 516\n",
      "2025-04-16 03:50:48.005852: I tensorflow/core/kernels/data/shuffle_dataset_op.cc:177] Filling up shuffle buffer (this may take a while): 161 of 516\n",
      "2025-04-16 03:50:58.074867: I tensorflow/core/kernels/data/shuffle_dataset_op.cc:177] Filling up shuffle buffer (this may take a while): 191 of 516\n",
      "2025-04-16 03:51:08.371077: I tensorflow/core/kernels/data/shuffle_dataset_op.cc:177] Filling up shuffle buffer (this may take a while): 220 of 516\n",
      "2025-04-16 03:51:17.928439: I tensorflow/core/kernels/data/shuffle_dataset_op.cc:177] Filling up shuffle buffer (this may take a while): 249 of 516\n",
      "2025-04-16 03:51:27.959543: I tensorflow/core/kernels/data/shuffle_dataset_op.cc:177] Filling up shuffle buffer (this may take a while): 278 of 516\n",
      "2025-04-16 03:51:37.943340: I tensorflow/core/kernels/data/shuffle_dataset_op.cc:177] Filling up shuffle buffer (this may take a while): 306 of 516\n",
      "2025-04-16 03:51:48.388642: I tensorflow/core/kernels/data/shuffle_dataset_op.cc:177] Filling up shuffle buffer (this may take a while): 338 of 516\n",
      "2025-04-16 03:51:57.987526: I tensorflow/core/kernels/data/shuffle_dataset_op.cc:177] Filling up shuffle buffer (this may take a while): 365 of 516\n",
      "2025-04-16 03:52:08.308451: I tensorflow/core/kernels/data/shuffle_dataset_op.cc:177] Filling up shuffle buffer (this may take a while): 400 of 516\n",
      "2025-04-16 03:52:18.266894: I tensorflow/core/kernels/data/shuffle_dataset_op.cc:177] Filling up shuffle buffer (this may take a while): 431 of 516\n",
      "2025-04-16 03:52:28.109514: I tensorflow/core/kernels/data/shuffle_dataset_op.cc:177] Filling up shuffle buffer (this may take a while): 458 of 516\n",
      "2025-04-16 03:52:37.986953: I tensorflow/core/kernels/data/shuffle_dataset_op.cc:177] Filling up shuffle buffer (this may take a while): 485 of 516\n",
      "2025-04-16 03:52:47.308066: I tensorflow/core/kernels/data/shuffle_dataset_op.cc:230] Shuffle buffer filled.\n"
     ]
    },
    {
     "name": "stdout",
     "output_type": "stream",
     "text": [
      "65/65 [==============================] - 204s 533ms/step - loss: 0.7034 - accuracy: 0.4845 - auc: 0.4953 - val_loss: 0.7044 - val_accuracy: 0.5077 - val_auc: 0.4602\n",
      "Epoch 16/100\n"
     ]
    },
    {
     "name": "stderr",
     "output_type": "stream",
     "text": [
      "2025-04-16 03:53:33.837647: I tensorflow/core/kernels/data/shuffle_dataset_op.cc:177] Filling up shuffle buffer (this may take a while): 33 of 516\n",
      "2025-04-16 03:53:43.477299: I tensorflow/core/kernels/data/shuffle_dataset_op.cc:177] Filling up shuffle buffer (this may take a while): 71 of 516\n"
     ]
    },
    {
     "name": "stdout",
     "output_type": "stream",
     "text": [
      "Advertencia: ../data/train/Shoplifting042_x264.mp4 tiene menos frames que los requeridos. Usando todo el video.\n"
     ]
    },
    {
     "name": "stderr",
     "output_type": "stream",
     "text": [
      "2025-04-16 03:53:53.682826: I tensorflow/core/kernels/data/shuffle_dataset_op.cc:177] Filling up shuffle buffer (this may take a while): 104 of 516\n",
      "2025-04-16 03:54:03.883451: I tensorflow/core/kernels/data/shuffle_dataset_op.cc:177] Filling up shuffle buffer (this may take a while): 136 of 516\n",
      "2025-04-16 03:54:13.709179: I tensorflow/core/kernels/data/shuffle_dataset_op.cc:177] Filling up shuffle buffer (this may take a while): 161 of 516\n",
      "2025-04-16 03:54:23.600724: I tensorflow/core/kernels/data/shuffle_dataset_op.cc:177] Filling up shuffle buffer (this may take a while): 191 of 516\n",
      "2025-04-16 03:54:33.758035: I tensorflow/core/kernels/data/shuffle_dataset_op.cc:177] Filling up shuffle buffer (this may take a while): 220 of 516\n",
      "2025-04-16 03:54:44.101325: I tensorflow/core/kernels/data/shuffle_dataset_op.cc:177] Filling up shuffle buffer (this may take a while): 250 of 516\n",
      "2025-04-16 03:54:53.646064: I tensorflow/core/kernels/data/shuffle_dataset_op.cc:177] Filling up shuffle buffer (this may take a while): 279 of 516\n",
      "2025-04-16 03:55:03.669373: I tensorflow/core/kernels/data/shuffle_dataset_op.cc:177] Filling up shuffle buffer (this may take a while): 307 of 516\n",
      "2025-04-16 03:55:13.816322: I tensorflow/core/kernels/data/shuffle_dataset_op.cc:177] Filling up shuffle buffer (this may take a while): 338 of 516\n",
      "2025-04-16 03:55:23.557268: I tensorflow/core/kernels/data/shuffle_dataset_op.cc:177] Filling up shuffle buffer (this may take a while): 365 of 516\n",
      "2025-04-16 03:55:34.021504: I tensorflow/core/kernels/data/shuffle_dataset_op.cc:177] Filling up shuffle buffer (this may take a while): 400 of 516\n",
      "2025-04-16 03:55:44.011359: I tensorflow/core/kernels/data/shuffle_dataset_op.cc:177] Filling up shuffle buffer (this may take a while): 431 of 516\n",
      "2025-04-16 03:55:53.838880: I tensorflow/core/kernels/data/shuffle_dataset_op.cc:177] Filling up shuffle buffer (this may take a while): 458 of 516\n",
      "2025-04-16 03:56:03.755656: I tensorflow/core/kernels/data/shuffle_dataset_op.cc:177] Filling up shuffle buffer (this may take a while): 486 of 516\n",
      "2025-04-16 03:56:12.930419: I tensorflow/core/kernels/data/shuffle_dataset_op.cc:230] Shuffle buffer filled.\n"
     ]
    },
    {
     "name": "stdout",
     "output_type": "stream",
     "text": [
      "65/65 [==============================] - 204s 535ms/step - loss: 0.7020 - accuracy: 0.4651 - auc: 0.4833 - val_loss: 0.6970 - val_accuracy: 0.5231 - val_auc: 0.4811\n",
      "Epoch 17/100\n"
     ]
    },
    {
     "name": "stderr",
     "output_type": "stream",
     "text": [
      "2025-04-16 03:56:59.392682: I tensorflow/core/kernels/data/shuffle_dataset_op.cc:177] Filling up shuffle buffer (this may take a while): 33 of 516\n",
      "2025-04-16 03:57:09.363192: I tensorflow/core/kernels/data/shuffle_dataset_op.cc:177] Filling up shuffle buffer (this may take a while): 72 of 516\n"
     ]
    },
    {
     "name": "stdout",
     "output_type": "stream",
     "text": [
      "Advertencia: ../data/train/Shoplifting042_x264.mp4 tiene menos frames que los requeridos. Usando todo el video.\n"
     ]
    },
    {
     "name": "stderr",
     "output_type": "stream",
     "text": [
      "2025-04-16 03:57:19.117484: I tensorflow/core/kernels/data/shuffle_dataset_op.cc:177] Filling up shuffle buffer (this may take a while): 103 of 516\n",
      "2025-04-16 03:57:29.446173: I tensorflow/core/kernels/data/shuffle_dataset_op.cc:177] Filling up shuffle buffer (this may take a while): 136 of 516\n",
      "2025-04-16 03:57:39.273005: I tensorflow/core/kernels/data/shuffle_dataset_op.cc:177] Filling up shuffle buffer (this may take a while): 161 of 516\n",
      "2025-04-16 03:57:49.253461: I tensorflow/core/kernels/data/shuffle_dataset_op.cc:177] Filling up shuffle buffer (this may take a while): 191 of 516\n",
      "2025-04-16 03:57:59.438511: I tensorflow/core/kernels/data/shuffle_dataset_op.cc:177] Filling up shuffle buffer (this may take a while): 220 of 516\n",
      "2025-04-16 03:58:09.099017: I tensorflow/core/kernels/data/shuffle_dataset_op.cc:177] Filling up shuffle buffer (this may take a while): 249 of 516\n",
      "2025-04-16 03:58:19.144968: I tensorflow/core/kernels/data/shuffle_dataset_op.cc:177] Filling up shuffle buffer (this may take a while): 279 of 516\n",
      "2025-04-16 03:58:29.149675: I tensorflow/core/kernels/data/shuffle_dataset_op.cc:177] Filling up shuffle buffer (this may take a while): 307 of 516\n",
      "2025-04-16 03:58:39.190798: I tensorflow/core/kernels/data/shuffle_dataset_op.cc:177] Filling up shuffle buffer (this may take a while): 338 of 516\n",
      "2025-04-16 03:58:49.131169: I tensorflow/core/kernels/data/shuffle_dataset_op.cc:177] Filling up shuffle buffer (this may take a while): 366 of 516\n",
      "2025-04-16 03:58:59.112367: I tensorflow/core/kernels/data/shuffle_dataset_op.cc:177] Filling up shuffle buffer (this may take a while): 400 of 516\n",
      "2025-04-16 03:59:09.604584: I tensorflow/core/kernels/data/shuffle_dataset_op.cc:177] Filling up shuffle buffer (this may take a while): 432 of 516\n",
      "2025-04-16 03:59:19.114282: I tensorflow/core/kernels/data/shuffle_dataset_op.cc:177] Filling up shuffle buffer (this may take a while): 460 of 516\n",
      "2025-04-16 03:59:29.201341: I tensorflow/core/kernels/data/shuffle_dataset_op.cc:177] Filling up shuffle buffer (this may take a while): 487 of 516\n",
      "2025-04-16 03:59:38.097004: I tensorflow/core/kernels/data/shuffle_dataset_op.cc:230] Shuffle buffer filled.\n"
     ]
    },
    {
     "name": "stdout",
     "output_type": "stream",
     "text": [
      "65/65 [==============================] - 204s 536ms/step - loss: 0.6924 - accuracy: 0.5446 - auc: 0.5325 - val_loss: 0.7030 - val_accuracy: 0.4923 - val_auc: 0.4493\n",
      "Epoch 18/100\n"
     ]
    },
    {
     "name": "stderr",
     "output_type": "stream",
     "text": [
      "2025-04-16 04:00:24.687415: I tensorflow/core/kernels/data/shuffle_dataset_op.cc:177] Filling up shuffle buffer (this may take a while): 33 of 516\n",
      "2025-04-16 04:00:34.482222: I tensorflow/core/kernels/data/shuffle_dataset_op.cc:177] Filling up shuffle buffer (this may take a while): 71 of 516\n"
     ]
    },
    {
     "name": "stdout",
     "output_type": "stream",
     "text": [
      "Advertencia: ../data/train/Shoplifting042_x264.mp4 tiene menos frames que los requeridos. Usando todo el video.\n"
     ]
    },
    {
     "name": "stderr",
     "output_type": "stream",
     "text": [
      "2025-04-16 04:00:44.521570: I tensorflow/core/kernels/data/shuffle_dataset_op.cc:177] Filling up shuffle buffer (this may take a while): 102 of 516\n",
      "2025-04-16 04:00:54.640349: I tensorflow/core/kernels/data/shuffle_dataset_op.cc:177] Filling up shuffle buffer (this may take a while): 135 of 516\n",
      "2025-04-16 04:01:04.549507: I tensorflow/core/kernels/data/shuffle_dataset_op.cc:177] Filling up shuffle buffer (this may take a while): 160 of 516\n",
      "2025-04-16 04:01:14.415481: I tensorflow/core/kernels/data/shuffle_dataset_op.cc:177] Filling up shuffle buffer (this may take a while): 190 of 516\n",
      "2025-04-16 04:01:24.722528: I tensorflow/core/kernels/data/shuffle_dataset_op.cc:177] Filling up shuffle buffer (this may take a while): 219 of 516\n",
      "2025-04-16 04:01:34.709520: I tensorflow/core/kernels/data/shuffle_dataset_op.cc:177] Filling up shuffle buffer (this may take a while): 247 of 516\n",
      "2025-04-16 04:01:44.816150: I tensorflow/core/kernels/data/shuffle_dataset_op.cc:177] Filling up shuffle buffer (this may take a while): 277 of 516\n",
      "2025-04-16 04:01:54.641244: I tensorflow/core/kernels/data/shuffle_dataset_op.cc:177] Filling up shuffle buffer (this may take a while): 304 of 516\n",
      "2025-04-16 04:02:04.332695: I tensorflow/core/kernels/data/shuffle_dataset_op.cc:177] Filling up shuffle buffer (this may take a while): 335 of 516\n",
      "2025-04-16 04:02:14.622543: I tensorflow/core/kernels/data/shuffle_dataset_op.cc:177] Filling up shuffle buffer (this may take a while): 364 of 516\n",
      "2025-04-16 04:02:24.534093: I tensorflow/core/kernels/data/shuffle_dataset_op.cc:177] Filling up shuffle buffer (this may take a while): 397 of 516\n",
      "2025-04-16 04:02:34.361423: I tensorflow/core/kernels/data/shuffle_dataset_op.cc:177] Filling up shuffle buffer (this may take a while): 429 of 516\n",
      "2025-04-16 04:02:44.447267: I tensorflow/core/kernels/data/shuffle_dataset_op.cc:177] Filling up shuffle buffer (this may take a while): 454 of 516\n",
      "2025-04-16 04:02:54.456869: I tensorflow/core/kernels/data/shuffle_dataset_op.cc:177] Filling up shuffle buffer (this may take a while): 481 of 516\n",
      "2025-04-16 04:03:04.377067: I tensorflow/core/kernels/data/shuffle_dataset_op.cc:177] Filling up shuffle buffer (this may take a while): 513 of 516\n",
      "2025-04-16 04:03:05.073531: I tensorflow/core/kernels/data/shuffle_dataset_op.cc:230] Shuffle buffer filled.\n"
     ]
    },
    {
     "name": "stdout",
     "output_type": "stream",
     "text": [
      "65/65 [==============================] - 205s 534ms/step - loss: 0.6950 - accuracy: 0.5329 - auc: 0.5339 - val_loss: 0.7138 - val_accuracy: 0.4923 - val_auc: 0.6004\n",
      "Epoch 19/100\n"
     ]
    },
    {
     "name": "stderr",
     "output_type": "stream",
     "text": [
      "2025-04-16 04:03:51.671511: I tensorflow/core/kernels/data/shuffle_dataset_op.cc:177] Filling up shuffle buffer (this may take a while): 33 of 516\n",
      "2025-04-16 04:04:01.290034: I tensorflow/core/kernels/data/shuffle_dataset_op.cc:177] Filling up shuffle buffer (this may take a while): 70 of 516\n"
     ]
    },
    {
     "name": "stdout",
     "output_type": "stream",
     "text": [
      "Advertencia: ../data/train/Shoplifting042_x264.mp4 tiene menos frames que los requeridos. Usando todo el video.\n"
     ]
    },
    {
     "name": "stderr",
     "output_type": "stream",
     "text": [
      "2025-04-16 04:04:11.525014: I tensorflow/core/kernels/data/shuffle_dataset_op.cc:177] Filling up shuffle buffer (this may take a while): 102 of 516\n",
      "2025-04-16 04:04:21.327331: I tensorflow/core/kernels/data/shuffle_dataset_op.cc:177] Filling up shuffle buffer (this may take a while): 134 of 516\n",
      "2025-04-16 04:04:31.220647: I tensorflow/core/kernels/data/shuffle_dataset_op.cc:177] Filling up shuffle buffer (this may take a while): 159 of 516\n",
      "2025-04-16 04:04:41.439676: I tensorflow/core/kernels/data/shuffle_dataset_op.cc:177] Filling up shuffle buffer (this may take a while): 190 of 516\n",
      "2025-04-16 04:04:51.763152: I tensorflow/core/kernels/data/shuffle_dataset_op.cc:177] Filling up shuffle buffer (this may take a while): 219 of 516\n",
      "2025-04-16 04:05:01.268244: I tensorflow/core/kernels/data/shuffle_dataset_op.cc:177] Filling up shuffle buffer (this may take a while): 246 of 516\n",
      "2025-04-16 04:05:11.737705: I tensorflow/core/kernels/data/shuffle_dataset_op.cc:177] Filling up shuffle buffer (this may take a while): 277 of 516\n",
      "2025-04-16 04:05:21.502335: I tensorflow/core/kernels/data/shuffle_dataset_op.cc:177] Filling up shuffle buffer (this may take a while): 304 of 516\n",
      "2025-04-16 04:05:31.339238: I tensorflow/core/kernels/data/shuffle_dataset_op.cc:177] Filling up shuffle buffer (this may take a while): 336 of 516\n",
      "2025-04-16 04:05:41.457186: I tensorflow/core/kernels/data/shuffle_dataset_op.cc:177] Filling up shuffle buffer (this may take a while): 364 of 516\n",
      "2025-04-16 04:05:51.351381: I tensorflow/core/kernels/data/shuffle_dataset_op.cc:177] Filling up shuffle buffer (this may take a while): 397 of 516\n",
      "2025-04-16 04:06:01.826797: I tensorflow/core/kernels/data/shuffle_dataset_op.cc:177] Filling up shuffle buffer (this may take a while): 430 of 516\n",
      "2025-04-16 04:06:11.269204: I tensorflow/core/kernels/data/shuffle_dataset_op.cc:177] Filling up shuffle buffer (this may take a while): 455 of 516\n",
      "2025-04-16 04:06:21.451937: I tensorflow/core/kernels/data/shuffle_dataset_op.cc:177] Filling up shuffle buffer (this may take a while): 483 of 516\n",
      "2025-04-16 04:06:31.294329: I tensorflow/core/kernels/data/shuffle_dataset_op.cc:177] Filling up shuffle buffer (this may take a while): 515 of 516\n",
      "2025-04-16 04:06:31.473122: I tensorflow/core/kernels/data/shuffle_dataset_op.cc:230] Shuffle buffer filled.\n"
     ]
    },
    {
     "name": "stdout",
     "output_type": "stream",
     "text": [
      "65/65 [==============================] - 205s 537ms/step - loss: 0.6985 - accuracy: 0.5213 - auc: 0.5063 - val_loss: 0.6934 - val_accuracy: 0.5077 - val_auc: 0.5606\n",
      "Epoch 20/100\n"
     ]
    },
    {
     "name": "stderr",
     "output_type": "stream",
     "text": [
      "2025-04-16 04:07:18.410986: I tensorflow/core/kernels/data/shuffle_dataset_op.cc:177] Filling up shuffle buffer (this may take a while): 33 of 516\n",
      "2025-04-16 04:07:28.097673: I tensorflow/core/kernels/data/shuffle_dataset_op.cc:177] Filling up shuffle buffer (this may take a while): 70 of 516\n"
     ]
    },
    {
     "name": "stdout",
     "output_type": "stream",
     "text": [
      "Advertencia: ../data/train/Shoplifting042_x264.mp4 tiene menos frames que los requeridos. Usando todo el video.\n"
     ]
    },
    {
     "name": "stderr",
     "output_type": "stream",
     "text": [
      "2025-04-16 04:07:38.336180: I tensorflow/core/kernels/data/shuffle_dataset_op.cc:177] Filling up shuffle buffer (this may take a while): 102 of 516\n",
      "2025-04-16 04:07:48.081546: I tensorflow/core/kernels/data/shuffle_dataset_op.cc:177] Filling up shuffle buffer (this may take a while): 134 of 516\n",
      "2025-04-16 04:07:58.312442: I tensorflow/core/kernels/data/shuffle_dataset_op.cc:177] Filling up shuffle buffer (this may take a while): 160 of 516\n",
      "2025-04-16 04:08:08.126943: I tensorflow/core/kernels/data/shuffle_dataset_op.cc:177] Filling up shuffle buffer (this may take a while): 190 of 516\n",
      "2025-04-16 04:08:18.475669: I tensorflow/core/kernels/data/shuffle_dataset_op.cc:177] Filling up shuffle buffer (this may take a while): 219 of 516\n",
      "2025-04-16 04:08:28.086272: I tensorflow/core/kernels/data/shuffle_dataset_op.cc:177] Filling up shuffle buffer (this may take a while): 246 of 516\n",
      "2025-04-16 04:08:38.021980: I tensorflow/core/kernels/data/shuffle_dataset_op.cc:177] Filling up shuffle buffer (this may take a while): 276 of 516\n",
      "2025-04-16 04:08:48.134515: I tensorflow/core/kernels/data/shuffle_dataset_op.cc:177] Filling up shuffle buffer (this may take a while): 303 of 516\n",
      "2025-04-16 04:08:58.098254: I tensorflow/core/kernels/data/shuffle_dataset_op.cc:177] Filling up shuffle buffer (this may take a while): 334 of 516\n",
      "2025-04-16 04:09:08.102360: I tensorflow/core/kernels/data/shuffle_dataset_op.cc:177] Filling up shuffle buffer (this may take a while): 362 of 516\n",
      "2025-04-16 04:09:18.096064: I tensorflow/core/kernels/data/shuffle_dataset_op.cc:177] Filling up shuffle buffer (this may take a while): 395 of 516\n",
      "2025-04-16 04:09:28.042624: I tensorflow/core/kernels/data/shuffle_dataset_op.cc:177] Filling up shuffle buffer (this may take a while): 428 of 516\n",
      "2025-04-16 04:09:37.996644: I tensorflow/core/kernels/data/shuffle_dataset_op.cc:177] Filling up shuffle buffer (this may take a while): 453 of 516\n",
      "2025-04-16 04:09:48.273046: I tensorflow/core/kernels/data/shuffle_dataset_op.cc:177] Filling up shuffle buffer (this may take a while): 480 of 516\n",
      "2025-04-16 04:09:58.078553: I tensorflow/core/kernels/data/shuffle_dataset_op.cc:177] Filling up shuffle buffer (this may take a while): 512 of 516\n",
      "2025-04-16 04:09:59.122291: I tensorflow/core/kernels/data/shuffle_dataset_op.cc:230] Shuffle buffer filled.\n"
     ]
    },
    {
     "name": "stdout",
     "output_type": "stream",
     "text": [
      "65/65 [==============================] - 206s 536ms/step - loss: 0.6974 - accuracy: 0.4961 - auc: 0.4772 - val_loss: 0.6970 - val_accuracy: 0.4615 - val_auc: 0.4176\n",
      "Epoch 21/100\n"
     ]
    },
    {
     "name": "stderr",
     "output_type": "stream",
     "text": [
      "2025-04-16 04:10:45.645231: I tensorflow/core/kernels/data/shuffle_dataset_op.cc:177] Filling up shuffle buffer (this may take a while): 33 of 516\n",
      "2025-04-16 04:10:55.295280: I tensorflow/core/kernels/data/shuffle_dataset_op.cc:177] Filling up shuffle buffer (this may take a while): 71 of 516\n"
     ]
    },
    {
     "name": "stdout",
     "output_type": "stream",
     "text": [
      "Advertencia: ../data/train/Shoplifting042_x264.mp4 tiene menos frames que los requeridos. Usando todo el video.\n"
     ]
    },
    {
     "name": "stderr",
     "output_type": "stream",
     "text": [
      "2025-04-16 04:11:05.293034: I tensorflow/core/kernels/data/shuffle_dataset_op.cc:177] Filling up shuffle buffer (this may take a while): 103 of 516\n",
      "2025-04-16 04:11:15.589251: I tensorflow/core/kernels/data/shuffle_dataset_op.cc:177] Filling up shuffle buffer (this may take a while): 136 of 516\n",
      "2025-04-16 04:11:25.416695: I tensorflow/core/kernels/data/shuffle_dataset_op.cc:177] Filling up shuffle buffer (this may take a while): 161 of 516\n",
      "2025-04-16 04:11:35.374266: I tensorflow/core/kernels/data/shuffle_dataset_op.cc:177] Filling up shuffle buffer (this may take a while): 191 of 516\n",
      "2025-04-16 04:11:45.521816: I tensorflow/core/kernels/data/shuffle_dataset_op.cc:177] Filling up shuffle buffer (this may take a while): 220 of 516\n",
      "2025-04-16 04:11:55.827909: I tensorflow/core/kernels/data/shuffle_dataset_op.cc:177] Filling up shuffle buffer (this may take a while): 250 of 516\n",
      "2025-04-16 04:12:05.392674: I tensorflow/core/kernels/data/shuffle_dataset_op.cc:177] Filling up shuffle buffer (this may take a while): 279 of 516\n",
      "2025-04-16 04:12:15.384319: I tensorflow/core/kernels/data/shuffle_dataset_op.cc:177] Filling up shuffle buffer (this may take a while): 307 of 516\n",
      "2025-04-16 04:12:25.380123: I tensorflow/core/kernels/data/shuffle_dataset_op.cc:177] Filling up shuffle buffer (this may take a while): 338 of 516\n",
      "2025-04-16 04:12:35.349714: I tensorflow/core/kernels/data/shuffle_dataset_op.cc:177] Filling up shuffle buffer (this may take a while): 366 of 516\n",
      "2025-04-16 04:12:45.296849: I tensorflow/core/kernels/data/shuffle_dataset_op.cc:177] Filling up shuffle buffer (this may take a while): 400 of 516\n",
      "2025-04-16 04:12:55.816854: I tensorflow/core/kernels/data/shuffle_dataset_op.cc:177] Filling up shuffle buffer (this may take a while): 432 of 516\n",
      "2025-04-16 04:13:05.410863: I tensorflow/core/kernels/data/shuffle_dataset_op.cc:177] Filling up shuffle buffer (this may take a while): 460 of 516\n",
      "2025-04-16 04:13:15.545417: I tensorflow/core/kernels/data/shuffle_dataset_op.cc:177] Filling up shuffle buffer (this may take a while): 487 of 516\n",
      "2025-04-16 04:13:24.511865: I tensorflow/core/kernels/data/shuffle_dataset_op.cc:230] Shuffle buffer filled.\n"
     ]
    },
    {
     "name": "stdout",
     "output_type": "stream",
     "text": [
      "65/65 [==============================] - 204s 535ms/step - loss: 0.6939 - accuracy: 0.5019 - auc: 0.5052 - val_loss: 0.6962 - val_accuracy: 0.4923 - val_auc: 0.4219\n",
      "Epoch 22/100\n"
     ]
    },
    {
     "name": "stderr",
     "output_type": "stream",
     "text": [
      "2025-04-16 04:14:11.065055: I tensorflow/core/kernels/data/shuffle_dataset_op.cc:177] Filling up shuffle buffer (this may take a while): 33 of 516\n",
      "2025-04-16 04:14:20.737884: I tensorflow/core/kernels/data/shuffle_dataset_op.cc:177] Filling up shuffle buffer (this may take a while): 71 of 516\n"
     ]
    },
    {
     "name": "stdout",
     "output_type": "stream",
     "text": [
      "Advertencia: ../data/train/Shoplifting042_x264.mp4 tiene menos frames que los requeridos. Usando todo el video.\n"
     ]
    },
    {
     "name": "stderr",
     "output_type": "stream",
     "text": [
      "2025-04-16 04:14:30.806685: I tensorflow/core/kernels/data/shuffle_dataset_op.cc:177] Filling up shuffle buffer (this may take a while): 103 of 516\n",
      "2025-04-16 04:14:41.171158: I tensorflow/core/kernels/data/shuffle_dataset_op.cc:177] Filling up shuffle buffer (this may take a while): 136 of 516\n",
      "2025-04-16 04:14:50.915962: I tensorflow/core/kernels/data/shuffle_dataset_op.cc:177] Filling up shuffle buffer (this may take a while): 161 of 516\n",
      "2025-04-16 04:15:00.895697: I tensorflow/core/kernels/data/shuffle_dataset_op.cc:177] Filling up shuffle buffer (this may take a while): 191 of 516\n",
      "2025-04-16 04:15:11.057570: I tensorflow/core/kernels/data/shuffle_dataset_op.cc:177] Filling up shuffle buffer (this may take a while): 220 of 516\n",
      "2025-04-16 04:15:20.878260: I tensorflow/core/kernels/data/shuffle_dataset_op.cc:177] Filling up shuffle buffer (this may take a while): 249 of 516\n",
      "2025-04-16 04:15:30.770129: I tensorflow/core/kernels/data/shuffle_dataset_op.cc:177] Filling up shuffle buffer (this may take a while): 278 of 516\n",
      "2025-04-16 04:15:41.009320: I tensorflow/core/kernels/data/shuffle_dataset_op.cc:177] Filling up shuffle buffer (this may take a while): 307 of 516\n",
      "2025-04-16 04:15:50.993335: I tensorflow/core/kernels/data/shuffle_dataset_op.cc:177] Filling up shuffle buffer (this may take a while): 338 of 516\n",
      "2025-04-16 04:16:00.836352: I tensorflow/core/kernels/data/shuffle_dataset_op.cc:177] Filling up shuffle buffer (this may take a while): 366 of 516\n",
      "2025-04-16 04:16:10.725592: I tensorflow/core/kernels/data/shuffle_dataset_op.cc:177] Filling up shuffle buffer (this may take a while): 400 of 516\n",
      "2025-04-16 04:16:21.220745: I tensorflow/core/kernels/data/shuffle_dataset_op.cc:177] Filling up shuffle buffer (this may take a while): 432 of 516\n",
      "2025-04-16 04:16:31.143494: I tensorflow/core/kernels/data/shuffle_dataset_op.cc:177] Filling up shuffle buffer (this may take a while): 461 of 516\n",
      "2025-04-16 04:16:40.796852: I tensorflow/core/kernels/data/shuffle_dataset_op.cc:177] Filling up shuffle buffer (this may take a while): 487 of 516\n",
      "2025-04-16 04:16:49.779412: I tensorflow/core/kernels/data/shuffle_dataset_op.cc:230] Shuffle buffer filled.\n"
     ]
    },
    {
     "name": "stdout",
     "output_type": "stream",
     "text": [
      "65/65 [==============================] - 204s 534ms/step - loss: 0.6970 - accuracy: 0.4748 - auc: 0.4573 - val_loss: 0.6914 - val_accuracy: 0.5077 - val_auc: 0.5876\n",
      "Epoch 23/100\n"
     ]
    },
    {
     "name": "stderr",
     "output_type": "stream",
     "text": [
      "2025-04-16 04:17:36.217579: I tensorflow/core/kernels/data/shuffle_dataset_op.cc:177] Filling up shuffle buffer (this may take a while): 33 of 516\n",
      "2025-04-16 04:17:45.892727: I tensorflow/core/kernels/data/shuffle_dataset_op.cc:177] Filling up shuffle buffer (this may take a while): 71 of 516\n"
     ]
    },
    {
     "name": "stdout",
     "output_type": "stream",
     "text": [
      "Advertencia: ../data/train/Shoplifting042_x264.mp4 tiene menos frames que los requeridos. Usando todo el video.\n"
     ]
    },
    {
     "name": "stderr",
     "output_type": "stream",
     "text": [
      "2025-04-16 04:17:55.935662: I tensorflow/core/kernels/data/shuffle_dataset_op.cc:177] Filling up shuffle buffer (this may take a while): 103 of 516\n",
      "2025-04-16 04:18:06.228823: I tensorflow/core/kernels/data/shuffle_dataset_op.cc:177] Filling up shuffle buffer (this may take a while): 136 of 516\n",
      "2025-04-16 04:18:16.081232: I tensorflow/core/kernels/data/shuffle_dataset_op.cc:177] Filling up shuffle buffer (this may take a while): 161 of 516\n",
      "2025-04-16 04:18:26.168926: I tensorflow/core/kernels/data/shuffle_dataset_op.cc:177] Filling up shuffle buffer (this may take a while): 191 of 516\n",
      "2025-04-16 04:18:36.406397: I tensorflow/core/kernels/data/shuffle_dataset_op.cc:177] Filling up shuffle buffer (this may take a while): 220 of 516\n",
      "2025-04-16 04:18:45.977549: I tensorflow/core/kernels/data/shuffle_dataset_op.cc:177] Filling up shuffle buffer (this may take a while): 248 of 516\n",
      "2025-04-16 04:18:55.875767: I tensorflow/core/kernels/data/shuffle_dataset_op.cc:177] Filling up shuffle buffer (this may take a while): 277 of 516\n",
      "2025-04-16 04:19:05.985150: I tensorflow/core/kernels/data/shuffle_dataset_op.cc:177] Filling up shuffle buffer (this may take a while): 306 of 516\n",
      "2025-04-16 04:19:16.459099: I tensorflow/core/kernels/data/shuffle_dataset_op.cc:177] Filling up shuffle buffer (this may take a while): 338 of 516\n",
      "2025-04-16 04:19:26.015610: I tensorflow/core/kernels/data/shuffle_dataset_op.cc:177] Filling up shuffle buffer (this may take a while): 365 of 516\n",
      "2025-04-16 04:19:36.343591: I tensorflow/core/kernels/data/shuffle_dataset_op.cc:177] Filling up shuffle buffer (this may take a while): 400 of 516\n",
      "2025-04-16 04:19:46.341946: I tensorflow/core/kernels/data/shuffle_dataset_op.cc:177] Filling up shuffle buffer (this may take a while): 431 of 516\n",
      "2025-04-16 04:19:56.229202: I tensorflow/core/kernels/data/shuffle_dataset_op.cc:177] Filling up shuffle buffer (this may take a while): 458 of 516\n",
      "2025-04-16 04:20:06.020537: I tensorflow/core/kernels/data/shuffle_dataset_op.cc:177] Filling up shuffle buffer (this may take a while): 484 of 516\n",
      "2025-04-16 04:20:15.926283: I tensorflow/core/kernels/data/shuffle_dataset_op.cc:230] Shuffle buffer filled.\n"
     ]
    },
    {
     "name": "stdout",
     "output_type": "stream",
     "text": [
      "65/65 [==============================] - 205s 534ms/step - loss: 0.6943 - accuracy: 0.5039 - auc: 0.5168 - val_loss: 0.6938 - val_accuracy: 0.4769 - val_auc: 0.4981\n",
      "Epoch 24/100\n"
     ]
    },
    {
     "name": "stderr",
     "output_type": "stream",
     "text": [
      "2025-04-16 04:21:02.418285: I tensorflow/core/kernels/data/shuffle_dataset_op.cc:177] Filling up shuffle buffer (this may take a while): 33 of 516\n",
      "2025-04-16 04:21:12.061801: I tensorflow/core/kernels/data/shuffle_dataset_op.cc:177] Filling up shuffle buffer (this may take a while): 70 of 516\n"
     ]
    },
    {
     "name": "stdout",
     "output_type": "stream",
     "text": [
      "Advertencia: ../data/train/Shoplifting042_x264.mp4 tiene menos frames que los requeridos. Usando todo el video.\n"
     ]
    },
    {
     "name": "stderr",
     "output_type": "stream",
     "text": [
      "2025-04-16 04:21:22.278171: I tensorflow/core/kernels/data/shuffle_dataset_op.cc:177] Filling up shuffle buffer (this may take a while): 102 of 516\n",
      "2025-04-16 04:21:32.078624: I tensorflow/core/kernels/data/shuffle_dataset_op.cc:177] Filling up shuffle buffer (this may take a while): 134 of 516\n",
      "2025-04-16 04:21:42.385438: I tensorflow/core/kernels/data/shuffle_dataset_op.cc:177] Filling up shuffle buffer (this may take a while): 160 of 516\n",
      "2025-04-16 04:21:52.190917: I tensorflow/core/kernels/data/shuffle_dataset_op.cc:177] Filling up shuffle buffer (this may take a while): 190 of 516\n",
      "2025-04-16 04:22:02.570213: I tensorflow/core/kernels/data/shuffle_dataset_op.cc:177] Filling up shuffle buffer (this may take a while): 219 of 516\n",
      "2025-04-16 04:22:12.176736: I tensorflow/core/kernels/data/shuffle_dataset_op.cc:177] Filling up shuffle buffer (this may take a while): 246 of 516\n",
      "2025-04-16 04:22:22.086600: I tensorflow/core/kernels/data/shuffle_dataset_op.cc:177] Filling up shuffle buffer (this may take a while): 276 of 516\n",
      "2025-04-16 04:22:32.216697: I tensorflow/core/kernels/data/shuffle_dataset_op.cc:177] Filling up shuffle buffer (this may take a while): 303 of 516\n",
      "2025-04-16 04:22:42.180596: I tensorflow/core/kernels/data/shuffle_dataset_op.cc:177] Filling up shuffle buffer (this may take a while): 334 of 516\n",
      "2025-04-16 04:22:52.052118: I tensorflow/core/kernels/data/shuffle_dataset_op.cc:177] Filling up shuffle buffer (this may take a while): 361 of 516\n",
      "2025-04-16 04:23:02.050889: I tensorflow/core/kernels/data/shuffle_dataset_op.cc:177] Filling up shuffle buffer (this may take a while): 394 of 516\n",
      "2025-04-16 04:23:12.252116: I tensorflow/core/kernels/data/shuffle_dataset_op.cc:177] Filling up shuffle buffer (this may take a while): 428 of 516\n",
      "2025-04-16 04:23:22.233182: I tensorflow/core/kernels/data/shuffle_dataset_op.cc:177] Filling up shuffle buffer (this may take a while): 453 of 516\n",
      "2025-04-16 04:23:32.320368: I tensorflow/core/kernels/data/shuffle_dataset_op.cc:177] Filling up shuffle buffer (this may take a while): 479 of 516\n",
      "2025-04-16 04:23:42.272457: I tensorflow/core/kernels/data/shuffle_dataset_op.cc:177] Filling up shuffle buffer (this may take a while): 511 of 516\n",
      "2025-04-16 04:23:43.629443: I tensorflow/core/kernels/data/shuffle_dataset_op.cc:230] Shuffle buffer filled.\n"
     ]
    },
    {
     "name": "stdout",
     "output_type": "stream",
     "text": [
      "65/65 [==============================] - 206s 532ms/step - loss: 0.6940 - accuracy: 0.4981 - auc: 0.4956 - val_loss: 0.6903 - val_accuracy: 0.6000 - val_auc: 0.6402\n",
      "Epoch 25/100\n"
     ]
    },
    {
     "name": "stderr",
     "output_type": "stream",
     "text": [
      "2025-04-16 04:24:29.987718: I tensorflow/core/kernels/data/shuffle_dataset_op.cc:177] Filling up shuffle buffer (this may take a while): 33 of 516\n",
      "2025-04-16 04:24:39.727785: I tensorflow/core/kernels/data/shuffle_dataset_op.cc:177] Filling up shuffle buffer (this may take a while): 71 of 516\n"
     ]
    },
    {
     "name": "stdout",
     "output_type": "stream",
     "text": [
      "Advertencia: ../data/train/Shoplifting042_x264.mp4 tiene menos frames que los requeridos. Usando todo el video.\n"
     ]
    },
    {
     "name": "stderr",
     "output_type": "stream",
     "text": [
      "2025-04-16 04:24:49.761059: I tensorflow/core/kernels/data/shuffle_dataset_op.cc:177] Filling up shuffle buffer (this may take a while): 102 of 516\n",
      "2025-04-16 04:24:59.967383: I tensorflow/core/kernels/data/shuffle_dataset_op.cc:177] Filling up shuffle buffer (this may take a while): 135 of 516\n",
      "2025-04-16 04:25:09.877350: I tensorflow/core/kernels/data/shuffle_dataset_op.cc:177] Filling up shuffle buffer (this may take a while): 160 of 516\n",
      "2025-04-16 04:25:19.635522: I tensorflow/core/kernels/data/shuffle_dataset_op.cc:177] Filling up shuffle buffer (this may take a while): 190 of 516\n",
      "2025-04-16 04:25:29.872681: I tensorflow/core/kernels/data/shuffle_dataset_op.cc:177] Filling up shuffle buffer (this may take a while): 219 of 516\n",
      "2025-04-16 04:25:39.660327: I tensorflow/core/kernels/data/shuffle_dataset_op.cc:177] Filling up shuffle buffer (this may take a while): 247 of 516\n",
      "2025-04-16 04:25:49.784251: I tensorflow/core/kernels/data/shuffle_dataset_op.cc:177] Filling up shuffle buffer (this may take a while): 277 of 516\n",
      "2025-04-16 04:25:59.750412: I tensorflow/core/kernels/data/shuffle_dataset_op.cc:177] Filling up shuffle buffer (this may take a while): 305 of 516\n",
      "2025-04-16 04:26:09.748534: I tensorflow/core/kernels/data/shuffle_dataset_op.cc:177] Filling up shuffle buffer (this may take a while): 337 of 516\n",
      "2025-04-16 04:26:19.611688: I tensorflow/core/kernels/data/shuffle_dataset_op.cc:177] Filling up shuffle buffer (this may take a while): 364 of 516\n",
      "2025-04-16 04:26:29.683041: I tensorflow/core/kernels/data/shuffle_dataset_op.cc:177] Filling up shuffle buffer (this may take a while): 398 of 516\n",
      "2025-04-16 04:26:39.913670: I tensorflow/core/kernels/data/shuffle_dataset_op.cc:177] Filling up shuffle buffer (this may take a while): 430 of 516\n",
      "2025-04-16 04:26:49.694496: I tensorflow/core/kernels/data/shuffle_dataset_op.cc:177] Filling up shuffle buffer (this may take a while): 456 of 516\n",
      "2025-04-16 04:26:59.764754: I tensorflow/core/kernels/data/shuffle_dataset_op.cc:177] Filling up shuffle buffer (this may take a while): 483 of 516\n",
      "2025-04-16 04:27:09.715632: I tensorflow/core/kernels/data/shuffle_dataset_op.cc:177] Filling up shuffle buffer (this may take a while): 515 of 516\n",
      "2025-04-16 04:27:09.905862: I tensorflow/core/kernels/data/shuffle_dataset_op.cc:230] Shuffle buffer filled.\n"
     ]
    },
    {
     "name": "stdout",
     "output_type": "stream",
     "text": [
      "65/65 [==============================] - 205s 533ms/step - loss: 0.6939 - accuracy: 0.5019 - auc: 0.4776 - val_loss: 0.6902 - val_accuracy: 0.5385 - val_auc: 0.5786\n",
      "Epoch 26/100\n"
     ]
    },
    {
     "name": "stderr",
     "output_type": "stream",
     "text": [
      "2025-04-16 04:27:56.243126: I tensorflow/core/kernels/data/shuffle_dataset_op.cc:177] Filling up shuffle buffer (this may take a while): 33 of 516\n",
      "2025-04-16 04:28:05.974007: I tensorflow/core/kernels/data/shuffle_dataset_op.cc:177] Filling up shuffle buffer (this may take a while): 71 of 516\n"
     ]
    },
    {
     "name": "stdout",
     "output_type": "stream",
     "text": [
      "Advertencia: ../data/train/Shoplifting042_x264.mp4 tiene menos frames que los requeridos. Usando todo el video.\n"
     ]
    },
    {
     "name": "stderr",
     "output_type": "stream",
     "text": [
      "2025-04-16 04:28:15.972458: I tensorflow/core/kernels/data/shuffle_dataset_op.cc:177] Filling up shuffle buffer (this may take a while): 103 of 516\n",
      "2025-04-16 04:28:26.217346: I tensorflow/core/kernels/data/shuffle_dataset_op.cc:177] Filling up shuffle buffer (this may take a while): 136 of 516\n",
      "2025-04-16 04:28:36.097061: I tensorflow/core/kernels/data/shuffle_dataset_op.cc:177] Filling up shuffle buffer (this may take a while): 161 of 516\n",
      "2025-04-16 04:28:46.058043: I tensorflow/core/kernels/data/shuffle_dataset_op.cc:177] Filling up shuffle buffer (this may take a while): 191 of 516\n",
      "2025-04-16 04:28:56.275159: I tensorflow/core/kernels/data/shuffle_dataset_op.cc:177] Filling up shuffle buffer (this may take a while): 220 of 516\n",
      "2025-04-16 04:29:05.947243: I tensorflow/core/kernels/data/shuffle_dataset_op.cc:177] Filling up shuffle buffer (this may take a while): 249 of 516\n",
      "2025-04-16 04:29:16.003100: I tensorflow/core/kernels/data/shuffle_dataset_op.cc:177] Filling up shuffle buffer (this may take a while): 278 of 516\n",
      "2025-04-16 04:29:26.285221: I tensorflow/core/kernels/data/shuffle_dataset_op.cc:177] Filling up shuffle buffer (this may take a while): 307 of 516\n",
      "2025-04-16 04:29:36.308115: I tensorflow/core/kernels/data/shuffle_dataset_op.cc:177] Filling up shuffle buffer (this may take a while): 338 of 516\n",
      "2025-04-16 04:29:45.978219: I tensorflow/core/kernels/data/shuffle_dataset_op.cc:177] Filling up shuffle buffer (this may take a while): 365 of 516\n",
      "2025-04-16 04:29:56.274924: I tensorflow/core/kernels/data/shuffle_dataset_op.cc:177] Filling up shuffle buffer (this may take a while): 400 of 516\n",
      "2025-04-16 04:30:06.163488: I tensorflow/core/kernels/data/shuffle_dataset_op.cc:177] Filling up shuffle buffer (this may take a while): 431 of 516\n",
      "2025-04-16 04:30:16.023628: I tensorflow/core/kernels/data/shuffle_dataset_op.cc:177] Filling up shuffle buffer (this may take a while): 459 of 516\n",
      "2025-04-16 04:30:26.015909: I tensorflow/core/kernels/data/shuffle_dataset_op.cc:177] Filling up shuffle buffer (this may take a while): 486 of 516\n",
      "2025-04-16 04:30:35.134452: I tensorflow/core/kernels/data/shuffle_dataset_op.cc:230] Shuffle buffer filled.\n"
     ]
    },
    {
     "name": "stdout",
     "output_type": "stream",
     "text": [
      "65/65 [==============================] - 204s 535ms/step - loss: 0.6936 - accuracy: 0.5116 - auc: 0.5224 - val_loss: 0.6950 - val_accuracy: 0.4615 - val_auc: 0.4465\n",
      "Epoch 27/100\n"
     ]
    },
    {
     "name": "stderr",
     "output_type": "stream",
     "text": [
      "2025-04-16 04:31:21.656067: I tensorflow/core/kernels/data/shuffle_dataset_op.cc:177] Filling up shuffle buffer (this may take a while): 33 of 516\n",
      "2025-04-16 04:31:31.424874: I tensorflow/core/kernels/data/shuffle_dataset_op.cc:177] Filling up shuffle buffer (this may take a while): 71 of 516\n"
     ]
    },
    {
     "name": "stdout",
     "output_type": "stream",
     "text": [
      "Advertencia: ../data/train/Shoplifting042_x264.mp4 tiene menos frames que los requeridos. Usando todo el video.\n"
     ]
    },
    {
     "name": "stderr",
     "output_type": "stream",
     "text": [
      "2025-04-16 04:31:41.412075: I tensorflow/core/kernels/data/shuffle_dataset_op.cc:177] Filling up shuffle buffer (this may take a while): 102 of 516\n",
      "2025-04-16 04:31:51.569485: I tensorflow/core/kernels/data/shuffle_dataset_op.cc:177] Filling up shuffle buffer (this may take a while): 135 of 516\n",
      "2025-04-16 04:32:01.499657: I tensorflow/core/kernels/data/shuffle_dataset_op.cc:177] Filling up shuffle buffer (this may take a while): 160 of 516\n",
      "2025-04-16 04:32:11.431531: I tensorflow/core/kernels/data/shuffle_dataset_op.cc:177] Filling up shuffle buffer (this may take a while): 190 of 516\n",
      "2025-04-16 04:32:21.838282: I tensorflow/core/kernels/data/shuffle_dataset_op.cc:177] Filling up shuffle buffer (this may take a while): 219 of 516\n",
      "2025-04-16 04:32:31.430270: I tensorflow/core/kernels/data/shuffle_dataset_op.cc:177] Filling up shuffle buffer (this may take a while): 246 of 516\n",
      "2025-04-16 04:32:41.382230: I tensorflow/core/kernels/data/shuffle_dataset_op.cc:177] Filling up shuffle buffer (this may take a while): 276 of 516\n",
      "2025-04-16 04:32:51.253165: I tensorflow/core/kernels/data/shuffle_dataset_op.cc:177] Filling up shuffle buffer (this may take a while): 302 of 516\n",
      "2025-04-16 04:33:01.590035: I tensorflow/core/kernels/data/shuffle_dataset_op.cc:177] Filling up shuffle buffer (this may take a while): 334 of 516\n",
      "2025-04-16 04:33:11.484510: I tensorflow/core/kernels/data/shuffle_dataset_op.cc:177] Filling up shuffle buffer (this may take a while): 361 of 516\n",
      "2025-04-16 04:33:21.365513: I tensorflow/core/kernels/data/shuffle_dataset_op.cc:177] Filling up shuffle buffer (this may take a while): 393 of 516\n",
      "2025-04-16 04:33:31.565131: I tensorflow/core/kernels/data/shuffle_dataset_op.cc:177] Filling up shuffle buffer (this may take a while): 428 of 516\n",
      "2025-04-16 04:33:41.465362: I tensorflow/core/kernels/data/shuffle_dataset_op.cc:177] Filling up shuffle buffer (this may take a while): 453 of 516\n",
      "2025-04-16 04:33:51.430846: I tensorflow/core/kernels/data/shuffle_dataset_op.cc:177] Filling up shuffle buffer (this may take a while): 479 of 516\n",
      "2025-04-16 04:34:01.469709: I tensorflow/core/kernels/data/shuffle_dataset_op.cc:177] Filling up shuffle buffer (this may take a while): 512 of 516\n",
      "2025-04-16 04:34:02.509306: I tensorflow/core/kernels/data/shuffle_dataset_op.cc:230] Shuffle buffer filled.\n"
     ]
    },
    {
     "name": "stdout",
     "output_type": "stream",
     "text": [
      "65/65 [==============================] - 206s 534ms/step - loss: 0.6938 - accuracy: 0.5194 - auc: 0.4720 - val_loss: 0.6924 - val_accuracy: 0.5538 - val_auc: 0.5407\n",
      "Epoch 28/100\n"
     ]
    },
    {
     "name": "stderr",
     "output_type": "stream",
     "text": [
      "2025-04-16 04:34:48.913678: I tensorflow/core/kernels/data/shuffle_dataset_op.cc:177] Filling up shuffle buffer (this may take a while): 33 of 516\n",
      "2025-04-16 04:34:58.639238: I tensorflow/core/kernels/data/shuffle_dataset_op.cc:177] Filling up shuffle buffer (this may take a while): 71 of 516\n"
     ]
    },
    {
     "name": "stdout",
     "output_type": "stream",
     "text": [
      "Advertencia: ../data/train/Shoplifting042_x264.mp4 tiene menos frames que los requeridos. Usando todo el video.\n"
     ]
    },
    {
     "name": "stderr",
     "output_type": "stream",
     "text": [
      "2025-04-16 04:35:08.625785: I tensorflow/core/kernels/data/shuffle_dataset_op.cc:177] Filling up shuffle buffer (this may take a while): 103 of 516\n",
      "2025-04-16 04:35:18.906672: I tensorflow/core/kernels/data/shuffle_dataset_op.cc:177] Filling up shuffle buffer (this may take a while): 136 of 516\n",
      "2025-04-16 04:35:28.772338: I tensorflow/core/kernels/data/shuffle_dataset_op.cc:177] Filling up shuffle buffer (this may take a while): 161 of 516\n",
      "2025-04-16 04:35:38.731885: I tensorflow/core/kernels/data/shuffle_dataset_op.cc:177] Filling up shuffle buffer (this may take a while): 191 of 516\n",
      "2025-04-16 04:35:48.963815: I tensorflow/core/kernels/data/shuffle_dataset_op.cc:177] Filling up shuffle buffer (this may take a while): 220 of 516\n",
      "2025-04-16 04:35:59.304313: I tensorflow/core/kernels/data/shuffle_dataset_op.cc:177] Filling up shuffle buffer (this may take a while): 250 of 516\n",
      "2025-04-16 04:36:08.845127: I tensorflow/core/kernels/data/shuffle_dataset_op.cc:177] Filling up shuffle buffer (this may take a while): 279 of 516\n",
      "2025-04-16 04:36:18.879759: I tensorflow/core/kernels/data/shuffle_dataset_op.cc:177] Filling up shuffle buffer (this may take a while): 307 of 516\n",
      "2025-04-16 04:36:28.890431: I tensorflow/core/kernels/data/shuffle_dataset_op.cc:177] Filling up shuffle buffer (this may take a while): 338 of 516\n",
      "2025-04-16 04:36:38.818113: I tensorflow/core/kernels/data/shuffle_dataset_op.cc:177] Filling up shuffle buffer (this may take a while): 366 of 516\n",
      "2025-04-16 04:36:48.684476: I tensorflow/core/kernels/data/shuffle_dataset_op.cc:177] Filling up shuffle buffer (this may take a while): 400 of 516\n",
      "2025-04-16 04:36:59.176079: I tensorflow/core/kernels/data/shuffle_dataset_op.cc:177] Filling up shuffle buffer (this may take a while): 432 of 516\n",
      "2025-04-16 04:37:08.618135: I tensorflow/core/kernels/data/shuffle_dataset_op.cc:177] Filling up shuffle buffer (this may take a while): 460 of 516\n",
      "2025-04-16 04:37:18.855117: I tensorflow/core/kernels/data/shuffle_dataset_op.cc:177] Filling up shuffle buffer (this may take a while): 488 of 516\n",
      "2025-04-16 04:37:27.290172: I tensorflow/core/kernels/data/shuffle_dataset_op.cc:230] Shuffle buffer filled.\n"
     ]
    },
    {
     "name": "stdout",
     "output_type": "stream",
     "text": [
      "65/65 [==============================] - 203s 535ms/step - loss: 0.6934 - accuracy: 0.4961 - auc: 0.4969 - val_loss: 0.6932 - val_accuracy: 0.5231 - val_auc: 0.4886\n",
      "Epoch 29/100\n"
     ]
    },
    {
     "name": "stderr",
     "output_type": "stream",
     "text": [
      "2025-04-16 04:38:13.881654: I tensorflow/core/kernels/data/shuffle_dataset_op.cc:177] Filling up shuffle buffer (this may take a while): 33 of 516\n",
      "2025-04-16 04:38:23.491395: I tensorflow/core/kernels/data/shuffle_dataset_op.cc:177] Filling up shuffle buffer (this may take a while): 71 of 516\n"
     ]
    },
    {
     "name": "stdout",
     "output_type": "stream",
     "text": [
      "Advertencia: ../data/train/Shoplifting042_x264.mp4 tiene menos frames que los requeridos. Usando todo el video.\n"
     ]
    },
    {
     "name": "stderr",
     "output_type": "stream",
     "text": [
      "2025-04-16 04:38:33.500240: I tensorflow/core/kernels/data/shuffle_dataset_op.cc:177] Filling up shuffle buffer (this may take a while): 103 of 516\n",
      "2025-04-16 04:38:43.769296: I tensorflow/core/kernels/data/shuffle_dataset_op.cc:177] Filling up shuffle buffer (this may take a while): 136 of 516\n",
      "2025-04-16 04:38:53.557660: I tensorflow/core/kernels/data/shuffle_dataset_op.cc:177] Filling up shuffle buffer (this may take a while): 161 of 516\n",
      "2025-04-16 04:39:03.447811: I tensorflow/core/kernels/data/shuffle_dataset_op.cc:177] Filling up shuffle buffer (this may take a while): 191 of 516\n",
      "2025-04-16 04:39:13.570463: I tensorflow/core/kernels/data/shuffle_dataset_op.cc:177] Filling up shuffle buffer (this may take a while): 220 of 516\n",
      "2025-04-16 04:39:23.926345: I tensorflow/core/kernels/data/shuffle_dataset_op.cc:177] Filling up shuffle buffer (this may take a while): 250 of 516\n",
      "2025-04-16 04:39:33.596484: I tensorflow/core/kernels/data/shuffle_dataset_op.cc:177] Filling up shuffle buffer (this may take a while): 279 of 516\n",
      "2025-04-16 04:39:43.596739: I tensorflow/core/kernels/data/shuffle_dataset_op.cc:177] Filling up shuffle buffer (this may take a while): 307 of 516\n",
      "2025-04-16 04:39:53.568523: I tensorflow/core/kernels/data/shuffle_dataset_op.cc:177] Filling up shuffle buffer (this may take a while): 338 of 516\n",
      "2025-04-16 04:40:03.703704: I tensorflow/core/kernels/data/shuffle_dataset_op.cc:177] Filling up shuffle buffer (this may take a while): 367 of 516\n",
      "2025-04-16 04:40:13.558896: I tensorflow/core/kernels/data/shuffle_dataset_op.cc:177] Filling up shuffle buffer (this may take a while): 401 of 516\n",
      "2025-04-16 04:40:23.826452: I tensorflow/core/kernels/data/shuffle_dataset_op.cc:177] Filling up shuffle buffer (this may take a while): 432 of 516\n",
      "2025-04-16 04:40:33.763088: I tensorflow/core/kernels/data/shuffle_dataset_op.cc:177] Filling up shuffle buffer (this may take a while): 461 of 516\n",
      "2025-04-16 04:40:43.538087: I tensorflow/core/kernels/data/shuffle_dataset_op.cc:177] Filling up shuffle buffer (this may take a while): 488 of 516\n",
      "2025-04-16 04:40:52.056560: I tensorflow/core/kernels/data/shuffle_dataset_op.cc:230] Shuffle buffer filled.\n"
     ]
    },
    {
     "name": "stdout",
     "output_type": "stream",
     "text": [
      "65/65 [==============================] - 203s 532ms/step - loss: 0.6931 - accuracy: 0.5097 - auc: 0.5012 - val_loss: 0.6929 - val_accuracy: 0.4615 - val_auc: 0.5308\n",
      "Epoch 30/100\n"
     ]
    },
    {
     "name": "stderr",
     "output_type": "stream",
     "text": [
      "2025-04-16 04:41:38.413219: I tensorflow/core/kernels/data/shuffle_dataset_op.cc:177] Filling up shuffle buffer (this may take a while): 33 of 516\n",
      "2025-04-16 04:41:48.079954: I tensorflow/core/kernels/data/shuffle_dataset_op.cc:177] Filling up shuffle buffer (this may take a while): 70 of 516\n"
     ]
    },
    {
     "name": "stdout",
     "output_type": "stream",
     "text": [
      "Advertencia: ../data/train/Shoplifting042_x264.mp4 tiene menos frames que los requeridos. Usando todo el video.\n"
     ]
    },
    {
     "name": "stderr",
     "output_type": "stream",
     "text": [
      "2025-04-16 04:41:58.011672: I tensorflow/core/kernels/data/shuffle_dataset_op.cc:177] Filling up shuffle buffer (this may take a while): 101 of 516\n",
      "2025-04-16 04:42:08.112417: I tensorflow/core/kernels/data/shuffle_dataset_op.cc:177] Filling up shuffle buffer (this may take a while): 134 of 516\n",
      "2025-04-16 04:42:18.320746: I tensorflow/core/kernels/data/shuffle_dataset_op.cc:177] Filling up shuffle buffer (this may take a while): 160 of 516\n",
      "2025-04-16 04:42:28.155398: I tensorflow/core/kernels/data/shuffle_dataset_op.cc:177] Filling up shuffle buffer (this may take a while): 190 of 516\n",
      "2025-04-16 04:42:38.519938: I tensorflow/core/kernels/data/shuffle_dataset_op.cc:177] Filling up shuffle buffer (this may take a while): 219 of 516\n",
      "2025-04-16 04:42:48.129169: I tensorflow/core/kernels/data/shuffle_dataset_op.cc:177] Filling up shuffle buffer (this may take a while): 246 of 516\n",
      "2025-04-16 04:42:58.100872: I tensorflow/core/kernels/data/shuffle_dataset_op.cc:177] Filling up shuffle buffer (this may take a while): 276 of 516\n",
      "2025-04-16 04:43:08.156429: I tensorflow/core/kernels/data/shuffle_dataset_op.cc:177] Filling up shuffle buffer (this may take a while): 303 of 516\n",
      "2025-04-16 04:43:18.164039: I tensorflow/core/kernels/data/shuffle_dataset_op.cc:177] Filling up shuffle buffer (this may take a while): 334 of 516\n",
      "2025-04-16 04:43:28.172052: I tensorflow/core/kernels/data/shuffle_dataset_op.cc:177] Filling up shuffle buffer (this may take a while): 361 of 516\n",
      "2025-04-16 04:43:38.046027: I tensorflow/core/kernels/data/shuffle_dataset_op.cc:177] Filling up shuffle buffer (this may take a while): 393 of 516\n",
      "2025-04-16 04:43:48.356143: I tensorflow/core/kernels/data/shuffle_dataset_op.cc:177] Filling up shuffle buffer (this may take a while): 428 of 516\n",
      "2025-04-16 04:43:58.061625: I tensorflow/core/kernels/data/shuffle_dataset_op.cc:177] Filling up shuffle buffer (this may take a while): 452 of 516\n",
      "2025-04-16 04:44:08.473473: I tensorflow/core/kernels/data/shuffle_dataset_op.cc:177] Filling up shuffle buffer (this may take a while): 479 of 516\n",
      "2025-04-16 04:44:17.975685: I tensorflow/core/kernels/data/shuffle_dataset_op.cc:177] Filling up shuffle buffer (this may take a while): 510 of 516\n",
      "2025-04-16 04:44:19.766026: I tensorflow/core/kernels/data/shuffle_dataset_op.cc:230] Shuffle buffer filled.\n"
     ]
    },
    {
     "name": "stdout",
     "output_type": "stream",
     "text": [
      "65/65 [==============================] - 207s 538ms/step - loss: 0.6927 - accuracy: 0.5116 - auc: 0.5112 - val_loss: 0.6947 - val_accuracy: 0.4462 - val_auc: 0.4545\n",
      "Epoch 31/100\n"
     ]
    },
    {
     "name": "stderr",
     "output_type": "stream",
     "text": [
      "2025-04-16 04:45:06.370152: I tensorflow/core/kernels/data/shuffle_dataset_op.cc:177] Filling up shuffle buffer (this may take a while): 33 of 516\n",
      "2025-04-16 04:45:16.049969: I tensorflow/core/kernels/data/shuffle_dataset_op.cc:177] Filling up shuffle buffer (this may take a while): 71 of 516\n"
     ]
    },
    {
     "name": "stdout",
     "output_type": "stream",
     "text": [
      "Advertencia: ../data/train/Shoplifting042_x264.mp4 tiene menos frames que los requeridos. Usando todo el video.\n"
     ]
    },
    {
     "name": "stderr",
     "output_type": "stream",
     "text": [
      "2025-04-16 04:45:26.112333: I tensorflow/core/kernels/data/shuffle_dataset_op.cc:177] Filling up shuffle buffer (this may take a while): 103 of 516\n",
      "2025-04-16 04:45:36.458747: I tensorflow/core/kernels/data/shuffle_dataset_op.cc:177] Filling up shuffle buffer (this may take a while): 136 of 516\n",
      "2025-04-16 04:45:46.316988: I tensorflow/core/kernels/data/shuffle_dataset_op.cc:177] Filling up shuffle buffer (this may take a while): 161 of 516\n",
      "2025-04-16 04:45:56.332922: I tensorflow/core/kernels/data/shuffle_dataset_op.cc:177] Filling up shuffle buffer (this may take a while): 191 of 516\n",
      "2025-04-16 04:46:06.507977: I tensorflow/core/kernels/data/shuffle_dataset_op.cc:177] Filling up shuffle buffer (this may take a while): 220 of 516\n",
      "2025-04-16 04:46:16.168503: I tensorflow/core/kernels/data/shuffle_dataset_op.cc:177] Filling up shuffle buffer (this may take a while): 249 of 516\n",
      "2025-04-16 04:46:26.211294: I tensorflow/core/kernels/data/shuffle_dataset_op.cc:177] Filling up shuffle buffer (this may take a while): 278 of 516\n",
      "2025-04-16 04:46:36.187649: I tensorflow/core/kernels/data/shuffle_dataset_op.cc:177] Filling up shuffle buffer (this may take a while): 306 of 516\n",
      "2025-04-16 04:46:46.077617: I tensorflow/core/kernels/data/shuffle_dataset_op.cc:177] Filling up shuffle buffer (this may take a while): 337 of 516\n",
      "2025-04-16 04:46:56.474811: I tensorflow/core/kernels/data/shuffle_dataset_op.cc:177] Filling up shuffle buffer (this may take a while): 365 of 516\n",
      "2025-04-16 04:47:06.024328: I tensorflow/core/kernels/data/shuffle_dataset_op.cc:177] Filling up shuffle buffer (this may take a while): 398 of 516\n",
      "2025-04-16 04:47:16.227756: I tensorflow/core/kernels/data/shuffle_dataset_op.cc:177] Filling up shuffle buffer (this may take a while): 430 of 516\n",
      "2025-04-16 04:47:26.310047: I tensorflow/core/kernels/data/shuffle_dataset_op.cc:177] Filling up shuffle buffer (this may take a while): 457 of 516\n",
      "2025-04-16 04:47:36.323727: I tensorflow/core/kernels/data/shuffle_dataset_op.cc:177] Filling up shuffle buffer (this may take a while): 484 of 516\n",
      "2025-04-16 04:47:46.039894: I tensorflow/core/kernels/data/shuffle_dataset_op.cc:230] Shuffle buffer filled.\n"
     ]
    },
    {
     "name": "stdout",
     "output_type": "stream",
     "text": [
      "65/65 [==============================] - 205s 534ms/step - loss: 0.6931 - accuracy: 0.5000 - auc: 0.5109 - val_loss: 0.6888 - val_accuracy: 0.6000 - val_auc: 0.6657\n",
      "Epoch 32/100\n"
     ]
    },
    {
     "name": "stderr",
     "output_type": "stream",
     "text": [
      "2025-04-16 04:48:32.503788: I tensorflow/core/kernels/data/shuffle_dataset_op.cc:177] Filling up shuffle buffer (this may take a while): 33 of 516\n",
      "2025-04-16 04:48:42.212382: I tensorflow/core/kernels/data/shuffle_dataset_op.cc:177] Filling up shuffle buffer (this may take a while): 71 of 516\n"
     ]
    },
    {
     "name": "stdout",
     "output_type": "stream",
     "text": [
      "Advertencia: ../data/train/Shoplifting042_x264.mp4 tiene menos frames que los requeridos. Usando todo el video.\n"
     ]
    },
    {
     "name": "stderr",
     "output_type": "stream",
     "text": [
      "2025-04-16 04:48:52.283617: I tensorflow/core/kernels/data/shuffle_dataset_op.cc:177] Filling up shuffle buffer (this may take a while): 103 of 516\n",
      "2025-04-16 04:49:02.174659: I tensorflow/core/kernels/data/shuffle_dataset_op.cc:177] Filling up shuffle buffer (this may take a while): 135 of 516\n",
      "2025-04-16 04:49:12.463794: I tensorflow/core/kernels/data/shuffle_dataset_op.cc:177] Filling up shuffle buffer (this may take a while): 161 of 516\n",
      "2025-04-16 04:49:22.404490: I tensorflow/core/kernels/data/shuffle_dataset_op.cc:177] Filling up shuffle buffer (this may take a while): 191 of 516\n",
      "2025-04-16 04:49:32.538029: I tensorflow/core/kernels/data/shuffle_dataset_op.cc:177] Filling up shuffle buffer (this may take a while): 220 of 516\n",
      "2025-04-16 04:49:42.135530: I tensorflow/core/kernels/data/shuffle_dataset_op.cc:177] Filling up shuffle buffer (this may take a while): 249 of 516\n",
      "2025-04-16 04:49:52.338073: I tensorflow/core/kernels/data/shuffle_dataset_op.cc:177] Filling up shuffle buffer (this may take a while): 279 of 516\n",
      "2025-04-16 04:50:02.396225: I tensorflow/core/kernels/data/shuffle_dataset_op.cc:177] Filling up shuffle buffer (this may take a while): 307 of 516\n",
      "2025-04-16 04:50:12.433033: I tensorflow/core/kernels/data/shuffle_dataset_op.cc:177] Filling up shuffle buffer (this may take a while): 338 of 516\n",
      "2025-04-16 04:50:22.424051: I tensorflow/core/kernels/data/shuffle_dataset_op.cc:177] Filling up shuffle buffer (this may take a while): 366 of 516\n",
      "2025-04-16 04:50:32.310658: I tensorflow/core/kernels/data/shuffle_dataset_op.cc:177] Filling up shuffle buffer (this may take a while): 400 of 516\n",
      "2025-04-16 04:50:42.747609: I tensorflow/core/kernels/data/shuffle_dataset_op.cc:177] Filling up shuffle buffer (this may take a while): 432 of 516\n",
      "2025-04-16 04:50:52.197029: I tensorflow/core/kernels/data/shuffle_dataset_op.cc:177] Filling up shuffle buffer (this may take a while): 460 of 516\n",
      "2025-04-16 04:51:02.241050: I tensorflow/core/kernels/data/shuffle_dataset_op.cc:177] Filling up shuffle buffer (this may take a while): 487 of 516\n",
      "2025-04-16 04:51:11.209502: I tensorflow/core/kernels/data/shuffle_dataset_op.cc:230] Shuffle buffer filled.\n"
     ]
    },
    {
     "name": "stdout",
     "output_type": "stream",
     "text": [
      "65/65 [==============================] - 204s 533ms/step - loss: 0.6945 - accuracy: 0.4884 - auc: 0.4627 - val_loss: 0.6918 - val_accuracy: 0.6154 - val_auc: 0.5417\n",
      "Epoch 33/100\n"
     ]
    },
    {
     "name": "stderr",
     "output_type": "stream",
     "text": [
      "2025-04-16 04:51:57.663733: I tensorflow/core/kernels/data/shuffle_dataset_op.cc:177] Filling up shuffle buffer (this may take a while): 33 of 516\n",
      "2025-04-16 04:52:07.399360: I tensorflow/core/kernels/data/shuffle_dataset_op.cc:177] Filling up shuffle buffer (this may take a while): 71 of 516\n"
     ]
    },
    {
     "name": "stdout",
     "output_type": "stream",
     "text": [
      "Advertencia: ../data/train/Shoplifting042_x264.mp4 tiene menos frames que los requeridos. Usando todo el video.\n"
     ]
    },
    {
     "name": "stderr",
     "output_type": "stream",
     "text": [
      "2025-04-16 04:52:17.245988: I tensorflow/core/kernels/data/shuffle_dataset_op.cc:177] Filling up shuffle buffer (this may take a while): 102 of 516\n",
      "2025-04-16 04:52:27.329449: I tensorflow/core/kernels/data/shuffle_dataset_op.cc:177] Filling up shuffle buffer (this may take a while): 135 of 516\n",
      "2025-04-16 04:52:37.650717: I tensorflow/core/kernels/data/shuffle_dataset_op.cc:177] Filling up shuffle buffer (this may take a while): 161 of 516\n",
      "2025-04-16 04:52:47.658660: I tensorflow/core/kernels/data/shuffle_dataset_op.cc:177] Filling up shuffle buffer (this may take a while): 191 of 516\n",
      "2025-04-16 04:52:57.806742: I tensorflow/core/kernels/data/shuffle_dataset_op.cc:177] Filling up shuffle buffer (this may take a while): 220 of 516\n",
      "2025-04-16 04:53:07.350438: I tensorflow/core/kernels/data/shuffle_dataset_op.cc:177] Filling up shuffle buffer (this may take a while): 249 of 516\n",
      "2025-04-16 04:53:17.225135: I tensorflow/core/kernels/data/shuffle_dataset_op.cc:177] Filling up shuffle buffer (this may take a while): 278 of 516\n",
      "2025-04-16 04:53:27.503134: I tensorflow/core/kernels/data/shuffle_dataset_op.cc:177] Filling up shuffle buffer (this may take a while): 307 of 516\n",
      "2025-04-16 04:53:37.556005: I tensorflow/core/kernels/data/shuffle_dataset_op.cc:177] Filling up shuffle buffer (this may take a while): 338 of 516\n",
      "2025-04-16 04:53:47.541648: I tensorflow/core/kernels/data/shuffle_dataset_op.cc:177] Filling up shuffle buffer (this may take a while): 366 of 516\n",
      "2025-04-16 04:53:57.609772: I tensorflow/core/kernels/data/shuffle_dataset_op.cc:177] Filling up shuffle buffer (this may take a while): 400 of 516\n",
      "2025-04-16 04:54:07.581250: I tensorflow/core/kernels/data/shuffle_dataset_op.cc:177] Filling up shuffle buffer (this may take a while): 431 of 516\n",
      "2025-04-16 04:54:17.269034: I tensorflow/core/kernels/data/shuffle_dataset_op.cc:177] Filling up shuffle buffer (this may take a while): 458 of 516\n",
      "2025-04-16 04:54:27.426657: I tensorflow/core/kernels/data/shuffle_dataset_op.cc:177] Filling up shuffle buffer (this may take a while): 486 of 516\n",
      "2025-04-16 04:54:36.558720: I tensorflow/core/kernels/data/shuffle_dataset_op.cc:230] Shuffle buffer filled.\n"
     ]
    },
    {
     "name": "stdout",
     "output_type": "stream",
     "text": [
      "65/65 [==============================] - 204s 534ms/step - loss: 0.6925 - accuracy: 0.5097 - auc: 0.5241 - val_loss: 0.6918 - val_accuracy: 0.5692 - val_auc: 0.5559\n",
      "Epoch 34/100\n"
     ]
    },
    {
     "name": "stderr",
     "output_type": "stream",
     "text": [
      "2025-04-16 04:55:22.928810: I tensorflow/core/kernels/data/shuffle_dataset_op.cc:177] Filling up shuffle buffer (this may take a while): 33 of 516\n",
      "2025-04-16 04:55:32.855834: I tensorflow/core/kernels/data/shuffle_dataset_op.cc:177] Filling up shuffle buffer (this may take a while): 72 of 516\n"
     ]
    },
    {
     "name": "stdout",
     "output_type": "stream",
     "text": [
      "Advertencia: ../data/train/Shoplifting042_x264.mp4 tiene menos frames que los requeridos. Usando todo el video.\n"
     ]
    },
    {
     "name": "stderr",
     "output_type": "stream",
     "text": [
      "2025-04-16 04:55:42.815962: I tensorflow/core/kernels/data/shuffle_dataset_op.cc:177] Filling up shuffle buffer (this may take a while): 104 of 516\n",
      "2025-04-16 04:55:52.902267: I tensorflow/core/kernels/data/shuffle_dataset_op.cc:177] Filling up shuffle buffer (this may take a while): 136 of 516\n",
      "2025-04-16 04:56:02.717965: I tensorflow/core/kernels/data/shuffle_dataset_op.cc:177] Filling up shuffle buffer (this may take a while): 161 of 516\n",
      "2025-04-16 04:56:12.757143: I tensorflow/core/kernels/data/shuffle_dataset_op.cc:177] Filling up shuffle buffer (this may take a while): 191 of 516\n",
      "2025-04-16 04:56:22.939264: I tensorflow/core/kernels/data/shuffle_dataset_op.cc:177] Filling up shuffle buffer (this may take a while): 220 of 516\n",
      "2025-04-16 04:56:33.310016: I tensorflow/core/kernels/data/shuffle_dataset_op.cc:177] Filling up shuffle buffer (this may take a while): 250 of 516\n",
      "2025-04-16 04:56:42.889979: I tensorflow/core/kernels/data/shuffle_dataset_op.cc:177] Filling up shuffle buffer (this may take a while): 279 of 516\n",
      "2025-04-16 04:56:52.886120: I tensorflow/core/kernels/data/shuffle_dataset_op.cc:177] Filling up shuffle buffer (this may take a while): 307 of 516\n",
      "2025-04-16 04:57:02.911047: I tensorflow/core/kernels/data/shuffle_dataset_op.cc:177] Filling up shuffle buffer (this may take a while): 338 of 516\n",
      "2025-04-16 04:57:12.928557: I tensorflow/core/kernels/data/shuffle_dataset_op.cc:177] Filling up shuffle buffer (this may take a while): 366 of 516\n",
      "2025-04-16 04:57:22.957615: I tensorflow/core/kernels/data/shuffle_dataset_op.cc:177] Filling up shuffle buffer (this may take a while): 400 of 516\n",
      "2025-04-16 04:57:32.943243: I tensorflow/core/kernels/data/shuffle_dataset_op.cc:177] Filling up shuffle buffer (this may take a while): 431 of 516\n",
      "2025-04-16 04:57:42.712511: I tensorflow/core/kernels/data/shuffle_dataset_op.cc:177] Filling up shuffle buffer (this may take a while): 458 of 516\n",
      "2025-04-16 04:57:52.776156: I tensorflow/core/kernels/data/shuffle_dataset_op.cc:177] Filling up shuffle buffer (this may take a while): 486 of 516\n",
      "2025-04-16 04:58:01.931964: I tensorflow/core/kernels/data/shuffle_dataset_op.cc:230] Shuffle buffer filled.\n"
     ]
    },
    {
     "name": "stdout",
     "output_type": "stream",
     "text": [
      "65/65 [==============================] - 204s 531ms/step - loss: 0.6939 - accuracy: 0.5116 - auc: 0.4738 - val_loss: 0.6930 - val_accuracy: 0.4923 - val_auc: 0.5047\n",
      "Epoch 35/100\n"
     ]
    },
    {
     "name": "stderr",
     "output_type": "stream",
     "text": [
      "2025-04-16 04:58:48.159798: I tensorflow/core/kernels/data/shuffle_dataset_op.cc:177] Filling up shuffle buffer (this may take a while): 33 of 516\n",
      "2025-04-16 04:58:57.958523: I tensorflow/core/kernels/data/shuffle_dataset_op.cc:177] Filling up shuffle buffer (this may take a while): 72 of 516\n"
     ]
    },
    {
     "name": "stdout",
     "output_type": "stream",
     "text": [
      "Advertencia: ../data/train/Shoplifting042_x264.mp4 tiene menos frames que los requeridos. Usando todo el video.\n"
     ]
    },
    {
     "name": "stderr",
     "output_type": "stream",
     "text": [
      "2025-04-16 04:59:07.995734: I tensorflow/core/kernels/data/shuffle_dataset_op.cc:177] Filling up shuffle buffer (this may take a while): 104 of 516\n",
      "2025-04-16 04:59:17.950394: I tensorflow/core/kernels/data/shuffle_dataset_op.cc:177] Filling up shuffle buffer (this may take a while): 135 of 516\n",
      "2025-04-16 04:59:27.889228: I tensorflow/core/kernels/data/shuffle_dataset_op.cc:177] Filling up shuffle buffer (this may take a while): 160 of 516\n",
      "2025-04-16 04:59:38.401710: I tensorflow/core/kernels/data/shuffle_dataset_op.cc:177] Filling up shuffle buffer (this may take a while): 191 of 516\n",
      "2025-04-16 04:59:47.992919: I tensorflow/core/kernels/data/shuffle_dataset_op.cc:177] Filling up shuffle buffer (this may take a while): 219 of 516\n",
      "2025-04-16 04:59:57.999756: I tensorflow/core/kernels/data/shuffle_dataset_op.cc:177] Filling up shuffle buffer (this may take a while): 247 of 516\n",
      "2025-04-16 05:00:07.934037: I tensorflow/core/kernels/data/shuffle_dataset_op.cc:177] Filling up shuffle buffer (this may take a while): 277 of 516\n",
      "2025-04-16 05:00:17.886712: I tensorflow/core/kernels/data/shuffle_dataset_op.cc:177] Filling up shuffle buffer (this may take a while): 305 of 516\n",
      "2025-04-16 05:00:27.831606: I tensorflow/core/kernels/data/shuffle_dataset_op.cc:177] Filling up shuffle buffer (this may take a while): 337 of 516\n",
      "2025-04-16 05:00:38.077343: I tensorflow/core/kernels/data/shuffle_dataset_op.cc:177] Filling up shuffle buffer (this may take a while): 365 of 516\n",
      "2025-04-16 05:00:47.819803: I tensorflow/core/kernels/data/shuffle_dataset_op.cc:177] Filling up shuffle buffer (this may take a while): 399 of 516\n",
      "2025-04-16 05:00:58.307142: I tensorflow/core/kernels/data/shuffle_dataset_op.cc:177] Filling up shuffle buffer (this may take a while): 431 of 516\n",
      "2025-04-16 05:01:08.009434: I tensorflow/core/kernels/data/shuffle_dataset_op.cc:177] Filling up shuffle buffer (this may take a while): 458 of 516\n",
      "2025-04-16 05:01:17.997679: I tensorflow/core/kernels/data/shuffle_dataset_op.cc:177] Filling up shuffle buffer (this may take a while): 486 of 516\n",
      "2025-04-16 05:01:27.121882: I tensorflow/core/kernels/data/shuffle_dataset_op.cc:230] Shuffle buffer filled.\n"
     ]
    },
    {
     "name": "stdout",
     "output_type": "stream",
     "text": [
      "65/65 [==============================] - 204s 535ms/step - loss: 0.7589 - accuracy: 0.5291 - auc: 0.5071 - val_loss: 0.7083 - val_accuracy: 0.5077 - val_auc: 0.5682\n",
      "Epoch 36/100\n"
     ]
    },
    {
     "name": "stderr",
     "output_type": "stream",
     "text": [
      "2025-04-16 05:02:13.579006: I tensorflow/core/kernels/data/shuffle_dataset_op.cc:177] Filling up shuffle buffer (this may take a while): 33 of 516\n",
      "2025-04-16 05:02:23.465042: I tensorflow/core/kernels/data/shuffle_dataset_op.cc:177] Filling up shuffle buffer (this may take a while): 72 of 516\n"
     ]
    },
    {
     "name": "stdout",
     "output_type": "stream",
     "text": [
      "Advertencia: ../data/train/Shoplifting042_x264.mp4 tiene menos frames que los requeridos. Usando todo el video.\n"
     ]
    },
    {
     "name": "stderr",
     "output_type": "stream",
     "text": [
      "2025-04-16 05:02:33.297361: I tensorflow/core/kernels/data/shuffle_dataset_op.cc:177] Filling up shuffle buffer (this may take a while): 104 of 516\n",
      "2025-04-16 05:02:43.328784: I tensorflow/core/kernels/data/shuffle_dataset_op.cc:177] Filling up shuffle buffer (this may take a while): 136 of 516\n",
      "2025-04-16 05:02:53.815057: I tensorflow/core/kernels/data/shuffle_dataset_op.cc:177] Filling up shuffle buffer (this may take a while): 163 of 516\n",
      "2025-04-16 05:03:03.422261: I tensorflow/core/kernels/data/shuffle_dataset_op.cc:177] Filling up shuffle buffer (this may take a while): 192 of 516\n",
      "2025-04-16 05:03:13.857329: I tensorflow/core/kernels/data/shuffle_dataset_op.cc:177] Filling up shuffle buffer (this may take a while): 221 of 516\n",
      "2025-04-16 05:03:23.468800: I tensorflow/core/kernels/data/shuffle_dataset_op.cc:177] Filling up shuffle buffer (this may take a while): 250 of 516\n",
      "2025-04-16 05:03:33.514820: I tensorflow/core/kernels/data/shuffle_dataset_op.cc:177] Filling up shuffle buffer (this may take a while): 281 of 516\n",
      "2025-04-16 05:03:43.263093: I tensorflow/core/kernels/data/shuffle_dataset_op.cc:177] Filling up shuffle buffer (this may take a while): 308 of 516\n",
      "2025-04-16 05:03:53.402010: I tensorflow/core/kernels/data/shuffle_dataset_op.cc:177] Filling up shuffle buffer (this may take a while): 339 of 516\n",
      "2025-04-16 05:04:03.331891: I tensorflow/core/kernels/data/shuffle_dataset_op.cc:177] Filling up shuffle buffer (this may take a while): 367 of 516\n",
      "2025-04-16 05:04:13.451406: I tensorflow/core/kernels/data/shuffle_dataset_op.cc:177] Filling up shuffle buffer (this may take a while): 402 of 516\n",
      "2025-04-16 05:04:23.507901: I tensorflow/core/kernels/data/shuffle_dataset_op.cc:177] Filling up shuffle buffer (this may take a while): 432 of 516\n",
      "2025-04-16 05:04:33.524155: I tensorflow/core/kernels/data/shuffle_dataset_op.cc:177] Filling up shuffle buffer (this may take a while): 461 of 516\n",
      "2025-04-16 05:04:43.295215: I tensorflow/core/kernels/data/shuffle_dataset_op.cc:177] Filling up shuffle buffer (this may take a while): 488 of 516\n",
      "2025-04-16 05:04:51.803669: I tensorflow/core/kernels/data/shuffle_dataset_op.cc:230] Shuffle buffer filled.\n"
     ]
    },
    {
     "name": "stdout",
     "output_type": "stream",
     "text": [
      "65/65 [==============================] - 203s 533ms/step - loss: 0.6996 - accuracy: 0.4942 - auc: 0.5037 - val_loss: 0.6909 - val_accuracy: 0.4923 - val_auc: 0.6127\n",
      "Epoch 37/100\n"
     ]
    },
    {
     "name": "stderr",
     "output_type": "stream",
     "text": [
      "2025-04-16 05:05:38.181471: I tensorflow/core/kernels/data/shuffle_dataset_op.cc:177] Filling up shuffle buffer (this may take a while): 33 of 516\n",
      "2025-04-16 05:05:47.874518: I tensorflow/core/kernels/data/shuffle_dataset_op.cc:177] Filling up shuffle buffer (this may take a while): 71 of 516\n"
     ]
    },
    {
     "name": "stdout",
     "output_type": "stream",
     "text": [
      "Advertencia: ../data/train/Shoplifting042_x264.mp4 tiene menos frames que los requeridos. Usando todo el video.\n"
     ]
    },
    {
     "name": "stderr",
     "output_type": "stream",
     "text": [
      "2025-04-16 05:05:57.925841: I tensorflow/core/kernels/data/shuffle_dataset_op.cc:177] Filling up shuffle buffer (this may take a while): 103 of 516\n",
      "2025-04-16 05:06:08.225500: I tensorflow/core/kernels/data/shuffle_dataset_op.cc:177] Filling up shuffle buffer (this may take a while): 136 of 516\n",
      "2025-04-16 05:06:18.003973: I tensorflow/core/kernels/data/shuffle_dataset_op.cc:177] Filling up shuffle buffer (this may take a while): 161 of 516\n",
      "2025-04-16 05:06:27.958010: I tensorflow/core/kernels/data/shuffle_dataset_op.cc:177] Filling up shuffle buffer (this may take a while): 191 of 516\n",
      "2025-04-16 05:06:38.128737: I tensorflow/core/kernels/data/shuffle_dataset_op.cc:177] Filling up shuffle buffer (this may take a while): 220 of 516\n",
      "2025-04-16 05:06:48.489137: I tensorflow/core/kernels/data/shuffle_dataset_op.cc:177] Filling up shuffle buffer (this may take a while): 250 of 516\n",
      "2025-04-16 05:06:57.968947: I tensorflow/core/kernels/data/shuffle_dataset_op.cc:177] Filling up shuffle buffer (this may take a while): 279 of 516\n",
      "2025-04-16 05:07:07.962581: I tensorflow/core/kernels/data/shuffle_dataset_op.cc:177] Filling up shuffle buffer (this may take a while): 307 of 516\n",
      "2025-04-16 05:07:18.015419: I tensorflow/core/kernels/data/shuffle_dataset_op.cc:177] Filling up shuffle buffer (this may take a while): 338 of 516\n",
      "2025-04-16 05:07:27.970346: I tensorflow/core/kernels/data/shuffle_dataset_op.cc:177] Filling up shuffle buffer (this may take a while): 366 of 516\n",
      "2025-04-16 05:07:37.874898: I tensorflow/core/kernels/data/shuffle_dataset_op.cc:177] Filling up shuffle buffer (this may take a while): 400 of 516\n",
      "2025-04-16 05:07:48.435622: I tensorflow/core/kernels/data/shuffle_dataset_op.cc:177] Filling up shuffle buffer (this may take a while): 432 of 516\n",
      "2025-04-16 05:07:58.000180: I tensorflow/core/kernels/data/shuffle_dataset_op.cc:177] Filling up shuffle buffer (this may take a while): 460 of 516\n",
      "2025-04-16 05:08:08.056495: I tensorflow/core/kernels/data/shuffle_dataset_op.cc:177] Filling up shuffle buffer (this may take a while): 487 of 516\n",
      "2025-04-16 05:08:16.856697: I tensorflow/core/kernels/data/shuffle_dataset_op.cc:230] Shuffle buffer filled.\n"
     ]
    },
    {
     "name": "stdout",
     "output_type": "stream",
     "text": [
      "65/65 [==============================] - 204s 533ms/step - loss: 0.6940 - accuracy: 0.4961 - auc: 0.4602 - val_loss: 0.6929 - val_accuracy: 0.5077 - val_auc: 0.5019\n",
      "Epoch 38/100\n"
     ]
    },
    {
     "name": "stderr",
     "output_type": "stream",
     "text": [
      "2025-04-16 05:09:03.296717: I tensorflow/core/kernels/data/shuffle_dataset_op.cc:177] Filling up shuffle buffer (this may take a while): 33 of 516\n",
      "2025-04-16 05:09:13.200967: I tensorflow/core/kernels/data/shuffle_dataset_op.cc:177] Filling up shuffle buffer (this may take a while): 72 of 516\n"
     ]
    },
    {
     "name": "stdout",
     "output_type": "stream",
     "text": [
      "Advertencia: ../data/train/Shoplifting042_x264.mp4 tiene menos frames que los requeridos. Usando todo el video.\n"
     ]
    },
    {
     "name": "stderr",
     "output_type": "stream",
     "text": [
      "2025-04-16 05:09:23.006644: I tensorflow/core/kernels/data/shuffle_dataset_op.cc:177] Filling up shuffle buffer (this may take a while): 103 of 516\n",
      "2025-04-16 05:09:33.295481: I tensorflow/core/kernels/data/shuffle_dataset_op.cc:177] Filling up shuffle buffer (this may take a while): 136 of 516\n",
      "2025-04-16 05:09:43.069954: I tensorflow/core/kernels/data/shuffle_dataset_op.cc:177] Filling up shuffle buffer (this may take a while): 161 of 516\n",
      "2025-04-16 05:09:53.037587: I tensorflow/core/kernels/data/shuffle_dataset_op.cc:177] Filling up shuffle buffer (this may take a while): 191 of 516\n",
      "2025-04-16 05:10:03.157871: I tensorflow/core/kernels/data/shuffle_dataset_op.cc:177] Filling up shuffle buffer (this may take a while): 220 of 516\n",
      "2025-04-16 05:10:13.431634: I tensorflow/core/kernels/data/shuffle_dataset_op.cc:177] Filling up shuffle buffer (this may take a while): 250 of 516\n",
      "2025-04-16 05:10:23.049491: I tensorflow/core/kernels/data/shuffle_dataset_op.cc:177] Filling up shuffle buffer (this may take a while): 279 of 516\n",
      "2025-04-16 05:10:33.083350: I tensorflow/core/kernels/data/shuffle_dataset_op.cc:177] Filling up shuffle buffer (this may take a while): 307 of 516\n",
      "2025-04-16 05:10:43.034162: I tensorflow/core/kernels/data/shuffle_dataset_op.cc:177] Filling up shuffle buffer (this may take a while): 338 of 516\n",
      "2025-04-16 05:10:53.052560: I tensorflow/core/kernels/data/shuffle_dataset_op.cc:177] Filling up shuffle buffer (this may take a while): 366 of 516\n",
      "2025-04-16 05:11:03.062297: I tensorflow/core/kernels/data/shuffle_dataset_op.cc:177] Filling up shuffle buffer (this may take a while): 400 of 516\n",
      "2025-04-16 05:11:12.944916: I tensorflow/core/kernels/data/shuffle_dataset_op.cc:177] Filling up shuffle buffer (this may take a while): 431 of 516\n",
      "2025-04-16 05:11:23.077039: I tensorflow/core/kernels/data/shuffle_dataset_op.cc:177] Filling up shuffle buffer (this may take a while): 460 of 516\n",
      "2025-04-16 05:11:33.055820: I tensorflow/core/kernels/data/shuffle_dataset_op.cc:177] Filling up shuffle buffer (this may take a while): 487 of 516\n",
      "2025-04-16 05:11:41.849456: I tensorflow/core/kernels/data/shuffle_dataset_op.cc:230] Shuffle buffer filled.\n"
     ]
    },
    {
     "name": "stdout",
     "output_type": "stream",
     "text": [
      "65/65 [==============================] - 204s 535ms/step - loss: 0.6936 - accuracy: 0.5000 - auc: 0.4982 - val_loss: 0.6928 - val_accuracy: 0.5077 - val_auc: 0.5975\n",
      "Epoch 39/100\n"
     ]
    },
    {
     "name": "stderr",
     "output_type": "stream",
     "text": [
      "2025-04-16 05:12:28.377623: I tensorflow/core/kernels/data/shuffle_dataset_op.cc:177] Filling up shuffle buffer (this may take a while): 33 of 516\n",
      "2025-04-16 05:12:38.042560: I tensorflow/core/kernels/data/shuffle_dataset_op.cc:177] Filling up shuffle buffer (this may take a while): 71 of 516\n"
     ]
    },
    {
     "name": "stdout",
     "output_type": "stream",
     "text": [
      "Advertencia: ../data/train/Shoplifting042_x264.mp4 tiene menos frames que los requeridos. Usando todo el video.\n"
     ]
    },
    {
     "name": "stderr",
     "output_type": "stream",
     "text": [
      "2025-04-16 05:12:48.018148: I tensorflow/core/kernels/data/shuffle_dataset_op.cc:177] Filling up shuffle buffer (this may take a while): 102 of 516\n",
      "2025-04-16 05:12:58.038681: I tensorflow/core/kernels/data/shuffle_dataset_op.cc:177] Filling up shuffle buffer (this may take a while): 135 of 516\n",
      "2025-04-16 05:13:08.291275: I tensorflow/core/kernels/data/shuffle_dataset_op.cc:177] Filling up shuffle buffer (this may take a while): 161 of 516\n",
      "2025-04-16 05:13:18.331918: I tensorflow/core/kernels/data/shuffle_dataset_op.cc:177] Filling up shuffle buffer (this may take a while): 191 of 516\n",
      "2025-04-16 05:13:28.546696: I tensorflow/core/kernels/data/shuffle_dataset_op.cc:177] Filling up shuffle buffer (this may take a while): 220 of 516\n",
      "2025-04-16 05:13:38.077896: I tensorflow/core/kernels/data/shuffle_dataset_op.cc:177] Filling up shuffle buffer (this may take a while): 248 of 516\n",
      "2025-04-16 05:13:48.254388: I tensorflow/core/kernels/data/shuffle_dataset_op.cc:177] Filling up shuffle buffer (this may take a while): 278 of 516\n",
      "2025-04-16 05:13:58.159091: I tensorflow/core/kernels/data/shuffle_dataset_op.cc:177] Filling up shuffle buffer (this may take a while): 306 of 516\n",
      "2025-04-16 05:14:08.634036: I tensorflow/core/kernels/data/shuffle_dataset_op.cc:177] Filling up shuffle buffer (this may take a while): 338 of 516\n",
      "2025-04-16 05:14:18.311161: I tensorflow/core/kernels/data/shuffle_dataset_op.cc:177] Filling up shuffle buffer (this may take a while): 365 of 516\n",
      "2025-04-16 05:14:28.255251: I tensorflow/core/kernels/data/shuffle_dataset_op.cc:177] Filling up shuffle buffer (this may take a while): 399 of 516\n",
      "2025-04-16 05:14:38.410856: I tensorflow/core/kernels/data/shuffle_dataset_op.cc:177] Filling up shuffle buffer (this may take a while): 430 of 516\n",
      "2025-04-16 05:14:48.033640: I tensorflow/core/kernels/data/shuffle_dataset_op.cc:177] Filling up shuffle buffer (this may take a while): 455 of 516\n",
      "2025-04-16 05:14:58.058874: I tensorflow/core/kernels/data/shuffle_dataset_op.cc:177] Filling up shuffle buffer (this may take a while): 482 of 516\n",
      "2025-04-16 05:15:08.174594: I tensorflow/core/kernels/data/shuffle_dataset_op.cc:177] Filling up shuffle buffer (this may take a while): 514 of 516\n",
      "2025-04-16 05:15:08.575207: I tensorflow/core/kernels/data/shuffle_dataset_op.cc:230] Shuffle buffer filled.\n"
     ]
    },
    {
     "name": "stdout",
     "output_type": "stream",
     "text": [
      "65/65 [==============================] - 205s 535ms/step - loss: 0.6935 - accuracy: 0.4961 - auc: 0.4871 - val_loss: 0.6925 - val_accuracy: 0.5077 - val_auc: 0.4853\n",
      "Epoch 40/100\n"
     ]
    },
    {
     "name": "stderr",
     "output_type": "stream",
     "text": [
      "2025-04-16 05:15:55.399829: I tensorflow/core/kernels/data/shuffle_dataset_op.cc:177] Filling up shuffle buffer (this may take a while): 33 of 516\n",
      "2025-04-16 05:16:04.934909: I tensorflow/core/kernels/data/shuffle_dataset_op.cc:177] Filling up shuffle buffer (this may take a while): 70 of 516\n"
     ]
    },
    {
     "name": "stdout",
     "output_type": "stream",
     "text": [
      "Advertencia: ../data/train/Shoplifting042_x264.mp4 tiene menos frames que los requeridos. Usando todo el video.\n"
     ]
    },
    {
     "name": "stderr",
     "output_type": "stream",
     "text": [
      "2025-04-16 05:16:15.085697: I tensorflow/core/kernels/data/shuffle_dataset_op.cc:177] Filling up shuffle buffer (this may take a while): 102 of 516\n",
      "2025-04-16 05:16:25.186469: I tensorflow/core/kernels/data/shuffle_dataset_op.cc:177] Filling up shuffle buffer (this may take a while): 135 of 516\n",
      "2025-04-16 05:16:34.991101: I tensorflow/core/kernels/data/shuffle_dataset_op.cc:177] Filling up shuffle buffer (this may take a while): 160 of 516\n",
      "2025-04-16 05:16:45.392680: I tensorflow/core/kernels/data/shuffle_dataset_op.cc:177] Filling up shuffle buffer (this may take a while): 191 of 516\n",
      "2025-04-16 05:16:54.940974: I tensorflow/core/kernels/data/shuffle_dataset_op.cc:177] Filling up shuffle buffer (this may take a while): 219 of 516\n",
      "2025-04-16 05:17:05.075688: I tensorflow/core/kernels/data/shuffle_dataset_op.cc:177] Filling up shuffle buffer (this may take a while): 249 of 516\n",
      "2025-04-16 05:17:15.114402: I tensorflow/core/kernels/data/shuffle_dataset_op.cc:177] Filling up shuffle buffer (this may take a while): 278 of 516\n",
      "2025-04-16 05:17:24.943325: I tensorflow/core/kernels/data/shuffle_dataset_op.cc:177] Filling up shuffle buffer (this may take a while): 306 of 516\n",
      "2025-04-16 05:17:35.413717: I tensorflow/core/kernels/data/shuffle_dataset_op.cc:177] Filling up shuffle buffer (this may take a while): 338 of 516\n",
      "2025-04-16 05:17:44.995489: I tensorflow/core/kernels/data/shuffle_dataset_op.cc:177] Filling up shuffle buffer (this may take a while): 365 of 516\n",
      "2025-04-16 05:17:55.345777: I tensorflow/core/kernels/data/shuffle_dataset_op.cc:177] Filling up shuffle buffer (this may take a while): 400 of 516\n",
      "2025-04-16 05:18:05.251457: I tensorflow/core/kernels/data/shuffle_dataset_op.cc:177] Filling up shuffle buffer (this may take a while): 431 of 516\n",
      "2025-04-16 05:18:15.001728: I tensorflow/core/kernels/data/shuffle_dataset_op.cc:177] Filling up shuffle buffer (this may take a while): 458 of 516\n",
      "2025-04-16 05:18:25.133055: I tensorflow/core/kernels/data/shuffle_dataset_op.cc:177] Filling up shuffle buffer (this may take a while): 486 of 516\n",
      "2025-04-16 05:18:34.255806: I tensorflow/core/kernels/data/shuffle_dataset_op.cc:230] Shuffle buffer filled.\n"
     ]
    },
    {
     "name": "stdout",
     "output_type": "stream",
     "text": [
      "65/65 [==============================] - 204s 535ms/step - loss: 0.6933 - accuracy: 0.5000 - auc: 0.4943 - val_loss: 0.6926 - val_accuracy: 0.5077 - val_auc: 0.5473\n",
      "Epoch 41/100\n"
     ]
    },
    {
     "name": "stderr",
     "output_type": "stream",
     "text": [
      "2025-04-16 05:19:20.771595: I tensorflow/core/kernels/data/shuffle_dataset_op.cc:177] Filling up shuffle buffer (this may take a while): 33 of 516\n",
      "2025-04-16 05:19:30.565637: I tensorflow/core/kernels/data/shuffle_dataset_op.cc:177] Filling up shuffle buffer (this may take a while): 72 of 516\n"
     ]
    },
    {
     "name": "stdout",
     "output_type": "stream",
     "text": [
      "Advertencia: ../data/train/Shoplifting042_x264.mp4 tiene menos frames que los requeridos. Usando todo el video.\n"
     ]
    },
    {
     "name": "stderr",
     "output_type": "stream",
     "text": [
      "2025-04-16 05:19:40.549813: I tensorflow/core/kernels/data/shuffle_dataset_op.cc:177] Filling up shuffle buffer (this may take a while): 104 of 516\n",
      "2025-04-16 05:19:50.592243: I tensorflow/core/kernels/data/shuffle_dataset_op.cc:177] Filling up shuffle buffer (this may take a while): 136 of 516\n",
      "2025-04-16 05:20:00.519337: I tensorflow/core/kernels/data/shuffle_dataset_op.cc:177] Filling up shuffle buffer (this may take a while): 162 of 516\n",
      "2025-04-16 05:20:10.778815: I tensorflow/core/kernels/data/shuffle_dataset_op.cc:177] Filling up shuffle buffer (this may take a while): 192 of 516\n",
      "2025-04-16 05:20:20.509508: I tensorflow/core/kernels/data/shuffle_dataset_op.cc:177] Filling up shuffle buffer (this may take a while): 220 of 516\n",
      "2025-04-16 05:20:30.815116: I tensorflow/core/kernels/data/shuffle_dataset_op.cc:177] Filling up shuffle buffer (this may take a while): 250 of 516\n",
      "2025-04-16 05:20:40.548055: I tensorflow/core/kernels/data/shuffle_dataset_op.cc:177] Filling up shuffle buffer (this may take a while): 280 of 516\n",
      "2025-04-16 05:20:50.662313: I tensorflow/core/kernels/data/shuffle_dataset_op.cc:177] Filling up shuffle buffer (this may take a while): 308 of 516\n",
      "2025-04-16 05:21:00.769035: I tensorflow/core/kernels/data/shuffle_dataset_op.cc:177] Filling up shuffle buffer (this may take a while): 339 of 516\n",
      "2025-04-16 05:21:10.636550: I tensorflow/core/kernels/data/shuffle_dataset_op.cc:177] Filling up shuffle buffer (this may take a while): 367 of 516\n",
      "2025-04-16 05:21:20.563719: I tensorflow/core/kernels/data/shuffle_dataset_op.cc:177] Filling up shuffle buffer (this may take a while): 401 of 516\n",
      "2025-04-16 05:21:30.888428: I tensorflow/core/kernels/data/shuffle_dataset_op.cc:177] Filling up shuffle buffer (this may take a while): 432 of 516\n",
      "2025-04-16 05:21:40.913412: I tensorflow/core/kernels/data/shuffle_dataset_op.cc:177] Filling up shuffle buffer (this may take a while): 461 of 516\n",
      "2025-04-16 05:21:50.468363: I tensorflow/core/kernels/data/shuffle_dataset_op.cc:177] Filling up shuffle buffer (this may take a while): 487 of 516\n",
      "2025-04-16 05:21:59.423709: I tensorflow/core/kernels/data/shuffle_dataset_op.cc:230] Shuffle buffer filled.\n"
     ]
    },
    {
     "name": "stdout",
     "output_type": "stream",
     "text": [
      "65/65 [==============================] - 203s 533ms/step - loss: 0.6937 - accuracy: 0.4729 - auc: 0.4549 - val_loss: 0.6934 - val_accuracy: 0.4615 - val_auc: 0.4361\n",
      "Epoch 42/100\n"
     ]
    },
    {
     "name": "stderr",
     "output_type": "stream",
     "text": [
      "2025-04-16 05:22:45.927789: I tensorflow/core/kernels/data/shuffle_dataset_op.cc:177] Filling up shuffle buffer (this may take a while): 33 of 516\n",
      "2025-04-16 05:22:55.622980: I tensorflow/core/kernels/data/shuffle_dataset_op.cc:177] Filling up shuffle buffer (this may take a while): 71 of 516\n"
     ]
    },
    {
     "name": "stdout",
     "output_type": "stream",
     "text": [
      "Advertencia: ../data/train/Shoplifting042_x264.mp4 tiene menos frames que los requeridos. Usando todo el video.\n"
     ]
    },
    {
     "name": "stderr",
     "output_type": "stream",
     "text": [
      "2025-04-16 05:23:05.579325: I tensorflow/core/kernels/data/shuffle_dataset_op.cc:177] Filling up shuffle buffer (this may take a while): 102 of 516\n",
      "2025-04-16 05:23:15.653293: I tensorflow/core/kernels/data/shuffle_dataset_op.cc:177] Filling up shuffle buffer (this may take a while): 135 of 516\n",
      "2025-04-16 05:23:25.471981: I tensorflow/core/kernels/data/shuffle_dataset_op.cc:177] Filling up shuffle buffer (this may take a while): 160 of 516\n",
      "2025-04-16 05:23:35.913971: I tensorflow/core/kernels/data/shuffle_dataset_op.cc:177] Filling up shuffle buffer (this may take a while): 191 of 516\n",
      "2025-04-16 05:23:45.513161: I tensorflow/core/kernels/data/shuffle_dataset_op.cc:177] Filling up shuffle buffer (this may take a while): 219 of 516\n",
      "2025-04-16 05:23:55.465395: I tensorflow/core/kernels/data/shuffle_dataset_op.cc:177] Filling up shuffle buffer (this may take a while): 247 of 516\n",
      "2025-04-16 05:24:05.481631: I tensorflow/core/kernels/data/shuffle_dataset_op.cc:177] Filling up shuffle buffer (this may take a while): 277 of 516\n",
      "2025-04-16 05:24:15.499579: I tensorflow/core/kernels/data/shuffle_dataset_op.cc:177] Filling up shuffle buffer (this may take a while): 306 of 516\n",
      "2025-04-16 05:24:25.994774: I tensorflow/core/kernels/data/shuffle_dataset_op.cc:177] Filling up shuffle buffer (this may take a while): 338 of 516\n",
      "2025-04-16 05:24:35.626069: I tensorflow/core/kernels/data/shuffle_dataset_op.cc:177] Filling up shuffle buffer (this may take a while): 365 of 516\n",
      "2025-04-16 05:24:45.959611: I tensorflow/core/kernels/data/shuffle_dataset_op.cc:177] Filling up shuffle buffer (this may take a while): 400 of 516\n",
      "2025-04-16 05:24:55.850893: I tensorflow/core/kernels/data/shuffle_dataset_op.cc:177] Filling up shuffle buffer (this may take a while): 431 of 516\n",
      "2025-04-16 05:25:05.516817: I tensorflow/core/kernels/data/shuffle_dataset_op.cc:177] Filling up shuffle buffer (this may take a while): 458 of 516\n",
      "2025-04-16 05:25:15.618388: I tensorflow/core/kernels/data/shuffle_dataset_op.cc:177] Filling up shuffle buffer (this may take a while): 486 of 516\n",
      "2025-04-16 05:25:24.826603: I tensorflow/core/kernels/data/shuffle_dataset_op.cc:230] Shuffle buffer filled.\n"
     ]
    },
    {
     "name": "stdout",
     "output_type": "stream",
     "text": [
      "65/65 [==============================] - 204s 537ms/step - loss: 0.6934 - accuracy: 0.4961 - auc: 0.4955 - val_loss: 0.6931 - val_accuracy: 0.5077 - val_auc: 0.5000\n",
      "Epoch 43/100\n"
     ]
    },
    {
     "name": "stderr",
     "output_type": "stream",
     "text": [
      "2025-04-16 05:26:11.817388: I tensorflow/core/kernels/data/shuffle_dataset_op.cc:177] Filling up shuffle buffer (this may take a while): 33 of 516\n",
      "2025-04-16 05:26:21.485365: I tensorflow/core/kernels/data/shuffle_dataset_op.cc:177] Filling up shuffle buffer (this may take a while): 71 of 516\n"
     ]
    },
    {
     "name": "stdout",
     "output_type": "stream",
     "text": [
      "Advertencia: ../data/train/Shoplifting042_x264.mp4 tiene menos frames que los requeridos. Usando todo el video.\n"
     ]
    },
    {
     "name": "stderr",
     "output_type": "stream",
     "text": [
      "2025-04-16 05:26:31.491982: I tensorflow/core/kernels/data/shuffle_dataset_op.cc:177] Filling up shuffle buffer (this may take a while): 103 of 516\n",
      "2025-04-16 05:26:41.450664: I tensorflow/core/kernels/data/shuffle_dataset_op.cc:177] Filling up shuffle buffer (this may take a while): 135 of 516\n",
      "2025-04-16 05:26:51.752828: I tensorflow/core/kernels/data/shuffle_dataset_op.cc:177] Filling up shuffle buffer (this may take a while): 161 of 516\n",
      "2025-04-16 05:27:01.756792: I tensorflow/core/kernels/data/shuffle_dataset_op.cc:177] Filling up shuffle buffer (this may take a while): 191 of 516\n",
      "2025-04-16 05:27:11.963311: I tensorflow/core/kernels/data/shuffle_dataset_op.cc:177] Filling up shuffle buffer (this may take a while): 220 of 516\n",
      "2025-04-16 05:27:21.535099: I tensorflow/core/kernels/data/shuffle_dataset_op.cc:177] Filling up shuffle buffer (this may take a while): 249 of 516\n",
      "2025-04-16 05:27:31.488654: I tensorflow/core/kernels/data/shuffle_dataset_op.cc:177] Filling up shuffle buffer (this may take a while): 278 of 516\n",
      "2025-04-16 05:27:41.428228: I tensorflow/core/kernels/data/shuffle_dataset_op.cc:177] Filling up shuffle buffer (this may take a while): 306 of 516\n",
      "2025-04-16 05:27:51.987142: I tensorflow/core/kernels/data/shuffle_dataset_op.cc:177] Filling up shuffle buffer (this may take a while): 338 of 516\n",
      "2025-04-16 05:28:01.670618: I tensorflow/core/kernels/data/shuffle_dataset_op.cc:177] Filling up shuffle buffer (this may take a while): 365 of 516\n",
      "2025-04-16 05:28:11.442672: I tensorflow/core/kernels/data/shuffle_dataset_op.cc:177] Filling up shuffle buffer (this may take a while): 399 of 516\n",
      "2025-04-16 05:28:21.957131: I tensorflow/core/kernels/data/shuffle_dataset_op.cc:177] Filling up shuffle buffer (this may take a while): 431 of 516\n",
      "2025-04-16 05:28:31.754550: I tensorflow/core/kernels/data/shuffle_dataset_op.cc:177] Filling up shuffle buffer (this may take a while): 458 of 516\n",
      "2025-04-16 05:28:41.575835: I tensorflow/core/kernels/data/shuffle_dataset_op.cc:177] Filling up shuffle buffer (this may take a while): 485 of 516\n",
      "2025-04-16 05:28:51.065327: I tensorflow/core/kernels/data/shuffle_dataset_op.cc:230] Shuffle buffer filled.\n"
     ]
    },
    {
     "name": "stdout",
     "output_type": "stream",
     "text": [
      "65/65 [==============================] - 204s 533ms/step - loss: 0.6933 - accuracy: 0.4864 - auc: 0.4836 - val_loss: 0.6931 - val_accuracy: 0.5077 - val_auc: 0.4848\n",
      "Epoch 44/100\n"
     ]
    },
    {
     "name": "stderr",
     "output_type": "stream",
     "text": [
      "2025-04-16 05:29:37.816706: I tensorflow/core/kernels/data/shuffle_dataset_op.cc:177] Filling up shuffle buffer (this may take a while): 33 of 516\n",
      "2025-04-16 05:29:47.606220: I tensorflow/core/kernels/data/shuffle_dataset_op.cc:177] Filling up shuffle buffer (this may take a while): 72 of 516\n"
     ]
    },
    {
     "name": "stdout",
     "output_type": "stream",
     "text": [
      "Advertencia: ../data/train/Shoplifting042_x264.mp4 tiene menos frames que los requeridos. Usando todo el video.\n"
     ]
    },
    {
     "name": "stderr",
     "output_type": "stream",
     "text": [
      "2025-04-16 05:29:57.642107: I tensorflow/core/kernels/data/shuffle_dataset_op.cc:177] Filling up shuffle buffer (this may take a while): 104 of 516\n",
      "2025-04-16 05:30:07.738436: I tensorflow/core/kernels/data/shuffle_dataset_op.cc:177] Filling up shuffle buffer (this may take a while): 136 of 516\n",
      "2025-04-16 05:30:17.570983: I tensorflow/core/kernels/data/shuffle_dataset_op.cc:177] Filling up shuffle buffer (this may take a while): 161 of 516\n",
      "2025-04-16 05:30:27.568320: I tensorflow/core/kernels/data/shuffle_dataset_op.cc:177] Filling up shuffle buffer (this may take a while): 191 of 516\n",
      "2025-04-16 05:30:37.728255: I tensorflow/core/kernels/data/shuffle_dataset_op.cc:177] Filling up shuffle buffer (this may take a while): 220 of 516\n",
      "2025-04-16 05:30:48.101786: I tensorflow/core/kernels/data/shuffle_dataset_op.cc:177] Filling up shuffle buffer (this may take a while): 250 of 516\n",
      "2025-04-16 05:30:57.491714: I tensorflow/core/kernels/data/shuffle_dataset_op.cc:177] Filling up shuffle buffer (this may take a while): 278 of 516\n",
      "2025-04-16 05:31:07.585624: I tensorflow/core/kernels/data/shuffle_dataset_op.cc:177] Filling up shuffle buffer (this may take a while): 307 of 516\n",
      "2025-04-16 05:31:17.536412: I tensorflow/core/kernels/data/shuffle_dataset_op.cc:177] Filling up shuffle buffer (this may take a while): 338 of 516\n",
      "2025-04-16 05:31:27.456880: I tensorflow/core/kernels/data/shuffle_dataset_op.cc:177] Filling up shuffle buffer (this may take a while): 366 of 516\n",
      "2025-04-16 05:31:37.466064: I tensorflow/core/kernels/data/shuffle_dataset_op.cc:177] Filling up shuffle buffer (this may take a while): 400 of 516\n",
      "2025-04-16 05:31:47.979169: I tensorflow/core/kernels/data/shuffle_dataset_op.cc:177] Filling up shuffle buffer (this may take a while): 432 of 516\n",
      "2025-04-16 05:31:57.552940: I tensorflow/core/kernels/data/shuffle_dataset_op.cc:177] Filling up shuffle buffer (this may take a while): 460 of 516\n",
      "2025-04-16 05:32:07.591993: I tensorflow/core/kernels/data/shuffle_dataset_op.cc:177] Filling up shuffle buffer (this may take a while): 487 of 516\n",
      "2025-04-16 05:32:16.374759: I tensorflow/core/kernels/data/shuffle_dataset_op.cc:230] Shuffle buffer filled.\n"
     ]
    },
    {
     "name": "stdout",
     "output_type": "stream",
     "text": [
      "65/65 [==============================] - 204s 535ms/step - loss: 0.6933 - accuracy: 0.5000 - auc: 0.4826 - val_loss: 0.6930 - val_accuracy: 0.5077 - val_auc: 0.5189\n",
      "Epoch 45/100\n"
     ]
    },
    {
     "name": "stderr",
     "output_type": "stream",
     "text": [
      "2025-04-16 05:33:03.026700: I tensorflow/core/kernels/data/shuffle_dataset_op.cc:177] Filling up shuffle buffer (this may take a while): 33 of 516\n",
      "2025-04-16 05:33:12.791724: I tensorflow/core/kernels/data/shuffle_dataset_op.cc:177] Filling up shuffle buffer (this may take a while): 71 of 516\n"
     ]
    },
    {
     "name": "stdout",
     "output_type": "stream",
     "text": [
      "Advertencia: ../data/train/Shoplifting042_x264.mp4 tiene menos frames que los requeridos. Usando todo el video.\n"
     ]
    },
    {
     "name": "stderr",
     "output_type": "stream",
     "text": [
      "2025-04-16 05:33:22.705120: I tensorflow/core/kernels/data/shuffle_dataset_op.cc:177] Filling up shuffle buffer (this may take a while): 102 of 516\n",
      "2025-04-16 05:33:32.782036: I tensorflow/core/kernels/data/shuffle_dataset_op.cc:177] Filling up shuffle buffer (this may take a while): 135 of 516\n",
      "2025-04-16 05:33:42.648126: I tensorflow/core/kernels/data/shuffle_dataset_op.cc:177] Filling up shuffle buffer (this may take a while): 160 of 516\n",
      "2025-04-16 05:33:53.079949: I tensorflow/core/kernels/data/shuffle_dataset_op.cc:177] Filling up shuffle buffer (this may take a while): 191 of 516\n",
      "2025-04-16 05:34:03.211601: I tensorflow/core/kernels/data/shuffle_dataset_op.cc:177] Filling up shuffle buffer (this may take a while): 220 of 516\n",
      "2025-04-16 05:34:12.695327: I tensorflow/core/kernels/data/shuffle_dataset_op.cc:177] Filling up shuffle buffer (this may take a while): 248 of 516\n",
      "2025-04-16 05:34:22.618298: I tensorflow/core/kernels/data/shuffle_dataset_op.cc:177] Filling up shuffle buffer (this may take a while): 277 of 516\n",
      "2025-04-16 05:34:32.849292: I tensorflow/core/kernels/data/shuffle_dataset_op.cc:177] Filling up shuffle buffer (this may take a while): 304 of 516\n",
      "2025-04-16 05:34:42.830909: I tensorflow/core/kernels/data/shuffle_dataset_op.cc:177] Filling up shuffle buffer (this may take a while): 336 of 516\n",
      "2025-04-16 05:34:52.930994: I tensorflow/core/kernels/data/shuffle_dataset_op.cc:177] Filling up shuffle buffer (this may take a while): 364 of 516\n",
      "2025-04-16 05:35:02.748816: I tensorflow/core/kernels/data/shuffle_dataset_op.cc:177] Filling up shuffle buffer (this may take a while): 397 of 516\n",
      "2025-04-16 05:35:13.115364: I tensorflow/core/kernels/data/shuffle_dataset_op.cc:177] Filling up shuffle buffer (this may take a while): 430 of 516\n",
      "2025-04-16 05:35:22.735265: I tensorflow/core/kernels/data/shuffle_dataset_op.cc:177] Filling up shuffle buffer (this may take a while): 456 of 516\n",
      "2025-04-16 05:35:32.686468: I tensorflow/core/kernels/data/shuffle_dataset_op.cc:177] Filling up shuffle buffer (this may take a while): 483 of 516\n",
      "2025-04-16 05:35:42.741900: I tensorflow/core/kernels/data/shuffle_dataset_op.cc:230] Shuffle buffer filled.\n"
     ]
    },
    {
     "name": "stdout",
     "output_type": "stream",
     "text": [
      "65/65 [==============================] - 205s 535ms/step - loss: 0.6932 - accuracy: 0.5000 - auc: 0.4806 - val_loss: 0.6930 - val_accuracy: 0.5077 - val_auc: 0.4991\n",
      "Epoch 46/100\n"
     ]
    },
    {
     "name": "stderr",
     "output_type": "stream",
     "text": [
      "2025-04-16 05:36:29.259713: I tensorflow/core/kernels/data/shuffle_dataset_op.cc:177] Filling up shuffle buffer (this may take a while): 33 of 516\n",
      "2025-04-16 05:36:38.950257: I tensorflow/core/kernels/data/shuffle_dataset_op.cc:177] Filling up shuffle buffer (this may take a while): 71 of 516\n"
     ]
    },
    {
     "name": "stdout",
     "output_type": "stream",
     "text": [
      "Advertencia: ../data/train/Shoplifting042_x264.mp4 tiene menos frames que los requeridos. Usando todo el video.\n"
     ]
    },
    {
     "name": "stderr",
     "output_type": "stream",
     "text": [
      "2025-04-16 05:36:49.021104: I tensorflow/core/kernels/data/shuffle_dataset_op.cc:177] Filling up shuffle buffer (this may take a while): 103 of 516\n",
      "2025-04-16 05:36:58.911246: I tensorflow/core/kernels/data/shuffle_dataset_op.cc:177] Filling up shuffle buffer (this may take a while): 135 of 516\n",
      "2025-04-16 05:37:09.213581: I tensorflow/core/kernels/data/shuffle_dataset_op.cc:177] Filling up shuffle buffer (this may take a while): 161 of 516\n",
      "2025-04-16 05:37:19.187863: I tensorflow/core/kernels/data/shuffle_dataset_op.cc:177] Filling up shuffle buffer (this may take a while): 191 of 516\n",
      "2025-04-16 05:37:29.313914: I tensorflow/core/kernels/data/shuffle_dataset_op.cc:177] Filling up shuffle buffer (this may take a while): 220 of 516\n",
      "2025-04-16 05:37:39.607496: I tensorflow/core/kernels/data/shuffle_dataset_op.cc:177] Filling up shuffle buffer (this may take a while): 250 of 516\n",
      "2025-04-16 05:37:49.125150: I tensorflow/core/kernels/data/shuffle_dataset_op.cc:177] Filling up shuffle buffer (this may take a while): 279 of 516\n",
      "2025-04-16 05:37:59.201614: I tensorflow/core/kernels/data/shuffle_dataset_op.cc:177] Filling up shuffle buffer (this may take a while): 307 of 516\n",
      "2025-04-16 05:38:09.270060: I tensorflow/core/kernels/data/shuffle_dataset_op.cc:177] Filling up shuffle buffer (this may take a while): 338 of 516\n",
      "2025-04-16 05:38:18.901732: I tensorflow/core/kernels/data/shuffle_dataset_op.cc:177] Filling up shuffle buffer (this may take a while): 365 of 516\n",
      "2025-04-16 05:38:29.336334: I tensorflow/core/kernels/data/shuffle_dataset_op.cc:177] Filling up shuffle buffer (this may take a while): 400 of 516\n",
      "2025-04-16 05:38:39.309276: I tensorflow/core/kernels/data/shuffle_dataset_op.cc:177] Filling up shuffle buffer (this may take a while): 431 of 516\n",
      "2025-04-16 05:38:49.125875: I tensorflow/core/kernels/data/shuffle_dataset_op.cc:177] Filling up shuffle buffer (this may take a while): 458 of 516\n",
      "2025-04-16 05:38:58.927573: I tensorflow/core/kernels/data/shuffle_dataset_op.cc:177] Filling up shuffle buffer (this may take a while): 485 of 516\n",
      "2025-04-16 05:39:08.407883: I tensorflow/core/kernels/data/shuffle_dataset_op.cc:230] Shuffle buffer filled.\n"
     ]
    },
    {
     "name": "stdout",
     "output_type": "stream",
     "text": [
      "65/65 [==============================] - 204s 532ms/step - loss: 0.6932 - accuracy: 0.5000 - auc: 0.4593 - val_loss: 0.6930 - val_accuracy: 0.5077 - val_auc: 0.5000\n",
      "Epoch 47/100\n"
     ]
    },
    {
     "name": "stderr",
     "output_type": "stream",
     "text": [
      "2025-04-16 05:39:54.807253: I tensorflow/core/kernels/data/shuffle_dataset_op.cc:177] Filling up shuffle buffer (this may take a while): 33 of 516\n",
      "2025-04-16 05:40:04.544792: I tensorflow/core/kernels/data/shuffle_dataset_op.cc:177] Filling up shuffle buffer (this may take a while): 71 of 516\n"
     ]
    },
    {
     "name": "stdout",
     "output_type": "stream",
     "text": [
      "Advertencia: ../data/train/Shoplifting042_x264.mp4 tiene menos frames que los requeridos. Usando todo el video.\n"
     ]
    },
    {
     "name": "stderr",
     "output_type": "stream",
     "text": [
      "2025-04-16 05:40:14.525392: I tensorflow/core/kernels/data/shuffle_dataset_op.cc:177] Filling up shuffle buffer (this may take a while): 102 of 516\n",
      "2025-04-16 05:40:24.610582: I tensorflow/core/kernels/data/shuffle_dataset_op.cc:177] Filling up shuffle buffer (this may take a while): 135 of 516\n",
      "2025-04-16 05:40:34.431173: I tensorflow/core/kernels/data/shuffle_dataset_op.cc:177] Filling up shuffle buffer (this may take a while): 160 of 516\n",
      "2025-04-16 05:40:44.920310: I tensorflow/core/kernels/data/shuffle_dataset_op.cc:177] Filling up shuffle buffer (this may take a while): 191 of 516\n",
      "2025-04-16 05:40:54.558864: I tensorflow/core/kernels/data/shuffle_dataset_op.cc:177] Filling up shuffle buffer (this may take a while): 219 of 516\n",
      "2025-04-16 05:41:04.560280: I tensorflow/core/kernels/data/shuffle_dataset_op.cc:177] Filling up shuffle buffer (this may take a while): 247 of 516\n",
      "2025-04-16 05:41:14.770079: I tensorflow/core/kernels/data/shuffle_dataset_op.cc:177] Filling up shuffle buffer (this may take a while): 277 of 516\n",
      "2025-04-16 05:41:24.707679: I tensorflow/core/kernels/data/shuffle_dataset_op.cc:177] Filling up shuffle buffer (this may take a while): 304 of 516\n",
      "2025-04-16 05:41:34.525442: I tensorflow/core/kernels/data/shuffle_dataset_op.cc:177] Filling up shuffle buffer (this may take a while): 335 of 516\n",
      "2025-04-16 05:41:44.378383: I tensorflow/core/kernels/data/shuffle_dataset_op.cc:177] Filling up shuffle buffer (this may take a while): 362 of 516\n",
      "2025-04-16 05:41:54.462018: I tensorflow/core/kernels/data/shuffle_dataset_op.cc:177] Filling up shuffle buffer (this may take a while): 395 of 516\n",
      "2025-04-16 05:42:04.420827: I tensorflow/core/kernels/data/shuffle_dataset_op.cc:177] Filling up shuffle buffer (this may take a while): 428 of 516\n",
      "2025-04-16 05:42:14.375596: I tensorflow/core/kernels/data/shuffle_dataset_op.cc:177] Filling up shuffle buffer (this may take a while): 453 of 516\n",
      "2025-04-16 05:42:24.377958: I tensorflow/core/kernels/data/shuffle_dataset_op.cc:177] Filling up shuffle buffer (this may take a while): 479 of 516\n",
      "2025-04-16 05:42:34.527928: I tensorflow/core/kernels/data/shuffle_dataset_op.cc:177] Filling up shuffle buffer (this may take a while): 512 of 516\n",
      "2025-04-16 05:42:35.593690: I tensorflow/core/kernels/data/shuffle_dataset_op.cc:230] Shuffle buffer filled.\n"
     ]
    },
    {
     "name": "stdout",
     "output_type": "stream",
     "text": [
      "65/65 [==============================] - 206s 534ms/step - loss: 0.6932 - accuracy: 0.5174 - auc: 0.4690 - val_loss: 0.6922 - val_accuracy: 0.6000 - val_auc: 0.5947\n",
      "Epoch 48/100\n"
     ]
    },
    {
     "name": "stderr",
     "output_type": "stream",
     "text": [
      "2025-04-16 05:43:22.016558: I tensorflow/core/kernels/data/shuffle_dataset_op.cc:177] Filling up shuffle buffer (this may take a while): 33 of 516\n",
      "2025-04-16 05:43:31.720655: I tensorflow/core/kernels/data/shuffle_dataset_op.cc:177] Filling up shuffle buffer (this may take a while): 71 of 516\n"
     ]
    },
    {
     "name": "stdout",
     "output_type": "stream",
     "text": [
      "Advertencia: ../data/train/Shoplifting042_x264.mp4 tiene menos frames que los requeridos. Usando todo el video.\n"
     ]
    },
    {
     "name": "stderr",
     "output_type": "stream",
     "text": [
      "2025-04-16 05:43:41.798747: I tensorflow/core/kernels/data/shuffle_dataset_op.cc:177] Filling up shuffle buffer (this may take a while): 103 of 516\n",
      "2025-04-16 05:43:51.686999: I tensorflow/core/kernels/data/shuffle_dataset_op.cc:177] Filling up shuffle buffer (this may take a while): 135 of 516\n",
      "2025-04-16 05:44:02.025366: I tensorflow/core/kernels/data/shuffle_dataset_op.cc:177] Filling up shuffle buffer (this may take a while): 161 of 516\n",
      "2025-04-16 05:44:12.024727: I tensorflow/core/kernels/data/shuffle_dataset_op.cc:177] Filling up shuffle buffer (this may take a while): 191 of 516\n",
      "2025-04-16 05:44:21.669705: I tensorflow/core/kernels/data/shuffle_dataset_op.cc:177] Filling up shuffle buffer (this may take a while): 219 of 516\n",
      "2025-04-16 05:44:31.730919: I tensorflow/core/kernels/data/shuffle_dataset_op.cc:177] Filling up shuffle buffer (this may take a while): 248 of 516\n",
      "2025-04-16 05:44:41.886828: I tensorflow/core/kernels/data/shuffle_dataset_op.cc:177] Filling up shuffle buffer (this may take a while): 278 of 516\n",
      "2025-04-16 05:44:51.857362: I tensorflow/core/kernels/data/shuffle_dataset_op.cc:177] Filling up shuffle buffer (this may take a while): 306 of 516\n",
      "2025-04-16 05:45:02.324401: I tensorflow/core/kernels/data/shuffle_dataset_op.cc:177] Filling up shuffle buffer (this may take a while): 338 of 516\n",
      "2025-04-16 05:45:11.988581: I tensorflow/core/kernels/data/shuffle_dataset_op.cc:177] Filling up shuffle buffer (this may take a while): 365 of 516\n",
      "2025-04-16 05:45:22.266818: I tensorflow/core/kernels/data/shuffle_dataset_op.cc:177] Filling up shuffle buffer (this may take a while): 400 of 516\n",
      "2025-04-16 05:45:32.149120: I tensorflow/core/kernels/data/shuffle_dataset_op.cc:177] Filling up shuffle buffer (this may take a while): 431 of 516\n",
      "2025-04-16 05:45:41.942701: I tensorflow/core/kernels/data/shuffle_dataset_op.cc:177] Filling up shuffle buffer (this may take a while): 458 of 516\n",
      "2025-04-16 05:45:51.784031: I tensorflow/core/kernels/data/shuffle_dataset_op.cc:177] Filling up shuffle buffer (this may take a while): 485 of 516\n",
      "2025-04-16 05:46:01.235338: I tensorflow/core/kernels/data/shuffle_dataset_op.cc:230] Shuffle buffer filled.\n"
     ]
    },
    {
     "name": "stdout",
     "output_type": "stream",
     "text": [
      "65/65 [==============================] - 204s 535ms/step - loss: 0.6931 - accuracy: 0.5213 - auc: 0.5019 - val_loss: 0.6938 - val_accuracy: 0.4308 - val_auc: 0.4886\n",
      "Epoch 49/100\n"
     ]
    },
    {
     "name": "stderr",
     "output_type": "stream",
     "text": [
      "2025-04-16 05:46:47.775784: I tensorflow/core/kernels/data/shuffle_dataset_op.cc:177] Filling up shuffle buffer (this may take a while): 33 of 516\n",
      "2025-04-16 05:46:57.525374: I tensorflow/core/kernels/data/shuffle_dataset_op.cc:177] Filling up shuffle buffer (this may take a while): 71 of 516\n"
     ]
    },
    {
     "name": "stdout",
     "output_type": "stream",
     "text": [
      "Advertencia: ../data/train/Shoplifting042_x264.mp4 tiene menos frames que los requeridos. Usando todo el video.\n"
     ]
    },
    {
     "name": "stderr",
     "output_type": "stream",
     "text": [
      "2025-04-16 05:47:07.462482: I tensorflow/core/kernels/data/shuffle_dataset_op.cc:177] Filling up shuffle buffer (this may take a while): 102 of 516\n",
      "2025-04-16 05:47:17.511002: I tensorflow/core/kernels/data/shuffle_dataset_op.cc:177] Filling up shuffle buffer (this may take a while): 135 of 516\n",
      "2025-04-16 05:47:27.816838: I tensorflow/core/kernels/data/shuffle_dataset_op.cc:177] Filling up shuffle buffer (this may take a while): 161 of 516\n",
      "2025-04-16 05:47:37.775389: I tensorflow/core/kernels/data/shuffle_dataset_op.cc:177] Filling up shuffle buffer (this may take a while): 191 of 516\n",
      "2025-04-16 05:47:47.961426: I tensorflow/core/kernels/data/shuffle_dataset_op.cc:177] Filling up shuffle buffer (this may take a while): 220 of 516\n",
      "2025-04-16 05:47:57.471134: I tensorflow/core/kernels/data/shuffle_dataset_op.cc:177] Filling up shuffle buffer (this may take a while): 248 of 516\n",
      "2025-04-16 05:48:07.496103: I tensorflow/core/kernels/data/shuffle_dataset_op.cc:177] Filling up shuffle buffer (this may take a while): 277 of 516\n",
      "2025-04-16 05:48:17.463161: I tensorflow/core/kernels/data/shuffle_dataset_op.cc:177] Filling up shuffle buffer (this may take a while): 305 of 516\n",
      "2025-04-16 05:48:27.452108: I tensorflow/core/kernels/data/shuffle_dataset_op.cc:177] Filling up shuffle buffer (this may take a while): 337 of 516\n",
      "2025-04-16 05:48:37.778898: I tensorflow/core/kernels/data/shuffle_dataset_op.cc:177] Filling up shuffle buffer (this may take a while): 365 of 516\n",
      "2025-04-16 05:48:47.542532: I tensorflow/core/kernels/data/shuffle_dataset_op.cc:177] Filling up shuffle buffer (this may take a while): 399 of 516\n",
      "2025-04-16 05:48:57.435858: I tensorflow/core/kernels/data/shuffle_dataset_op.cc:177] Filling up shuffle buffer (this may take a while): 430 of 516\n",
      "2025-04-16 05:49:07.469066: I tensorflow/core/kernels/data/shuffle_dataset_op.cc:177] Filling up shuffle buffer (this may take a while): 457 of 516\n",
      "2025-04-16 05:49:17.521166: I tensorflow/core/kernels/data/shuffle_dataset_op.cc:177] Filling up shuffle buffer (this may take a while): 484 of 516\n",
      "2025-04-16 05:49:27.218655: I tensorflow/core/kernels/data/shuffle_dataset_op.cc:230] Shuffle buffer filled.\n"
     ]
    },
    {
     "name": "stdout",
     "output_type": "stream",
     "text": [
      "65/65 [==============================] - 204s 534ms/step - loss: 0.6934 - accuracy: 0.5039 - auc: 0.4799 - val_loss: 0.6927 - val_accuracy: 0.5385 - val_auc: 0.5469\n",
      "Epoch 50/100\n"
     ]
    },
    {
     "name": "stderr",
     "output_type": "stream",
     "text": [
      "2025-04-16 05:50:13.699777: I tensorflow/core/kernels/data/shuffle_dataset_op.cc:177] Filling up shuffle buffer (this may take a while): 33 of 516\n",
      "2025-04-16 05:50:23.358040: I tensorflow/core/kernels/data/shuffle_dataset_op.cc:177] Filling up shuffle buffer (this may take a while): 71 of 516\n"
     ]
    },
    {
     "name": "stdout",
     "output_type": "stream",
     "text": [
      "Advertencia: ../data/train/Shoplifting042_x264.mp4 tiene menos frames que los requeridos. Usando todo el video.\n"
     ]
    },
    {
     "name": "stderr",
     "output_type": "stream",
     "text": [
      "2025-04-16 05:50:33.417360: I tensorflow/core/kernels/data/shuffle_dataset_op.cc:177] Filling up shuffle buffer (this may take a while): 103 of 516\n",
      "2025-04-16 05:50:43.802462: I tensorflow/core/kernels/data/shuffle_dataset_op.cc:177] Filling up shuffle buffer (this may take a while): 136 of 516\n",
      "2025-04-16 05:50:53.705550: I tensorflow/core/kernels/data/shuffle_dataset_op.cc:177] Filling up shuffle buffer (this may take a while): 161 of 516\n",
      "2025-04-16 05:51:03.705771: I tensorflow/core/kernels/data/shuffle_dataset_op.cc:177] Filling up shuffle buffer (this may take a while): 191 of 516\n",
      "2025-04-16 05:51:13.909107: I tensorflow/core/kernels/data/shuffle_dataset_op.cc:177] Filling up shuffle buffer (this may take a while): 220 of 516\n",
      "2025-04-16 05:51:23.361820: I tensorflow/core/kernels/data/shuffle_dataset_op.cc:177] Filling up shuffle buffer (this may take a while): 248 of 516\n",
      "2025-04-16 05:51:33.450614: I tensorflow/core/kernels/data/shuffle_dataset_op.cc:177] Filling up shuffle buffer (this may take a while): 278 of 516\n",
      "2025-04-16 05:51:43.389096: I tensorflow/core/kernels/data/shuffle_dataset_op.cc:177] Filling up shuffle buffer (this may take a while): 306 of 516\n",
      "2025-04-16 05:51:53.816334: I tensorflow/core/kernels/data/shuffle_dataset_op.cc:177] Filling up shuffle buffer (this may take a while): 338 of 516\n",
      "2025-04-16 05:52:03.371527: I tensorflow/core/kernels/data/shuffle_dataset_op.cc:177] Filling up shuffle buffer (this may take a while): 365 of 516\n",
      "2025-04-16 05:52:13.681416: I tensorflow/core/kernels/data/shuffle_dataset_op.cc:177] Filling up shuffle buffer (this may take a while): 400 of 516\n",
      "2025-04-16 05:52:23.638898: I tensorflow/core/kernels/data/shuffle_dataset_op.cc:177] Filling up shuffle buffer (this may take a while): 431 of 516\n",
      "2025-04-16 05:52:33.379012: I tensorflow/core/kernels/data/shuffle_dataset_op.cc:177] Filling up shuffle buffer (this may take a while): 458 of 516\n",
      "2025-04-16 05:52:43.465955: I tensorflow/core/kernels/data/shuffle_dataset_op.cc:177] Filling up shuffle buffer (this may take a while): 486 of 516\n",
      "2025-04-16 05:52:52.592750: I tensorflow/core/kernels/data/shuffle_dataset_op.cc:230] Shuffle buffer filled.\n"
     ]
    },
    {
     "name": "stdout",
     "output_type": "stream",
     "text": [
      "65/65 [==============================] - 204s 535ms/step - loss: 0.6933 - accuracy: 0.4942 - auc: 0.4872 - val_loss: 0.6930 - val_accuracy: 0.5077 - val_auc: 0.5303\n",
      "Epoch 51/100\n"
     ]
    },
    {
     "name": "stderr",
     "output_type": "stream",
     "text": [
      "2025-04-16 05:53:39.136185: I tensorflow/core/kernels/data/shuffle_dataset_op.cc:177] Filling up shuffle buffer (this may take a while): 33 of 516\n",
      "2025-04-16 05:53:48.777242: I tensorflow/core/kernels/data/shuffle_dataset_op.cc:177] Filling up shuffle buffer (this may take a while): 71 of 516\n"
     ]
    },
    {
     "name": "stdout",
     "output_type": "stream",
     "text": [
      "Advertencia: ../data/train/Shoplifting042_x264.mp4 tiene menos frames que los requeridos. Usando todo el video.\n"
     ]
    },
    {
     "name": "stderr",
     "output_type": "stream",
     "text": [
      "2025-04-16 05:53:58.960716: I tensorflow/core/kernels/data/shuffle_dataset_op.cc:177] Filling up shuffle buffer (this may take a while): 104 of 516\n",
      "2025-04-16 05:54:09.059330: I tensorflow/core/kernels/data/shuffle_dataset_op.cc:177] Filling up shuffle buffer (this may take a while): 136 of 516\n",
      "2025-04-16 05:54:18.875363: I tensorflow/core/kernels/data/shuffle_dataset_op.cc:177] Filling up shuffle buffer (this may take a while): 161 of 516\n",
      "2025-04-16 05:54:28.795531: I tensorflow/core/kernels/data/shuffle_dataset_op.cc:177] Filling up shuffle buffer (this may take a while): 191 of 516\n",
      "2025-04-16 05:54:38.947649: I tensorflow/core/kernels/data/shuffle_dataset_op.cc:177] Filling up shuffle buffer (this may take a while): 220 of 516\n",
      "2025-04-16 05:54:49.231953: I tensorflow/core/kernels/data/shuffle_dataset_op.cc:177] Filling up shuffle buffer (this may take a while): 250 of 516\n",
      "2025-04-16 05:54:58.849016: I tensorflow/core/kernels/data/shuffle_dataset_op.cc:177] Filling up shuffle buffer (this may take a while): 279 of 516\n",
      "2025-04-16 05:55:08.889423: I tensorflow/core/kernels/data/shuffle_dataset_op.cc:177] Filling up shuffle buffer (this may take a while): 307 of 516\n",
      "2025-04-16 05:55:18.971552: I tensorflow/core/kernels/data/shuffle_dataset_op.cc:177] Filling up shuffle buffer (this may take a while): 338 of 516\n",
      "2025-04-16 05:55:28.899353: I tensorflow/core/kernels/data/shuffle_dataset_op.cc:177] Filling up shuffle buffer (this may take a while): 366 of 516\n",
      "2025-04-16 05:55:38.902654: I tensorflow/core/kernels/data/shuffle_dataset_op.cc:177] Filling up shuffle buffer (this may take a while): 400 of 516\n",
      "2025-04-16 05:55:48.790226: I tensorflow/core/kernels/data/shuffle_dataset_op.cc:177] Filling up shuffle buffer (this may take a while): 431 of 516\n",
      "2025-04-16 05:55:58.895765: I tensorflow/core/kernels/data/shuffle_dataset_op.cc:177] Filling up shuffle buffer (this may take a while): 460 of 516\n",
      "2025-04-16 05:56:08.950438: I tensorflow/core/kernels/data/shuffle_dataset_op.cc:177] Filling up shuffle buffer (this may take a while): 487 of 516\n",
      "2025-04-16 05:56:17.654593: I tensorflow/core/kernels/data/shuffle_dataset_op.cc:230] Shuffle buffer filled.\n"
     ]
    },
    {
     "name": "stdout",
     "output_type": "stream",
     "text": [
      "65/65 [==============================] - 203s 533ms/step - loss: 0.6932 - accuracy: 0.5078 - auc: 0.4922 - val_loss: 0.6930 - val_accuracy: 0.5077 - val_auc: 0.5000\n",
      "Epoch 52/100\n"
     ]
    },
    {
     "name": "stderr",
     "output_type": "stream",
     "text": [
      "2025-04-16 05:57:04.078353: I tensorflow/core/kernels/data/shuffle_dataset_op.cc:177] Filling up shuffle buffer (this may take a while): 33 of 516\n",
      "2025-04-16 05:57:13.742566: I tensorflow/core/kernels/data/shuffle_dataset_op.cc:177] Filling up shuffle buffer (this may take a while): 71 of 516\n"
     ]
    },
    {
     "name": "stdout",
     "output_type": "stream",
     "text": [
      "Advertencia: ../data/train/Shoplifting042_x264.mp4 tiene menos frames que los requeridos. Usando todo el video.\n"
     ]
    },
    {
     "name": "stderr",
     "output_type": "stream",
     "text": [
      "2025-04-16 05:57:23.678814: I tensorflow/core/kernels/data/shuffle_dataset_op.cc:177] Filling up shuffle buffer (this may take a while): 102 of 516\n",
      "2025-04-16 05:57:33.779173: I tensorflow/core/kernels/data/shuffle_dataset_op.cc:177] Filling up shuffle buffer (this may take a while): 135 of 516\n",
      "2025-04-16 05:57:44.087810: I tensorflow/core/kernels/data/shuffle_dataset_op.cc:177] Filling up shuffle buffer (this may take a while): 161 of 516\n",
      "2025-04-16 05:57:54.104692: I tensorflow/core/kernels/data/shuffle_dataset_op.cc:177] Filling up shuffle buffer (this may take a while): 191 of 516\n",
      "2025-04-16 05:58:04.190813: I tensorflow/core/kernels/data/shuffle_dataset_op.cc:177] Filling up shuffle buffer (this may take a while): 220 of 516\n",
      "2025-04-16 05:58:13.680996: I tensorflow/core/kernels/data/shuffle_dataset_op.cc:177] Filling up shuffle buffer (this may take a while): 248 of 516\n",
      "2025-04-16 05:58:23.826950: I tensorflow/core/kernels/data/shuffle_dataset_op.cc:177] Filling up shuffle buffer (this may take a while): 278 of 516\n",
      "2025-04-16 05:58:33.687244: I tensorflow/core/kernels/data/shuffle_dataset_op.cc:177] Filling up shuffle buffer (this may take a while): 306 of 516\n",
      "2025-04-16 05:58:44.221251: I tensorflow/core/kernels/data/shuffle_dataset_op.cc:177] Filling up shuffle buffer (this may take a while): 338 of 516\n",
      "2025-04-16 05:58:53.867809: I tensorflow/core/kernels/data/shuffle_dataset_op.cc:177] Filling up shuffle buffer (this may take a while): 365 of 516\n",
      "2025-04-16 05:59:04.219425: I tensorflow/core/kernels/data/shuffle_dataset_op.cc:177] Filling up shuffle buffer (this may take a while): 400 of 516\n",
      "2025-04-16 05:59:14.206657: I tensorflow/core/kernels/data/shuffle_dataset_op.cc:177] Filling up shuffle buffer (this may take a while): 431 of 516\n",
      "2025-04-16 05:59:23.933272: I tensorflow/core/kernels/data/shuffle_dataset_op.cc:177] Filling up shuffle buffer (this may take a while): 458 of 516\n",
      "2025-04-16 05:59:33.685489: I tensorflow/core/kernels/data/shuffle_dataset_op.cc:177] Filling up shuffle buffer (this may take a while): 485 of 516\n",
      "2025-04-16 05:59:43.087022: I tensorflow/core/kernels/data/shuffle_dataset_op.cc:230] Shuffle buffer filled.\n"
     ]
    },
    {
     "name": "stdout",
     "output_type": "stream",
     "text": [
      "65/65 [==============================] - 204s 533ms/step - loss: 0.6932 - accuracy: 0.4981 - auc: 0.5058 - val_loss: 0.6924 - val_accuracy: 0.5692 - val_auc: 0.5625\n",
      "Epoch 53/100\n"
     ]
    },
    {
     "name": "stderr",
     "output_type": "stream",
     "text": [
      "2025-04-16 06:00:29.439194: I tensorflow/core/kernels/data/shuffle_dataset_op.cc:177] Filling up shuffle buffer (this may take a while): 33 of 516\n",
      "2025-04-16 06:00:39.139557: I tensorflow/core/kernels/data/shuffle_dataset_op.cc:177] Filling up shuffle buffer (this may take a while): 71 of 516\n"
     ]
    },
    {
     "name": "stdout",
     "output_type": "stream",
     "text": [
      "Advertencia: ../data/train/Shoplifting042_x264.mp4 tiene menos frames que los requeridos. Usando todo el video.\n"
     ]
    },
    {
     "name": "stderr",
     "output_type": "stream",
     "text": [
      "2025-04-16 06:00:49.233636: I tensorflow/core/kernels/data/shuffle_dataset_op.cc:177] Filling up shuffle buffer (this may take a while): 103 of 516\n",
      "2025-04-16 06:00:59.159855: I tensorflow/core/kernels/data/shuffle_dataset_op.cc:177] Filling up shuffle buffer (this may take a while): 135 of 516\n",
      "2025-04-16 06:01:09.457087: I tensorflow/core/kernels/data/shuffle_dataset_op.cc:177] Filling up shuffle buffer (this may take a while): 161 of 516\n",
      "2025-04-16 06:01:19.484576: I tensorflow/core/kernels/data/shuffle_dataset_op.cc:177] Filling up shuffle buffer (this may take a while): 191 of 516\n",
      "2025-04-16 06:01:29.727826: I tensorflow/core/kernels/data/shuffle_dataset_op.cc:177] Filling up shuffle buffer (this may take a while): 220 of 516\n",
      "2025-04-16 06:01:39.247504: I tensorflow/core/kernels/data/shuffle_dataset_op.cc:177] Filling up shuffle buffer (this may take a while): 248 of 516\n",
      "2025-04-16 06:01:49.215459: I tensorflow/core/kernels/data/shuffle_dataset_op.cc:177] Filling up shuffle buffer (this may take a while): 277 of 516\n",
      "2025-04-16 06:01:59.269423: I tensorflow/core/kernels/data/shuffle_dataset_op.cc:177] Filling up shuffle buffer (this may take a while): 305 of 516\n",
      "2025-04-16 06:02:09.277032: I tensorflow/core/kernels/data/shuffle_dataset_op.cc:177] Filling up shuffle buffer (this may take a while): 337 of 516\n",
      "2025-04-16 06:02:19.633432: I tensorflow/core/kernels/data/shuffle_dataset_op.cc:177] Filling up shuffle buffer (this may take a while): 365 of 516\n",
      "2025-04-16 06:02:29.376528: I tensorflow/core/kernels/data/shuffle_dataset_op.cc:177] Filling up shuffle buffer (this may take a while): 399 of 516\n",
      "2025-04-16 06:02:39.454878: I tensorflow/core/kernels/data/shuffle_dataset_op.cc:177] Filling up shuffle buffer (this may take a while): 430 of 516\n",
      "2025-04-16 06:02:49.258426: I tensorflow/core/kernels/data/shuffle_dataset_op.cc:177] Filling up shuffle buffer (this may take a while): 456 of 516\n",
      "2025-04-16 06:02:59.255455: I tensorflow/core/kernels/data/shuffle_dataset_op.cc:177] Filling up shuffle buffer (this may take a while): 483 of 516\n",
      "2025-04-16 06:03:09.174013: I tensorflow/core/kernels/data/shuffle_dataset_op.cc:177] Filling up shuffle buffer (this may take a while): 515 of 516\n",
      "2025-04-16 06:03:09.355693: I tensorflow/core/kernels/data/shuffle_dataset_op.cc:230] Shuffle buffer filled.\n"
     ]
    },
    {
     "name": "stdout",
     "output_type": "stream",
     "text": [
      "65/65 [==============================] - 205s 534ms/step - loss: 0.6934 - accuracy: 0.5058 - auc: 0.4365 - val_loss: 0.6932 - val_accuracy: 0.5077 - val_auc: 0.4531\n",
      "Epoch 54/100\n"
     ]
    },
    {
     "name": "stderr",
     "output_type": "stream",
     "text": [
      "2025-04-16 06:03:55.845528: I tensorflow/core/kernels/data/shuffle_dataset_op.cc:177] Filling up shuffle buffer (this may take a while): 33 of 516\n",
      "2025-04-16 06:04:05.494810: I tensorflow/core/kernels/data/shuffle_dataset_op.cc:177] Filling up shuffle buffer (this may take a while): 71 of 516\n"
     ]
    },
    {
     "name": "stdout",
     "output_type": "stream",
     "text": [
      "Advertencia: ../data/train/Shoplifting042_x264.mp4 tiene menos frames que los requeridos. Usando todo el video.\n"
     ]
    },
    {
     "name": "stderr",
     "output_type": "stream",
     "text": [
      "2025-04-16 06:04:15.453568: I tensorflow/core/kernels/data/shuffle_dataset_op.cc:177] Filling up shuffle buffer (this may take a while): 102 of 516\n",
      "2025-04-16 06:04:25.502579: I tensorflow/core/kernels/data/shuffle_dataset_op.cc:177] Filling up shuffle buffer (this may take a while): 135 of 516\n",
      "2025-04-16 06:04:35.840907: I tensorflow/core/kernels/data/shuffle_dataset_op.cc:177] Filling up shuffle buffer (this may take a while): 161 of 516\n",
      "2025-04-16 06:04:45.886498: I tensorflow/core/kernels/data/shuffle_dataset_op.cc:177] Filling up shuffle buffer (this may take a while): 191 of 516\n",
      "2025-04-16 06:04:56.013534: I tensorflow/core/kernels/data/shuffle_dataset_op.cc:177] Filling up shuffle buffer (this may take a while): 220 of 516\n",
      "2025-04-16 06:05:05.461383: I tensorflow/core/kernels/data/shuffle_dataset_op.cc:177] Filling up shuffle buffer (this may take a while): 248 of 516\n",
      "2025-04-16 06:05:15.634170: I tensorflow/core/kernels/data/shuffle_dataset_op.cc:177] Filling up shuffle buffer (this may take a while): 278 of 516\n",
      "2025-04-16 06:05:25.591031: I tensorflow/core/kernels/data/shuffle_dataset_op.cc:177] Filling up shuffle buffer (this may take a while): 306 of 516\n",
      "2025-04-16 06:05:35.979828: I tensorflow/core/kernels/data/shuffle_dataset_op.cc:177] Filling up shuffle buffer (this may take a while): 338 of 516\n",
      "2025-04-16 06:05:45.589003: I tensorflow/core/kernels/data/shuffle_dataset_op.cc:177] Filling up shuffle buffer (this may take a while): 365 of 516\n",
      "2025-04-16 06:05:55.908300: I tensorflow/core/kernels/data/shuffle_dataset_op.cc:177] Filling up shuffle buffer (this may take a while): 400 of 516\n",
      "2025-04-16 06:06:05.870339: I tensorflow/core/kernels/data/shuffle_dataset_op.cc:177] Filling up shuffle buffer (this may take a while): 431 of 516\n",
      "2025-04-16 06:06:15.621246: I tensorflow/core/kernels/data/shuffle_dataset_op.cc:177] Filling up shuffle buffer (this may take a while): 458 of 516\n",
      "2025-04-16 06:06:25.459552: I tensorflow/core/kernels/data/shuffle_dataset_op.cc:177] Filling up shuffle buffer (this may take a while): 485 of 516\n",
      "2025-04-16 06:06:34.966351: I tensorflow/core/kernels/data/shuffle_dataset_op.cc:230] Shuffle buffer filled.\n"
     ]
    },
    {
     "name": "stdout",
     "output_type": "stream",
     "text": [
      "65/65 [==============================] - 204s 532ms/step - loss: 0.6932 - accuracy: 0.4981 - auc: 0.5058 - val_loss: 0.6930 - val_accuracy: 0.5077 - val_auc: 0.5450\n",
      "Epoch 55/100\n"
     ]
    },
    {
     "name": "stderr",
     "output_type": "stream",
     "text": [
      "2025-04-16 06:07:21.337224: I tensorflow/core/kernels/data/shuffle_dataset_op.cc:177] Filling up shuffle buffer (this may take a while): 33 of 516\n",
      "2025-04-16 06:07:31.284630: I tensorflow/core/kernels/data/shuffle_dataset_op.cc:177] Filling up shuffle buffer (this may take a while): 72 of 516\n"
     ]
    },
    {
     "name": "stdout",
     "output_type": "stream",
     "text": [
      "Advertencia: ../data/train/Shoplifting042_x264.mp4 tiene menos frames que los requeridos. Usando todo el video.\n"
     ]
    },
    {
     "name": "stderr",
     "output_type": "stream",
     "text": [
      "2025-04-16 06:07:41.146827: I tensorflow/core/kernels/data/shuffle_dataset_op.cc:177] Filling up shuffle buffer (this may take a while): 103 of 516\n",
      "2025-04-16 06:07:51.451795: I tensorflow/core/kernels/data/shuffle_dataset_op.cc:177] Filling up shuffle buffer (this may take a while): 136 of 516\n",
      "2025-04-16 06:08:01.252606: I tensorflow/core/kernels/data/shuffle_dataset_op.cc:177] Filling up shuffle buffer (this may take a while): 161 of 516\n",
      "2025-04-16 06:08:11.269419: I tensorflow/core/kernels/data/shuffle_dataset_op.cc:177] Filling up shuffle buffer (this may take a while): 191 of 516\n",
      "2025-04-16 06:08:21.452836: I tensorflow/core/kernels/data/shuffle_dataset_op.cc:177] Filling up shuffle buffer (this may take a while): 220 of 516\n",
      "2025-04-16 06:08:31.083051: I tensorflow/core/kernels/data/shuffle_dataset_op.cc:177] Filling up shuffle buffer (this may take a while): 249 of 516\n",
      "2025-04-16 06:08:41.237278: I tensorflow/core/kernels/data/shuffle_dataset_op.cc:177] Filling up shuffle buffer (this may take a while): 278 of 516\n",
      "2025-04-16 06:08:51.178447: I tensorflow/core/kernels/data/shuffle_dataset_op.cc:177] Filling up shuffle buffer (this may take a while): 306 of 516\n",
      "2025-04-16 06:09:01.624754: I tensorflow/core/kernels/data/shuffle_dataset_op.cc:177] Filling up shuffle buffer (this may take a while): 338 of 516\n",
      "2025-04-16 06:09:11.167025: I tensorflow/core/kernels/data/shuffle_dataset_op.cc:177] Filling up shuffle buffer (this may take a while): 365 of 516\n",
      "2025-04-16 06:09:21.454008: I tensorflow/core/kernels/data/shuffle_dataset_op.cc:177] Filling up shuffle buffer (this may take a while): 400 of 516\n",
      "2025-04-16 06:09:31.308778: I tensorflow/core/kernels/data/shuffle_dataset_op.cc:177] Filling up shuffle buffer (this may take a while): 431 of 516\n",
      "2025-04-16 06:09:41.118715: I tensorflow/core/kernels/data/shuffle_dataset_op.cc:177] Filling up shuffle buffer (this may take a while): 458 of 516\n",
      "2025-04-16 06:09:51.217382: I tensorflow/core/kernels/data/shuffle_dataset_op.cc:177] Filling up shuffle buffer (this may take a while): 486 of 516\n",
      "2025-04-16 06:10:00.379002: I tensorflow/core/kernels/data/shuffle_dataset_op.cc:230] Shuffle buffer filled.\n"
     ]
    },
    {
     "name": "stdout",
     "output_type": "stream",
     "text": [
      "65/65 [==============================] - 204s 534ms/step - loss: 0.6932 - accuracy: 0.5000 - auc: 0.4884 - val_loss: 0.6931 - val_accuracy: 0.5077 - val_auc: 0.5000\n",
      "Epoch 56/100\n"
     ]
    },
    {
     "name": "stderr",
     "output_type": "stream",
     "text": [
      "2025-04-16 06:10:46.842316: I tensorflow/core/kernels/data/shuffle_dataset_op.cc:177] Filling up shuffle buffer (this may take a while): 33 of 516\n",
      "2025-04-16 06:10:56.477640: I tensorflow/core/kernels/data/shuffle_dataset_op.cc:177] Filling up shuffle buffer (this may take a while): 71 of 516\n"
     ]
    },
    {
     "name": "stdout",
     "output_type": "stream",
     "text": [
      "Advertencia: ../data/train/Shoplifting042_x264.mp4 tiene menos frames que los requeridos. Usando todo el video.\n"
     ]
    },
    {
     "name": "stderr",
     "output_type": "stream",
     "text": [
      "2025-04-16 06:11:06.632219: I tensorflow/core/kernels/data/shuffle_dataset_op.cc:177] Filling up shuffle buffer (this may take a while): 104 of 516\n",
      "2025-04-16 06:11:16.723781: I tensorflow/core/kernels/data/shuffle_dataset_op.cc:177] Filling up shuffle buffer (this may take a while): 136 of 516\n",
      "2025-04-16 06:11:26.574625: I tensorflow/core/kernels/data/shuffle_dataset_op.cc:177] Filling up shuffle buffer (this may take a while): 161 of 516\n",
      "2025-04-16 06:11:36.614591: I tensorflow/core/kernels/data/shuffle_dataset_op.cc:177] Filling up shuffle buffer (this may take a while): 191 of 516\n",
      "2025-04-16 06:11:46.805481: I tensorflow/core/kernels/data/shuffle_dataset_op.cc:177] Filling up shuffle buffer (this may take a while): 220 of 516\n",
      "2025-04-16 06:11:56.504279: I tensorflow/core/kernels/data/shuffle_dataset_op.cc:177] Filling up shuffle buffer (this may take a while): 249 of 516\n",
      "2025-04-16 06:12:06.563281: I tensorflow/core/kernels/data/shuffle_dataset_op.cc:177] Filling up shuffle buffer (this may take a while): 278 of 516\n",
      "2025-04-16 06:12:16.506937: I tensorflow/core/kernels/data/shuffle_dataset_op.cc:177] Filling up shuffle buffer (this may take a while): 306 of 516\n",
      "2025-04-16 06:12:26.982197: I tensorflow/core/kernels/data/shuffle_dataset_op.cc:177] Filling up shuffle buffer (this may take a while): 338 of 516\n",
      "2025-04-16 06:12:36.647596: I tensorflow/core/kernels/data/shuffle_dataset_op.cc:177] Filling up shuffle buffer (this may take a while): 365 of 516\n",
      "2025-04-16 06:12:47.010403: I tensorflow/core/kernels/data/shuffle_dataset_op.cc:177] Filling up shuffle buffer (this may take a while): 400 of 516\n",
      "2025-04-16 06:12:56.878686: I tensorflow/core/kernels/data/shuffle_dataset_op.cc:177] Filling up shuffle buffer (this may take a while): 431 of 516\n",
      "2025-04-16 06:13:06.655004: I tensorflow/core/kernels/data/shuffle_dataset_op.cc:177] Filling up shuffle buffer (this may take a while): 458 of 516\n",
      "2025-04-16 06:13:16.469647: I tensorflow/core/kernels/data/shuffle_dataset_op.cc:177] Filling up shuffle buffer (this may take a while): 485 of 516\n",
      "2025-04-16 06:13:25.894887: I tensorflow/core/kernels/data/shuffle_dataset_op.cc:230] Shuffle buffer filled.\n"
     ]
    },
    {
     "name": "stdout",
     "output_type": "stream",
     "text": [
      "65/65 [==============================] - 204s 536ms/step - loss: 0.6932 - accuracy: 0.4942 - auc: 0.4961 - val_loss: 0.6932 - val_accuracy: 0.5077 - val_auc: 0.5000\n",
      "Epoch 57/100\n"
     ]
    },
    {
     "name": "stderr",
     "output_type": "stream",
     "text": [
      "2025-04-16 06:14:12.574136: I tensorflow/core/kernels/data/shuffle_dataset_op.cc:177] Filling up shuffle buffer (this may take a while): 33 of 516\n",
      "2025-04-16 06:14:22.195205: I tensorflow/core/kernels/data/shuffle_dataset_op.cc:177] Filling up shuffle buffer (this may take a while): 71 of 516\n"
     ]
    },
    {
     "name": "stdout",
     "output_type": "stream",
     "text": [
      "Advertencia: ../data/train/Shoplifting042_x264.mp4 tiene menos frames que los requeridos. Usando todo el video.\n"
     ]
    },
    {
     "name": "stderr",
     "output_type": "stream",
     "text": [
      "2025-04-16 06:14:32.196871: I tensorflow/core/kernels/data/shuffle_dataset_op.cc:177] Filling up shuffle buffer (this may take a while): 102 of 516\n",
      "2025-04-16 06:14:42.243539: I tensorflow/core/kernels/data/shuffle_dataset_op.cc:177] Filling up shuffle buffer (this may take a while): 135 of 516\n",
      "2025-04-16 06:14:52.593630: I tensorflow/core/kernels/data/shuffle_dataset_op.cc:177] Filling up shuffle buffer (this may take a while): 161 of 516\n",
      "2025-04-16 06:15:02.431375: I tensorflow/core/kernels/data/shuffle_dataset_op.cc:177] Filling up shuffle buffer (this may take a while): 191 of 516\n",
      "2025-04-16 06:15:12.557466: I tensorflow/core/kernels/data/shuffle_dataset_op.cc:177] Filling up shuffle buffer (this may take a while): 220 of 516\n",
      "2025-04-16 06:15:22.174437: I tensorflow/core/kernels/data/shuffle_dataset_op.cc:177] Filling up shuffle buffer (this may take a while): 249 of 516\n",
      "2025-04-16 06:15:32.427552: I tensorflow/core/kernels/data/shuffle_dataset_op.cc:177] Filling up shuffle buffer (this may take a while): 279 of 516\n",
      "2025-04-16 06:15:42.486251: I tensorflow/core/kernels/data/shuffle_dataset_op.cc:177] Filling up shuffle buffer (this may take a while): 307 of 516\n",
      "2025-04-16 06:15:52.607752: I tensorflow/core/kernels/data/shuffle_dataset_op.cc:177] Filling up shuffle buffer (this may take a while): 338 of 516\n",
      "2025-04-16 06:16:02.215716: I tensorflow/core/kernels/data/shuffle_dataset_op.cc:177] Filling up shuffle buffer (this may take a while): 365 of 516\n",
      "2025-04-16 06:16:12.504995: I tensorflow/core/kernels/data/shuffle_dataset_op.cc:177] Filling up shuffle buffer (this may take a while): 400 of 516\n",
      "2025-04-16 06:16:22.393408: I tensorflow/core/kernels/data/shuffle_dataset_op.cc:177] Filling up shuffle buffer (this may take a while): 431 of 516\n",
      "2025-04-16 06:16:32.287206: I tensorflow/core/kernels/data/shuffle_dataset_op.cc:177] Filling up shuffle buffer (this may take a while): 459 of 516\n",
      "2025-04-16 06:16:42.230333: I tensorflow/core/kernels/data/shuffle_dataset_op.cc:177] Filling up shuffle buffer (this may take a while): 486 of 516\n",
      "2025-04-16 06:16:51.420232: I tensorflow/core/kernels/data/shuffle_dataset_op.cc:230] Shuffle buffer filled.\n"
     ]
    },
    {
     "name": "stdout",
     "output_type": "stream",
     "text": [
      "65/65 [==============================] - 204s 535ms/step - loss: 0.6932 - accuracy: 0.5000 - auc: 0.4981 - val_loss: 0.6930 - val_accuracy: 0.5077 - val_auc: 0.5000\n",
      "Epoch 58/100\n"
     ]
    },
    {
     "name": "stderr",
     "output_type": "stream",
     "text": [
      "2025-04-16 06:17:38.205692: I tensorflow/core/kernels/data/shuffle_dataset_op.cc:177] Filling up shuffle buffer (this may take a while): 33 of 516\n",
      "2025-04-16 06:17:48.100983: I tensorflow/core/kernels/data/shuffle_dataset_op.cc:177] Filling up shuffle buffer (this may take a while): 72 of 516\n"
     ]
    },
    {
     "name": "stdout",
     "output_type": "stream",
     "text": [
      "Advertencia: ../data/train/Shoplifting042_x264.mp4 tiene menos frames que los requeridos. Usando todo el video.\n"
     ]
    },
    {
     "name": "stderr",
     "output_type": "stream",
     "text": [
      "2025-04-16 06:17:57.870098: I tensorflow/core/kernels/data/shuffle_dataset_op.cc:177] Filling up shuffle buffer (this may take a while): 103 of 516\n",
      "2025-04-16 06:18:08.203446: I tensorflow/core/kernels/data/shuffle_dataset_op.cc:177] Filling up shuffle buffer (this may take a while): 136 of 516\n",
      "2025-04-16 06:18:17.996432: I tensorflow/core/kernels/data/shuffle_dataset_op.cc:177] Filling up shuffle buffer (this may take a while): 161 of 516\n",
      "2025-04-16 06:18:27.917668: I tensorflow/core/kernels/data/shuffle_dataset_op.cc:177] Filling up shuffle buffer (this may take a while): 191 of 516\n",
      "2025-04-16 06:18:38.129342: I tensorflow/core/kernels/data/shuffle_dataset_op.cc:177] Filling up shuffle buffer (this may take a while): 220 of 516\n",
      "2025-04-16 06:18:48.475916: I tensorflow/core/kernels/data/shuffle_dataset_op.cc:177] Filling up shuffle buffer (this may take a while): 250 of 516\n",
      "2025-04-16 06:18:57.984762: I tensorflow/core/kernels/data/shuffle_dataset_op.cc:177] Filling up shuffle buffer (this may take a while): 279 of 516\n",
      "2025-04-16 06:19:07.965655: I tensorflow/core/kernels/data/shuffle_dataset_op.cc:177] Filling up shuffle buffer (this may take a while): 307 of 516\n",
      "2025-04-16 06:19:18.002876: I tensorflow/core/kernels/data/shuffle_dataset_op.cc:177] Filling up shuffle buffer (this may take a while): 338 of 516\n",
      "2025-04-16 06:19:27.980250: I tensorflow/core/kernels/data/shuffle_dataset_op.cc:177] Filling up shuffle buffer (this may take a while): 366 of 516\n",
      "2025-04-16 06:19:37.908338: I tensorflow/core/kernels/data/shuffle_dataset_op.cc:177] Filling up shuffle buffer (this may take a while): 400 of 516\n",
      "2025-04-16 06:19:48.399700: I tensorflow/core/kernels/data/shuffle_dataset_op.cc:177] Filling up shuffle buffer (this may take a while): 432 of 516\n",
      "2025-04-16 06:19:57.921496: I tensorflow/core/kernels/data/shuffle_dataset_op.cc:177] Filling up shuffle buffer (this may take a while): 460 of 516\n",
      "2025-04-16 06:20:07.957622: I tensorflow/core/kernels/data/shuffle_dataset_op.cc:177] Filling up shuffle buffer (this may take a while): 487 of 516\n",
      "2025-04-16 06:20:16.785959: I tensorflow/core/kernels/data/shuffle_dataset_op.cc:230] Shuffle buffer filled.\n"
     ]
    },
    {
     "name": "stdout",
     "output_type": "stream",
     "text": [
      "65/65 [==============================] - 204s 537ms/step - loss: 0.6932 - accuracy: 0.5000 - auc: 0.4845 - val_loss: 0.6929 - val_accuracy: 0.6000 - val_auc: 0.5005\n",
      "Epoch 59/100\n"
     ]
    },
    {
     "name": "stderr",
     "output_type": "stream",
     "text": [
      "2025-04-16 06:21:03.964528: I tensorflow/core/kernels/data/shuffle_dataset_op.cc:177] Filling up shuffle buffer (this may take a while): 33 of 516\n",
      "2025-04-16 06:21:13.730072: I tensorflow/core/kernels/data/shuffle_dataset_op.cc:177] Filling up shuffle buffer (this may take a while): 71 of 516\n"
     ]
    },
    {
     "name": "stdout",
     "output_type": "stream",
     "text": [
      "Advertencia: ../data/train/Shoplifting042_x264.mp4 tiene menos frames que los requeridos. Usando todo el video.\n"
     ]
    },
    {
     "name": "stderr",
     "output_type": "stream",
     "text": [
      "2025-04-16 06:21:23.642273: I tensorflow/core/kernels/data/shuffle_dataset_op.cc:177] Filling up shuffle buffer (this may take a while): 102 of 516\n",
      "2025-04-16 06:21:33.658922: I tensorflow/core/kernels/data/shuffle_dataset_op.cc:177] Filling up shuffle buffer (this may take a while): 135 of 516\n",
      "2025-04-16 06:21:44.002449: I tensorflow/core/kernels/data/shuffle_dataset_op.cc:177] Filling up shuffle buffer (this may take a while): 161 of 516\n",
      "2025-04-16 06:21:54.016733: I tensorflow/core/kernels/data/shuffle_dataset_op.cc:177] Filling up shuffle buffer (this may take a while): 191 of 516\n",
      "2025-04-16 06:22:04.034973: I tensorflow/core/kernels/data/shuffle_dataset_op.cc:177] Filling up shuffle buffer (this may take a while): 220 of 516\n",
      "2025-04-16 06:22:13.655341: I tensorflow/core/kernels/data/shuffle_dataset_op.cc:177] Filling up shuffle buffer (this may take a while): 249 of 516\n",
      "2025-04-16 06:22:23.703849: I tensorflow/core/kernels/data/shuffle_dataset_op.cc:177] Filling up shuffle buffer (this may take a while): 278 of 516\n",
      "2025-04-16 06:22:33.952323: I tensorflow/core/kernels/data/shuffle_dataset_op.cc:177] Filling up shuffle buffer (this may take a while): 307 of 516\n",
      "2025-04-16 06:22:43.992504: I tensorflow/core/kernels/data/shuffle_dataset_op.cc:177] Filling up shuffle buffer (this may take a while): 338 of 516\n",
      "2025-04-16 06:22:53.940400: I tensorflow/core/kernels/data/shuffle_dataset_op.cc:177] Filling up shuffle buffer (this may take a while): 366 of 516\n",
      "2025-04-16 06:23:03.791137: I tensorflow/core/kernels/data/shuffle_dataset_op.cc:177] Filling up shuffle buffer (this may take a while): 400 of 516\n",
      "2025-04-16 06:23:13.713020: I tensorflow/core/kernels/data/shuffle_dataset_op.cc:177] Filling up shuffle buffer (this may take a while): 431 of 516\n",
      "2025-04-16 06:23:23.849065: I tensorflow/core/kernels/data/shuffle_dataset_op.cc:177] Filling up shuffle buffer (this may take a while): 460 of 516\n",
      "2025-04-16 06:23:33.790638: I tensorflow/core/kernels/data/shuffle_dataset_op.cc:177] Filling up shuffle buffer (this may take a while): 487 of 516\n",
      "2025-04-16 06:23:42.622726: I tensorflow/core/kernels/data/shuffle_dataset_op.cc:230] Shuffle buffer filled.\n"
     ]
    },
    {
     "name": "stdout",
     "output_type": "stream",
     "text": [
      "65/65 [==============================] - 204s 537ms/step - loss: 0.6930 - accuracy: 0.5233 - auc: 0.5039 - val_loss: 0.6920 - val_accuracy: 0.4923 - val_auc: 0.6468\n",
      "Epoch 60/100\n"
     ]
    },
    {
     "name": "stderr",
     "output_type": "stream",
     "text": [
      "2025-04-16 06:24:29.736036: I tensorflow/core/kernels/data/shuffle_dataset_op.cc:177] Filling up shuffle buffer (this may take a while): 33 of 516\n",
      "2025-04-16 06:24:39.457555: I tensorflow/core/kernels/data/shuffle_dataset_op.cc:177] Filling up shuffle buffer (this may take a while): 71 of 516\n"
     ]
    },
    {
     "name": "stdout",
     "output_type": "stream",
     "text": [
      "Advertencia: ../data/train/Shoplifting042_x264.mp4 tiene menos frames que los requeridos. Usando todo el video.\n"
     ]
    },
    {
     "name": "stderr",
     "output_type": "stream",
     "text": [
      "2025-04-16 06:24:49.442555: I tensorflow/core/kernels/data/shuffle_dataset_op.cc:177] Filling up shuffle buffer (this may take a while): 102 of 516\n",
      "2025-04-16 06:24:59.411024: I tensorflow/core/kernels/data/shuffle_dataset_op.cc:177] Filling up shuffle buffer (this may take a while): 135 of 516\n",
      "2025-04-16 06:25:09.782957: I tensorflow/core/kernels/data/shuffle_dataset_op.cc:177] Filling up shuffle buffer (this may take a while): 161 of 516\n",
      "2025-04-16 06:25:19.777648: I tensorflow/core/kernels/data/shuffle_dataset_op.cc:177] Filling up shuffle buffer (this may take a while): 191 of 516\n",
      "2025-04-16 06:25:29.957153: I tensorflow/core/kernels/data/shuffle_dataset_op.cc:177] Filling up shuffle buffer (this may take a while): 220 of 516\n",
      "2025-04-16 06:25:39.405151: I tensorflow/core/kernels/data/shuffle_dataset_op.cc:177] Filling up shuffle buffer (this may take a while): 248 of 516\n",
      "2025-04-16 06:25:49.547838: I tensorflow/core/kernels/data/shuffle_dataset_op.cc:177] Filling up shuffle buffer (this may take a while): 278 of 516\n",
      "2025-04-16 06:25:59.424094: I tensorflow/core/kernels/data/shuffle_dataset_op.cc:177] Filling up shuffle buffer (this may take a while): 306 of 516\n",
      "2025-04-16 06:26:09.918749: I tensorflow/core/kernels/data/shuffle_dataset_op.cc:177] Filling up shuffle buffer (this may take a while): 338 of 516\n",
      "2025-04-16 06:26:19.556935: I tensorflow/core/kernels/data/shuffle_dataset_op.cc:177] Filling up shuffle buffer (this may take a while): 365 of 516\n",
      "2025-04-16 06:26:29.407031: I tensorflow/core/kernels/data/shuffle_dataset_op.cc:177] Filling up shuffle buffer (this may take a while): 399 of 516\n",
      "2025-04-16 06:26:39.909945: I tensorflow/core/kernels/data/shuffle_dataset_op.cc:177] Filling up shuffle buffer (this may take a while): 431 of 516\n",
      "2025-04-16 06:26:49.687172: I tensorflow/core/kernels/data/shuffle_dataset_op.cc:177] Filling up shuffle buffer (this may take a while): 458 of 516\n",
      "2025-04-16 06:26:59.357274: I tensorflow/core/kernels/data/shuffle_dataset_op.cc:177] Filling up shuffle buffer (this may take a while): 484 of 516\n",
      "2025-04-16 06:27:09.055383: I tensorflow/core/kernels/data/shuffle_dataset_op.cc:230] Shuffle buffer filled.\n"
     ]
    },
    {
     "name": "stdout",
     "output_type": "stream",
     "text": [
      "65/65 [==============================] - 204s 535ms/step - loss: 0.6933 - accuracy: 0.5019 - auc: 0.4952 - val_loss: 0.6937 - val_accuracy: 0.4462 - val_auc: 0.4152\n",
      "Epoch 61/100\n"
     ]
    },
    {
     "name": "stderr",
     "output_type": "stream",
     "text": [
      "2025-04-16 06:27:57.239830: I tensorflow/core/kernels/data/shuffle_dataset_op.cc:177] Filling up shuffle buffer (this may take a while): 33 of 516\n",
      "2025-04-16 06:28:07.242010: I tensorflow/core/kernels/data/shuffle_dataset_op.cc:177] Filling up shuffle buffer (this may take a while): 72 of 516\n"
     ]
    },
    {
     "name": "stdout",
     "output_type": "stream",
     "text": [
      "Advertencia: ../data/train/Shoplifting042_x264.mp4 tiene menos frames que los requeridos. Usando todo el video.\n"
     ]
    },
    {
     "name": "stderr",
     "output_type": "stream",
     "text": [
      "2025-04-16 06:28:16.968180: I tensorflow/core/kernels/data/shuffle_dataset_op.cc:177] Filling up shuffle buffer (this may take a while): 103 of 516\n",
      "2025-04-16 06:28:27.395273: I tensorflow/core/kernels/data/shuffle_dataset_op.cc:177] Filling up shuffle buffer (this may take a while): 136 of 516\n",
      "2025-04-16 06:28:37.235141: I tensorflow/core/kernels/data/shuffle_dataset_op.cc:177] Filling up shuffle buffer (this may take a while): 161 of 516\n",
      "2025-04-16 06:28:47.196889: I tensorflow/core/kernels/data/shuffle_dataset_op.cc:177] Filling up shuffle buffer (this may take a while): 191 of 516\n",
      "2025-04-16 06:28:57.351438: I tensorflow/core/kernels/data/shuffle_dataset_op.cc:177] Filling up shuffle buffer (this may take a while): 220 of 516\n",
      "2025-04-16 06:29:06.961228: I tensorflow/core/kernels/data/shuffle_dataset_op.cc:177] Filling up shuffle buffer (this may take a while): 249 of 516\n",
      "2025-04-16 06:29:17.236996: I tensorflow/core/kernels/data/shuffle_dataset_op.cc:177] Filling up shuffle buffer (this may take a while): 279 of 516\n",
      "2025-04-16 06:29:27.263929: I tensorflow/core/kernels/data/shuffle_dataset_op.cc:177] Filling up shuffle buffer (this may take a while): 307 of 516\n",
      "2025-04-16 06:29:37.270419: I tensorflow/core/kernels/data/shuffle_dataset_op.cc:177] Filling up shuffle buffer (this may take a while): 338 of 516\n",
      "2025-04-16 06:29:47.286298: I tensorflow/core/kernels/data/shuffle_dataset_op.cc:177] Filling up shuffle buffer (this may take a while): 366 of 516\n",
      "2025-04-16 06:29:57.240129: I tensorflow/core/kernels/data/shuffle_dataset_op.cc:177] Filling up shuffle buffer (this may take a while): 400 of 516\n",
      "2025-04-16 06:30:07.359585: I tensorflow/core/kernels/data/shuffle_dataset_op.cc:177] Filling up shuffle buffer (this may take a while): 431 of 516\n",
      "2025-04-16 06:30:17.132005: I tensorflow/core/kernels/data/shuffle_dataset_op.cc:177] Filling up shuffle buffer (this may take a while): 458 of 516\n",
      "2025-04-16 06:30:27.228827: I tensorflow/core/kernels/data/shuffle_dataset_op.cc:177] Filling up shuffle buffer (this may take a while): 486 of 516\n",
      "2025-04-16 06:30:36.328998: I tensorflow/core/kernels/data/shuffle_dataset_op.cc:230] Shuffle buffer filled.\n"
     ]
    },
    {
     "name": "stdout",
     "output_type": "stream",
     "text": [
      "65/65 [==============================] - 204s 537ms/step - loss: 0.6932 - accuracy: 0.4922 - auc: 0.4884 - val_loss: 0.6930 - val_accuracy: 0.5385 - val_auc: 0.5005\n",
      "Epoch 62/100\n"
     ]
    },
    {
     "name": "stderr",
     "output_type": "stream",
     "text": [
      "2025-04-16 06:31:24.642315: I tensorflow/core/kernels/data/shuffle_dataset_op.cc:177] Filling up shuffle buffer (this may take a while): 33 of 516\n",
      "2025-04-16 06:31:34.291396: I tensorflow/core/kernels/data/shuffle_dataset_op.cc:177] Filling up shuffle buffer (this may take a while): 70 of 516\n"
     ]
    },
    {
     "name": "stdout",
     "output_type": "stream",
     "text": [
      "Advertencia: ../data/train/Shoplifting042_x264.mp4 tiene menos frames que los requeridos. Usando todo el video.\n"
     ]
    },
    {
     "name": "stderr",
     "output_type": "stream",
     "text": [
      "2025-04-16 06:31:44.203316: I tensorflow/core/kernels/data/shuffle_dataset_op.cc:177] Filling up shuffle buffer (this may take a while): 101 of 516\n",
      "2025-04-16 06:31:54.282039: I tensorflow/core/kernels/data/shuffle_dataset_op.cc:177] Filling up shuffle buffer (this may take a while): 134 of 516\n",
      "2025-04-16 06:32:04.546577: I tensorflow/core/kernels/data/shuffle_dataset_op.cc:177] Filling up shuffle buffer (this may take a while): 160 of 516\n",
      "2025-04-16 06:32:14.267391: I tensorflow/core/kernels/data/shuffle_dataset_op.cc:177] Filling up shuffle buffer (this may take a while): 190 of 516\n",
      "2025-04-16 06:32:24.523530: I tensorflow/core/kernels/data/shuffle_dataset_op.cc:177] Filling up shuffle buffer (this may take a while): 219 of 516\n",
      "2025-04-16 06:32:34.453035: I tensorflow/core/kernels/data/shuffle_dataset_op.cc:177] Filling up shuffle buffer (this may take a while): 247 of 516\n",
      "2025-04-16 06:32:44.602445: I tensorflow/core/kernels/data/shuffle_dataset_op.cc:177] Filling up shuffle buffer (this may take a while): 277 of 516\n",
      "2025-04-16 06:32:54.426218: I tensorflow/core/kernels/data/shuffle_dataset_op.cc:177] Filling up shuffle buffer (this may take a while): 304 of 516\n",
      "2025-04-16 06:33:04.159104: I tensorflow/core/kernels/data/shuffle_dataset_op.cc:177] Filling up shuffle buffer (this may take a while): 335 of 516\n",
      "2025-04-16 06:33:14.539232: I tensorflow/core/kernels/data/shuffle_dataset_op.cc:177] Filling up shuffle buffer (this may take a while): 364 of 516\n",
      "2025-04-16 06:33:24.264342: I tensorflow/core/kernels/data/shuffle_dataset_op.cc:177] Filling up shuffle buffer (this may take a while): 397 of 516\n",
      "2025-04-16 06:33:34.661529: I tensorflow/core/kernels/data/shuffle_dataset_op.cc:177] Filling up shuffle buffer (this may take a while): 430 of 516\n",
      "2025-04-16 06:33:44.234136: I tensorflow/core/kernels/data/shuffle_dataset_op.cc:177] Filling up shuffle buffer (this may take a while): 456 of 516\n",
      "2025-04-16 06:33:54.211514: I tensorflow/core/kernels/data/shuffle_dataset_op.cc:177] Filling up shuffle buffer (this may take a while): 483 of 516\n",
      "2025-04-16 06:34:04.317652: I tensorflow/core/kernels/data/shuffle_dataset_op.cc:230] Shuffle buffer filled.\n"
     ]
    },
    {
     "name": "stdout",
     "output_type": "stream",
     "text": [
      "65/65 [==============================] - 205s 533ms/step - loss: 0.6932 - accuracy: 0.4961 - auc: 0.5000 - val_loss: 0.6931 - val_accuracy: 0.4615 - val_auc: 0.5000\n",
      "Epoch 63/100\n"
     ]
    },
    {
     "name": "stderr",
     "output_type": "stream",
     "text": [
      "2025-04-16 06:34:51.696548: I tensorflow/core/kernels/data/shuffle_dataset_op.cc:177] Filling up shuffle buffer (this may take a while): 33 of 516\n",
      "2025-04-16 06:35:01.315311: I tensorflow/core/kernels/data/shuffle_dataset_op.cc:177] Filling up shuffle buffer (this may take a while): 70 of 516\n"
     ]
    },
    {
     "name": "stdout",
     "output_type": "stream",
     "text": [
      "Advertencia: ../data/train/Shoplifting042_x264.mp4 tiene menos frames que los requeridos. Usando todo el video.\n"
     ]
    },
    {
     "name": "stderr",
     "output_type": "stream",
     "text": [
      "2025-04-16 06:35:11.451471: I tensorflow/core/kernels/data/shuffle_dataset_op.cc:177] Filling up shuffle buffer (this may take a while): 102 of 516\n",
      "2025-04-16 06:35:21.490521: I tensorflow/core/kernels/data/shuffle_dataset_op.cc:177] Filling up shuffle buffer (this may take a while): 135 of 516\n",
      "2025-04-16 06:35:31.312595: I tensorflow/core/kernels/data/shuffle_dataset_op.cc:177] Filling up shuffle buffer (this may take a while): 160 of 516\n",
      "2025-04-16 06:35:41.787338: I tensorflow/core/kernels/data/shuffle_dataset_op.cc:177] Filling up shuffle buffer (this may take a while): 191 of 516\n",
      "2025-04-16 06:35:51.437075: I tensorflow/core/kernels/data/shuffle_dataset_op.cc:177] Filling up shuffle buffer (this may take a while): 219 of 516\n",
      "2025-04-16 06:36:01.529724: I tensorflow/core/kernels/data/shuffle_dataset_op.cc:177] Filling up shuffle buffer (this may take a while): 247 of 516\n",
      "2025-04-16 06:36:11.757007: I tensorflow/core/kernels/data/shuffle_dataset_op.cc:177] Filling up shuffle buffer (this may take a while): 277 of 516\n",
      "2025-04-16 06:36:21.581732: I tensorflow/core/kernels/data/shuffle_dataset_op.cc:177] Filling up shuffle buffer (this may take a while): 304 of 516\n",
      "2025-04-16 06:36:31.444367: I tensorflow/core/kernels/data/shuffle_dataset_op.cc:177] Filling up shuffle buffer (this may take a while): 335 of 516\n",
      "2025-04-16 06:36:41.396117: I tensorflow/core/kernels/data/shuffle_dataset_op.cc:177] Filling up shuffle buffer (this may take a while): 363 of 516\n",
      "2025-04-16 06:36:51.524938: I tensorflow/core/kernels/data/shuffle_dataset_op.cc:177] Filling up shuffle buffer (this may take a while): 397 of 516\n",
      "2025-04-16 06:37:01.925587: I tensorflow/core/kernels/data/shuffle_dataset_op.cc:177] Filling up shuffle buffer (this may take a while): 430 of 516\n",
      "2025-04-16 06:37:11.312957: I tensorflow/core/kernels/data/shuffle_dataset_op.cc:177] Filling up shuffle buffer (this may take a while): 454 of 516\n",
      "2025-04-16 06:37:21.302883: I tensorflow/core/kernels/data/shuffle_dataset_op.cc:177] Filling up shuffle buffer (this may take a while): 481 of 516\n",
      "2025-04-16 06:37:31.411313: I tensorflow/core/kernels/data/shuffle_dataset_op.cc:177] Filling up shuffle buffer (this may take a while): 514 of 516\n",
      "2025-04-16 06:37:31.804920: I tensorflow/core/kernels/data/shuffle_dataset_op.cc:230] Shuffle buffer filled.\n"
     ]
    },
    {
     "name": "stdout",
     "output_type": "stream",
     "text": [
      "65/65 [==============================] - 205s 535ms/step - loss: 0.6929 - accuracy: 0.5291 - auc: 0.5136 - val_loss: 0.6928 - val_accuracy: 0.4615 - val_auc: 0.6435\n",
      "Epoch 64/100\n"
     ]
    },
    {
     "name": "stderr",
     "output_type": "stream",
     "text": [
      "2025-04-16 06:38:18.999646: I tensorflow/core/kernels/data/shuffle_dataset_op.cc:177] Filling up shuffle buffer (this may take a while): 33 of 516\n",
      "2025-04-16 06:38:28.681818: I tensorflow/core/kernels/data/shuffle_dataset_op.cc:177] Filling up shuffle buffer (this may take a while): 71 of 516\n"
     ]
    },
    {
     "name": "stdout",
     "output_type": "stream",
     "text": [
      "Advertencia: ../data/train/Shoplifting042_x264.mp4 tiene menos frames que los requeridos. Usando todo el video.\n"
     ]
    },
    {
     "name": "stderr",
     "output_type": "stream",
     "text": [
      "2025-04-16 06:38:38.596521: I tensorflow/core/kernels/data/shuffle_dataset_op.cc:177] Filling up shuffle buffer (this may take a while): 102 of 516\n",
      "2025-04-16 06:38:48.669872: I tensorflow/core/kernels/data/shuffle_dataset_op.cc:177] Filling up shuffle buffer (this may take a while): 135 of 516\n",
      "2025-04-16 06:38:58.561058: I tensorflow/core/kernels/data/shuffle_dataset_op.cc:177] Filling up shuffle buffer (this may take a while): 160 of 516\n",
      "2025-04-16 06:39:09.032463: I tensorflow/core/kernels/data/shuffle_dataset_op.cc:177] Filling up shuffle buffer (this may take a while): 191 of 516\n",
      "2025-04-16 06:39:18.552788: I tensorflow/core/kernels/data/shuffle_dataset_op.cc:177] Filling up shuffle buffer (this may take a while): 219 of 516\n",
      "2025-04-16 06:39:28.676815: I tensorflow/core/kernels/data/shuffle_dataset_op.cc:177] Filling up shuffle buffer (this may take a while): 248 of 516\n",
      "2025-04-16 06:39:38.605621: I tensorflow/core/kernels/data/shuffle_dataset_op.cc:177] Filling up shuffle buffer (this may take a while): 277 of 516\n",
      "2025-04-16 06:39:48.696573: I tensorflow/core/kernels/data/shuffle_dataset_op.cc:177] Filling up shuffle buffer (this may take a while): 305 of 516\n",
      "2025-04-16 06:39:58.723576: I tensorflow/core/kernels/data/shuffle_dataset_op.cc:177] Filling up shuffle buffer (this may take a while): 337 of 516\n",
      "2025-04-16 06:40:09.050415: I tensorflow/core/kernels/data/shuffle_dataset_op.cc:177] Filling up shuffle buffer (this may take a while): 365 of 516\n",
      "2025-04-16 06:40:18.772164: I tensorflow/core/kernels/data/shuffle_dataset_op.cc:177] Filling up shuffle buffer (this may take a while): 399 of 516\n",
      "2025-04-16 06:40:28.647839: I tensorflow/core/kernels/data/shuffle_dataset_op.cc:177] Filling up shuffle buffer (this may take a while): 430 of 516\n",
      "2025-04-16 06:40:38.642480: I tensorflow/core/kernels/data/shuffle_dataset_op.cc:177] Filling up shuffle buffer (this may take a while): 457 of 516\n",
      "2025-04-16 06:40:48.726962: I tensorflow/core/kernels/data/shuffle_dataset_op.cc:177] Filling up shuffle buffer (this may take a while): 484 of 516\n",
      "2025-04-16 06:40:58.485859: I tensorflow/core/kernels/data/shuffle_dataset_op.cc:230] Shuffle buffer filled.\n"
     ]
    },
    {
     "name": "stdout",
     "output_type": "stream",
     "text": [
      "65/65 [==============================] - 205s 535ms/step - loss: 0.6934 - accuracy: 0.5194 - auc: 0.4625 - val_loss: 0.6924 - val_accuracy: 0.5692 - val_auc: 0.5379\n",
      "Epoch 65/100\n"
     ]
    },
    {
     "name": "stderr",
     "output_type": "stream",
     "text": [
      "2025-04-16 06:41:45.146729: I tensorflow/core/kernels/data/shuffle_dataset_op.cc:177] Filling up shuffle buffer (this may take a while): 33 of 516\n",
      "2025-04-16 06:41:54.792271: I tensorflow/core/kernels/data/shuffle_dataset_op.cc:177] Filling up shuffle buffer (this may take a while): 71 of 516\n"
     ]
    },
    {
     "name": "stdout",
     "output_type": "stream",
     "text": [
      "Advertencia: ../data/train/Shoplifting042_x264.mp4 tiene menos frames que los requeridos. Usando todo el video.\n"
     ]
    },
    {
     "name": "stderr",
     "output_type": "stream",
     "text": [
      "2025-04-16 06:42:04.757399: I tensorflow/core/kernels/data/shuffle_dataset_op.cc:177] Filling up shuffle buffer (this may take a while): 102 of 516\n",
      "2025-04-16 06:42:14.795240: I tensorflow/core/kernels/data/shuffle_dataset_op.cc:177] Filling up shuffle buffer (this may take a while): 135 of 516\n",
      "2025-04-16 06:42:25.098700: I tensorflow/core/kernels/data/shuffle_dataset_op.cc:177] Filling up shuffle buffer (this may take a while): 161 of 516\n",
      "2025-04-16 06:42:35.114794: I tensorflow/core/kernels/data/shuffle_dataset_op.cc:177] Filling up shuffle buffer (this may take a while): 191 of 516\n",
      "2025-04-16 06:42:45.298049: I tensorflow/core/kernels/data/shuffle_dataset_op.cc:177] Filling up shuffle buffer (this may take a while): 220 of 516\n",
      "2025-04-16 06:42:54.796084: I tensorflow/core/kernels/data/shuffle_dataset_op.cc:177] Filling up shuffle buffer (this may take a while): 248 of 516\n",
      "2025-04-16 06:43:04.729412: I tensorflow/core/kernels/data/shuffle_dataset_op.cc:177] Filling up shuffle buffer (this may take a while): 277 of 516\n",
      "2025-04-16 06:43:14.686782: I tensorflow/core/kernels/data/shuffle_dataset_op.cc:177] Filling up shuffle buffer (this may take a while): 305 of 516\n",
      "2025-04-16 06:43:24.765459: I tensorflow/core/kernels/data/shuffle_dataset_op.cc:177] Filling up shuffle buffer (this may take a while): 337 of 516\n",
      "2025-04-16 06:43:35.074209: I tensorflow/core/kernels/data/shuffle_dataset_op.cc:177] Filling up shuffle buffer (this may take a while): 365 of 516\n",
      "2025-04-16 06:43:44.712665: I tensorflow/core/kernels/data/shuffle_dataset_op.cc:177] Filling up shuffle buffer (this may take a while): 399 of 516\n",
      "2025-04-16 06:43:55.186380: I tensorflow/core/kernels/data/shuffle_dataset_op.cc:177] Filling up shuffle buffer (this may take a while): 431 of 516\n",
      "2025-04-16 06:44:04.944027: I tensorflow/core/kernels/data/shuffle_dataset_op.cc:177] Filling up shuffle buffer (this may take a while): 458 of 516\n",
      "2025-04-16 06:44:14.825383: I tensorflow/core/kernels/data/shuffle_dataset_op.cc:177] Filling up shuffle buffer (this may take a while): 485 of 516\n",
      "2025-04-16 06:44:24.271705: I tensorflow/core/kernels/data/shuffle_dataset_op.cc:230] Shuffle buffer filled.\n"
     ]
    },
    {
     "name": "stdout",
     "output_type": "stream",
     "text": [
      "65/65 [==============================] - 204s 537ms/step - loss: 0.6932 - accuracy: 0.4826 - auc: 0.5039 - val_loss: 0.6934 - val_accuracy: 0.5231 - val_auc: 0.4711\n",
      "Epoch 66/100\n"
     ]
    },
    {
     "name": "stderr",
     "output_type": "stream",
     "text": [
      "2025-04-16 06:45:10.928745: I tensorflow/core/kernels/data/shuffle_dataset_op.cc:177] Filling up shuffle buffer (this may take a while): 33 of 516\n",
      "2025-04-16 06:45:20.777275: I tensorflow/core/kernels/data/shuffle_dataset_op.cc:177] Filling up shuffle buffer (this may take a while): 72 of 516\n"
     ]
    },
    {
     "name": "stdout",
     "output_type": "stream",
     "text": [
      "Advertencia: ../data/train/Shoplifting042_x264.mp4 tiene menos frames que los requeridos. Usando todo el video.\n"
     ]
    },
    {
     "name": "stderr",
     "output_type": "stream",
     "text": [
      "2025-04-16 06:45:30.658535: I tensorflow/core/kernels/data/shuffle_dataset_op.cc:177] Filling up shuffle buffer (this may take a while): 104 of 516\n",
      "2025-04-16 06:45:40.747944: I tensorflow/core/kernels/data/shuffle_dataset_op.cc:177] Filling up shuffle buffer (this may take a while): 136 of 516\n",
      "2025-04-16 06:45:50.590886: I tensorflow/core/kernels/data/shuffle_dataset_op.cc:177] Filling up shuffle buffer (this may take a while): 161 of 516\n",
      "2025-04-16 06:46:00.625235: I tensorflow/core/kernels/data/shuffle_dataset_op.cc:177] Filling up shuffle buffer (this may take a while): 192 of 516\n",
      "2025-04-16 06:46:10.907763: I tensorflow/core/kernels/data/shuffle_dataset_op.cc:177] Filling up shuffle buffer (this may take a while): 221 of 516\n",
      "2025-04-16 06:46:20.564514: I tensorflow/core/kernels/data/shuffle_dataset_op.cc:177] Filling up shuffle buffer (this may take a while): 250 of 516\n",
      "2025-04-16 06:46:30.573541: I tensorflow/core/kernels/data/shuffle_dataset_op.cc:177] Filling up shuffle buffer (this may take a while): 281 of 516\n",
      "2025-04-16 06:46:40.792071: I tensorflow/core/kernels/data/shuffle_dataset_op.cc:177] Filling up shuffle buffer (this may take a while): 310 of 516\n",
      "2025-04-16 06:46:50.584300: I tensorflow/core/kernels/data/shuffle_dataset_op.cc:177] Filling up shuffle buffer (this may take a while): 340 of 516\n",
      "2025-04-16 06:47:00.623659: I tensorflow/core/kernels/data/shuffle_dataset_op.cc:177] Filling up shuffle buffer (this may take a while): 369 of 516\n",
      "2025-04-16 06:47:10.593652: I tensorflow/core/kernels/data/shuffle_dataset_op.cc:177] Filling up shuffle buffer (this may take a while): 403 of 516\n",
      "2025-04-16 06:47:20.645230: I tensorflow/core/kernels/data/shuffle_dataset_op.cc:177] Filling up shuffle buffer (this may take a while): 433 of 516\n",
      "2025-04-16 06:47:30.577955: I tensorflow/core/kernels/data/shuffle_dataset_op.cc:177] Filling up shuffle buffer (this may take a while): 461 of 516\n",
      "2025-04-16 06:47:40.703242: I tensorflow/core/kernels/data/shuffle_dataset_op.cc:177] Filling up shuffle buffer (this may take a while): 489 of 516\n",
      "2025-04-16 06:47:49.157490: I tensorflow/core/kernels/data/shuffle_dataset_op.cc:230] Shuffle buffer filled.\n"
     ]
    },
    {
     "name": "stdout",
     "output_type": "stream",
     "text": [
      "65/65 [==============================] - 203s 535ms/step - loss: 0.6932 - accuracy: 0.4864 - auc: 0.4981 - val_loss: 0.6930 - val_accuracy: 0.5846 - val_auc: 0.5005\n",
      "Epoch 67/100\n"
     ]
    },
    {
     "name": "stderr",
     "output_type": "stream",
     "text": [
      "2025-04-16 06:48:35.631862: I tensorflow/core/kernels/data/shuffle_dataset_op.cc:177] Filling up shuffle buffer (this may take a while): 33 of 516\n",
      "2025-04-16 06:48:45.345592: I tensorflow/core/kernels/data/shuffle_dataset_op.cc:177] Filling up shuffle buffer (this may take a while): 71 of 516\n"
     ]
    },
    {
     "name": "stdout",
     "output_type": "stream",
     "text": [
      "Advertencia: ../data/train/Shoplifting042_x264.mp4 tiene menos frames que los requeridos. Usando todo el video.\n"
     ]
    },
    {
     "name": "stderr",
     "output_type": "stream",
     "text": [
      "2025-04-16 06:48:55.384596: I tensorflow/core/kernels/data/shuffle_dataset_op.cc:177] Filling up shuffle buffer (this may take a while): 103 of 516\n",
      "2025-04-16 06:49:05.744493: I tensorflow/core/kernels/data/shuffle_dataset_op.cc:177] Filling up shuffle buffer (this may take a while): 136 of 516\n",
      "2025-04-16 06:49:15.605415: I tensorflow/core/kernels/data/shuffle_dataset_op.cc:177] Filling up shuffle buffer (this may take a while): 161 of 516\n",
      "2025-04-16 06:49:25.557967: I tensorflow/core/kernels/data/shuffle_dataset_op.cc:177] Filling up shuffle buffer (this may take a while): 191 of 516\n",
      "2025-04-16 06:49:35.702912: I tensorflow/core/kernels/data/shuffle_dataset_op.cc:177] Filling up shuffle buffer (this may take a while): 220 of 516\n",
      "2025-04-16 06:49:45.347517: I tensorflow/core/kernels/data/shuffle_dataset_op.cc:177] Filling up shuffle buffer (this may take a while): 249 of 516\n",
      "2025-04-16 06:49:55.416335: I tensorflow/core/kernels/data/shuffle_dataset_op.cc:177] Filling up shuffle buffer (this may take a while): 278 of 516\n",
      "2025-04-16 06:50:05.322361: I tensorflow/core/kernels/data/shuffle_dataset_op.cc:177] Filling up shuffle buffer (this may take a while): 306 of 516\n",
      "2025-04-16 06:50:15.808130: I tensorflow/core/kernels/data/shuffle_dataset_op.cc:177] Filling up shuffle buffer (this may take a while): 338 of 516\n",
      "2025-04-16 06:50:25.423627: I tensorflow/core/kernels/data/shuffle_dataset_op.cc:177] Filling up shuffle buffer (this may take a while): 365 of 516\n",
      "2025-04-16 06:50:35.742883: I tensorflow/core/kernels/data/shuffle_dataset_op.cc:177] Filling up shuffle buffer (this may take a while): 400 of 516\n",
      "2025-04-16 06:50:45.609564: I tensorflow/core/kernels/data/shuffle_dataset_op.cc:177] Filling up shuffle buffer (this may take a while): 431 of 516\n",
      "2025-04-16 06:50:55.404549: I tensorflow/core/kernels/data/shuffle_dataset_op.cc:177] Filling up shuffle buffer (this may take a while): 458 of 516\n",
      "2025-04-16 06:51:05.502453: I tensorflow/core/kernels/data/shuffle_dataset_op.cc:177] Filling up shuffle buffer (this may take a while): 486 of 516\n",
      "2025-04-16 06:51:14.638306: I tensorflow/core/kernels/data/shuffle_dataset_op.cc:230] Shuffle buffer filled.\n"
     ]
    },
    {
     "name": "stdout",
     "output_type": "stream",
     "text": [
      "65/65 [==============================] - 204s 535ms/step - loss: 0.6932 - accuracy: 0.5233 - auc: 0.4942 - val_loss: 0.6928 - val_accuracy: 0.5385 - val_auc: 0.5000\n",
      "Epoch 68/100\n"
     ]
    },
    {
     "name": "stderr",
     "output_type": "stream",
     "text": [
      "2025-04-16 06:52:01.151803: I tensorflow/core/kernels/data/shuffle_dataset_op.cc:177] Filling up shuffle buffer (this may take a while): 33 of 516\n",
      "2025-04-16 06:52:11.122222: I tensorflow/core/kernels/data/shuffle_dataset_op.cc:177] Filling up shuffle buffer (this may take a while): 72 of 516\n"
     ]
    },
    {
     "name": "stdout",
     "output_type": "stream",
     "text": [
      "Advertencia: ../data/train/Shoplifting042_x264.mp4 tiene menos frames que los requeridos. Usando todo el video.\n"
     ]
    },
    {
     "name": "stderr",
     "output_type": "stream",
     "text": [
      "2025-04-16 06:52:20.905112: I tensorflow/core/kernels/data/shuffle_dataset_op.cc:177] Filling up shuffle buffer (this may take a while): 103 of 516\n",
      "2025-04-16 06:52:31.248227: I tensorflow/core/kernels/data/shuffle_dataset_op.cc:177] Filling up shuffle buffer (this may take a while): 136 of 516\n",
      "2025-04-16 06:52:41.124029: I tensorflow/core/kernels/data/shuffle_dataset_op.cc:177] Filling up shuffle buffer (this may take a while): 161 of 516\n",
      "2025-04-16 06:52:51.146652: I tensorflow/core/kernels/data/shuffle_dataset_op.cc:177] Filling up shuffle buffer (this may take a while): 191 of 516\n",
      "2025-04-16 06:53:01.366415: I tensorflow/core/kernels/data/shuffle_dataset_op.cc:177] Filling up shuffle buffer (this may take a while): 220 of 516\n",
      "2025-04-16 06:53:10.946750: I tensorflow/core/kernels/data/shuffle_dataset_op.cc:177] Filling up shuffle buffer (this may take a while): 249 of 516\n",
      "2025-04-16 06:53:20.917046: I tensorflow/core/kernels/data/shuffle_dataset_op.cc:177] Filling up shuffle buffer (this may take a while): 278 of 516\n",
      "2025-04-16 06:53:31.251270: I tensorflow/core/kernels/data/shuffle_dataset_op.cc:177] Filling up shuffle buffer (this may take a while): 307 of 516\n",
      "2025-04-16 06:53:41.290722: I tensorflow/core/kernels/data/shuffle_dataset_op.cc:177] Filling up shuffle buffer (this may take a while): 338 of 516\n",
      "2025-04-16 06:53:50.861487: I tensorflow/core/kernels/data/shuffle_dataset_op.cc:177] Filling up shuffle buffer (this may take a while): 365 of 516\n",
      "2025-04-16 06:54:01.074458: I tensorflow/core/kernels/data/shuffle_dataset_op.cc:177] Filling up shuffle buffer (this may take a while): 400 of 516\n",
      "2025-04-16 06:54:10.956689: I tensorflow/core/kernels/data/shuffle_dataset_op.cc:177] Filling up shuffle buffer (this may take a while): 431 of 516\n",
      "2025-04-16 06:54:20.923873: I tensorflow/core/kernels/data/shuffle_dataset_op.cc:177] Filling up shuffle buffer (this may take a while): 459 of 516\n",
      "2025-04-16 06:54:30.934271: I tensorflow/core/kernels/data/shuffle_dataset_op.cc:177] Filling up shuffle buffer (this may take a while): 486 of 516\n",
      "2025-04-16 06:54:40.079400: I tensorflow/core/kernels/data/shuffle_dataset_op.cc:230] Shuffle buffer filled.\n"
     ]
    },
    {
     "name": "stdout",
     "output_type": "stream",
     "text": [
      "65/65 [==============================] - 204s 531ms/step - loss: 0.6931 - accuracy: 0.5329 - auc: 0.4981 - val_loss: 0.6929 - val_accuracy: 0.5692 - val_auc: 0.5000\n",
      "Epoch 69/100\n"
     ]
    },
    {
     "name": "stderr",
     "output_type": "stream",
     "text": [
      "2025-04-16 06:55:26.370726: I tensorflow/core/kernels/data/shuffle_dataset_op.cc:177] Filling up shuffle buffer (this may take a while): 33 of 516\n",
      "2025-04-16 06:55:36.041235: I tensorflow/core/kernels/data/shuffle_dataset_op.cc:177] Filling up shuffle buffer (this may take a while): 71 of 516\n"
     ]
    },
    {
     "name": "stdout",
     "output_type": "stream",
     "text": [
      "Advertencia: ../data/train/Shoplifting042_x264.mp4 tiene menos frames que los requeridos. Usando todo el video.\n"
     ]
    },
    {
     "name": "stderr",
     "output_type": "stream",
     "text": [
      "2025-04-16 06:55:46.002963: I tensorflow/core/kernels/data/shuffle_dataset_op.cc:177] Filling up shuffle buffer (this may take a while): 102 of 516\n",
      "2025-04-16 06:55:56.089272: I tensorflow/core/kernels/data/shuffle_dataset_op.cc:177] Filling up shuffle buffer (this may take a while): 135 of 516\n",
      "2025-04-16 06:56:05.986498: I tensorflow/core/kernels/data/shuffle_dataset_op.cc:177] Filling up shuffle buffer (this may take a while): 160 of 516\n",
      "2025-04-16 06:56:16.438825: I tensorflow/core/kernels/data/shuffle_dataset_op.cc:177] Filling up shuffle buffer (this may take a while): 191 of 516\n",
      "2025-04-16 06:56:26.607971: I tensorflow/core/kernels/data/shuffle_dataset_op.cc:177] Filling up shuffle buffer (this may take a while): 220 of 516\n",
      "2025-04-16 06:56:36.066619: I tensorflow/core/kernels/data/shuffle_dataset_op.cc:177] Filling up shuffle buffer (this may take a while): 248 of 516\n",
      "2025-04-16 06:56:46.175925: I tensorflow/core/kernels/data/shuffle_dataset_op.cc:177] Filling up shuffle buffer (this may take a while): 278 of 516\n",
      "2025-04-16 06:56:56.050930: I tensorflow/core/kernels/data/shuffle_dataset_op.cc:177] Filling up shuffle buffer (this may take a while): 306 of 516\n",
      "2025-04-16 06:57:06.500063: I tensorflow/core/kernels/data/shuffle_dataset_op.cc:177] Filling up shuffle buffer (this may take a while): 338 of 516\n",
      "2025-04-16 06:57:16.088497: I tensorflow/core/kernels/data/shuffle_dataset_op.cc:177] Filling up shuffle buffer (this may take a while): 365 of 516\n",
      "2025-04-16 06:57:26.421487: I tensorflow/core/kernels/data/shuffle_dataset_op.cc:177] Filling up shuffle buffer (this may take a while): 400 of 516\n",
      "2025-04-16 06:57:36.297821: I tensorflow/core/kernels/data/shuffle_dataset_op.cc:177] Filling up shuffle buffer (this may take a while): 431 of 516\n",
      "2025-04-16 06:57:46.017900: I tensorflow/core/kernels/data/shuffle_dataset_op.cc:177] Filling up shuffle buffer (this may take a while): 458 of 516\n",
      "2025-04-16 06:57:56.233263: I tensorflow/core/kernels/data/shuffle_dataset_op.cc:177] Filling up shuffle buffer (this may take a while): 486 of 516\n",
      "2025-04-16 06:58:05.285893: I tensorflow/core/kernels/data/shuffle_dataset_op.cc:230] Shuffle buffer filled.\n"
     ]
    },
    {
     "name": "stdout",
     "output_type": "stream",
     "text": [
      "65/65 [==============================] - 204s 533ms/step - loss: 0.6929 - accuracy: 0.5562 - auc: 0.5039 - val_loss: 0.6921 - val_accuracy: 0.6000 - val_auc: 0.6122\n",
      "Epoch 70/100\n"
     ]
    },
    {
     "name": "stderr",
     "output_type": "stream",
     "text": [
      "2025-04-16 06:58:51.801167: I tensorflow/core/kernels/data/shuffle_dataset_op.cc:177] Filling up shuffle buffer (this may take a while): 33 of 516\n",
      "2025-04-16 06:59:01.364231: I tensorflow/core/kernels/data/shuffle_dataset_op.cc:177] Filling up shuffle buffer (this may take a while): 70 of 516\n"
     ]
    },
    {
     "name": "stdout",
     "output_type": "stream",
     "text": [
      "Advertencia: ../data/train/Shoplifting042_x264.mp4 tiene menos frames que los requeridos. Usando todo el video.\n"
     ]
    },
    {
     "name": "stderr",
     "output_type": "stream",
     "text": [
      "2025-04-16 06:59:11.559506: I tensorflow/core/kernels/data/shuffle_dataset_op.cc:177] Filling up shuffle buffer (this may take a while): 102 of 516\n",
      "2025-04-16 06:59:21.645892: I tensorflow/core/kernels/data/shuffle_dataset_op.cc:177] Filling up shuffle buffer (this may take a while): 135 of 516\n",
      "2025-04-16 06:59:31.580890: I tensorflow/core/kernels/data/shuffle_dataset_op.cc:177] Filling up shuffle buffer (this may take a while): 160 of 516\n",
      "2025-04-16 06:59:41.415918: I tensorflow/core/kernels/data/shuffle_dataset_op.cc:177] Filling up shuffle buffer (this may take a while): 190 of 516\n",
      "2025-04-16 06:59:51.761353: I tensorflow/core/kernels/data/shuffle_dataset_op.cc:177] Filling up shuffle buffer (this may take a while): 219 of 516\n",
      "2025-04-16 07:00:01.717158: I tensorflow/core/kernels/data/shuffle_dataset_op.cc:177] Filling up shuffle buffer (this may take a while): 247 of 516\n",
      "2025-04-16 07:00:11.800968: I tensorflow/core/kernels/data/shuffle_dataset_op.cc:177] Filling up shuffle buffer (this may take a while): 277 of 516\n",
      "2025-04-16 07:00:21.657347: I tensorflow/core/kernels/data/shuffle_dataset_op.cc:177] Filling up shuffle buffer (this may take a while): 304 of 516\n",
      "2025-04-16 07:00:31.457254: I tensorflow/core/kernels/data/shuffle_dataset_op.cc:177] Filling up shuffle buffer (this may take a while): 335 of 516\n",
      "2025-04-16 07:00:41.375755: I tensorflow/core/kernels/data/shuffle_dataset_op.cc:177] Filling up shuffle buffer (this may take a while): 363 of 516\n",
      "2025-04-16 07:00:51.587755: I tensorflow/core/kernels/data/shuffle_dataset_op.cc:177] Filling up shuffle buffer (this may take a while): 397 of 516\n",
      "2025-04-16 07:01:02.014470: I tensorflow/core/kernels/data/shuffle_dataset_op.cc:177] Filling up shuffle buffer (this may take a while): 430 of 516\n",
      "2025-04-16 07:01:11.544606: I tensorflow/core/kernels/data/shuffle_dataset_op.cc:177] Filling up shuffle buffer (this may take a while): 455 of 516\n",
      "2025-04-16 07:01:21.418423: I tensorflow/core/kernels/data/shuffle_dataset_op.cc:177] Filling up shuffle buffer (this may take a while): 482 of 516\n",
      "2025-04-16 07:01:31.363568: I tensorflow/core/kernels/data/shuffle_dataset_op.cc:177] Filling up shuffle buffer (this may take a while): 514 of 516\n",
      "2025-04-16 07:01:31.749348: I tensorflow/core/kernels/data/shuffle_dataset_op.cc:230] Shuffle buffer filled.\n"
     ]
    },
    {
     "name": "stdout",
     "output_type": "stream",
     "text": [
      "65/65 [==============================] - 205s 538ms/step - loss: 0.6931 - accuracy: 0.5039 - auc: 0.4926 - val_loss: 0.6928 - val_accuracy: 0.4462 - val_auc: 0.5677\n",
      "Epoch 71/100\n"
     ]
    },
    {
     "name": "stderr",
     "output_type": "stream",
     "text": [
      "2025-04-16 07:02:18.445621: I tensorflow/core/kernels/data/shuffle_dataset_op.cc:177] Filling up shuffle buffer (this may take a while): 33 of 516\n",
      "2025-04-16 07:02:28.184069: I tensorflow/core/kernels/data/shuffle_dataset_op.cc:177] Filling up shuffle buffer (this may take a while): 71 of 516\n"
     ]
    },
    {
     "name": "stdout",
     "output_type": "stream",
     "text": [
      "Advertencia: ../data/train/Shoplifting042_x264.mp4 tiene menos frames que los requeridos. Usando todo el video.\n"
     ]
    },
    {
     "name": "stderr",
     "output_type": "stream",
     "text": [
      "2025-04-16 07:02:38.172208: I tensorflow/core/kernels/data/shuffle_dataset_op.cc:177] Filling up shuffle buffer (this may take a while): 104 of 516\n",
      "2025-04-16 07:02:48.265580: I tensorflow/core/kernels/data/shuffle_dataset_op.cc:177] Filling up shuffle buffer (this may take a while): 136 of 516\n",
      "2025-04-16 07:02:58.195060: I tensorflow/core/kernels/data/shuffle_dataset_op.cc:177] Filling up shuffle buffer (this may take a while): 161 of 516\n",
      "2025-04-16 07:03:08.207848: I tensorflow/core/kernels/data/shuffle_dataset_op.cc:177] Filling up shuffle buffer (this may take a while): 191 of 516\n",
      "2025-04-16 07:03:18.407316: I tensorflow/core/kernels/data/shuffle_dataset_op.cc:177] Filling up shuffle buffer (this may take a while): 220 of 516\n",
      "2025-04-16 07:03:28.785558: I tensorflow/core/kernels/data/shuffle_dataset_op.cc:177] Filling up shuffle buffer (this may take a while): 250 of 516\n",
      "2025-04-16 07:03:38.402331: I tensorflow/core/kernels/data/shuffle_dataset_op.cc:177] Filling up shuffle buffer (this may take a while): 279 of 516\n",
      "2025-04-16 07:03:48.113099: I tensorflow/core/kernels/data/shuffle_dataset_op.cc:177] Filling up shuffle buffer (this may take a while): 306 of 516\n",
      "2025-04-16 07:03:58.674155: I tensorflow/core/kernels/data/shuffle_dataset_op.cc:177] Filling up shuffle buffer (this may take a while): 338 of 516\n",
      "2025-04-16 07:04:08.329493: I tensorflow/core/kernels/data/shuffle_dataset_op.cc:177] Filling up shuffle buffer (this may take a while): 365 of 516\n",
      "2025-04-16 07:04:18.607403: I tensorflow/core/kernels/data/shuffle_dataset_op.cc:177] Filling up shuffle buffer (this may take a while): 400 of 516\n",
      "2025-04-16 07:04:28.488043: I tensorflow/core/kernels/data/shuffle_dataset_op.cc:177] Filling up shuffle buffer (this may take a while): 431 of 516\n",
      "2025-04-16 07:04:38.337080: I tensorflow/core/kernels/data/shuffle_dataset_op.cc:177] Filling up shuffle buffer (this may take a while): 458 of 516\n",
      "2025-04-16 07:04:48.175760: I tensorflow/core/kernels/data/shuffle_dataset_op.cc:177] Filling up shuffle buffer (this may take a while): 485 of 516\n",
      "2025-04-16 07:04:57.572007: I tensorflow/core/kernels/data/shuffle_dataset_op.cc:230] Shuffle buffer filled.\n"
     ]
    },
    {
     "name": "stdout",
     "output_type": "stream",
     "text": [
      "65/65 [==============================] - 204s 537ms/step - loss: 0.6933 - accuracy: 0.5213 - auc: 0.4806 - val_loss: 0.6926 - val_accuracy: 0.5692 - val_auc: 0.5795\n",
      "Epoch 72/100\n"
     ]
    },
    {
     "name": "stderr",
     "output_type": "stream",
     "text": [
      "2025-04-16 07:05:44.193176: I tensorflow/core/kernels/data/shuffle_dataset_op.cc:177] Filling up shuffle buffer (this may take a while): 33 of 516\n",
      "2025-04-16 07:05:53.937895: I tensorflow/core/kernels/data/shuffle_dataset_op.cc:177] Filling up shuffle buffer (this may take a while): 71 of 516\n"
     ]
    },
    {
     "name": "stdout",
     "output_type": "stream",
     "text": [
      "Advertencia: ../data/train/Shoplifting042_x264.mp4 tiene menos frames que los requeridos. Usando todo el video.\n"
     ]
    },
    {
     "name": "stderr",
     "output_type": "stream",
     "text": [
      "2025-04-16 07:06:03.954080: I tensorflow/core/kernels/data/shuffle_dataset_op.cc:177] Filling up shuffle buffer (this may take a while): 103 of 516\n",
      "2025-04-16 07:06:14.300152: I tensorflow/core/kernels/data/shuffle_dataset_op.cc:177] Filling up shuffle buffer (this may take a while): 136 of 516\n",
      "2025-04-16 07:06:24.240351: I tensorflow/core/kernels/data/shuffle_dataset_op.cc:177] Filling up shuffle buffer (this may take a while): 161 of 516\n",
      "2025-04-16 07:06:34.211376: I tensorflow/core/kernels/data/shuffle_dataset_op.cc:177] Filling up shuffle buffer (this may take a while): 191 of 516\n",
      "2025-04-16 07:06:44.389296: I tensorflow/core/kernels/data/shuffle_dataset_op.cc:177] Filling up shuffle buffer (this may take a while): 220 of 516\n",
      "2025-04-16 07:06:53.904342: I tensorflow/core/kernels/data/shuffle_dataset_op.cc:177] Filling up shuffle buffer (this may take a while): 248 of 516\n",
      "2025-04-16 07:07:04.089502: I tensorflow/core/kernels/data/shuffle_dataset_op.cc:177] Filling up shuffle buffer (this may take a while): 278 of 516\n",
      "2025-04-16 07:07:13.976188: I tensorflow/core/kernels/data/shuffle_dataset_op.cc:177] Filling up shuffle buffer (this may take a while): 306 of 516\n",
      "2025-04-16 07:07:24.484826: I tensorflow/core/kernels/data/shuffle_dataset_op.cc:177] Filling up shuffle buffer (this may take a while): 338 of 516\n",
      "2025-04-16 07:07:34.145501: I tensorflow/core/kernels/data/shuffle_dataset_op.cc:177] Filling up shuffle buffer (this may take a while): 365 of 516\n",
      "2025-04-16 07:07:43.910997: I tensorflow/core/kernels/data/shuffle_dataset_op.cc:177] Filling up shuffle buffer (this may take a while): 399 of 516\n",
      "2025-04-16 07:07:53.901623: I tensorflow/core/kernels/data/shuffle_dataset_op.cc:177] Filling up shuffle buffer (this may take a while): 430 of 516\n",
      "2025-04-16 07:08:03.910965: I tensorflow/core/kernels/data/shuffle_dataset_op.cc:177] Filling up shuffle buffer (this may take a while): 457 of 516\n",
      "2025-04-16 07:08:13.932294: I tensorflow/core/kernels/data/shuffle_dataset_op.cc:177] Filling up shuffle buffer (this may take a while): 484 of 516\n",
      "2025-04-16 07:08:23.522944: I tensorflow/core/kernels/data/shuffle_dataset_op.cc:230] Shuffle buffer filled.\n"
     ]
    },
    {
     "name": "stdout",
     "output_type": "stream",
     "text": [
      "65/65 [==============================] - 204s 537ms/step - loss: 0.6930 - accuracy: 0.5174 - auc: 0.5174 - val_loss: 0.6919 - val_accuracy: 0.6615 - val_auc: 0.5644\n",
      "Epoch 73/100\n"
     ]
    },
    {
     "name": "stderr",
     "output_type": "stream",
     "text": [
      "2025-04-16 07:09:10.368156: I tensorflow/core/kernels/data/shuffle_dataset_op.cc:177] Filling up shuffle buffer (this may take a while): 33 of 516\n",
      "2025-04-16 07:09:19.974271: I tensorflow/core/kernels/data/shuffle_dataset_op.cc:177] Filling up shuffle buffer (this may take a while): 70 of 516\n"
     ]
    },
    {
     "name": "stdout",
     "output_type": "stream",
     "text": [
      "Advertencia: ../data/train/Shoplifting042_x264.mp4 tiene menos frames que los requeridos. Usando todo el video.\n"
     ]
    },
    {
     "name": "stderr",
     "output_type": "stream",
     "text": [
      "2025-04-16 07:09:30.182975: I tensorflow/core/kernels/data/shuffle_dataset_op.cc:177] Filling up shuffle buffer (this may take a while): 102 of 516\n",
      "2025-04-16 07:09:39.954943: I tensorflow/core/kernels/data/shuffle_dataset_op.cc:177] Filling up shuffle buffer (this may take a while): 134 of 516\n",
      "2025-04-16 07:09:50.216367: I tensorflow/core/kernels/data/shuffle_dataset_op.cc:177] Filling up shuffle buffer (this may take a while): 160 of 516\n",
      "2025-04-16 07:10:00.055951: I tensorflow/core/kernels/data/shuffle_dataset_op.cc:177] Filling up shuffle buffer (this may take a while): 190 of 516\n",
      "2025-04-16 07:10:10.303808: I tensorflow/core/kernels/data/shuffle_dataset_op.cc:177] Filling up shuffle buffer (this may take a while): 219 of 516\n",
      "2025-04-16 07:10:20.228443: I tensorflow/core/kernels/data/shuffle_dataset_op.cc:177] Filling up shuffle buffer (this may take a while): 247 of 516\n",
      "2025-04-16 07:10:30.345851: I tensorflow/core/kernels/data/shuffle_dataset_op.cc:177] Filling up shuffle buffer (this may take a while): 277 of 516\n",
      "2025-04-16 07:10:40.107948: I tensorflow/core/kernels/data/shuffle_dataset_op.cc:177] Filling up shuffle buffer (this may take a while): 304 of 516\n",
      "2025-04-16 07:10:49.860602: I tensorflow/core/kernels/data/shuffle_dataset_op.cc:177] Filling up shuffle buffer (this may take a while): 335 of 516\n",
      "2025-04-16 07:11:00.174494: I tensorflow/core/kernels/data/shuffle_dataset_op.cc:177] Filling up shuffle buffer (this may take a while): 364 of 516\n",
      "2025-04-16 07:11:09.958002: I tensorflow/core/kernels/data/shuffle_dataset_op.cc:177] Filling up shuffle buffer (this may take a while): 397 of 516\n",
      "2025-04-16 07:11:20.273833: I tensorflow/core/kernels/data/shuffle_dataset_op.cc:177] Filling up shuffle buffer (this may take a while): 430 of 516\n",
      "2025-04-16 07:11:29.926496: I tensorflow/core/kernels/data/shuffle_dataset_op.cc:177] Filling up shuffle buffer (this may take a while): 456 of 516\n",
      "2025-04-16 07:11:39.952143: I tensorflow/core/kernels/data/shuffle_dataset_op.cc:177] Filling up shuffle buffer (this may take a while): 483 of 516\n",
      "2025-04-16 07:11:49.864839: I tensorflow/core/kernels/data/shuffle_dataset_op.cc:177] Filling up shuffle buffer (this may take a while): 515 of 516\n",
      "2025-04-16 07:11:50.042008: I tensorflow/core/kernels/data/shuffle_dataset_op.cc:230] Shuffle buffer filled.\n"
     ]
    },
    {
     "name": "stdout",
     "output_type": "stream",
     "text": [
      "65/65 [==============================] - 205s 536ms/step - loss: 0.6932 - accuracy: 0.5019 - auc: 0.5019 - val_loss: 0.6924 - val_accuracy: 0.6615 - val_auc: 0.5000\n",
      "Epoch 74/100\n"
     ]
    },
    {
     "name": "stderr",
     "output_type": "stream",
     "text": [
      "2025-04-16 07:12:36.842259: I tensorflow/core/kernels/data/shuffle_dataset_op.cc:177] Filling up shuffle buffer (this may take a while): 33 of 516\n",
      "2025-04-16 07:12:46.553948: I tensorflow/core/kernels/data/shuffle_dataset_op.cc:177] Filling up shuffle buffer (this may take a while): 71 of 516\n"
     ]
    },
    {
     "name": "stdout",
     "output_type": "stream",
     "text": [
      "Advertencia: ../data/train/Shoplifting042_x264.mp4 tiene menos frames que los requeridos. Usando todo el video.\n"
     ]
    },
    {
     "name": "stderr",
     "output_type": "stream",
     "text": [
      "2025-04-16 07:12:56.581523: I tensorflow/core/kernels/data/shuffle_dataset_op.cc:177] Filling up shuffle buffer (this may take a while): 103 of 516\n",
      "2025-04-16 07:13:06.478433: I tensorflow/core/kernels/data/shuffle_dataset_op.cc:177] Filling up shuffle buffer (this may take a while): 135 of 516\n",
      "2025-04-16 07:13:16.808279: I tensorflow/core/kernels/data/shuffle_dataset_op.cc:177] Filling up shuffle buffer (this may take a while): 161 of 516\n",
      "2025-04-16 07:13:26.870057: I tensorflow/core/kernels/data/shuffle_dataset_op.cc:177] Filling up shuffle buffer (this may take a while): 191 of 516\n",
      "2025-04-16 07:13:37.030925: I tensorflow/core/kernels/data/shuffle_dataset_op.cc:177] Filling up shuffle buffer (this may take a while): 220 of 516\n",
      "2025-04-16 07:13:46.480589: I tensorflow/core/kernels/data/shuffle_dataset_op.cc:177] Filling up shuffle buffer (this may take a while): 248 of 516\n",
      "2025-04-16 07:13:56.532678: I tensorflow/core/kernels/data/shuffle_dataset_op.cc:177] Filling up shuffle buffer (this may take a while): 277 of 516\n",
      "2025-04-16 07:14:06.555603: I tensorflow/core/kernels/data/shuffle_dataset_op.cc:177] Filling up shuffle buffer (this may take a while): 305 of 516\n",
      "2025-04-16 07:14:16.584603: I tensorflow/core/kernels/data/shuffle_dataset_op.cc:177] Filling up shuffle buffer (this may take a while): 337 of 516\n",
      "2025-04-16 07:14:26.864333: I tensorflow/core/kernels/data/shuffle_dataset_op.cc:177] Filling up shuffle buffer (this may take a while): 365 of 516\n",
      "2025-04-16 07:14:36.676514: I tensorflow/core/kernels/data/shuffle_dataset_op.cc:177] Filling up shuffle buffer (this may take a while): 399 of 516\n",
      "2025-04-16 07:14:46.564615: I tensorflow/core/kernels/data/shuffle_dataset_op.cc:177] Filling up shuffle buffer (this may take a while): 430 of 516\n",
      "2025-04-16 07:14:56.574262: I tensorflow/core/kernels/data/shuffle_dataset_op.cc:177] Filling up shuffle buffer (this may take a while): 457 of 516\n",
      "2025-04-16 07:15:06.645853: I tensorflow/core/kernels/data/shuffle_dataset_op.cc:177] Filling up shuffle buffer (this may take a while): 484 of 516\n",
      "2025-04-16 07:15:16.246328: I tensorflow/core/kernels/data/shuffle_dataset_op.cc:230] Shuffle buffer filled.\n"
     ]
    },
    {
     "name": "stdout",
     "output_type": "stream",
     "text": [
      "65/65 [==============================] - 205s 539ms/step - loss: 0.6930 - accuracy: 0.5116 - auc: 0.5078 - val_loss: 0.6927 - val_accuracy: 0.6462 - val_auc: 0.5000\n",
      "Epoch 75/100\n"
     ]
    },
    {
     "name": "stderr",
     "output_type": "stream",
     "text": [
      "2025-04-16 07:16:02.931999: I tensorflow/core/kernels/data/shuffle_dataset_op.cc:177] Filling up shuffle buffer (this may take a while): 33 of 516\n",
      "2025-04-16 07:16:12.654059: I tensorflow/core/kernels/data/shuffle_dataset_op.cc:177] Filling up shuffle buffer (this may take a while): 71 of 516\n"
     ]
    },
    {
     "name": "stdout",
     "output_type": "stream",
     "text": [
      "Advertencia: ../data/train/Shoplifting042_x264.mp4 tiene menos frames que los requeridos. Usando todo el video.\n"
     ]
    },
    {
     "name": "stderr",
     "output_type": "stream",
     "text": [
      "2025-04-16 07:16:22.729478: I tensorflow/core/kernels/data/shuffle_dataset_op.cc:177] Filling up shuffle buffer (this may take a while): 103 of 516\n",
      "2025-04-16 07:16:32.684326: I tensorflow/core/kernels/data/shuffle_dataset_op.cc:177] Filling up shuffle buffer (this may take a while): 135 of 516\n",
      "2025-04-16 07:16:43.018088: I tensorflow/core/kernels/data/shuffle_dataset_op.cc:177] Filling up shuffle buffer (this may take a while): 161 of 516\n",
      "2025-04-16 07:16:53.096424: I tensorflow/core/kernels/data/shuffle_dataset_op.cc:177] Filling up shuffle buffer (this may take a while): 191 of 516\n",
      "2025-04-16 07:17:02.616171: I tensorflow/core/kernels/data/shuffle_dataset_op.cc:177] Filling up shuffle buffer (this may take a while): 219 of 516\n",
      "2025-04-16 07:17:12.719444: I tensorflow/core/kernels/data/shuffle_dataset_op.cc:177] Filling up shuffle buffer (this may take a while): 248 of 516\n",
      "2025-04-16 07:17:22.686310: I tensorflow/core/kernels/data/shuffle_dataset_op.cc:177] Filling up shuffle buffer (this may take a while): 277 of 516\n",
      "2025-04-16 07:17:32.745792: I tensorflow/core/kernels/data/shuffle_dataset_op.cc:177] Filling up shuffle buffer (this may take a while): 305 of 516\n",
      "2025-04-16 07:17:42.747360: I tensorflow/core/kernels/data/shuffle_dataset_op.cc:177] Filling up shuffle buffer (this may take a while): 337 of 516\n",
      "2025-04-16 07:17:53.084054: I tensorflow/core/kernels/data/shuffle_dataset_op.cc:177] Filling up shuffle buffer (this may take a while): 365 of 516\n",
      "2025-04-16 07:18:02.857142: I tensorflow/core/kernels/data/shuffle_dataset_op.cc:177] Filling up shuffle buffer (this may take a while): 399 of 516\n",
      "2025-04-16 07:18:12.730225: I tensorflow/core/kernels/data/shuffle_dataset_op.cc:177] Filling up shuffle buffer (this may take a while): 430 of 516\n",
      "2025-04-16 07:18:22.734991: I tensorflow/core/kernels/data/shuffle_dataset_op.cc:177] Filling up shuffle buffer (this may take a while): 457 of 516\n",
      "2025-04-16 07:18:32.761950: I tensorflow/core/kernels/data/shuffle_dataset_op.cc:177] Filling up shuffle buffer (this may take a while): 484 of 516\n",
      "2025-04-16 07:18:42.537350: I tensorflow/core/kernels/data/shuffle_dataset_op.cc:230] Shuffle buffer filled.\n"
     ]
    },
    {
     "name": "stdout",
     "output_type": "stream",
     "text": [
      "65/65 [==============================] - 205s 538ms/step - loss: 0.6929 - accuracy: 0.5426 - auc: 0.5136 - val_loss: 0.6933 - val_accuracy: 0.4769 - val_auc: 0.5350\n",
      "Epoch 76/100\n"
     ]
    },
    {
     "name": "stderr",
     "output_type": "stream",
     "text": [
      "2025-04-16 07:19:29.264851: I tensorflow/core/kernels/data/shuffle_dataset_op.cc:177] Filling up shuffle buffer (this may take a while): 33 of 516\n",
      "2025-04-16 07:19:38.933644: I tensorflow/core/kernels/data/shuffle_dataset_op.cc:177] Filling up shuffle buffer (this may take a while): 71 of 516\n"
     ]
    },
    {
     "name": "stdout",
     "output_type": "stream",
     "text": [
      "Advertencia: ../data/train/Shoplifting042_x264.mp4 tiene menos frames que los requeridos. Usando todo el video.\n"
     ]
    },
    {
     "name": "stderr",
     "output_type": "stream",
     "text": [
      "2025-04-16 07:19:48.909030: I tensorflow/core/kernels/data/shuffle_dataset_op.cc:177] Filling up shuffle buffer (this may take a while): 102 of 516\n",
      "2025-04-16 07:19:58.962530: I tensorflow/core/kernels/data/shuffle_dataset_op.cc:177] Filling up shuffle buffer (this may take a while): 135 of 516\n",
      "2025-04-16 07:20:09.278458: I tensorflow/core/kernels/data/shuffle_dataset_op.cc:177] Filling up shuffle buffer (this may take a while): 161 of 516\n",
      "2025-04-16 07:20:19.315517: I tensorflow/core/kernels/data/shuffle_dataset_op.cc:177] Filling up shuffle buffer (this may take a while): 191 of 516\n",
      "2025-04-16 07:20:28.987349: I tensorflow/core/kernels/data/shuffle_dataset_op.cc:177] Filling up shuffle buffer (this may take a while): 219 of 516\n",
      "2025-04-16 07:20:39.116756: I tensorflow/core/kernels/data/shuffle_dataset_op.cc:177] Filling up shuffle buffer (this may take a while): 247 of 516\n",
      "2025-04-16 07:20:49.411445: I tensorflow/core/kernels/data/shuffle_dataset_op.cc:177] Filling up shuffle buffer (this may take a while): 277 of 516\n",
      "2025-04-16 07:20:58.998616: I tensorflow/core/kernels/data/shuffle_dataset_op.cc:177] Filling up shuffle buffer (this may take a while): 303 of 516\n",
      "2025-04-16 07:21:09.002373: I tensorflow/core/kernels/data/shuffle_dataset_op.cc:177] Filling up shuffle buffer (this may take a while): 334 of 516\n",
      "2025-04-16 07:21:18.967257: I tensorflow/core/kernels/data/shuffle_dataset_op.cc:177] Filling up shuffle buffer (this may take a while): 361 of 516\n",
      "2025-04-16 07:21:28.836188: I tensorflow/core/kernels/data/shuffle_dataset_op.cc:177] Filling up shuffle buffer (this may take a while): 393 of 516\n",
      "2025-04-16 07:21:39.128982: I tensorflow/core/kernels/data/shuffle_dataset_op.cc:177] Filling up shuffle buffer (this may take a while): 428 of 516\n",
      "2025-04-16 07:21:49.011868: I tensorflow/core/kernels/data/shuffle_dataset_op.cc:177] Filling up shuffle buffer (this may take a while): 453 of 516\n",
      "2025-04-16 07:21:58.855395: I tensorflow/core/kernels/data/shuffle_dataset_op.cc:177] Filling up shuffle buffer (this may take a while): 479 of 516\n",
      "2025-04-16 07:22:08.834732: I tensorflow/core/kernels/data/shuffle_dataset_op.cc:177] Filling up shuffle buffer (this may take a while): 512 of 516\n",
      "2025-04-16 07:22:09.849663: I tensorflow/core/kernels/data/shuffle_dataset_op.cc:230] Shuffle buffer filled.\n"
     ]
    },
    {
     "name": "stdout",
     "output_type": "stream",
     "text": [
      "65/65 [==============================] - 206s 539ms/step - loss: 0.6932 - accuracy: 0.4806 - auc: 0.4981 - val_loss: 0.6925 - val_accuracy: 0.5385 - val_auc: 0.5000\n",
      "Epoch 77/100\n"
     ]
    },
    {
     "name": "stderr",
     "output_type": "stream",
     "text": [
      "2025-04-16 07:22:56.668423: I tensorflow/core/kernels/data/shuffle_dataset_op.cc:177] Filling up shuffle buffer (this may take a while): 33 of 516\n",
      "2025-04-16 07:23:06.419073: I tensorflow/core/kernels/data/shuffle_dataset_op.cc:177] Filling up shuffle buffer (this may take a while): 71 of 516\n"
     ]
    },
    {
     "name": "stdout",
     "output_type": "stream",
     "text": [
      "Advertencia: ../data/train/Shoplifting042_x264.mp4 tiene menos frames que los requeridos. Usando todo el video.\n"
     ]
    },
    {
     "name": "stderr",
     "output_type": "stream",
     "text": [
      "2025-04-16 07:23:16.307137: I tensorflow/core/kernels/data/shuffle_dataset_op.cc:177] Filling up shuffle buffer (this may take a while): 102 of 516\n",
      "2025-04-16 07:23:26.329862: I tensorflow/core/kernels/data/shuffle_dataset_op.cc:177] Filling up shuffle buffer (this may take a while): 135 of 516\n",
      "2025-04-16 07:23:36.557775: I tensorflow/core/kernels/data/shuffle_dataset_op.cc:177] Filling up shuffle buffer (this may take a while): 161 of 516\n",
      "2025-04-16 07:23:46.502108: I tensorflow/core/kernels/data/shuffle_dataset_op.cc:177] Filling up shuffle buffer (this may take a while): 191 of 516\n",
      "2025-04-16 07:23:56.641892: I tensorflow/core/kernels/data/shuffle_dataset_op.cc:177] Filling up shuffle buffer (this may take a while): 220 of 516\n",
      "2025-04-16 07:24:06.945614: I tensorflow/core/kernels/data/shuffle_dataset_op.cc:177] Filling up shuffle buffer (this may take a while): 250 of 516\n",
      "2025-04-16 07:24:16.522415: I tensorflow/core/kernels/data/shuffle_dataset_op.cc:177] Filling up shuffle buffer (this may take a while): 279 of 516\n",
      "2025-04-16 07:24:26.537746: I tensorflow/core/kernels/data/shuffle_dataset_op.cc:177] Filling up shuffle buffer (this may take a while): 307 of 516\n",
      "2025-04-16 07:24:36.563211: I tensorflow/core/kernels/data/shuffle_dataset_op.cc:177] Filling up shuffle buffer (this may take a while): 338 of 516\n",
      "2025-04-16 07:24:46.481400: I tensorflow/core/kernels/data/shuffle_dataset_op.cc:177] Filling up shuffle buffer (this may take a while): 366 of 516\n",
      "2025-04-16 07:24:56.456322: I tensorflow/core/kernels/data/shuffle_dataset_op.cc:177] Filling up shuffle buffer (this may take a while): 400 of 516\n",
      "2025-04-16 07:25:06.340738: I tensorflow/core/kernels/data/shuffle_dataset_op.cc:177] Filling up shuffle buffer (this may take a while): 431 of 516\n",
      "2025-04-16 07:25:16.257315: I tensorflow/core/kernels/data/shuffle_dataset_op.cc:177] Filling up shuffle buffer (this may take a while): 459 of 516\n",
      "2025-04-16 07:25:26.514063: I tensorflow/core/kernels/data/shuffle_dataset_op.cc:177] Filling up shuffle buffer (this may take a while): 487 of 516\n",
      "2025-04-16 07:25:35.506544: I tensorflow/core/kernels/data/shuffle_dataset_op.cc:230] Shuffle buffer filled.\n"
     ]
    },
    {
     "name": "stdout",
     "output_type": "stream",
     "text": [
      "65/65 [==============================] - 204s 537ms/step - loss: 0.6931 - accuracy: 0.4981 - auc: 0.5075 - val_loss: 0.6927 - val_accuracy: 0.5538 - val_auc: 0.4858\n",
      "Epoch 78/100\n"
     ]
    },
    {
     "name": "stderr",
     "output_type": "stream",
     "text": [
      "2025-04-16 07:26:22.273065: I tensorflow/core/kernels/data/shuffle_dataset_op.cc:177] Filling up shuffle buffer (this may take a while): 33 of 516\n",
      "2025-04-16 07:26:31.822853: I tensorflow/core/kernels/data/shuffle_dataset_op.cc:177] Filling up shuffle buffer (this may take a while): 70 of 516\n"
     ]
    },
    {
     "name": "stdout",
     "output_type": "stream",
     "text": [
      "Advertencia: ../data/train/Shoplifting042_x264.mp4 tiene menos frames que los requeridos. Usando todo el video.\n"
     ]
    },
    {
     "name": "stderr",
     "output_type": "stream",
     "text": [
      "2025-04-16 07:26:41.955055: I tensorflow/core/kernels/data/shuffle_dataset_op.cc:177] Filling up shuffle buffer (this may take a while): 102 of 516\n",
      "2025-04-16 07:26:52.035889: I tensorflow/core/kernels/data/shuffle_dataset_op.cc:177] Filling up shuffle buffer (this may take a while): 135 of 516\n",
      "2025-04-16 07:27:01.859252: I tensorflow/core/kernels/data/shuffle_dataset_op.cc:177] Filling up shuffle buffer (this may take a while): 160 of 516\n",
      "2025-04-16 07:27:12.311855: I tensorflow/core/kernels/data/shuffle_dataset_op.cc:177] Filling up shuffle buffer (this may take a while): 191 of 516\n",
      "2025-04-16 07:27:21.857464: I tensorflow/core/kernels/data/shuffle_dataset_op.cc:177] Filling up shuffle buffer (this may take a while): 219 of 516\n",
      "2025-04-16 07:27:31.788655: I tensorflow/core/kernels/data/shuffle_dataset_op.cc:177] Filling up shuffle buffer (this may take a while): 247 of 516\n",
      "2025-04-16 07:27:41.879183: I tensorflow/core/kernels/data/shuffle_dataset_op.cc:177] Filling up shuffle buffer (this may take a while): 277 of 516\n",
      "2025-04-16 07:27:51.885591: I tensorflow/core/kernels/data/shuffle_dataset_op.cc:177] Filling up shuffle buffer (this may take a while): 305 of 516\n",
      "2025-04-16 07:28:01.913796: I tensorflow/core/kernels/data/shuffle_dataset_op.cc:177] Filling up shuffle buffer (this may take a while): 337 of 516\n",
      "2025-04-16 07:28:12.203003: I tensorflow/core/kernels/data/shuffle_dataset_op.cc:177] Filling up shuffle buffer (this may take a while): 365 of 516\n",
      "2025-04-16 07:28:21.986073: I tensorflow/core/kernels/data/shuffle_dataset_op.cc:177] Filling up shuffle buffer (this may take a while): 399 of 516\n",
      "2025-04-16 07:28:31.905707: I tensorflow/core/kernels/data/shuffle_dataset_op.cc:177] Filling up shuffle buffer (this may take a while): 430 of 516\n",
      "2025-04-16 07:28:41.935785: I tensorflow/core/kernels/data/shuffle_dataset_op.cc:177] Filling up shuffle buffer (this may take a while): 457 of 516\n",
      "2025-04-16 07:28:51.942100: I tensorflow/core/kernels/data/shuffle_dataset_op.cc:177] Filling up shuffle buffer (this may take a while): 484 of 516\n",
      "2025-04-16 07:29:01.651138: I tensorflow/core/kernels/data/shuffle_dataset_op.cc:230] Shuffle buffer filled.\n"
     ]
    },
    {
     "name": "stdout",
     "output_type": "stream",
     "text": [
      "65/65 [==============================] - 205s 537ms/step - loss: 0.6930 - accuracy: 0.5058 - auc: 0.5077 - val_loss: 0.6930 - val_accuracy: 0.5538 - val_auc: 0.5294\n",
      "Epoch 79/100\n"
     ]
    },
    {
     "name": "stderr",
     "output_type": "stream",
     "text": [
      "2025-04-16 07:29:48.299642: I tensorflow/core/kernels/data/shuffle_dataset_op.cc:177] Filling up shuffle buffer (this may take a while): 33 of 516\n",
      "2025-04-16 07:29:58.055411: I tensorflow/core/kernels/data/shuffle_dataset_op.cc:177] Filling up shuffle buffer (this may take a while): 71 of 516\n"
     ]
    },
    {
     "name": "stdout",
     "output_type": "stream",
     "text": [
      "Advertencia: ../data/train/Shoplifting042_x264.mp4 tiene menos frames que los requeridos. Usando todo el video.\n"
     ]
    },
    {
     "name": "stderr",
     "output_type": "stream",
     "text": [
      "2025-04-16 07:30:07.990888: I tensorflow/core/kernels/data/shuffle_dataset_op.cc:177] Filling up shuffle buffer (this may take a while): 102 of 516\n",
      "2025-04-16 07:30:18.134720: I tensorflow/core/kernels/data/shuffle_dataset_op.cc:177] Filling up shuffle buffer (this may take a while): 135 of 516\n",
      "2025-04-16 07:30:28.011855: I tensorflow/core/kernels/data/shuffle_dataset_op.cc:177] Filling up shuffle buffer (this may take a while): 160 of 516\n",
      "2025-04-16 07:30:38.438469: I tensorflow/core/kernels/data/shuffle_dataset_op.cc:177] Filling up shuffle buffer (this may take a while): 191 of 516\n",
      "2025-04-16 07:30:47.943185: I tensorflow/core/kernels/data/shuffle_dataset_op.cc:177] Filling up shuffle buffer (this may take a while): 219 of 516\n",
      "2025-04-16 07:30:57.954243: I tensorflow/core/kernels/data/shuffle_dataset_op.cc:177] Filling up shuffle buffer (this may take a while): 248 of 516\n",
      "2025-04-16 07:31:08.138565: I tensorflow/core/kernels/data/shuffle_dataset_op.cc:177] Filling up shuffle buffer (this may take a while): 278 of 516\n",
      "2025-04-16 07:31:18.055998: I tensorflow/core/kernels/data/shuffle_dataset_op.cc:177] Filling up shuffle buffer (this may take a while): 306 of 516\n",
      "2025-04-16 07:31:28.535618: I tensorflow/core/kernels/data/shuffle_dataset_op.cc:177] Filling up shuffle buffer (this may take a while): 338 of 516\n",
      "2025-04-16 07:31:38.096599: I tensorflow/core/kernels/data/shuffle_dataset_op.cc:177] Filling up shuffle buffer (this may take a while): 365 of 516\n",
      "2025-04-16 07:31:48.407274: I tensorflow/core/kernels/data/shuffle_dataset_op.cc:177] Filling up shuffle buffer (this may take a while): 400 of 516\n",
      "2025-04-16 07:31:58.349040: I tensorflow/core/kernels/data/shuffle_dataset_op.cc:177] Filling up shuffle buffer (this may take a while): 431 of 516\n",
      "2025-04-16 07:32:08.078913: I tensorflow/core/kernels/data/shuffle_dataset_op.cc:177] Filling up shuffle buffer (this may take a while): 458 of 516\n",
      "2025-04-16 07:32:17.934155: I tensorflow/core/kernels/data/shuffle_dataset_op.cc:177] Filling up shuffle buffer (this may take a while): 485 of 516\n",
      "2025-04-16 07:32:27.474284: I tensorflow/core/kernels/data/shuffle_dataset_op.cc:230] Shuffle buffer filled.\n"
     ]
    },
    {
     "name": "stdout",
     "output_type": "stream",
     "text": [
      "65/65 [==============================] - 204s 537ms/step - loss: 0.6931 - accuracy: 0.4961 - auc: 0.4963 - val_loss: 0.6923 - val_accuracy: 0.6308 - val_auc: 0.5279\n",
      "Epoch 80/100\n"
     ]
    },
    {
     "name": "stderr",
     "output_type": "stream",
     "text": [
      "2025-04-16 07:33:14.201559: I tensorflow/core/kernels/data/shuffle_dataset_op.cc:177] Filling up shuffle buffer (this may take a while): 33 of 516\n",
      "2025-04-16 07:33:23.801486: I tensorflow/core/kernels/data/shuffle_dataset_op.cc:177] Filling up shuffle buffer (this may take a while): 70 of 516\n"
     ]
    },
    {
     "name": "stdout",
     "output_type": "stream",
     "text": [
      "Advertencia: ../data/train/Shoplifting042_x264.mp4 tiene menos frames que los requeridos. Usando todo el video.\n"
     ]
    },
    {
     "name": "stderr",
     "output_type": "stream",
     "text": [
      "2025-04-16 07:33:34.003336: I tensorflow/core/kernels/data/shuffle_dataset_op.cc:177] Filling up shuffle buffer (this may take a while): 102 of 516\n",
      "2025-04-16 07:33:44.080053: I tensorflow/core/kernels/data/shuffle_dataset_op.cc:177] Filling up shuffle buffer (this may take a while): 135 of 516\n",
      "2025-04-16 07:33:53.924154: I tensorflow/core/kernels/data/shuffle_dataset_op.cc:177] Filling up shuffle buffer (this may take a while): 160 of 516\n",
      "2025-04-16 07:34:04.088094: I tensorflow/core/kernels/data/shuffle_dataset_op.cc:177] Filling up shuffle buffer (this may take a while): 191 of 516\n",
      "2025-04-16 07:34:14.197790: I tensorflow/core/kernels/data/shuffle_dataset_op.cc:177] Filling up shuffle buffer (this may take a while): 220 of 516\n",
      "2025-04-16 07:34:23.820575: I tensorflow/core/kernels/data/shuffle_dataset_op.cc:177] Filling up shuffle buffer (this may take a while): 249 of 516\n",
      "2025-04-16 07:34:33.869894: I tensorflow/core/kernels/data/shuffle_dataset_op.cc:177] Filling up shuffle buffer (this may take a while): 278 of 516\n",
      "2025-04-16 07:34:43.786440: I tensorflow/core/kernels/data/shuffle_dataset_op.cc:177] Filling up shuffle buffer (this may take a while): 306 of 516\n",
      "2025-04-16 07:34:54.327515: I tensorflow/core/kernels/data/shuffle_dataset_op.cc:177] Filling up shuffle buffer (this may take a while): 338 of 516\n",
      "2025-04-16 07:35:03.979080: I tensorflow/core/kernels/data/shuffle_dataset_op.cc:177] Filling up shuffle buffer (this may take a while): 365 of 516\n",
      "2025-04-16 07:35:13.793162: I tensorflow/core/kernels/data/shuffle_dataset_op.cc:177] Filling up shuffle buffer (this may take a while): 399 of 516\n",
      "2025-04-16 07:35:24.333369: I tensorflow/core/kernels/data/shuffle_dataset_op.cc:177] Filling up shuffle buffer (this may take a while): 431 of 516\n",
      "2025-04-16 07:35:33.749431: I tensorflow/core/kernels/data/shuffle_dataset_op.cc:177] Filling up shuffle buffer (this may take a while): 457 of 516\n",
      "2025-04-16 07:35:43.850994: I tensorflow/core/kernels/data/shuffle_dataset_op.cc:177] Filling up shuffle buffer (this may take a while): 484 of 516\n",
      "2025-04-16 07:35:53.422881: I tensorflow/core/kernels/data/shuffle_dataset_op.cc:230] Shuffle buffer filled.\n"
     ]
    },
    {
     "name": "stdout",
     "output_type": "stream",
     "text": [
      "65/65 [==============================] - 204s 533ms/step - loss: 0.6931 - accuracy: 0.4806 - auc: 0.5112 - val_loss: 0.6931 - val_accuracy: 0.5846 - val_auc: 0.4588\n",
      "Epoch 81/100\n"
     ]
    },
    {
     "name": "stderr",
     "output_type": "stream",
     "text": [
      "2025-04-16 07:36:39.890606: I tensorflow/core/kernels/data/shuffle_dataset_op.cc:177] Filling up shuffle buffer (this may take a while): 33 of 516\n",
      "2025-04-16 07:36:49.465949: I tensorflow/core/kernels/data/shuffle_dataset_op.cc:177] Filling up shuffle buffer (this may take a while): 70 of 516\n"
     ]
    },
    {
     "name": "stdout",
     "output_type": "stream",
     "text": [
      "Advertencia: ../data/train/Shoplifting042_x264.mp4 tiene menos frames que los requeridos. Usando todo el video.\n"
     ]
    },
    {
     "name": "stderr",
     "output_type": "stream",
     "text": [
      "2025-04-16 07:36:59.686427: I tensorflow/core/kernels/data/shuffle_dataset_op.cc:177] Filling up shuffle buffer (this may take a while): 102 of 516\n",
      "2025-04-16 07:37:09.427086: I tensorflow/core/kernels/data/shuffle_dataset_op.cc:177] Filling up shuffle buffer (this may take a while): 134 of 516\n",
      "2025-04-16 07:37:19.670745: I tensorflow/core/kernels/data/shuffle_dataset_op.cc:177] Filling up shuffle buffer (this may take a while): 160 of 516\n",
      "2025-04-16 07:37:29.448201: I tensorflow/core/kernels/data/shuffle_dataset_op.cc:177] Filling up shuffle buffer (this may take a while): 190 of 516\n",
      "2025-04-16 07:37:39.818461: I tensorflow/core/kernels/data/shuffle_dataset_op.cc:177] Filling up shuffle buffer (this may take a while): 219 of 516\n",
      "2025-04-16 07:37:49.824257: I tensorflow/core/kernels/data/shuffle_dataset_op.cc:177] Filling up shuffle buffer (this may take a while): 247 of 516\n",
      "2025-04-16 07:37:59.906029: I tensorflow/core/kernels/data/shuffle_dataset_op.cc:177] Filling up shuffle buffer (this may take a while): 277 of 516\n",
      "2025-04-16 07:38:09.710995: I tensorflow/core/kernels/data/shuffle_dataset_op.cc:177] Filling up shuffle buffer (this may take a while): 304 of 516\n",
      "2025-04-16 07:38:19.681639: I tensorflow/core/kernels/data/shuffle_dataset_op.cc:177] Filling up shuffle buffer (this may take a while): 336 of 516\n",
      "2025-04-16 07:38:29.819937: I tensorflow/core/kernels/data/shuffle_dataset_op.cc:177] Filling up shuffle buffer (this may take a while): 364 of 516\n",
      "2025-04-16 07:38:39.583172: I tensorflow/core/kernels/data/shuffle_dataset_op.cc:177] Filling up shuffle buffer (this may take a while): 397 of 516\n",
      "2025-04-16 07:38:49.991481: I tensorflow/core/kernels/data/shuffle_dataset_op.cc:177] Filling up shuffle buffer (this may take a while): 430 of 516\n",
      "2025-04-16 07:38:59.513771: I tensorflow/core/kernels/data/shuffle_dataset_op.cc:177] Filling up shuffle buffer (this may take a while): 455 of 516\n",
      "2025-04-16 07:39:09.468521: I tensorflow/core/kernels/data/shuffle_dataset_op.cc:177] Filling up shuffle buffer (this may take a while): 482 of 516\n",
      "2025-04-16 07:39:19.616448: I tensorflow/core/kernels/data/shuffle_dataset_op.cc:177] Filling up shuffle buffer (this may take a while): 514 of 516\n",
      "2025-04-16 07:39:20.027191: I tensorflow/core/kernels/data/shuffle_dataset_op.cc:230] Shuffle buffer filled.\n"
     ]
    },
    {
     "name": "stdout",
     "output_type": "stream",
     "text": [
      "65/65 [==============================] - 206s 542ms/step - loss: 0.6931 - accuracy: 0.4922 - auc: 0.5186 - val_loss: 0.6927 - val_accuracy: 0.5538 - val_auc: 0.5128\n",
      "Epoch 82/100\n"
     ]
    },
    {
     "name": "stderr",
     "output_type": "stream",
     "text": [
      "2025-04-16 07:40:07.105375: I tensorflow/core/kernels/data/shuffle_dataset_op.cc:177] Filling up shuffle buffer (this may take a while): 33 of 516\n",
      "2025-04-16 07:40:16.680520: I tensorflow/core/kernels/data/shuffle_dataset_op.cc:177] Filling up shuffle buffer (this may take a while): 70 of 516\n"
     ]
    },
    {
     "name": "stdout",
     "output_type": "stream",
     "text": [
      "Advertencia: ../data/train/Shoplifting042_x264.mp4 tiene menos frames que los requeridos. Usando todo el video.\n"
     ]
    },
    {
     "name": "stderr",
     "output_type": "stream",
     "text": [
      "2025-04-16 07:40:26.829949: I tensorflow/core/kernels/data/shuffle_dataset_op.cc:177] Filling up shuffle buffer (this may take a while): 102 of 516\n",
      "2025-04-16 07:40:36.865850: I tensorflow/core/kernels/data/shuffle_dataset_op.cc:177] Filling up shuffle buffer (this may take a while): 135 of 516\n",
      "2025-04-16 07:40:46.712102: I tensorflow/core/kernels/data/shuffle_dataset_op.cc:177] Filling up shuffle buffer (this may take a while): 160 of 516\n",
      "2025-04-16 07:40:57.264100: I tensorflow/core/kernels/data/shuffle_dataset_op.cc:177] Filling up shuffle buffer (this may take a while): 191 of 516\n",
      "2025-04-16 07:41:06.874711: I tensorflow/core/kernels/data/shuffle_dataset_op.cc:177] Filling up shuffle buffer (this may take a while): 219 of 516\n",
      "2025-04-16 07:41:16.848905: I tensorflow/core/kernels/data/shuffle_dataset_op.cc:177] Filling up shuffle buffer (this may take a while): 247 of 516\n",
      "2025-04-16 07:41:26.911824: I tensorflow/core/kernels/data/shuffle_dataset_op.cc:177] Filling up shuffle buffer (this may take a while): 277 of 516\n",
      "2025-04-16 07:41:36.732838: I tensorflow/core/kernels/data/shuffle_dataset_op.cc:177] Filling up shuffle buffer (this may take a while): 304 of 516\n",
      "2025-04-16 07:41:46.679853: I tensorflow/core/kernels/data/shuffle_dataset_op.cc:177] Filling up shuffle buffer (this may take a while): 336 of 516\n",
      "2025-04-16 07:41:56.713300: I tensorflow/core/kernels/data/shuffle_dataset_op.cc:177] Filling up shuffle buffer (this may take a while): 364 of 516\n",
      "2025-04-16 07:42:06.655540: I tensorflow/core/kernels/data/shuffle_dataset_op.cc:177] Filling up shuffle buffer (this may take a while): 398 of 516\n",
      "2025-04-16 07:42:16.927288: I tensorflow/core/kernels/data/shuffle_dataset_op.cc:177] Filling up shuffle buffer (this may take a while): 430 of 516\n",
      "2025-04-16 07:42:26.663199: I tensorflow/core/kernels/data/shuffle_dataset_op.cc:177] Filling up shuffle buffer (this may take a while): 456 of 516\n",
      "2025-04-16 07:42:36.713258: I tensorflow/core/kernels/data/shuffle_dataset_op.cc:177] Filling up shuffle buffer (this may take a while): 483 of 516\n",
      "2025-04-16 07:42:46.644961: I tensorflow/core/kernels/data/shuffle_dataset_op.cc:177] Filling up shuffle buffer (this may take a while): 515 of 516\n",
      "2025-04-16 07:42:46.821655: I tensorflow/core/kernels/data/shuffle_dataset_op.cc:230] Shuffle buffer filled.\n"
     ]
    },
    {
     "name": "stdout",
     "output_type": "stream",
     "text": [
      "65/65 [==============================] - 205s 534ms/step - loss: 0.6930 - accuracy: 0.5155 - auc: 0.5407 - val_loss: 0.6927 - val_accuracy: 0.4923 - val_auc: 0.5436\n",
      "Epoch 83/100\n"
     ]
    },
    {
     "name": "stderr",
     "output_type": "stream",
     "text": [
      "2025-04-16 07:43:33.312486: I tensorflow/core/kernels/data/shuffle_dataset_op.cc:177] Filling up shuffle buffer (this may take a while): 33 of 516\n",
      "2025-04-16 07:43:42.919603: I tensorflow/core/kernels/data/shuffle_dataset_op.cc:177] Filling up shuffle buffer (this may take a while): 70 of 516\n"
     ]
    },
    {
     "name": "stdout",
     "output_type": "stream",
     "text": [
      "Advertencia: ../data/train/Shoplifting042_x264.mp4 tiene menos frames que los requeridos. Usando todo el video.\n"
     ]
    },
    {
     "name": "stderr",
     "output_type": "stream",
     "text": [
      "2025-04-16 07:43:53.016165: I tensorflow/core/kernels/data/shuffle_dataset_op.cc:177] Filling up shuffle buffer (this may take a while): 102 of 516\n",
      "2025-04-16 07:44:03.120940: I tensorflow/core/kernels/data/shuffle_dataset_op.cc:177] Filling up shuffle buffer (this may take a while): 135 of 516\n",
      "2025-04-16 07:44:13.014172: I tensorflow/core/kernels/data/shuffle_dataset_op.cc:177] Filling up shuffle buffer (this may take a while): 160 of 516\n",
      "2025-04-16 07:44:23.529117: I tensorflow/core/kernels/data/shuffle_dataset_op.cc:177] Filling up shuffle buffer (this may take a while): 191 of 516\n",
      "2025-04-16 07:44:33.170288: I tensorflow/core/kernels/data/shuffle_dataset_op.cc:177] Filling up shuffle buffer (this may take a while): 219 of 516\n",
      "2025-04-16 07:44:43.206133: I tensorflow/core/kernels/data/shuffle_dataset_op.cc:177] Filling up shuffle buffer (this may take a while): 247 of 516\n",
      "2025-04-16 07:44:53.372835: I tensorflow/core/kernels/data/shuffle_dataset_op.cc:177] Filling up shuffle buffer (this may take a while): 277 of 516\n",
      "2025-04-16 07:45:03.172917: I tensorflow/core/kernels/data/shuffle_dataset_op.cc:177] Filling up shuffle buffer (this may take a while): 304 of 516\n",
      "2025-04-16 07:45:13.023695: I tensorflow/core/kernels/data/shuffle_dataset_op.cc:177] Filling up shuffle buffer (this may take a while): 335 of 516\n",
      "2025-04-16 07:45:22.966556: I tensorflow/core/kernels/data/shuffle_dataset_op.cc:177] Filling up shuffle buffer (this may take a while): 362 of 516\n",
      "2025-04-16 07:45:33.072218: I tensorflow/core/kernels/data/shuffle_dataset_op.cc:177] Filling up shuffle buffer (this may take a while): 395 of 516\n",
      "2025-04-16 07:45:42.968676: I tensorflow/core/kernels/data/shuffle_dataset_op.cc:177] Filling up shuffle buffer (this may take a while): 428 of 516\n",
      "2025-04-16 07:45:53.066625: I tensorflow/core/kernels/data/shuffle_dataset_op.cc:177] Filling up shuffle buffer (this may take a while): 453 of 516\n",
      "2025-04-16 07:46:03.015789: I tensorflow/core/kernels/data/shuffle_dataset_op.cc:177] Filling up shuffle buffer (this may take a while): 479 of 516\n",
      "2025-04-16 07:46:13.167230: I tensorflow/core/kernels/data/shuffle_dataset_op.cc:177] Filling up shuffle buffer (this may take a while): 512 of 516\n",
      "2025-04-16 07:46:14.240686: I tensorflow/core/kernels/data/shuffle_dataset_op.cc:230] Shuffle buffer filled.\n"
     ]
    },
    {
     "name": "stdout",
     "output_type": "stream",
     "text": [
      "65/65 [==============================] - 207s 546ms/step - loss: 0.6930 - accuracy: 0.5000 - auc: 0.5039 - val_loss: 0.6927 - val_accuracy: 0.5385 - val_auc: 0.4848\n",
      "Epoch 84/100\n"
     ]
    },
    {
     "name": "stderr",
     "output_type": "stream",
     "text": [
      "2025-04-16 07:47:01.529725: I tensorflow/core/kernels/data/shuffle_dataset_op.cc:177] Filling up shuffle buffer (this may take a while): 33 of 516\n",
      "2025-04-16 07:47:11.126569: I tensorflow/core/kernels/data/shuffle_dataset_op.cc:177] Filling up shuffle buffer (this may take a while): 71 of 516\n"
     ]
    },
    {
     "name": "stdout",
     "output_type": "stream",
     "text": [
      "Advertencia: ../data/train/Shoplifting042_x264.mp4 tiene menos frames que los requeridos. Usando todo el video.\n"
     ]
    },
    {
     "name": "stderr",
     "output_type": "stream",
     "text": [
      "2025-04-16 07:47:21.148628: I tensorflow/core/kernels/data/shuffle_dataset_op.cc:177] Filling up shuffle buffer (this may take a while): 103 of 516\n",
      "2025-04-16 07:47:31.526584: I tensorflow/core/kernels/data/shuffle_dataset_op.cc:177] Filling up shuffle buffer (this may take a while): 136 of 516\n",
      "2025-04-16 07:47:41.423729: I tensorflow/core/kernels/data/shuffle_dataset_op.cc:177] Filling up shuffle buffer (this may take a while): 161 of 516\n",
      "2025-04-16 07:47:51.335560: I tensorflow/core/kernels/data/shuffle_dataset_op.cc:177] Filling up shuffle buffer (this may take a while): 191 of 516\n",
      "2025-04-16 07:48:01.442540: I tensorflow/core/kernels/data/shuffle_dataset_op.cc:177] Filling up shuffle buffer (this may take a while): 220 of 516\n",
      "2025-04-16 07:48:11.776012: I tensorflow/core/kernels/data/shuffle_dataset_op.cc:177] Filling up shuffle buffer (this may take a while): 250 of 516\n",
      "2025-04-16 07:48:21.274175: I tensorflow/core/kernels/data/shuffle_dataset_op.cc:177] Filling up shuffle buffer (this may take a while): 279 of 516\n",
      "2025-04-16 07:48:31.256808: I tensorflow/core/kernels/data/shuffle_dataset_op.cc:177] Filling up shuffle buffer (this may take a while): 307 of 516\n",
      "2025-04-16 07:48:41.308316: I tensorflow/core/kernels/data/shuffle_dataset_op.cc:177] Filling up shuffle buffer (this may take a while): 338 of 516\n",
      "2025-04-16 07:48:51.302112: I tensorflow/core/kernels/data/shuffle_dataset_op.cc:177] Filling up shuffle buffer (this may take a while): 366 of 516\n",
      "2025-04-16 07:49:01.192938: I tensorflow/core/kernels/data/shuffle_dataset_op.cc:177] Filling up shuffle buffer (this may take a while): 400 of 516\n",
      "2025-04-16 07:49:11.131570: I tensorflow/core/kernels/data/shuffle_dataset_op.cc:177] Filling up shuffle buffer (this may take a while): 431 of 516\n",
      "2025-04-16 07:49:21.288126: I tensorflow/core/kernels/data/shuffle_dataset_op.cc:177] Filling up shuffle buffer (this may take a while): 460 of 516\n",
      "2025-04-16 07:49:31.141815: I tensorflow/core/kernels/data/shuffle_dataset_op.cc:177] Filling up shuffle buffer (this may take a while): 486 of 516\n",
      "2025-04-16 07:49:40.398590: I tensorflow/core/kernels/data/shuffle_dataset_op.cc:230] Shuffle buffer filled.\n"
     ]
    },
    {
     "name": "stdout",
     "output_type": "stream",
     "text": [
      "65/65 [==============================] - 204s 540ms/step - loss: 0.6930 - accuracy: 0.5155 - auc: 0.5036 - val_loss: 0.6928 - val_accuracy: 0.5692 - val_auc: 0.5009\n",
      "Epoch 85/100\n"
     ]
    },
    {
     "name": "stderr",
     "output_type": "stream",
     "text": [
      "2025-04-16 07:50:27.350975: I tensorflow/core/kernels/data/shuffle_dataset_op.cc:177] Filling up shuffle buffer (this may take a while): 33 of 516\n",
      "2025-04-16 07:50:37.029005: I tensorflow/core/kernels/data/shuffle_dataset_op.cc:177] Filling up shuffle buffer (this may take a while): 71 of 516\n"
     ]
    },
    {
     "name": "stdout",
     "output_type": "stream",
     "text": [
      "Advertencia: ../data/train/Shoplifting042_x264.mp4 tiene menos frames que los requeridos. Usando todo el video.\n"
     ]
    },
    {
     "name": "stderr",
     "output_type": "stream",
     "text": [
      "2025-04-16 07:50:46.943433: I tensorflow/core/kernels/data/shuffle_dataset_op.cc:177] Filling up shuffle buffer (this may take a while): 102 of 516\n",
      "2025-04-16 07:50:56.997911: I tensorflow/core/kernels/data/shuffle_dataset_op.cc:177] Filling up shuffle buffer (this may take a while): 135 of 516\n",
      "2025-04-16 07:51:07.250333: I tensorflow/core/kernels/data/shuffle_dataset_op.cc:177] Filling up shuffle buffer (this may take a while): 161 of 516\n",
      "2025-04-16 07:51:17.252531: I tensorflow/core/kernels/data/shuffle_dataset_op.cc:177] Filling up shuffle buffer (this may take a while): 191 of 516\n",
      "2025-04-16 07:51:27.411997: I tensorflow/core/kernels/data/shuffle_dataset_op.cc:177] Filling up shuffle buffer (this may take a while): 220 of 516\n",
      "2025-04-16 07:51:36.972421: I tensorflow/core/kernels/data/shuffle_dataset_op.cc:177] Filling up shuffle buffer (this may take a while): 248 of 516\n",
      "2025-04-16 07:51:47.181801: I tensorflow/core/kernels/data/shuffle_dataset_op.cc:177] Filling up shuffle buffer (this may take a while): 278 of 516\n",
      "2025-04-16 07:51:57.105795: I tensorflow/core/kernels/data/shuffle_dataset_op.cc:177] Filling up shuffle buffer (this may take a while): 306 of 516\n",
      "2025-04-16 07:52:06.931356: I tensorflow/core/kernels/data/shuffle_dataset_op.cc:177] Filling up shuffle buffer (this may take a while): 337 of 516\n",
      "2025-04-16 07:52:17.210707: I tensorflow/core/kernels/data/shuffle_dataset_op.cc:177] Filling up shuffle buffer (this may take a while): 365 of 516\n",
      "2025-04-16 07:52:26.940662: I tensorflow/core/kernels/data/shuffle_dataset_op.cc:177] Filling up shuffle buffer (this may take a while): 399 of 516\n",
      "2025-04-16 07:52:37.505493: I tensorflow/core/kernels/data/shuffle_dataset_op.cc:177] Filling up shuffle buffer (this may take a while): 431 of 516\n",
      "2025-04-16 07:52:47.284853: I tensorflow/core/kernels/data/shuffle_dataset_op.cc:177] Filling up shuffle buffer (this may take a while): 458 of 516\n",
      "2025-04-16 07:52:57.082695: I tensorflow/core/kernels/data/shuffle_dataset_op.cc:177] Filling up shuffle buffer (this may take a while): 485 of 516\n",
      "2025-04-16 07:53:06.483454: I tensorflow/core/kernels/data/shuffle_dataset_op.cc:230] Shuffle buffer filled.\n"
     ]
    },
    {
     "name": "stdout",
     "output_type": "stream",
     "text": [
      "65/65 [==============================] - 205s 540ms/step - loss: 0.6931 - accuracy: 0.5078 - auc: 0.4907 - val_loss: 0.6928 - val_accuracy: 0.4923 - val_auc: 0.5739\n",
      "Epoch 86/100\n"
     ]
    },
    {
     "name": "stderr",
     "output_type": "stream",
     "text": [
      "2025-04-16 07:53:53.533866: I tensorflow/core/kernels/data/shuffle_dataset_op.cc:177] Filling up shuffle buffer (this may take a while): 33 of 516\n",
      "2025-04-16 07:54:03.186761: I tensorflow/core/kernels/data/shuffle_dataset_op.cc:177] Filling up shuffle buffer (this may take a while): 71 of 516\n"
     ]
    },
    {
     "name": "stdout",
     "output_type": "stream",
     "text": [
      "Advertencia: ../data/train/Shoplifting042_x264.mp4 tiene menos frames que los requeridos. Usando todo el video.\n"
     ]
    },
    {
     "name": "stderr",
     "output_type": "stream",
     "text": [
      "2025-04-16 07:54:13.238539: I tensorflow/core/kernels/data/shuffle_dataset_op.cc:177] Filling up shuffle buffer (this may take a while): 103 of 516\n",
      "2025-04-16 07:54:23.205152: I tensorflow/core/kernels/data/shuffle_dataset_op.cc:177] Filling up shuffle buffer (this may take a while): 135 of 516\n",
      "2025-04-16 07:54:33.550087: I tensorflow/core/kernels/data/shuffle_dataset_op.cc:177] Filling up shuffle buffer (this may take a while): 161 of 516\n",
      "2025-04-16 07:54:43.480288: I tensorflow/core/kernels/data/shuffle_dataset_op.cc:177] Filling up shuffle buffer (this may take a while): 191 of 516\n",
      "2025-04-16 07:54:53.625193: I tensorflow/core/kernels/data/shuffle_dataset_op.cc:177] Filling up shuffle buffer (this may take a while): 220 of 516\n",
      "2025-04-16 07:55:03.210941: I tensorflow/core/kernels/data/shuffle_dataset_op.cc:177] Filling up shuffle buffer (this may take a while): 249 of 516\n",
      "2025-04-16 07:55:13.151386: I tensorflow/core/kernels/data/shuffle_dataset_op.cc:177] Filling up shuffle buffer (this may take a while): 278 of 516\n",
      "2025-04-16 07:55:23.468268: I tensorflow/core/kernels/data/shuffle_dataset_op.cc:177] Filling up shuffle buffer (this may take a while): 307 of 516\n",
      "2025-04-16 07:55:33.465295: I tensorflow/core/kernels/data/shuffle_dataset_op.cc:177] Filling up shuffle buffer (this may take a while): 338 of 516\n",
      "2025-04-16 07:55:43.371745: I tensorflow/core/kernels/data/shuffle_dataset_op.cc:177] Filling up shuffle buffer (this may take a while): 366 of 516\n",
      "2025-04-16 07:55:53.208368: I tensorflow/core/kernels/data/shuffle_dataset_op.cc:177] Filling up shuffle buffer (this may take a while): 400 of 516\n",
      "2025-04-16 07:56:03.122030: I tensorflow/core/kernels/data/shuffle_dataset_op.cc:177] Filling up shuffle buffer (this may take a while): 431 of 516\n",
      "2025-04-16 07:56:13.295751: I tensorflow/core/kernels/data/shuffle_dataset_op.cc:177] Filling up shuffle buffer (this may take a while): 460 of 516\n",
      "2025-04-16 07:56:23.325049: I tensorflow/core/kernels/data/shuffle_dataset_op.cc:177] Filling up shuffle buffer (this may take a while): 487 of 516\n",
      "2025-04-16 07:56:32.079809: I tensorflow/core/kernels/data/shuffle_dataset_op.cc:230] Shuffle buffer filled.\n"
     ]
    },
    {
     "name": "stdout",
     "output_type": "stream",
     "text": [
      "65/65 [==============================] - 204s 541ms/step - loss: 0.6929 - accuracy: 0.5174 - auc: 0.5252 - val_loss: 0.6929 - val_accuracy: 0.4615 - val_auc: 0.5137\n",
      "Epoch 87/100\n"
     ]
    },
    {
     "name": "stderr",
     "output_type": "stream",
     "text": [
      "2025-04-16 07:57:19.435904: I tensorflow/core/kernels/data/shuffle_dataset_op.cc:177] Filling up shuffle buffer (this may take a while): 33 of 516\n",
      "2025-04-16 07:57:29.178710: I tensorflow/core/kernels/data/shuffle_dataset_op.cc:177] Filling up shuffle buffer (this may take a while): 71 of 516\n"
     ]
    },
    {
     "name": "stdout",
     "output_type": "stream",
     "text": [
      "Advertencia: ../data/train/Shoplifting042_x264.mp4 tiene menos frames que los requeridos. Usando todo el video.\n"
     ]
    },
    {
     "name": "stderr",
     "output_type": "stream",
     "text": [
      "2025-04-16 07:57:39.119472: I tensorflow/core/kernels/data/shuffle_dataset_op.cc:177] Filling up shuffle buffer (this may take a while): 102 of 516\n",
      "2025-04-16 07:57:49.200324: I tensorflow/core/kernels/data/shuffle_dataset_op.cc:177] Filling up shuffle buffer (this may take a while): 135 of 516\n",
      "2025-04-16 07:57:59.087220: I tensorflow/core/kernels/data/shuffle_dataset_op.cc:177] Filling up shuffle buffer (this may take a while): 160 of 516\n",
      "2025-04-16 07:58:09.520038: I tensorflow/core/kernels/data/shuffle_dataset_op.cc:177] Filling up shuffle buffer (this may take a while): 191 of 516\n",
      "2025-04-16 07:58:19.140577: I tensorflow/core/kernels/data/shuffle_dataset_op.cc:177] Filling up shuffle buffer (this may take a while): 219 of 516\n",
      "2025-04-16 07:58:29.149272: I tensorflow/core/kernels/data/shuffle_dataset_op.cc:177] Filling up shuffle buffer (this may take a while): 247 of 516\n",
      "2025-04-16 07:58:39.269040: I tensorflow/core/kernels/data/shuffle_dataset_op.cc:177] Filling up shuffle buffer (this may take a while): 277 of 516\n",
      "2025-04-16 07:58:49.094809: I tensorflow/core/kernels/data/shuffle_dataset_op.cc:177] Filling up shuffle buffer (this may take a while): 304 of 516\n",
      "2025-04-16 07:58:59.115591: I tensorflow/core/kernels/data/shuffle_dataset_op.cc:177] Filling up shuffle buffer (this may take a while): 336 of 516\n",
      "2025-04-16 07:59:09.268462: I tensorflow/core/kernels/data/shuffle_dataset_op.cc:177] Filling up shuffle buffer (this may take a while): 364 of 516\n",
      "2025-04-16 07:59:19.184506: I tensorflow/core/kernels/data/shuffle_dataset_op.cc:177] Filling up shuffle buffer (this may take a while): 398 of 516\n",
      "2025-04-16 07:59:29.411466: I tensorflow/core/kernels/data/shuffle_dataset_op.cc:177] Filling up shuffle buffer (this may take a while): 430 of 516\n",
      "2025-04-16 07:59:39.114592: I tensorflow/core/kernels/data/shuffle_dataset_op.cc:177] Filling up shuffle buffer (this may take a while): 456 of 516\n",
      "2025-04-16 07:59:49.112702: I tensorflow/core/kernels/data/shuffle_dataset_op.cc:177] Filling up shuffle buffer (this may take a while): 483 of 516\n",
      "2025-04-16 07:59:59.205245: I tensorflow/core/kernels/data/shuffle_dataset_op.cc:230] Shuffle buffer filled.\n"
     ]
    },
    {
     "name": "stdout",
     "output_type": "stream",
     "text": [
      "65/65 [==============================] - 205s 541ms/step - loss: 0.6928 - accuracy: 0.5601 - auc: 0.5364 - val_loss: 0.6923 - val_accuracy: 0.6154 - val_auc: 0.5994\n",
      "Epoch 88/100\n"
     ]
    },
    {
     "name": "stderr",
     "output_type": "stream",
     "text": [
      "2025-04-16 08:00:46.670371: I tensorflow/core/kernels/data/shuffle_dataset_op.cc:177] Filling up shuffle buffer (this may take a while): 33 of 516\n",
      "2025-04-16 08:00:56.339452: I tensorflow/core/kernels/data/shuffle_dataset_op.cc:177] Filling up shuffle buffer (this may take a while): 71 of 516\n"
     ]
    },
    {
     "name": "stdout",
     "output_type": "stream",
     "text": [
      "Advertencia: ../data/train/Shoplifting042_x264.mp4 tiene menos frames que los requeridos. Usando todo el video.\n"
     ]
    },
    {
     "name": "stderr",
     "output_type": "stream",
     "text": [
      "2025-04-16 08:01:06.302136: I tensorflow/core/kernels/data/shuffle_dataset_op.cc:177] Filling up shuffle buffer (this may take a while): 103 of 516\n",
      "2025-04-16 08:01:16.231854: I tensorflow/core/kernels/data/shuffle_dataset_op.cc:177] Filling up shuffle buffer (this may take a while): 135 of 516\n",
      "2025-04-16 08:01:26.581916: I tensorflow/core/kernels/data/shuffle_dataset_op.cc:177] Filling up shuffle buffer (this may take a while): 161 of 516\n",
      "2025-04-16 08:01:36.675657: I tensorflow/core/kernels/data/shuffle_dataset_op.cc:177] Filling up shuffle buffer (this may take a while): 191 of 516\n",
      "2025-04-16 08:01:46.253062: I tensorflow/core/kernels/data/shuffle_dataset_op.cc:177] Filling up shuffle buffer (this may take a while): 219 of 516\n",
      "2025-04-16 08:01:56.250281: I tensorflow/core/kernels/data/shuffle_dataset_op.cc:177] Filling up shuffle buffer (this may take a while): 247 of 516\n",
      "2025-04-16 08:02:06.368410: I tensorflow/core/kernels/data/shuffle_dataset_op.cc:177] Filling up shuffle buffer (this may take a while): 277 of 516\n",
      "2025-04-16 08:02:16.391154: I tensorflow/core/kernels/data/shuffle_dataset_op.cc:177] Filling up shuffle buffer (this may take a while): 305 of 516\n",
      "2025-04-16 08:02:26.198724: I tensorflow/core/kernels/data/shuffle_dataset_op.cc:177] Filling up shuffle buffer (this may take a while): 336 of 516\n",
      "2025-04-16 08:02:36.321182: I tensorflow/core/kernels/data/shuffle_dataset_op.cc:177] Filling up shuffle buffer (this may take a while): 364 of 516\n",
      "2025-04-16 08:02:46.329108: I tensorflow/core/kernels/data/shuffle_dataset_op.cc:177] Filling up shuffle buffer (this may take a while): 398 of 516\n",
      "2025-04-16 08:02:56.443579: I tensorflow/core/kernels/data/shuffle_dataset_op.cc:177] Filling up shuffle buffer (this may take a while): 430 of 516\n",
      "2025-04-16 08:03:06.529689: I tensorflow/core/kernels/data/shuffle_dataset_op.cc:177] Filling up shuffle buffer (this may take a while): 457 of 516\n",
      "2025-04-16 08:03:16.500795: I tensorflow/core/kernels/data/shuffle_dataset_op.cc:177] Filling up shuffle buffer (this may take a while): 484 of 516\n",
      "2025-04-16 08:03:26.068449: I tensorflow/core/kernels/data/shuffle_dataset_op.cc:230] Shuffle buffer filled.\n"
     ]
    },
    {
     "name": "stdout",
     "output_type": "stream",
     "text": [
      "65/65 [==============================] - 204s 534ms/step - loss: 0.6929 - accuracy: 0.5194 - auc: 0.4930 - val_loss: 0.6928 - val_accuracy: 0.6308 - val_auc: 0.5123\n",
      "Epoch 89/100\n"
     ]
    },
    {
     "name": "stderr",
     "output_type": "stream",
     "text": [
      "2025-04-16 08:04:12.601856: I tensorflow/core/kernels/data/shuffle_dataset_op.cc:177] Filling up shuffle buffer (this may take a while): 33 of 516\n",
      "2025-04-16 08:04:22.263946: I tensorflow/core/kernels/data/shuffle_dataset_op.cc:177] Filling up shuffle buffer (this may take a while): 71 of 516\n"
     ]
    },
    {
     "name": "stdout",
     "output_type": "stream",
     "text": [
      "Advertencia: ../data/train/Shoplifting042_x264.mp4 tiene menos frames que los requeridos. Usando todo el video.\n"
     ]
    },
    {
     "name": "stderr",
     "output_type": "stream",
     "text": [
      "2025-04-16 08:04:32.349804: I tensorflow/core/kernels/data/shuffle_dataset_op.cc:177] Filling up shuffle buffer (this may take a while): 103 of 516\n",
      "2025-04-16 08:04:42.265095: I tensorflow/core/kernels/data/shuffle_dataset_op.cc:177] Filling up shuffle buffer (this may take a while): 135 of 516\n",
      "2025-04-16 08:04:52.612995: I tensorflow/core/kernels/data/shuffle_dataset_op.cc:177] Filling up shuffle buffer (this may take a while): 161 of 516\n",
      "2025-04-16 08:05:02.605350: I tensorflow/core/kernels/data/shuffle_dataset_op.cc:177] Filling up shuffle buffer (this may take a while): 191 of 516\n",
      "2025-04-16 08:05:12.812514: I tensorflow/core/kernels/data/shuffle_dataset_op.cc:177] Filling up shuffle buffer (this may take a while): 220 of 516\n",
      "2025-04-16 08:05:22.236691: I tensorflow/core/kernels/data/shuffle_dataset_op.cc:177] Filling up shuffle buffer (this may take a while): 248 of 516\n",
      "2025-04-16 08:05:32.407669: I tensorflow/core/kernels/data/shuffle_dataset_op.cc:177] Filling up shuffle buffer (this may take a while): 278 of 516\n",
      "2025-04-16 08:05:42.311358: I tensorflow/core/kernels/data/shuffle_dataset_op.cc:177] Filling up shuffle buffer (this may take a while): 306 of 516\n",
      "2025-04-16 08:05:52.782367: I tensorflow/core/kernels/data/shuffle_dataset_op.cc:177] Filling up shuffle buffer (this may take a while): 338 of 516\n",
      "2025-04-16 08:06:02.414694: I tensorflow/core/kernels/data/shuffle_dataset_op.cc:177] Filling up shuffle buffer (this may take a while): 365 of 516\n",
      "2025-04-16 08:06:12.760260: I tensorflow/core/kernels/data/shuffle_dataset_op.cc:177] Filling up shuffle buffer (this may take a while): 400 of 516\n",
      "2025-04-16 08:06:22.594018: I tensorflow/core/kernels/data/shuffle_dataset_op.cc:177] Filling up shuffle buffer (this may take a while): 431 of 516\n",
      "2025-04-16 08:06:32.360122: I tensorflow/core/kernels/data/shuffle_dataset_op.cc:177] Filling up shuffle buffer (this may take a while): 458 of 516\n",
      "2025-04-16 08:06:42.219963: I tensorflow/core/kernels/data/shuffle_dataset_op.cc:177] Filling up shuffle buffer (this may take a while): 485 of 516\n",
      "2025-04-16 08:06:51.731225: I tensorflow/core/kernels/data/shuffle_dataset_op.cc:230] Shuffle buffer filled.\n"
     ]
    },
    {
     "name": "stdout",
     "output_type": "stream",
     "text": [
      "65/65 [==============================] - 204s 538ms/step - loss: 0.6928 - accuracy: 0.5484 - auc: 0.5433 - val_loss: 0.6928 - val_accuracy: 0.5385 - val_auc: 0.5833\n",
      "Epoch 90/100\n"
     ]
    },
    {
     "name": "stderr",
     "output_type": "stream",
     "text": [
      "2025-04-16 08:07:38.665147: I tensorflow/core/kernels/data/shuffle_dataset_op.cc:177] Filling up shuffle buffer (this may take a while): 33 of 516\n",
      "2025-04-16 08:07:48.395161: I tensorflow/core/kernels/data/shuffle_dataset_op.cc:177] Filling up shuffle buffer (this may take a while): 71 of 516\n"
     ]
    },
    {
     "name": "stdout",
     "output_type": "stream",
     "text": [
      "Advertencia: ../data/train/Shoplifting042_x264.mp4 tiene menos frames que los requeridos. Usando todo el video.\n"
     ]
    },
    {
     "name": "stderr",
     "output_type": "stream",
     "text": [
      "2025-04-16 08:07:58.352754: I tensorflow/core/kernels/data/shuffle_dataset_op.cc:177] Filling up shuffle buffer (this may take a while): 102 of 516\n",
      "2025-04-16 08:08:08.493959: I tensorflow/core/kernels/data/shuffle_dataset_op.cc:177] Filling up shuffle buffer (this may take a while): 135 of 516\n",
      "2025-04-16 08:08:18.403233: I tensorflow/core/kernels/data/shuffle_dataset_op.cc:177] Filling up shuffle buffer (this may take a while): 160 of 516\n",
      "2025-04-16 08:08:28.922478: I tensorflow/core/kernels/data/shuffle_dataset_op.cc:177] Filling up shuffle buffer (this may take a while): 191 of 516\n",
      "2025-04-16 08:08:38.544111: I tensorflow/core/kernels/data/shuffle_dataset_op.cc:177] Filling up shuffle buffer (this may take a while): 219 of 516\n",
      "2025-04-16 08:08:48.381493: I tensorflow/core/kernels/data/shuffle_dataset_op.cc:177] Filling up shuffle buffer (this may take a while): 247 of 516\n",
      "2025-04-16 08:08:58.442960: I tensorflow/core/kernels/data/shuffle_dataset_op.cc:177] Filling up shuffle buffer (this may take a while): 277 of 516\n",
      "2025-04-16 08:09:08.483954: I tensorflow/core/kernels/data/shuffle_dataset_op.cc:177] Filling up shuffle buffer (this may take a while): 305 of 516\n",
      "2025-04-16 08:09:18.583067: I tensorflow/core/kernels/data/shuffle_dataset_op.cc:177] Filling up shuffle buffer (this may take a while): 337 of 516\n",
      "2025-04-16 08:09:28.649633: I tensorflow/core/kernels/data/shuffle_dataset_op.cc:177] Filling up shuffle buffer (this may take a while): 364 of 516\n",
      "2025-04-16 08:09:38.345730: I tensorflow/core/kernels/data/shuffle_dataset_op.cc:177] Filling up shuffle buffer (this may take a while): 396 of 516\n",
      "2025-04-16 08:09:48.587071: I tensorflow/core/kernels/data/shuffle_dataset_op.cc:177] Filling up shuffle buffer (this may take a while): 429 of 516\n",
      "2025-04-16 08:09:58.808077: I tensorflow/core/kernels/data/shuffle_dataset_op.cc:177] Filling up shuffle buffer (this may take a while): 454 of 516\n",
      "2025-04-16 08:10:08.628352: I tensorflow/core/kernels/data/shuffle_dataset_op.cc:177] Filling up shuffle buffer (this may take a while): 480 of 516\n",
      "2025-04-16 08:10:18.446474: I tensorflow/core/kernels/data/shuffle_dataset_op.cc:177] Filling up shuffle buffer (this may take a while): 512 of 516\n",
      "2025-04-16 08:10:19.495098: I tensorflow/core/kernels/data/shuffle_dataset_op.cc:230] Shuffle buffer filled.\n"
     ]
    },
    {
     "name": "stdout",
     "output_type": "stream",
     "text": [
      "65/65 [==============================] - 206s 539ms/step - loss: 0.6927 - accuracy: 0.5601 - auc: 0.5382 - val_loss: 0.6929 - val_accuracy: 0.5231 - val_auc: 0.5284\n",
      "Epoch 91/100\n"
     ]
    },
    {
     "name": "stderr",
     "output_type": "stream",
     "text": [
      "2025-04-16 08:11:06.359735: I tensorflow/core/kernels/data/shuffle_dataset_op.cc:177] Filling up shuffle buffer (this may take a while): 33 of 516\n",
      "2025-04-16 08:11:15.939931: I tensorflow/core/kernels/data/shuffle_dataset_op.cc:177] Filling up shuffle buffer (this may take a while): 70 of 516\n"
     ]
    },
    {
     "name": "stdout",
     "output_type": "stream",
     "text": [
      "Advertencia: ../data/train/Shoplifting042_x264.mp4 tiene menos frames que los requeridos. Usando todo el video.\n"
     ]
    },
    {
     "name": "stderr",
     "output_type": "stream",
     "text": [
      "2025-04-16 08:11:26.173849: I tensorflow/core/kernels/data/shuffle_dataset_op.cc:177] Filling up shuffle buffer (this may take a while): 102 of 516\n",
      "2025-04-16 08:11:36.259762: I tensorflow/core/kernels/data/shuffle_dataset_op.cc:177] Filling up shuffle buffer (this may take a while): 135 of 516\n",
      "2025-04-16 08:11:46.181028: I tensorflow/core/kernels/data/shuffle_dataset_op.cc:177] Filling up shuffle buffer (this may take a while): 160 of 516\n",
      "2025-04-16 08:11:55.925530: I tensorflow/core/kernels/data/shuffle_dataset_op.cc:177] Filling up shuffle buffer (this may take a while): 190 of 516\n",
      "2025-04-16 08:12:06.164343: I tensorflow/core/kernels/data/shuffle_dataset_op.cc:177] Filling up shuffle buffer (this may take a while): 219 of 516\n",
      "2025-04-16 08:12:16.085933: I tensorflow/core/kernels/data/shuffle_dataset_op.cc:177] Filling up shuffle buffer (this may take a while): 247 of 516\n",
      "2025-04-16 08:12:26.174105: I tensorflow/core/kernels/data/shuffle_dataset_op.cc:177] Filling up shuffle buffer (this may take a while): 277 of 516\n",
      "2025-04-16 08:12:35.949605: I tensorflow/core/kernels/data/shuffle_dataset_op.cc:177] Filling up shuffle buffer (this may take a while): 304 of 516\n",
      "2025-04-16 08:12:46.181643: I tensorflow/core/kernels/data/shuffle_dataset_op.cc:177] Filling up shuffle buffer (this may take a while): 337 of 516\n",
      "2025-04-16 08:12:55.980363: I tensorflow/core/kernels/data/shuffle_dataset_op.cc:177] Filling up shuffle buffer (this may take a while): 364 of 516\n",
      "2025-04-16 08:13:05.920024: I tensorflow/core/kernels/data/shuffle_dataset_op.cc:177] Filling up shuffle buffer (this may take a while): 398 of 516\n",
      "2025-04-16 08:13:16.185742: I tensorflow/core/kernels/data/shuffle_dataset_op.cc:177] Filling up shuffle buffer (this may take a while): 430 of 516\n",
      "2025-04-16 08:13:26.142143: I tensorflow/core/kernels/data/shuffle_dataset_op.cc:177] Filling up shuffle buffer (this may take a while): 457 of 516\n",
      "2025-04-16 08:13:36.180394: I tensorflow/core/kernels/data/shuffle_dataset_op.cc:177] Filling up shuffle buffer (this may take a while): 484 of 516\n",
      "2025-04-16 08:13:45.836099: I tensorflow/core/kernels/data/shuffle_dataset_op.cc:230] Shuffle buffer filled.\n"
     ]
    },
    {
     "name": "stdout",
     "output_type": "stream",
     "text": [
      "65/65 [==============================] - 205s 538ms/step - loss: 0.6929 - accuracy: 0.5213 - auc: 0.5383 - val_loss: 0.6925 - val_accuracy: 0.5846 - val_auc: 0.5601\n",
      "Epoch 92/100\n"
     ]
    },
    {
     "name": "stderr",
     "output_type": "stream",
     "text": [
      "2025-04-16 08:14:32.614208: I tensorflow/core/kernels/data/shuffle_dataset_op.cc:177] Filling up shuffle buffer (this may take a while): 33 of 516\n",
      "2025-04-16 08:14:42.211737: I tensorflow/core/kernels/data/shuffle_dataset_op.cc:177] Filling up shuffle buffer (this may take a while): 70 of 516\n"
     ]
    },
    {
     "name": "stdout",
     "output_type": "stream",
     "text": [
      "Advertencia: ../data/train/Shoplifting042_x264.mp4 tiene menos frames que los requeridos. Usando todo el video.\n"
     ]
    },
    {
     "name": "stderr",
     "output_type": "stream",
     "text": [
      "2025-04-16 08:14:52.407205: I tensorflow/core/kernels/data/shuffle_dataset_op.cc:177] Filling up shuffle buffer (this may take a while): 102 of 516\n",
      "2025-04-16 08:15:02.500408: I tensorflow/core/kernels/data/shuffle_dataset_op.cc:177] Filling up shuffle buffer (this may take a while): 135 of 516\n",
      "2025-04-16 08:15:12.271474: I tensorflow/core/kernels/data/shuffle_dataset_op.cc:177] Filling up shuffle buffer (this may take a while): 160 of 516\n",
      "2025-04-16 08:15:22.785754: I tensorflow/core/kernels/data/shuffle_dataset_op.cc:177] Filling up shuffle buffer (this may take a while): 191 of 516\n",
      "2025-04-16 08:15:32.323559: I tensorflow/core/kernels/data/shuffle_dataset_op.cc:177] Filling up shuffle buffer (this may take a while): 219 of 516\n",
      "2025-04-16 08:15:42.307098: I tensorflow/core/kernels/data/shuffle_dataset_op.cc:177] Filling up shuffle buffer (this may take a while): 247 of 516\n",
      "2025-04-16 08:15:52.393377: I tensorflow/core/kernels/data/shuffle_dataset_op.cc:177] Filling up shuffle buffer (this may take a while): 275 of 516\n",
      "2025-04-16 08:16:02.403521: I tensorflow/core/kernels/data/shuffle_dataset_op.cc:177] Filling up shuffle buffer (this may take a while): 302 of 516\n",
      "2025-04-16 08:16:12.543923: I tensorflow/core/kernels/data/shuffle_dataset_op.cc:177] Filling up shuffle buffer (this may take a while): 334 of 516\n",
      "2025-04-16 08:16:22.301166: I tensorflow/core/kernels/data/shuffle_dataset_op.cc:177] Filling up shuffle buffer (this may take a while): 361 of 516\n",
      "2025-04-16 08:16:32.227754: I tensorflow/core/kernels/data/shuffle_dataset_op.cc:177] Filling up shuffle buffer (this may take a while): 395 of 516\n",
      "2025-04-16 08:16:42.330741: I tensorflow/core/kernels/data/shuffle_dataset_op.cc:177] Filling up shuffle buffer (this may take a while): 429 of 516\n",
      "2025-04-16 08:16:52.244009: I tensorflow/core/kernels/data/shuffle_dataset_op.cc:177] Filling up shuffle buffer (this may take a while): 454 of 516\n",
      "2025-04-16 08:17:02.308469: I tensorflow/core/kernels/data/shuffle_dataset_op.cc:177] Filling up shuffle buffer (this may take a while): 482 of 516\n",
      "2025-04-16 08:17:12.404741: I tensorflow/core/kernels/data/shuffle_dataset_op.cc:177] Filling up shuffle buffer (this may take a while): 515 of 516\n",
      "2025-04-16 08:17:12.579037: I tensorflow/core/kernels/data/shuffle_dataset_op.cc:230] Shuffle buffer filled.\n"
     ]
    },
    {
     "name": "stdout",
     "output_type": "stream",
     "text": [
      "65/65 [==============================] - 205s 539ms/step - loss: 0.6929 - accuracy: 0.5329 - auc: 0.5198 - val_loss: 0.6922 - val_accuracy: 0.6308 - val_auc: 0.5805\n",
      "Epoch 93/100\n"
     ]
    },
    {
     "name": "stderr",
     "output_type": "stream",
     "text": [
      "2025-04-16 08:17:59.552304: I tensorflow/core/kernels/data/shuffle_dataset_op.cc:177] Filling up shuffle buffer (this may take a while): 33 of 516\n",
      "2025-04-16 08:18:09.070633: I tensorflow/core/kernels/data/shuffle_dataset_op.cc:177] Filling up shuffle buffer (this may take a while): 70 of 516\n"
     ]
    },
    {
     "name": "stdout",
     "output_type": "stream",
     "text": [
      "Advertencia: ../data/train/Shoplifting042_x264.mp4 tiene menos frames que los requeridos. Usando todo el video.\n"
     ]
    },
    {
     "name": "stderr",
     "output_type": "stream",
     "text": [
      "2025-04-16 08:18:19.189093: I tensorflow/core/kernels/data/shuffle_dataset_op.cc:177] Filling up shuffle buffer (this may take a while): 102 of 516\n",
      "2025-04-16 08:18:29.336370: I tensorflow/core/kernels/data/shuffle_dataset_op.cc:177] Filling up shuffle buffer (this may take a while): 135 of 516\n",
      "2025-04-16 08:18:39.255062: I tensorflow/core/kernels/data/shuffle_dataset_op.cc:177] Filling up shuffle buffer (this may take a while): 160 of 516\n",
      "2025-04-16 08:18:49.714497: I tensorflow/core/kernels/data/shuffle_dataset_op.cc:177] Filling up shuffle buffer (this may take a while): 191 of 516\n",
      "2025-04-16 08:18:59.387086: I tensorflow/core/kernels/data/shuffle_dataset_op.cc:177] Filling up shuffle buffer (this may take a while): 219 of 516\n",
      "2025-04-16 08:19:09.393975: I tensorflow/core/kernels/data/shuffle_dataset_op.cc:177] Filling up shuffle buffer (this may take a while): 247 of 516\n",
      "2025-04-16 08:19:19.591497: I tensorflow/core/kernels/data/shuffle_dataset_op.cc:177] Filling up shuffle buffer (this may take a while): 277 of 516\n",
      "2025-04-16 08:19:29.435331: I tensorflow/core/kernels/data/shuffle_dataset_op.cc:177] Filling up shuffle buffer (this may take a while): 304 of 516\n",
      "2025-04-16 08:19:39.153656: I tensorflow/core/kernels/data/shuffle_dataset_op.cc:177] Filling up shuffle buffer (this may take a while): 335 of 516\n",
      "2025-04-16 08:19:49.075201: I tensorflow/core/kernels/data/shuffle_dataset_op.cc:177] Filling up shuffle buffer (this may take a while): 363 of 516\n",
      "2025-04-16 08:19:59.247301: I tensorflow/core/kernels/data/shuffle_dataset_op.cc:177] Filling up shuffle buffer (this may take a while): 397 of 516\n",
      "2025-04-16 08:20:09.604793: I tensorflow/core/kernels/data/shuffle_dataset_op.cc:177] Filling up shuffle buffer (this may take a while): 430 of 516\n",
      "2025-04-16 08:20:19.105961: I tensorflow/core/kernels/data/shuffle_dataset_op.cc:177] Filling up shuffle buffer (this may take a while): 455 of 516\n",
      "2025-04-16 08:20:29.067059: I tensorflow/core/kernels/data/shuffle_dataset_op.cc:177] Filling up shuffle buffer (this may take a while): 482 of 516\n",
      "2025-04-16 08:20:39.181521: I tensorflow/core/kernels/data/shuffle_dataset_op.cc:177] Filling up shuffle buffer (this may take a while): 514 of 516\n",
      "2025-04-16 08:20:39.578383: I tensorflow/core/kernels/data/shuffle_dataset_op.cc:230] Shuffle buffer filled.\n"
     ]
    },
    {
     "name": "stdout",
     "output_type": "stream",
     "text": [
      "65/65 [==============================] - 205s 540ms/step - loss: 0.6924 - accuracy: 0.5795 - auc: 0.5661 - val_loss: 0.6942 - val_accuracy: 0.4462 - val_auc: 0.4380\n",
      "Epoch 94/100\n"
     ]
    },
    {
     "name": "stderr",
     "output_type": "stream",
     "text": [
      "2025-04-16 08:21:26.440660: I tensorflow/core/kernels/data/shuffle_dataset_op.cc:177] Filling up shuffle buffer (this may take a while): 33 of 516\n",
      "2025-04-16 08:21:36.171691: I tensorflow/core/kernels/data/shuffle_dataset_op.cc:177] Filling up shuffle buffer (this may take a while): 71 of 516\n"
     ]
    },
    {
     "name": "stdout",
     "output_type": "stream",
     "text": [
      "Advertencia: ../data/train/Shoplifting042_x264.mp4 tiene menos frames que los requeridos. Usando todo el video.\n"
     ]
    },
    {
     "name": "stderr",
     "output_type": "stream",
     "text": [
      "2025-04-16 08:21:46.075038: I tensorflow/core/kernels/data/shuffle_dataset_op.cc:177] Filling up shuffle buffer (this may take a while): 102 of 516\n",
      "2025-04-16 08:21:56.161584: I tensorflow/core/kernels/data/shuffle_dataset_op.cc:177] Filling up shuffle buffer (this may take a while): 135 of 516\n",
      "2025-04-16 08:22:06.377351: I tensorflow/core/kernels/data/shuffle_dataset_op.cc:177] Filling up shuffle buffer (this may take a while): 161 of 516\n",
      "2025-04-16 08:22:16.385384: I tensorflow/core/kernels/data/shuffle_dataset_op.cc:177] Filling up shuffle buffer (this may take a while): 191 of 516\n",
      "2025-04-16 08:22:26.550848: I tensorflow/core/kernels/data/shuffle_dataset_op.cc:177] Filling up shuffle buffer (this may take a while): 220 of 516\n",
      "2025-04-16 08:22:36.071227: I tensorflow/core/kernels/data/shuffle_dataset_op.cc:177] Filling up shuffle buffer (this may take a while): 248 of 516\n",
      "2025-04-16 08:22:46.269162: I tensorflow/core/kernels/data/shuffle_dataset_op.cc:177] Filling up shuffle buffer (this may take a while): 278 of 516\n",
      "2025-04-16 08:22:56.444627: I tensorflow/core/kernels/data/shuffle_dataset_op.cc:177] Filling up shuffle buffer (this may take a while): 307 of 516\n",
      "2025-04-16 08:23:06.522456: I tensorflow/core/kernels/data/shuffle_dataset_op.cc:177] Filling up shuffle buffer (this may take a while): 338 of 516\n",
      "2025-04-16 08:23:16.185876: I tensorflow/core/kernels/data/shuffle_dataset_op.cc:177] Filling up shuffle buffer (this may take a while): 365 of 516\n",
      "2025-04-16 08:23:26.568022: I tensorflow/core/kernels/data/shuffle_dataset_op.cc:177] Filling up shuffle buffer (this may take a while): 400 of 516\n",
      "2025-04-16 08:23:36.478579: I tensorflow/core/kernels/data/shuffle_dataset_op.cc:177] Filling up shuffle buffer (this may take a while): 431 of 516\n",
      "2025-04-16 08:23:46.271244: I tensorflow/core/kernels/data/shuffle_dataset_op.cc:177] Filling up shuffle buffer (this may take a while): 458 of 516\n",
      "2025-04-16 08:23:56.123448: I tensorflow/core/kernels/data/shuffle_dataset_op.cc:177] Filling up shuffle buffer (this may take a while): 485 of 516\n",
      "2025-04-16 08:24:05.611741: I tensorflow/core/kernels/data/shuffle_dataset_op.cc:230] Shuffle buffer filled.\n"
     ]
    },
    {
     "name": "stdout",
     "output_type": "stream",
     "text": [
      "65/65 [==============================] - 204s 538ms/step - loss: 0.6931 - accuracy: 0.5116 - auc: 0.5008 - val_loss: 0.6930 - val_accuracy: 0.5846 - val_auc: 0.5099\n",
      "Epoch 95/100\n"
     ]
    },
    {
     "name": "stderr",
     "output_type": "stream",
     "text": [
      "2025-04-16 08:24:52.395927: I tensorflow/core/kernels/data/shuffle_dataset_op.cc:177] Filling up shuffle buffer (this may take a while): 33 of 516\n",
      "2025-04-16 08:25:02.076553: I tensorflow/core/kernels/data/shuffle_dataset_op.cc:177] Filling up shuffle buffer (this may take a while): 71 of 516\n"
     ]
    },
    {
     "name": "stdout",
     "output_type": "stream",
     "text": [
      "Advertencia: ../data/train/Shoplifting042_x264.mp4 tiene menos frames que los requeridos. Usando todo el video.\n"
     ]
    },
    {
     "name": "stderr",
     "output_type": "stream",
     "text": [
      "2025-04-16 08:25:11.993372: I tensorflow/core/kernels/data/shuffle_dataset_op.cc:177] Filling up shuffle buffer (this may take a while): 102 of 516\n",
      "2025-04-16 08:25:22.022127: I tensorflow/core/kernels/data/shuffle_dataset_op.cc:177] Filling up shuffle buffer (this may take a while): 135 of 516\n",
      "2025-04-16 08:25:32.308059: I tensorflow/core/kernels/data/shuffle_dataset_op.cc:177] Filling up shuffle buffer (this may take a while): 161 of 516\n",
      "2025-04-16 08:25:42.306763: I tensorflow/core/kernels/data/shuffle_dataset_op.cc:177] Filling up shuffle buffer (this may take a while): 191 of 516\n",
      "2025-04-16 08:25:52.437158: I tensorflow/core/kernels/data/shuffle_dataset_op.cc:177] Filling up shuffle buffer (this may take a while): 220 of 516\n",
      "2025-04-16 08:26:02.063350: I tensorflow/core/kernels/data/shuffle_dataset_op.cc:177] Filling up shuffle buffer (this may take a while): 249 of 516\n",
      "2025-04-16 08:26:12.093999: I tensorflow/core/kernels/data/shuffle_dataset_op.cc:177] Filling up shuffle buffer (this may take a while): 278 of 516\n",
      "2025-04-16 08:26:22.039924: I tensorflow/core/kernels/data/shuffle_dataset_op.cc:177] Filling up shuffle buffer (this may take a while): 306 of 516\n",
      "2025-04-16 08:26:32.535968: I tensorflow/core/kernels/data/shuffle_dataset_op.cc:177] Filling up shuffle buffer (this may take a while): 338 of 516\n",
      "2025-04-16 08:26:42.198577: I tensorflow/core/kernels/data/shuffle_dataset_op.cc:177] Filling up shuffle buffer (this may take a while): 365 of 516\n",
      "2025-04-16 08:26:52.507496: I tensorflow/core/kernels/data/shuffle_dataset_op.cc:177] Filling up shuffle buffer (this may take a while): 400 of 516\n",
      "2025-04-16 08:27:02.450066: I tensorflow/core/kernels/data/shuffle_dataset_op.cc:177] Filling up shuffle buffer (this may take a while): 431 of 516\n",
      "2025-04-16 08:27:12.282022: I tensorflow/core/kernels/data/shuffle_dataset_op.cc:177] Filling up shuffle buffer (this may take a while): 458 of 516\n",
      "2025-04-16 08:27:22.024340: I tensorflow/core/kernels/data/shuffle_dataset_op.cc:177] Filling up shuffle buffer (this may take a while): 484 of 516\n",
      "2025-04-16 08:27:31.768360: I tensorflow/core/kernels/data/shuffle_dataset_op.cc:230] Shuffle buffer filled.\n"
     ]
    },
    {
     "name": "stdout",
     "output_type": "stream",
     "text": [
      "65/65 [==============================] - 205s 537ms/step - loss: 0.6927 - accuracy: 0.5465 - auc: 0.5419 - val_loss: 0.6930 - val_accuracy: 0.4769 - val_auc: 0.5189\n",
      "Epoch 96/100\n"
     ]
    },
    {
     "name": "stderr",
     "output_type": "stream",
     "text": [
      "2025-04-16 08:28:18.661777: I tensorflow/core/kernels/data/shuffle_dataset_op.cc:177] Filling up shuffle buffer (this may take a while): 33 of 516\n",
      "2025-04-16 08:28:28.211986: I tensorflow/core/kernels/data/shuffle_dataset_op.cc:177] Filling up shuffle buffer (this may take a while): 70 of 516\n"
     ]
    },
    {
     "name": "stdout",
     "output_type": "stream",
     "text": [
      "Advertencia: ../data/train/Shoplifting042_x264.mp4 tiene menos frames que los requeridos. Usando todo el video.\n"
     ]
    },
    {
     "name": "stderr",
     "output_type": "stream",
     "text": [
      "2025-04-16 08:28:38.389709: I tensorflow/core/kernels/data/shuffle_dataset_op.cc:177] Filling up shuffle buffer (this may take a while): 102 of 516\n",
      "2025-04-16 08:28:48.437705: I tensorflow/core/kernels/data/shuffle_dataset_op.cc:177] Filling up shuffle buffer (this may take a while): 135 of 516\n",
      "2025-04-16 08:28:58.286167: I tensorflow/core/kernels/data/shuffle_dataset_op.cc:177] Filling up shuffle buffer (this may take a while): 160 of 516\n",
      "2025-04-16 08:29:08.819020: I tensorflow/core/kernels/data/shuffle_dataset_op.cc:177] Filling up shuffle buffer (this may take a while): 191 of 516\n",
      "2025-04-16 08:29:18.437202: I tensorflow/core/kernels/data/shuffle_dataset_op.cc:177] Filling up shuffle buffer (this may take a while): 219 of 516\n",
      "2025-04-16 08:29:28.389028: I tensorflow/core/kernels/data/shuffle_dataset_op.cc:177] Filling up shuffle buffer (this may take a while): 247 of 516\n",
      "2025-04-16 08:29:38.460160: I tensorflow/core/kernels/data/shuffle_dataset_op.cc:177] Filling up shuffle buffer (this may take a while): 277 of 516\n",
      "2025-04-16 08:29:48.172553: I tensorflow/core/kernels/data/shuffle_dataset_op.cc:177] Filling up shuffle buffer (this may take a while): 304 of 516\n",
      "2025-04-16 08:29:58.399790: I tensorflow/core/kernels/data/shuffle_dataset_op.cc:177] Filling up shuffle buffer (this may take a while): 337 of 516\n",
      "2025-04-16 08:30:08.226808: I tensorflow/core/kernels/data/shuffle_dataset_op.cc:177] Filling up shuffle buffer (this may take a while): 364 of 516\n",
      "2025-04-16 08:30:18.157474: I tensorflow/core/kernels/data/shuffle_dataset_op.cc:177] Filling up shuffle buffer (this may take a while): 398 of 516\n",
      "2025-04-16 08:30:28.382854: I tensorflow/core/kernels/data/shuffle_dataset_op.cc:177] Filling up shuffle buffer (this may take a while): 430 of 516\n",
      "2025-04-16 08:30:38.413834: I tensorflow/core/kernels/data/shuffle_dataset_op.cc:177] Filling up shuffle buffer (this may take a while): 457 of 516\n",
      "2025-04-16 08:30:48.373097: I tensorflow/core/kernels/data/shuffle_dataset_op.cc:177] Filling up shuffle buffer (this may take a while): 484 of 516\n",
      "2025-04-16 08:30:58.082118: I tensorflow/core/kernels/data/shuffle_dataset_op.cc:230] Shuffle buffer filled.\n"
     ]
    },
    {
     "name": "stdout",
     "output_type": "stream",
     "text": [
      "65/65 [==============================] - 205s 538ms/step - loss: 0.6928 - accuracy: 0.5136 - auc: 0.5269 - val_loss: 0.6926 - val_accuracy: 0.4923 - val_auc: 0.5791\n",
      "Epoch 97/100\n"
     ]
    },
    {
     "name": "stderr",
     "output_type": "stream",
     "text": [
      "2025-04-16 08:31:44.765787: I tensorflow/core/kernels/data/shuffle_dataset_op.cc:177] Filling up shuffle buffer (this may take a while): 33 of 516\n",
      "2025-04-16 08:31:54.493459: I tensorflow/core/kernels/data/shuffle_dataset_op.cc:177] Filling up shuffle buffer (this may take a while): 71 of 516\n"
     ]
    },
    {
     "name": "stdout",
     "output_type": "stream",
     "text": [
      "Advertencia: ../data/train/Shoplifting042_x264.mp4 tiene menos frames que los requeridos. Usando todo el video.\n"
     ]
    },
    {
     "name": "stderr",
     "output_type": "stream",
     "text": [
      "2025-04-16 08:32:04.446014: I tensorflow/core/kernels/data/shuffle_dataset_op.cc:177] Filling up shuffle buffer (this may take a while): 102 of 516\n",
      "2025-04-16 08:32:14.482022: I tensorflow/core/kernels/data/shuffle_dataset_op.cc:177] Filling up shuffle buffer (this may take a while): 135 of 516\n",
      "2025-04-16 08:32:24.379769: I tensorflow/core/kernels/data/shuffle_dataset_op.cc:177] Filling up shuffle buffer (this may take a while): 160 of 516\n",
      "2025-04-16 08:32:34.833013: I tensorflow/core/kernels/data/shuffle_dataset_op.cc:177] Filling up shuffle buffer (this may take a while): 191 of 516\n",
      "2025-04-16 08:32:44.429915: I tensorflow/core/kernels/data/shuffle_dataset_op.cc:177] Filling up shuffle buffer (this may take a while): 219 of 516\n",
      "2025-04-16 08:32:54.447164: I tensorflow/core/kernels/data/shuffle_dataset_op.cc:177] Filling up shuffle buffer (this may take a while): 248 of 516\n",
      "2025-04-16 08:33:04.592966: I tensorflow/core/kernels/data/shuffle_dataset_op.cc:177] Filling up shuffle buffer (this may take a while): 278 of 516\n",
      "2025-04-16 08:33:14.530394: I tensorflow/core/kernels/data/shuffle_dataset_op.cc:177] Filling up shuffle buffer (this may take a while): 306 of 516\n",
      "2025-04-16 08:33:25.022549: I tensorflow/core/kernels/data/shuffle_dataset_op.cc:177] Filling up shuffle buffer (this may take a while): 338 of 516\n",
      "2025-04-16 08:33:34.676956: I tensorflow/core/kernels/data/shuffle_dataset_op.cc:177] Filling up shuffle buffer (this may take a while): 365 of 516\n",
      "2025-04-16 08:33:44.399659: I tensorflow/core/kernels/data/shuffle_dataset_op.cc:177] Filling up shuffle buffer (this may take a while): 399 of 516\n",
      "2025-04-16 08:33:54.822325: I tensorflow/core/kernels/data/shuffle_dataset_op.cc:177] Filling up shuffle buffer (this may take a while): 431 of 516\n",
      "2025-04-16 08:34:04.537260: I tensorflow/core/kernels/data/shuffle_dataset_op.cc:177] Filling up shuffle buffer (this may take a while): 458 of 516\n",
      "2025-04-16 08:34:14.470229: I tensorflow/core/kernels/data/shuffle_dataset_op.cc:177] Filling up shuffle buffer (this may take a while): 485 of 516\n",
      "2025-04-16 08:34:24.068684: I tensorflow/core/kernels/data/shuffle_dataset_op.cc:230] Shuffle buffer filled.\n"
     ]
    },
    {
     "name": "stdout",
     "output_type": "stream",
     "text": [
      "65/65 [==============================] - 204s 535ms/step - loss: 0.6927 - accuracy: 0.5271 - auc: 0.5499 - val_loss: 0.6933 - val_accuracy: 0.5231 - val_auc: 0.4692\n",
      "Epoch 98/100\n"
     ]
    },
    {
     "name": "stderr",
     "output_type": "stream",
     "text": [
      "2025-04-16 08:35:10.536754: I tensorflow/core/kernels/data/shuffle_dataset_op.cc:177] Filling up shuffle buffer (this may take a while): 33 of 516\n",
      "2025-04-16 08:35:20.346582: I tensorflow/core/kernels/data/shuffle_dataset_op.cc:177] Filling up shuffle buffer (this may take a while): 71 of 516\n"
     ]
    },
    {
     "name": "stdout",
     "output_type": "stream",
     "text": [
      "Advertencia: ../data/train/Shoplifting042_x264.mp4 tiene menos frames que los requeridos. Usando todo el video.\n"
     ]
    },
    {
     "name": "stderr",
     "output_type": "stream",
     "text": [
      "2025-04-16 08:35:30.279204: I tensorflow/core/kernels/data/shuffle_dataset_op.cc:177] Filling up shuffle buffer (this may take a while): 102 of 516\n",
      "2025-04-16 08:35:40.366547: I tensorflow/core/kernels/data/shuffle_dataset_op.cc:177] Filling up shuffle buffer (this may take a while): 135 of 516\n",
      "2025-04-16 08:35:50.258786: I tensorflow/core/kernels/data/shuffle_dataset_op.cc:177] Filling up shuffle buffer (this may take a while): 160 of 516\n",
      "2025-04-16 08:36:00.716950: I tensorflow/core/kernels/data/shuffle_dataset_op.cc:177] Filling up shuffle buffer (this may take a while): 191 of 516\n",
      "2025-04-16 08:36:10.295503: I tensorflow/core/kernels/data/shuffle_dataset_op.cc:177] Filling up shuffle buffer (this may take a while): 219 of 516\n",
      "2025-04-16 08:36:20.369220: I tensorflow/core/kernels/data/shuffle_dataset_op.cc:177] Filling up shuffle buffer (this may take a while): 248 of 516\n",
      "2025-04-16 08:36:30.248344: I tensorflow/core/kernels/data/shuffle_dataset_op.cc:177] Filling up shuffle buffer (this may take a while): 277 of 516\n",
      "2025-04-16 08:36:40.308594: I tensorflow/core/kernels/data/shuffle_dataset_op.cc:177] Filling up shuffle buffer (this may take a while): 309 of 516\n",
      "2025-04-16 08:36:50.341813: I tensorflow/core/kernels/data/shuffle_dataset_op.cc:177] Filling up shuffle buffer (this may take a while): 343 of 516\n",
      "2025-04-16 08:37:00.566586: I tensorflow/core/kernels/data/shuffle_dataset_op.cc:177] Filling up shuffle buffer (this may take a while): 378 of 516\n",
      "2025-04-16 08:37:10.457224: I tensorflow/core/kernels/data/shuffle_dataset_op.cc:177] Filling up shuffle buffer (this may take a while): 415 of 516\n",
      "2025-04-16 08:37:20.309809: I tensorflow/core/kernels/data/shuffle_dataset_op.cc:177] Filling up shuffle buffer (this may take a while): 446 of 516\n",
      "2025-04-16 08:37:30.462667: I tensorflow/core/kernels/data/shuffle_dataset_op.cc:177] Filling up shuffle buffer (this may take a while): 476 of 516\n",
      "2025-04-16 08:37:40.399188: I tensorflow/core/kernels/data/shuffle_dataset_op.cc:177] Filling up shuffle buffer (this may take a while): 512 of 516\n",
      "2025-04-16 08:37:41.313981: I tensorflow/core/kernels/data/shuffle_dataset_op.cc:230] Shuffle buffer filled.\n"
     ]
    },
    {
     "name": "stdout",
     "output_type": "stream",
     "text": [
      "65/65 [==============================] - 192s 479ms/step - loss: 0.6929 - accuracy: 0.5329 - auc: 0.5138 - val_loss: 0.6931 - val_accuracy: 0.4615 - val_auc: 0.5426\n",
      "Epoch 99/100\n"
     ]
    },
    {
     "name": "stderr",
     "output_type": "stream",
     "text": [
      "2025-04-16 08:38:23.910733: I tensorflow/core/kernels/data/shuffle_dataset_op.cc:177] Filling up shuffle buffer (this may take a while): 37 of 516\n",
      "2025-04-16 08:38:34.195058: I tensorflow/core/kernels/data/shuffle_dataset_op.cc:177] Filling up shuffle buffer (this may take a while): 82 of 516\n"
     ]
    },
    {
     "name": "stdout",
     "output_type": "stream",
     "text": [
      "Advertencia: ../data/train/Shoplifting042_x264.mp4 tiene menos frames que los requeridos. Usando todo el video.\n"
     ]
    },
    {
     "name": "stderr",
     "output_type": "stream",
     "text": [
      "2025-04-16 08:38:43.806365: I tensorflow/core/kernels/data/shuffle_dataset_op.cc:177] Filling up shuffle buffer (this may take a while): 119 of 516\n",
      "2025-04-16 08:38:54.060810: I tensorflow/core/kernels/data/shuffle_dataset_op.cc:177] Filling up shuffle buffer (this may take a while): 148 of 516\n",
      "2025-04-16 08:39:04.142690: I tensorflow/core/kernels/data/shuffle_dataset_op.cc:177] Filling up shuffle buffer (this may take a while): 178 of 516\n",
      "2025-04-16 08:39:13.859993: I tensorflow/core/kernels/data/shuffle_dataset_op.cc:177] Filling up shuffle buffer (this may take a while): 214 of 516\n",
      "2025-04-16 08:39:23.803852: I tensorflow/core/kernels/data/shuffle_dataset_op.cc:177] Filling up shuffle buffer (this may take a while): 245 of 516\n",
      "2025-04-16 08:39:33.953440: I tensorflow/core/kernels/data/shuffle_dataset_op.cc:177] Filling up shuffle buffer (this may take a while): 278 of 516\n",
      "2025-04-16 08:39:43.870577: I tensorflow/core/kernels/data/shuffle_dataset_op.cc:177] Filling up shuffle buffer (this may take a while): 310 of 516\n",
      "2025-04-16 08:39:53.931365: I tensorflow/core/kernels/data/shuffle_dataset_op.cc:177] Filling up shuffle buffer (this may take a while): 345 of 516\n",
      "2025-04-16 08:40:03.958236: I tensorflow/core/kernels/data/shuffle_dataset_op.cc:177] Filling up shuffle buffer (this may take a while): 379 of 516\n",
      "2025-04-16 08:40:13.796701: I tensorflow/core/kernels/data/shuffle_dataset_op.cc:177] Filling up shuffle buffer (this may take a while): 416 of 516\n",
      "2025-04-16 08:40:23.889700: I tensorflow/core/kernels/data/shuffle_dataset_op.cc:177] Filling up shuffle buffer (this may take a while): 447 of 516\n",
      "2025-04-16 08:40:33.822095: I tensorflow/core/kernels/data/shuffle_dataset_op.cc:177] Filling up shuffle buffer (this may take a while): 477 of 516\n",
      "2025-04-16 08:40:43.935961: I tensorflow/core/kernels/data/shuffle_dataset_op.cc:177] Filling up shuffle buffer (this may take a while): 513 of 516\n",
      "2025-04-16 08:40:44.536625: I tensorflow/core/kernels/data/shuffle_dataset_op.cc:230] Shuffle buffer filled.\n"
     ]
    },
    {
     "name": "stdout",
     "output_type": "stream",
     "text": [
      "65/65 [==============================] - 182s 480ms/step - loss: 0.6930 - accuracy: 0.5252 - auc: 0.5294 - val_loss: 0.6928 - val_accuracy: 0.4615 - val_auc: 0.4811\n",
      "Epoch 100/100\n"
     ]
    },
    {
     "name": "stderr",
     "output_type": "stream",
     "text": [
      "2025-04-16 08:41:27.248782: I tensorflow/core/kernels/data/shuffle_dataset_op.cc:177] Filling up shuffle buffer (this may take a while): 37 of 516\n",
      "2025-04-16 08:41:37.474062: I tensorflow/core/kernels/data/shuffle_dataset_op.cc:177] Filling up shuffle buffer (this may take a while): 82 of 516\n"
     ]
    },
    {
     "name": "stdout",
     "output_type": "stream",
     "text": [
      "Advertencia: ../data/train/Shoplifting042_x264.mp4 tiene menos frames que los requeridos. Usando todo el video.\n"
     ]
    },
    {
     "name": "stderr",
     "output_type": "stream",
     "text": [
      "2025-04-16 08:41:47.135518: I tensorflow/core/kernels/data/shuffle_dataset_op.cc:177] Filling up shuffle buffer (this may take a while): 120 of 516\n",
      "2025-04-16 08:41:57.200483: I tensorflow/core/kernels/data/shuffle_dataset_op.cc:177] Filling up shuffle buffer (this may take a while): 148 of 516\n",
      "2025-04-16 08:42:07.299942: I tensorflow/core/kernels/data/shuffle_dataset_op.cc:177] Filling up shuffle buffer (this may take a while): 178 of 516\n",
      "2025-04-16 08:42:17.188089: I tensorflow/core/kernels/data/shuffle_dataset_op.cc:177] Filling up shuffle buffer (this may take a while): 214 of 516\n",
      "2025-04-16 08:42:27.172703: I tensorflow/core/kernels/data/shuffle_dataset_op.cc:177] Filling up shuffle buffer (this may take a while): 245 of 516\n",
      "2025-04-16 08:42:37.120342: I tensorflow/core/kernels/data/shuffle_dataset_op.cc:177] Filling up shuffle buffer (this may take a while): 277 of 516\n",
      "2025-04-16 08:42:47.340064: I tensorflow/core/kernels/data/shuffle_dataset_op.cc:177] Filling up shuffle buffer (this may take a while): 310 of 516\n",
      "2025-04-16 08:42:57.173189: I tensorflow/core/kernels/data/shuffle_dataset_op.cc:177] Filling up shuffle buffer (this may take a while): 343 of 516\n",
      "2025-04-16 08:43:07.360153: I tensorflow/core/kernels/data/shuffle_dataset_op.cc:177] Filling up shuffle buffer (this may take a while): 378 of 516\n",
      "2025-04-16 08:43:17.236533: I tensorflow/core/kernels/data/shuffle_dataset_op.cc:177] Filling up shuffle buffer (this may take a while): 415 of 516\n",
      "2025-04-16 08:43:27.478864: I tensorflow/core/kernels/data/shuffle_dataset_op.cc:177] Filling up shuffle buffer (this may take a while): 447 of 516\n",
      "2025-04-16 08:43:37.137901: I tensorflow/core/kernels/data/shuffle_dataset_op.cc:177] Filling up shuffle buffer (this may take a while): 476 of 516\n",
      "2025-04-16 08:43:47.313468: I tensorflow/core/kernels/data/shuffle_dataset_op.cc:177] Filling up shuffle buffer (this may take a while): 513 of 516\n",
      "2025-04-16 08:43:47.909351: I tensorflow/core/kernels/data/shuffle_dataset_op.cc:230] Shuffle buffer filled.\n"
     ]
    },
    {
     "name": "stdout",
     "output_type": "stream",
     "text": [
      "65/65 [==============================] - 182s 479ms/step - loss: 0.6930 - accuracy: 0.5097 - auc: 0.5148 - val_loss: 0.6936 - val_accuracy: 0.5231 - val_auc: 0.4863\n"
     ]
    }
   ],
   "source": [
    "history, history_full = train_with_checkpoints(\n",
    "    model_1,\n",
    "    train_dataset,\n",
    "    val_dataset,\n",
    "    epochs=epochs,\n",
    "    checkpoint_dir=\"checkpoints/i3d_model\",\n",
    "    one_cycle_scheduler=one_cycle_scheduler\n",
    ")"
   ]
  },
  {
   "cell_type": "markdown",
   "metadata": {},
   "source": [
    "### Evolución del Learning rate"
   ]
  },
  {
   "cell_type": "code",
   "execution_count": 46,
   "metadata": {},
   "outputs": [
    {
     "data": {
      "image/png": "[encoded data removed]",
      "text/plain": [
       "<Figure size 640x480 with 1 Axes>"
      ]
     },
     "metadata": {},
     "output_type": "display_data"
    }
   ],
   "source": [
    "import matplotlib.pyplot as plt  # Corrección en la importación\n",
    "min_lr = initial_learning_rate\n",
    "max_lr = min_lr * 1000\n",
    "lrs = [one_cycle_scheduler(epoch, initial_learning_rate) for epoch in range(epochs)]\n",
    "plt.plot(range(epochs), lrs)\n",
    "plt.xlabel(\"Época\")\n",
    "plt.ylabel(\"Learning Rate\")\n",
    "plt.title(\"One Cycle Policy - Learning Rate Schedule\")\n",
    "plt.show()"
   ]
  },
  {
   "cell_type": "code",
   "execution_count": 47,
   "metadata": {},
   "outputs": [
    {
     "name": "stderr",
     "output_type": "stream",
     "text": [
      "2025-04-16 08:44:30.624740: I tensorflow/core/kernels/data/shuffle_dataset_op.cc:177] Filling up shuffle buffer (this may take a while): 37 of 516\n",
      "2025-04-16 08:44:40.918291: I tensorflow/core/kernels/data/shuffle_dataset_op.cc:177] Filling up shuffle buffer (this may take a while): 82 of 516\n"
     ]
    },
    {
     "name": "stdout",
     "output_type": "stream",
     "text": [
      "Advertencia: ../data/train/Shoplifting042_x264.mp4 tiene menos frames que los requeridos. Usando todo el video.\n"
     ]
    },
    {
     "name": "stderr",
     "output_type": "stream",
     "text": [
      "2025-04-16 08:44:50.520608: I tensorflow/core/kernels/data/shuffle_dataset_op.cc:177] Filling up shuffle buffer (this may take a while): 119 of 516\n",
      "2025-04-16 08:45:00.682834: I tensorflow/core/kernels/data/shuffle_dataset_op.cc:177] Filling up shuffle buffer (this may take a while): 148 of 516\n",
      "2025-04-16 08:45:10.701740: I tensorflow/core/kernels/data/shuffle_dataset_op.cc:177] Filling up shuffle buffer (this may take a while): 178 of 516\n",
      "2025-04-16 08:45:21.106386: I tensorflow/core/kernels/data/shuffle_dataset_op.cc:177] Filling up shuffle buffer (this may take a while): 215 of 516\n",
      "2025-04-16 08:45:30.977623: I tensorflow/core/kernels/data/shuffle_dataset_op.cc:177] Filling up shuffle buffer (this may take a while): 246 of 516\n",
      "2025-04-16 08:45:40.567336: I tensorflow/core/kernels/data/shuffle_dataset_op.cc:177] Filling up shuffle buffer (this may take a while): 278 of 516\n",
      "2025-04-16 08:45:50.515238: I tensorflow/core/kernels/data/shuffle_dataset_op.cc:177] Filling up shuffle buffer (this may take a while): 310 of 516\n",
      "2025-04-16 08:46:00.602841: I tensorflow/core/kernels/data/shuffle_dataset_op.cc:177] Filling up shuffle buffer (this may take a while): 345 of 516\n",
      "2025-04-16 08:46:10.616440: I tensorflow/core/kernels/data/shuffle_dataset_op.cc:177] Filling up shuffle buffer (this may take a while): 379 of 516\n",
      "2025-04-16 08:46:20.741691: I tensorflow/core/kernels/data/shuffle_dataset_op.cc:177] Filling up shuffle buffer (this may take a while): 417 of 516\n",
      "2025-04-16 08:46:30.536696: I tensorflow/core/kernels/data/shuffle_dataset_op.cc:177] Filling up shuffle buffer (this may take a while): 447 of 516\n",
      "2025-04-16 08:46:40.533295: I tensorflow/core/kernels/data/shuffle_dataset_op.cc:177] Filling up shuffle buffer (this may take a while): 478 of 516\n",
      "2025-04-16 08:46:50.629916: I tensorflow/core/kernels/data/shuffle_dataset_op.cc:177] Filling up shuffle buffer (this may take a while): 514 of 516\n"
     ]
    },
    {
     "name": "stdout",
     "output_type": "stream",
     "text": [
      "      1/Unknown - 151s 151s/step - loss: 0.6911 - accuracy: 0.7500 - auc: 0.7000"
     ]
    },
    {
     "name": "stderr",
     "output_type": "stream",
     "text": [
      "2025-04-16 08:46:50.960491: I tensorflow/core/kernels/data/shuffle_dataset_op.cc:230] Shuffle buffer filled.\n"
     ]
    },
    {
     "name": "stdout",
     "output_type": "stream",
     "text": [
      "65/65 [==============================] - 158s 116ms/step - loss: 0.6925 - accuracy: 0.5465 - auc: 0.5725\n"
     ]
    }
   ],
   "source": [
    "train_results = model_1.evaluate(train_dataset, verbose=1)"
   ]
  },
  {
   "cell_type": "code",
   "execution_count": 48,
   "metadata": {},
   "outputs": [
    {
     "name": "stdout",
     "output_type": "stream",
     "text": [
      "9/9 [==============================] - 18s 2s/step - loss: 0.6919 - accuracy: 0.6308 - auc: 0.5549\n"
     ]
    }
   ],
   "source": [
    "# Evaluar en el conjunto de validación\n",
    "val_results = model_1.evaluate(val_dataset, verbose=1)"
   ]
  },
  {
   "cell_type": "code",
   "execution_count": 49,
   "metadata": {},
   "outputs": [
    {
     "name": "stdout",
     "output_type": "stream",
     "text": [
      "9/9 [==============================] - 20s 2s/step - loss: 0.6929 - accuracy: 0.5231 - auc: 0.5436\n"
     ]
    }
   ],
   "source": [
    "# Evaluar en el conjunto de prueba\n",
    "test_results = model_1.evaluate(test_dataset, verbose=1)"
   ]
  },
  {
   "cell_type": "code",
   "execution_count": 50,
   "metadata": {},
   "outputs": [
    {
     "name": "stdout",
     "output_type": "stream",
     "text": [
      "\n",
      "Resultados Finales:\n",
      "Train - Loss: 0.6924762725830078, Accuracy: 0.5465116500854492\n",
      "Val - Loss: 0.6919060349464417, Accuracy: 0.6307692527770996\n",
      "Test - Loss: 0.6928930878639221, Accuracy: 0.5230769515037537\n"
     ]
    }
   ],
   "source": [
    "print(\"\\nResultados Finales:\")\n",
    "print(f\"Train - Loss: {train_results[0]}, Accuracy: {train_results[1]}\")\n",
    "print(f\"Val - Loss: {val_results[0]}, Accuracy: {val_results[1]}\")\n",
    "print(f\"Test - Loss: {test_results[0]}, Accuracy: {test_results[1]}\")"
   ]
  },
  {
   "cell_type": "markdown",
   "metadata": {},
   "source": [
    "### Gráfica Epochs vs Loss"
   ]
  },
  {
   "cell_type": "code",
   "execution_count": 51,
   "metadata": {},
   "outputs": [
    {
     "data": {
      "image/png": "[encoded data removed]",
      "text/plain": [
       "<Figure size 640x480 with 1 Axes>"
      ]
     },
     "metadata": {},
     "output_type": "display_data"
    }
   ],
   "source": [
    "import matplotlib.pyplot as plt\n",
    "# Extraer la pérdida de entrenamiento y validación\n",
    "loss = history_full['loss']\n",
    "val_loss = history_full['val_loss']\n",
    "\n",
    "# Crear la gráfica\n",
    "plt.plot(range(1, len(loss) + 1), loss, label='Training Loss', marker='o')\n",
    "plt.plot(range(1, len(val_loss) + 1), val_loss, label='Validation Loss', marker='o')\n",
    "\n",
    "# Etiquetas y título\n",
    "plt.xlabel('Epochs')\n",
    "plt.ylabel('Loss')\n",
    "plt.title('Epochs vs Loss')\n",
    "plt.legend()\n",
    "plt.grid(False)\n",
    "plt.show()"
   ]
  },
  {
   "cell_type": "markdown",
   "metadata": {},
   "source": [
    "### Visualización del Modelo con TSNE"
   ]
  },
  {
   "cell_type": "code",
   "execution_count": 54,
   "metadata": {},
   "outputs": [
    {
     "name": "stdout",
     "output_type": "stream",
     "text": [
      "Num samples: 65, Usando perplexity=10\n"
     ]
    },
    {
     "ename": "ValueError",
     "evalue": "n_components=2 must be between 1 and min(n_samples, n_features)=1 with svd_solver='randomized'",
     "output_type": "error",
     "traceback": [
      "\u001b[0;31m---------------------------------------------------------------------------\u001b[0m",
      "\u001b[0;31mValueError\u001b[0m                                Traceback (most recent call last)",
      "Cell \u001b[0;32mIn[54], line 17\u001b[0m\n\u001b[1;32m     15\u001b[0m \u001b[38;5;66;03m# Aplicar t-SNE con 2 dimensiones\u001b[39;00m\n\u001b[1;32m     16\u001b[0m tsne \u001b[38;5;241m=\u001b[39m TSNE(n_components\u001b[38;5;241m=\u001b[39m\u001b[38;5;241m2\u001b[39m, random_state\u001b[38;5;241m=\u001b[39m\u001b[38;5;241m42\u001b[39m, perplexity\u001b[38;5;241m=\u001b[39mperplexity_value)\n\u001b[0;32m---> 17\u001b[0m x_test_tsne \u001b[38;5;241m=\u001b[39m \u001b[43mtsne\u001b[49m\u001b[38;5;241;43m.\u001b[39;49m\u001b[43mfit_transform\u001b[49m\u001b[43m(\u001b[49m\u001b[43mx_test\u001b[49m\u001b[43m)\u001b[49m\n\u001b[1;32m     19\u001b[0m \u001b[38;5;66;03m# Visualización\u001b[39;00m\n\u001b[1;32m     20\u001b[0m plt\u001b[38;5;241m.\u001b[39mfigure(figsize\u001b[38;5;241m=\u001b[39m(\u001b[38;5;241m10\u001b[39m, \u001b[38;5;241m8\u001b[39m))\n",
      "File \u001b[0;32m~/anaconda3/envs/proyecto_i3d/lib/python3.9/site-packages/sklearn/utils/_set_output.py:319\u001b[0m, in \u001b[0;36m_wrap_method_output.<locals>.wrapped\u001b[0;34m(self, X, *args, **kwargs)\u001b[0m\n\u001b[1;32m    317\u001b[0m \u001b[38;5;129m@wraps\u001b[39m(f)\n\u001b[1;32m    318\u001b[0m \u001b[38;5;28;01mdef\u001b[39;00m\u001b[38;5;250m \u001b[39m\u001b[38;5;21mwrapped\u001b[39m(\u001b[38;5;28mself\u001b[39m, X, \u001b[38;5;241m*\u001b[39margs, \u001b[38;5;241m*\u001b[39m\u001b[38;5;241m*\u001b[39mkwargs):\n\u001b[0;32m--> 319\u001b[0m     data_to_wrap \u001b[38;5;241m=\u001b[39m \u001b[43mf\u001b[49m\u001b[43m(\u001b[49m\u001b[38;5;28;43mself\u001b[39;49m\u001b[43m,\u001b[49m\u001b[43m \u001b[49m\u001b[43mX\u001b[49m\u001b[43m,\u001b[49m\u001b[43m \u001b[49m\u001b[38;5;241;43m*\u001b[39;49m\u001b[43margs\u001b[49m\u001b[43m,\u001b[49m\u001b[43m \u001b[49m\u001b[38;5;241;43m*\u001b[39;49m\u001b[38;5;241;43m*\u001b[39;49m\u001b[43mkwargs\u001b[49m\u001b[43m)\u001b[49m\n\u001b[1;32m    320\u001b[0m     \u001b[38;5;28;01mif\u001b[39;00m \u001b[38;5;28misinstance\u001b[39m(data_to_wrap, \u001b[38;5;28mtuple\u001b[39m):\n\u001b[1;32m    321\u001b[0m         \u001b[38;5;66;03m# only wrap the first output for cross decomposition\u001b[39;00m\n\u001b[1;32m    322\u001b[0m         return_tuple \u001b[38;5;241m=\u001b[39m (\n\u001b[1;32m    323\u001b[0m             _wrap_data_with_container(method, data_to_wrap[\u001b[38;5;241m0\u001b[39m], X, \u001b[38;5;28mself\u001b[39m),\n\u001b[1;32m    324\u001b[0m             \u001b[38;5;241m*\u001b[39mdata_to_wrap[\u001b[38;5;241m1\u001b[39m:],\n\u001b[1;32m    325\u001b[0m         )\n",
      "File \u001b[0;32m~/anaconda3/envs/proyecto_i3d/lib/python3.9/site-packages/sklearn/base.py:1389\u001b[0m, in \u001b[0;36m_fit_context.<locals>.decorator.<locals>.wrapper\u001b[0;34m(estimator, *args, **kwargs)\u001b[0m\n\u001b[1;32m   1382\u001b[0m     estimator\u001b[38;5;241m.\u001b[39m_validate_params()\n\u001b[1;32m   1384\u001b[0m \u001b[38;5;28;01mwith\u001b[39;00m config_context(\n\u001b[1;32m   1385\u001b[0m     skip_parameter_validation\u001b[38;5;241m=\u001b[39m(\n\u001b[1;32m   1386\u001b[0m         prefer_skip_nested_validation \u001b[38;5;129;01mor\u001b[39;00m global_skip_validation\n\u001b[1;32m   1387\u001b[0m     )\n\u001b[1;32m   1388\u001b[0m ):\n\u001b[0;32m-> 1389\u001b[0m     \u001b[38;5;28;01mreturn\u001b[39;00m \u001b[43mfit_method\u001b[49m\u001b[43m(\u001b[49m\u001b[43mestimator\u001b[49m\u001b[43m,\u001b[49m\u001b[43m \u001b[49m\u001b[38;5;241;43m*\u001b[39;49m\u001b[43margs\u001b[49m\u001b[43m,\u001b[49m\u001b[43m \u001b[49m\u001b[38;5;241;43m*\u001b[39;49m\u001b[38;5;241;43m*\u001b[39;49m\u001b[43mkwargs\u001b[49m\u001b[43m)\u001b[49m\n",
      "File \u001b[0;32m~/anaconda3/envs/proyecto_i3d/lib/python3.9/site-packages/sklearn/manifold/_t_sne.py:1178\u001b[0m, in \u001b[0;36mTSNE.fit_transform\u001b[0;34m(self, X, y)\u001b[0m\n\u001b[1;32m   1175\u001b[0m     \u001b[38;5;28mself\u001b[39m\u001b[38;5;241m.\u001b[39m_max_iter \u001b[38;5;241m=\u001b[39m \u001b[38;5;28mself\u001b[39m\u001b[38;5;241m.\u001b[39mmax_iter\n\u001b[1;32m   1177\u001b[0m \u001b[38;5;28mself\u001b[39m\u001b[38;5;241m.\u001b[39m_check_params_vs_input(X)\n\u001b[0;32m-> 1178\u001b[0m embedding \u001b[38;5;241m=\u001b[39m \u001b[38;5;28;43mself\u001b[39;49m\u001b[38;5;241;43m.\u001b[39;49m\u001b[43m_fit\u001b[49m\u001b[43m(\u001b[49m\u001b[43mX\u001b[49m\u001b[43m)\u001b[49m\n\u001b[1;32m   1179\u001b[0m \u001b[38;5;28mself\u001b[39m\u001b[38;5;241m.\u001b[39membedding_ \u001b[38;5;241m=\u001b[39m embedding\n\u001b[1;32m   1180\u001b[0m \u001b[38;5;28;01mreturn\u001b[39;00m \u001b[38;5;28mself\u001b[39m\u001b[38;5;241m.\u001b[39membedding_\n",
      "File \u001b[0;32m~/anaconda3/envs/proyecto_i3d/lib/python3.9/site-packages/sklearn/manifold/_t_sne.py:1029\u001b[0m, in \u001b[0;36mTSNE._fit\u001b[0;34m(self, X, skip_num_points)\u001b[0m\n\u001b[1;32m   1027\u001b[0m \u001b[38;5;66;03m# Always output a numpy array, no matter what is configured globally\u001b[39;00m\n\u001b[1;32m   1028\u001b[0m pca\u001b[38;5;241m.\u001b[39mset_output(transform\u001b[38;5;241m=\u001b[39m\u001b[38;5;124m\"\u001b[39m\u001b[38;5;124mdefault\u001b[39m\u001b[38;5;124m\"\u001b[39m)\n\u001b[0;32m-> 1029\u001b[0m X_embedded \u001b[38;5;241m=\u001b[39m \u001b[43mpca\u001b[49m\u001b[38;5;241;43m.\u001b[39;49m\u001b[43mfit_transform\u001b[49m\u001b[43m(\u001b[49m\u001b[43mX\u001b[49m\u001b[43m)\u001b[49m\u001b[38;5;241m.\u001b[39mastype(np\u001b[38;5;241m.\u001b[39mfloat32, copy\u001b[38;5;241m=\u001b[39m\u001b[38;5;28;01mFalse\u001b[39;00m)\n\u001b[1;32m   1030\u001b[0m \u001b[38;5;66;03m# PCA is rescaled so that PC1 has standard deviation 1e-4 which is\u001b[39;00m\n\u001b[1;32m   1031\u001b[0m \u001b[38;5;66;03m# the default value for random initialization. See issue #18018.\u001b[39;00m\n\u001b[1;32m   1032\u001b[0m X_embedded \u001b[38;5;241m=\u001b[39m X_embedded \u001b[38;5;241m/\u001b[39m np\u001b[38;5;241m.\u001b[39mstd(X_embedded[:, \u001b[38;5;241m0\u001b[39m]) \u001b[38;5;241m*\u001b[39m \u001b[38;5;241m1e-4\u001b[39m\n",
      "File \u001b[0;32m~/anaconda3/envs/proyecto_i3d/lib/python3.9/site-packages/sklearn/utils/_set_output.py:319\u001b[0m, in \u001b[0;36m_wrap_method_output.<locals>.wrapped\u001b[0;34m(self, X, *args, **kwargs)\u001b[0m\n\u001b[1;32m    317\u001b[0m \u001b[38;5;129m@wraps\u001b[39m(f)\n\u001b[1;32m    318\u001b[0m \u001b[38;5;28;01mdef\u001b[39;00m\u001b[38;5;250m \u001b[39m\u001b[38;5;21mwrapped\u001b[39m(\u001b[38;5;28mself\u001b[39m, X, \u001b[38;5;241m*\u001b[39margs, \u001b[38;5;241m*\u001b[39m\u001b[38;5;241m*\u001b[39mkwargs):\n\u001b[0;32m--> 319\u001b[0m     data_to_wrap \u001b[38;5;241m=\u001b[39m \u001b[43mf\u001b[49m\u001b[43m(\u001b[49m\u001b[38;5;28;43mself\u001b[39;49m\u001b[43m,\u001b[49m\u001b[43m \u001b[49m\u001b[43mX\u001b[49m\u001b[43m,\u001b[49m\u001b[43m \u001b[49m\u001b[38;5;241;43m*\u001b[39;49m\u001b[43margs\u001b[49m\u001b[43m,\u001b[49m\u001b[43m \u001b[49m\u001b[38;5;241;43m*\u001b[39;49m\u001b[38;5;241;43m*\u001b[39;49m\u001b[43mkwargs\u001b[49m\u001b[43m)\u001b[49m\n\u001b[1;32m    320\u001b[0m     \u001b[38;5;28;01mif\u001b[39;00m \u001b[38;5;28misinstance\u001b[39m(data_to_wrap, \u001b[38;5;28mtuple\u001b[39m):\n\u001b[1;32m    321\u001b[0m         \u001b[38;5;66;03m# only wrap the first output for cross decomposition\u001b[39;00m\n\u001b[1;32m    322\u001b[0m         return_tuple \u001b[38;5;241m=\u001b[39m (\n\u001b[1;32m    323\u001b[0m             _wrap_data_with_container(method, data_to_wrap[\u001b[38;5;241m0\u001b[39m], X, \u001b[38;5;28mself\u001b[39m),\n\u001b[1;32m    324\u001b[0m             \u001b[38;5;241m*\u001b[39mdata_to_wrap[\u001b[38;5;241m1\u001b[39m:],\n\u001b[1;32m    325\u001b[0m         )\n",
      "File \u001b[0;32m~/anaconda3/envs/proyecto_i3d/lib/python3.9/site-packages/sklearn/base.py:1389\u001b[0m, in \u001b[0;36m_fit_context.<locals>.decorator.<locals>.wrapper\u001b[0;34m(estimator, *args, **kwargs)\u001b[0m\n\u001b[1;32m   1382\u001b[0m     estimator\u001b[38;5;241m.\u001b[39m_validate_params()\n\u001b[1;32m   1384\u001b[0m \u001b[38;5;28;01mwith\u001b[39;00m config_context(\n\u001b[1;32m   1385\u001b[0m     skip_parameter_validation\u001b[38;5;241m=\u001b[39m(\n\u001b[1;32m   1386\u001b[0m         prefer_skip_nested_validation \u001b[38;5;129;01mor\u001b[39;00m global_skip_validation\n\u001b[1;32m   1387\u001b[0m     )\n\u001b[1;32m   1388\u001b[0m ):\n\u001b[0;32m-> 1389\u001b[0m     \u001b[38;5;28;01mreturn\u001b[39;00m \u001b[43mfit_method\u001b[49m\u001b[43m(\u001b[49m\u001b[43mestimator\u001b[49m\u001b[43m,\u001b[49m\u001b[43m \u001b[49m\u001b[38;5;241;43m*\u001b[39;49m\u001b[43margs\u001b[49m\u001b[43m,\u001b[49m\u001b[43m \u001b[49m\u001b[38;5;241;43m*\u001b[39;49m\u001b[38;5;241;43m*\u001b[39;49m\u001b[43mkwargs\u001b[49m\u001b[43m)\u001b[49m\n",
      "File \u001b[0;32m~/anaconda3/envs/proyecto_i3d/lib/python3.9/site-packages/sklearn/decomposition/_pca.py:468\u001b[0m, in \u001b[0;36mPCA.fit_transform\u001b[0;34m(self, X, y)\u001b[0m\n\u001b[1;32m    445\u001b[0m \u001b[38;5;129m@_fit_context\u001b[39m(prefer_skip_nested_validation\u001b[38;5;241m=\u001b[39m\u001b[38;5;28;01mTrue\u001b[39;00m)\n\u001b[1;32m    446\u001b[0m \u001b[38;5;28;01mdef\u001b[39;00m\u001b[38;5;250m \u001b[39m\u001b[38;5;21mfit_transform\u001b[39m(\u001b[38;5;28mself\u001b[39m, X, y\u001b[38;5;241m=\u001b[39m\u001b[38;5;28;01mNone\u001b[39;00m):\n\u001b[1;32m    447\u001b[0m \u001b[38;5;250m    \u001b[39m\u001b[38;5;124;03m\"\"\"Fit the model with X and apply the dimensionality reduction on X.\u001b[39;00m\n\u001b[1;32m    448\u001b[0m \n\u001b[1;32m    449\u001b[0m \u001b[38;5;124;03m    Parameters\u001b[39;00m\n\u001b[0;32m   (...)\u001b[0m\n\u001b[1;32m    466\u001b[0m \u001b[38;5;124;03m    C-ordered array, use 'np.ascontiguousarray'.\u001b[39;00m\n\u001b[1;32m    467\u001b[0m \u001b[38;5;124;03m    \"\"\"\u001b[39;00m\n\u001b[0;32m--> 468\u001b[0m     U, S, _, X, x_is_centered, xp \u001b[38;5;241m=\u001b[39m \u001b[38;5;28;43mself\u001b[39;49m\u001b[38;5;241;43m.\u001b[39;49m\u001b[43m_fit\u001b[49m\u001b[43m(\u001b[49m\u001b[43mX\u001b[49m\u001b[43m)\u001b[49m\n\u001b[1;32m    469\u001b[0m     \u001b[38;5;28;01mif\u001b[39;00m U \u001b[38;5;129;01mis\u001b[39;00m \u001b[38;5;129;01mnot\u001b[39;00m \u001b[38;5;28;01mNone\u001b[39;00m:\n\u001b[1;32m    470\u001b[0m         U \u001b[38;5;241m=\u001b[39m U[:, : \u001b[38;5;28mself\u001b[39m\u001b[38;5;241m.\u001b[39mn_components_]\n",
      "File \u001b[0;32m~/anaconda3/envs/proyecto_i3d/lib/python3.9/site-packages/sklearn/decomposition/_pca.py:544\u001b[0m, in \u001b[0;36mPCA._fit\u001b[0;34m(self, X)\u001b[0m\n\u001b[1;32m    542\u001b[0m     \u001b[38;5;28;01mreturn\u001b[39;00m \u001b[38;5;28mself\u001b[39m\u001b[38;5;241m.\u001b[39m_fit_full(X, n_components, xp, is_array_api_compliant)\n\u001b[1;32m    543\u001b[0m \u001b[38;5;28;01melif\u001b[39;00m \u001b[38;5;28mself\u001b[39m\u001b[38;5;241m.\u001b[39m_fit_svd_solver \u001b[38;5;129;01min\u001b[39;00m [\u001b[38;5;124m\"\u001b[39m\u001b[38;5;124marpack\u001b[39m\u001b[38;5;124m\"\u001b[39m, \u001b[38;5;124m\"\u001b[39m\u001b[38;5;124mrandomized\u001b[39m\u001b[38;5;124m\"\u001b[39m]:\n\u001b[0;32m--> 544\u001b[0m     \u001b[38;5;28;01mreturn\u001b[39;00m \u001b[38;5;28;43mself\u001b[39;49m\u001b[38;5;241;43m.\u001b[39;49m\u001b[43m_fit_truncated\u001b[49m\u001b[43m(\u001b[49m\u001b[43mX\u001b[49m\u001b[43m,\u001b[49m\u001b[43m \u001b[49m\u001b[43mn_components\u001b[49m\u001b[43m,\u001b[49m\u001b[43m \u001b[49m\u001b[43mxp\u001b[49m\u001b[43m)\u001b[49m\n",
      "File \u001b[0;32m~/anaconda3/envs/proyecto_i3d/lib/python3.9/site-packages/sklearn/decomposition/_pca.py:719\u001b[0m, in \u001b[0;36mPCA._fit_truncated\u001b[0;34m(self, X, n_components, xp)\u001b[0m\n\u001b[1;32m    714\u001b[0m     \u001b[38;5;28;01mraise\u001b[39;00m \u001b[38;5;167;01mValueError\u001b[39;00m(\n\u001b[1;32m    715\u001b[0m         \u001b[38;5;124m\"\u001b[39m\u001b[38;5;124mn_components=\u001b[39m\u001b[38;5;132;01m%r\u001b[39;00m\u001b[38;5;124m cannot be a string with svd_solver=\u001b[39m\u001b[38;5;124m'\u001b[39m\u001b[38;5;132;01m%s\u001b[39;00m\u001b[38;5;124m'\u001b[39m\u001b[38;5;124m\"\u001b[39m\n\u001b[1;32m    716\u001b[0m         \u001b[38;5;241m%\u001b[39m (n_components, svd_solver)\n\u001b[1;32m    717\u001b[0m     )\n\u001b[1;32m    718\u001b[0m \u001b[38;5;28;01melif\u001b[39;00m \u001b[38;5;129;01mnot\u001b[39;00m \u001b[38;5;241m1\u001b[39m \u001b[38;5;241m<\u001b[39m\u001b[38;5;241m=\u001b[39m n_components \u001b[38;5;241m<\u001b[39m\u001b[38;5;241m=\u001b[39m \u001b[38;5;28mmin\u001b[39m(n_samples, n_features):\n\u001b[0;32m--> 719\u001b[0m     \u001b[38;5;28;01mraise\u001b[39;00m \u001b[38;5;167;01mValueError\u001b[39;00m(\n\u001b[1;32m    720\u001b[0m         \u001b[38;5;124m\"\u001b[39m\u001b[38;5;124mn_components=\u001b[39m\u001b[38;5;132;01m%r\u001b[39;00m\u001b[38;5;124m must be between 1 and \u001b[39m\u001b[38;5;124m\"\u001b[39m\n\u001b[1;32m    721\u001b[0m         \u001b[38;5;124m\"\u001b[39m\u001b[38;5;124mmin(n_samples, n_features)=\u001b[39m\u001b[38;5;132;01m%r\u001b[39;00m\u001b[38;5;124m with \u001b[39m\u001b[38;5;124m\"\u001b[39m\n\u001b[1;32m    722\u001b[0m         \u001b[38;5;124m\"\u001b[39m\u001b[38;5;124msvd_solver=\u001b[39m\u001b[38;5;124m'\u001b[39m\u001b[38;5;132;01m%s\u001b[39;00m\u001b[38;5;124m'\u001b[39m\u001b[38;5;124m\"\u001b[39m\n\u001b[1;32m    723\u001b[0m         \u001b[38;5;241m%\u001b[39m (n_components, \u001b[38;5;28mmin\u001b[39m(n_samples, n_features), svd_solver)\n\u001b[1;32m    724\u001b[0m     )\n\u001b[1;32m    725\u001b[0m \u001b[38;5;28;01melif\u001b[39;00m svd_solver \u001b[38;5;241m==\u001b[39m \u001b[38;5;124m\"\u001b[39m\u001b[38;5;124marpack\u001b[39m\u001b[38;5;124m\"\u001b[39m \u001b[38;5;129;01mand\u001b[39;00m n_components \u001b[38;5;241m==\u001b[39m \u001b[38;5;28mmin\u001b[39m(n_samples, n_features):\n\u001b[1;32m    726\u001b[0m     \u001b[38;5;28;01mraise\u001b[39;00m \u001b[38;5;167;01mValueError\u001b[39;00m(\n\u001b[1;32m    727\u001b[0m         \u001b[38;5;124m\"\u001b[39m\u001b[38;5;124mn_components=\u001b[39m\u001b[38;5;132;01m%r\u001b[39;00m\u001b[38;5;124m must be strictly less than \u001b[39m\u001b[38;5;124m\"\u001b[39m\n\u001b[1;32m    728\u001b[0m         \u001b[38;5;124m\"\u001b[39m\u001b[38;5;124mmin(n_samples, n_features)=\u001b[39m\u001b[38;5;132;01m%r\u001b[39;00m\u001b[38;5;124m with \u001b[39m\u001b[38;5;124m\"\u001b[39m\n\u001b[1;32m    729\u001b[0m         \u001b[38;5;124m\"\u001b[39m\u001b[38;5;124msvd_solver=\u001b[39m\u001b[38;5;124m'\u001b[39m\u001b[38;5;132;01m%s\u001b[39;00m\u001b[38;5;124m'\u001b[39m\u001b[38;5;124m\"\u001b[39m\n\u001b[1;32m    730\u001b[0m         \u001b[38;5;241m%\u001b[39m (n_components, \u001b[38;5;28mmin\u001b[39m(n_samples, n_features), svd_solver)\n\u001b[1;32m    731\u001b[0m     )\n",
      "\u001b[0;31mValueError\u001b[0m: n_components=2 must be between 1 and min(n_samples, n_features)=1 with svd_solver='randomized'"
     ]
    }
   ],
   "source": [
    "from sklearn.manifold import TSNE\n",
    "import numpy as np\n",
    "import matplotlib.pyplot as plt\n",
    "\n",
    "# Obtener las representaciones del modelo\n",
    "x_test = model_1.predict(test_dataset)  # Extrae los embeddings\n",
    "y_test = np.concatenate([y for _, y in test_dataset])  # Obtener etiquetas reales\n",
    "\n",
    "# Verificar el número de muestras\n",
    "num_samples = x_test.shape[0]\n",
    "perplexity_value = min(10, num_samples - 1)  # Ajustar perplexity dinámicamente\n",
    "\n",
    "print(f\"Num samples: {num_samples}, Usando perplexity={perplexity_value}\")\n",
    "\n",
    "# Aplicar t-SNE con 2 dimensiones\n",
    "tsne = TSNE(n_components=2, random_state=42, perplexity=perplexity_value)\n",
    "x_test_tsne = tsne.fit_transform(x_test)\n",
    "\n",
    "# Visualización\n",
    "plt.figure(figsize=(10, 8))\n",
    "for i in np.unique(y_test):\n",
    "    idx = np.where(y_test == i)[0]\n",
    "    plt.scatter(x_test_tsne[idx, 0], x_test_tsne[idx, 1], label=f\"Clase {i}\")\n",
    "\n",
    "plt.title(\"Visualización t-SNE de los embeddings del conjunto de prueba\")\n",
    "plt.xlabel(\"Componente t-SNE 1\")\n",
    "plt.ylabel(\"Componente t-SNE 2\")\n",
    "plt.legend(title=\"Clases\")\n",
    "plt.grid(True)\n",
    "plt.show()\n"
   ]
  },
  {
   "cell_type": "markdown",
   "metadata": {},
   "source": [
    "## I3D + ConvLSTM2D"
   ]
  },
  {
   "cell_type": "code",
   "execution_count": null,
   "metadata": {},
   "outputs": [],
   "source": [
    "from tensorflow.keras.layers import (ConvLSTM2D, TimeDistributed, Dense, \n",
    "                                    Flatten, GlobalAveragePooling2D, \n",
    "                                    Dropout, BatchNormalization)\n",
    "from tensorflow.keras import Model\n",
    "\n",
    "class I3D_ConvLSTM(Model):\n",
    "    def __init__(self, num_classes, endpoint=\"Mixed_5c\"):\n",
    "        super(I3D_ConvLSTM, self).__init__()\n",
    "        np.random.seed(42)\n",
    "        tf.random.set_seed(42)\n",
    "        # Modelo base Inception I3D\n",
    "        self.i3d = InceptionI3d(num_classes=num_classes, is_training=True, final_endpoint=endpoint)\n",
    "        \n",
    "        # Capa ConvLSTM2D para modelar información temporal\n",
    "        self.conv_lstm = ConvLSTM2D(\n",
    "            filters=64, \n",
    "            kernel_size=(3, 3),\n",
    "            padding='same',\n",
    "            return_sequences=True,  # Mantener la dimensión temporal\n",
    "            dropout=0.2,\n",
    "            recurrent_dropout=0.2\n",
    "        )\n",
    "        \n",
    "        # Batch Normalization después de ConvLSTM\n",
    "        self.batch_norm = BatchNormalization()\n",
    "        \n",
    "        # Global Average Pooling para reducir dimensionalidad\n",
    "        self.global_avg_pool = GlobalAveragePooling2D()  # Cambio a 2D\n",
    "        \n",
    "        # Dropout para regularización\n",
    "        self.dropout = Dropout(0.3)\n",
    "        \n",
    "        # Capa completamente conectada final SIN activación (para logits)\n",
    "        self.fc = Dense(num_classes)  # Eliminado activation='softmax'\n",
    "\n",
    "    def call(self, inputs, training=False):\n",
    "        \"\"\"Entrada esperada: (batch_size, num_frames, height, width, channels)\"\"\"\n",
    "        \n",
    "        # Extraer características con I3D\n",
    "        features, _ = self.i3d(inputs)  # (batch_size, num_frames, 7, 7, 1024)\n",
    "        \n",
    "        # Aplicar ConvLSTM2D sobre la dimensión temporal\n",
    "        lstm_out = self.conv_lstm(features)  # (batch_size, num_frames, 7, 7, 64)\n",
    "        \n",
    "        # Tomar solo el último frame de la salida de LSTM para clasificación\n",
    "        lstm_out = lstm_out[:, -1, :, :, :]  # (batch_size, 7, 7, 64)\n",
    "\n",
    "        # Batch Normalization\n",
    "        x = self.batch_norm(lstm_out, training=training)\n",
    "        \n",
    "        # Global Average Pooling\n",
    "        x = self.global_avg_pool(x)\n",
    "        \n",
    "        # Dropout para regularización\n",
    "        x = self.dropout(x, training=training)\n",
    "        \n",
    "        # Capa de salida (ahora devuelve logits)\n",
    "        logits = self.fc(x)\n",
    "        \n",
    "        return logits"
   ]
  },
  {
   "cell_type": "code",
   "execution_count": null,
   "metadata": {},
   "outputs": [],
   "source": [
    "# Crear el DataModule\n",
    "data_module = VideoDataModule(train_df, valid_df, test_df, batch_size=8)\n",
    "# Obtener los datasets\n",
    "train_dataset = data_module.train_dataset()\n",
    "val_dataset = data_module.val_dataset()\n",
    "test_dataset = data_module.test_dataset()"
   ]
  },
  {
   "cell_type": "markdown",
   "metadata": {},
   "source": [
    "### Modelo"
   ]
  },
  {
   "cell_type": "code",
   "execution_count": null,
   "metadata": {},
   "outputs": [],
   "source": [
    "epochs = 100  # Número de épocas\n",
    "initial_learning_rate = 1e-7\n",
    "num_classes = 2"
   ]
  },
  {
   "cell_type": "code",
   "execution_count": null,
   "metadata": {},
   "outputs": [],
   "source": [
    "model_2 = I3D_ConvLSTM(num_classes=num_classes)\n",
    "optimizer = tf.keras.optimizers.Adam(learning_rate=initial_learning_rate)\n",
    "loss_fn = tf.keras.losses.SparseCategoricalCrossentropy(from_logits=True)\n",
    "model_2.compile(optimizer=optimizer, loss=loss_fn, metrics=[\"accuracy\"])"
   ]
  },
  {
   "cell_type": "code",
   "execution_count": null,
   "metadata": {},
   "outputs": [
    {
     "name": "stderr",
     "output_type": "stream",
     "text": [
      "2025-04-10 00:07:43.038143: I tensorflow/core/kernels/data/shuffle_dataset_op.cc:177] Filling up shuffle buffer (this may take a while): 37 of 516\n",
      "2025-04-10 00:07:53.371981: I tensorflow/core/kernels/data/shuffle_dataset_op.cc:177] Filling up shuffle buffer (this may take a while): 82 of 516\n"
     ]
    },
    {
     "name": "stdout",
     "output_type": "stream",
     "text": [
      "Advertencia: ../data/train/Shoplifting042_x264.mp4 tiene menos frames que los requeridos. Usando todo el video.\n"
     ]
    },
    {
     "name": "stderr",
     "output_type": "stream",
     "text": [
      "2025-04-10 00:08:02.964253: I tensorflow/core/kernels/data/shuffle_dataset_op.cc:177] Filling up shuffle buffer (this may take a while): 119 of 516\n",
      "2025-04-10 00:08:13.105008: I tensorflow/core/kernels/data/shuffle_dataset_op.cc:177] Filling up shuffle buffer (this may take a while): 148 of 516\n",
      "2025-04-10 00:08:23.095701: I tensorflow/core/kernels/data/shuffle_dataset_op.cc:177] Filling up shuffle buffer (this may take a while): 178 of 516\n",
      "2025-04-10 00:08:32.910355: I tensorflow/core/kernels/data/shuffle_dataset_op.cc:177] Filling up shuffle buffer (this may take a while): 214 of 516\n",
      "2025-04-10 00:08:43.412599: I tensorflow/core/kernels/data/shuffle_dataset_op.cc:177] Filling up shuffle buffer (this may take a while): 246 of 516\n",
      "2025-04-10 00:08:52.926216: I tensorflow/core/kernels/data/shuffle_dataset_op.cc:177] Filling up shuffle buffer (this may take a while): 278 of 516\n",
      "2025-04-10 00:09:03.064047: I tensorflow/core/kernels/data/shuffle_dataset_op.cc:177] Filling up shuffle buffer (this may take a while): 311 of 516\n",
      "2025-04-10 00:09:12.998626: I tensorflow/core/kernels/data/shuffle_dataset_op.cc:177] Filling up shuffle buffer (this may take a while): 345 of 516\n",
      "2025-04-10 00:09:23.043419: I tensorflow/core/kernels/data/shuffle_dataset_op.cc:177] Filling up shuffle buffer (this may take a while): 379 of 516\n",
      "2025-04-10 00:09:32.941464: I tensorflow/core/kernels/data/shuffle_dataset_op.cc:177] Filling up shuffle buffer (this may take a while): 416 of 516\n",
      "2025-04-10 00:09:43.075900: I tensorflow/core/kernels/data/shuffle_dataset_op.cc:177] Filling up shuffle buffer (this may take a while): 447 of 516\n",
      "2025-04-10 00:09:52.928981: I tensorflow/core/kernels/data/shuffle_dataset_op.cc:177] Filling up shuffle buffer (this may take a while): 477 of 516\n",
      "2025-04-10 00:10:02.976101: I tensorflow/core/kernels/data/shuffle_dataset_op.cc:177] Filling up shuffle buffer (this may take a while): 513 of 516\n",
      "2025-04-10 00:10:03.565052: I tensorflow/core/kernels/data/shuffle_dataset_op.cc:230] Shuffle buffer filled.\n"
     ]
    },
    {
     "name": "stdout",
     "output_type": "stream",
     "text": [
      "  1/100 [..............................] - ETA: 4:35:43 - loss: 0.7799 - accuracy: 0.3750"
     ]
    },
    {
     "name": "stderr",
     "output_type": "stream",
     "text": [
      "2025-04-10 00:10:03.790609: I tensorflow/stream_executor/cuda/cuda_blas.cc:1838] TensorFloat-32 will be used for the matrix multiplication. This will only be logged once.\n"
     ]
    },
    {
     "name": "stdout",
     "output_type": "stream",
     "text": [
      " 65/100 [==================>...........] - ETA: 8s - loss: 0.8092 - accuracy: 0.5194WARNING:tensorflow:Your input ran out of data; interrupting training. Make sure that your dataset or generator can generate at least `steps_per_epoch * epochs` batches (in this case, 100 batches). You may need to use the repeat() function when building your dataset.\n",
      "100/100 [==============================] - 182s 149ms/step - loss: 0.8092 - accuracy: 0.5194\n"
     ]
    },
    {
     "name": "stderr",
     "output_type": "stream",
     "text": [
      "2025-04-10 00:10:29.053853: I tensorflow/core/kernels/data/shuffle_dataset_op.cc:177] Filling up shuffle buffer (this may take a while): 36 of 516\n",
      "2025-04-10 00:10:38.902050: I tensorflow/core/kernels/data/shuffle_dataset_op.cc:177] Filling up shuffle buffer (this may take a while): 79 of 516\n"
     ]
    },
    {
     "name": "stdout",
     "output_type": "stream",
     "text": [
      "Advertencia: ../data/train/Shoplifting042_x264.mp4 tiene menos frames que los requeridos. Usando todo el video.\n"
     ]
    },
    {
     "name": "stderr",
     "output_type": "stream",
     "text": [
      "2025-04-10 00:10:48.985697: I tensorflow/core/kernels/data/shuffle_dataset_op.cc:177] Filling up shuffle buffer (this may take a while): 117 of 516\n",
      "2025-04-10 00:10:58.856156: I tensorflow/core/kernels/data/shuffle_dataset_op.cc:177] Filling up shuffle buffer (this may take a while): 146 of 516\n",
      "2025-04-10 00:11:08.966897: I tensorflow/core/kernels/data/shuffle_dataset_op.cc:177] Filling up shuffle buffer (this may take a while): 177 of 516\n",
      "2025-04-10 00:11:19.420271: I tensorflow/core/kernels/data/shuffle_dataset_op.cc:177] Filling up shuffle buffer (this may take a while): 214 of 516\n",
      "2025-04-10 00:11:29.089872: I tensorflow/core/kernels/data/shuffle_dataset_op.cc:177] Filling up shuffle buffer (this may take a while): 244 of 516\n",
      "2025-04-10 00:11:38.907439: I tensorflow/core/kernels/data/shuffle_dataset_op.cc:177] Filling up shuffle buffer (this may take a while): 275 of 516\n",
      "2025-04-10 00:11:48.858330: I tensorflow/core/kernels/data/shuffle_dataset_op.cc:177] Filling up shuffle buffer (this may take a while): 304 of 516\n",
      "2025-04-10 00:11:59.140779: I tensorflow/core/kernels/data/shuffle_dataset_op.cc:177] Filling up shuffle buffer (this may take a while): 339 of 516\n",
      "2025-04-10 00:12:08.985201: I tensorflow/core/kernels/data/shuffle_dataset_op.cc:177] Filling up shuffle buffer (this may take a while): 372 of 516\n",
      "2025-04-10 00:12:18.912826: I tensorflow/core/kernels/data/shuffle_dataset_op.cc:177] Filling up shuffle buffer (this may take a while): 407 of 516\n",
      "2025-04-10 00:12:29.010313: I tensorflow/core/kernels/data/shuffle_dataset_op.cc:177] Filling up shuffle buffer (this may take a while): 442 of 516\n",
      "2025-04-10 00:12:38.861318: I tensorflow/core/kernels/data/shuffle_dataset_op.cc:177] Filling up shuffle buffer (this may take a while): 469 of 516\n",
      "2025-04-10 00:12:49.015169: I tensorflow/core/kernels/data/shuffle_dataset_op.cc:177] Filling up shuffle buffer (this may take a while): 503 of 516\n",
      "2025-04-10 00:12:52.092209: I tensorflow/core/kernels/data/shuffle_dataset_op.cc:230] Shuffle buffer filled.\n"
     ]
    },
    {
     "name": "stdout",
     "output_type": "stream",
     "text": [
      " 65/100 [==================>...........] - ETA: 8s - loss: 0.6607 - accuracy: 0.5814WARNING:tensorflow:Your input ran out of data; interrupting training. Make sure that your dataset or generator can generate at least `steps_per_epoch * epochs` batches (in this case, 100 batches). You may need to use the repeat() function when building your dataset.\n",
      "100/100 [==============================] - 168s 149ms/step - loss: 0.6607 - accuracy: 0.5814\n"
     ]
    },
    {
     "name": "stderr",
     "output_type": "stream",
     "text": [
      "2025-04-10 00:13:17.421632: I tensorflow/core/kernels/data/shuffle_dataset_op.cc:177] Filling up shuffle buffer (this may take a while): 36 of 516\n",
      "2025-04-10 00:13:27.430209: I tensorflow/core/kernels/data/shuffle_dataset_op.cc:177] Filling up shuffle buffer (this may take a while): 81 of 516\n"
     ]
    },
    {
     "name": "stdout",
     "output_type": "stream",
     "text": [
      "Advertencia: ../data/train/Shoplifting042_x264.mp4 tiene menos frames que los requeridos. Usando todo el video.\n"
     ]
    },
    {
     "name": "stderr",
     "output_type": "stream",
     "text": [
      "2025-04-10 00:13:37.388449: I tensorflow/core/kernels/data/shuffle_dataset_op.cc:177] Filling up shuffle buffer (this may take a while): 118 of 516\n",
      "2025-04-10 00:13:47.354706: I tensorflow/core/kernels/data/shuffle_dataset_op.cc:177] Filling up shuffle buffer (this may take a while): 147 of 516\n",
      "2025-04-10 00:13:57.864547: I tensorflow/core/kernels/data/shuffle_dataset_op.cc:177] Filling up shuffle buffer (this may take a while): 178 of 516\n",
      "2025-04-10 00:14:07.678892: I tensorflow/core/kernels/data/shuffle_dataset_op.cc:177] Filling up shuffle buffer (this may take a while): 214 of 516\n",
      "2025-04-10 00:14:17.612744: I tensorflow/core/kernels/data/shuffle_dataset_op.cc:177] Filling up shuffle buffer (this may take a while): 245 of 516\n",
      "2025-04-10 00:14:27.515384: I tensorflow/core/kernels/data/shuffle_dataset_op.cc:177] Filling up shuffle buffer (this may take a while): 277 of 516\n",
      "2025-04-10 00:14:37.430298: I tensorflow/core/kernels/data/shuffle_dataset_op.cc:177] Filling up shuffle buffer (this may take a while): 309 of 516\n",
      "2025-04-10 00:14:47.431162: I tensorflow/core/kernels/data/shuffle_dataset_op.cc:177] Filling up shuffle buffer (this may take a while): 343 of 516\n",
      "2025-04-10 00:14:57.705814: I tensorflow/core/kernels/data/shuffle_dataset_op.cc:177] Filling up shuffle buffer (this may take a while): 378 of 516\n",
      "2025-04-10 00:15:07.720240: I tensorflow/core/kernels/data/shuffle_dataset_op.cc:177] Filling up shuffle buffer (this may take a while): 415 of 516\n",
      "2025-04-10 00:15:17.542517: I tensorflow/core/kernels/data/shuffle_dataset_op.cc:177] Filling up shuffle buffer (this may take a while): 446 of 516\n",
      "2025-04-10 00:15:27.374636: I tensorflow/core/kernels/data/shuffle_dataset_op.cc:177] Filling up shuffle buffer (this may take a while): 475 of 516\n",
      "2025-04-10 00:15:37.539487: I tensorflow/core/kernels/data/shuffle_dataset_op.cc:177] Filling up shuffle buffer (this may take a while): 512 of 516\n",
      "2025-04-10 00:15:38.432568: I tensorflow/core/kernels/data/shuffle_dataset_op.cc:230] Shuffle buffer filled.\n"
     ]
    },
    {
     "name": "stdout",
     "output_type": "stream",
     "text": [
      " 65/100 [==================>...........] - ETA: 7s - loss: 0.7660 - accuracy: 0.6066WARNING:tensorflow:Your input ran out of data; interrupting training. Make sure that your dataset or generator can generate at least `steps_per_epoch * epochs` batches (in this case, 100 batches). You may need to use the repeat() function when building your dataset.\n",
      "100/100 [==============================] - 166s 147ms/step - loss: 0.7660 - accuracy: 0.6066\n"
     ]
    }
   ],
   "source": [
    "# Aplicar LR Finder en entrenamiento corto\n",
    "lr_finder = LRFinder(start_lr=1e-7, end_lr=10, num_it=100)\n",
    "for _ in range(5):  # Ejecutar varias veces para obtener mejores resultados\n",
    "    model_2.fit(train_dataset, epochs=1, steps_per_epoch=100, callbacks=[lr_finder])"
   ]
  },
  {
   "cell_type": "code",
   "execution_count": null,
   "metadata": {},
   "outputs": [
    {
     "data": {
      "image/png": "[encoded data removed]",
      "text/plain": [
       "<Figure size 1200x700 with 1 Axes>"
      ]
     },
     "metadata": {},
     "output_type": "display_data"
    },
    {
     "name": "stdout",
     "output_type": "stream",
     "text": [
      "Promedio min_lr: 2.11e-05\n",
      "Promedio max_lr: 2.54e-05\n"
     ]
    }
   ],
   "source": [
    "# Obtener los valores óptimos de min_lr y max_lr\n",
    "min_lr, max_lr = lr_finder.plot_all_runs()"
   ]
  },
  {
   "cell_type": "code",
   "execution_count": null,
   "metadata": {},
   "outputs": [
    {
     "name": "stdout",
     "output_type": "stream",
     "text": [
      "999.0\n",
      "min_lr: 2.1112062444980922e-05\n",
      "max_lr: 0.02111206244498092\n"
     ]
    }
   ],
   "source": [
    "# Ajustar max_lr si es necesario\n",
    "if abs(max_lr - min_lr) / min_lr < 100:\n",
    "    max_lr = min_lr * 1000\n",
    "print(f\"min_lr: {min_lr}\")\n",
    "print(f\"max_lr: {max_lr}\")"
   ]
  },
  {
   "cell_type": "code",
   "execution_count": null,
   "metadata": {},
   "outputs": [],
   "source": [
    "def one_cycle_scheduler(epoch, lr):\n",
    "    total_epochs = epochs\n",
    "    warmup_epochs = total_epochs // 4\n",
    "\n",
    "    if epoch < warmup_epochs:  # Warmup\n",
    "        return initial_learning_rate + (max_lr - initial_learning_rate) * (epoch / warmup_epochs)\n",
    "    \n",
    "    elif epoch < total_epochs - 5:  # Cosine annealing phase\n",
    "        return min_lr + (max_lr - min_lr) * 0.5 * (1 + np.cos(np.pi * (epoch - warmup_epochs) / (total_epochs - warmup_epochs - 5)))\n",
    "\n",
    "    else:  # Final annealing phase\n",
    "        return min_lr"
   ]
  },
  {
   "cell_type": "code",
   "execution_count": null,
   "metadata": {},
   "outputs": [
    {
     "name": "stdout",
     "output_type": "stream",
     "text": [
      "Starting training from scratch.\n",
      "Epoch 1/2\n"
     ]
    },
    {
     "name": "stderr",
     "output_type": "stream",
     "text": [
      "2025-04-10 00:16:03.936945: I tensorflow/core/kernels/data/shuffle_dataset_op.cc:177] Filling up shuffle buffer (this may take a while): 36 of 516\n",
      "2025-04-10 00:16:13.830521: I tensorflow/core/kernels/data/shuffle_dataset_op.cc:177] Filling up shuffle buffer (this may take a while): 80 of 516\n"
     ]
    },
    {
     "name": "stdout",
     "output_type": "stream",
     "text": [
      "Advertencia: ../data/train/Shoplifting042_x264.mp4 tiene menos frames que los requeridos. Usando todo el video.\n"
     ]
    },
    {
     "name": "stderr",
     "output_type": "stream",
     "text": [
      "2025-04-10 00:16:23.717079: I tensorflow/core/kernels/data/shuffle_dataset_op.cc:177] Filling up shuffle buffer (this may take a while): 116 of 516\n",
      "2025-04-10 00:16:33.845223: I tensorflow/core/kernels/data/shuffle_dataset_op.cc:177] Filling up shuffle buffer (this may take a while): 146 of 516\n",
      "2025-04-10 00:16:44.027830: I tensorflow/core/kernels/data/shuffle_dataset_op.cc:177] Filling up shuffle buffer (this may take a while): 177 of 516\n",
      "2025-04-10 00:16:53.941140: I tensorflow/core/kernels/data/shuffle_dataset_op.cc:177] Filling up shuffle buffer (this may take a while): 213 of 516\n",
      "2025-04-10 00:17:03.779672: I tensorflow/core/kernels/data/shuffle_dataset_op.cc:177] Filling up shuffle buffer (this may take a while): 243 of 516\n",
      "2025-04-10 00:17:13.799831: I tensorflow/core/kernels/data/shuffle_dataset_op.cc:177] Filling up shuffle buffer (this may take a while): 275 of 516\n",
      "2025-04-10 00:17:23.836297: I tensorflow/core/kernels/data/shuffle_dataset_op.cc:177] Filling up shuffle buffer (this may take a while): 306 of 516\n",
      "2025-04-10 00:17:33.737967: I tensorflow/core/kernels/data/shuffle_dataset_op.cc:177] Filling up shuffle buffer (this may take a while): 340 of 516\n",
      "2025-04-10 00:17:43.881684: I tensorflow/core/kernels/data/shuffle_dataset_op.cc:177] Filling up shuffle buffer (this may take a while): 374 of 516\n",
      "2025-04-10 00:17:54.096220: I tensorflow/core/kernels/data/shuffle_dataset_op.cc:177] Filling up shuffle buffer (this may take a while): 410 of 516\n",
      "2025-04-10 00:18:03.847442: I tensorflow/core/kernels/data/shuffle_dataset_op.cc:177] Filling up shuffle buffer (this may take a while): 443 of 516\n",
      "2025-04-10 00:18:13.717906: I tensorflow/core/kernels/data/shuffle_dataset_op.cc:177] Filling up shuffle buffer (this may take a while): 472 of 516\n",
      "2025-04-10 00:18:23.912635: I tensorflow/core/kernels/data/shuffle_dataset_op.cc:177] Filling up shuffle buffer (this may take a while): 505 of 516\n",
      "2025-04-10 00:18:26.469185: I tensorflow/core/kernels/data/shuffle_dataset_op.cc:230] Shuffle buffer filled.\n"
     ]
    },
    {
     "name": "stdout",
     "output_type": "stream",
     "text": [
      "65/65 [==============================] - 189s 562ms/step - loss: 0.6951 - accuracy: 0.5446 - val_loss: 0.6988 - val_accuracy: 0.4923\n",
      "Epoch 2/2\n"
     ]
    },
    {
     "name": "stderr",
     "output_type": "stream",
     "text": [
      "2025-04-10 00:19:17.152102: I tensorflow/core/kernels/data/shuffle_dataset_op.cc:177] Filling up shuffle buffer (this may take a while): 37 of 516\n",
      "2025-04-10 00:19:27.330292: I tensorflow/core/kernels/data/shuffle_dataset_op.cc:177] Filling up shuffle buffer (this may take a while): 82 of 516\n"
     ]
    },
    {
     "name": "stdout",
     "output_type": "stream",
     "text": [
      "Advertencia: ../data/train/Shoplifting042_x264.mp4 tiene menos frames que los requeridos. Usando todo el video.\n"
     ]
    },
    {
     "name": "stderr",
     "output_type": "stream",
     "text": [
      "2025-04-10 00:19:37.620690: I tensorflow/core/kernels/data/shuffle_dataset_op.cc:177] Filling up shuffle buffer (this may take a while): 121 of 516\n",
      "2025-04-10 00:19:47.172707: I tensorflow/core/kernels/data/shuffle_dataset_op.cc:177] Filling up shuffle buffer (this may take a while): 149 of 516\n",
      "2025-04-10 00:19:57.201047: I tensorflow/core/kernels/data/shuffle_dataset_op.cc:177] Filling up shuffle buffer (this may take a while): 179 of 516\n",
      "2025-04-10 00:20:07.391951: I tensorflow/core/kernels/data/shuffle_dataset_op.cc:177] Filling up shuffle buffer (this may take a while): 215 of 516\n",
      "2025-04-10 00:20:17.219161: I tensorflow/core/kernels/data/shuffle_dataset_op.cc:177] Filling up shuffle buffer (this may take a while): 246 of 516\n",
      "2025-04-10 00:20:27.185639: I tensorflow/core/kernels/data/shuffle_dataset_op.cc:177] Filling up shuffle buffer (this may take a while): 280 of 516\n",
      "2025-04-10 00:20:37.349930: I tensorflow/core/kernels/data/shuffle_dataset_op.cc:177] Filling up shuffle buffer (this may take a while): 312 of 516\n",
      "2025-04-10 00:20:47.292338: I tensorflow/core/kernels/data/shuffle_dataset_op.cc:177] Filling up shuffle buffer (this may take a while): 346 of 516\n",
      "2025-04-10 00:20:57.169737: I tensorflow/core/kernels/data/shuffle_dataset_op.cc:177] Filling up shuffle buffer (this may take a while): 379 of 516\n",
      "2025-04-10 00:21:07.414376: I tensorflow/core/kernels/data/shuffle_dataset_op.cc:177] Filling up shuffle buffer (this may take a while): 417 of 516\n",
      "2025-04-10 00:21:17.241555: I tensorflow/core/kernels/data/shuffle_dataset_op.cc:177] Filling up shuffle buffer (this may take a while): 447 of 516\n",
      "2025-04-10 00:21:27.148518: I tensorflow/core/kernels/data/shuffle_dataset_op.cc:177] Filling up shuffle buffer (this may take a while): 477 of 516\n",
      "2025-04-10 00:21:37.252676: I tensorflow/core/kernels/data/shuffle_dataset_op.cc:177] Filling up shuffle buffer (this may take a while): 513 of 516\n",
      "2025-04-10 00:21:37.842201: I tensorflow/core/kernels/data/shuffle_dataset_op.cc:230] Shuffle buffer filled.\n"
     ]
    },
    {
     "name": "stdout",
     "output_type": "stream",
     "text": [
      "65/65 [==============================] - 184s 516ms/step - loss: 0.6995 - accuracy: 0.5252 - val_loss: 0.6911 - val_accuracy: 0.5077\n"
     ]
    }
   ],
   "source": [
    "history2, history_full2 = train_with_checkpoints(\n",
    "    model_2,\n",
    "    train_dataset,\n",
    "    val_dataset,\n",
    "    epochs=epochs,\n",
    "    checkpoint_dir=\"checkpoints/i3d_convlstm\",\n",
    "    one_cycle_scheduler=one_cycle_scheduler\n",
    ")"
   ]
  },
  {
   "cell_type": "code",
   "execution_count": null,
   "metadata": {},
   "outputs": [
    {
     "name": "stderr",
     "output_type": "stream",
     "text": [
      "2025-04-08 00:23:24.822227: I tensorflow/core/kernels/data/shuffle_dataset_op.cc:177] Filling up shuffle buffer (this may take a while): 36 of 516\n",
      "2025-04-08 00:23:34.738983: I tensorflow/core/kernels/data/shuffle_dataset_op.cc:177] Filling up shuffle buffer (this may take a while): 80 of 516\n",
      "2025-04-08 00:23:44.768291: I tensorflow/core/kernels/data/shuffle_dataset_op.cc:177] Filling up shuffle buffer (this may take a while): 118 of 516\n",
      "2025-04-08 00:23:54.758586: I tensorflow/core/kernels/data/shuffle_dataset_op.cc:177] Filling up shuffle buffer (this may take a while): 147 of 516\n",
      "2025-04-08 00:24:04.735871: I tensorflow/core/kernels/data/shuffle_dataset_op.cc:177] Filling up shuffle buffer (this may take a while): 177 of 516\n",
      "2025-04-08 00:24:15.207309: I tensorflow/core/kernels/data/shuffle_dataset_op.cc:177] Filling up shuffle buffer (this may take a while): 214 of 516\n",
      "2025-04-08 00:24:25.096524: I tensorflow/core/kernels/data/shuffle_dataset_op.cc:177] Filling up shuffle buffer (this may take a while): 245 of 516\n",
      "2025-04-08 00:24:35.073411: I tensorflow/core/kernels/data/shuffle_dataset_op.cc:177] Filling up shuffle buffer (this may take a while): 277 of 516\n",
      "2025-04-08 00:24:44.909135: I tensorflow/core/kernels/data/shuffle_dataset_op.cc:177] Filling up shuffle buffer (this may take a while): 308 of 516\n",
      "2025-04-08 00:24:54.990876: I tensorflow/core/kernels/data/shuffle_dataset_op.cc:177] Filling up shuffle buffer (this may take a while): 342 of 516\n",
      "2025-04-08 00:25:05.219208: I tensorflow/core/kernels/data/shuffle_dataset_op.cc:177] Filling up shuffle buffer (this may take a while): 375 of 516\n",
      "2025-04-08 00:25:14.940084: I tensorflow/core/kernels/data/shuffle_dataset_op.cc:177] Filling up shuffle buffer (this may take a while): 410 of 516\n",
      "2025-04-08 00:25:24.723787: I tensorflow/core/kernels/data/shuffle_dataset_op.cc:177] Filling up shuffle buffer (this may take a while): 443 of 516\n",
      "2025-04-08 00:25:35.041384: I tensorflow/core/kernels/data/shuffle_dataset_op.cc:177] Filling up shuffle buffer (this may take a while): 473 of 516\n",
      "2025-04-08 00:25:44.914423: I tensorflow/core/kernels/data/shuffle_dataset_op.cc:177] Filling up shuffle buffer (this may take a while): 505 of 516\n",
      "2025-04-08 00:25:47.466789: I tensorflow/core/kernels/data/shuffle_dataset_op.cc:230] Shuffle buffer filled.\n"
     ]
    },
    {
     "name": "stdout",
     "output_type": "stream",
     "text": [
      "65/65 [==============================] - 161s 121ms/step - loss: 0.5442 - accuracy: 0.7287\n"
     ]
    }
   ],
   "source": [
    "train_results = model_2.evaluate(train_dataset, verbose=1)"
   ]
  },
  {
   "cell_type": "code",
   "execution_count": null,
   "metadata": {},
   "outputs": [
    {
     "name": "stdout",
     "output_type": "stream",
     "text": [
      "      3/Unknown - 7s 2s/step - loss: 0.3391 - accuracy: 0.9583"
     ]
    },
    {
     "name": "stdout",
     "output_type": "stream",
     "text": [
      "9/9 [==============================] - 18s 2s/step - loss: 0.5186 - accuracy: 0.8000\n"
     ]
    }
   ],
   "source": [
    "# Evaluar en el conjunto de validación\n",
    "val_results = model_2.evaluate(val_dataset, verbose=1)"
   ]
  },
  {
   "cell_type": "code",
   "execution_count": null,
   "metadata": {},
   "outputs": [
    {
     "name": "stdout",
     "output_type": "stream",
     "text": [
      "9/9 [==============================] - 20s 2s/step - loss: 0.6887 - accuracy: 0.5692\n"
     ]
    }
   ],
   "source": [
    "# Evaluar en el conjunto de prueba\n",
    "test_results = model_2.evaluate(test_dataset, verbose=1)"
   ]
  },
  {
   "cell_type": "code",
   "execution_count": null,
   "metadata": {},
   "outputs": [
    {
     "name": "stdout",
     "output_type": "stream",
     "text": [
      "\n",
      "Resultados Finales:\n",
      "Train - Loss: 0.5442267656326294, Accuracy: 0.7286821603775024\n",
      "Val - Loss: 0.5185882449150085, Accuracy: 0.800000011920929\n",
      "Test - Loss: 0.6710519194602966, Accuracy: 0.6615384817123413\n"
     ]
    }
   ],
   "source": [
    "print(\"\\nResultados Finales:\")\n",
    "print(f\"Train - Loss: {train_results[0]}, Accuracy: {train_results[1]}\")\n",
    "print(f\"Val - Loss: {val_results[0]}, Accuracy: {val_results[1]}\")\n",
    "print(f\"Test - Loss: {test_results[0]}, Accuracy: {test_results[1]}\")"
   ]
  },
  {
   "cell_type": "markdown",
   "metadata": {},
   "source": [
    "### Evolución del Learning rate"
   ]
  },
  {
   "cell_type": "code",
   "execution_count": null,
   "metadata": {},
   "outputs": [
    {
     "data": {
      "image/png": "[encoded data removed]",
      "text/plain": [
       "<Figure size 640x480 with 1 Axes>"
      ]
     },
     "metadata": {},
     "output_type": "display_data"
    }
   ],
   "source": [
    "import matplotlib.pyplot as plt  # Corrección en la importación\n",
    "lrs = [one_cycle_scheduler(epoch, initial_learning_rate) for epoch in range(epochs)]\n",
    "plt.plot(range(epochs), lrs)\n",
    "plt.xlabel(\"Época\")\n",
    "plt.ylabel(\"Learning Rate\")\n",
    "plt.title(\"One Cycle Policy - Learning Rate Schedule\")\n",
    "plt.show()"
   ]
  },
  {
   "cell_type": "markdown",
   "metadata": {},
   "source": [
    "### Gráfica Epochs vs Loss"
   ]
  },
  {
   "cell_type": "code",
   "execution_count": null,
   "metadata": {},
   "outputs": [
    {
     "data": {
      "image/png": "[encoded data removed]",
      "text/plain": [
       "<Figure size 640x480 with 1 Axes>"
      ]
     },
     "metadata": {},
     "output_type": "display_data"
    }
   ],
   "source": [
    "import matplotlib.pyplot as plt\n",
    "\n",
    "# Extraer la pérdida de entrenamiento y validación\n",
    "loss = history.history['loss']\n",
    "val_loss = history.history['val_loss']\n",
    "\n",
    "# Crear la gráfica\n",
    "plt.plot(range(1, len(loss) + 1), loss, label='Training Loss', marker='o')\n",
    "plt.plot(range(1, len(val_loss) + 1), val_loss, label='Validation Loss', marker='o')\n",
    "\n",
    "# Etiquetas y título\n",
    "plt.xlabel('Epochs')\n",
    "plt.ylabel('Loss')\n",
    "plt.title('Epochs vs Loss')\n",
    "plt.legend()\n",
    "plt.grid(True)\n",
    "plt.show()"
   ]
  },
  {
   "cell_type": "markdown",
   "metadata": {},
   "source": [
    "### Visualización del Modelo con TSNE"
   ]
  },
  {
   "cell_type": "code",
   "execution_count": null,
   "metadata": {},
   "outputs": [
    {
     "name": "stdout",
     "output_type": "stream",
     "text": [
      "Num samples: 65, Usando perplexity=10\n"
     ]
    },
    {
     "data": {
      "image/png": "[encoded data removed]",
      "text/plain": [
       "<Figure size 1000x800 with 1 Axes>"
      ]
     },
     "metadata": {},
     "output_type": "display_data"
    }
   ],
   "source": [
    "from sklearn.manifold import TSNE\n",
    "\n",
    "# Obtener las representaciones del modelo\n",
    "x_test = model_2.predict(test_dataset)  # Extrae los embeddings\n",
    "y_test = np.concatenate([y for _, y in test_dataset])  # Obtener etiquetas reales\n",
    "\n",
    "# Verificar el número de muestras\n",
    "num_samples = x_test.shape[0]\n",
    "perplexity_value = min(10, num_samples - 1)  # Ajustar perplexity dinámicamente\n",
    "\n",
    "print(f\"Num samples: {num_samples}, Usando perplexity={perplexity_value}\")\n",
    "\n",
    "# Aplicar t-SNE con un perplexity válido\n",
    "tsne = TSNE(n_components=2, random_state=42, perplexity=perplexity_value)\n",
    "x_test_tsne = tsne.fit_transform(x_test)\n",
    "\n",
    "# Visualización\n",
    "plt.figure(figsize=(10, 8))\n",
    "for i in np.unique(y_test):\n",
    "    idx = np.where(y_test == i)[0]\n",
    "    plt.scatter(x_test_tsne[idx, 0], x_test_tsne[idx, 1], label=f\"Clase {i}\")\n",
    "\n",
    "plt.title(\"Visualización t-SNE de los embeddings del conjunto de prueba\")\n",
    "plt.xlabel(\"Componente t-SNE 1\")\n",
    "plt.ylabel(\"Componente t-SNE 2\")\n",
    "plt.legend(title=\"Clases\")\n",
    "plt.grid(True)\n",
    "plt.show()"
   ]
  },
  {
   "cell_type": "markdown",
   "metadata": {},
   "source": [
    "## Comparación de modelos"
   ]
  },
  {
   "cell_type": "code",
   "execution_count": null,
   "metadata": {},
   "outputs": [
    {
     "name": "stdout",
     "output_type": "stream",
     "text": [
      "---------------------------------------------\n",
      "Modelo I3D\n",
      "Classification Report:\n",
      "               precision    recall  f1-score   support\n",
      "\n",
      "           0       0.50      0.45      0.48        33\n",
      "           1       0.49      0.53      0.51        32\n",
      "\n",
      "    accuracy                           0.49        65\n",
      "   macro avg       0.49      0.49      0.49        65\n",
      "weighted avg       0.49      0.49      0.49        65\n",
      "\n",
      "Confusion Matrix:\n",
      " [[15 18]\n",
      " [15 17]]\n",
      "---------------------------------------------\n",
      "Modelo I3D+ConvLSTM\n",
      "Classification Report:\n",
      "               precision    recall  f1-score   support\n",
      "\n",
      "           0       0.64      0.76      0.69        33\n",
      "           1       0.69      0.56      0.62        32\n",
      "\n",
      "    accuracy                           0.66        65\n",
      "   macro avg       0.67      0.66      0.66        65\n",
      "weighted avg       0.67      0.66      0.66        65\n",
      "\n",
      "Confusion Matrix:\n",
      " [[25  8]\n",
      " [14 18]]\n"
     ]
    }
   ],
   "source": [
    "from sklearn.metrics import classification_report, confusion_matrix\n",
    "print('---------------------------------------------')\n",
    "print(\"Modelo I3D\")\n",
    "# Obtener predicciones en el conjunto de prueba\n",
    "y_pred = model_1.predict(test_dataset).argmax(axis=1)\n",
    "\n",
    "# Obtener etiquetas reales del conjunto de prueba\n",
    "y_true = np.concatenate([y.numpy() for _, y in test_dataset])  # Convertir a numpy si es un tensor\n",
    "\n",
    "# Imprimir el reporte de clasificación\n",
    "print(\"Classification Report:\\n\", classification_report(y_true, y_pred))\n",
    "\n",
    "# Imprimir la matriz de confusión\n",
    "print(\"Confusion Matrix:\\n\", confusion_matrix(y_true, y_pred))\n",
    "\n",
    "print('---------------------------------------------')\n",
    "print(\"Modelo I3D+ConvLSTM\")\n",
    "\n",
    "# Obtener predicciones en el conjunto de prueba\n",
    "y_pred = model_2.predict(test_dataset).argmax(axis=1)\n",
    "\n",
    "# Obtener etiquetas reales del conjunto de prueba\n",
    "y_true = np.concatenate([y.numpy() for _, y in test_dataset])  # Convertir a numpy si es un tensor\n",
    "\n",
    "# Imprimir el reporte de clasificación\n",
    "print(\"Classification Report:\\n\", classification_report(y_true, y_pred))\n",
    "\n",
    "# Imprimir la matriz de confusión\n",
    "print(\"Confusion Matrix:\\n\", confusion_matrix(y_true, y_pred))"
   ]
  },
  {
   "cell_type": "markdown",
   "metadata": {},
   "source": []
  }
 ],
 "metadata": {
  "kernelspec": {
   "display_name": "proyecto_i3d",
   "language": "python",
   "name": "python3"
  },
  "language_info": {
   "codemirror_mode": {
    "name": "ipython",
    "version": 3
   },
   "file_extension": ".py",
   "mimetype": "text/x-python",
   "name": "python",
   "nbconvert_exporter": "python",
   "pygments_lexer": "ipython3",
   "version": "3.9.22"
  }
 },
 "nbformat": 4,
 "nbformat_minor": 2
}
