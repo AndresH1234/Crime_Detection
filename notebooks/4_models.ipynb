{
 "cells": [
  {
   "cell_type": "markdown",
   "metadata": {},
   "source": [
    "# Models Creation"
   ]
  },
  {
   "cell_type": "code",
   "execution_count": 68,
   "metadata": {},
   "outputs": [],
   "source": [
    "import cv2\n",
    "import numpy as np\n",
    "import os\n",
    "import sys\n",
    "import pandas as pd\n",
    "from sklearn.model_selection import train_test_split"
   ]
  },
  {
   "cell_type": "code",
   "execution_count": 69,
   "metadata": {},
   "outputs": [
    {
     "name": "stdout",
     "output_type": "stream",
     "text": [
      "3.9.21 | packaged by conda-forge | (main, Dec  5 2024, 13:51:40) \n",
      "[GCC 13.3.0]\n"
     ]
    }
   ],
   "source": [
    "print(sys.version)"
   ]
  },
  {
   "cell_type": "code",
   "execution_count": 70,
   "metadata": {},
   "outputs": [
    {
     "name": "stdout",
     "output_type": "stream",
     "text": [
      "Name: tensorflow\n",
      "Version: 2.5.0\n",
      "Summary: TensorFlow is an open source machine learning framework for everyone.\n",
      "Home-page: https://www.tensorflow.org/\n",
      "Author: Google Inc.\n",
      "Author-email: packages@tensorflow.org\n",
      "License: Apache 2.0\n",
      "Location: /home/aherrerag/anaconda3/envs/proyecto_i3d/lib/python3.9/site-packages\n",
      "Requires: absl-py, astunparse, flatbuffers, gast, google-pasta, grpcio, h5py, keras-nightly, keras-preprocessing, numpy, opt-einsum, protobuf, six, tensorboard, tensorflow-estimator, termcolor, typing-extensions, wheel, wrapt\n",
      "Required-by: \n"
     ]
    }
   ],
   "source": [
    "!pip show tensorflow"
   ]
  },
  {
   "cell_type": "code",
   "execution_count": 71,
   "metadata": {},
   "outputs": [],
   "source": [
    "import tensorflow as tf"
   ]
  },
  {
   "cell_type": "code",
   "execution_count": 72,
   "metadata": {},
   "outputs": [],
   "source": [
    "gpus = tf.config.experimental.list_physical_devices('GPU')\n",
    "if gpus:\n",
    "    try:\n",
    "        # Configurar el uso de 40 GB en la GPU A100 sin set_memory_growth\n",
    "        tf.config.experimental.set_virtual_device_configuration(\n",
    "            gpus[0],\n",
    "            [tf.config.experimental.VirtualDeviceConfiguration(memory_limit=40960)]\n",
    "        )\n",
    "    except RuntimeError as e:\n",
    "        print(e)"
   ]
  },
  {
   "cell_type": "code",
   "execution_count": 73,
   "metadata": {},
   "outputs": [],
   "source": [
    "# Agrega el path al directorio raíz del proyecto\n",
    "sys.path.append(os.path.abspath(\"..\"))\n",
    "from models.i3d import InceptionI3d"
   ]
  },
  {
   "cell_type": "code",
   "execution_count": 74,
   "metadata": {},
   "outputs": [],
   "source": [
    "train_df = pd.read_csv(\"../data/ml/train.csv\")\n",
    "valid_df = pd.read_csv(\"../data/ml/valid.csv\")\n",
    "test_df = pd.read_csv(\"../data/ml/test.csv\")\n"
   ]
  },
  {
   "cell_type": "code",
   "execution_count": null,
   "metadata": {},
   "outputs": [],
   "source": [
    "#data = pd.read_csv(\"../data/ml/test.csv\")"
   ]
  },
  {
   "cell_type": "code",
   "execution_count": null,
   "metadata": {},
   "outputs": [
    {
     "data": {
      "text/html": [
       "<div>\n",
       "<style scoped>\n",
       "    .dataframe tbody tr th:only-of-type {\n",
       "        vertical-align: middle;\n",
       "    }\n",
       "\n",
       "    .dataframe tbody tr th {\n",
       "        vertical-align: top;\n",
       "    }\n",
       "\n",
       "    .dataframe thead th {\n",
       "        text-align: right;\n",
       "    }\n",
       "</style>\n",
       "<table border=\"1\" class=\"dataframe\">\n",
       "  <thead>\n",
       "    <tr style=\"text-align: right;\">\n",
       "      <th></th>\n",
       "      <th>Video</th>\n",
       "      <th>Evento</th>\n",
       "      <th>PCB</th>\n",
       "      <th>Start_Frame</th>\n",
       "      <th>End_Frame</th>\n",
       "      <th>duracion</th>\n",
       "      <th>Path</th>\n",
       "      <th>is_crime</th>\n",
       "    </tr>\n",
       "  </thead>\n",
       "  <tbody>\n",
       "    <tr>\n",
       "      <th>0</th>\n",
       "      <td>Fighting051_x264.mp4</td>\n",
       "      <td>Fighting</td>\n",
       "      <td>989</td>\n",
       "      <td>1294</td>\n",
       "      <td>3355</td>\n",
       "      <td>2366</td>\n",
       "      <td>../data/test/Fighting051_x264.mp4</td>\n",
       "      <td>1</td>\n",
       "    </tr>\n",
       "    <tr>\n",
       "      <th>1</th>\n",
       "      <td>Normal_Videos086_x264.mp4</td>\n",
       "      <td>Normal</td>\n",
       "      <td>0</td>\n",
       "      <td>0</td>\n",
       "      <td>3391</td>\n",
       "      <td>3391</td>\n",
       "      <td>../data/test/Normal_Videos086_x264.mp4</td>\n",
       "      <td>0</td>\n",
       "    </tr>\n",
       "    <tr>\n",
       "      <th>2</th>\n",
       "      <td>Normal_Videos405_x264.mp4</td>\n",
       "      <td>Normal</td>\n",
       "      <td>0</td>\n",
       "      <td>0</td>\n",
       "      <td>1065</td>\n",
       "      <td>1065</td>\n",
       "      <td>../data/test/Normal_Videos405_x264.mp4</td>\n",
       "      <td>0</td>\n",
       "    </tr>\n",
       "    <tr>\n",
       "      <th>3</th>\n",
       "      <td>Normal_Videos134_x264.mp4</td>\n",
       "      <td>Normal</td>\n",
       "      <td>0</td>\n",
       "      <td>0</td>\n",
       "      <td>4476</td>\n",
       "      <td>4476</td>\n",
       "      <td>../data/test/Normal_Videos134_x264.mp4</td>\n",
       "      <td>0</td>\n",
       "    </tr>\n",
       "    <tr>\n",
       "      <th>4</th>\n",
       "      <td>Assault007_x264.mp4</td>\n",
       "      <td>Assault</td>\n",
       "      <td>330</td>\n",
       "      <td>668</td>\n",
       "      <td>1099</td>\n",
       "      <td>769</td>\n",
       "      <td>../data/test/Assault007_x264.mp4</td>\n",
       "      <td>1</td>\n",
       "    </tr>\n",
       "    <tr>\n",
       "      <th>...</th>\n",
       "      <td>...</td>\n",
       "      <td>...</td>\n",
       "      <td>...</td>\n",
       "      <td>...</td>\n",
       "      <td>...</td>\n",
       "      <td>...</td>\n",
       "      <td>...</td>\n",
       "      <td>...</td>\n",
       "    </tr>\n",
       "    <tr>\n",
       "      <th>60</th>\n",
       "      <td>Normal_Videos456_x264.mp4</td>\n",
       "      <td>Normal</td>\n",
       "      <td>0</td>\n",
       "      <td>0</td>\n",
       "      <td>3943</td>\n",
       "      <td>3943</td>\n",
       "      <td>../data/test/Normal_Videos456_x264.mp4</td>\n",
       "      <td>0</td>\n",
       "    </tr>\n",
       "    <tr>\n",
       "      <th>61</th>\n",
       "      <td>Assault013_x264.mp4</td>\n",
       "      <td>Assault</td>\n",
       "      <td>465</td>\n",
       "      <td>615</td>\n",
       "      <td>1022</td>\n",
       "      <td>557</td>\n",
       "      <td>../data/test/Assault013_x264.mp4</td>\n",
       "      <td>1</td>\n",
       "    </tr>\n",
       "    <tr>\n",
       "      <th>62</th>\n",
       "      <td>Assault047_x264.mp4</td>\n",
       "      <td>Assault</td>\n",
       "      <td>0</td>\n",
       "      <td>112</td>\n",
       "      <td>1790</td>\n",
       "      <td>1790</td>\n",
       "      <td>../data/test/Assault047_x264.mp4</td>\n",
       "      <td>1</td>\n",
       "    </tr>\n",
       "    <tr>\n",
       "      <th>63</th>\n",
       "      <td>Normal_Videos101_x264.mp4</td>\n",
       "      <td>Normal</td>\n",
       "      <td>0</td>\n",
       "      <td>0</td>\n",
       "      <td>1538</td>\n",
       "      <td>1538</td>\n",
       "      <td>../data/test/Normal_Videos101_x264.mp4</td>\n",
       "      <td>0</td>\n",
       "    </tr>\n",
       "    <tr>\n",
       "      <th>64</th>\n",
       "      <td>Abuse008_x264.mp4</td>\n",
       "      <td>Abuse</td>\n",
       "      <td>1516</td>\n",
       "      <td>4417</td>\n",
       "      <td>5366</td>\n",
       "      <td>3850</td>\n",
       "      <td>../data/test/Abuse008_x264.mp4</td>\n",
       "      <td>1</td>\n",
       "    </tr>\n",
       "  </tbody>\n",
       "</table>\n",
       "<p>65 rows × 8 columns</p>\n",
       "</div>"
      ],
      "text/plain": [
       "                        Video    Evento   PCB  Start_Frame  End_Frame  \\\n",
       "0        Fighting051_x264.mp4  Fighting   989         1294       3355   \n",
       "1   Normal_Videos086_x264.mp4    Normal     0            0       3391   \n",
       "2   Normal_Videos405_x264.mp4    Normal     0            0       1065   \n",
       "3   Normal_Videos134_x264.mp4    Normal     0            0       4476   \n",
       "4         Assault007_x264.mp4   Assault   330          668       1099   \n",
       "..                        ...       ...   ...          ...        ...   \n",
       "60  Normal_Videos456_x264.mp4    Normal     0            0       3943   \n",
       "61        Assault013_x264.mp4   Assault   465          615       1022   \n",
       "62        Assault047_x264.mp4   Assault     0          112       1790   \n",
       "63  Normal_Videos101_x264.mp4    Normal     0            0       1538   \n",
       "64          Abuse008_x264.mp4     Abuse  1516         4417       5366   \n",
       "\n",
       "    duracion                                    Path  is_crime  \n",
       "0       2366       ../data/test/Fighting051_x264.mp4         1  \n",
       "1       3391  ../data/test/Normal_Videos086_x264.mp4         0  \n",
       "2       1065  ../data/test/Normal_Videos405_x264.mp4         0  \n",
       "3       4476  ../data/test/Normal_Videos134_x264.mp4         0  \n",
       "4        769        ../data/test/Assault007_x264.mp4         1  \n",
       "..       ...                                     ...       ...  \n",
       "60      3943  ../data/test/Normal_Videos456_x264.mp4         0  \n",
       "61       557        ../data/test/Assault013_x264.mp4         1  \n",
       "62      1790        ../data/test/Assault047_x264.mp4         1  \n",
       "63      1538  ../data/test/Normal_Videos101_x264.mp4         0  \n",
       "64      3850          ../data/test/Abuse008_x264.mp4         1  \n",
       "\n",
       "[65 rows x 8 columns]"
      ]
     },
     "execution_count": 31,
     "metadata": {},
     "output_type": "execute_result"
    }
   ],
   "source": [
    "#data"
   ]
  },
  {
   "cell_type": "code",
   "execution_count": null,
   "metadata": {},
   "outputs": [],
   "source": [
    "\"\"\"# Dividir el dataset en train (80%), valid (10%), test (10%)\n",
    "train_df, test_valid_df = train_test_split(data, test_size=0.2, random_state=42, stratify=data['is_crime'])\n",
    "valid_df, test_df = train_test_split(test_valid_df, test_size=0.5, random_state=42)\"\"\""
   ]
  },
  {
   "cell_type": "markdown",
   "metadata": {},
   "source": [
    "## Data Loader"
   ]
  },
  {
   "cell_type": "code",
   "execution_count": 75,
   "metadata": {},
   "outputs": [],
   "source": [
    "class VideoDataModule:\n",
    "    def __init__(self, train_df, val_df, test_df, batch_size=8, frame_size=(224, 224), num_frames=32):\n",
    "        self.train_df = train_df\n",
    "        self.val_df = val_df\n",
    "        self.test_df = test_df\n",
    "        self.batch_size = batch_size\n",
    "        self.frame_size = frame_size\n",
    "        self.num_frames = num_frames\n",
    "        tf.random.set_seed(42)  # Establecer la semilla\n",
    "\n",
    "    def _load_video_frames(self, video_path, start_frame, end_frame, training=False):\n",
    "        cap = cv2.VideoCapture(video_path)\n",
    "        \n",
    "        if not cap.isOpened():\n",
    "            print(f\"Error: No se pudo abrir el video {video_path}\")\n",
    "            return None\n",
    "        \n",
    "        frames = []\n",
    "        total_frames = int(cap.get(cv2.CAP_PROP_FRAME_COUNT))\n",
    "        \n",
    "        start_frame = int(start_frame) if not np.isnan(start_frame) else 0\n",
    "        end_frame = int(end_frame) if not np.isnan(end_frame) else total_frames\n",
    "        \n",
    "        step = max(1, (end_frame - start_frame) // self.num_frames)\n",
    "        cap.set(cv2.CAP_PROP_POS_FRAMES, start_frame)\n",
    "\n",
    "        for _ in range(self.num_frames):\n",
    "            ret, frame = cap.read()\n",
    "            if not ret:\n",
    "                break\n",
    "            \n",
    "            frame = cv2.resize(frame, self.frame_size)  # Redimensionar\n",
    "            frame = frame / 255.0  # Normalizar a [0,1]\n",
    "            frame = tf.convert_to_tensor(frame, dtype=tf.float32)\n",
    "            \n",
    "            if training:\n",
    "                frame = tf.image.random_flip_left_right(frame)\n",
    "                frame = tf.image.random_brightness(frame, max_delta=0.2)\n",
    "                frame = tf.image.random_contrast(frame, lower=0.8, upper=1.2)\n",
    "                frame = tf.image.random_hue(frame, max_delta=0.05)\n",
    "                \n",
    "            frames.append(frame.numpy())\n",
    "            \n",
    "            for _ in range(step - 1):  # Saltar frames para ajustarse al total\n",
    "                cap.read()\n",
    "\n",
    "        cap.release()\n",
    "\n",
    "        while len(frames) < self.num_frames:\n",
    "            frames.append(np.zeros((*self.frame_size, 3)))\n",
    "\n",
    "        return np.array(frames, dtype=np.float32)\n",
    "\n",
    "    def _dataframe_to_tf_dataset(self, df, shuffle=True, training=False):\n",
    "        file_paths = df[\"Path\"].values\n",
    "        start_frames = df[\"PCB\"].values\n",
    "        end_frames = df[\"End_Frame\"].values\n",
    "        labels = df[\"is_crime\"].values\n",
    "\n",
    "        def generator():\n",
    "            for i in range(len(file_paths)):\n",
    "                video_tensor = self._load_video_frames(file_paths[i], start_frames[i], end_frames[i], training)\n",
    "                yield video_tensor, labels[i]\n",
    "\n",
    "        dataset = tf.data.Dataset.from_generator(\n",
    "            generator,\n",
    "            output_signature=(\n",
    "                tf.TensorSpec(shape=(self.num_frames, *self.frame_size, 3), dtype=tf.float32),\n",
    "                tf.TensorSpec(shape=(), dtype=tf.int32),\n",
    "            ),\n",
    "        )\n",
    "\n",
    "        if shuffle:\n",
    "            dataset = dataset.shuffle(\n",
    "                buffer_size=min(max(1000, len(df)//10), len(df)),  \n",
    "                seed=42,  \n",
    "                reshuffle_each_iteration=True  \n",
    "            )\n",
    "\n",
    "        dataset = dataset.batch(self.batch_size).prefetch(tf.data.AUTOTUNE)\n",
    "        return dataset\n",
    "\n",
    "    def train_dataset(self):\n",
    "        return self._dataframe_to_tf_dataset(self.train_df, shuffle=True, training=True)\n",
    "\n",
    "    def val_dataset(self):\n",
    "        return self._dataframe_to_tf_dataset(self.val_df, shuffle=False, training=False)\n",
    "\n",
    "    def test_dataset(self):\n",
    "        return self._dataframe_to_tf_dataset(self.test_df, shuffle=False, training=False)"
   ]
  },
  {
   "cell_type": "markdown",
   "metadata": {},
   "source": [
    "## I3D Model"
   ]
  },
  {
   "cell_type": "code",
   "execution_count": 76,
   "metadata": {},
   "outputs": [],
   "source": [
    "# Clase adaptadora para usar InceptionI3D como modelo de Keras\n",
    "class KerasI3D(tf.keras.Model):\n",
    "    def __init__(self, num_classes, endpoint = \"Logits\"):\n",
    "        super(KerasI3D, self).__init__()\n",
    "        self.i3d = InceptionI3d(num_classes=num_classes, is_training=True, final_endpoint=endpoint)\n",
    "\n",
    "    def call(self, inputs, training=False):\n",
    "        logits, _ = self.i3d(inputs)  # El modelo I3D devuelve logits y endpoints\n",
    "        return logits"
   ]
  },
  {
   "cell_type": "code",
   "execution_count": 77,
   "metadata": {},
   "outputs": [],
   "source": [
    "# Crear el DataModule\n",
    "data_module = VideoDataModule(train_df, valid_df, test_df, batch_size=8)\n",
    "# Obtener los datasets\n",
    "train_dataset = data_module.train_dataset()\n",
    "val_dataset = data_module.val_dataset()\n",
    "test_dataset = data_module.test_dataset()"
   ]
  },
  {
   "cell_type": "markdown",
   "metadata": {},
   "source": [
    "### One Cycle Policy"
   ]
  },
  {
   "cell_type": "code",
   "execution_count": 78,
   "metadata": {},
   "outputs": [],
   "source": [
    "from tensorflow.keras.callbacks import EarlyStopping, ModelCheckpoint, LearningRateScheduler\n",
    "from tensorflow.keras.metrics import AUC"
   ]
  },
  {
   "cell_type": "code",
   "execution_count": 79,
   "metadata": {},
   "outputs": [],
   "source": [
    "epochs = 5  # Número de épocas\n",
    "max_learning_rate = 0.1  # Ejemplo\n",
    "initial_learning_rate = 1e-5  # Ejemplo\n",
    "num_classes = 2"
   ]
  },
  {
   "cell_type": "code",
   "execution_count": 80,
   "metadata": {},
   "outputs": [],
   "source": [
    "def one_cycle_scheduler(epoch, lr):\n",
    "    total_epochs = epochs\n",
    "    max_lr = 1e-3\n",
    "    min_lr = 1e-6\n",
    "    warmup_epochs = total_epochs // 4\n",
    "\n",
    "    if epoch < warmup_epochs:  # Warmup\n",
    "        return initial_learning_rate + (max_lr - initial_learning_rate) * (epoch / warmup_epochs)\n",
    "    \n",
    "    elif epoch < total_epochs - 5:  # Cosine annealing phase\n",
    "        return min_lr + (max_lr - min_lr) * 0.5 * (1 + np.cos(np.pi * (epoch - warmup_epochs) / (total_epochs - warmup_epochs - 5)))\n",
    "\n",
    "    else:  # Final annealing phase\n",
    "        return min_lr"
   ]
  },
  {
   "cell_type": "markdown",
   "metadata": {},
   "source": [
    "### Modelo"
   ]
  },
  {
   "cell_type": "code",
   "execution_count": 81,
   "metadata": {},
   "outputs": [],
   "source": [
    "# Crear el DataModule\n",
    "data_module = VideoDataModule(train_df, valid_df, test_df, batch_size=8)\n",
    "# Obtener los datasets\n",
    "train_dataset = data_module.train_dataset()\n",
    "val_dataset = data_module.val_dataset()\n",
    "test_dataset = data_module.test_dataset()\n",
    "\n",
    "model_1 = KerasI3D(num_classes=num_classes)\n",
    "optimizer = tf.keras.optimizers.Adam(learning_rate=initial_learning_rate)\n",
    "loss_fn = tf.keras.losses.SparseCategoricalCrossentropy(from_logits=True)\n",
    "model_1.compile(optimizer=optimizer, loss=loss_fn, metrics=[\"accuracy\"])"
   ]
  },
  {
   "cell_type": "code",
   "execution_count": 82,
   "metadata": {},
   "outputs": [
    {
     "name": "stdout",
     "output_type": "stream",
     "text": [
      "Starting training from scratch.\n",
      "Epoch 1/5\n"
     ]
    },
    {
     "name": "stderr",
     "output_type": "stream",
     "text": [
      "2025-04-01 16:33:08.653475: I tensorflow/core/kernels/data/shuffle_dataset_op.cc:177] Filling up shuffle buffer (this may take a while): 38 of 516\n",
      "2025-04-01 16:33:18.615209: I tensorflow/core/kernels/data/shuffle_dataset_op.cc:177] Filling up shuffle buffer (this may take a while): 83 of 516\n",
      "2025-04-01 16:33:28.606188: I tensorflow/core/kernels/data/shuffle_dataset_op.cc:177] Filling up shuffle buffer (this may take a while): 123 of 516\n",
      "2025-04-01 16:33:38.545986: I tensorflow/core/kernels/data/shuffle_dataset_op.cc:177] Filling up shuffle buffer (this may take a while): 152 of 516\n",
      "2025-04-01 16:33:48.591060: I tensorflow/core/kernels/data/shuffle_dataset_op.cc:177] Filling up shuffle buffer (this may take a while): 184 of 516\n",
      "2025-04-01 16:33:59.000782: I tensorflow/core/kernels/data/shuffle_dataset_op.cc:177] Filling up shuffle buffer (this may take a while): 219 of 516\n",
      "2025-04-01 16:34:08.540500: I tensorflow/core/kernels/data/shuffle_dataset_op.cc:177] Filling up shuffle buffer (this may take a while): 250 of 516\n",
      "2025-04-01 16:34:18.653959: I tensorflow/core/kernels/data/shuffle_dataset_op.cc:177] Filling up shuffle buffer (this may take a while): 285 of 516\n",
      "2025-04-01 16:34:28.682202: I tensorflow/core/kernels/data/shuffle_dataset_op.cc:177] Filling up shuffle buffer (this may take a while): 319 of 516\n",
      "2025-04-01 16:34:38.540760: I tensorflow/core/kernels/data/shuffle_dataset_op.cc:177] Filling up shuffle buffer (this may take a while): 352 of 516\n",
      "2025-04-01 16:34:48.471876: I tensorflow/core/kernels/data/shuffle_dataset_op.cc:177] Filling up shuffle buffer (this may take a while): 388 of 516\n",
      "2025-04-01 16:34:58.650963: I tensorflow/core/kernels/data/shuffle_dataset_op.cc:177] Filling up shuffle buffer (this may take a while): 428 of 516\n",
      "2025-04-01 16:35:08.546828: I tensorflow/core/kernels/data/shuffle_dataset_op.cc:177] Filling up shuffle buffer (this may take a while): 457 of 516\n",
      "2025-04-01 16:35:18.463115: I tensorflow/core/kernels/data/shuffle_dataset_op.cc:177] Filling up shuffle buffer (this may take a while): 489 of 516\n",
      "2025-04-01 16:35:25.716457: I tensorflow/core/kernels/data/shuffle_dataset_op.cc:230] Shuffle buffer filled.\n"
     ]
    },
    {
     "name": "stdout",
     "output_type": "stream",
     "text": [
      "65/65 [==============================] - 197s 546ms/step - loss: 0.6526 - accuracy: 0.5911 - val_loss: 0.5451 - val_accuracy: 0.8308\n",
      "INFO:tensorflow:Assets written to: checkpoints/i3d_model/best_model/assets\n",
      "Epoch 2/5\n"
     ]
    },
    {
     "name": "stderr",
     "output_type": "stream",
     "text": [
      "2025-04-01 16:36:30.867523: I tensorflow/core/kernels/data/shuffle_dataset_op.cc:177] Filling up shuffle buffer (this may take a while): 39 of 516\n",
      "2025-04-01 16:36:40.931502: I tensorflow/core/kernels/data/shuffle_dataset_op.cc:177] Filling up shuffle buffer (this may take a while): 86 of 516\n",
      "2025-04-01 16:36:50.859514: I tensorflow/core/kernels/data/shuffle_dataset_op.cc:177] Filling up shuffle buffer (this may take a while): 129 of 516\n",
      "2025-04-01 16:37:00.786271: I tensorflow/core/kernels/data/shuffle_dataset_op.cc:177] Filling up shuffle buffer (this may take a while): 156 of 516\n",
      "2025-04-01 16:37:10.919010: I tensorflow/core/kernels/data/shuffle_dataset_op.cc:177] Filling up shuffle buffer (this may take a while): 191 of 516\n",
      "2025-04-01 16:37:20.997184: I tensorflow/core/kernels/data/shuffle_dataset_op.cc:177] Filling up shuffle buffer (this may take a while): 224 of 516\n",
      "2025-04-01 16:37:31.287686: I tensorflow/core/kernels/data/shuffle_dataset_op.cc:177] Filling up shuffle buffer (this may take a while): 259 of 516\n",
      "2025-04-01 16:37:40.995212: I tensorflow/core/kernels/data/shuffle_dataset_op.cc:177] Filling up shuffle buffer (this may take a while): 293 of 516\n",
      "2025-04-01 16:37:51.134434: I tensorflow/core/kernels/data/shuffle_dataset_op.cc:177] Filling up shuffle buffer (this may take a while): 329 of 516\n",
      "2025-04-01 16:38:01.000380: I tensorflow/core/kernels/data/shuffle_dataset_op.cc:177] Filling up shuffle buffer (this may take a while): 361 of 516\n",
      "2025-04-01 16:38:10.758975: I tensorflow/core/kernels/data/shuffle_dataset_op.cc:177] Filling up shuffle buffer (this may take a while): 400 of 516\n",
      "2025-04-01 16:38:20.841903: I tensorflow/core/kernels/data/shuffle_dataset_op.cc:177] Filling up shuffle buffer (this may take a while): 438 of 516\n",
      "2025-04-01 16:38:30.937923: I tensorflow/core/kernels/data/shuffle_dataset_op.cc:177] Filling up shuffle buffer (this may take a while): 466 of 516\n",
      "2025-04-01 16:38:40.736768: I tensorflow/core/kernels/data/shuffle_dataset_op.cc:177] Filling up shuffle buffer (this may take a while): 501 of 516\n",
      "2025-04-01 16:38:44.546390: I tensorflow/core/kernels/data/shuffle_dataset_op.cc:230] Shuffle buffer filled.\n"
     ]
    },
    {
     "name": "stdout",
     "output_type": "stream",
     "text": [
      "65/65 [==============================] - 176s 501ms/step - loss: 0.6469 - accuracy: 0.6240 - val_loss: 0.5661 - val_accuracy: 0.8154\n",
      "Epoch 3/5\n"
     ]
    },
    {
     "name": "stderr",
     "output_type": "stream",
     "text": [
      "2025-04-01 16:39:28.878799: I tensorflow/core/kernels/data/shuffle_dataset_op.cc:177] Filling up shuffle buffer (this may take a while): 38 of 516\n",
      "2025-04-01 16:39:39.030212: I tensorflow/core/kernels/data/shuffle_dataset_op.cc:177] Filling up shuffle buffer (this may take a while): 84 of 516\n",
      "2025-04-01 16:39:48.988137: I tensorflow/core/kernels/data/shuffle_dataset_op.cc:177] Filling up shuffle buffer (this may take a while): 124 of 516\n",
      "2025-04-01 16:39:58.903090: I tensorflow/core/kernels/data/shuffle_dataset_op.cc:177] Filling up shuffle buffer (this may take a while): 153 of 516\n",
      "2025-04-01 16:40:09.065774: I tensorflow/core/kernels/data/shuffle_dataset_op.cc:177] Filling up shuffle buffer (this may take a while): 186 of 516\n",
      "2025-04-01 16:40:18.951415: I tensorflow/core/kernels/data/shuffle_dataset_op.cc:177] Filling up shuffle buffer (this may take a while): 219 of 516\n",
      "2025-04-01 16:40:28.841700: I tensorflow/core/kernels/data/shuffle_dataset_op.cc:177] Filling up shuffle buffer (this may take a while): 251 of 516\n",
      "2025-04-01 16:40:38.915105: I tensorflow/core/kernels/data/shuffle_dataset_op.cc:177] Filling up shuffle buffer (this may take a while): 286 of 516\n",
      "2025-04-01 16:40:49.035474: I tensorflow/core/kernels/data/shuffle_dataset_op.cc:177] Filling up shuffle buffer (this may take a while): 320 of 516\n",
      "2025-04-01 16:40:58.852177: I tensorflow/core/kernels/data/shuffle_dataset_op.cc:177] Filling up shuffle buffer (this may take a while): 354 of 516\n",
      "2025-04-01 16:41:08.961968: I tensorflow/core/kernels/data/shuffle_dataset_op.cc:177] Filling up shuffle buffer (this may take a while): 391 of 516\n",
      "2025-04-01 16:41:18.850891: I tensorflow/core/kernels/data/shuffle_dataset_op.cc:177] Filling up shuffle buffer (this may take a while): 429 of 516\n",
      "2025-04-01 16:41:28.901496: I tensorflow/core/kernels/data/shuffle_dataset_op.cc:177] Filling up shuffle buffer (this may take a while): 460 of 516\n",
      "2025-04-01 16:41:38.912190: I tensorflow/core/kernels/data/shuffle_dataset_op.cc:177] Filling up shuffle buffer (this may take a while): 493 of 516\n",
      "2025-04-01 16:41:45.449799: I tensorflow/core/kernels/data/shuffle_dataset_op.cc:230] Shuffle buffer filled.\n"
     ]
    },
    {
     "name": "stdout",
     "output_type": "stream",
     "text": [
      "65/65 [==============================] - 179s 503ms/step - loss: 0.6180 - accuracy: 0.6512 - val_loss: 0.5782 - val_accuracy: 0.8000\n",
      "Epoch 4/5\n"
     ]
    },
    {
     "name": "stderr",
     "output_type": "stream",
     "text": [
      "2025-04-01 16:42:30.019796: I tensorflow/core/kernels/data/shuffle_dataset_op.cc:177] Filling up shuffle buffer (this may take a while): 39 of 516\n",
      "2025-04-01 16:42:40.125969: I tensorflow/core/kernels/data/shuffle_dataset_op.cc:177] Filling up shuffle buffer (this may take a while): 86 of 516\n",
      "2025-04-01 16:42:49.996424: I tensorflow/core/kernels/data/shuffle_dataset_op.cc:177] Filling up shuffle buffer (this may take a while): 129 of 516\n",
      "2025-04-01 16:43:00.131136: I tensorflow/core/kernels/data/shuffle_dataset_op.cc:177] Filling up shuffle buffer (this may take a while): 157 of 516\n",
      "2025-04-01 16:43:10.119164: I tensorflow/core/kernels/data/shuffle_dataset_op.cc:177] Filling up shuffle buffer (this may take a while): 191 of 516\n",
      "2025-04-01 16:43:19.899676: I tensorflow/core/kernels/data/shuffle_dataset_op.cc:177] Filling up shuffle buffer (this may take a while): 223 of 516\n",
      "2025-04-01 16:43:29.867542: I tensorflow/core/kernels/data/shuffle_dataset_op.cc:177] Filling up shuffle buffer (this may take a while): 257 of 516\n",
      "2025-04-01 16:43:39.896583: I tensorflow/core/kernels/data/shuffle_dataset_op.cc:177] Filling up shuffle buffer (this may take a while): 292 of 516\n",
      "2025-04-01 16:43:50.176184: I tensorflow/core/kernels/data/shuffle_dataset_op.cc:177] Filling up shuffle buffer (this may take a while): 327 of 516\n",
      "2025-04-01 16:44:00.057192: I tensorflow/core/kernels/data/shuffle_dataset_op.cc:177] Filling up shuffle buffer (this may take a while): 358 of 516\n",
      "2025-04-01 16:44:09.943687: I tensorflow/core/kernels/data/shuffle_dataset_op.cc:177] Filling up shuffle buffer (this may take a while): 397 of 516\n",
      "2025-04-01 16:44:20.019084: I tensorflow/core/kernels/data/shuffle_dataset_op.cc:177] Filling up shuffle buffer (this may take a while): 432 of 516\n",
      "2025-04-01 16:44:30.256865: I tensorflow/core/kernels/data/shuffle_dataset_op.cc:177] Filling up shuffle buffer (this may take a while): 465 of 516\n",
      "2025-04-01 16:44:40.052930: I tensorflow/core/kernels/data/shuffle_dataset_op.cc:177] Filling up shuffle buffer (this may take a while): 498 of 516\n",
      "2025-04-01 16:44:44.797074: I tensorflow/core/kernels/data/shuffle_dataset_op.cc:230] Shuffle buffer filled.\n"
     ]
    },
    {
     "name": "stdout",
     "output_type": "stream",
     "text": [
      "65/65 [==============================] - 178s 511ms/step - loss: 0.6086 - accuracy: 0.6647 - val_loss: 0.5781 - val_accuracy: 0.7692\n"
     ]
    }
   ],
   "source": [
    "checkpoint_dir = \"checkpoints/i3d_model\"\n",
    "os.makedirs(checkpoint_dir, exist_ok=True)\n",
    "\n",
    "last_epoch_file = os.path.join(checkpoint_dir, \"last_epoch.npy\")\n",
    "history_file = os.path.join(checkpoint_dir, \"history.npy\")\n",
    "\n",
    "# Callback para guardar TODAS las épocas\n",
    "full_history_callback = ModelCheckpoint(\n",
    "    filepath=os.path.join(checkpoint_dir, \"epoch_{epoch:02d}\"),\n",
    "    save_freq='epoch',\n",
    "    save_weights_only=True\n",
    ")\n",
    "\n",
    "# Callback para guardar solo el MEJOR modelo\n",
    "best_model_callback = ModelCheckpoint(\n",
    "    filepath=os.path.join(checkpoint_dir, \"best_model\"),\n",
    "    monitor=\"val_loss\",\n",
    "    mode=\"min\",\n",
    "    save_best_only=True\n",
    ")\n",
    "\n",
    "# Intentar cargar la última época guardada\n",
    "if os.path.exists(last_epoch_file):\n",
    "    initial_epoch = int(np.load(last_epoch_file))\n",
    "    model_1.load_weights(os.path.join(checkpoint_dir, \"best_model\"))\n",
    "    print(f\"Resuming training from epoch {initial_epoch}\")\n",
    "else:\n",
    "    initial_epoch = 0\n",
    "    print(\"Starting training from scratch.\")\n",
    "\n",
    "# Callback para detener el entrenamiento si no hay mejora\n",
    "early_stop_callback = EarlyStopping(\n",
    "    monitor=\"val_loss\", \n",
    "    patience=3, \n",
    "    mode=\"min\", \n",
    "    restore_best_weights=True\n",
    ")\n",
    "\n",
    "# Callback para guardar el mejor modelo\n",
    "checkpoint_callback = ModelCheckpoint(\n",
    "    filepath=os.path.join(checkpoint_dir, \"best_model\"),\n",
    "    save_best_only=True,\n",
    "    monitor=\"val_loss\",\n",
    "    mode=\"min\",\n",
    "    save_weights_only=True\n",
    ")\n",
    "\n",
    "lr_scheduler = LearningRateScheduler(one_cycle_scheduler)\n",
    "\n",
    "# Callback para guardar la época actual\n",
    "class EpochSaver(tf.keras.callbacks.Callback):\n",
    "    def on_epoch_end(self, epoch, logs=None):\n",
    "        np.save(last_epoch_file, epoch + 1)  # Guardar la siguiente época a entrenar\n",
    "\n",
    "epoch_saver_callback = EpochSaver()\n",
    "\n",
    "# Callback para guardar historial después de cada época\n",
    "class HistorySaver(tf.keras.callbacks.Callback):\n",
    "    def on_epoch_end(self, epoch, logs=None):\n",
    "        if logs is not None:\n",
    "            history_full['loss'].append(logs.get('loss', None))\n",
    "            history_full['val_loss'].append(logs.get('val_loss', None))\n",
    "            np.save(history_file, history_full)  # Guardar historial actualizado\n",
    "\n",
    "history_saver_callback = HistorySaver()\n",
    "\n",
    "# Cargar historial previo si existe\n",
    "if os.path.exists(history_file):\n",
    "    history_full = np.load(history_file, allow_pickle=True).item()\n",
    "else:\n",
    "    history_full = {'loss': [], 'val_loss': []}\n",
    "\n",
    "# Verificar si el entrenamiento ya ha terminado\n",
    "if initial_epoch >= epochs:\n",
    "    print(\"Training already completed. No new epochs to run.\")\n",
    "else:\n",
    "    # Entrenar desde la última época\n",
    "    history = model_1.fit(\n",
    "        train_dataset,\n",
    "        validation_data=val_dataset,\n",
    "        epochs=epochs,\n",
    "        initial_epoch=initial_epoch,\n",
    "        callbacks=[\n",
    "            early_stop_callback, \n",
    "            checkpoint_callback, \n",
    "            lr_scheduler, \n",
    "            epoch_saver_callback, \n",
    "            full_history_callback, \n",
    "            best_model_callback,\n",
    "            history_saver_callback  # Nuevo callback para guardar historial\n",
    "        ],\n",
    "        verbose=1\n",
    "    )"
   ]
  },
  {
   "cell_type": "code",
   "execution_count": 83,
   "metadata": {},
   "outputs": [
    {
     "data": {
      "text/plain": [
       "{'loss': [0.6525583863258362,\n",
       "  0.6469345688819885,\n",
       "  0.6179778575897217,\n",
       "  0.6086309552192688],\n",
       " 'val_loss': [0.5450628995895386,\n",
       "  0.5661141276359558,\n",
       "  0.5781829953193665,\n",
       "  0.5780520439147949]}"
      ]
     },
     "execution_count": 83,
     "metadata": {},
     "output_type": "execute_result"
    }
   ],
   "source": [
    "history_full"
   ]
  },
  {
   "cell_type": "markdown",
   "metadata": {},
   "source": [
    "### Evolución del Learning rate"
   ]
  },
  {
   "cell_type": "code",
   "execution_count": 84,
   "metadata": {},
   "outputs": [
    {
     "data": {
      "image/png": "[encoded data removed]",
      "text/plain": [
       "<Figure size 640x480 with 1 Axes>"
      ]
     },
     "metadata": {},
     "output_type": "display_data"
    }
   ],
   "source": [
    "import matplotlib.pyplot as plt  # Corrección en la importación\n",
    "lrs = [one_cycle_scheduler(epoch, initial_learning_rate) for epoch in range(epochs)]\n",
    "plt.plot(range(epochs), lrs)\n",
    "plt.xlabel(\"Época\")\n",
    "plt.ylabel(\"Learning Rate\")\n",
    "plt.title(\"One Cycle Policy - Learning Rate Schedule\")\n",
    "plt.show()"
   ]
  },
  {
   "cell_type": "code",
   "execution_count": 85,
   "metadata": {},
   "outputs": [
    {
     "name": "stderr",
     "output_type": "stream",
     "text": [
      "2025-04-01 16:45:54.565430: I tensorflow/core/kernels/data/shuffle_dataset_op.cc:177] Filling up shuffle buffer (this may take a while): 39 of 516\n",
      "2025-04-01 16:46:04.669596: I tensorflow/core/kernels/data/shuffle_dataset_op.cc:177] Filling up shuffle buffer (this may take a while): 86 of 516\n",
      "2025-04-01 16:46:14.391090: I tensorflow/core/kernels/data/shuffle_dataset_op.cc:177] Filling up shuffle buffer (this may take a while): 128 of 516\n",
      "2025-04-01 16:46:24.596481: I tensorflow/core/kernels/data/shuffle_dataset_op.cc:177] Filling up shuffle buffer (this may take a while): 156 of 516\n",
      "2025-04-01 16:46:34.722548: I tensorflow/core/kernels/data/shuffle_dataset_op.cc:177] Filling up shuffle buffer (this may take a while): 191 of 516\n",
      "2025-04-01 16:46:44.745010: I tensorflow/core/kernels/data/shuffle_dataset_op.cc:177] Filling up shuffle buffer (this may take a while): 224 of 516\n",
      "2025-04-01 16:46:54.308221: I tensorflow/core/kernels/data/shuffle_dataset_op.cc:177] Filling up shuffle buffer (this may take a while): 258 of 516\n",
      "2025-04-01 16:47:04.614698: I tensorflow/core/kernels/data/shuffle_dataset_op.cc:177] Filling up shuffle buffer (this may take a while): 293 of 516\n",
      "2025-04-01 16:47:14.451053: I tensorflow/core/kernels/data/shuffle_dataset_op.cc:177] Filling up shuffle buffer (this may take a while): 328 of 516\n",
      "2025-04-01 16:47:24.596357: I tensorflow/core/kernels/data/shuffle_dataset_op.cc:177] Filling up shuffle buffer (this may take a while): 359 of 516\n",
      "2025-04-01 16:47:34.322962: I tensorflow/core/kernels/data/shuffle_dataset_op.cc:177] Filling up shuffle buffer (this may take a while): 397 of 516\n",
      "2025-04-01 16:47:44.519439: I tensorflow/core/kernels/data/shuffle_dataset_op.cc:177] Filling up shuffle buffer (this may take a while): 432 of 516\n",
      "2025-04-01 16:47:54.450126: I tensorflow/core/kernels/data/shuffle_dataset_op.cc:177] Filling up shuffle buffer (this may take a while): 464 of 516\n",
      "2025-04-01 16:48:04.371603: I tensorflow/core/kernels/data/shuffle_dataset_op.cc:177] Filling up shuffle buffer (this may take a while): 496 of 516\n",
      "2025-04-01 16:48:09.556636: I tensorflow/core/kernels/data/shuffle_dataset_op.cc:230] Shuffle buffer filled.\n"
     ]
    },
    {
     "name": "stdout",
     "output_type": "stream",
     "text": [
      "65/65 [==============================] - 155s 149ms/step - loss: 0.6365 - accuracy: 0.6453\n"
     ]
    }
   ],
   "source": [
    "train_results = model_1.evaluate(train_dataset, verbose=1)"
   ]
  },
  {
   "cell_type": "code",
   "execution_count": 86,
   "metadata": {},
   "outputs": [
    {
     "name": "stdout",
     "output_type": "stream",
     "text": [
      "9/9 [==============================] - 18s 2s/step - loss: 0.5451 - accuracy: 0.8308\n"
     ]
    }
   ],
   "source": [
    "# Evaluar en el conjunto de validación\n",
    "val_results = model_1.evaluate(val_dataset, verbose=1)"
   ]
  },
  {
   "cell_type": "code",
   "execution_count": 87,
   "metadata": {},
   "outputs": [
    {
     "name": "stdout",
     "output_type": "stream",
     "text": [
      "9/9 [==============================] - 20s 2s/step - loss: 0.7403 - accuracy: 0.5385\n"
     ]
    }
   ],
   "source": [
    "# Evaluar en el conjunto de prueba\n",
    "test_results = model_1.evaluate(test_dataset, verbose=1)"
   ]
  },
  {
   "cell_type": "code",
   "execution_count": 89,
   "metadata": {},
   "outputs": [
    {
     "name": "stdout",
     "output_type": "stream",
     "text": [
      "\n",
      "Resultados Finales:\n",
      "Train - Loss: 0.6364993453025818, Accuracy: 0.645348846912384\n",
      "Val - Loss: 0.5450628995895386, Accuracy: 0.8307692408561707\n",
      "Test - Loss: 0.7402907609939575, Accuracy: 0.5384615659713745\n"
     ]
    }
   ],
   "source": [
    "print(\"\\nResultados Finales:\")\n",
    "print(f\"Train - Loss: {train_results[0]}, Accuracy: {train_results[1]}\")\n",
    "print(f\"Val - Loss: {val_results[0]}, Accuracy: {val_results[1]}\")\n",
    "print(f\"Test - Loss: {test_results[0]}, Accuracy: {test_results[1]}\")"
   ]
  },
  {
   "cell_type": "markdown",
   "metadata": {},
   "source": [
    "### Gráfica Epochs vs Loss"
   ]
  },
  {
   "cell_type": "code",
   "execution_count": 90,
   "metadata": {},
   "outputs": [
    {
     "data": {
      "text/plain": [
       "{'loss': [0.6525583863258362,\n",
       "  0.6469345688819885,\n",
       "  0.6179778575897217,\n",
       "  0.6086309552192688],\n",
       " 'val_loss': [0.5450628995895386,\n",
       "  0.5661141276359558,\n",
       "  0.5781829953193665,\n",
       "  0.5780520439147949]}"
      ]
     },
     "execution_count": 90,
     "metadata": {},
     "output_type": "execute_result"
    }
   ],
   "source": [
    "history_full"
   ]
  },
  {
   "cell_type": "code",
   "execution_count": 91,
   "metadata": {},
   "outputs": [
    {
     "data": {
      "image/png": "[encoded data removed]",
      "text/plain": [
       "<Figure size 640x480 with 1 Axes>"
      ]
     },
     "metadata": {},
     "output_type": "display_data"
    }
   ],
   "source": [
    "import matplotlib.pyplot as plt\n",
    "# Extraer la pérdida de entrenamiento y validación\n",
    "loss = history_full['loss']\n",
    "val_loss = history_full['val_loss']\n",
    "\n",
    "# Crear la gráfica\n",
    "plt.plot(range(1, len(loss) + 1), loss, label='Training Loss', marker='o')\n",
    "plt.plot(range(1, len(val_loss) + 1), val_loss, label='Validation Loss', marker='o')\n",
    "\n",
    "# Etiquetas y título\n",
    "plt.xlabel('Epochs')\n",
    "plt.ylabel('Loss')\n",
    "plt.title('Epochs vs Loss')\n",
    "plt.legend()\n",
    "plt.grid(True)\n",
    "plt.show()"
   ]
  },
  {
   "cell_type": "markdown",
   "metadata": {},
   "source": [
    "### Visualización del Modelo con TSNE"
   ]
  },
  {
   "cell_type": "code",
   "execution_count": 92,
   "metadata": {},
   "outputs": [
    {
     "name": "stdout",
     "output_type": "stream",
     "text": [
      "Num samples: 65, Usando perplexity=10\n"
     ]
    },
    {
     "data": {
      "image/png": "[encoded data removed]",
      "text/plain": [
       "<Figure size 1000x800 with 1 Axes>"
      ]
     },
     "metadata": {},
     "output_type": "display_data"
    }
   ],
   "source": [
    "from sklearn.manifold import TSNE\n",
    "\n",
    "# Obtener las representaciones del modelo\n",
    "x_test = model_1.predict(test_dataset)  # Extrae los embeddings\n",
    "y_test = np.concatenate([y for _, y in test_dataset])  # Obtener etiquetas reales\n",
    "\n",
    "# Verificar el número de muestras\n",
    "num_samples = x_test.shape[0]\n",
    "perplexity_value = min(10, num_samples - 1)  # Ajustar perplexity dinámicamente\n",
    "\n",
    "print(f\"Num samples: {num_samples}, Usando perplexity={perplexity_value}\")\n",
    "\n",
    "# Aplicar t-SNE con un perplexity válido\n",
    "tsne = TSNE(n_components=2, random_state=42, perplexity=perplexity_value)\n",
    "x_test_tsne = tsne.fit_transform(x_test)\n",
    "\n",
    "# Visualización\n",
    "plt.figure(figsize=(10, 8))\n",
    "for i in np.unique(y_test):\n",
    "    idx = np.where(y_test == i)[0]\n",
    "    plt.scatter(x_test_tsne[idx, 0], x_test_tsne[idx, 1], label=f\"Clase {i}\")\n",
    "\n",
    "plt.title(\"Visualización t-SNE de los embeddings del conjunto de prueba\")\n",
    "plt.xlabel(\"Componente t-SNE 1\")\n",
    "plt.ylabel(\"Componente t-SNE 2\")\n",
    "plt.legend(title=\"Clases\")\n",
    "plt.grid(True)\n",
    "plt.show()"
   ]
  },
  {
   "cell_type": "markdown",
   "metadata": {},
   "source": [
    "## I3D + ConvLSTM2D"
   ]
  },
  {
   "cell_type": "code",
   "execution_count": 93,
   "metadata": {},
   "outputs": [],
   "source": [
    "from tensorflow.keras.layers import (ConvLSTM2D, TimeDistributed, Dense, \n",
    "                                    Flatten, GlobalAveragePooling2D, \n",
    "                                    Dropout, BatchNormalization)\n",
    "from tensorflow.keras import Model\n",
    "\n",
    "class I3D_ConvLSTM(Model):\n",
    "    def __init__(self, num_classes, endpoint=\"Mixed_5c\"):\n",
    "        super(I3D_ConvLSTM, self).__init__()\n",
    "        \n",
    "        # Modelo base Inception I3D\n",
    "        self.i3d = InceptionI3d(num_classes=num_classes, is_training=True, final_endpoint=endpoint)\n",
    "        \n",
    "        # Capa ConvLSTM2D para modelar información temporal\n",
    "        self.conv_lstm = ConvLSTM2D(\n",
    "            filters=64, \n",
    "            kernel_size=(3, 3),\n",
    "            padding='same',\n",
    "            return_sequences=True,  # Mantener la dimensión temporal\n",
    "            dropout=0.2,\n",
    "            recurrent_dropout=0.2\n",
    "        )\n",
    "        \n",
    "        # Batch Normalization después de ConvLSTM\n",
    "        self.batch_norm = BatchNormalization()\n",
    "        \n",
    "        # Global Average Pooling para reducir dimensionalidad\n",
    "        self.global_avg_pool = GlobalAveragePooling2D()  # Cambio a 2D\n",
    "        \n",
    "        # Dropout para regularización\n",
    "        self.dropout = Dropout(0.3)\n",
    "        \n",
    "        # Capa completamente conectada final\n",
    "        self.fc = Dense(num_classes, activation='softmax')\n",
    "\n",
    "    def call(self, inputs, training=False):\n",
    "        \"\"\"Entrada esperada: (batch_size, num_frames, height, width, channels)\"\"\"\n",
    "        \n",
    "        # Extraer características con I3D\n",
    "        features, _ = self.i3d(inputs)  # (batch_size, num_frames, 7, 7, 1024)\n",
    "        \n",
    "        # Aplicar ConvLSTM2D sobre la dimensión temporal\n",
    "        lstm_out = self.conv_lstm(features)  # (batch_size, num_frames, 7, 7, 64)\n",
    "        \n",
    "        # Tomar solo el último frame de la salida de LSTM para clasificación\n",
    "        lstm_out = lstm_out[:, -1, :, :, :]  # (batch_size, 7, 7, 64)\n",
    "\n",
    "        # Batch Normalization\n",
    "        x = self.batch_norm(lstm_out, training=training)\n",
    "        \n",
    "        # Global Average Pooling\n",
    "        x = self.global_avg_pool(x)\n",
    "        \n",
    "        # Dropout para regularización\n",
    "        x = self.dropout(x, training=training)\n",
    "        \n",
    "        # Capa de salida\n",
    "        logits = self.fc(x)\n",
    "        \n",
    "        return logits"
   ]
  },
  {
   "cell_type": "code",
   "execution_count": 94,
   "metadata": {},
   "outputs": [],
   "source": [
    "# Crear el DataModule\n",
    "data_module = VideoDataModule(train_df, valid_df, test_df, batch_size=8)\n",
    "# Obtener los datasets\n",
    "train_dataset = data_module.train_dataset()\n",
    "val_dataset = data_module.val_dataset()\n",
    "test_dataset = data_module.test_dataset()"
   ]
  },
  {
   "cell_type": "markdown",
   "metadata": {},
   "source": [
    "### Modelo"
   ]
  },
  {
   "cell_type": "code",
   "execution_count": 95,
   "metadata": {},
   "outputs": [],
   "source": [
    "epochs = 5  # Número de épocas\n",
    "max_learning_rate = 0.1  # Ejemplo\n",
    "initial_learning_rate = 1e-5  # Ejemplo\n",
    "num_classes = 2"
   ]
  },
  {
   "cell_type": "code",
   "execution_count": 96,
   "metadata": {},
   "outputs": [],
   "source": [
    "model_2 = I3D_ConvLSTM(num_classes=num_classes)\n",
    "optimizer = tf.keras.optimizers.Adam(learning_rate=initial_learning_rate)\n",
    "loss_fn = tf.keras.losses.SparseCategoricalCrossentropy(from_logits=True)\n",
    "model_2.compile(optimizer=optimizer, loss=loss_fn, metrics=[\"accuracy\"])"
   ]
  },
  {
   "cell_type": "code",
   "execution_count": 97,
   "metadata": {},
   "outputs": [
    {
     "name": "stdout",
     "output_type": "stream",
     "text": [
      "Starting training from scratch.\n",
      "Epoch 1/5\n"
     ]
    },
    {
     "name": "stderr",
     "output_type": "stream",
     "text": [
      "/home/aherrerag/anaconda3/envs/proyecto_i3d/lib/python3.9/site-packages/tensorflow/python/keras/backend.py:4929: UserWarning: \"`sparse_categorical_crossentropy` received `from_logits=True`, but the `output` argument was produced by a sigmoid or softmax activation and thus does not represent logits. Was this intended?\"\n",
      "  warnings.warn(\n",
      "2025-04-01 16:51:24.185720: I tensorflow/core/kernels/data/shuffle_dataset_op.cc:177] Filling up shuffle buffer (this may take a while): 38 of 516\n",
      "2025-04-01 16:51:34.381287: I tensorflow/core/kernels/data/shuffle_dataset_op.cc:177] Filling up shuffle buffer (this may take a while): 84 of 516\n",
      "2025-04-01 16:51:44.201933: I tensorflow/core/kernels/data/shuffle_dataset_op.cc:177] Filling up shuffle buffer (this may take a while): 124 of 516\n",
      "2025-04-01 16:51:54.148639: I tensorflow/core/kernels/data/shuffle_dataset_op.cc:177] Filling up shuffle buffer (this may take a while): 153 of 516\n",
      "2025-04-01 16:52:04.247295: I tensorflow/core/kernels/data/shuffle_dataset_op.cc:177] Filling up shuffle buffer (this may take a while): 186 of 516\n",
      "2025-04-01 16:52:14.126184: I tensorflow/core/kernels/data/shuffle_dataset_op.cc:177] Filling up shuffle buffer (this may take a while): 219 of 516\n",
      "2025-04-01 16:52:24.292284: I tensorflow/core/kernels/data/shuffle_dataset_op.cc:177] Filling up shuffle buffer (this may take a while): 252 of 516\n",
      "2025-04-01 16:52:34.192974: I tensorflow/core/kernels/data/shuffle_dataset_op.cc:177] Filling up shuffle buffer (this may take a while): 286 of 516\n",
      "2025-04-01 16:52:44.266011: I tensorflow/core/kernels/data/shuffle_dataset_op.cc:177] Filling up shuffle buffer (this may take a while): 320 of 516\n",
      "2025-04-01 16:52:54.388032: I tensorflow/core/kernels/data/shuffle_dataset_op.cc:177] Filling up shuffle buffer (this may take a while): 355 of 516\n",
      "2025-04-01 16:53:04.511798: I tensorflow/core/kernels/data/shuffle_dataset_op.cc:177] Filling up shuffle buffer (this may take a while): 392 of 516\n",
      "2025-04-01 16:53:14.291114: I tensorflow/core/kernels/data/shuffle_dataset_op.cc:177] Filling up shuffle buffer (this may take a while): 430 of 516\n",
      "2025-04-01 16:53:24.280906: I tensorflow/core/kernels/data/shuffle_dataset_op.cc:177] Filling up shuffle buffer (this may take a while): 461 of 516\n",
      "2025-04-01 16:53:34.462254: I tensorflow/core/kernels/data/shuffle_dataset_op.cc:177] Filling up shuffle buffer (this may take a while): 494 of 516\n",
      "2025-04-01 16:53:40.321647: I tensorflow/core/kernels/data/shuffle_dataset_op.cc:230] Shuffle buffer filled.\n"
     ]
    },
    {
     "name": "stdout",
     "output_type": "stream",
     "text": [
      "65/65 [==============================] - 200s 555ms/step - loss: 0.6775 - accuracy: 0.5930 - val_loss: 0.6065 - val_accuracy: 0.7846\n",
      "INFO:tensorflow:Assets written to: checkpoints/i3dLstm_model/best_model/assets\n",
      "Epoch 2/5\n"
     ]
    },
    {
     "name": "stderr",
     "output_type": "stream",
     "text": [
      "2025-04-01 16:54:51.528513: I tensorflow/core/kernels/data/shuffle_dataset_op.cc:177] Filling up shuffle buffer (this may take a while): 38 of 516\n",
      "2025-04-01 16:55:01.645721: I tensorflow/core/kernels/data/shuffle_dataset_op.cc:177] Filling up shuffle buffer (this may take a while): 84 of 516\n",
      "2025-04-01 16:55:11.437674: I tensorflow/core/kernels/data/shuffle_dataset_op.cc:177] Filling up shuffle buffer (this may take a while): 124 of 516\n",
      "2025-04-01 16:55:21.460834: I tensorflow/core/kernels/data/shuffle_dataset_op.cc:177] Filling up shuffle buffer (this may take a while): 153 of 516\n",
      "2025-04-01 16:55:31.387632: I tensorflow/core/kernels/data/shuffle_dataset_op.cc:177] Filling up shuffle buffer (this may take a while): 185 of 516\n",
      "2025-04-01 16:55:41.490936: I tensorflow/core/kernels/data/shuffle_dataset_op.cc:177] Filling up shuffle buffer (this may take a while): 219 of 516\n",
      "2025-04-01 16:55:51.495460: I tensorflow/core/kernels/data/shuffle_dataset_op.cc:177] Filling up shuffle buffer (this may take a while): 251 of 516\n",
      "2025-04-01 16:56:01.412805: I tensorflow/core/kernels/data/shuffle_dataset_op.cc:177] Filling up shuffle buffer (this may take a while): 285 of 516\n",
      "2025-04-01 16:56:11.581732: I tensorflow/core/kernels/data/shuffle_dataset_op.cc:177] Filling up shuffle buffer (this may take a while): 319 of 516\n",
      "2025-04-01 16:56:21.484560: I tensorflow/core/kernels/data/shuffle_dataset_op.cc:177] Filling up shuffle buffer (this may take a while): 352 of 516\n",
      "2025-04-01 16:56:31.471928: I tensorflow/core/kernels/data/shuffle_dataset_op.cc:177] Filling up shuffle buffer (this may take a while): 388 of 516\n",
      "2025-04-01 16:56:41.729779: I tensorflow/core/kernels/data/shuffle_dataset_op.cc:177] Filling up shuffle buffer (this may take a while): 428 of 516\n",
      "2025-04-01 16:56:51.610685: I tensorflow/core/kernels/data/shuffle_dataset_op.cc:177] Filling up shuffle buffer (this may take a while): 457 of 516\n",
      "2025-04-01 16:57:01.457432: I tensorflow/core/kernels/data/shuffle_dataset_op.cc:177] Filling up shuffle buffer (this may take a while): 488 of 516\n",
      "2025-04-01 16:57:08.928543: I tensorflow/core/kernels/data/shuffle_dataset_op.cc:230] Shuffle buffer filled.\n"
     ]
    },
    {
     "name": "stdout",
     "output_type": "stream",
     "text": [
      "65/65 [==============================] - 181s 521ms/step - loss: 0.6641 - accuracy: 0.6182 - val_loss: 0.6287 - val_accuracy: 0.7385\n",
      "Epoch 3/5\n"
     ]
    },
    {
     "name": "stderr",
     "output_type": "stream",
     "text": [
      "2025-04-01 16:57:54.578754: I tensorflow/core/kernels/data/shuffle_dataset_op.cc:177] Filling up shuffle buffer (this may take a while): 38 of 516\n",
      "2025-04-01 16:58:04.727099: I tensorflow/core/kernels/data/shuffle_dataset_op.cc:177] Filling up shuffle buffer (this may take a while): 85 of 516\n",
      "2025-04-01 16:58:14.604204: I tensorflow/core/kernels/data/shuffle_dataset_op.cc:177] Filling up shuffle buffer (this may take a while): 126 of 516\n",
      "2025-04-01 16:58:24.720474: I tensorflow/core/kernels/data/shuffle_dataset_op.cc:177] Filling up shuffle buffer (this may take a while): 154 of 516\n",
      "2025-04-01 16:58:34.755096: I tensorflow/core/kernels/data/shuffle_dataset_op.cc:177] Filling up shuffle buffer (this may take a while): 190 of 516\n",
      "2025-04-01 16:58:44.880569: I tensorflow/core/kernels/data/shuffle_dataset_op.cc:177] Filling up shuffle buffer (this may take a while): 221 of 516\n",
      "2025-04-01 16:58:55.015689: I tensorflow/core/kernels/data/shuffle_dataset_op.cc:177] Filling up shuffle buffer (this may take a while): 255 of 516\n",
      "2025-04-01 16:59:04.780157: I tensorflow/core/kernels/data/shuffle_dataset_op.cc:177] Filling up shuffle buffer (this may take a while): 289 of 516\n",
      "2025-04-01 16:59:14.802288: I tensorflow/core/kernels/data/shuffle_dataset_op.cc:177] Filling up shuffle buffer (this may take a while): 323 of 516\n",
      "2025-04-01 16:59:25.317658: I tensorflow/core/kernels/data/shuffle_dataset_op.cc:177] Filling up shuffle buffer (this may take a while): 357 of 516\n",
      "2025-04-01 16:59:34.788770: I tensorflow/core/kernels/data/shuffle_dataset_op.cc:177] Filling up shuffle buffer (this may take a while): 392 of 516\n",
      "2025-04-01 16:59:44.871000: I tensorflow/core/kernels/data/shuffle_dataset_op.cc:177] Filling up shuffle buffer (this may take a while): 430 of 516\n",
      "2025-04-01 16:59:54.913134: I tensorflow/core/kernels/data/shuffle_dataset_op.cc:177] Filling up shuffle buffer (this may take a while): 461 of 516\n",
      "2025-04-01 17:00:04.638954: I tensorflow/core/kernels/data/shuffle_dataset_op.cc:177] Filling up shuffle buffer (this may take a while): 493 of 516\n",
      "2025-04-01 17:00:11.230375: I tensorflow/core/kernels/data/shuffle_dataset_op.cc:230] Shuffle buffer filled.\n"
     ]
    },
    {
     "name": "stdout",
     "output_type": "stream",
     "text": [
      "65/65 [==============================] - 180s 520ms/step - loss: 0.6189 - accuracy: 0.6609 - val_loss: 0.6137 - val_accuracy: 0.7077\n",
      "Epoch 4/5\n"
     ]
    },
    {
     "name": "stderr",
     "output_type": "stream",
     "text": [
      "2025-04-01 17:00:57.069461: I tensorflow/core/kernels/data/shuffle_dataset_op.cc:177] Filling up shuffle buffer (this may take a while): 37 of 516\n",
      "2025-04-01 17:01:07.075219: I tensorflow/core/kernels/data/shuffle_dataset_op.cc:177] Filling up shuffle buffer (this may take a while): 82 of 516\n",
      "2025-04-01 17:01:17.231924: I tensorflow/core/kernels/data/shuffle_dataset_op.cc:177] Filling up shuffle buffer (this may take a while): 121 of 516\n",
      "2025-04-01 17:01:27.090761: I tensorflow/core/kernels/data/shuffle_dataset_op.cc:177] Filling up shuffle buffer (this may take a while): 151 of 516\n",
      "2025-04-01 17:01:37.142045: I tensorflow/core/kernels/data/shuffle_dataset_op.cc:177] Filling up shuffle buffer (this may take a while): 182 of 516\n",
      "2025-04-01 17:01:47.083148: I tensorflow/core/kernels/data/shuffle_dataset_op.cc:177] Filling up shuffle buffer (this may take a while): 217 of 516\n",
      "2025-04-01 17:01:57.032599: I tensorflow/core/kernels/data/shuffle_dataset_op.cc:177] Filling up shuffle buffer (this may take a while): 248 of 516\n",
      "2025-04-01 17:02:07.040460: I tensorflow/core/kernels/data/shuffle_dataset_op.cc:177] Filling up shuffle buffer (this may take a while): 282 of 516\n",
      "2025-04-01 17:02:17.064619: I tensorflow/core/kernels/data/shuffle_dataset_op.cc:177] Filling up shuffle buffer (this may take a while): 315 of 516\n",
      "2025-04-01 17:02:27.049958: I tensorflow/core/kernels/data/shuffle_dataset_op.cc:177] Filling up shuffle buffer (this may take a while): 350 of 516\n",
      "2025-04-01 17:02:37.125878: I tensorflow/core/kernels/data/shuffle_dataset_op.cc:177] Filling up shuffle buffer (this may take a while): 386 of 516\n",
      "2025-04-01 17:02:47.119021: I tensorflow/core/kernels/data/shuffle_dataset_op.cc:177] Filling up shuffle buffer (this may take a while): 426 of 516\n",
      "2025-04-01 17:02:57.012760: I tensorflow/core/kernels/data/shuffle_dataset_op.cc:177] Filling up shuffle buffer (this may take a while): 455 of 516\n",
      "2025-04-01 17:03:07.147817: I tensorflow/core/kernels/data/shuffle_dataset_op.cc:177] Filling up shuffle buffer (this may take a while): 488 of 516\n",
      "2025-04-01 17:03:14.426982: I tensorflow/core/kernels/data/shuffle_dataset_op.cc:230] Shuffle buffer filled.\n"
     ]
    },
    {
     "name": "stdout",
     "output_type": "stream",
     "text": [
      "65/65 [==============================] - 181s 519ms/step - loss: 0.6220 - accuracy: 0.6822 - val_loss: 0.6024 - val_accuracy: 0.7231\n",
      "INFO:tensorflow:Assets written to: checkpoints/i3dLstm_model/best_model/assets\n",
      "Epoch 5/5\n"
     ]
    },
    {
     "name": "stderr",
     "output_type": "stream",
     "text": [
      "2025-04-01 17:04:23.538354: I tensorflow/core/kernels/data/shuffle_dataset_op.cc:177] Filling up shuffle buffer (this may take a while): 37 of 516\n",
      "2025-04-01 17:04:33.662312: I tensorflow/core/kernels/data/shuffle_dataset_op.cc:177] Filling up shuffle buffer (this may take a while): 82 of 516\n",
      "2025-04-01 17:04:43.915094: I tensorflow/core/kernels/data/shuffle_dataset_op.cc:177] Filling up shuffle buffer (this may take a while): 121 of 516\n",
      "2025-04-01 17:04:53.581658: I tensorflow/core/kernels/data/shuffle_dataset_op.cc:177] Filling up shuffle buffer (this may take a while): 150 of 516\n",
      "2025-04-01 17:05:03.606821: I tensorflow/core/kernels/data/shuffle_dataset_op.cc:177] Filling up shuffle buffer (this may take a while): 180 of 516\n",
      "2025-04-01 17:05:13.653864: I tensorflow/core/kernels/data/shuffle_dataset_op.cc:177] Filling up shuffle buffer (this may take a while): 216 of 516\n",
      "2025-04-01 17:05:23.606298: I tensorflow/core/kernels/data/shuffle_dataset_op.cc:177] Filling up shuffle buffer (this may take a while): 247 of 516\n",
      "2025-04-01 17:05:33.685884: I tensorflow/core/kernels/data/shuffle_dataset_op.cc:177] Filling up shuffle buffer (this may take a while): 282 of 516\n",
      "2025-04-01 17:05:43.774392: I tensorflow/core/kernels/data/shuffle_dataset_op.cc:177] Filling up shuffle buffer (this may take a while): 314 of 516\n",
      "2025-04-01 17:05:53.533885: I tensorflow/core/kernels/data/shuffle_dataset_op.cc:177] Filling up shuffle buffer (this may take a while): 349 of 516\n",
      "2025-04-01 17:06:03.601920: I tensorflow/core/kernels/data/shuffle_dataset_op.cc:177] Filling up shuffle buffer (this may take a while): 383 of 516\n",
      "2025-04-01 17:06:13.515354: I tensorflow/core/kernels/data/shuffle_dataset_op.cc:177] Filling up shuffle buffer (this may take a while): 421 of 516\n",
      "2025-04-01 17:06:23.643441: I tensorflow/core/kernels/data/shuffle_dataset_op.cc:177] Filling up shuffle buffer (this may take a while): 450 of 516\n",
      "2025-04-01 17:06:33.628449: I tensorflow/core/kernels/data/shuffle_dataset_op.cc:177] Filling up shuffle buffer (this may take a while): 481 of 516\n",
      "2025-04-01 17:06:42.822363: I tensorflow/core/kernels/data/shuffle_dataset_op.cc:230] Shuffle buffer filled.\n"
     ]
    },
    {
     "name": "stdout",
     "output_type": "stream",
     "text": [
      "65/65 [==============================] - 183s 519ms/step - loss: 0.6388 - accuracy: 0.6085 - val_loss: 0.5959 - val_accuracy: 0.7231\n",
      "INFO:tensorflow:Assets written to: checkpoints/i3dLstm_model/best_model/assets\n"
     ]
    }
   ],
   "source": [
    "checkpoint_dir = \"checkpoints/i3dLstm_model\"\n",
    "os.makedirs(checkpoint_dir, exist_ok=True)\n",
    "\n",
    "last_epoch_file = os.path.join(checkpoint_dir, \"last_epoch.npy\")\n",
    "history_file = os.path.join(checkpoint_dir, \"history.npy\")\n",
    "\n",
    "# Callback para guardar TODAS las épocas\n",
    "full_history_callback = ModelCheckpoint(\n",
    "    filepath=os.path.join(checkpoint_dir, \"epoch_{epoch:02d}\"),\n",
    "    save_freq='epoch',\n",
    "    save_weights_only=True\n",
    ")\n",
    "\n",
    "# Callback para guardar solo el MEJOR modelo\n",
    "best_model_callback = ModelCheckpoint(\n",
    "    filepath=os.path.join(checkpoint_dir, \"best_model\"),\n",
    "    monitor=\"val_loss\",\n",
    "    mode=\"min\",\n",
    "    save_best_only=True\n",
    ")\n",
    "\n",
    "# Intentar cargar la última época guardada\n",
    "if os.path.exists(last_epoch_file):\n",
    "    initial_epoch = int(np.load(last_epoch_file))\n",
    "    model_2.load_weights(os.path.join(checkpoint_dir, \"best_model\"))\n",
    "    print(f\"Resuming training from epoch {initial_epoch}\")\n",
    "else:\n",
    "    initial_epoch = 0\n",
    "    print(\"Starting training from scratch.\")\n",
    "\n",
    "# Callback para detener el entrenamiento si no hay mejora\n",
    "early_stop_callback = EarlyStopping(\n",
    "    monitor=\"val_loss\", \n",
    "    patience=3, \n",
    "    mode=\"min\", \n",
    "    restore_best_weights=True\n",
    ")\n",
    "\n",
    "# Callback para guardar el mejor modelo\n",
    "checkpoint_callback = ModelCheckpoint(\n",
    "    filepath=os.path.join(checkpoint_dir, \"best_model\"),\n",
    "    save_best_only=True,\n",
    "    monitor=\"val_loss\",\n",
    "    mode=\"min\",\n",
    "    save_weights_only=True\n",
    ")\n",
    "\n",
    "lr_scheduler = LearningRateScheduler(one_cycle_scheduler)\n",
    "\n",
    "# Callback para guardar la época actual\n",
    "class EpochSaver(tf.keras.callbacks.Callback):\n",
    "    def on_epoch_end(self, epoch, logs=None):\n",
    "        np.save(last_epoch_file, epoch + 1)  # Guardar la siguiente época a entrenar\n",
    "\n",
    "epoch_saver_callback = EpochSaver()\n",
    "\n",
    "# Callback para guardar historial después de cada época\n",
    "class HistorySaver(tf.keras.callbacks.Callback):\n",
    "    def on_epoch_end(self, epoch, logs=None):\n",
    "        if logs is not None:\n",
    "            history_full['loss'].append(logs.get('loss', None))\n",
    "            history_full['val_loss'].append(logs.get('val_loss', None))\n",
    "            np.save(history_file, history_full)  # Guardar historial actualizado\n",
    "\n",
    "history_saver_callback = HistorySaver()\n",
    "\n",
    "# Cargar historial previo si existe\n",
    "if os.path.exists(history_file):\n",
    "    history_full = np.load(history_file, allow_pickle=True).item()\n",
    "else:\n",
    "    history_full = {'loss': [], 'val_loss': []}\n",
    "\n",
    "# Verificar si el entrenamiento ya ha terminado\n",
    "if initial_epoch >= epochs:\n",
    "    print(\"Training already completed. No new epochs to run.\")\n",
    "else:\n",
    "    # Entrenar desde la última época\n",
    "    history = model_2.fit(\n",
    "        train_dataset,\n",
    "        validation_data=val_dataset,\n",
    "        epochs=epochs,\n",
    "        initial_epoch=initial_epoch,\n",
    "        callbacks=[\n",
    "            early_stop_callback, \n",
    "            checkpoint_callback, \n",
    "            lr_scheduler, \n",
    "            epoch_saver_callback, \n",
    "            full_history_callback, \n",
    "            best_model_callback,\n",
    "            history_saver_callback  # Nuevo callback para guardar historial\n",
    "        ],\n",
    "        verbose=1\n",
    "    )"
   ]
  },
  {
   "cell_type": "code",
   "execution_count": 98,
   "metadata": {},
   "outputs": [
    {
     "name": "stderr",
     "output_type": "stream",
     "text": [
      "2025-04-01 17:08:11.922702: I tensorflow/core/kernels/data/shuffle_dataset_op.cc:177] Filling up shuffle buffer (this may take a while): 35 of 516\n",
      "2025-04-01 17:08:22.150324: I tensorflow/core/kernels/data/shuffle_dataset_op.cc:177] Filling up shuffle buffer (this may take a while): 78 of 516\n",
      "2025-04-01 17:08:31.915593: I tensorflow/core/kernels/data/shuffle_dataset_op.cc:177] Filling up shuffle buffer (this may take a while): 113 of 516\n",
      "2025-04-01 17:08:41.873289: I tensorflow/core/kernels/data/shuffle_dataset_op.cc:177] Filling up shuffle buffer (this may take a while): 142 of 516\n",
      "2025-04-01 17:08:51.812402: I tensorflow/core/kernels/data/shuffle_dataset_op.cc:177] Filling up shuffle buffer (this may take a while): 173 of 516\n",
      "2025-04-01 17:09:01.830459: I tensorflow/core/kernels/data/shuffle_dataset_op.cc:177] Filling up shuffle buffer (this may take a while): 209 of 516\n",
      "2025-04-01 17:09:11.834078: I tensorflow/core/kernels/data/shuffle_dataset_op.cc:177] Filling up shuffle buffer (this may take a while): 240 of 516\n",
      "2025-04-01 17:09:21.873706: I tensorflow/core/kernels/data/shuffle_dataset_op.cc:177] Filling up shuffle buffer (this may take a while): 274 of 516\n",
      "2025-04-01 17:09:31.826667: I tensorflow/core/kernels/data/shuffle_dataset_op.cc:177] Filling up shuffle buffer (this may take a while): 303 of 516\n",
      "2025-04-01 17:09:42.160271: I tensorflow/core/kernels/data/shuffle_dataset_op.cc:177] Filling up shuffle buffer (this may take a while): 338 of 516\n",
      "2025-04-01 17:09:51.962813: I tensorflow/core/kernels/data/shuffle_dataset_op.cc:177] Filling up shuffle buffer (this may take a while): 369 of 516\n",
      "2025-04-01 17:10:01.915035: I tensorflow/core/kernels/data/shuffle_dataset_op.cc:177] Filling up shuffle buffer (this may take a while): 407 of 516\n",
      "2025-04-01 17:10:12.230633: I tensorflow/core/kernels/data/shuffle_dataset_op.cc:177] Filling up shuffle buffer (this may take a while): 443 of 516\n",
      "2025-04-01 17:10:21.847777: I tensorflow/core/kernels/data/shuffle_dataset_op.cc:177] Filling up shuffle buffer (this may take a while): 471 of 516\n",
      "2025-04-01 17:10:31.891998: I tensorflow/core/kernels/data/shuffle_dataset_op.cc:177] Filling up shuffle buffer (this may take a while): 505 of 516\n",
      "2025-04-01 17:10:34.325250: I tensorflow/core/kernels/data/shuffle_dataset_op.cc:230] Shuffle buffer filled.\n"
     ]
    },
    {
     "name": "stdout",
     "output_type": "stream",
     "text": [
      "65/65 [==============================] - 160s 110ms/step - loss: 0.6072 - accuracy: 0.6783\n"
     ]
    }
   ],
   "source": [
    "train_results = model_2.evaluate(train_dataset, verbose=1)"
   ]
  },
  {
   "cell_type": "code",
   "execution_count": 99,
   "metadata": {},
   "outputs": [
    {
     "name": "stdout",
     "output_type": "stream",
     "text": [
      "9/9 [==============================] - 18s 2s/step - loss: 0.5959 - accuracy: 0.7231\n"
     ]
    }
   ],
   "source": [
    "# Evaluar en el conjunto de validación\n",
    "val_results = model_2.evaluate(val_dataset, verbose=1)"
   ]
  },
  {
   "cell_type": "code",
   "execution_count": 100,
   "metadata": {},
   "outputs": [
    {
     "name": "stdout",
     "output_type": "stream",
     "text": [
      "9/9 [==============================] - 20s 2s/step - loss: 0.6724 - accuracy: 0.5077\n"
     ]
    }
   ],
   "source": [
    "# Evaluar en el conjunto de prueba\n",
    "test_results = model_2.evaluate(test_dataset, verbose=1)"
   ]
  },
  {
   "cell_type": "code",
   "execution_count": 101,
   "metadata": {},
   "outputs": [
    {
     "name": "stdout",
     "output_type": "stream",
     "text": [
      "\n",
      "Resultados Finales:\n",
      "Train - Loss: 0.6071980595588684, Accuracy: 0.6782945990562439\n",
      "Val - Loss: 0.5958573222160339, Accuracy: 0.7230769395828247\n",
      "Test - Loss: 0.672350287437439, Accuracy: 0.5076923370361328\n"
     ]
    }
   ],
   "source": [
    "print(\"\\nResultados Finales:\")\n",
    "print(f\"Train - Loss: {train_results[0]}, Accuracy: {train_results[1]}\")\n",
    "print(f\"Val - Loss: {val_results[0]}, Accuracy: {val_results[1]}\")\n",
    "print(f\"Test - Loss: {test_results[0]}, Accuracy: {test_results[1]}\")"
   ]
  },
  {
   "cell_type": "markdown",
   "metadata": {},
   "source": [
    "### Evolución del Learning rate"
   ]
  },
  {
   "cell_type": "code",
   "execution_count": 102,
   "metadata": {},
   "outputs": [
    {
     "data": {
      "image/png": "[encoded data removed]",
      "text/plain": [
       "<Figure size 640x480 with 1 Axes>"
      ]
     },
     "metadata": {},
     "output_type": "display_data"
    }
   ],
   "source": [
    "import matplotlib.pyplot as plt  # Corrección en la importación\n",
    "lrs = [one_cycle_scheduler(epoch, initial_learning_rate) for epoch in range(epochs)]\n",
    "plt.plot(range(epochs), lrs)\n",
    "plt.xlabel(\"Época\")\n",
    "plt.ylabel(\"Learning Rate\")\n",
    "plt.title(\"One Cycle Policy - Learning Rate Schedule\")\n",
    "plt.show()"
   ]
  },
  {
   "cell_type": "markdown",
   "metadata": {},
   "source": [
    "### Gráfica Epochs vs Loss"
   ]
  },
  {
   "cell_type": "code",
   "execution_count": 103,
   "metadata": {},
   "outputs": [
    {
     "data": {
      "image/png": "[encoded data removed]",
      "text/plain": [
       "<Figure size 640x480 with 1 Axes>"
      ]
     },
     "metadata": {},
     "output_type": "display_data"
    }
   ],
   "source": [
    "import matplotlib.pyplot as plt\n",
    "\n",
    "# Extraer la pérdida de entrenamiento y validación\n",
    "loss = history.history['loss']\n",
    "val_loss = history.history['val_loss']\n",
    "\n",
    "# Crear la gráfica\n",
    "plt.plot(range(1, len(loss) + 1), loss, label='Training Loss', marker='o')\n",
    "plt.plot(range(1, len(val_loss) + 1), val_loss, label='Validation Loss', marker='o')\n",
    "\n",
    "# Etiquetas y título\n",
    "plt.xlabel('Epochs')\n",
    "plt.ylabel('Loss')\n",
    "plt.title('Epochs vs Loss')\n",
    "plt.legend()\n",
    "plt.grid(True)\n",
    "plt.show()"
   ]
  },
  {
   "cell_type": "markdown",
   "metadata": {},
   "source": [
    "### Visualización del Modelo con TSNE"
   ]
  },
  {
   "cell_type": "code",
   "execution_count": 104,
   "metadata": {},
   "outputs": [
    {
     "name": "stdout",
     "output_type": "stream",
     "text": [
      "Num samples: 65, Usando perplexity=10\n"
     ]
    },
    {
     "data": {
      "image/png": "[encoded data removed]",
      "text/plain": [
       "<Figure size 1000x800 with 1 Axes>"
      ]
     },
     "metadata": {},
     "output_type": "display_data"
    }
   ],
   "source": [
    "from sklearn.manifold import TSNE\n",
    "\n",
    "# Obtener las representaciones del modelo\n",
    "x_test = model_2.predict(test_dataset)  # Extrae los embeddings\n",
    "y_test = np.concatenate([y for _, y in test_dataset])  # Obtener etiquetas reales\n",
    "\n",
    "# Verificar el número de muestras\n",
    "num_samples = x_test.shape[0]\n",
    "perplexity_value = min(10, num_samples - 1)  # Ajustar perplexity dinámicamente\n",
    "\n",
    "print(f\"Num samples: {num_samples}, Usando perplexity={perplexity_value}\")\n",
    "\n",
    "# Aplicar t-SNE con un perplexity válido\n",
    "tsne = TSNE(n_components=2, random_state=42, perplexity=perplexity_value)\n",
    "x_test_tsne = tsne.fit_transform(x_test)\n",
    "\n",
    "# Visualización\n",
    "plt.figure(figsize=(10, 8))\n",
    "for i in np.unique(y_test):\n",
    "    idx = np.where(y_test == i)[0]\n",
    "    plt.scatter(x_test_tsne[idx, 0], x_test_tsne[idx, 1], label=f\"Clase {i}\")\n",
    "\n",
    "plt.title(\"Visualización t-SNE de los embeddings del conjunto de prueba\")\n",
    "plt.xlabel(\"Componente t-SNE 1\")\n",
    "plt.ylabel(\"Componente t-SNE 2\")\n",
    "plt.legend(title=\"Clases\")\n",
    "plt.grid(True)\n",
    "plt.show()"
   ]
  },
  {
   "cell_type": "markdown",
   "metadata": {},
   "source": [
    "## Comparación de modelos"
   ]
  },
  {
   "cell_type": "code",
   "execution_count": 43,
   "metadata": {},
   "outputs": [
    {
     "ename": "NameError",
     "evalue": "name 'X_test' is not defined",
     "output_type": "error",
     "traceback": [
      "\u001b[0;31m---------------------------------------------------------------------------\u001b[0m",
      "\u001b[0;31mNameError\u001b[0m                                 Traceback (most recent call last)",
      "Cell \u001b[0;32mIn[43], line 2\u001b[0m\n\u001b[1;32m      1\u001b[0m \u001b[38;5;66;03m# Evaluar los modelos en el conjunto de prueba\u001b[39;00m\n\u001b[0;32m----> 2\u001b[0m loss_1, acc_1 \u001b[38;5;241m=\u001b[39m model_1\u001b[38;5;241m.\u001b[39mevaluate(\u001b[43mX_test\u001b[49m, y_test)\n\u001b[1;32m      3\u001b[0m loss_2, acc_2 \u001b[38;5;241m=\u001b[39m model_2\u001b[38;5;241m.\u001b[39mevaluate(X_test, y_test)\n\u001b[1;32m      5\u001b[0m \u001b[38;5;28mprint\u001b[39m(\u001b[38;5;124mf\u001b[39m\u001b[38;5;124m\"\u001b[39m\u001b[38;5;124mKerasI3D - Loss: \u001b[39m\u001b[38;5;132;01m{\u001b[39;00mloss_1\u001b[38;5;132;01m}\u001b[39;00m\u001b[38;5;124m, Accuracy: \u001b[39m\u001b[38;5;132;01m{\u001b[39;00macc_1\u001b[38;5;132;01m}\u001b[39;00m\u001b[38;5;124m\"\u001b[39m)\n",
      "\u001b[0;31mNameError\u001b[0m: name 'X_test' is not defined"
     ]
    }
   ],
   "source": [
    "# Evaluar los modelos en el conjunto de prueba\n",
    "loss_1, acc_1 = model_1.evaluate(X_test, y_test)\n",
    "loss_2, acc_2 = model_2.evaluate(X_test, y_test)\n",
    "\n",
    "print(f\"KerasI3D - Loss: {loss_1}, Accuracy: {acc_1}\")\n",
    "print(f\"I3D_ConvLSTM - Loss: {loss_2}, Accuracy: {acc_2}\")"
   ]
  },
  {
   "cell_type": "code",
   "execution_count": null,
   "metadata": {},
   "outputs": [],
   "source": []
  },
  {
   "cell_type": "markdown",
   "metadata": {},
   "source": []
  }
 ],
 "metadata": {
  "kernelspec": {
   "display_name": "proyecto_i3d",
   "language": "python",
   "name": "python3"
  },
  "language_info": {
   "codemirror_mode": {
    "name": "ipython",
    "version": 3
   },
   "file_extension": ".py",
   "mimetype": "text/x-python",
   "name": "python",
   "nbconvert_exporter": "python",
   "pygments_lexer": "ipython3",
   "version": "3.9.21"
  }
 },
 "nbformat": 4,
 "nbformat_minor": 2
}
