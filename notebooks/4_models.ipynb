{
 "cells": [
  {
   "cell_type": "markdown",
   "metadata": {},
   "source": [
    "# Models Creation"
   ]
  },
  {
   "cell_type": "code",
   "execution_count": 1,
   "metadata": {},
   "outputs": [],
   "source": [
    "import cv2\n",
    "import numpy as np\n",
    "import os\n",
    "import sys\n",
    "import pandas as pd\n",
    "from sklearn.model_selection import train_test_split"
   ]
  },
  {
   "cell_type": "code",
   "execution_count": 2,
   "metadata": {},
   "outputs": [
    {
     "name": "stdout",
     "output_type": "stream",
     "text": [
      "3.9.7 | packaged by conda-forge | (default, Sep 29 2021, 19:23:11) \n",
      "[GCC 9.4.0]\n"
     ]
    }
   ],
   "source": [
    "print(sys.version)"
   ]
  },
  {
   "cell_type": "code",
   "execution_count": 3,
   "metadata": {},
   "outputs": [
    {
     "name": "stdout",
     "output_type": "stream",
     "text": [
      "Name: tensorflow\n",
      "Version: 2.5.0\n",
      "Summary: TensorFlow is an open source machine learning framework for everyone.\n",
      "Home-page: https://www.tensorflow.org/\n",
      "Author: Google Inc.\n",
      "Author-email: packages@tensorflow.org\n",
      "License: Apache 2.0\n",
      "Location: /system/conda/miniconda3/envs/cloudspace/lib/python3.9/site-packages\n",
      "Requires: absl-py, astunparse, flatbuffers, gast, google-pasta, grpcio, h5py, keras-nightly, keras-preprocessing, numpy, opt-einsum, protobuf, six, tensorboard, tensorflow-estimator, termcolor, typing-extensions, wheel, wrapt\n",
      "Required-by: \n"
     ]
    }
   ],
   "source": [
    "!pip show tensorflow"
   ]
  },
  {
   "cell_type": "code",
   "execution_count": 4,
   "metadata": {},
   "outputs": [
    {
     "name": "stderr",
     "output_type": "stream",
     "text": [
      "2025-03-21 04:56:38.512585: W tensorflow/stream_executor/platform/default/dso_loader.cc:64] Could not load dynamic library 'libcudart.so.11.0'; dlerror: libcudart.so.11.0: cannot open shared object file: No such file or directory; LD_LIBRARY_PATH: /system/conda/miniconda3/envs/cloudspace/lib/python3.9/site-packages/cv2/../../lib64:\n",
      "2025-03-21 04:56:38.512641: I tensorflow/stream_executor/cuda/cudart_stub.cc:29] Ignore above cudart dlerror if you do not have a GPU set up on your machine.\n"
     ]
    }
   ],
   "source": [
    "import tensorflow as tf"
   ]
  },
  {
   "cell_type": "code",
   "execution_count": 5,
   "metadata": {},
   "outputs": [],
   "source": [
    "# Agrega el path al directorio raíz del proyecto\n",
    "sys.path.append(os.path.abspath(\"..\"))\n",
    "from models.i3d import InceptionI3d"
   ]
  },
  {
   "cell_type": "code",
   "execution_count": 6,
   "metadata": {},
   "outputs": [],
   "source": [
    "data = pd.read_csv(\"../data/test.csv\")"
   ]
  },
  {
   "cell_type": "code",
   "execution_count": 7,
   "metadata": {},
   "outputs": [
    {
     "data": {
      "text/html": [
       "<div>\n",
       "<style scoped>\n",
       "    .dataframe tbody tr th:only-of-type {\n",
       "        vertical-align: middle;\n",
       "    }\n",
       "\n",
       "    .dataframe tbody tr th {\n",
       "        vertical-align: top;\n",
       "    }\n",
       "\n",
       "    .dataframe thead th {\n",
       "        text-align: right;\n",
       "    }\n",
       "</style>\n",
       "<table border=\"1\" class=\"dataframe\">\n",
       "  <thead>\n",
       "    <tr style=\"text-align: right;\">\n",
       "      <th></th>\n",
       "      <th>Video</th>\n",
       "      <th>Evento</th>\n",
       "      <th>PCB</th>\n",
       "      <th>Start_Frame</th>\n",
       "      <th>End_Frame</th>\n",
       "      <th>duracion</th>\n",
       "      <th>Path</th>\n",
       "      <th>is_crime</th>\n",
       "    </tr>\n",
       "  </thead>\n",
       "  <tbody>\n",
       "    <tr>\n",
       "      <th>0</th>\n",
       "      <td>Fighting040_x264.mp4</td>\n",
       "      <td>Fighting</td>\n",
       "      <td>413</td>\n",
       "      <td>731</td>\n",
       "      <td>2329</td>\n",
       "      <td>1916</td>\n",
       "      <td>../data/test/Fighting040_x264.mp4</td>\n",
       "      <td>1</td>\n",
       "    </tr>\n",
       "    <tr>\n",
       "      <th>1</th>\n",
       "      <td>Normal_Videos068_x264.mp4</td>\n",
       "      <td>Normal</td>\n",
       "      <td>0</td>\n",
       "      <td>0</td>\n",
       "      <td>1882</td>\n",
       "      <td>1882</td>\n",
       "      <td>../data/test/Normal_Videos068_x264.mp4</td>\n",
       "      <td>0</td>\n",
       "    </tr>\n",
       "    <tr>\n",
       "      <th>2</th>\n",
       "      <td>Normal_Videos466_x264.mp4</td>\n",
       "      <td>Normal</td>\n",
       "      <td>0</td>\n",
       "      <td>0</td>\n",
       "      <td>2064</td>\n",
       "      <td>2064</td>\n",
       "      <td>../data/test/Normal_Videos466_x264.mp4</td>\n",
       "      <td>0</td>\n",
       "    </tr>\n",
       "    <tr>\n",
       "      <th>3</th>\n",
       "      <td>Normal_Videos215_x264.mp4</td>\n",
       "      <td>Normal</td>\n",
       "      <td>0</td>\n",
       "      <td>0</td>\n",
       "      <td>883</td>\n",
       "      <td>883</td>\n",
       "      <td>../data/test/Normal_Videos215_x264.mp4</td>\n",
       "      <td>0</td>\n",
       "    </tr>\n",
       "    <tr>\n",
       "      <th>4</th>\n",
       "      <td>Assault007_x264.mp4</td>\n",
       "      <td>Assault</td>\n",
       "      <td>330</td>\n",
       "      <td>668</td>\n",
       "      <td>1099</td>\n",
       "      <td>769</td>\n",
       "      <td>../data/test/Assault007_x264.mp4</td>\n",
       "      <td>1</td>\n",
       "    </tr>\n",
       "    <tr>\n",
       "      <th>...</th>\n",
       "      <td>...</td>\n",
       "      <td>...</td>\n",
       "      <td>...</td>\n",
       "      <td>...</td>\n",
       "      <td>...</td>\n",
       "      <td>...</td>\n",
       "      <td>...</td>\n",
       "      <td>...</td>\n",
       "    </tr>\n",
       "    <tr>\n",
       "      <th>60</th>\n",
       "      <td>Normal_Videos254_x264.mp4</td>\n",
       "      <td>Normal</td>\n",
       "      <td>0</td>\n",
       "      <td>0</td>\n",
       "      <td>1231</td>\n",
       "      <td>1231</td>\n",
       "      <td>../data/test/Normal_Videos254_x264.mp4</td>\n",
       "      <td>0</td>\n",
       "    </tr>\n",
       "    <tr>\n",
       "      <th>61</th>\n",
       "      <td>Assault013_x264.mp4</td>\n",
       "      <td>Assault</td>\n",
       "      <td>465</td>\n",
       "      <td>615</td>\n",
       "      <td>1022</td>\n",
       "      <td>557</td>\n",
       "      <td>../data/test/Assault013_x264.mp4</td>\n",
       "      <td>1</td>\n",
       "    </tr>\n",
       "    <tr>\n",
       "      <th>62</th>\n",
       "      <td>Assault047_x264.mp4</td>\n",
       "      <td>Assault</td>\n",
       "      <td>0</td>\n",
       "      <td>112</td>\n",
       "      <td>1790</td>\n",
       "      <td>1790</td>\n",
       "      <td>../data/test/Assault047_x264.mp4</td>\n",
       "      <td>1</td>\n",
       "    </tr>\n",
       "    <tr>\n",
       "      <th>63</th>\n",
       "      <td>Normal_Videos263_x264.mp4</td>\n",
       "      <td>Normal</td>\n",
       "      <td>0</td>\n",
       "      <td>0</td>\n",
       "      <td>1800</td>\n",
       "      <td>1800</td>\n",
       "      <td>../data/test/Normal_Videos263_x264.mp4</td>\n",
       "      <td>0</td>\n",
       "    </tr>\n",
       "    <tr>\n",
       "      <th>64</th>\n",
       "      <td>Abuse008_x264.mp4</td>\n",
       "      <td>Abuse</td>\n",
       "      <td>1516</td>\n",
       "      <td>4417</td>\n",
       "      <td>5366</td>\n",
       "      <td>3850</td>\n",
       "      <td>../data/test/Abuse008_x264.mp4</td>\n",
       "      <td>1</td>\n",
       "    </tr>\n",
       "  </tbody>\n",
       "</table>\n",
       "<p>65 rows × 8 columns</p>\n",
       "</div>"
      ],
      "text/plain": [
       "                        Video    Evento   PCB  Start_Frame  End_Frame  \\\n",
       "0        Fighting040_x264.mp4  Fighting   413          731       2329   \n",
       "1   Normal_Videos068_x264.mp4    Normal     0            0       1882   \n",
       "2   Normal_Videos466_x264.mp4    Normal     0            0       2064   \n",
       "3   Normal_Videos215_x264.mp4    Normal     0            0        883   \n",
       "4         Assault007_x264.mp4   Assault   330          668       1099   \n",
       "..                        ...       ...   ...          ...        ...   \n",
       "60  Normal_Videos254_x264.mp4    Normal     0            0       1231   \n",
       "61        Assault013_x264.mp4   Assault   465          615       1022   \n",
       "62        Assault047_x264.mp4   Assault     0          112       1790   \n",
       "63  Normal_Videos263_x264.mp4    Normal     0            0       1800   \n",
       "64          Abuse008_x264.mp4     Abuse  1516         4417       5366   \n",
       "\n",
       "    duracion                                    Path  is_crime  \n",
       "0       1916       ../data/test/Fighting040_x264.mp4         1  \n",
       "1       1882  ../data/test/Normal_Videos068_x264.mp4         0  \n",
       "2       2064  ../data/test/Normal_Videos466_x264.mp4         0  \n",
       "3        883  ../data/test/Normal_Videos215_x264.mp4         0  \n",
       "4        769        ../data/test/Assault007_x264.mp4         1  \n",
       "..       ...                                     ...       ...  \n",
       "60      1231  ../data/test/Normal_Videos254_x264.mp4         0  \n",
       "61       557        ../data/test/Assault013_x264.mp4         1  \n",
       "62      1790        ../data/test/Assault047_x264.mp4         1  \n",
       "63      1800  ../data/test/Normal_Videos263_x264.mp4         0  \n",
       "64      3850          ../data/test/Abuse008_x264.mp4         1  \n",
       "\n",
       "[65 rows x 8 columns]"
      ]
     },
     "execution_count": 7,
     "metadata": {},
     "output_type": "execute_result"
    }
   ],
   "source": [
    "data"
   ]
  },
  {
   "cell_type": "code",
   "execution_count": 8,
   "metadata": {},
   "outputs": [],
   "source": [
    "# Dividir el dataset en train (80%), valid (10%), test (10%)\n",
    "train_df, test_valid_df = train_test_split(data, test_size=0.2, random_state=42, stratify=data['is_crime'])\n",
    "valid_df, test_df = train_test_split(test_valid_df, test_size=0.5, random_state=42)"
   ]
  },
  {
   "cell_type": "markdown",
   "metadata": {},
   "source": [
    "## Data Loader"
   ]
  },
  {
   "cell_type": "code",
   "execution_count": 9,
   "metadata": {},
   "outputs": [],
   "source": [
    "class VideoDataModule:\n",
    "    def __init__(self, train_df, val_df, test_df, batch_size=8, frame_size=(224, 224), num_frames=32):\n",
    "        self.train_df = train_df\n",
    "        self.val_df = val_df\n",
    "        self.test_df = test_df\n",
    "        self.batch_size = batch_size\n",
    "        self.frame_size = frame_size\n",
    "        self.num_frames = num_frames\n",
    "\n",
    "    def _load_video_frames(self, video_path, start_frame, end_frame):\n",
    "        \"\"\"\n",
    "        Carga los frames de un video y los normaliza.\n",
    "\n",
    "        Args:\n",
    "            video_path: Ruta al video.\n",
    "            start_frame: Frame inicial.\n",
    "            end_frame: Frame final.\n",
    "\n",
    "        Returns:\n",
    "            frames: Tensor con los frames del video.\n",
    "        \"\"\"\n",
    "        cap = cv2.VideoCapture(video_path)\n",
    "\n",
    "        if not cap.isOpened():\n",
    "            print(f\"Error: No se pudo abrir el video {video_path}\")\n",
    "            return None\n",
    "\n",
    "        frames = []\n",
    "        total_frames = int(cap.get(cv2.CAP_PROP_FRAME_COUNT))\n",
    "\n",
    "        # Ajustar el rango si es necesario\n",
    "        start_frame = int(start_frame) if not np.isnan(start_frame) else 0\n",
    "        end_frame = int(end_frame) if not np.isnan(end_frame) else total_frames\n",
    "\n",
    "        step = max(1, (end_frame - start_frame) // self.num_frames)\n",
    "\n",
    "        cap.set(cv2.CAP_PROP_POS_FRAMES, start_frame)\n",
    "\n",
    "        for _ in range(self.num_frames):\n",
    "            ret, frame = cap.read()\n",
    "            if not ret:\n",
    "                break\n",
    "            \n",
    "            frame = cv2.resize(frame, self.frame_size)  # Redimensionar\n",
    "            frame = frame / 255.0  # Normalizar a [0,1]\n",
    "            frames.append(frame)\n",
    "\n",
    "            for _ in range(step - 1):  # Saltar frames para ajustarse al total\n",
    "                cap.read()\n",
    "\n",
    "        cap.release()\n",
    "\n",
    "        # Si el video es muy corto, rellenar con frames vacíos\n",
    "        while len(frames) < self.num_frames:\n",
    "            frames.append(np.zeros((*self.frame_size, 3)))\n",
    "\n",
    "        return np.array(frames, dtype=np.float32)  # Shape: (num_frames, height, width, 3)\n",
    "\n",
    "    def _dataframe_to_tf_dataset(self, df, shuffle=True):\n",
    "        \"\"\"\n",
    "        Convierte un DataFrame en un tf.data.Dataset.\n",
    "\n",
    "        Args:\n",
    "            df: DataFrame con los datos.\n",
    "            shuffle: Si se debe mezclar el dataset (por defecto True).\n",
    "\n",
    "        Returns:\n",
    "            dataset: tf.data.Dataset.\n",
    "        \"\"\"\n",
    "        file_paths = df[\"Path\"].values\n",
    "        start_frames = df[\"PCB\"].values\n",
    "        end_frames = df[\"End_Frame\"].values\n",
    "        labels = df[\"is_crime\"].values\n",
    "\n",
    "        def generator():\n",
    "            for i in range(len(file_paths)):\n",
    "                video_tensor = self._load_video_frames(file_paths[i], start_frames[i], end_frames[i])\n",
    "                yield video_tensor, labels[i]\n",
    "\n",
    "        dataset = tf.data.Dataset.from_generator(\n",
    "            generator,\n",
    "            output_signature=(\n",
    "                tf.TensorSpec(shape=(self.num_frames, *self.frame_size, 3), dtype=tf.float32),\n",
    "                tf.TensorSpec(shape=(), dtype=tf.int32),\n",
    "            ),\n",
    "        )\n",
    "\n",
    "        if shuffle:\n",
    "            dataset = dataset.shuffle(buffer_size=len(df))\n",
    "\n",
    "        dataset = dataset.batch(self.batch_size).prefetch(tf.data.AUTOTUNE)\n",
    "        return dataset\n",
    "\n",
    "    def train_dataset(self):\n",
    "        return self._dataframe_to_tf_dataset(self.train_df, shuffle=True)\n",
    "\n",
    "    def val_dataset(self):\n",
    "        return self._dataframe_to_tf_dataset(self.val_df, shuffle=False)\n",
    "\n",
    "    def test_dataset(self):\n",
    "        return self._dataframe_to_tf_dataset(self.test_df, shuffle=False)\n",
    "\n",
    "    def predict_dataset(self):\n",
    "        return self._dataframe_to_tf_dataset(self.test_df, shuffle=False)"
   ]
  },
  {
   "cell_type": "markdown",
   "metadata": {},
   "source": [
    "## I3D Model"
   ]
  },
  {
   "cell_type": "code",
   "execution_count": 11,
   "metadata": {},
   "outputs": [],
   "source": [
    "# Clase adaptadora para usar InceptionI3D como modelo de Keras\n",
    "class KerasI3D(tf.keras.Model):\n",
    "    def __init__(self, num_classes, endpoint = \"Logits\"):\n",
    "        super(KerasI3D, self).__init__()\n",
    "        self.i3d = InceptionI3d(num_classes=num_classes, is_training=True, final_endpoint=endpoint)\n",
    "\n",
    "    def call(self, inputs, training=False):\n",
    "        logits, _ = self.i3d(inputs)  # El modelo I3D devuelve logits y endpoints\n",
    "        return logits"
   ]
  },
  {
   "cell_type": "code",
   "execution_count": 12,
   "metadata": {},
   "outputs": [
    {
     "name": "stderr",
     "output_type": "stream",
     "text": [
      "2025-03-20 16:02:32.007543: W tensorflow/stream_executor/platform/default/dso_loader.cc:64] Could not load dynamic library 'libcuda.so.1'; dlerror: libcuda.so.1: cannot open shared object file: No such file or directory; LD_LIBRARY_PATH: /system/conda/miniconda3/envs/cloudspace/lib/python3.9/site-packages/cv2/../../lib64:\n",
      "2025-03-20 16:02:32.007586: W tensorflow/stream_executor/cuda/cuda_driver.cc:326] failed call to cuInit: UNKNOWN ERROR (303)\n",
      "2025-03-20 16:02:32.007606: I tensorflow/stream_executor/cuda/cuda_diagnostics.cc:156] kernel driver does not appear to be running on this host (ip-10-192-12-193): /proc/driver/nvidia/version does not exist\n",
      "2025-03-20 16:02:32.007930: I tensorflow/core/platform/cpu_feature_guard.cc:142] This TensorFlow binary is optimized with oneAPI Deep Neural Network Library (oneDNN) to use the following CPU instructions in performance-critical operations:  AVX2 AVX512F FMA\n",
      "To enable them in other operations, rebuild TensorFlow with the appropriate compiler flags.\n"
     ]
    }
   ],
   "source": [
    "# Crear el DataModule\n",
    "data_module = VideoDataModule(train_df, valid_df, test_df, batch_size=8)\n",
    "# Obtener los datasets\n",
    "train_dataset = data_module.train_dataset()\n",
    "val_dataset = data_module.val_dataset()\n",
    "test_dataset = data_module.test_dataset()\n",
    "predict_dataset = data_module.predict_dataset()"
   ]
  },
  {
   "cell_type": "markdown",
   "metadata": {},
   "source": [
    "### Implementación de Repeated K-Fold Cross Validation"
   ]
  },
  {
   "cell_type": "code",
   "execution_count": 13,
   "metadata": {},
   "outputs": [],
   "source": [
    "from sklearn.model_selection import RepeatedStratifiedKFold\n",
    "from tensorflow.keras.callbacks import EarlyStopping, ModelCheckpoint\n",
    "\n",
    "# Definir los parámetros\n",
    "num_classes = 2\n",
    "n_splits = 2 #5\n",
    "n_repeats = 1 #2\n",
    "batch_size = 8\n",
    "frame_size = (224, 224)\n",
    "num_frames = 32\n",
    "\n",
    "# Configuración de Repeated K-Fold Cross-Validation\n",
    "rskf = RepeatedStratifiedKFold(n_splits=n_splits, n_repeats=n_repeats, random_state=42)\n",
    "\n",
    "# Lista de resultados\n",
    "all_results = []\n",
    "lambdas = [1e-3, 1e-4, 1e-5]\n",
    "\n",
    "\n",
    "X = train_df.drop(columns=[\"is_crime\"]).values  # Características\n",
    "y = train_df[\"is_crime\"].values  # Etiquetas"
   ]
  },
  {
   "cell_type": "code",
   "execution_count": 14,
   "metadata": {},
   "outputs": [
    {
     "name": "stdout",
     "output_type": "stream",
     "text": [
      "Entrenando con lambda=0.001 | Repeat 1 | Fold 1\n"
     ]
    },
    {
     "name": "stderr",
     "output_type": "stream",
     "text": [
      "2025-03-20 16:02:41.040345: W tensorflow/python/util/util.cc:348] Sets are not currently considered sequences, but this may change in the future, so consider avoiding using them.\n",
      "2025-03-20 16:02:42.903003: I tensorflow/compiler/mlir/mlir_graph_optimization_pass.cc:176] None of the MLIR Optimization Passes are enabled (registered 2)\n",
      "2025-03-20 16:02:42.908681: I tensorflow/core/platform/profile_utils/cpu_utils.cc:114] CPU Frequency: 2400000000 Hz\n",
      "2025-03-20 16:04:18.123057: W tensorflow/core/framework/cpu_allocator_impl.cc:80] Allocation of 826097664 exceeds 10% of free system memory.\n"
     ]
    },
    {
     "name": "stdout",
     "output_type": "stream",
     "text": [
      "      1/Unknown - 111s 111s/step - loss: 0.9730 - accuracy: 0.2500"
     ]
    },
    {
     "name": "stderr",
     "output_type": "stream",
     "text": [
      "2025-03-20 16:05:42.798319: W tensorflow/core/framework/cpu_allocator_impl.cc:80] Allocation of 826097664 exceeds 10% of free system memory.\n"
     ]
    },
    {
     "name": "stdout",
     "output_type": "stream",
     "text": [
      "      2/Unknown - 196s 85s/step - loss: 1.5050 - accuracy: 0.3125 "
     ]
    },
    {
     "name": "stderr",
     "output_type": "stream",
     "text": [
      "2025-03-20 16:07:07.885472: W tensorflow/core/framework/cpu_allocator_impl.cc:80] Allocation of 826097664 exceeds 10% of free system memory.\n"
     ]
    },
    {
     "name": "stdout",
     "output_type": "stream",
     "text": [
      "      3/Unknown - 281s 85s/step - loss: 1.9128 - accuracy: 0.3750"
     ]
    },
    {
     "name": "stderr",
     "output_type": "stream",
     "text": [
      "2025-03-20 16:07:32.584446: W tensorflow/core/framework/cpu_allocator_impl.cc:80] Allocation of 826097664 exceeds 10% of free system memory.\n"
     ]
    },
    {
     "name": "stdout",
     "output_type": "stream",
     "text": [
      "4/4 [==============================] - 345s 78s/step - loss: 1.7792 - accuracy: 0.4231 - val_loss: 1.5993 - val_accuracy: 0.6154\n",
      "Entrenando con lambda=0.001 | Repeat 1 | Fold 2\n"
     ]
    },
    {
     "name": "stderr",
     "output_type": "stream",
     "text": [
      "2025-03-20 16:08:41.729093: I tensorflow/core/kernels/data/shuffle_dataset_op.cc:177] Filling up shuffle buffer (this may take a while): 21 of 26\n",
      "2025-03-20 16:08:43.721641: I tensorflow/core/kernels/data/shuffle_dataset_op.cc:230] Shuffle buffer filled.\n",
      "2025-03-20 16:10:03.147782: W tensorflow/core/framework/cpu_allocator_impl.cc:80] Allocation of 826097664 exceeds 10% of free system memory.\n"
     ]
    },
    {
     "name": "stdout",
     "output_type": "stream",
     "text": [
      "4/4 [==============================] - 335s 75s/step - loss: 2.2364 - accuracy: 0.3462 - val_loss: 1.0562 - val_accuracy: 0.4231\n",
      "Entrenando con lambda=0.0001 | Repeat 1 | Fold 1\n",
      "4/4 [==============================] - 338s 77s/step - loss: 0.7263 - accuracy: 0.5769 - val_loss: 0.6297 - val_accuracy: 0.6154\n",
      "Entrenando con lambda=0.0001 | Repeat 1 | Fold 2\n"
     ]
    },
    {
     "name": "stderr",
     "output_type": "stream",
     "text": [
      "2025-03-20 16:19:55.769752: I tensorflow/core/kernels/data/shuffle_dataset_op.cc:177] Filling up shuffle buffer (this may take a while): 19 of 26\n",
      "2025-03-20 16:19:58.757128: I tensorflow/core/kernels/data/shuffle_dataset_op.cc:230] Shuffle buffer filled.\n"
     ]
    },
    {
     "name": "stdout",
     "output_type": "stream",
     "text": [
      "4/4 [==============================] - 366s 83s/step - loss: 0.7404 - accuracy: 0.5769 - val_loss: 0.6370 - val_accuracy: 0.5769\n",
      "Entrenando con lambda=1e-05 | Repeat 1 | Fold 1\n"
     ]
    },
    {
     "name": "stderr",
     "output_type": "stream",
     "text": [
      "2025-03-20 16:26:04.975586: I tensorflow/core/kernels/data/shuffle_dataset_op.cc:177] Filling up shuffle buffer (this may take a while): 22 of 26\n",
      "2025-03-20 16:26:06.079215: I tensorflow/core/kernels/data/shuffle_dataset_op.cc:230] Shuffle buffer filled.\n"
     ]
    },
    {
     "name": "stdout",
     "output_type": "stream",
     "text": [
      "4/4 [==============================] - 378s 85s/step - loss: 0.7521 - accuracy: 0.5000 - val_loss: 0.7430 - val_accuracy: 0.5000\n",
      "Entrenando con lambda=1e-05 | Repeat 1 | Fold 2\n"
     ]
    },
    {
     "name": "stderr",
     "output_type": "stream",
     "text": [
      "2025-03-20 16:32:22.963779: I tensorflow/core/kernels/data/shuffle_dataset_op.cc:177] Filling up shuffle buffer (this may take a while): 16 of 26\n",
      "2025-03-20 16:32:27.885336: I tensorflow/core/kernels/data/shuffle_dataset_op.cc:230] Shuffle buffer filled.\n"
     ]
    },
    {
     "name": "stdout",
     "output_type": "stream",
     "text": [
      "4/4 [==============================] - 359s 78s/step - loss: 0.7112 - accuracy: 0.3846 - val_loss: 0.6567 - val_accuracy: 0.6154\n",
      "Entrenamiento finalizado.\n"
     ]
    }
   ],
   "source": [
    "\n",
    "for i, lambda_val in enumerate(lambdas):\n",
    "    for repeat, (train_idx, val_idx) in enumerate(rskf.split(X, y)):\n",
    "        fold = repeat % n_splits + 1\n",
    "        repeat_num = repeat // n_splits + 1\n",
    "\n",
    "        print(f\"Entrenando con lambda={lambda_val} | Repeat {repeat_num} | Fold {fold}\")\n",
    "\n",
    "        # Dividir los datos\n",
    "        train_data = train_df.iloc[train_idx]\n",
    "        val_data = train_df.iloc[val_idx]\n",
    "\n",
    "        # Crear DataModule con los datos divididos\n",
    "        data_module = VideoDataModule(train_data, val_data, test_df, batch_size, frame_size, num_frames)\n",
    "\n",
    "        # Obtener datasets\n",
    "        train_dataset = data_module.train_dataset()\n",
    "        val_dataset = data_module.val_dataset()\n",
    "\n",
    "        # Crear modelo adaptado a Keras\n",
    "        model = KerasI3D(num_classes=num_classes)\n",
    "\n",
    "        optimizer = tf.keras.optimizers.Adam(learning_rate=lambda_val)\n",
    "        loss_fn = tf.keras.losses.SparseCategoricalCrossentropy(from_logits=True)\n",
    "\n",
    "        model.compile(optimizer=optimizer, loss=loss_fn, metrics=[\"accuracy\"])\n",
    "\n",
    "        # Crear directorio de checkpoints\n",
    "        checkpoint_dir = f\"./checkpoints/lambda{i}_repeat{repeat_num}_fold{fold}\"\n",
    "        os.makedirs(checkpoint_dir, exist_ok=True)\n",
    "\n",
    "        # Callbacks\n",
    "        early_stop_callback = EarlyStopping(monitor=\"val_loss\", patience=3, mode=\"min\", restore_best_weights=True)\n",
    "        checkpoint_callback = ModelCheckpoint(\n",
    "            filepath=os.path.join(checkpoint_dir, \"model_best\"),\n",
    "            save_best_only=True,\n",
    "            monitor=\"val_loss\",\n",
    "            mode=\"min\",\n",
    "            save_weights_only=True  # ✅ Guardar solo pesos\n",
    "        )\n",
    "\n",
    "        # Entrenar el modelo\n",
    "        history = model.fit(\n",
    "            train_dataset,\n",
    "            validation_data=val_dataset,\n",
    "            epochs=1,\n",
    "            callbacks=[early_stop_callback, checkpoint_callback],\n",
    "            verbose=1\n",
    "        )\n",
    "\n",
    "        # Guardar los resultados\n",
    "        best_val_loss = min(history.history[\"val_loss\"])\n",
    "        best_val_acc = max(history.history[\"val_accuracy\"])\n",
    "        all_results.append({\n",
    "            \"lambda\": lambda_val,\n",
    "            \"repeat\": repeat_num,\n",
    "            \"fold\": fold,\n",
    "            \"best_val_loss\": best_val_loss,\n",
    "            \"best_val_acc\": best_val_acc,\n",
    "            \"best_checkpoint\": os.path.join(checkpoint_dir, \"model_best\")\n",
    "        })\n",
    "\n",
    "print(\"Entrenamiento finalizado.\")"
   ]
  },
  {
   "cell_type": "code",
   "execution_count": 16,
   "metadata": {},
   "outputs": [
    {
     "data": {
      "image/png": "[encoded data removed]",
      "text/plain": [
       "<Figure size 800x600 with 1 Axes>"
      ]
     },
     "metadata": {},
     "output_type": "display_data"
    },
    {
     "name": "stdout",
     "output_type": "stream",
     "text": [
      "    lambda  mean_total  mean_group1  mean_group2\n",
      "0  0.00100    0.519231     0.615385     0.423077\n",
      "1  0.00010    0.596154     0.615385     0.576923\n",
      "2  0.00001    0.557692     0.500000     0.615385\n",
      "El mejor valor de lambda es: 0.0001\n"
     ]
    }
   ],
   "source": [
    "import pandas as pd\n",
    "import matplotlib.pyplot as plt  # Corrección en la importación\n",
    "from scipy.stats import f_oneway\n",
    "import numpy as np  # Se importa numpy para manejo de NaN\n",
    "\n",
    "# Calcular métricas por lambda\n",
    "summary_results = []\n",
    "for lambda_val in lambdas:\n",
    "    lambda_results = [result for result in all_results if result[\"lambda\"] == lambda_val]\n",
    "    \n",
    "    group1_acc = [result[\"best_val_acc\"] for result in lambda_results if result[\"fold\"] < n_splits]\n",
    "    group2_acc = [result[\"best_val_acc\"] for result in lambda_results if result[\"fold\"] >= n_splits]\n",
    "    \n",
    "    mean_group1 = np.nanmean(group1_acc) if group1_acc else np.nan\n",
    "    mean_group2 = np.nanmean(group2_acc) if group2_acc else np.nan\n",
    "\n",
    "    # Evitar cálculos con NaN\n",
    "    if not np.isnan(mean_group1) and not np.isnan(mean_group2):\n",
    "        mean_total = (mean_group1 + mean_group2) / 2\n",
    "    else:\n",
    "        mean_total = np.nan\n",
    "    \n",
    "    summary_results.append({\n",
    "        \"lambda\": lambda_val,\n",
    "        \"mean_total\": mean_total,\n",
    "        \"mean_group1\": mean_group1,\n",
    "        \"mean_group2\": mean_group2,\n",
    "    })\n",
    "\n",
    "# Convertir resultados en DataFrame\n",
    "summary_df = pd.DataFrame(summary_results)\n",
    "\n",
    "# Crear el gráfico\n",
    "plt.figure(figsize=(8, 6))\n",
    "plt.plot(summary_df[\"lambda\"], summary_df[\"mean_total\"], marker=\"o\", linestyle=\"-\", color=\"b\", label=\"Mean Total\")\n",
    "\n",
    "# Configurar el eje x en escala logarítmica\n",
    "plt.xscale(\"log\")\n",
    "\n",
    "# Añadir etiquetas y título\n",
    "plt.xlabel(r\"$\\lambda$\", fontsize=12)\n",
    "plt.ylabel(\"Mean Total\", fontsize=12)\n",
    "plt.title(\"Lambda vs Mean Total\", fontsize=14)\n",
    "plt.legend()\n",
    "plt.grid(True, which=\"both\", linestyle=\"--\", linewidth=0.5)\n",
    "plt.tight_layout()\n",
    "\n",
    "# Mostrar el gráfico\n",
    "plt.show()\n",
    "\n",
    "# Mostrar tabla de resultados\n",
    "print(summary_df)\n",
    "\n",
    "# Determinar el mejor lambda basado en el mayor valor de mean_total\n",
    "if summary_df[\"mean_total\"].notna().sum() > 0:  # Verificar que hay valores válidos\n",
    "    best_lambda_row = summary_df.loc[summary_df[\"mean_total\"].idxmax()]\n",
    "    best_lambda = best_lambda_row[\"lambda\"]\n",
    "    print(f\"El mejor valor de lambda es: {best_lambda}\")\n",
    "else:\n",
    "    print(\"No hay valores válidos para seleccionar el mejor lambda.\")\n"
   ]
  },
  {
   "cell_type": "markdown",
   "metadata": {},
   "source": [
    "### Modelo con el mejor lambda"
   ]
  },
  {
   "cell_type": "code",
   "execution_count": 17,
   "metadata": {},
   "outputs": [],
   "source": [
    "# Crear el DataModule\n",
    "data_module = VideoDataModule(train_df, valid_df, test_df, batch_size=8)\n",
    "# Obtener los datasets\n",
    "train_dataset = data_module.train_dataset()\n",
    "val_dataset = data_module.val_dataset()\n",
    "test_dataset = data_module.test_dataset()\n",
    "predict_dataset = data_module.predict_dataset()\n",
    "\n",
    "model_1 = KerasI3D(num_classes=num_classes)\n",
    "optimizer = tf.keras.optimizers.Adam(learning_rate=best_lambda)\n",
    "loss_fn = tf.keras.losses.SparseCategoricalCrossentropy(from_logits=True)\n",
    "model_1.compile(optimizer=optimizer, loss=loss_fn, metrics=[\"accuracy\"])"
   ]
  },
  {
   "cell_type": "code",
   "execution_count": 18,
   "metadata": {},
   "outputs": [
    {
     "name": "stdout",
     "output_type": "stream",
     "text": [
      "Epoch 1/2\n"
     ]
    },
    {
     "name": "stderr",
     "output_type": "stream",
     "text": [
      "2025-03-20 16:42:48.364657: I tensorflow/core/kernels/data/shuffle_dataset_op.cc:177] Filling up shuffle buffer (this may take a while): 25 of 52\n",
      "2025-03-20 16:42:58.294731: I tensorflow/core/kernels/data/shuffle_dataset_op.cc:230] Shuffle buffer filled.\n"
     ]
    },
    {
     "name": "stdout",
     "output_type": "stream",
     "text": [
      "7/7 [==============================] - 610s 82s/step - loss: 0.6102 - accuracy: 0.6731 - val_loss: 1.0227 - val_accuracy: 0.3333\n",
      "Epoch 2/2\n"
     ]
    },
    {
     "name": "stderr",
     "output_type": "stream",
     "text": [
      "2025-03-20 16:52:44.528487: I tensorflow/core/kernels/data/shuffle_dataset_op.cc:177] Filling up shuffle buffer (this may take a while): 19 of 52\n",
      "2025-03-20 16:52:54.338784: I tensorflow/core/kernels/data/shuffle_dataset_op.cc:177] Filling up shuffle buffer (this may take a while): 39 of 52\n",
      "2025-03-20 16:52:58.520941: I tensorflow/core/kernels/data/shuffle_dataset_op.cc:230] Shuffle buffer filled.\n"
     ]
    },
    {
     "name": "stdout",
     "output_type": "stream",
     "text": [
      "7/7 [==============================] - 589s 80s/step - loss: 0.4320 - accuracy: 0.8269 - val_loss: 0.2512 - val_accuracy: 1.0000\n"
     ]
    }
   ],
   "source": [
    "epochs = 2  # Número de épocas\n",
    "\n",
    "checkpoint_dir = f\"checkpoints/i3d_model\"\n",
    "os.makedirs(checkpoint_dir, exist_ok=True)\n",
    "\n",
    "# Crear los callbacks\n",
    "early_stop_callback = EarlyStopping(\n",
    "    monitor=\"val_loss\", \n",
    "    patience=3, \n",
    "    mode=\"min\", \n",
    "    restore_best_weights=True\n",
    ")\n",
    "checkpoint_callback = ModelCheckpoint(\n",
    "    filepath=os.path.join(checkpoint_dir, \"model_best\"),\n",
    "    save_best_only=True,\n",
    "    monitor=\"val_loss\",\n",
    "    mode=\"min\",\n",
    "    save_weights_only=True\n",
    ")\n",
    "\n",
    "history = model_1.fit(\n",
    "    train_dataset,\n",
    "    validation_data=val_dataset,\n",
    "    epochs=epochs,\n",
    "    callbacks=[early_stop_callback, checkpoint_callback],\n",
    "    verbose=1\n",
    ")"
   ]
  },
  {
   "cell_type": "code",
   "execution_count": 19,
   "metadata": {},
   "outputs": [
    {
     "name": "stderr",
     "output_type": "stream",
     "text": [
      "2025-03-20 17:09:19.754391: I tensorflow/core/kernels/data/shuffle_dataset_op.cc:177] Filling up shuffle buffer (this may take a while): 15 of 52\n",
      "2025-03-20 17:09:29.854972: I tensorflow/core/kernels/data/shuffle_dataset_op.cc:177] Filling up shuffle buffer (this may take a while): 38 of 52\n",
      "2025-03-20 17:09:35.842145: I tensorflow/core/kernels/data/shuffle_dataset_op.cc:230] Shuffle buffer filled.\n"
     ]
    },
    {
     "name": "stdout",
     "output_type": "stream",
     "text": [
      "7/7 [==============================] - 95s 10s/step - loss: 0.3009 - accuracy: 0.9423\n"
     ]
    }
   ],
   "source": [
    "train_loss, train_acc = model_1.evaluate(train_dataset, verbose=1)"
   ]
  },
  {
   "cell_type": "code",
   "execution_count": 20,
   "metadata": {},
   "outputs": [
    {
     "name": "stdout",
     "output_type": "stream",
     "text": [
      "1/1 [==============================] - 12s 12s/step - loss: 0.2512 - accuracy: 1.0000\n"
     ]
    }
   ],
   "source": [
    "# Evaluar en el conjunto de validación\n",
    "val_loss, val_acc = model_1.evaluate(val_dataset, verbose=1)"
   ]
  },
  {
   "cell_type": "code",
   "execution_count": 21,
   "metadata": {},
   "outputs": [
    {
     "name": "stdout",
     "output_type": "stream",
     "text": [
      "1/1 [==============================] - 12s 12s/step - loss: 0.7376 - accuracy: 0.5714\n"
     ]
    }
   ],
   "source": [
    "# Evaluar en el conjunto de prueba\n",
    "test_loss, test_acc = model_1.evaluate(test_dataset, verbose=1)"
   ]
  },
  {
   "cell_type": "markdown",
   "metadata": {},
   "source": [
    "### Gráfica Epochs vs Loss"
   ]
  },
  {
   "cell_type": "code",
   "execution_count": 13,
   "metadata": {},
   "outputs": [
    {
     "ename": "NameError",
     "evalue": "name 'history' is not defined",
     "output_type": "error",
     "traceback": [
      "\u001b[0;31m---------------------------------------------------------------------------\u001b[0m",
      "\u001b[0;31mNameError\u001b[0m                                 Traceback (most recent call last)",
      "Cell \u001b[0;32mIn[13], line 4\u001b[0m\n\u001b[1;32m      1\u001b[0m \u001b[38;5;28;01mimport\u001b[39;00m\u001b[38;5;250m \u001b[39m\u001b[38;5;21;01mmatplotlib\u001b[39;00m\u001b[38;5;21;01m.\u001b[39;00m\u001b[38;5;21;01mpyplot\u001b[39;00m\u001b[38;5;250m \u001b[39m\u001b[38;5;28;01mas\u001b[39;00m\u001b[38;5;250m \u001b[39m\u001b[38;5;21;01mplt\u001b[39;00m\n\u001b[1;32m      3\u001b[0m \u001b[38;5;66;03m# Extraer la pérdida de entrenamiento y validación\u001b[39;00m\n\u001b[0;32m----> 4\u001b[0m loss \u001b[38;5;241m=\u001b[39m \u001b[43mhistory\u001b[49m\u001b[38;5;241m.\u001b[39mhistory[\u001b[38;5;124m'\u001b[39m\u001b[38;5;124mloss\u001b[39m\u001b[38;5;124m'\u001b[39m]\n\u001b[1;32m      5\u001b[0m val_loss \u001b[38;5;241m=\u001b[39m history\u001b[38;5;241m.\u001b[39mhistory[\u001b[38;5;124m'\u001b[39m\u001b[38;5;124mval_loss\u001b[39m\u001b[38;5;124m'\u001b[39m]\n\u001b[1;32m      7\u001b[0m \u001b[38;5;66;03m# Crear la gráfica\u001b[39;00m\n",
      "\u001b[0;31mNameError\u001b[0m: name 'history' is not defined"
     ]
    }
   ],
   "source": [
    "import matplotlib.pyplot as plt\n",
    "\n",
    "# Extraer la pérdida de entrenamiento y validación\n",
    "loss = history.history['loss']\n",
    "val_loss = history.history['val_loss']\n",
    "\n",
    "# Crear la gráfica\n",
    "plt.plot(range(1, len(loss) + 1), loss, label='Training Loss', marker='o')\n",
    "plt.plot(range(1, len(val_loss) + 1), val_loss, label='Validation Loss', marker='o')\n",
    "\n",
    "# Etiquetas y título\n",
    "plt.xlabel('Epochs')\n",
    "plt.ylabel('Loss')\n",
    "plt.title('Epochs vs Loss')\n",
    "plt.legend()\n",
    "plt.grid(True)\n",
    "plt.show()"
   ]
  },
  {
   "cell_type": "markdown",
   "metadata": {},
   "source": [
    "### Visualización del Modelo con TSNE"
   ]
  },
  {
   "cell_type": "code",
   "execution_count": 27,
   "metadata": {},
   "outputs": [
    {
     "name": "stdout",
     "output_type": "stream",
     "text": [
      "Num samples: 7, Usando perplexity=6\n"
     ]
    },
    {
     "data": {
      "image/png": "[encoded data removed]",
      "text/plain": [
       "<Figure size 1000x800 with 1 Axes>"
      ]
     },
     "metadata": {},
     "output_type": "display_data"
    }
   ],
   "source": [
    "from sklearn.manifold import TSNE\n",
    "\n",
    "# Obtener las representaciones del modelo\n",
    "x_test = model_1.predict(test_dataset)  # Extrae los embeddings\n",
    "y_test = np.concatenate([y for _, y in test_dataset])  # Obtener etiquetas reales\n",
    "\n",
    "# Verificar el número de muestras\n",
    "num_samples = x_test.shape[0]\n",
    "perplexity_value = min(10, num_samples - 1)  # Ajustar perplexity dinámicamente\n",
    "\n",
    "print(f\"Num samples: {num_samples}, Usando perplexity={perplexity_value}\")\n",
    "\n",
    "# Aplicar t-SNE con un perplexity válido\n",
    "tsne = TSNE(n_components=2, random_state=42, perplexity=perplexity_value)\n",
    "x_test_tsne = tsne.fit_transform(x_test)\n",
    "\n",
    "# Visualización\n",
    "plt.figure(figsize=(10, 8))\n",
    "for i in np.unique(y_test):\n",
    "    idx = np.where(y_test == i)[0]\n",
    "    plt.scatter(x_test_tsne[idx, 0], x_test_tsne[idx, 1], label=f\"Clase {i}\")\n",
    "\n",
    "plt.title(\"Visualización t-SNE de los embeddings del conjunto de prueba\")\n",
    "plt.xlabel(\"Componente t-SNE 1\")\n",
    "plt.ylabel(\"Componente t-SNE 2\")\n",
    "plt.legend(title=\"Clases\")\n",
    "plt.grid(True)\n",
    "plt.show()"
   ]
  },
  {
   "cell_type": "markdown",
   "metadata": {},
   "source": [
    "## I3D + ConvLSTM2D"
   ]
  },
  {
   "cell_type": "code",
   "execution_count": 10,
   "metadata": {},
   "outputs": [],
   "source": [
    "from tensorflow.keras.layers import ConvLSTM2D, TimeDistributed, Dense, Flatten\n",
    "from tensorflow.keras import Model\n",
    "\n",
    "class I3D_ConvLSTM(Model):\n",
    "    def __init__(self, num_classes, endpoint=\"Mixed_5c\"):\n",
    "        super(I3D_ConvLSTM, self).__init__()\n",
    "        \n",
    "        # Modelo base Inception I3D\n",
    "        self.i3d = InceptionI3d(num_classes=num_classes, is_training=True, final_endpoint=endpoint)\n",
    "        \n",
    "        # Capa ConvLSTM2D para modelar la información temporal\n",
    "        self.conv_lstm = ConvLSTM2D(filters=64, kernel_size=(3, 3), padding=\"same\", return_sequences=False)\n",
    "        \n",
    "        # Capa completamente conectada final\n",
    "        self.fc = Dense(num_classes, activation=\"softmax\")\n",
    "\n",
    "    def call(self, inputs, training=False):\n",
    "        \"\"\"\n",
    "        Entrada esperada: (batch_size, num_frames, height, width, channels)\n",
    "        \"\"\"\n",
    "        # Extraer características con I3D\n",
    "        features, _ = self.i3d(inputs)  # (batch_size, num_frames, 7, 7, channels)\n",
    "\n",
    "        # Aplicar ConvLSTM2D sobre la dimensión temporal\n",
    "        lstm_out = self.conv_lstm(features)  # (batch_size, 7, 7, 64)\n",
    "\n",
    "        # Aplanar y pasar por la capa de salida\n",
    "        x = Flatten()(lstm_out)\n",
    "        logits = self.fc(x)\n",
    "\n",
    "        return logits"
   ]
  },
  {
   "cell_type": "code",
   "execution_count": 11,
   "metadata": {},
   "outputs": [
    {
     "name": "stderr",
     "output_type": "stream",
     "text": [
      "2025-03-21 04:57:52.748707: W tensorflow/stream_executor/platform/default/dso_loader.cc:64] Could not load dynamic library 'libcuda.so.1'; dlerror: libcuda.so.1: cannot open shared object file: No such file or directory; LD_LIBRARY_PATH: /system/conda/miniconda3/envs/cloudspace/lib/python3.9/site-packages/cv2/../../lib64:\n",
      "2025-03-21 04:57:52.749002: W tensorflow/stream_executor/cuda/cuda_driver.cc:326] failed call to cuInit: UNKNOWN ERROR (303)\n",
      "2025-03-21 04:57:52.749116: I tensorflow/stream_executor/cuda/cuda_diagnostics.cc:156] kernel driver does not appear to be running on this host (ip-10-192-10-60): /proc/driver/nvidia/version does not exist\n",
      "2025-03-21 04:57:52.756721: I tensorflow/core/platform/cpu_feature_guard.cc:142] This TensorFlow binary is optimized with oneAPI Deep Neural Network Library (oneDNN) to use the following CPU instructions in performance-critical operations:  AVX2 AVX512F FMA\n",
      "To enable them in other operations, rebuild TensorFlow with the appropriate compiler flags.\n"
     ]
    }
   ],
   "source": [
    "# Crear el DataModule\n",
    "data_module = VideoDataModule(train_df, valid_df, test_df, batch_size=8)\n",
    "# Obtener los datasets\n",
    "train_dataset = data_module.train_dataset()\n",
    "val_dataset = data_module.val_dataset()\n",
    "test_dataset = data_module.test_dataset()\n",
    "predict_dataset = data_module.predict_dataset()"
   ]
  },
  {
   "cell_type": "markdown",
   "metadata": {},
   "source": [
    "### Implementación de Repeated K-Fold Cross Validation"
   ]
  },
  {
   "cell_type": "code",
   "execution_count": 12,
   "metadata": {},
   "outputs": [],
   "source": [
    "from sklearn.model_selection import RepeatedStratifiedKFold\n",
    "from tensorflow.keras.callbacks import EarlyStopping, ModelCheckpoint\n",
    "\n",
    "# Definir los parámetros\n",
    "num_classes = 2\n",
    "n_splits = 2 #5\n",
    "n_repeats = 1 #2\n",
    "batch_size = 8\n",
    "frame_size = (224, 224)\n",
    "num_frames = 32\n",
    "\n",
    "# Configuración de Repeated K-Fold Cross-Validation\n",
    "rskf = RepeatedStratifiedKFold(n_splits=n_splits, n_repeats=n_repeats, random_state=42)\n",
    "\n",
    "# Lista de resultados\n",
    "all_results = []\n",
    "lambdas = [1e-3, 1e-4, 1e-5]\n",
    "\n",
    "\n",
    "X = train_df.drop(columns=[\"is_crime\"]).values  # Características\n",
    "y = train_df[\"is_crime\"].values  # Etiquetas"
   ]
  },
  {
   "cell_type": "code",
   "execution_count": 13,
   "metadata": {},
   "outputs": [
    {
     "name": "stdout",
     "output_type": "stream",
     "text": [
      "Entrenando con lambda=0.001 | Repeat 1 | Fold 1\n"
     ]
    },
    {
     "name": "stderr",
     "output_type": "stream",
     "text": [
      "/home/zeus/miniconda3/envs/cloudspace/lib/python3.9/site-packages/tensorflow/python/keras/backend.py:4929: UserWarning: \"`sparse_categorical_crossentropy` received `from_logits=True`, but the `output` argument was produced by a sigmoid or softmax activation and thus does not represent logits. Was this intended?\"\n",
      "  warnings.warn(\n",
      "2025-03-21 04:58:04.734684: W tensorflow/python/util/util.cc:348] Sets are not currently considered sequences, but this may change in the future, so consider avoiding using them.\n",
      "2025-03-21 04:58:06.913103: I tensorflow/compiler/mlir/mlir_graph_optimization_pass.cc:176] None of the MLIR Optimization Passes are enabled (registered 2)\n",
      "2025-03-21 04:58:06.922378: I tensorflow/core/platform/profile_utils/cpu_utils.cc:114] CPU Frequency: 2400000000 Hz\n",
      "2025-03-21 04:58:13.643970: W tensorflow/core/framework/cpu_allocator_impl.cc:80] Allocation of 19267584 exceeds 10% of free system memory.\n",
      "2025-03-21 04:58:13.813969: W tensorflow/core/framework/cpu_allocator_impl.cc:80] Allocation of 19267584 exceeds 10% of free system memory.\n",
      "2025-03-21 04:58:14.264533: W tensorflow/core/framework/cpu_allocator_impl.cc:80] Allocation of 19267584 exceeds 10% of free system memory.\n",
      "2025-03-21 04:58:14.894018: W tensorflow/core/framework/cpu_allocator_impl.cc:80] Allocation of 19267584 exceeds 10% of free system memory.\n",
      "2025-03-21 04:58:15.009434: W tensorflow/core/framework/cpu_allocator_impl.cc:80] Allocation of 19267584 exceeds 10% of free system memory.\n"
     ]
    },
    {
     "name": "stdout",
     "output_type": "stream",
     "text": [
      "4/4 [==============================] - 326s 74s/step - loss: 1.4920 - accuracy: 0.3462 - val_loss: 0.6525 - val_accuracy: 0.6538\n",
      "Entrenando con lambda=0.001 | Repeat 1 | Fold 2\n"
     ]
    },
    {
     "name": "stderr",
     "output_type": "stream",
     "text": [
      "2025-03-21 05:03:50.334420: I tensorflow/core/kernels/data/shuffle_dataset_op.cc:177] Filling up shuffle buffer (this may take a while): 23 of 26\n",
      "2025-03-21 05:03:51.475794: I tensorflow/core/kernels/data/shuffle_dataset_op.cc:230] Shuffle buffer filled.\n"
     ]
    },
    {
     "name": "stdout",
     "output_type": "stream",
     "text": [
      "4/4 [==============================] - 320s 71s/step - loss: 0.9149 - accuracy: 0.6154 - val_loss: 1.6797 - val_accuracy: 0.5000\n",
      "Entrenando con lambda=0.0001 | Repeat 1 | Fold 1\n"
     ]
    },
    {
     "name": "stderr",
     "output_type": "stream",
     "text": [
      "/home/zeus/miniconda3/envs/cloudspace/lib/python3.9/site-packages/tensorflow/python/keras/backend.py:4929: UserWarning: \"`sparse_categorical_crossentropy` received `from_logits=True`, but the `output` argument was produced by a sigmoid or softmax activation and thus does not represent logits. Was this intended?\"\n",
      "  warnings.warn(\n"
     ]
    },
    {
     "name": "stdout",
     "output_type": "stream",
     "text": [
      "4/4 [==============================] - 319s 72s/step - loss: 0.8746 - accuracy: 0.5385 - val_loss: 0.7869 - val_accuracy: 0.4615\n",
      "Entrenando con lambda=0.0001 | Repeat 1 | Fold 2\n"
     ]
    },
    {
     "name": "stderr",
     "output_type": "stream",
     "text": [
      "2025-03-21 05:14:28.910579: I tensorflow/core/kernels/data/shuffle_dataset_op.cc:177] Filling up shuffle buffer (this may take a while): 22 of 26\n",
      "2025-03-21 05:14:30.694972: I tensorflow/core/kernels/data/shuffle_dataset_op.cc:230] Shuffle buffer filled.\n"
     ]
    },
    {
     "name": "stdout",
     "output_type": "stream",
     "text": [
      "4/4 [==============================] - 319s 71s/step - loss: 0.7049 - accuracy: 0.5769 - val_loss: 0.9393 - val_accuracy: 0.5000\n",
      "Entrenando con lambda=1e-05 | Repeat 1 | Fold 1\n"
     ]
    },
    {
     "name": "stderr",
     "output_type": "stream",
     "text": [
      "/home/zeus/miniconda3/envs/cloudspace/lib/python3.9/site-packages/tensorflow/python/keras/backend.py:4929: UserWarning: \"`sparse_categorical_crossentropy` received `from_logits=True`, but the `output` argument was produced by a sigmoid or softmax activation and thus does not represent logits. Was this intended?\"\n",
      "  warnings.warn(\n"
     ]
    },
    {
     "name": "stdout",
     "output_type": "stream",
     "text": [
      "4/4 [==============================] - 318s 71s/step - loss: 0.7595 - accuracy: 0.3462 - val_loss: 0.7140 - val_accuracy: 0.5769\n",
      "Entrenando con lambda=1e-05 | Repeat 1 | Fold 2\n"
     ]
    },
    {
     "name": "stderr",
     "output_type": "stream",
     "text": [
      "2025-03-21 05:25:07.003026: I tensorflow/core/kernels/data/shuffle_dataset_op.cc:177] Filling up shuffle buffer (this may take a while): 19 of 26\n",
      "2025-03-21 05:25:09.490590: I tensorflow/core/kernels/data/shuffle_dataset_op.cc:230] Shuffle buffer filled.\n"
     ]
    },
    {
     "name": "stdout",
     "output_type": "stream",
     "text": [
      "4/4 [==============================] - 320s 71s/step - loss: 0.7643 - accuracy: 0.4231 - val_loss: 0.7026 - val_accuracy: 0.6154\n",
      "Entrenamiento finalizado.\n"
     ]
    }
   ],
   "source": [
    "\n",
    "for i, lambda_val in enumerate(lambdas):\n",
    "    for repeat, (train_idx, val_idx) in enumerate(rskf.split(X, y)):\n",
    "        fold = repeat % n_splits + 1\n",
    "        repeat_num = repeat // n_splits + 1\n",
    "\n",
    "        print(f\"Entrenando con lambda={lambda_val} | Repeat {repeat_num} | Fold {fold}\")\n",
    "\n",
    "        # Dividir los datos\n",
    "        train_data = train_df.iloc[train_idx]\n",
    "        val_data = train_df.iloc[val_idx]\n",
    "\n",
    "        # Crear DataModule con los datos divididos\n",
    "        data_module = VideoDataModule(train_data, val_data, test_df, batch_size, frame_size, num_frames)\n",
    "\n",
    "        # Obtener datasets\n",
    "        train_dataset = data_module.train_dataset()\n",
    "        val_dataset = data_module.val_dataset()\n",
    "\n",
    "        # Crear modelo adaptado a Keras\n",
    "        model = I3D_ConvLSTM(num_classes=num_classes)\n",
    "\n",
    "        optimizer = tf.keras.optimizers.Adam(learning_rate=lambda_val)\n",
    "        loss_fn = tf.keras.losses.SparseCategoricalCrossentropy(from_logits=True)\n",
    "\n",
    "        model.compile(optimizer=optimizer, loss=loss_fn, metrics=[\"accuracy\"])\n",
    "\n",
    "        # Crear directorio de checkpoints\n",
    "        checkpoint_dir = f\"./checkpoints/hibrid_lambda{i}_repeat{repeat_num}_fold{fold}\"\n",
    "        os.makedirs(checkpoint_dir, exist_ok=True)\n",
    "\n",
    "        # Callbacks\n",
    "        early_stop_callback = EarlyStopping(monitor=\"val_loss\", patience=3, mode=\"min\", restore_best_weights=True)\n",
    "        checkpoint_callback = ModelCheckpoint(\n",
    "            filepath=os.path.join(checkpoint_dir, \"model_best\"),\n",
    "            save_best_only=True,\n",
    "            monitor=\"val_loss\",\n",
    "            mode=\"min\",\n",
    "            save_weights_only=True  # ✅ Guardar solo pesos\n",
    "        )\n",
    "\n",
    "        # Entrenar el modelo\n",
    "        history = model.fit(\n",
    "            train_dataset,\n",
    "            validation_data=val_dataset,\n",
    "            epochs=1,\n",
    "            callbacks=[early_stop_callback, checkpoint_callback],\n",
    "            verbose=1\n",
    "        )\n",
    "\n",
    "        # Guardar los resultados\n",
    "        best_val_loss = min(history.history[\"val_loss\"])\n",
    "        best_val_acc = max(history.history[\"val_accuracy\"])\n",
    "        all_results.append({\n",
    "            \"lambda\": lambda_val,\n",
    "            \"repeat\": repeat_num,\n",
    "            \"fold\": fold,\n",
    "            \"best_val_loss\": best_val_loss,\n",
    "            \"best_val_acc\": best_val_acc,\n",
    "            \"best_checkpoint\": os.path.join(checkpoint_dir, \"model_best\")\n",
    "        })\n",
    "\n",
    "print(\"Entrenamiento finalizado.\")"
   ]
  },
  {
   "cell_type": "code",
   "execution_count": 14,
   "metadata": {},
   "outputs": [
    {
     "data": {
      "image/png": "[encoded data removed]",
      "text/plain": [
       "<Figure size 800x600 with 1 Axes>"
      ]
     },
     "metadata": {},
     "output_type": "display_data"
    },
    {
     "name": "stdout",
     "output_type": "stream",
     "text": [
      "    lambda  mean_total  mean_group1  mean_group2\n",
      "0  0.00100    0.576923     0.653846     0.500000\n",
      "1  0.00010    0.480769     0.461538     0.500000\n",
      "2  0.00001    0.596154     0.576923     0.615385\n",
      "El mejor valor de lambda es: 1e-05\n"
     ]
    }
   ],
   "source": [
    "import pandas as pd\n",
    "import matplotlib.pyplot as plt  # Corrección en la importación\n",
    "from scipy.stats import f_oneway\n",
    "import numpy as np  # Se importa numpy para manejo de NaN\n",
    "\n",
    "# Calcular métricas por lambda\n",
    "summary_results = []\n",
    "for lambda_val in lambdas:\n",
    "    lambda_results = [result for result in all_results if result[\"lambda\"] == lambda_val]\n",
    "    \n",
    "    group1_acc = [result[\"best_val_acc\"] for result in lambda_results if result[\"fold\"] < n_splits]\n",
    "    group2_acc = [result[\"best_val_acc\"] for result in lambda_results if result[\"fold\"] >= n_splits]\n",
    "    \n",
    "    mean_group1 = np.nanmean(group1_acc) if group1_acc else np.nan\n",
    "    mean_group2 = np.nanmean(group2_acc) if group2_acc else np.nan\n",
    "\n",
    "    # Evitar cálculos con NaN\n",
    "    if not np.isnan(mean_group1) and not np.isnan(mean_group2):\n",
    "        mean_total = (mean_group1 + mean_group2) / 2\n",
    "    else:\n",
    "        mean_total = np.nan\n",
    "    \n",
    "    summary_results.append({\n",
    "        \"lambda\": lambda_val,\n",
    "        \"mean_total\": mean_total,\n",
    "        \"mean_group1\": mean_group1,\n",
    "        \"mean_group2\": mean_group2,\n",
    "    })\n",
    "\n",
    "# Convertir resultados en DataFrame\n",
    "summary_df = pd.DataFrame(summary_results)\n",
    "\n",
    "# Crear el gráfico\n",
    "plt.figure(figsize=(8, 6))\n",
    "plt.plot(summary_df[\"lambda\"], summary_df[\"mean_total\"], marker=\"o\", linestyle=\"-\", color=\"b\", label=\"Mean Total\")\n",
    "\n",
    "# Configurar el eje x en escala logarítmica\n",
    "plt.xscale(\"log\")\n",
    "\n",
    "# Añadir etiquetas y título\n",
    "plt.xlabel(r\"$\\lambda$\", fontsize=12)\n",
    "plt.ylabel(\"Mean Total\", fontsize=12)\n",
    "plt.title(\"Lambda vs Mean Total\", fontsize=14)\n",
    "plt.legend()\n",
    "plt.grid(True, which=\"both\", linestyle=\"--\", linewidth=0.5)\n",
    "plt.tight_layout()\n",
    "\n",
    "# Mostrar el gráfico\n",
    "plt.show()\n",
    "\n",
    "# Mostrar tabla de resultados\n",
    "print(summary_df)\n",
    "\n",
    "# Determinar el mejor lambda basado en el mayor valor de mean_total\n",
    "if summary_df[\"mean_total\"].notna().sum() > 0:  # Verificar que hay valores válidos\n",
    "    best_lambda_row = summary_df.loc[summary_df[\"mean_total\"].idxmax()]\n",
    "    best_lambda = best_lambda_row[\"lambda\"]\n",
    "    print(f\"El mejor valor de lambda es: {best_lambda}\")\n",
    "else:\n",
    "    print(\"No hay valores válidos para seleccionar el mejor lambda.\")\n"
   ]
  },
  {
   "cell_type": "markdown",
   "metadata": {},
   "source": [
    "### Modelo con el mejor lambda"
   ]
  },
  {
   "cell_type": "code",
   "execution_count": 15,
   "metadata": {},
   "outputs": [],
   "source": [
    "# Crear el DataModule\n",
    "data_module = VideoDataModule(train_df, valid_df, test_df, batch_size=8)\n",
    "# Obtener los datasets\n",
    "train_dataset = data_module.train_dataset()\n",
    "val_dataset = data_module.val_dataset()\n",
    "test_dataset = data_module.test_dataset()\n",
    "predict_dataset = data_module.predict_dataset()\n",
    "\n",
    "model_2 = I3D_ConvLSTM(num_classes=num_classes)\n",
    "optimizer = tf.keras.optimizers.Adam(learning_rate=best_lambda)\n",
    "loss_fn = tf.keras.losses.SparseCategoricalCrossentropy(from_logits=True)\n",
    "model_2.compile(optimizer=optimizer, loss=loss_fn, metrics=[\"accuracy\"])"
   ]
  },
  {
   "cell_type": "code",
   "execution_count": 16,
   "metadata": {},
   "outputs": [
    {
     "name": "stdout",
     "output_type": "stream",
     "text": [
      "Epoch 1/2\n"
     ]
    },
    {
     "name": "stderr",
     "output_type": "stream",
     "text": [
      "/home/zeus/miniconda3/envs/cloudspace/lib/python3.9/site-packages/tensorflow/python/keras/backend.py:4929: UserWarning: \"`sparse_categorical_crossentropy` received `from_logits=True`, but the `output` argument was produced by a sigmoid or softmax activation and thus does not represent logits. Was this intended?\"\n",
      "  warnings.warn(\n",
      "2025-03-21 05:30:46.664167: I tensorflow/core/kernels/data/shuffle_dataset_op.cc:177] Filling up shuffle buffer (this may take a while): 25 of 52\n",
      "2025-03-21 05:30:56.297941: I tensorflow/core/kernels/data/shuffle_dataset_op.cc:230] Shuffle buffer filled.\n"
     ]
    },
    {
     "name": "stdout",
     "output_type": "stream",
     "text": [
      "7/7 [==============================] - 562s 75s/step - loss: 0.7074 - accuracy: 0.5000 - val_loss: 0.8241 - val_accuracy: 0.1667\n",
      "Epoch 2/2\n"
     ]
    },
    {
     "name": "stderr",
     "output_type": "stream",
     "text": [
      "2025-03-21 05:39:55.759927: I tensorflow/core/kernels/data/shuffle_dataset_op.cc:177] Filling up shuffle buffer (this may take a while): 20 of 52\n",
      "2025-03-21 05:40:05.209066: I tensorflow/core/kernels/data/shuffle_dataset_op.cc:177] Filling up shuffle buffer (this may take a while): 43 of 52\n",
      "2025-03-21 05:40:08.762031: I tensorflow/core/kernels/data/shuffle_dataset_op.cc:230] Shuffle buffer filled.\n"
     ]
    },
    {
     "name": "stdout",
     "output_type": "stream",
     "text": [
      "7/7 [==============================] - 547s 74s/step - loss: 0.5537 - accuracy: 0.7308 - val_loss: 0.9222 - val_accuracy: 0.1667\n"
     ]
    }
   ],
   "source": [
    "epochs = 2  # Número de épocas\n",
    "\n",
    "checkpoint_dir = f\"checkpoints/i3d_conv_model\"\n",
    "os.makedirs(checkpoint_dir, exist_ok=True)\n",
    "\n",
    "# Crear los callbacks\n",
    "early_stop_callback = EarlyStopping(\n",
    "    monitor=\"val_loss\", \n",
    "    patience=3, \n",
    "    mode=\"min\", \n",
    "    restore_best_weights=True\n",
    ")\n",
    "checkpoint_callback = ModelCheckpoint(\n",
    "    filepath=os.path.join(checkpoint_dir, \"model_best\"),\n",
    "    save_best_only=True,\n",
    "    monitor=\"val_loss\",\n",
    "    mode=\"min\",\n",
    "    save_weights_only=True\n",
    ")\n",
    "\n",
    "history = model_2.fit(\n",
    "    train_dataset,\n",
    "    validation_data=val_dataset,\n",
    "    epochs=epochs,\n",
    "    callbacks=[early_stop_callback, checkpoint_callback],\n",
    "    verbose=1\n",
    ")"
   ]
  },
  {
   "cell_type": "code",
   "execution_count": 17,
   "metadata": {},
   "outputs": [
    {
     "name": "stderr",
     "output_type": "stream",
     "text": [
      "2025-03-21 05:49:11.300925: I tensorflow/core/kernels/data/shuffle_dataset_op.cc:177] Filling up shuffle buffer (this may take a while): 20 of 52\n",
      "2025-03-21 05:49:21.007104: I tensorflow/core/kernels/data/shuffle_dataset_op.cc:177] Filling up shuffle buffer (this may take a while): 48 of 52\n",
      "2025-03-21 05:49:22.504996: I tensorflow/core/kernels/data/shuffle_dataset_op.cc:230] Shuffle buffer filled.\n"
     ]
    },
    {
     "name": "stdout",
     "output_type": "stream",
     "text": [
      "7/7 [==============================] - 79s 8s/step - loss: 0.5135 - accuracy: 0.7885\n"
     ]
    }
   ],
   "source": [
    "train_loss, train_acc = model_2.evaluate(train_dataset, verbose=1)"
   ]
  },
  {
   "cell_type": "code",
   "execution_count": 18,
   "metadata": {},
   "outputs": [
    {
     "name": "stdout",
     "output_type": "stream",
     "text": [
      "1/1 [==============================] - 10s 10s/step - loss: 0.9222 - accuracy: 0.1667\n"
     ]
    }
   ],
   "source": [
    "# Evaluar en el conjunto de validación\n",
    "val_loss, val_acc = model_2.evaluate(val_dataset, verbose=1)"
   ]
  },
  {
   "cell_type": "code",
   "execution_count": 19,
   "metadata": {},
   "outputs": [
    {
     "name": "stdout",
     "output_type": "stream",
     "text": [
      "1/1 [==============================] - 10s 10s/step - loss: 0.6890 - accuracy: 0.5714\n"
     ]
    }
   ],
   "source": [
    "# Evaluar en el conjunto de prueba\n",
    "test_loss, test_acc = model_2.evaluate(test_dataset, verbose=1)"
   ]
  },
  {
   "cell_type": "markdown",
   "metadata": {},
   "source": [
    "### Gráfica Epochs vs Loss"
   ]
  },
  {
   "cell_type": "code",
   "execution_count": 20,
   "metadata": {},
   "outputs": [
    {
     "data": {
      "image/png": "[encoded data removed]",
      "text/plain": [
       "<Figure size 640x480 with 1 Axes>"
      ]
     },
     "metadata": {},
     "output_type": "display_data"
    }
   ],
   "source": [
    "import matplotlib.pyplot as plt\n",
    "\n",
    "# Extraer la pérdida de entrenamiento y validación\n",
    "loss = history.history['loss']\n",
    "val_loss = history.history['val_loss']\n",
    "\n",
    "# Crear la gráfica\n",
    "plt.plot(range(1, len(loss) + 1), loss, label='Training Loss', marker='o')\n",
    "plt.plot(range(1, len(val_loss) + 1), val_loss, label='Validation Loss', marker='o')\n",
    "\n",
    "# Etiquetas y título\n",
    "plt.xlabel('Epochs')\n",
    "plt.ylabel('Loss')\n",
    "plt.title('Epochs vs Loss')\n",
    "plt.legend()\n",
    "plt.grid(True)\n",
    "plt.show()"
   ]
  },
  {
   "cell_type": "markdown",
   "metadata": {},
   "source": [
    "### Visualización del Modelo con TSNE"
   ]
  },
  {
   "cell_type": "code",
   "execution_count": 21,
   "metadata": {},
   "outputs": [
    {
     "name": "stdout",
     "output_type": "stream",
     "text": [
      "Num samples: 7, Usando perplexity=6\n"
     ]
    },
    {
     "data": {
      "image/png": "[encoded data removed]",
      "text/plain": [
       "<Figure size 1000x800 with 1 Axes>"
      ]
     },
     "metadata": {},
     "output_type": "display_data"
    }
   ],
   "source": [
    "from sklearn.manifold import TSNE\n",
    "\n",
    "# Obtener las representaciones del modelo\n",
    "x_test = model_2.predict(test_dataset)  # Extrae los embeddings\n",
    "y_test = np.concatenate([y for _, y in test_dataset])  # Obtener etiquetas reales\n",
    "\n",
    "# Verificar el número de muestras\n",
    "num_samples = x_test.shape[0]\n",
    "perplexity_value = min(10, num_samples - 1)  # Ajustar perplexity dinámicamente\n",
    "\n",
    "print(f\"Num samples: {num_samples}, Usando perplexity={perplexity_value}\")\n",
    "\n",
    "# Aplicar t-SNE con un perplexity válido\n",
    "tsne = TSNE(n_components=2, random_state=42, perplexity=perplexity_value)\n",
    "x_test_tsne = tsne.fit_transform(x_test)\n",
    "\n",
    "# Visualización\n",
    "plt.figure(figsize=(10, 8))\n",
    "for i in np.unique(y_test):\n",
    "    idx = np.where(y_test == i)[0]\n",
    "    plt.scatter(x_test_tsne[idx, 0], x_test_tsne[idx, 1], label=f\"Clase {i}\")\n",
    "\n",
    "plt.title(\"Visualización t-SNE de los embeddings del conjunto de prueba\")\n",
    "plt.xlabel(\"Componente t-SNE 1\")\n",
    "plt.ylabel(\"Componente t-SNE 2\")\n",
    "plt.legend(title=\"Clases\")\n",
    "plt.grid(True)\n",
    "plt.show()"
   ]
  },
  {
   "cell_type": "markdown",
   "metadata": {},
   "source": [
    "## Comparación de modelos"
   ]
  },
  {
   "cell_type": "code",
   "execution_count": null,
   "metadata": {},
   "outputs": [],
   "source": [
    "# Evaluar los modelos en el conjunto de prueba\n",
    "loss_1, acc_1 = model_1.evaluate(X_test, y_test)\n",
    "loss_2, acc_2 = model_2.evaluate(X_test, y_test)\n",
    "\n",
    "print(f\"KerasI3D - Loss: {loss_1}, Accuracy: {acc_1}\")\n",
    "print(f\"I3D_ConvLSTM - Loss: {loss_2}, Accuracy: {acc_2}\")"
   ]
  },
  {
   "cell_type": "code",
   "execution_count": null,
   "metadata": {},
   "outputs": [],
   "source": []
  }
 ],
 "metadata": {
  "kernelspec": {
   "display_name": "cloudspace",
   "language": "python",
   "name": "python3"
  },
  "language_info": {
   "codemirror_mode": {
    "name": "ipython",
    "version": 3
   },
   "file_extension": ".py",
   "mimetype": "text/x-python",
   "name": "python",
   "nbconvert_exporter": "python",
   "pygments_lexer": "ipython3",
   "version": "3.9.7"
  }
 },
 "nbformat": 4,
 "nbformat_minor": 2
}
