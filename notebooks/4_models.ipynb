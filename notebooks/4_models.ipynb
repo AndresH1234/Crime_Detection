{
 "cells": [
  {
   "cell_type": "markdown",
   "metadata": {},
   "source": [
    "# Models Creation"
   ]
  },
  {
   "cell_type": "code",
   "execution_count": 24,
   "metadata": {},
   "outputs": [],
   "source": [
    "import cv2\n",
    "import numpy as np\n",
    "import os\n",
    "import sys\n",
    "import pandas as pd\n",
    "from sklearn.model_selection import train_test_split"
   ]
  },
  {
   "cell_type": "code",
   "execution_count": 25,
   "metadata": {},
   "outputs": [
    {
     "name": "stdout",
     "output_type": "stream",
     "text": [
      "3.9.21 | packaged by conda-forge | (main, Dec  5 2024, 13:51:40) \n",
      "[GCC 13.3.0]\n"
     ]
    }
   ],
   "source": [
    "print(sys.version)"
   ]
  },
  {
   "cell_type": "code",
   "execution_count": 26,
   "metadata": {},
   "outputs": [
    {
     "name": "stdout",
     "output_type": "stream",
     "text": [
      "Name: tensorflow\n",
      "Version: 2.5.0\n",
      "Summary: TensorFlow is an open source machine learning framework for everyone.\n",
      "Home-page: https://www.tensorflow.org/\n",
      "Author: Google Inc.\n",
      "Author-email: packages@tensorflow.org\n",
      "License: Apache 2.0\n",
      "Location: /home/aherrerag/anaconda3/envs/proyecto_i3d/lib/python3.9/site-packages\n",
      "Requires: absl-py, astunparse, flatbuffers, gast, google-pasta, grpcio, h5py, keras-nightly, keras-preprocessing, numpy, opt-einsum, protobuf, six, tensorboard, tensorflow-estimator, termcolor, typing-extensions, wheel, wrapt\n",
      "Required-by: \n"
     ]
    }
   ],
   "source": [
    "!pip show tensorflow"
   ]
  },
  {
   "cell_type": "code",
   "execution_count": 27,
   "metadata": {},
   "outputs": [],
   "source": [
    "import tensorflow as tf"
   ]
  },
  {
   "cell_type": "code",
   "execution_count": 28,
   "metadata": {},
   "outputs": [],
   "source": [
    "gpus = tf.config.experimental.list_physical_devices('GPU')\n",
    "if gpus:\n",
    "    try:\n",
    "        # Configurar el uso de 40 GB en la GPU A100 sin set_memory_growth\n",
    "        tf.config.experimental.set_virtual_device_configuration(\n",
    "            gpus[0],\n",
    "            [tf.config.experimental.VirtualDeviceConfiguration(memory_limit=40960)]\n",
    "        )\n",
    "    except RuntimeError as e:\n",
    "        print(e)"
   ]
  },
  {
   "cell_type": "code",
   "execution_count": 29,
   "metadata": {},
   "outputs": [],
   "source": [
    "# Agrega el path al directorio raíz del proyecto\n",
    "sys.path.append(os.path.abspath(\"..\"))\n",
    "from models.i3d import InceptionI3d"
   ]
  },
  {
   "cell_type": "code",
   "execution_count": 30,
   "metadata": {},
   "outputs": [],
   "source": [
    "data = pd.read_csv(\"../data/ml/test.csv\")"
   ]
  },
  {
   "cell_type": "code",
   "execution_count": 31,
   "metadata": {},
   "outputs": [
    {
     "data": {
      "text/html": [
       "<div>\n",
       "<style scoped>\n",
       "    .dataframe tbody tr th:only-of-type {\n",
       "        vertical-align: middle;\n",
       "    }\n",
       "\n",
       "    .dataframe tbody tr th {\n",
       "        vertical-align: top;\n",
       "    }\n",
       "\n",
       "    .dataframe thead th {\n",
       "        text-align: right;\n",
       "    }\n",
       "</style>\n",
       "<table border=\"1\" class=\"dataframe\">\n",
       "  <thead>\n",
       "    <tr style=\"text-align: right;\">\n",
       "      <th></th>\n",
       "      <th>Video</th>\n",
       "      <th>Evento</th>\n",
       "      <th>PCB</th>\n",
       "      <th>Start_Frame</th>\n",
       "      <th>End_Frame</th>\n",
       "      <th>duracion</th>\n",
       "      <th>Path</th>\n",
       "      <th>is_crime</th>\n",
       "    </tr>\n",
       "  </thead>\n",
       "  <tbody>\n",
       "    <tr>\n",
       "      <th>0</th>\n",
       "      <td>Fighting051_x264.mp4</td>\n",
       "      <td>Fighting</td>\n",
       "      <td>989</td>\n",
       "      <td>1294</td>\n",
       "      <td>3355</td>\n",
       "      <td>2366</td>\n",
       "      <td>../data/test/Fighting051_x264.mp4</td>\n",
       "      <td>1</td>\n",
       "    </tr>\n",
       "    <tr>\n",
       "      <th>1</th>\n",
       "      <td>Normal_Videos086_x264.mp4</td>\n",
       "      <td>Normal</td>\n",
       "      <td>0</td>\n",
       "      <td>0</td>\n",
       "      <td>3391</td>\n",
       "      <td>3391</td>\n",
       "      <td>../data/test/Normal_Videos086_x264.mp4</td>\n",
       "      <td>0</td>\n",
       "    </tr>\n",
       "    <tr>\n",
       "      <th>2</th>\n",
       "      <td>Normal_Videos405_x264.mp4</td>\n",
       "      <td>Normal</td>\n",
       "      <td>0</td>\n",
       "      <td>0</td>\n",
       "      <td>1065</td>\n",
       "      <td>1065</td>\n",
       "      <td>../data/test/Normal_Videos405_x264.mp4</td>\n",
       "      <td>0</td>\n",
       "    </tr>\n",
       "    <tr>\n",
       "      <th>3</th>\n",
       "      <td>Normal_Videos134_x264.mp4</td>\n",
       "      <td>Normal</td>\n",
       "      <td>0</td>\n",
       "      <td>0</td>\n",
       "      <td>4476</td>\n",
       "      <td>4476</td>\n",
       "      <td>../data/test/Normal_Videos134_x264.mp4</td>\n",
       "      <td>0</td>\n",
       "    </tr>\n",
       "    <tr>\n",
       "      <th>4</th>\n",
       "      <td>Assault007_x264.mp4</td>\n",
       "      <td>Assault</td>\n",
       "      <td>330</td>\n",
       "      <td>668</td>\n",
       "      <td>1099</td>\n",
       "      <td>769</td>\n",
       "      <td>../data/test/Assault007_x264.mp4</td>\n",
       "      <td>1</td>\n",
       "    </tr>\n",
       "    <tr>\n",
       "      <th>...</th>\n",
       "      <td>...</td>\n",
       "      <td>...</td>\n",
       "      <td>...</td>\n",
       "      <td>...</td>\n",
       "      <td>...</td>\n",
       "      <td>...</td>\n",
       "      <td>...</td>\n",
       "      <td>...</td>\n",
       "    </tr>\n",
       "    <tr>\n",
       "      <th>60</th>\n",
       "      <td>Normal_Videos456_x264.mp4</td>\n",
       "      <td>Normal</td>\n",
       "      <td>0</td>\n",
       "      <td>0</td>\n",
       "      <td>3943</td>\n",
       "      <td>3943</td>\n",
       "      <td>../data/test/Normal_Videos456_x264.mp4</td>\n",
       "      <td>0</td>\n",
       "    </tr>\n",
       "    <tr>\n",
       "      <th>61</th>\n",
       "      <td>Assault013_x264.mp4</td>\n",
       "      <td>Assault</td>\n",
       "      <td>465</td>\n",
       "      <td>615</td>\n",
       "      <td>1022</td>\n",
       "      <td>557</td>\n",
       "      <td>../data/test/Assault013_x264.mp4</td>\n",
       "      <td>1</td>\n",
       "    </tr>\n",
       "    <tr>\n",
       "      <th>62</th>\n",
       "      <td>Assault047_x264.mp4</td>\n",
       "      <td>Assault</td>\n",
       "      <td>0</td>\n",
       "      <td>112</td>\n",
       "      <td>1790</td>\n",
       "      <td>1790</td>\n",
       "      <td>../data/test/Assault047_x264.mp4</td>\n",
       "      <td>1</td>\n",
       "    </tr>\n",
       "    <tr>\n",
       "      <th>63</th>\n",
       "      <td>Normal_Videos101_x264.mp4</td>\n",
       "      <td>Normal</td>\n",
       "      <td>0</td>\n",
       "      <td>0</td>\n",
       "      <td>1538</td>\n",
       "      <td>1538</td>\n",
       "      <td>../data/test/Normal_Videos101_x264.mp4</td>\n",
       "      <td>0</td>\n",
       "    </tr>\n",
       "    <tr>\n",
       "      <th>64</th>\n",
       "      <td>Abuse008_x264.mp4</td>\n",
       "      <td>Abuse</td>\n",
       "      <td>1516</td>\n",
       "      <td>4417</td>\n",
       "      <td>5366</td>\n",
       "      <td>3850</td>\n",
       "      <td>../data/test/Abuse008_x264.mp4</td>\n",
       "      <td>1</td>\n",
       "    </tr>\n",
       "  </tbody>\n",
       "</table>\n",
       "<p>65 rows × 8 columns</p>\n",
       "</div>"
      ],
      "text/plain": [
       "                        Video    Evento   PCB  Start_Frame  End_Frame  \\\n",
       "0        Fighting051_x264.mp4  Fighting   989         1294       3355   \n",
       "1   Normal_Videos086_x264.mp4    Normal     0            0       3391   \n",
       "2   Normal_Videos405_x264.mp4    Normal     0            0       1065   \n",
       "3   Normal_Videos134_x264.mp4    Normal     0            0       4476   \n",
       "4         Assault007_x264.mp4   Assault   330          668       1099   \n",
       "..                        ...       ...   ...          ...        ...   \n",
       "60  Normal_Videos456_x264.mp4    Normal     0            0       3943   \n",
       "61        Assault013_x264.mp4   Assault   465          615       1022   \n",
       "62        Assault047_x264.mp4   Assault     0          112       1790   \n",
       "63  Normal_Videos101_x264.mp4    Normal     0            0       1538   \n",
       "64          Abuse008_x264.mp4     Abuse  1516         4417       5366   \n",
       "\n",
       "    duracion                                    Path  is_crime  \n",
       "0       2366       ../data/test/Fighting051_x264.mp4         1  \n",
       "1       3391  ../data/test/Normal_Videos086_x264.mp4         0  \n",
       "2       1065  ../data/test/Normal_Videos405_x264.mp4         0  \n",
       "3       4476  ../data/test/Normal_Videos134_x264.mp4         0  \n",
       "4        769        ../data/test/Assault007_x264.mp4         1  \n",
       "..       ...                                     ...       ...  \n",
       "60      3943  ../data/test/Normal_Videos456_x264.mp4         0  \n",
       "61       557        ../data/test/Assault013_x264.mp4         1  \n",
       "62      1790        ../data/test/Assault047_x264.mp4         1  \n",
       "63      1538  ../data/test/Normal_Videos101_x264.mp4         0  \n",
       "64      3850          ../data/test/Abuse008_x264.mp4         1  \n",
       "\n",
       "[65 rows x 8 columns]"
      ]
     },
     "execution_count": 31,
     "metadata": {},
     "output_type": "execute_result"
    }
   ],
   "source": [
    "data"
   ]
  },
  {
   "cell_type": "code",
   "execution_count": 32,
   "metadata": {},
   "outputs": [],
   "source": [
    "# Dividir el dataset en train (80%), valid (10%), test (10%)\n",
    "train_df, test_valid_df = train_test_split(data, test_size=0.2, random_state=42, stratify=data['is_crime'])\n",
    "valid_df, test_df = train_test_split(test_valid_df, test_size=0.5, random_state=42)"
   ]
  },
  {
   "cell_type": "markdown",
   "metadata": {},
   "source": [
    "## Data Loader"
   ]
  },
  {
   "cell_type": "code",
   "execution_count": 33,
   "metadata": {},
   "outputs": [],
   "source": [
    "class VideoDataModule:\n",
    "    def __init__(self, train_df, val_df, test_df, batch_size=8, frame_size=(224, 224), num_frames=32):\n",
    "        self.train_df = train_df\n",
    "        self.val_df = val_df\n",
    "        self.test_df = test_df\n",
    "        self.batch_size = batch_size\n",
    "        self.frame_size = frame_size\n",
    "        self.num_frames = num_frames\n",
    "        tf.random.set_seed(42)  # Establecer la semilla\n",
    "\n",
    "    def _load_video_frames(self, video_path, start_frame, end_frame, training=False):\n",
    "        cap = cv2.VideoCapture(video_path)\n",
    "        \n",
    "        if not cap.isOpened():\n",
    "            print(f\"Error: No se pudo abrir el video {video_path}\")\n",
    "            return None\n",
    "        \n",
    "        frames = []\n",
    "        total_frames = int(cap.get(cv2.CAP_PROP_FRAME_COUNT))\n",
    "        \n",
    "        start_frame = int(start_frame) if not np.isnan(start_frame) else 0\n",
    "        end_frame = int(end_frame) if not np.isnan(end_frame) else total_frames\n",
    "        \n",
    "        step = max(1, (end_frame - start_frame) // self.num_frames)\n",
    "        cap.set(cv2.CAP_PROP_POS_FRAMES, start_frame)\n",
    "\n",
    "        for _ in range(self.num_frames):\n",
    "            ret, frame = cap.read()\n",
    "            if not ret:\n",
    "                break\n",
    "            \n",
    "            frame = cv2.resize(frame, self.frame_size)  # Redimensionar\n",
    "            frame = frame / 255.0  # Normalizar a [0,1]\n",
    "            frame = tf.convert_to_tensor(frame, dtype=tf.float32)\n",
    "            \n",
    "            if training:\n",
    "                frame = tf.image.random_flip_left_right(frame)\n",
    "                frame = tf.image.random_brightness(frame, max_delta=0.2)\n",
    "                frame = tf.image.random_contrast(frame, lower=0.8, upper=1.2)\n",
    "                frame = tf.image.random_hue(frame, max_delta=0.05)\n",
    "                \n",
    "            frames.append(frame.numpy())\n",
    "            \n",
    "            for _ in range(step - 1):  # Saltar frames para ajustarse al total\n",
    "                cap.read()\n",
    "\n",
    "        cap.release()\n",
    "\n",
    "        while len(frames) < self.num_frames:\n",
    "            frames.append(np.zeros((*self.frame_size, 3)))\n",
    "\n",
    "        return np.array(frames, dtype=np.float32)\n",
    "\n",
    "    def _dataframe_to_tf_dataset(self, df, shuffle=True, training=False):\n",
    "        file_paths = df[\"Path\"].values\n",
    "        start_frames = df[\"PCB\"].values\n",
    "        end_frames = df[\"End_Frame\"].values\n",
    "        labels = df[\"is_crime\"].values\n",
    "\n",
    "        def generator():\n",
    "            for i in range(len(file_paths)):\n",
    "                video_tensor = self._load_video_frames(file_paths[i], start_frames[i], end_frames[i], training)\n",
    "                yield video_tensor, labels[i]\n",
    "\n",
    "        dataset = tf.data.Dataset.from_generator(\n",
    "            generator,\n",
    "            output_signature=(\n",
    "                tf.TensorSpec(shape=(self.num_frames, *self.frame_size, 3), dtype=tf.float32),\n",
    "                tf.TensorSpec(shape=(), dtype=tf.int32),\n",
    "            ),\n",
    "        )\n",
    "\n",
    "        if shuffle:\n",
    "            dataset = dataset.shuffle(\n",
    "                buffer_size=min(max(1000, len(df)//10), len(df)),  \n",
    "                seed=42,  \n",
    "                reshuffle_each_iteration=True  \n",
    "            )\n",
    "\n",
    "        dataset = dataset.batch(self.batch_size).prefetch(tf.data.AUTOTUNE)\n",
    "        return dataset\n",
    "\n",
    "    def train_dataset(self):\n",
    "        return self._dataframe_to_tf_dataset(self.train_df, shuffle=True, training=True)\n",
    "\n",
    "    def val_dataset(self):\n",
    "        return self._dataframe_to_tf_dataset(self.val_df, shuffle=False, training=False)\n",
    "\n",
    "    def test_dataset(self):\n",
    "        return self._dataframe_to_tf_dataset(self.test_df, shuffle=False, training=False)"
   ]
  },
  {
   "cell_type": "markdown",
   "metadata": {},
   "source": [
    "## I3D Model"
   ]
  },
  {
   "cell_type": "code",
   "execution_count": 34,
   "metadata": {},
   "outputs": [],
   "source": [
    "# Clase adaptadora para usar InceptionI3D como modelo de Keras\n",
    "class KerasI3D(tf.keras.Model):\n",
    "    def __init__(self, num_classes, endpoint = \"Logits\"):\n",
    "        super(KerasI3D, self).__init__()\n",
    "        self.i3d = InceptionI3d(num_classes=num_classes, is_training=True, final_endpoint=endpoint)\n",
    "\n",
    "    def call(self, inputs, training=False):\n",
    "        logits, _ = self.i3d(inputs)  # El modelo I3D devuelve logits y endpoints\n",
    "        return logits"
   ]
  },
  {
   "cell_type": "code",
   "execution_count": 35,
   "metadata": {},
   "outputs": [
    {
     "name": "stderr",
     "output_type": "stream",
     "text": [
      "2025-04-01 16:07:35.140803: I tensorflow/core/platform/cpu_feature_guard.cc:142] This TensorFlow binary is optimized with oneAPI Deep Neural Network Library (oneDNN) to use the following CPU instructions in performance-critical operations:  AVX2 AVX512F FMA\n",
      "To enable them in other operations, rebuild TensorFlow with the appropriate compiler flags.\n",
      "2025-04-01 16:07:35.557814: I tensorflow/core/common_runtime/gpu/gpu_device.cc:1733] Found device 0 with properties: \n",
      "pciBusID: 0000:0a:00.0 name: NVIDIA A100 80GB PCIe computeCapability: 8.0\n",
      "coreClock: 1.41GHz coreCount: 108 deviceMemorySize: 79.25GiB deviceMemoryBandwidth: 1.76TiB/s\n",
      "2025-04-01 16:07:35.558851: I tensorflow/core/common_runtime/gpu/gpu_device.cc:1733] Found device 1 with properties: \n",
      "pciBusID: 0000:ae:00.0 name: NVIDIA A100 80GB PCIe computeCapability: 8.0\n",
      "coreClock: 1.41GHz coreCount: 108 deviceMemorySize: 79.25GiB deviceMemoryBandwidth: 1.76TiB/s\n",
      "2025-04-01 16:07:35.562558: I tensorflow/core/common_runtime/gpu/gpu_device.cc:1871] Adding visible gpu devices: 0, 1\n",
      "2025-04-01 16:07:35.562624: I tensorflow/stream_executor/platform/default/dso_loader.cc:53] Successfully opened dynamic library libcudart.so.11.0\n",
      "2025-04-01 16:07:36.373286: I tensorflow/core/common_runtime/gpu/gpu_device.cc:1258] Device interconnect StreamExecutor with strength 1 edge matrix:\n",
      "2025-04-01 16:07:36.373326: I tensorflow/core/common_runtime/gpu/gpu_device.cc:1264]      0 1 \n",
      "2025-04-01 16:07:36.373334: I tensorflow/core/common_runtime/gpu/gpu_device.cc:1277] 0:   N Y \n",
      "2025-04-01 16:07:36.373338: I tensorflow/core/common_runtime/gpu/gpu_device.cc:1277] 1:   Y N \n",
      "2025-04-01 16:07:36.381846: I tensorflow/core/common_runtime/gpu/gpu_device.cc:1418] Created TensorFlow device (/job:localhost/replica:0/task:0/device:GPU:0 with 40960 MB memory) -> physical GPU (device: 0, name: NVIDIA A100 80GB PCIe, pci bus id: 0000:0a:00.0, compute capability: 8.0)\n",
      "2025-04-01 16:07:36.383182: I tensorflow/core/common_runtime/gpu/gpu_device.cc:1418] Created TensorFlow device (/job:localhost/replica:0/task:0/device:GPU:1 with 69410 MB memory) -> physical GPU (device: 1, name: NVIDIA A100 80GB PCIe, pci bus id: 0000:ae:00.0, compute capability: 8.0)\n",
      "2025-04-01 16:07:36.419986: I tensorflow/stream_executor/cuda/cuda_driver.cc:789] failed to allocate 40.00G (42949672960 bytes) from device: CUDA_ERROR_OUT_OF_MEMORY: out of memory\n",
      "2025-04-01 16:07:36.420411: I tensorflow/stream_executor/cuda/cuda_driver.cc:789] failed to allocate 36.00G (38654705664 bytes) from device: CUDA_ERROR_OUT_OF_MEMORY: out of memory\n",
      "2025-04-01 16:07:36.420813: I tensorflow/stream_executor/cuda/cuda_driver.cc:789] failed to allocate 32.40G (34789232640 bytes) from device: CUDA_ERROR_OUT_OF_MEMORY: out of memory\n",
      "2025-04-01 16:07:36.421209: I tensorflow/stream_executor/cuda/cuda_driver.cc:789] failed to allocate 29.16G (31310309376 bytes) from device: CUDA_ERROR_OUT_OF_MEMORY: out of memory\n",
      "2025-04-01 16:07:36.421584: I tensorflow/stream_executor/cuda/cuda_driver.cc:789] failed to allocate 26.24G (28179277824 bytes) from device: CUDA_ERROR_OUT_OF_MEMORY: out of memory\n",
      "2025-04-01 16:07:36.421955: I tensorflow/stream_executor/cuda/cuda_driver.cc:789] failed to allocate 23.62G (25361348608 bytes) from device: CUDA_ERROR_OUT_OF_MEMORY: out of memory\n",
      "2025-04-01 16:07:36.422356: I tensorflow/stream_executor/cuda/cuda_driver.cc:789] failed to allocate 21.26G (22825213952 bytes) from device: CUDA_ERROR_OUT_OF_MEMORY: out of memory\n",
      "2025-04-01 16:07:36.422733: I tensorflow/stream_executor/cuda/cuda_driver.cc:789] failed to allocate 19.13G (20542691328 bytes) from device: CUDA_ERROR_OUT_OF_MEMORY: out of memory\n",
      "2025-04-01 16:07:36.423109: I tensorflow/stream_executor/cuda/cuda_driver.cc:789] failed to allocate 17.22G (18488422400 bytes) from device: CUDA_ERROR_OUT_OF_MEMORY: out of memory\n",
      "2025-04-01 16:07:36.423495: I tensorflow/stream_executor/cuda/cuda_driver.cc:789] failed to allocate 15.50G (16639580160 bytes) from device: CUDA_ERROR_OUT_OF_MEMORY: out of memory\n",
      "2025-04-01 16:07:36.423870: I tensorflow/stream_executor/cuda/cuda_driver.cc:789] failed to allocate 13.95G (14975622144 bytes) from device: CUDA_ERROR_OUT_OF_MEMORY: out of memory\n",
      "2025-04-01 16:07:36.424236: I tensorflow/stream_executor/cuda/cuda_driver.cc:789] failed to allocate 12.55G (13478060032 bytes) from device: CUDA_ERROR_OUT_OF_MEMORY: out of memory\n",
      "2025-04-01 16:07:36.424600: I tensorflow/stream_executor/cuda/cuda_driver.cc:789] failed to allocate 11.30G (12130253824 bytes) from device: CUDA_ERROR_OUT_OF_MEMORY: out of memory\n"
     ]
    }
   ],
   "source": [
    "# Crear el DataModule\n",
    "data_module = VideoDataModule(train_df, valid_df, test_df, batch_size=8)\n",
    "# Obtener los datasets\n",
    "train_dataset = data_module.train_dataset()\n",
    "val_dataset = data_module.val_dataset()\n",
    "test_dataset = data_module.test_dataset()"
   ]
  },
  {
   "cell_type": "markdown",
   "metadata": {},
   "source": [
    "### One Cycle Policy"
   ]
  },
  {
   "cell_type": "code",
   "execution_count": 40,
   "metadata": {},
   "outputs": [],
   "source": [
    "from tensorflow.keras.callbacks import EarlyStopping, ModelCheckpoint, LearningRateScheduler\n",
    "from tensorflow.keras.metrics import AUC"
   ]
  },
  {
   "cell_type": "code",
   "execution_count": 41,
   "metadata": {},
   "outputs": [],
   "source": [
    "epochs = 10  # Número de épocas\n",
    "max_learning_rate = 0.1  # Ejemplo\n",
    "initial_learning_rate = 1e-5  # Ejemplo\n",
    "num_classes = 2"
   ]
  },
  {
   "cell_type": "code",
   "execution_count": 42,
   "metadata": {},
   "outputs": [],
   "source": [
    "def one_cycle_scheduler(epoch, lr):\n",
    "    total_epochs = epochs\n",
    "    max_lr = 1e-3\n",
    "    min_lr = 1e-6\n",
    "    warmup_epochs = total_epochs // 4\n",
    "\n",
    "    if epoch < warmup_epochs:  # Warmup\n",
    "        return initial_learning_rate + (max_lr - initial_learning_rate) * (epoch / warmup_epochs)\n",
    "    \n",
    "    elif epoch < total_epochs - 5:  # Cosine annealing phase\n",
    "        return min_lr + (max_lr - min_lr) * 0.5 * (1 + np.cos(np.pi * (epoch - warmup_epochs) / (total_epochs - warmup_epochs - 5)))\n",
    "\n",
    "    else:  # Final annealing phase\n",
    "        return min_lr"
   ]
  },
  {
   "cell_type": "markdown",
   "metadata": {},
   "source": [
    "### Modelo"
   ]
  },
  {
   "cell_type": "code",
   "execution_count": 43,
   "metadata": {},
   "outputs": [],
   "source": [
    "# Crear el DataModule\n",
    "data_module = VideoDataModule(train_df, valid_df, test_df, batch_size=8)\n",
    "# Obtener los datasets\n",
    "train_dataset = data_module.train_dataset()\n",
    "val_dataset = data_module.val_dataset()\n",
    "test_dataset = data_module.test_dataset()\n",
    "\n",
    "model_1 = KerasI3D(num_classes=num_classes)\n",
    "optimizer = tf.keras.optimizers.Adam(learning_rate=initial_learning_rate)\n",
    "loss_fn = tf.keras.losses.SparseCategoricalCrossentropy(from_logits=True)\n",
    "model_1.compile(optimizer=optimizer, loss=loss_fn, metrics=[\"accuracy\"])"
   ]
  },
  {
   "cell_type": "code",
   "execution_count": 45,
   "metadata": {},
   "outputs": [
    {
     "name": "stdout",
     "output_type": "stream",
     "text": [
      "Resuming training from epoch 3\n",
      "Epoch 4/10\n"
     ]
    },
    {
     "name": "stderr",
     "output_type": "stream",
     "text": [
      "2025-04-01 16:09:56.678492: I tensorflow/core/kernels/data/shuffle_dataset_op.cc:177] Filling up shuffle buffer (this may take a while): 30 of 52\n",
      "2025-04-01 16:10:02.321193: I tensorflow/core/kernels/data/shuffle_dataset_op.cc:230] Shuffle buffer filled.\n"
     ]
    },
    {
     "name": "stdout",
     "output_type": "stream",
     "text": [
      "7/7 [==============================] - 20s 490ms/step - loss: 1.1228 - accuracy: 0.5769 - val_loss: 0.8247 - val_accuracy: 0.3333\n",
      "INFO:tensorflow:Assets written to: checkpoints/i3d_model/best_model/assets\n",
      "Epoch 5/10\n"
     ]
    },
    {
     "name": "stderr",
     "output_type": "stream",
     "text": [
      "2025-04-01 16:10:34.953546: I tensorflow/core/kernels/data/shuffle_dataset_op.cc:177] Filling up shuffle buffer (this may take a while): 29 of 52\n",
      "2025-04-01 16:10:41.396267: I tensorflow/core/kernels/data/shuffle_dataset_op.cc:230] Shuffle buffer filled.\n"
     ]
    },
    {
     "name": "stdout",
     "output_type": "stream",
     "text": [
      "7/7 [==============================] - 20s 493ms/step - loss: 0.9383 - accuracy: 0.4231 - val_loss: 0.9347 - val_accuracy: 0.1667\n",
      "Epoch 6/10\n"
     ]
    },
    {
     "name": "stderr",
     "output_type": "stream",
     "text": [
      "2025-04-01 16:10:56.298832: I tensorflow/core/kernels/data/shuffle_dataset_op.cc:177] Filling up shuffle buffer (this may take a while): 29 of 52\n",
      "2025-04-01 16:11:02.716186: I tensorflow/core/kernels/data/shuffle_dataset_op.cc:230] Shuffle buffer filled.\n"
     ]
    },
    {
     "name": "stdout",
     "output_type": "stream",
     "text": [
      "7/7 [==============================] - 20s 490ms/step - loss: 0.7821 - accuracy: 0.4808 - val_loss: 0.9296 - val_accuracy: 0.1667\n",
      "Epoch 7/10\n"
     ]
    },
    {
     "name": "stderr",
     "output_type": "stream",
     "text": [
      "2025-04-01 16:11:17.645335: I tensorflow/core/kernels/data/shuffle_dataset_op.cc:177] Filling up shuffle buffer (this may take a while): 29 of 52\n",
      "2025-04-01 16:11:24.150648: I tensorflow/core/kernels/data/shuffle_dataset_op.cc:230] Shuffle buffer filled.\n"
     ]
    },
    {
     "name": "stdout",
     "output_type": "stream",
     "text": [
      "7/7 [==============================] - 20s 497ms/step - loss: 0.8318 - accuracy: 0.5192 - val_loss: 0.9212 - val_accuracy: 0.1667\n"
     ]
    }
   ],
   "source": [
    "checkpoint_dir = \"checkpoints/i3d_model\"\n",
    "os.makedirs(checkpoint_dir, exist_ok=True)\n",
    "\n",
    "last_epoch_file = os.path.join(checkpoint_dir, \"last_epoch.npy\")\n",
    "history_file = os.path.join(checkpoint_dir, \"history.npy\")\n",
    "\n",
    "# Callback para guardar TODAS las épocas\n",
    "full_history_callback = ModelCheckpoint(\n",
    "    filepath=os.path.join(checkpoint_dir, \"epoch_{epoch:02d}\"),\n",
    "    save_freq='epoch',\n",
    "    save_weights_only=True\n",
    ")\n",
    "\n",
    "# Callback para guardar solo el MEJOR modelo\n",
    "best_model_callback = ModelCheckpoint(\n",
    "    filepath=os.path.join(checkpoint_dir, \"best_model\"),\n",
    "    monitor=\"val_loss\",\n",
    "    mode=\"min\",\n",
    "    save_best_only=True\n",
    ")\n",
    "\n",
    "# Intentar cargar la última época guardada\n",
    "if os.path.exists(last_epoch_file):\n",
    "    initial_epoch = int(np.load(last_epoch_file))\n",
    "    model_1.load_weights(os.path.join(checkpoint_dir, \"best_model\"))\n",
    "    print(f\"Resuming training from epoch {initial_epoch}\")\n",
    "else:\n",
    "    initial_epoch = 0\n",
    "    print(\"Starting training from scratch.\")\n",
    "\n",
    "# Callback para detener el entrenamiento si no hay mejora\n",
    "early_stop_callback = EarlyStopping(\n",
    "    monitor=\"val_loss\", \n",
    "    patience=3, \n",
    "    mode=\"min\", \n",
    "    restore_best_weights=True\n",
    ")\n",
    "\n",
    "# Callback para guardar el mejor modelo\n",
    "checkpoint_callback = ModelCheckpoint(\n",
    "    filepath=os.path.join(checkpoint_dir, \"best_model\"),\n",
    "    save_best_only=True,\n",
    "    monitor=\"val_loss\",\n",
    "    mode=\"min\",\n",
    "    save_weights_only=True\n",
    ")\n",
    "\n",
    "lr_scheduler = LearningRateScheduler(one_cycle_scheduler)\n",
    "\n",
    "# Callback para guardar la época actual\n",
    "class EpochSaver(tf.keras.callbacks.Callback):\n",
    "    def on_epoch_end(self, epoch, logs=None):\n",
    "        np.save(last_epoch_file, epoch + 1)  # Guardar la siguiente época a entrenar\n",
    "\n",
    "epoch_saver_callback = EpochSaver()\n",
    "\n",
    "# Callback para guardar historial después de cada época\n",
    "class HistorySaver(tf.keras.callbacks.Callback):\n",
    "    def on_epoch_end(self, epoch, logs=None):\n",
    "        if logs is not None:\n",
    "            history_full['loss'].append(logs.get('loss', None))\n",
    "            history_full['val_loss'].append(logs.get('val_loss', None))\n",
    "            np.save(history_file, history_full)  # Guardar historial actualizado\n",
    "\n",
    "history_saver_callback = HistorySaver()\n",
    "\n",
    "# Cargar historial previo si existe\n",
    "if os.path.exists(history_file):\n",
    "    history_full = np.load(history_file, allow_pickle=True).item()\n",
    "else:\n",
    "    history_full = {'loss': [], 'val_loss': []}\n",
    "\n",
    "# Verificar si el entrenamiento ya ha terminado\n",
    "if initial_epoch >= epochs:\n",
    "    print(\"Training already completed. No new epochs to run.\")\n",
    "else:\n",
    "    # Entrenar desde la última época\n",
    "    history = model_1.fit(\n",
    "        train_dataset,\n",
    "        validation_data=val_dataset,\n",
    "        epochs=epochs,\n",
    "        initial_epoch=initial_epoch,\n",
    "        callbacks=[\n",
    "            early_stop_callback, \n",
    "            checkpoint_callback, \n",
    "            lr_scheduler, \n",
    "            epoch_saver_callback, \n",
    "            full_history_callback, \n",
    "            best_model_callback,\n",
    "            history_saver_callback  # Nuevo callback para guardar historial\n",
    "        ],\n",
    "        verbose=1\n",
    "    )"
   ]
  },
  {
   "cell_type": "code",
   "execution_count": 46,
   "metadata": {},
   "outputs": [
    {
     "data": {
      "text/plain": [
       "{'loss': [0.7296431660652161,\n",
       "  1.0898278951644897,\n",
       "  1.2680948972702026,\n",
       "  1.1227513551712036,\n",
       "  0.9382906556129456,\n",
       "  0.782118558883667,\n",
       "  0.8317811489105225],\n",
       " 'val_loss': [0.7145546078681946,\n",
       "  0.8213091492652893,\n",
       "  1.6127510070800781,\n",
       "  0.8246566653251648,\n",
       "  0.9347290396690369,\n",
       "  0.9296196103096008,\n",
       "  0.9212115406990051]}"
      ]
     },
     "execution_count": 46,
     "metadata": {},
     "output_type": "execute_result"
    }
   ],
   "source": [
    "history_full"
   ]
  },
  {
   "cell_type": "markdown",
   "metadata": {},
   "source": [
    "### Evolución del Learning rate"
   ]
  },
  {
   "cell_type": "code",
   "execution_count": 47,
   "metadata": {},
   "outputs": [
    {
     "data": {
      "image/png": "[encoded data removed]",
      "text/plain": [
       "<Figure size 640x480 with 1 Axes>"
      ]
     },
     "metadata": {},
     "output_type": "display_data"
    }
   ],
   "source": [
    "import matplotlib.pyplot as plt  # Corrección en la importación\n",
    "lrs = [one_cycle_scheduler(epoch, initial_learning_rate) for epoch in range(epochs)]\n",
    "plt.plot(range(epochs), lrs)\n",
    "plt.xlabel(\"Época\")\n",
    "plt.ylabel(\"Learning Rate\")\n",
    "plt.title(\"One Cycle Policy - Learning Rate Schedule\")\n",
    "plt.show()"
   ]
  },
  {
   "cell_type": "code",
   "execution_count": 48,
   "metadata": {},
   "outputs": [
    {
     "name": "stderr",
     "output_type": "stream",
     "text": [
      "2025-04-01 16:12:22.446429: I tensorflow/core/kernels/data/shuffle_dataset_op.cc:177] Filling up shuffle buffer (this may take a while): 30 of 52\n"
     ]
    },
    {
     "name": "stdout",
     "output_type": "stream",
     "text": [
      "      1/Unknown - 17s 17s/step - loss: 0.8349 - accuracy: 0.6250"
     ]
    },
    {
     "name": "stderr",
     "output_type": "stream",
     "text": [
      "2025-04-01 16:12:28.095770: I tensorflow/core/kernels/data/shuffle_dataset_op.cc:230] Shuffle buffer filled.\n"
     ]
    },
    {
     "name": "stdout",
     "output_type": "stream",
     "text": [
      "7/7 [==============================] - 17s 86ms/step - loss: 0.9755 - accuracy: 0.5000\n"
     ]
    }
   ],
   "source": [
    "train_results = model_1.evaluate(train_dataset, verbose=1)"
   ]
  },
  {
   "cell_type": "code",
   "execution_count": 49,
   "metadata": {},
   "outputs": [
    {
     "name": "stdout",
     "output_type": "stream",
     "text": [
      "1/1 [==============================] - 2s 2s/step - loss: 0.8247 - accuracy: 0.3333\n"
     ]
    }
   ],
   "source": [
    "# Evaluar en el conjunto de validación\n",
    "val_results = model_1.evaluate(val_dataset, verbose=1)"
   ]
  },
  {
   "cell_type": "code",
   "execution_count": 50,
   "metadata": {},
   "outputs": [
    {
     "name": "stdout",
     "output_type": "stream",
     "text": [
      "1/1 [==============================] - 3s 3s/step - loss: 1.1912 - accuracy: 0.4286\n"
     ]
    }
   ],
   "source": [
    "# Evaluar en el conjunto de prueba\n",
    "test_results = model_1.evaluate(test_dataset, verbose=1)"
   ]
  },
  {
   "cell_type": "code",
   "execution_count": 51,
   "metadata": {},
   "outputs": [
    {
     "name": "stdout",
     "output_type": "stream",
     "text": [
      "\n",
      "Resultados Finales:\n",
      "Train - Loss: 0.9755248427391052, Accuracy: 0.5\n",
      "Val - Loss: 0.8246566653251648, Accuracy: 0.3333333432674408\n",
      "Test - Loss: 1.1912086009979248, Accuracy: 0.4285714328289032\n"
     ]
    }
   ],
   "source": [
    "print(\"\\nResultados Finales:\")\n",
    "print(f\"Train - Loss: {train_results[0]}, Accuracy: {train_results[1]}\")\n",
    "print(f\"Val - Loss: {val_results[0]}, Accuracy: {val_results[1]}\")\n",
    "print(f\"Test - Loss: {test_results[0]}, Accuracy: {test_results[1]}\")"
   ]
  },
  {
   "cell_type": "markdown",
   "metadata": {},
   "source": [
    "### Gráfica Epochs vs Loss"
   ]
  },
  {
   "cell_type": "code",
   "execution_count": 52,
   "metadata": {},
   "outputs": [
    {
     "data": {
      "text/plain": [
       "{'loss': [0.7296431660652161,\n",
       "  1.0898278951644897,\n",
       "  1.2680948972702026,\n",
       "  1.1227513551712036,\n",
       "  0.9382906556129456,\n",
       "  0.782118558883667,\n",
       "  0.8317811489105225],\n",
       " 'val_loss': [0.7145546078681946,\n",
       "  0.8213091492652893,\n",
       "  1.6127510070800781,\n",
       "  0.8246566653251648,\n",
       "  0.9347290396690369,\n",
       "  0.9296196103096008,\n",
       "  0.9212115406990051]}"
      ]
     },
     "execution_count": 52,
     "metadata": {},
     "output_type": "execute_result"
    }
   ],
   "source": [
    "history_full"
   ]
  },
  {
   "cell_type": "code",
   "execution_count": 53,
   "metadata": {},
   "outputs": [
    {
     "data": {
      "image/png": "[encoded data removed]",
      "text/plain": [
       "<Figure size 640x480 with 1 Axes>"
      ]
     },
     "metadata": {},
     "output_type": "display_data"
    }
   ],
   "source": [
    "import matplotlib.pyplot as plt\n",
    "# Extraer la pérdida de entrenamiento y validación\n",
    "loss = history_full['loss']\n",
    "val_loss = history_full['val_loss']\n",
    "\n",
    "# Crear la gráfica\n",
    "plt.plot(range(1, len(loss) + 1), loss, label='Training Loss', marker='o')\n",
    "plt.plot(range(1, len(val_loss) + 1), val_loss, label='Validation Loss', marker='o')\n",
    "\n",
    "# Etiquetas y título\n",
    "plt.xlabel('Epochs')\n",
    "plt.ylabel('Loss')\n",
    "plt.title('Epochs vs Loss')\n",
    "plt.legend()\n",
    "plt.grid(True)\n",
    "plt.show()"
   ]
  },
  {
   "cell_type": "markdown",
   "metadata": {},
   "source": [
    "### Visualización del Modelo con TSNE"
   ]
  },
  {
   "cell_type": "code",
   "execution_count": 54,
   "metadata": {},
   "outputs": [
    {
     "name": "stdout",
     "output_type": "stream",
     "text": [
      "Num samples: 7, Usando perplexity=6\n"
     ]
    },
    {
     "data": {
      "image/png": "[encoded data removed]",
      "text/plain": [
       "<Figure size 1000x800 with 1 Axes>"
      ]
     },
     "metadata": {},
     "output_type": "display_data"
    }
   ],
   "source": [
    "from sklearn.manifold import TSNE\n",
    "\n",
    "# Obtener las representaciones del modelo\n",
    "x_test = model_1.predict(test_dataset)  # Extrae los embeddings\n",
    "y_test = np.concatenate([y for _, y in test_dataset])  # Obtener etiquetas reales\n",
    "\n",
    "# Verificar el número de muestras\n",
    "num_samples = x_test.shape[0]\n",
    "perplexity_value = min(10, num_samples - 1)  # Ajustar perplexity dinámicamente\n",
    "\n",
    "print(f\"Num samples: {num_samples}, Usando perplexity={perplexity_value}\")\n",
    "\n",
    "# Aplicar t-SNE con un perplexity válido\n",
    "tsne = TSNE(n_components=2, random_state=42, perplexity=perplexity_value)\n",
    "x_test_tsne = tsne.fit_transform(x_test)\n",
    "\n",
    "# Visualización\n",
    "plt.figure(figsize=(10, 8))\n",
    "for i in np.unique(y_test):\n",
    "    idx = np.where(y_test == i)[0]\n",
    "    plt.scatter(x_test_tsne[idx, 0], x_test_tsne[idx, 1], label=f\"Clase {i}\")\n",
    "\n",
    "plt.title(\"Visualización t-SNE de los embeddings del conjunto de prueba\")\n",
    "plt.xlabel(\"Componente t-SNE 1\")\n",
    "plt.ylabel(\"Componente t-SNE 2\")\n",
    "plt.legend(title=\"Clases\")\n",
    "plt.grid(True)\n",
    "plt.show()"
   ]
  },
  {
   "cell_type": "markdown",
   "metadata": {},
   "source": [
    "## I3D + ConvLSTM2D"
   ]
  },
  {
   "cell_type": "code",
   "execution_count": 55,
   "metadata": {},
   "outputs": [],
   "source": [
    "from tensorflow.keras.layers import (ConvLSTM2D, TimeDistributed, Dense, \n",
    "                                    Flatten, GlobalAveragePooling2D, \n",
    "                                    Dropout, BatchNormalization)\n",
    "from tensorflow.keras import Model\n",
    "\n",
    "class I3D_ConvLSTM(Model):\n",
    "    def __init__(self, num_classes, endpoint=\"Mixed_5c\"):\n",
    "        super(I3D_ConvLSTM, self).__init__()\n",
    "        \n",
    "        # Modelo base Inception I3D\n",
    "        self.i3d = InceptionI3d(num_classes=num_classes, is_training=True, final_endpoint=endpoint)\n",
    "        \n",
    "        # Capa ConvLSTM2D para modelar información temporal\n",
    "        self.conv_lstm = ConvLSTM2D(\n",
    "            filters=64, \n",
    "            kernel_size=(3, 3),\n",
    "            padding='same',\n",
    "            return_sequences=True,  # Mantener la dimensión temporal\n",
    "            dropout=0.2,\n",
    "            recurrent_dropout=0.2\n",
    "        )\n",
    "        \n",
    "        # Batch Normalization después de ConvLSTM\n",
    "        self.batch_norm = BatchNormalization()\n",
    "        \n",
    "        # Global Average Pooling para reducir dimensionalidad\n",
    "        self.global_avg_pool = GlobalAveragePooling2D()  # Cambio a 2D\n",
    "        \n",
    "        # Dropout para regularización\n",
    "        self.dropout = Dropout(0.3)\n",
    "        \n",
    "        # Capa completamente conectada final\n",
    "        self.fc = Dense(num_classes, activation='softmax')\n",
    "\n",
    "    def call(self, inputs, training=False):\n",
    "        \"\"\"Entrada esperada: (batch_size, num_frames, height, width, channels)\"\"\"\n",
    "        \n",
    "        # Extraer características con I3D\n",
    "        features, _ = self.i3d(inputs)  # (batch_size, num_frames, 7, 7, 1024)\n",
    "        \n",
    "        # Aplicar ConvLSTM2D sobre la dimensión temporal\n",
    "        lstm_out = self.conv_lstm(features)  # (batch_size, num_frames, 7, 7, 64)\n",
    "        \n",
    "        # Tomar solo el último frame de la salida de LSTM para clasificación\n",
    "        lstm_out = lstm_out[:, -1, :, :, :]  # (batch_size, 7, 7, 64)\n",
    "\n",
    "        # Batch Normalization\n",
    "        x = self.batch_norm(lstm_out, training=training)\n",
    "        \n",
    "        # Global Average Pooling\n",
    "        x = self.global_avg_pool(x)\n",
    "        \n",
    "        # Dropout para regularización\n",
    "        x = self.dropout(x, training=training)\n",
    "        \n",
    "        # Capa de salida\n",
    "        logits = self.fc(x)\n",
    "        \n",
    "        return logits"
   ]
  },
  {
   "cell_type": "code",
   "execution_count": 56,
   "metadata": {},
   "outputs": [],
   "source": [
    "# Crear el DataModule\n",
    "data_module = VideoDataModule(train_df, valid_df, test_df, batch_size=8)\n",
    "# Obtener los datasets\n",
    "train_dataset = data_module.train_dataset()\n",
    "val_dataset = data_module.val_dataset()\n",
    "test_dataset = data_module.test_dataset()"
   ]
  },
  {
   "cell_type": "markdown",
   "metadata": {},
   "source": [
    "### Modelo"
   ]
  },
  {
   "cell_type": "code",
   "execution_count": 57,
   "metadata": {},
   "outputs": [],
   "source": [
    "epochs = 10  # Número de épocas\n",
    "max_learning_rate = 0.1  # Ejemplo\n",
    "initial_learning_rate = 1e-5  # Ejemplo\n",
    "num_classes = 2"
   ]
  },
  {
   "cell_type": "code",
   "execution_count": 58,
   "metadata": {},
   "outputs": [],
   "source": [
    "model_2 = I3D_ConvLSTM(num_classes=num_classes)\n",
    "optimizer = tf.keras.optimizers.Adam(learning_rate=initial_learning_rate)\n",
    "loss_fn = tf.keras.losses.SparseCategoricalCrossentropy(from_logits=True)\n",
    "model_2.compile(optimizer=optimizer, loss=loss_fn, metrics=[\"accuracy\"])"
   ]
  },
  {
   "cell_type": "code",
   "execution_count": 59,
   "metadata": {},
   "outputs": [
    {
     "name": "stdout",
     "output_type": "stream",
     "text": [
      "Starting training from scratch.\n",
      "Epoch 1/10\n"
     ]
    },
    {
     "name": "stderr",
     "output_type": "stream",
     "text": [
      "/home/aherrerag/anaconda3/envs/proyecto_i3d/lib/python3.9/site-packages/tensorflow/python/keras/backend.py:4929: UserWarning: \"`sparse_categorical_crossentropy` received `from_logits=True`, but the `output` argument was produced by a sigmoid or softmax activation and thus does not represent logits. Was this intended?\"\n",
      "  warnings.warn(\n",
      "2025-04-01 16:14:00.269183: I tensorflow/core/kernels/data/shuffle_dataset_op.cc:177] Filling up shuffle buffer (this may take a while): 29 of 52\n",
      "2025-04-01 16:14:06.746015: I tensorflow/core/kernels/data/shuffle_dataset_op.cc:230] Shuffle buffer filled.\n"
     ]
    },
    {
     "name": "stdout",
     "output_type": "stream",
     "text": [
      "      1/Unknown - 33s 33s/step - loss: 0.7434 - accuracy: 0.3750"
     ]
    },
    {
     "name": "stderr",
     "output_type": "stream",
     "text": [
      "2025-04-01 16:14:06.959485: I tensorflow/stream_executor/cuda/cuda_blas.cc:1838] TensorFloat-32 will be used for the matrix multiplication. This will only be logged once.\n"
     ]
    },
    {
     "name": "stdout",
     "output_type": "stream",
     "text": [
      "7/7 [==============================] - 40s 1s/step - loss: 0.7337 - accuracy: 0.4808 - val_loss: 0.7246 - val_accuracy: 0.3333\n",
      "INFO:tensorflow:Assets written to: checkpoints/i3dLstm_model/best_model/assets\n",
      "Epoch 2/10\n"
     ]
    },
    {
     "name": "stderr",
     "output_type": "stream",
     "text": [
      "2025-04-01 16:14:46.426988: I tensorflow/core/kernels/data/shuffle_dataset_op.cc:177] Filling up shuffle buffer (this may take a while): 30 of 52\n",
      "2025-04-01 16:14:52.058710: I tensorflow/core/kernels/data/shuffle_dataset_op.cc:230] Shuffle buffer filled.\n"
     ]
    },
    {
     "name": "stdout",
     "output_type": "stream",
     "text": [
      "7/7 [==============================] - 20s 514ms/step - loss: 1.1059 - accuracy: 0.5962 - val_loss: 0.7779 - val_accuracy: 0.5000\n",
      "Epoch 3/10\n"
     ]
    },
    {
     "name": "stderr",
     "output_type": "stream",
     "text": [
      "2025-04-01 16:15:07.681545: I tensorflow/core/kernels/data/shuffle_dataset_op.cc:177] Filling up shuffle buffer (this may take a while): 29 of 52\n",
      "2025-04-01 16:15:14.083678: I tensorflow/core/kernels/data/shuffle_dataset_op.cc:230] Shuffle buffer filled.\n"
     ]
    },
    {
     "name": "stdout",
     "output_type": "stream",
     "text": [
      "7/7 [==============================] - 20s 502ms/step - loss: 0.7167 - accuracy: 0.7308 - val_loss: 0.8049 - val_accuracy: 0.5000\n",
      "Epoch 4/10\n"
     ]
    },
    {
     "name": "stderr",
     "output_type": "stream",
     "text": [
      "2025-04-01 16:15:29.495526: I tensorflow/core/kernels/data/shuffle_dataset_op.cc:177] Filling up shuffle buffer (this may take a while): 29 of 52\n",
      "2025-04-01 16:15:35.926497: I tensorflow/core/kernels/data/shuffle_dataset_op.cc:230] Shuffle buffer filled.\n"
     ]
    },
    {
     "name": "stdout",
     "output_type": "stream",
     "text": [
      "7/7 [==============================] - 20s 501ms/step - loss: 0.8137 - accuracy: 0.5769 - val_loss: 0.6620 - val_accuracy: 0.3333\n",
      "INFO:tensorflow:Assets written to: checkpoints/i3dLstm_model/best_model/assets\n",
      "Epoch 5/10\n"
     ]
    },
    {
     "name": "stderr",
     "output_type": "stream",
     "text": [
      "2025-04-01 16:16:12.631380: I tensorflow/core/kernels/data/shuffle_dataset_op.cc:177] Filling up shuffle buffer (this may take a while): 29 of 52\n",
      "2025-04-01 16:16:19.039195: I tensorflow/core/kernels/data/shuffle_dataset_op.cc:230] Shuffle buffer filled.\n"
     ]
    },
    {
     "name": "stdout",
     "output_type": "stream",
     "text": [
      "7/7 [==============================] - 20s 506ms/step - loss: 0.6857 - accuracy: 0.6731 - val_loss: 0.6951 - val_accuracy: 0.3333\n",
      "Epoch 6/10\n"
     ]
    },
    {
     "name": "stderr",
     "output_type": "stream",
     "text": [
      "2025-04-01 16:16:34.591356: I tensorflow/core/kernels/data/shuffle_dataset_op.cc:177] Filling up shuffle buffer (this may take a while): 29 of 52\n",
      "2025-04-01 16:16:41.063300: I tensorflow/core/kernels/data/shuffle_dataset_op.cc:230] Shuffle buffer filled.\n"
     ]
    },
    {
     "name": "stdout",
     "output_type": "stream",
     "text": [
      "7/7 [==============================] - 20s 501ms/step - loss: 0.5529 - accuracy: 0.7115 - val_loss: 0.6927 - val_accuracy: 0.5000\n",
      "Epoch 7/10\n"
     ]
    },
    {
     "name": "stderr",
     "output_type": "stream",
     "text": [
      "2025-04-01 16:16:56.431166: I tensorflow/core/kernels/data/shuffle_dataset_op.cc:177] Filling up shuffle buffer (this may take a while): 29 of 52\n",
      "2025-04-01 16:17:02.873498: I tensorflow/core/kernels/data/shuffle_dataset_op.cc:230] Shuffle buffer filled.\n"
     ]
    },
    {
     "name": "stdout",
     "output_type": "stream",
     "text": [
      "7/7 [==============================] - 20s 503ms/step - loss: 0.6286 - accuracy: 0.6538 - val_loss: 0.6912 - val_accuracy: 0.5000\n"
     ]
    }
   ],
   "source": [
    "checkpoint_dir = \"checkpoints/i3dLstm_model\"\n",
    "os.makedirs(checkpoint_dir, exist_ok=True)\n",
    "\n",
    "last_epoch_file = os.path.join(checkpoint_dir, \"last_epoch.npy\")\n",
    "history_file = os.path.join(checkpoint_dir, \"history.npy\")\n",
    "\n",
    "# Callback para guardar TODAS las épocas\n",
    "full_history_callback = ModelCheckpoint(\n",
    "    filepath=os.path.join(checkpoint_dir, \"epoch_{epoch:02d}\"),\n",
    "    save_freq='epoch',\n",
    "    save_weights_only=True\n",
    ")\n",
    "\n",
    "# Callback para guardar solo el MEJOR modelo\n",
    "best_model_callback = ModelCheckpoint(\n",
    "    filepath=os.path.join(checkpoint_dir, \"best_model\"),\n",
    "    monitor=\"val_loss\",\n",
    "    mode=\"min\",\n",
    "    save_best_only=True\n",
    ")\n",
    "\n",
    "# Intentar cargar la última época guardada\n",
    "if os.path.exists(last_epoch_file):\n",
    "    initial_epoch = int(np.load(last_epoch_file))\n",
    "    model_2.load_weights(os.path.join(checkpoint_dir, \"best_model\"))\n",
    "    print(f\"Resuming training from epoch {initial_epoch}\")\n",
    "else:\n",
    "    initial_epoch = 0\n",
    "    print(\"Starting training from scratch.\")\n",
    "\n",
    "# Callback para detener el entrenamiento si no hay mejora\n",
    "early_stop_callback = EarlyStopping(\n",
    "    monitor=\"val_loss\", \n",
    "    patience=3, \n",
    "    mode=\"min\", \n",
    "    restore_best_weights=True\n",
    ")\n",
    "\n",
    "# Callback para guardar el mejor modelo\n",
    "checkpoint_callback = ModelCheckpoint(\n",
    "    filepath=os.path.join(checkpoint_dir, \"best_model\"),\n",
    "    save_best_only=True,\n",
    "    monitor=\"val_loss\",\n",
    "    mode=\"min\",\n",
    "    save_weights_only=True\n",
    ")\n",
    "\n",
    "lr_scheduler = LearningRateScheduler(one_cycle_scheduler)\n",
    "\n",
    "# Callback para guardar la época actual\n",
    "class EpochSaver(tf.keras.callbacks.Callback):\n",
    "    def on_epoch_end(self, epoch, logs=None):\n",
    "        np.save(last_epoch_file, epoch + 1)  # Guardar la siguiente época a entrenar\n",
    "\n",
    "epoch_saver_callback = EpochSaver()\n",
    "\n",
    "# Callback para guardar historial después de cada época\n",
    "class HistorySaver(tf.keras.callbacks.Callback):\n",
    "    def on_epoch_end(self, epoch, logs=None):\n",
    "        if logs is not None:\n",
    "            history_full['loss'].append(logs.get('loss', None))\n",
    "            history_full['val_loss'].append(logs.get('val_loss', None))\n",
    "            np.save(history_file, history_full)  # Guardar historial actualizado\n",
    "\n",
    "history_saver_callback = HistorySaver()\n",
    "\n",
    "# Cargar historial previo si existe\n",
    "if os.path.exists(history_file):\n",
    "    history_full = np.load(history_file, allow_pickle=True).item()\n",
    "else:\n",
    "    history_full = {'loss': [], 'val_loss': []}\n",
    "\n",
    "# Verificar si el entrenamiento ya ha terminado\n",
    "if initial_epoch >= epochs:\n",
    "    print(\"Training already completed. No new epochs to run.\")\n",
    "else:\n",
    "    # Entrenar desde la última época\n",
    "    history = model_2.fit(\n",
    "        train_dataset,\n",
    "        validation_data=val_dataset,\n",
    "        epochs=epochs,\n",
    "        initial_epoch=initial_epoch,\n",
    "        callbacks=[\n",
    "            early_stop_callback, \n",
    "            checkpoint_callback, \n",
    "            lr_scheduler, \n",
    "            epoch_saver_callback, \n",
    "            full_history_callback, \n",
    "            best_model_callback,\n",
    "            history_saver_callback  # Nuevo callback para guardar historial\n",
    "        ],\n",
    "        verbose=1\n",
    "    )"
   ]
  },
  {
   "cell_type": "code",
   "execution_count": 60,
   "metadata": {},
   "outputs": [
    {
     "name": "stderr",
     "output_type": "stream",
     "text": [
      "2025-04-01 16:17:57.189104: I tensorflow/core/kernels/data/shuffle_dataset_op.cc:177] Filling up shuffle buffer (this may take a while): 29 of 52\n"
     ]
    },
    {
     "name": "stdout",
     "output_type": "stream",
     "text": [
      "      1/Unknown - 17s 17s/step - loss: 0.6690 - accuracy: 0.6250"
     ]
    },
    {
     "name": "stderr",
     "output_type": "stream",
     "text": [
      "2025-04-01 16:18:03.576667: I tensorflow/core/kernels/data/shuffle_dataset_op.cc:230] Shuffle buffer filled.\n"
     ]
    },
    {
     "name": "stdout",
     "output_type": "stream",
     "text": [
      "7/7 [==============================] - 17s 83ms/step - loss: 0.7001 - accuracy: 0.5769\n"
     ]
    }
   ],
   "source": [
    "train_results = model_2.evaluate(train_dataset, verbose=1)"
   ]
  },
  {
   "cell_type": "code",
   "execution_count": 61,
   "metadata": {},
   "outputs": [
    {
     "name": "stdout",
     "output_type": "stream",
     "text": [
      "1/1 [==============================] - 2s 2s/step - loss: 0.6620 - accuracy: 0.3333\n"
     ]
    }
   ],
   "source": [
    "# Evaluar en el conjunto de validación\n",
    "val_results = model_2.evaluate(val_dataset, verbose=1)"
   ]
  },
  {
   "cell_type": "code",
   "execution_count": 62,
   "metadata": {},
   "outputs": [
    {
     "name": "stdout",
     "output_type": "stream",
     "text": [
      "1/1 [==============================] - 2s 2s/step - loss: 0.7959 - accuracy: 0.4286\n"
     ]
    }
   ],
   "source": [
    "# Evaluar en el conjunto de prueba\n",
    "test_results = model_2.evaluate(test_dataset, verbose=1)"
   ]
  },
  {
   "cell_type": "code",
   "execution_count": 63,
   "metadata": {},
   "outputs": [
    {
     "name": "stdout",
     "output_type": "stream",
     "text": [
      "\n",
      "Resultados Finales:\n",
      "Train - Loss: 0.7001119256019592, Accuracy: 0.5769230723381042\n",
      "Val - Loss: 0.6620156764984131, Accuracy: 0.3333333432674408\n",
      "Test - Loss: 0.7959440350532532, Accuracy: 0.4285714328289032\n"
     ]
    }
   ],
   "source": [
    "print(\"\\nResultados Finales:\")\n",
    "print(f\"Train - Loss: {train_results[0]}, Accuracy: {train_results[1]}\")\n",
    "print(f\"Val - Loss: {val_results[0]}, Accuracy: {val_results[1]}\")\n",
    "print(f\"Test - Loss: {test_results[0]}, Accuracy: {test_results[1]}\")"
   ]
  },
  {
   "cell_type": "markdown",
   "metadata": {},
   "source": [
    "### Evolución del Learning rate"
   ]
  },
  {
   "cell_type": "code",
   "execution_count": 64,
   "metadata": {},
   "outputs": [
    {
     "data": {
      "image/png": "[encoded data removed]",
      "text/plain": [
       "<Figure size 640x480 with 1 Axes>"
      ]
     },
     "metadata": {},
     "output_type": "display_data"
    }
   ],
   "source": [
    "import matplotlib.pyplot as plt  # Corrección en la importación\n",
    "lrs = [one_cycle_scheduler(epoch, initial_learning_rate) for epoch in range(epochs)]\n",
    "plt.plot(range(epochs), lrs)\n",
    "plt.xlabel(\"Época\")\n",
    "plt.ylabel(\"Learning Rate\")\n",
    "plt.title(\"One Cycle Policy - Learning Rate Schedule\")\n",
    "plt.show()"
   ]
  },
  {
   "cell_type": "markdown",
   "metadata": {},
   "source": [
    "### Gráfica Epochs vs Loss"
   ]
  },
  {
   "cell_type": "code",
   "execution_count": 65,
   "metadata": {},
   "outputs": [
    {
     "data": {
      "image/png": "[encoded data removed]",
      "text/plain": [
       "<Figure size 640x480 with 1 Axes>"
      ]
     },
     "metadata": {},
     "output_type": "display_data"
    }
   ],
   "source": [
    "import matplotlib.pyplot as plt\n",
    "\n",
    "# Extraer la pérdida de entrenamiento y validación\n",
    "loss = history.history['loss']\n",
    "val_loss = history.history['val_loss']\n",
    "\n",
    "# Crear la gráfica\n",
    "plt.plot(range(1, len(loss) + 1), loss, label='Training Loss', marker='o')\n",
    "plt.plot(range(1, len(val_loss) + 1), val_loss, label='Validation Loss', marker='o')\n",
    "\n",
    "# Etiquetas y título\n",
    "plt.xlabel('Epochs')\n",
    "plt.ylabel('Loss')\n",
    "plt.title('Epochs vs Loss')\n",
    "plt.legend()\n",
    "plt.grid(True)\n",
    "plt.show()"
   ]
  },
  {
   "cell_type": "markdown",
   "metadata": {},
   "source": [
    "### Visualización del Modelo con TSNE"
   ]
  },
  {
   "cell_type": "code",
   "execution_count": 66,
   "metadata": {},
   "outputs": [
    {
     "name": "stdout",
     "output_type": "stream",
     "text": [
      "Num samples: 7, Usando perplexity=6\n"
     ]
    },
    {
     "data": {
      "image/png": "[encoded data removed]",
      "text/plain": [
       "<Figure size 1000x800 with 1 Axes>"
      ]
     },
     "metadata": {},
     "output_type": "display_data"
    }
   ],
   "source": [
    "from sklearn.manifold import TSNE\n",
    "\n",
    "# Obtener las representaciones del modelo\n",
    "x_test = model_2.predict(test_dataset)  # Extrae los embeddings\n",
    "y_test = np.concatenate([y for _, y in test_dataset])  # Obtener etiquetas reales\n",
    "\n",
    "# Verificar el número de muestras\n",
    "num_samples = x_test.shape[0]\n",
    "perplexity_value = min(10, num_samples - 1)  # Ajustar perplexity dinámicamente\n",
    "\n",
    "print(f\"Num samples: {num_samples}, Usando perplexity={perplexity_value}\")\n",
    "\n",
    "# Aplicar t-SNE con un perplexity válido\n",
    "tsne = TSNE(n_components=2, random_state=42, perplexity=perplexity_value)\n",
    "x_test_tsne = tsne.fit_transform(x_test)\n",
    "\n",
    "# Visualización\n",
    "plt.figure(figsize=(10, 8))\n",
    "for i in np.unique(y_test):\n",
    "    idx = np.where(y_test == i)[0]\n",
    "    plt.scatter(x_test_tsne[idx, 0], x_test_tsne[idx, 1], label=f\"Clase {i}\")\n",
    "\n",
    "plt.title(\"Visualización t-SNE de los embeddings del conjunto de prueba\")\n",
    "plt.xlabel(\"Componente t-SNE 1\")\n",
    "plt.ylabel(\"Componente t-SNE 2\")\n",
    "plt.legend(title=\"Clases\")\n",
    "plt.grid(True)\n",
    "plt.show()"
   ]
  },
  {
   "cell_type": "markdown",
   "metadata": {},
   "source": [
    "## Comparación de modelos"
   ]
  },
  {
   "cell_type": "code",
   "execution_count": 43,
   "metadata": {},
   "outputs": [
    {
     "ename": "NameError",
     "evalue": "name 'X_test' is not defined",
     "output_type": "error",
     "traceback": [
      "\u001b[0;31m---------------------------------------------------------------------------\u001b[0m",
      "\u001b[0;31mNameError\u001b[0m                                 Traceback (most recent call last)",
      "Cell \u001b[0;32mIn[43], line 2\u001b[0m\n\u001b[1;32m      1\u001b[0m \u001b[38;5;66;03m# Evaluar los modelos en el conjunto de prueba\u001b[39;00m\n\u001b[0;32m----> 2\u001b[0m loss_1, acc_1 \u001b[38;5;241m=\u001b[39m model_1\u001b[38;5;241m.\u001b[39mevaluate(\u001b[43mX_test\u001b[49m, y_test)\n\u001b[1;32m      3\u001b[0m loss_2, acc_2 \u001b[38;5;241m=\u001b[39m model_2\u001b[38;5;241m.\u001b[39mevaluate(X_test, y_test)\n\u001b[1;32m      5\u001b[0m \u001b[38;5;28mprint\u001b[39m(\u001b[38;5;124mf\u001b[39m\u001b[38;5;124m\"\u001b[39m\u001b[38;5;124mKerasI3D - Loss: \u001b[39m\u001b[38;5;132;01m{\u001b[39;00mloss_1\u001b[38;5;132;01m}\u001b[39;00m\u001b[38;5;124m, Accuracy: \u001b[39m\u001b[38;5;132;01m{\u001b[39;00macc_1\u001b[38;5;132;01m}\u001b[39;00m\u001b[38;5;124m\"\u001b[39m)\n",
      "\u001b[0;31mNameError\u001b[0m: name 'X_test' is not defined"
     ]
    }
   ],
   "source": [
    "# Evaluar los modelos en el conjunto de prueba\n",
    "loss_1, acc_1 = model_1.evaluate(X_test, y_test)\n",
    "loss_2, acc_2 = model_2.evaluate(X_test, y_test)\n",
    "\n",
    "print(f\"KerasI3D - Loss: {loss_1}, Accuracy: {acc_1}\")\n",
    "print(f\"I3D_ConvLSTM - Loss: {loss_2}, Accuracy: {acc_2}\")"
   ]
  },
  {
   "cell_type": "code",
   "execution_count": null,
   "metadata": {},
   "outputs": [],
   "source": []
  },
  {
   "cell_type": "markdown",
   "metadata": {},
   "source": []
  }
 ],
 "metadata": {
  "kernelspec": {
   "display_name": "proyecto_i3d",
   "language": "python",
   "name": "python3"
  },
  "language_info": {
   "codemirror_mode": {
    "name": "ipython",
    "version": 3
   },
   "file_extension": ".py",
   "mimetype": "text/x-python",
   "name": "python",
   "nbconvert_exporter": "python",
   "pygments_lexer": "ipython3",
   "version": "3.9.21"
  }
 },
 "nbformat": 4,
 "nbformat_minor": 2
}
